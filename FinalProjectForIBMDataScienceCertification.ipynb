{
    "cells": [
        {
            "cell_type": "markdown",
            "metadata": {
                "collapsed": true
            },
            "source": "# Gather relevant data "
        },
        {
            "cell_type": "markdown",
            "metadata": {},
            "source": "## Webscrape demographic data "
        },
        {
            "cell_type": "markdown",
            "metadata": {},
            "source": "Import Relevant packages"
        },
        {
            "cell_type": "code",
            "execution_count": 1,
            "metadata": {},
            "outputs": [],
            "source": "import requests\nimport urllib.request\nimport time\nfrom bs4 import BeautifulSoup"
        },
        {
            "cell_type": "markdown",
            "metadata": {},
            "source": "Checks to confirm page exists"
        },
        {
            "cell_type": "code",
            "execution_count": 4,
            "metadata": {},
            "outputs": [
                {
                    "name": "stdout",
                    "output_type": "stream",
                    "text": "<Response [200]>\n"
                }
            ],
            "source": "url = 'https://www.zip-codes.com{}'\ncolumbus_branch ='/city/oh-columbus.asp'\n# reinforces integrity of the data collection\ntry:\n    response = requests.get(url.format(columbus_branch))\n    print(response)\nexcept:\n    print('Page does not exist')"
        },
        {
            "cell_type": "markdown",
            "metadata": {},
            "source": "Gathers relevant data on the page"
        },
        {
            "cell_type": "code",
            "execution_count": 5,
            "metadata": {},
            "outputs": [
                {
                    "name": "stdout",
                    "output_type": "stream",
                    "text": "<table border=\"0\" cellpadding=\"0\" cellspacing=\"0\" class=\"statTable\" id=\"tblZIP\" width=\"99%\">\n<tr><td class=\"label\"><strong>ZIP Code</strong></td><td><strong>Type</strong></td><td><strong>County</strong></td><td><strong>Population</strong></td><td><strong>Area Code(s)</strong></td></tr>\n<tr><td><a href=\"/zip-code/43081/zip-code-43081.asp\" style=\"text-decoration:underline;\" title=\"ZIP Code 43081, WESTERVILLE, OH\">ZIP Code 43081</a></td><td>Standard</td><td><a href=\"/county/oh-franklin.asp\">Franklin</a></td><td>55,991</td><td><a href=\"/area-code/area-code-614.asp\" title=\"Area Code 614\">614</a></td></tr><tr><td><a href=\"/zip-code/43085/zip-code-43085.asp\" style=\"text-decoration:underline;\" title=\"ZIP Code 43085, COLUMBUS, OH\">ZIP Code 43085</a></td><td>Standard</td><td><a href=\"/county/oh-franklin.asp\">Franklin</a></td><td>23,258</td><td><a href=\"/area-code/area-code-614.asp\" title=\"Area Code 614\">614</a> / <a href=\"/area-code/area-code-380.asp\" title=\"Area Code 380\">380</a> / <a href=\"/area-code/area-code-740.asp\" title=\"Area Code 740\">740</a></td></tr><tr><td><a href=\"/zip-code/43201/zip-code-43201.asp\" style=\"text-decoration:underline;\" title=\"ZIP Code 43201, COLUMBUS, OH\">ZIP Code 43201</a></td><td>Standard</td><td><a href=\"/county/oh-franklin.asp\">Franklin</a></td><td>35,495</td><td><a href=\"/area-code/area-code-614.asp\" title=\"Area Code 614\">614</a></td></tr><tr><td><a href=\"/zip-code/43202/zip-code-43202.asp\" style=\"text-decoration:underline;\" title=\"ZIP Code 43202, COLUMBUS, OH\">ZIP Code 43202</a></td><td>Standard</td><td><a href=\"/county/oh-franklin.asp\">Franklin</a></td><td>20,251</td><td><a href=\"/area-code/area-code-614.asp\" title=\"Area Code 614\">614</a></td></tr><tr><td><a href=\"/zip-code/43203/zip-code-43203.asp\" style=\"text-decoration:underline;\" title=\"ZIP Code 43203, COLUMBUS, OH\">ZIP Code 43203</a></td><td>Standard</td><td><a href=\"/county/oh-franklin.asp\">Franklin</a></td><td>8,108</td><td><a href=\"/area-code/area-code-614.asp\" title=\"Area Code 614\">614</a> / <a href=\"/area-code/area-code-380.asp\" title=\"Area Code 380\">380</a></td></tr><tr><td><a href=\"/zip-code/43204/zip-code-43204.asp\" style=\"text-decoration:underline;\" title=\"ZIP Code 43204, COLUMBUS, OH\">ZIP Code 43204</a></td><td>Standard</td><td><a href=\"/county/oh-franklin.asp\">Franklin</a></td><td>42,104</td><td><a href=\"/area-code/area-code-614.asp\" title=\"Area Code 614\">614</a></td></tr><tr><td><a href=\"/zip-code/43205/zip-code-43205.asp\" style=\"text-decoration:underline;\" title=\"ZIP Code 43205, COLUMBUS, OH\">ZIP Code 43205</a></td><td>Standard</td><td><a href=\"/county/oh-franklin.asp\">Franklin</a></td><td>12,272</td><td><a href=\"/area-code/area-code-614.asp\" title=\"Area Code 614\">614</a> / <a href=\"/area-code/area-code-380.asp\" title=\"Area Code 380\">380</a></td></tr><tr><td><a href=\"/zip-code/43206/zip-code-43206.asp\" style=\"text-decoration:underline;\" title=\"ZIP Code 43206, COLUMBUS, OH\">ZIP Code 43206</a></td><td>Standard</td><td><a href=\"/county/oh-franklin.asp\">Franklin</a></td><td>21,864</td><td><a href=\"/area-code/area-code-614.asp\" title=\"Area Code 614\">614</a></td></tr><tr><td><a href=\"/zip-code/43207/zip-code-43207.asp\" style=\"text-decoration:underline;\" title=\"ZIP Code 43207, COLUMBUS, OH\">ZIP Code 43207</a></td><td>Standard</td><td><a href=\"/county/oh-franklin.asp\">Franklin</a></td><td>45,144</td><td><a href=\"/area-code/area-code-614.asp\" title=\"Area Code 614\">614</a></td></tr><tr><td><a href=\"/zip-code/43209/zip-code-43209.asp\" style=\"text-decoration:underline;\" title=\"ZIP Code 43209, COLUMBUS, OH\">ZIP Code 43209</a></td><td>Standard</td><td><a href=\"/county/oh-franklin.asp\">Franklin</a></td><td>27,228</td><td><a href=\"/area-code/area-code-614.asp\" title=\"Area Code 614\">614</a></td></tr><tr><td><a href=\"/zip-code/43210/zip-code-43210.asp\" style=\"text-decoration:underline;\" title=\"ZIP Code 43210, COLUMBUS, OH\">ZIP Code 43210</a></td><td>Standard</td><td><a href=\"/county/oh-franklin.asp\">Franklin</a></td><td>9,432</td><td><a href=\"/area-code/area-code-614.asp\" title=\"Area Code 614\">614</a></td></tr><tr><td><a href=\"/zip-code/43211/zip-code-43211.asp\" style=\"text-decoration:underline;\" title=\"ZIP Code 43211, COLUMBUS, OH\">ZIP Code 43211</a></td><td>Standard</td><td><a href=\"/county/oh-franklin.asp\">Franklin</a></td><td>21,600</td><td><a href=\"/area-code/area-code-614.asp\" title=\"Area Code 614\">614</a></td></tr><tr><td><a href=\"/zip-code/43212/zip-code-43212.asp\" style=\"text-decoration:underline;\" title=\"ZIP Code 43212, COLUMBUS, OH\">ZIP Code 43212</a></td><td>Standard</td><td><a href=\"/county/oh-franklin.asp\">Franklin</a></td><td>18,551</td><td><a href=\"/area-code/area-code-614.asp\" title=\"Area Code 614\">614</a></td></tr><tr><td><a href=\"/zip-code/43213/zip-code-43213.asp\" style=\"text-decoration:underline;\" title=\"ZIP Code 43213, COLUMBUS, OH\">ZIP Code 43213</a></td><td>Standard</td><td><a href=\"/county/oh-franklin.asp\">Franklin</a></td><td>30,444</td><td><a href=\"/area-code/area-code-614.asp\" title=\"Area Code 614\">614</a></td></tr><tr><td><a href=\"/zip-code/43214/zip-code-43214.asp\" style=\"text-decoration:underline;\" title=\"ZIP Code 43214, COLUMBUS, OH\">ZIP Code 43214</a></td><td>Standard</td><td><a href=\"/county/oh-franklin.asp\">Franklin</a></td><td>24,650</td><td><a href=\"/area-code/area-code-614.asp\" title=\"Area Code 614\">614</a></td></tr><tr><td><a href=\"/zip-code/43215/zip-code-43215.asp\" style=\"text-decoration:underline;\" title=\"ZIP Code 43215, COLUMBUS, OH\">ZIP Code 43215</a></td><td>Standard</td><td><a href=\"/county/oh-franklin.asp\">Franklin</a></td><td>12,790</td><td><a href=\"/area-code/area-code-614.asp\" title=\"Area Code 614\">614</a> / <a href=\"/area-code/area-code-380.asp\" title=\"Area Code 380\">380</a></td></tr><tr><td><a href=\"/zip-code/43216/zip-code-43216.asp\" style=\"text-decoration:underline;\" title=\"ZIP Code 43216, COLUMBUS, OH\">ZIP Code 43216</a></td><td>P.O. Box</td><td><a href=\"/county/oh-franklin.asp\">Franklin</a></td><td>0</td><td><a href=\"/area-code/area-code-614.asp\" title=\"Area Code 614\">614</a> / <a href=\"/area-code/area-code-380.asp\" title=\"Area Code 380\">380</a></td></tr><tr><td><a href=\"/zip-code/43217/zip-code-43217.asp\" style=\"text-decoration:underline;\" title=\"ZIP Code 43217, COLUMBUS, OH\">ZIP Code 43217</a></td><td>Standard</td><td><a href=\"/county/oh-franklin.asp\">Franklin</a></td><td>2,602</td><td><a href=\"/area-code/area-code-614.asp\" title=\"Area Code 614\">614</a></td></tr><tr><td><a href=\"/zip-code/43218/zip-code-43218.asp\" style=\"text-decoration:underline;\" title=\"ZIP Code 43218, COLUMBUS, OH\">ZIP Code 43218</a></td><td>P.O. Box</td><td><a href=\"/county/oh-franklin.asp\">Franklin</a></td><td>0</td><td><a href=\"/area-code/area-code-614.asp\" title=\"Area Code 614\">614</a> / <a href=\"/area-code/area-code-380.asp\" title=\"Area Code 380\">380</a></td></tr><tr><td><a href=\"/zip-code/43219/zip-code-43219.asp\" style=\"text-decoration:underline;\" title=\"ZIP Code 43219, COLUMBUS, OH\">ZIP Code 43219</a></td><td>Standard</td><td><a href=\"/county/oh-franklin.asp\">Franklin</a></td><td>27,123</td><td><a href=\"/area-code/area-code-614.asp\" title=\"Area Code 614\">614</a></td></tr><tr><td><a href=\"/zip-code/43220/zip-code-43220.asp\" style=\"text-decoration:underline;\" title=\"ZIP Code 43220, COLUMBUS, OH\">ZIP Code 43220</a></td><td>Standard</td><td><a href=\"/county/oh-franklin.asp\">Franklin</a></td><td>24,989</td><td><a href=\"/area-code/area-code-614.asp\" title=\"Area Code 614\">614</a></td></tr><tr><td><a href=\"/zip-code/43221/zip-code-43221.asp\" style=\"text-decoration:underline;\" title=\"ZIP Code 43221, COLUMBUS, OH\">ZIP Code 43221</a></td><td>Standard</td><td><a href=\"/county/oh-franklin.asp\">Franklin</a></td><td>31,265</td><td><a href=\"/area-code/area-code-614.asp\" title=\"Area Code 614\">614</a></td></tr><tr><td><a href=\"/zip-code/43222/zip-code-43222.asp\" style=\"text-decoration:underline;\" title=\"ZIP Code 43222, COLUMBUS, OH\">ZIP Code 43222</a></td><td>Standard</td><td><a href=\"/county/oh-franklin.asp\">Franklin</a></td><td>4,617</td><td><a href=\"/area-code/area-code-614.asp\" title=\"Area Code 614\">614</a> / <a href=\"/area-code/area-code-380.asp\" title=\"Area Code 380\">380</a></td></tr><tr><td><a href=\"/zip-code/43223/zip-code-43223.asp\" style=\"text-decoration:underline;\" title=\"ZIP Code 43223, COLUMBUS, OH\">ZIP Code 43223</a></td><td>Standard</td><td><a href=\"/county/oh-franklin.asp\">Franklin</a></td><td>27,366</td><td><a href=\"/area-code/area-code-614.asp\" title=\"Area Code 614\">614</a></td></tr><tr><td><a href=\"/zip-code/43224/zip-code-43224.asp\" style=\"text-decoration:underline;\" title=\"ZIP Code 43224, COLUMBUS, OH\">ZIP Code 43224</a></td><td>Standard</td><td><a href=\"/county/oh-franklin.asp\">Franklin</a></td><td>38,699</td><td><a href=\"/area-code/area-code-614.asp\" title=\"Area Code 614\">614</a></td></tr><tr><td><a href=\"/zip-code/43226/zip-code-43226.asp\" style=\"text-decoration:underline;\" title=\"ZIP Code 43226, COLUMBUS, OH\">ZIP Code 43226</a></td><td>P.O. Box</td><td><a href=\"/county/oh-franklin.asp\">Franklin</a></td><td>0</td><td><a href=\"/area-code/area-code-614.asp\" title=\"Area Code 614\">614</a> / <a href=\"/area-code/area-code-380.asp\" title=\"Area Code 380\">380</a></td></tr><tr><td><a href=\"/zip-code/43227/zip-code-43227.asp\" style=\"text-decoration:underline;\" title=\"ZIP Code 43227, COLUMBUS, OH\">ZIP Code 43227</a></td><td>Standard</td><td><a href=\"/county/oh-franklin.asp\">Franklin</a></td><td>21,340</td><td><a href=\"/area-code/area-code-614.asp\" title=\"Area Code 614\">614</a></td></tr><tr><td><a href=\"/zip-code/43228/zip-code-43228.asp\" style=\"text-decoration:underline;\" title=\"ZIP Code 43228, COLUMBUS, OH\">ZIP Code 43228</a></td><td>Standard</td><td><a href=\"/county/oh-franklin.asp\">Franklin</a></td><td>50,737</td><td><a href=\"/area-code/area-code-614.asp\" title=\"Area Code 614\">614</a></td></tr><tr><td><a href=\"/zip-code/43229/zip-code-43229.asp\" style=\"text-decoration:underline;\" title=\"ZIP Code 43229, COLUMBUS, OH\">ZIP Code 43229</a></td><td>Standard</td><td><a href=\"/county/oh-franklin.asp\">Franklin</a></td><td>46,347</td><td><a href=\"/area-code/area-code-614.asp\" title=\"Area Code 614\">614</a> / <a href=\"/area-code/area-code-740.asp\" title=\"Area Code 740\">740</a></td></tr><tr><td><a href=\"/zip-code/43230/zip-code-43230.asp\" style=\"text-decoration:underline;\" title=\"ZIP Code 43230, COLUMBUS, OH\">ZIP Code 43230</a></td><td>Standard</td><td><a href=\"/county/oh-franklin.asp\">Franklin</a></td><td>51,161</td><td><a href=\"/area-code/area-code-614.asp\" title=\"Area Code 614\">614</a></td></tr><tr><td><a href=\"/zip-code/43231/zip-code-43231.asp\" style=\"text-decoration:underline;\" title=\"ZIP Code 43231, COLUMBUS, OH\">ZIP Code 43231</a></td><td>Standard</td><td><a href=\"/county/oh-franklin.asp\">Franklin</a></td><td>19,685</td><td><a href=\"/area-code/area-code-614.asp\" title=\"Area Code 614\">614</a></td></tr><tr><td><a href=\"/zip-code/43232/zip-code-43232.asp\" style=\"text-decoration:underline;\" title=\"ZIP Code 43232, COLUMBUS, OH\">ZIP Code 43232</a></td><td>Standard</td><td><a href=\"/county/oh-franklin.asp\">Franklin</a></td><td>42,201</td><td><a href=\"/area-code/area-code-614.asp\" title=\"Area Code 614\">614</a></td></tr><tr><td><a href=\"/zip-code/43234/zip-code-43234.asp\" style=\"text-decoration:underline;\" title=\"ZIP Code 43234, COLUMBUS, OH\">ZIP Code 43234</a></td><td>P.O. Box</td><td><a href=\"/county/oh-franklin.asp\">Franklin</a></td><td>0</td><td><a href=\"/area-code/area-code-614.asp\" title=\"Area Code 614\">614</a> / <a href=\"/area-code/area-code-380.asp\" title=\"Area Code 380\">380</a></td></tr><tr><td><a href=\"/zip-code/43235/zip-code-43235.asp\" style=\"text-decoration:underline;\" title=\"ZIP Code 43235, COLUMBUS, OH\">ZIP Code 43235</a></td><td>Standard</td><td><a href=\"/county/oh-franklin.asp\">Franklin</a></td><td>38,493</td><td><a href=\"/area-code/area-code-614.asp\" title=\"Area Code 614\">614</a></td></tr><tr><td><a href=\"/zip-code/43236/zip-code-43236.asp\" style=\"text-decoration:underline;\" title=\"ZIP Code 43236, COLUMBUS, OH\">ZIP Code 43236</a></td><td>P.O. Box</td><td><a href=\"/county/oh-franklin.asp\">Franklin</a></td><td>0</td><td><a href=\"/area-code/area-code-614.asp\" title=\"Area Code 614\">614</a> / <a href=\"/area-code/area-code-380.asp\" title=\"Area Code 380\">380</a></td></tr><tr><td><a href=\"/zip-code/43240/zip-code-43240.asp\" style=\"text-decoration:underline;\" title=\"ZIP Code 43240, COLUMBUS, OH\">ZIP Code 43240</a></td><td>Standard</td><td><a href=\"/county/oh-delaware.asp\">Delaware</a></td><td>3,469</td><td><a href=\"/area-code/area-code-614.asp\" title=\"Area Code 614\">614</a> / <a href=\"/area-code/area-code-740.asp\" title=\"Area Code 740\">740</a></td></tr><tr><td><a href=\"/zip-code/43251/zip-code-43251.asp\" style=\"text-decoration:underline;\" title=\"ZIP Code 43251, COLUMBUS, OH\">ZIP Code 43251</a></td><td>Unique</td><td><a href=\"/county/oh-franklin.asp\">Franklin</a></td><td>0</td><td><a href=\"/area-code/area-code-614.asp\" title=\"Area Code 614\">614</a> / <a href=\"/area-code/area-code-380.asp\" title=\"Area Code 380\">380</a></td></tr><tr><td><a href=\"/zip-code/43260/zip-code-43260.asp\" style=\"text-decoration:underline;\" title=\"ZIP Code 43260, COLUMBUS, OH\">ZIP Code 43260</a></td><td>Unique</td><td><a href=\"/county/oh-franklin.asp\">Franklin</a></td><td>0</td><td><a href=\"/area-code/area-code-614.asp\" title=\"Area Code 614\">614</a> / <a href=\"/area-code/area-code-380.asp\" title=\"Area Code 380\">380</a></td></tr><tr><td><a href=\"/zip-code/43266/zip-code-43266.asp\" style=\"text-decoration:underline;\" title=\"ZIP Code 43266, COLUMBUS, OH\">ZIP Code 43266</a></td><td>Unique</td><td><a href=\"/county/oh-franklin.asp\">Franklin</a></td><td>0</td><td><a href=\"/area-code/area-code-614.asp\" title=\"Area Code 614\">614</a> / <a href=\"/area-code/area-code-380.asp\" title=\"Area Code 380\">380</a></td></tr><tr><td><a href=\"/zip-code/43268/zip-code-43268.asp\" style=\"text-decoration:underline;\" title=\"ZIP Code 43268, COLUMBUS, OH\">ZIP Code 43268</a></td><td>Unique</td><td><a href=\"/county/oh-franklin.asp\">Franklin</a></td><td>0</td><td><a href=\"/area-code/area-code-614.asp\" title=\"Area Code 614\">614</a> / <a href=\"/area-code/area-code-380.asp\" title=\"Area Code 380\">380</a></td></tr><tr><td><a href=\"/zip-code/43270/zip-code-43270.asp\" style=\"text-decoration:underline;\" title=\"ZIP Code 43270, COLUMBUS, OH\">ZIP Code 43270</a></td><td>Unique</td><td><a href=\"/county/oh-franklin.asp\">Franklin</a></td><td>0</td><td><a href=\"/area-code/area-code-614.asp\" title=\"Area Code 614\">614</a> / <a href=\"/area-code/area-code-380.asp\" title=\"Area Code 380\">380</a></td></tr><tr><td><a href=\"/zip-code/43271/zip-code-43271.asp\" style=\"text-decoration:underline;\" title=\"ZIP Code 43271, COLUMBUS, OH\">ZIP Code 43271</a></td><td>Unique</td><td><a href=\"/county/oh-franklin.asp\">Franklin</a></td><td>0</td><td><a href=\"/area-code/area-code-614.asp\" title=\"Area Code 614\">614</a> / <a href=\"/area-code/area-code-380.asp\" title=\"Area Code 380\">380</a></td></tr><tr><td><a href=\"/zip-code/43272/zip-code-43272.asp\" style=\"text-decoration:underline;\" title=\"ZIP Code 43272, COLUMBUS, OH\">ZIP Code 43272</a></td><td>Unique</td><td><a href=\"/county/oh-franklin.asp\">Franklin</a></td><td>0</td><td><a href=\"/area-code/area-code-614.asp\" title=\"Area Code 614\">614</a> / <a href=\"/area-code/area-code-380.asp\" title=\"Area Code 380\">380</a></td></tr><tr><td><a href=\"/zip-code/43279/zip-code-43279.asp\" style=\"text-decoration:underline;\" title=\"ZIP Code 43279, COLUMBUS, OH\">ZIP Code 43279</a></td><td>Unique</td><td><a href=\"/county/oh-franklin.asp\">Franklin</a></td><td>0</td><td><a href=\"/area-code/area-code-614.asp\" title=\"Area Code 614\">614</a> / <a href=\"/area-code/area-code-380.asp\" title=\"Area Code 380\">380</a></td></tr><tr><td><a href=\"/zip-code/43287/zip-code-43287.asp\" style=\"text-decoration:underline;\" title=\"ZIP Code 43287, COLUMBUS, OH\">ZIP Code 43287</a></td><td>Unique</td><td><a href=\"/county/oh-franklin.asp\">Franklin</a></td><td>0</td><td><a href=\"/area-code/area-code-614.asp\" title=\"Area Code 614\">614</a> / <a href=\"/area-code/area-code-380.asp\" title=\"Area Code 380\">380</a></td></tr><tr><td><a href=\"/zip-code/43291/zip-code-43291.asp\" style=\"text-decoration:underline;\" title=\"ZIP Code 43291, COLUMBUS, OH\">ZIP Code 43291</a></td><td>Unique</td><td><a href=\"/county/oh-franklin.asp\">Franklin</a></td><td>0</td><td><a href=\"/area-code/area-code-614.asp\" title=\"Area Code 614\">614</a> / <a href=\"/area-code/area-code-380.asp\" title=\"Area Code 380\">380</a></td></tr></table>\n"
                }
            ],
            "source": "if response.status_code == 200:\n    soup = BeautifulSoup(response.text, 'html.parser')\n    tbl = soup.table.tr.find_all('td')[1].find_all('table')[1]\n    print(tbl)"
        },
        {
            "cell_type": "markdown",
            "metadata": {},
            "source": "Parses through and gathers data"
        },
        {
            "cell_type": "code",
            "execution_count": 9,
            "metadata": {},
            "outputs": [
                {
                    "name": "stdout",
                    "output_type": "stream",
                    "text": "<Response [200]>\nURL not found\nURL not found\n<Response [200]>\n<Response [200]>\nURL not found\nURL not found\nURL not found\nURL not found\n<Response [200]>\nURL not found\nURL not found\n<Response [200]>\n<Response [200]>\n<Response [200]>\nURL not found\n<Response [200]>\nURL not found\n<Response [200]>\nURL not found\nURL not found\nURL not found\nURL not found\n<Response [200]>\nURL not found\n<Response [200]>\nURL not found\n<Response [200]>\nURL not found\nURL not found\n<Response [200]>\n"
                }
            ],
            "source": "zip_url = '/zip-code/{}/zip-code-{}.asp'\nfor row in tbl.find_all('tr'):\n    #checks for header\n    if row.find_all('td')[0].string != 'ZIP Code':\n        if row.find_all('td')[1].string == 'Standard':\n            zip_code = row.find_all('td')[0].string\n            try:\n                zip_response = requests.get(url.format(zip_url.format(zip_code,zip_code)))\n                print(zip_response)\n            except:\n                print('URL not found')\n            finally:\n                print(zip_code)\n            "
        },
        {
            "cell_type": "markdown",
            "metadata": {},
            "source": "## Location data for Hospitals and Pharmacies"
        },
        {
            "cell_type": "markdown",
            "metadata": {},
            "source": "Get relevant packages"
        },
        {
            "cell_type": "code",
            "execution_count": null,
            "metadata": {},
            "outputs": [
                {
                    "name": "stdout",
                    "output_type": "stream",
                    "text": "Solving environment: done\n\n## Package Plan ##\n\n  environment location: /opt/conda/envs/Python36\n\n  added / updated specs: \n    - geopy\n\n\nThe following packages will be downloaded:\n\n    package                    |            build\n    ---------------------------|-----------------\n    openssl-1.1.1g             |       h516909a_1         2.1 MB  conda-forge\n    python_abi-3.6             |          1_cp36m           4 KB  conda-forge\n    geographiclib-1.50         |             py_0          34 KB  conda-forge\n    ca-certificates-2020.6.20  |       hecda079_0         145 KB  conda-forge\n    geopy-2.0.0                |     pyh9f0ad1d_0          63 KB  conda-forge\n    certifi-2020.6.20          |   py36h9f0ad1d_0         151 KB  conda-forge\n    ------------------------------------------------------------\n                                           Total:         2.5 MB\n\nThe following NEW packages will be INSTALLED:\n\n    geographiclib:   1.50-py_0          conda-forge\n    geopy:           2.0.0-pyh9f0ad1d_0 conda-forge\n    python_abi:      3.6-1_cp36m        conda-forge\n\nThe following packages will be UPDATED:\n\n    certifi:         2020.6.20-py36_0               --> 2020.6.20-py36h9f0ad1d_0 conda-forge\n    openssl:         1.1.1g-h7b6447c_0              --> 1.1.1g-h516909a_1        conda-forge\n\nThe following packages will be DOWNGRADED:\n\n    ca-certificates: 2020.6.24-0                    --> 2020.6.20-hecda079_0     conda-forge\n\n\nDownloading and Extracting Packages\nopenssl-1.1.1g       | 2.1 MB    | ##################################### | 100% \npython_abi-3.6       | 4 KB      | ##################################### | 100% \ngeographiclib-1.50   | 34 KB     | ##################################### | 100% \nca-certificates-2020 | 145 KB    | ##################################### | 100% \ngeopy-2.0.0          | 63 KB     | ##################################### | 100% \ncertifi-2020.6.20    | 151 KB    | ##################################### | 100% \nPreparing transaction: done\nVerifying transaction: done\nExecuting transaction: done\nSolving environment: / "
                }
            ],
            "source": "import requests # library to handle requests\nimport pandas as pd # library for data analsysis\nimport numpy as np # library to handle data in a vectorized manner\nimport random # library for random number generation\n\n#!conda install -c conda-forge geopy --yes \nfrom geopy.geocoders import Nominatim # module to convert an address into latitude and longitude values\n\n# libraries for displaying images\nfrom IPython.display import Image \nfrom IPython.core.display import HTML \n    \n# tranforming json file into a pandas dataframe library\nfrom pandas.io.json import json_normalize\n\n#!conda install -c conda-forge folium=0.5.0 --yes\nimport folium # plotting library\n\nprint('Folium installed')\nprint('Libraries imported.')"
        },
        {
            "cell_type": "markdown",
            "metadata": {},
            "source": "Credentials for foursquare_API"
        },
        {
            "cell_type": "code",
            "execution_count": null,
            "metadata": {},
            "outputs": [],
            "source": "# The code was removed by Watson Studio for sharing."
        },
        {
            "cell_type": "code",
            "execution_count": null,
            "metadata": {},
            "outputs": [],
            "source": ""
        }
    ],
    "metadata": {
        "kernelspec": {
            "display_name": "Python 3.6",
            "language": "python",
            "name": "python3"
        },
        "language_info": {
            "codemirror_mode": {
                "name": "ipython",
                "version": 3
            },
            "file_extension": ".py",
            "mimetype": "text/x-python",
            "name": "python",
            "nbconvert_exporter": "python",
            "pygments_lexer": "ipython3",
            "version": "3.6.9"
        }
    },
    "nbformat": 4,
    "nbformat_minor": 1
}