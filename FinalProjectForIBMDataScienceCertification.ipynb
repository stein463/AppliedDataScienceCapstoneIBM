{
 "cells": [
  {
   "source": [
    "***\n",
    "#  Part 1: Data Retrieval\n",
    "***"
   ],
   "cell_type": "markdown",
   "metadata": {}
  },
  {
   "cell_type": "markdown",
   "metadata": {},
   "source": [
    "# Gather relevant data "
   ]
  },
  {
   "cell_type": "markdown",
   "metadata": {},
   "source": [
    "## Webscrape demographic data "
   ]
  },
  {
   "cell_type": "markdown",
   "metadata": {},
   "source": [
    "Import Relevant packages"
   ]
  },
  {
   "cell_type": "code",
   "execution_count": 1,
   "metadata": {},
   "outputs": [],
   "source": [
    "import pandas as pd\n",
    "import numpy as np\n",
    "import requests\n",
    "import urllib.request\n",
    "import time\n",
    "from bs4 import BeautifulSoup\n",
    "from pandasql import sqldf\n",
    "import seaborn as sns\n",
    "from matplotlib import pyplot as plt"
   ]
  },
  {
   "cell_type": "markdown",
   "metadata": {},
   "source": [
    "Checks to confirm page exists"
   ]
  },
  {
   "cell_type": "code",
   "execution_count": 2,
   "metadata": {
    "tags": []
   },
   "outputs": [
    {
     "output_type": "stream",
     "name": "stdout",
     "text": [
      "<Response [200]>\n"
     ]
    }
   ],
   "source": [
    "url = 'https://www.zip-codes.com{}'\n",
    "columbus_branch ='/city/oh-columbus.asp'\n",
    "# reinforces integrity of the data collection\n",
    "accessed = False\n",
    "while accessed == False:\n",
    "    try:\n",
    "        response = requests.get(url.format(columbus_branch))\n",
    "        print(response)\n",
    "        accessed = True\n",
    "    except:\n",
    "        accesssed = False"
   ]
  },
  {
   "cell_type": "markdown",
   "metadata": {},
   "source": [
    "Gathers relevant data on the page"
   ]
  },
  {
   "cell_type": "code",
   "execution_count": 3,
   "metadata": {
    "tags": []
   },
   "outputs": [
    {
     "output_type": "stream",
     "name": "stdout",
     "text": [
      "<table border=\"0\" cellpadding=\"0\" cellspacing=\"0\" class=\"statTable\" id=\"tblZIP\" width=\"99%\">\n<tr><td class=\"label\"><strong>ZIP Code</strong></td><td><strong>Type</strong></td><td><strong>County</strong></td><td><strong>Population</strong></td><td><strong>Area Code(s)</strong></td></tr>\n<tr><td><a href=\"/zip-code/43081/zip-code-43081.asp\" style=\"text-decoration:underline;\" title=\"ZIP Code 43081, WESTERVILLE, OH\">ZIP Code 43081</a></td><td>Standard</td><td><a href=\"/county/oh-franklin.asp\">Franklin</a></td><td>55,991</td><td><a href=\"/area-code/area-code-614.asp\" title=\"Area Code 614\">614</a></td></tr><tr><td><a href=\"/zip-code/43085/zip-code-43085.asp\" style=\"text-decoration:underline;\" title=\"ZIP Code 43085, COLUMBUS, OH\">ZIP Code 43085</a></td><td>Standard</td><td><a href=\"/county/oh-franklin.asp\">Franklin</a></td><td>23,258</td><td><a href=\"/area-code/area-code-614.asp\" title=\"Area Code 614\">614</a> / <a href=\"/area-code/area-code-380.asp\" title=\"Area Code 380\">380</a> / <a href=\"/area-code/area-code-740.asp\" title=\"Area Code 740\">740</a></td></tr><tr><td><a href=\"/zip-code/43201/zip-code-43201.asp\" style=\"text-decoration:underline;\" title=\"ZIP Code 43201, COLUMBUS, OH\">ZIP Code 43201</a></td><td>Standard</td><td><a href=\"/county/oh-franklin.asp\">Franklin</a></td><td>35,495</td><td><a href=\"/area-code/area-code-614.asp\" title=\"Area Code 614\">614</a></td></tr><tr><td><a href=\"/zip-code/43202/zip-code-43202.asp\" style=\"text-decoration:underline;\" title=\"ZIP Code 43202, COLUMBUS, OH\">ZIP Code 43202</a></td><td>Standard</td><td><a href=\"/county/oh-franklin.asp\">Franklin</a></td><td>20,251</td><td><a href=\"/area-code/area-code-614.asp\" title=\"Area Code 614\">614</a></td></tr><tr><td><a href=\"/zip-code/43203/zip-code-43203.asp\" style=\"text-decoration:underline;\" title=\"ZIP Code 43203, COLUMBUS, OH\">ZIP Code 43203</a></td><td>Standard</td><td><a href=\"/county/oh-franklin.asp\">Franklin</a></td><td>8,108</td><td><a href=\"/area-code/area-code-614.asp\" title=\"Area Code 614\">614</a> / <a href=\"/area-code/area-code-380.asp\" title=\"Area Code 380\">380</a></td></tr><tr><td><a href=\"/zip-code/43204/zip-code-43204.asp\" style=\"text-decoration:underline;\" title=\"ZIP Code 43204, COLUMBUS, OH\">ZIP Code 43204</a></td><td>Standard</td><td><a href=\"/county/oh-franklin.asp\">Franklin</a></td><td>42,104</td><td><a href=\"/area-code/area-code-614.asp\" title=\"Area Code 614\">614</a></td></tr><tr><td><a href=\"/zip-code/43205/zip-code-43205.asp\" style=\"text-decoration:underline;\" title=\"ZIP Code 43205, COLUMBUS, OH\">ZIP Code 43205</a></td><td>Standard</td><td><a href=\"/county/oh-franklin.asp\">Franklin</a></td><td>12,272</td><td><a href=\"/area-code/area-code-614.asp\" title=\"Area Code 614\">614</a> / <a href=\"/area-code/area-code-380.asp\" title=\"Area Code 380\">380</a></td></tr><tr><td><a href=\"/zip-code/43206/zip-code-43206.asp\" style=\"text-decoration:underline;\" title=\"ZIP Code 43206, COLUMBUS, OH\">ZIP Code 43206</a></td><td>Standard</td><td><a href=\"/county/oh-franklin.asp\">Franklin</a></td><td>21,864</td><td><a href=\"/area-code/area-code-614.asp\" title=\"Area Code 614\">614</a></td></tr><tr><td><a href=\"/zip-code/43207/zip-code-43207.asp\" style=\"text-decoration:underline;\" title=\"ZIP Code 43207, COLUMBUS, OH\">ZIP Code 43207</a></td><td>Standard</td><td><a href=\"/county/oh-franklin.asp\">Franklin</a></td><td>45,144</td><td><a href=\"/area-code/area-code-614.asp\" title=\"Area Code 614\">614</a></td></tr><tr><td><a href=\"/zip-code/43209/zip-code-43209.asp\" style=\"text-decoration:underline;\" title=\"ZIP Code 43209, COLUMBUS, OH\">ZIP Code 43209</a></td><td>Standard</td><td><a href=\"/county/oh-franklin.asp\">Franklin</a></td><td>27,228</td><td><a href=\"/area-code/area-code-614.asp\" title=\"Area Code 614\">614</a></td></tr><tr><td><a href=\"/zip-code/43210/zip-code-43210.asp\" style=\"text-decoration:underline;\" title=\"ZIP Code 43210, COLUMBUS, OH\">ZIP Code 43210</a></td><td>Standard</td><td><a href=\"/county/oh-franklin.asp\">Franklin</a></td><td>9,432</td><td><a href=\"/area-code/area-code-614.asp\" title=\"Area Code 614\">614</a></td></tr><tr><td><a href=\"/zip-code/43211/zip-code-43211.asp\" style=\"text-decoration:underline;\" title=\"ZIP Code 43211, COLUMBUS, OH\">ZIP Code 43211</a></td><td>Standard</td><td><a href=\"/county/oh-franklin.asp\">Franklin</a></td><td>21,600</td><td><a href=\"/area-code/area-code-614.asp\" title=\"Area Code 614\">614</a></td></tr><tr><td><a href=\"/zip-code/43212/zip-code-43212.asp\" style=\"text-decoration:underline;\" title=\"ZIP Code 43212, COLUMBUS, OH\">ZIP Code 43212</a></td><td>Standard</td><td><a href=\"/county/oh-franklin.asp\">Franklin</a></td><td>18,551</td><td><a href=\"/area-code/area-code-614.asp\" title=\"Area Code 614\">614</a></td></tr><tr><td><a href=\"/zip-code/43213/zip-code-43213.asp\" style=\"text-decoration:underline;\" title=\"ZIP Code 43213, COLUMBUS, OH\">ZIP Code 43213</a></td><td>Standard</td><td><a href=\"/county/oh-franklin.asp\">Franklin</a></td><td>30,444</td><td><a href=\"/area-code/area-code-614.asp\" title=\"Area Code 614\">614</a></td></tr><tr><td><a href=\"/zip-code/43214/zip-code-43214.asp\" style=\"text-decoration:underline;\" title=\"ZIP Code 43214, COLUMBUS, OH\">ZIP Code 43214</a></td><td>Standard</td><td><a href=\"/county/oh-franklin.asp\">Franklin</a></td><td>24,650</td><td><a href=\"/area-code/area-code-614.asp\" title=\"Area Code 614\">614</a></td></tr><tr><td><a href=\"/zip-code/43215/zip-code-43215.asp\" style=\"text-decoration:underline;\" title=\"ZIP Code 43215, COLUMBUS, OH\">ZIP Code 43215</a></td><td>Standard</td><td><a href=\"/county/oh-franklin.asp\">Franklin</a></td><td>12,790</td><td><a href=\"/area-code/area-code-614.asp\" title=\"Area Code 614\">614</a> / <a href=\"/area-code/area-code-380.asp\" title=\"Area Code 380\">380</a></td></tr><tr><td><a href=\"/zip-code/43216/zip-code-43216.asp\" style=\"text-decoration:underline;\" title=\"ZIP Code 43216, COLUMBUS, OH\">ZIP Code 43216</a></td><td>P.O. Box</td><td><a href=\"/county/oh-franklin.asp\">Franklin</a></td><td>0</td><td><a href=\"/area-code/area-code-614.asp\" title=\"Area Code 614\">614</a> / <a href=\"/area-code/area-code-380.asp\" title=\"Area Code 380\">380</a></td></tr><tr><td><a href=\"/zip-code/43217/zip-code-43217.asp\" style=\"text-decoration:underline;\" title=\"ZIP Code 43217, COLUMBUS, OH\">ZIP Code 43217</a></td><td>Standard</td><td><a href=\"/county/oh-franklin.asp\">Franklin</a></td><td>2,602</td><td><a href=\"/area-code/area-code-614.asp\" title=\"Area Code 614\">614</a></td></tr><tr><td><a href=\"/zip-code/43218/zip-code-43218.asp\" style=\"text-decoration:underline;\" title=\"ZIP Code 43218, COLUMBUS, OH\">ZIP Code 43218</a></td><td>P.O. Box</td><td><a href=\"/county/oh-franklin.asp\">Franklin</a></td><td>0</td><td><a href=\"/area-code/area-code-614.asp\" title=\"Area Code 614\">614</a> / <a href=\"/area-code/area-code-380.asp\" title=\"Area Code 380\">380</a></td></tr><tr><td><a href=\"/zip-code/43219/zip-code-43219.asp\" style=\"text-decoration:underline;\" title=\"ZIP Code 43219, COLUMBUS, OH\">ZIP Code 43219</a></td><td>Standard</td><td><a href=\"/county/oh-franklin.asp\">Franklin</a></td><td>27,123</td><td><a href=\"/area-code/area-code-614.asp\" title=\"Area Code 614\">614</a></td></tr><tr><td><a href=\"/zip-code/43220/zip-code-43220.asp\" style=\"text-decoration:underline;\" title=\"ZIP Code 43220, COLUMBUS, OH\">ZIP Code 43220</a></td><td>Standard</td><td><a href=\"/county/oh-franklin.asp\">Franklin</a></td><td>24,989</td><td><a href=\"/area-code/area-code-614.asp\" title=\"Area Code 614\">614</a></td></tr><tr><td><a href=\"/zip-code/43221/zip-code-43221.asp\" style=\"text-decoration:underline;\" title=\"ZIP Code 43221, COLUMBUS, OH\">ZIP Code 43221</a></td><td>Standard</td><td><a href=\"/county/oh-franklin.asp\">Franklin</a></td><td>31,265</td><td><a href=\"/area-code/area-code-614.asp\" title=\"Area Code 614\">614</a></td></tr><tr><td><a href=\"/zip-code/43222/zip-code-43222.asp\" style=\"text-decoration:underline;\" title=\"ZIP Code 43222, COLUMBUS, OH\">ZIP Code 43222</a></td><td>Standard</td><td><a href=\"/county/oh-franklin.asp\">Franklin</a></td><td>4,617</td><td><a href=\"/area-code/area-code-614.asp\" title=\"Area Code 614\">614</a> / <a href=\"/area-code/area-code-380.asp\" title=\"Area Code 380\">380</a></td></tr><tr><td><a href=\"/zip-code/43223/zip-code-43223.asp\" style=\"text-decoration:underline;\" title=\"ZIP Code 43223, COLUMBUS, OH\">ZIP Code 43223</a></td><td>Standard</td><td><a href=\"/county/oh-franklin.asp\">Franklin</a></td><td>27,366</td><td><a href=\"/area-code/area-code-614.asp\" title=\"Area Code 614\">614</a></td></tr><tr><td><a href=\"/zip-code/43224/zip-code-43224.asp\" style=\"text-decoration:underline;\" title=\"ZIP Code 43224, COLUMBUS, OH\">ZIP Code 43224</a></td><td>Standard</td><td><a href=\"/county/oh-franklin.asp\">Franklin</a></td><td>38,699</td><td><a href=\"/area-code/area-code-614.asp\" title=\"Area Code 614\">614</a></td></tr><tr><td><a href=\"/zip-code/43226/zip-code-43226.asp\" style=\"text-decoration:underline;\" title=\"ZIP Code 43226, COLUMBUS, OH\">ZIP Code 43226</a></td><td>P.O. Box</td><td><a href=\"/county/oh-franklin.asp\">Franklin</a></td><td>0</td><td><a href=\"/area-code/area-code-614.asp\" title=\"Area Code 614\">614</a> / <a href=\"/area-code/area-code-380.asp\" title=\"Area Code 380\">380</a></td></tr><tr><td><a href=\"/zip-code/43227/zip-code-43227.asp\" style=\"text-decoration:underline;\" title=\"ZIP Code 43227, COLUMBUS, OH\">ZIP Code 43227</a></td><td>Standard</td><td><a href=\"/county/oh-franklin.asp\">Franklin</a></td><td>21,340</td><td><a href=\"/area-code/area-code-614.asp\" title=\"Area Code 614\">614</a></td></tr><tr><td><a href=\"/zip-code/43228/zip-code-43228.asp\" style=\"text-decoration:underline;\" title=\"ZIP Code 43228, COLUMBUS, OH\">ZIP Code 43228</a></td><td>Standard</td><td><a href=\"/county/oh-franklin.asp\">Franklin</a></td><td>50,737</td><td><a href=\"/area-code/area-code-614.asp\" title=\"Area Code 614\">614</a></td></tr><tr><td><a href=\"/zip-code/43229/zip-code-43229.asp\" style=\"text-decoration:underline;\" title=\"ZIP Code 43229, COLUMBUS, OH\">ZIP Code 43229</a></td><td>Standard</td><td><a href=\"/county/oh-franklin.asp\">Franklin</a></td><td>46,347</td><td><a href=\"/area-code/area-code-614.asp\" title=\"Area Code 614\">614</a> / <a href=\"/area-code/area-code-740.asp\" title=\"Area Code 740\">740</a></td></tr><tr><td><a href=\"/zip-code/43230/zip-code-43230.asp\" style=\"text-decoration:underline;\" title=\"ZIP Code 43230, COLUMBUS, OH\">ZIP Code 43230</a></td><td>Standard</td><td><a href=\"/county/oh-franklin.asp\">Franklin</a></td><td>51,161</td><td><a href=\"/area-code/area-code-614.asp\" title=\"Area Code 614\">614</a></td></tr><tr><td><a href=\"/zip-code/43231/zip-code-43231.asp\" style=\"text-decoration:underline;\" title=\"ZIP Code 43231, COLUMBUS, OH\">ZIP Code 43231</a></td><td>Standard</td><td><a href=\"/county/oh-franklin.asp\">Franklin</a></td><td>19,685</td><td><a href=\"/area-code/area-code-614.asp\" title=\"Area Code 614\">614</a></td></tr><tr><td><a href=\"/zip-code/43232/zip-code-43232.asp\" style=\"text-decoration:underline;\" title=\"ZIP Code 43232, COLUMBUS, OH\">ZIP Code 43232</a></td><td>Standard</td><td><a href=\"/county/oh-franklin.asp\">Franklin</a></td><td>42,201</td><td><a href=\"/area-code/area-code-614.asp\" title=\"Area Code 614\">614</a></td></tr><tr><td><a href=\"/zip-code/43234/zip-code-43234.asp\" style=\"text-decoration:underline;\" title=\"ZIP Code 43234, COLUMBUS, OH\">ZIP Code 43234</a></td><td>P.O. Box</td><td><a href=\"/county/oh-franklin.asp\">Franklin</a></td><td>0</td><td><a href=\"/area-code/area-code-614.asp\" title=\"Area Code 614\">614</a> / <a href=\"/area-code/area-code-380.asp\" title=\"Area Code 380\">380</a></td></tr><tr><td><a href=\"/zip-code/43235/zip-code-43235.asp\" style=\"text-decoration:underline;\" title=\"ZIP Code 43235, COLUMBUS, OH\">ZIP Code 43235</a></td><td>Standard</td><td><a href=\"/county/oh-franklin.asp\">Franklin</a></td><td>38,493</td><td><a href=\"/area-code/area-code-614.asp\" title=\"Area Code 614\">614</a></td></tr><tr><td><a href=\"/zip-code/43236/zip-code-43236.asp\" style=\"text-decoration:underline;\" title=\"ZIP Code 43236, COLUMBUS, OH\">ZIP Code 43236</a></td><td>P.O. Box</td><td><a href=\"/county/oh-franklin.asp\">Franklin</a></td><td>0</td><td><a href=\"/area-code/area-code-614.asp\" title=\"Area Code 614\">614</a> / <a href=\"/area-code/area-code-380.asp\" title=\"Area Code 380\">380</a></td></tr><tr><td><a href=\"/zip-code/43240/zip-code-43240.asp\" style=\"text-decoration:underline;\" title=\"ZIP Code 43240, COLUMBUS, OH\">ZIP Code 43240</a></td><td>Standard</td><td><a href=\"/county/oh-delaware.asp\">Delaware</a></td><td>3,469</td><td><a href=\"/area-code/area-code-614.asp\" title=\"Area Code 614\">614</a> / <a href=\"/area-code/area-code-740.asp\" title=\"Area Code 740\">740</a></td></tr><tr><td><a href=\"/zip-code/43251/zip-code-43251.asp\" style=\"text-decoration:underline;\" title=\"ZIP Code 43251, COLUMBUS, OH\">ZIP Code 43251</a></td><td>Unique</td><td><a href=\"/county/oh-franklin.asp\">Franklin</a></td><td>0</td><td><a href=\"/area-code/area-code-614.asp\" title=\"Area Code 614\">614</a> / <a href=\"/area-code/area-code-380.asp\" title=\"Area Code 380\">380</a></td></tr><tr><td><a href=\"/zip-code/43260/zip-code-43260.asp\" style=\"text-decoration:underline;\" title=\"ZIP Code 43260, COLUMBUS, OH\">ZIP Code 43260</a></td><td>Unique</td><td><a href=\"/county/oh-franklin.asp\">Franklin</a></td><td>0</td><td><a href=\"/area-code/area-code-614.asp\" title=\"Area Code 614\">614</a> / <a href=\"/area-code/area-code-380.asp\" title=\"Area Code 380\">380</a></td></tr><tr><td><a href=\"/zip-code/43266/zip-code-43266.asp\" style=\"text-decoration:underline;\" title=\"ZIP Code 43266, COLUMBUS, OH\">ZIP Code 43266</a></td><td>Unique</td><td><a href=\"/county/oh-franklin.asp\">Franklin</a></td><td>0</td><td><a href=\"/area-code/area-code-614.asp\" title=\"Area Code 614\">614</a> / <a href=\"/area-code/area-code-380.asp\" title=\"Area Code 380\">380</a></td></tr><tr><td><a href=\"/zip-code/43268/zip-code-43268.asp\" style=\"text-decoration:underline;\" title=\"ZIP Code 43268, COLUMBUS, OH\">ZIP Code 43268</a></td><td>Unique</td><td><a href=\"/county/oh-franklin.asp\">Franklin</a></td><td>0</td><td><a href=\"/area-code/area-code-614.asp\" title=\"Area Code 614\">614</a> / <a href=\"/area-code/area-code-380.asp\" title=\"Area Code 380\">380</a></td></tr><tr><td><a href=\"/zip-code/43270/zip-code-43270.asp\" style=\"text-decoration:underline;\" title=\"ZIP Code 43270, COLUMBUS, OH\">ZIP Code 43270</a></td><td>Unique</td><td><a href=\"/county/oh-franklin.asp\">Franklin</a></td><td>0</td><td><a href=\"/area-code/area-code-614.asp\" title=\"Area Code 614\">614</a> / <a href=\"/area-code/area-code-380.asp\" title=\"Area Code 380\">380</a></td></tr><tr><td><a href=\"/zip-code/43271/zip-code-43271.asp\" style=\"text-decoration:underline;\" title=\"ZIP Code 43271, COLUMBUS, OH\">ZIP Code 43271</a></td><td>Unique</td><td><a href=\"/county/oh-franklin.asp\">Franklin</a></td><td>0</td><td><a href=\"/area-code/area-code-614.asp\" title=\"Area Code 614\">614</a> / <a href=\"/area-code/area-code-380.asp\" title=\"Area Code 380\">380</a></td></tr><tr><td><a href=\"/zip-code/43272/zip-code-43272.asp\" style=\"text-decoration:underline;\" title=\"ZIP Code 43272, COLUMBUS, OH\">ZIP Code 43272</a></td><td>Unique</td><td><a href=\"/county/oh-franklin.asp\">Franklin</a></td><td>0</td><td><a href=\"/area-code/area-code-614.asp\" title=\"Area Code 614\">614</a> / <a href=\"/area-code/area-code-380.asp\" title=\"Area Code 380\">380</a></td></tr><tr><td><a href=\"/zip-code/43279/zip-code-43279.asp\" style=\"text-decoration:underline;\" title=\"ZIP Code 43279, COLUMBUS, OH\">ZIP Code 43279</a></td><td>Unique</td><td><a href=\"/county/oh-franklin.asp\">Franklin</a></td><td>0</td><td><a href=\"/area-code/area-code-614.asp\" title=\"Area Code 614\">614</a> / <a href=\"/area-code/area-code-380.asp\" title=\"Area Code 380\">380</a></td></tr><tr><td><a href=\"/zip-code/43287/zip-code-43287.asp\" style=\"text-decoration:underline;\" title=\"ZIP Code 43287, COLUMBUS, OH\">ZIP Code 43287</a></td><td>Unique</td><td><a href=\"/county/oh-franklin.asp\">Franklin</a></td><td>0</td><td><a href=\"/area-code/area-code-614.asp\" title=\"Area Code 614\">614</a> / <a href=\"/area-code/area-code-380.asp\" title=\"Area Code 380\">380</a></td></tr><tr><td><a href=\"/zip-code/43291/zip-code-43291.asp\" style=\"text-decoration:underline;\" title=\"ZIP Code 43291, COLUMBUS, OH\">ZIP Code 43291</a></td><td>Unique</td><td><a href=\"/county/oh-franklin.asp\">Franklin</a></td><td>0</td><td><a href=\"/area-code/area-code-614.asp\" title=\"Area Code 614\">614</a> / <a href=\"/area-code/area-code-380.asp\" title=\"Area Code 380\">380</a></td></tr></table>\n"
     ]
    }
   ],
   "source": [
    "if response.status_code == 200:\n",
    "    soup = BeautifulSoup(response.text, 'html.parser')\n",
    "    tbl = soup.table.tr.find_all('td')[1].find_all('table')[1]\n",
    "    print(tbl)"
   ]
  },
  {
   "cell_type": "markdown",
   "metadata": {},
   "source": [
    "function to help web scrape zip code information"
   ]
  },
  {
   "cell_type": "code",
   "execution_count": 4,
   "metadata": {},
   "outputs": [],
   "source": [
    "# utilize when using the table the [0-4] table \n",
    "# BeautifulSoup(response.text, 'html.parser').table.tr.find_all('td')[1].find_all('table')\n",
    "def zip_info(response):\n",
    "    page = BeautifulSoup(response.text, 'html.parser').find_all(\"table\", class_=\"statTable\")\n",
    "    #print(page)\n",
    "    dict = {}\n",
    "    for table in page:\n",
    "        for row in table.find_all('tr'):\n",
    "            dict[row.find_all('td')[0].string] = row.find_all('td')[1].string        \n",
    "    return dict"
   ]
  },
  {
   "cell_type": "markdown",
   "metadata": {},
   "source": [
    "Parses through and gathers data"
   ]
  },
  {
   "cell_type": "code",
   "execution_count": 5,
   "metadata": {
    "tags": []
   },
   "outputs": [
    {
     "output_type": "stream",
     "name": "stdout",
     "text": [
      "   # Business Mailboxes: # Residential Mailboxes: # of Employees:  \\\n0                  1,375                   27,973          28,811   \n1                  1,108                   10,609          18,013   \n2                    799                   17,791           9,974   \n3                    398                   10,555           5,133   \n4                    214                    4,367           1,198   \n5                    842                   17,857           9,930   \n6                    462                    5,973          15,488   \n7                    489                   11,140           6,408   \n8                  1,162                   19,154          18,937   \n9                    530                   12,038           6,965   \n10                   266                      325          10,769   \n11                   448                    9,015           3,287   \n12                 1,023                   13,257          19,020   \n13                 1,287                   15,260          18,820   \n14                 1,074                   13,731          21,545   \n15                 2,747                   12,179          74,570   \n16                    66                      880           1,485   \n17                 1,562                   12,244          50,742   \n18                   915                   12,973          11,175   \n19                   594                   14,558           6,828   \n20                   239                    1,703           8,135   \n21                   627                   10,432           7,522   \n22                   635                   17,791           4,721   \n23                   332                    9,469           2,866   \n24                 1,603                   24,142          37,475   \n25                 1,561                   21,418          24,330   \n26                 1,381                   24,826          23,504   \n27                   683                    8,720          10,996   \n28                   944                   19,000          10,050   \n29                 1,072                   20,616          21,507   \n30                   651                    3,336          25,220   \n\n   113th Congressional District: 113th Congressional Land Area:  \\\n0                          03|12              228|2271.91 sq mi   \n1                          03|12              228|2271.91 sq mi   \n2                       03|12|15      228|2271.91|4738.93 sq mi   \n3                          03|12              228|2271.91 sq mi   \n4                             03                      228 sq mi   \n5                          03|15              228|4738.93 sq mi   \n6                             03                      228 sq mi   \n7                          03|15              228|4738.93 sq mi   \n8                          03|15              228|4738.93 sq mi   \n9                             03                      228 sq mi   \n10                         03|15              228|4738.93 sq mi   \n11                            03                      228 sq mi   \n12                         03|15              228|4738.93 sq mi   \n13                            03                      228 sq mi   \n14                         03|12              228|2271.91 sq mi   \n15                         03|15              228|4738.93 sq mi   \n16                      03|12|15      228|2271.91|4738.93 sq mi   \n17                         03|12              228|2271.91 sq mi   \n18                         12|15          2271.91|4738.93 sq mi   \n19                      03|12|15      228|2271.91|4738.93 sq mi   \n20                         03|15              228|4738.93 sq mi   \n21                         03|15              228|4738.93 sq mi   \n22                            03                      228 sq mi   \n23                            03                      228 sq mi   \n24                         03|15              228|4738.93 sq mi   \n25                         03|12              228|2271.91 sq mi   \n26                         03|12              228|2271.91 sq mi   \n27                            03                      228 sq mi   \n28                            03                      228 sq mi   \n29                      03|12|15      228|2271.91|4738.93 sq mi   \n30                         03|12              228|2271.91 sq mi   \n\n   1st Quarter Payroll: 2010 Population:   65+: American Indian Population:  \\\n0          $396,493,000           55,991  7,780                         440   \n1          $214,132,000           23,258  3,350                         137   \n2          $110,918,000           35,495    655                         282   \n3           $58,630,000           20,251    895                         206   \n4            $8,800,000            8,108    700                         138   \n5          $120,868,000           42,104  3,980                         662   \n6          $247,412,000           12,272    950                         201   \n7           $77,100,000           21,864  2,030                         309   \n8          $206,110,000           45,144  5,720                         648   \n9           $55,635,000           27,228  3,565                         226   \n10         $158,937,000            9,432      0                          29   \n11          $31,961,000           21,600  1,935                         337   \n12         $223,888,000           18,551  1,645                         138   \n13         $194,587,000           30,444  4,380                         447   \n14         $277,646,000           24,650  3,805                         161   \n15       $1,658,727,000           12,790  1,045                         134   \n16          $20,114,000            2,602     85                          25   \n17         $904,668,000           27,123  2,905                         371   \n18         $121,584,000           24,989  3,645                         140   \n19          $66,813,000           31,265  3,930                         178   \n20          $96,119,000            4,617    400                          77   \n21          $70,602,000           27,366  2,485                         370   \n22          $30,233,000           38,699  3,645                         447   \n23          $25,158,000           21,340  2,680                         259   \n24         $440,252,000           50,737  4,810                         568   \n25         $224,121,000           46,347  4,610                         496   \n26         $293,109,000           51,161  6,430                         446   \n27         $113,936,000           19,685  1,765                         191   \n28          $80,619,000           42,201  4,145                         518   \n29         $236,796,000           38,493  5,255                         210   \n30         $556,702,000            3,469    405                          20   \n\n   Annual Payroll:  ...     State:            Time Zone: Total Beneficiaries:  \\\n0   $1,492,455,000  ...  OH [Ohio]  Eastern (GMT -05:00)                9,445   \n1     $880,065,000  ...  OH [Ohio]  Eastern (GMT -05:00)                4,185   \n2     $441,162,000  ...  OH [Ohio]  Eastern (GMT -05:00)                1,205   \n3     $243,004,000  ...  OH [Ohio]  Eastern (GMT -05:00)                1,150   \n4      $38,071,000  ...  OH [Ohio]  Eastern (GMT -05:00)                1,145   \n5     $487,286,000  ...  OH [Ohio]  Eastern (GMT -05:00)                6,390   \n6     $933,749,000  ...  OH [Ohio]  Eastern (GMT -05:00)                1,675   \n7     $274,858,000  ...  OH [Ohio]  Eastern (GMT -05:00)                3,755   \n8     $844,809,000  ...  OH [Ohio]  Eastern (GMT -05:00)                9,140   \n9     $230,119,000  ...  OH [Ohio]  Eastern (GMT -05:00)                4,430   \n10    $654,512,000  ...  OH [Ohio]  Eastern (GMT -05:00)                    0   \n11    $132,663,000  ...  OH [Ohio]  Eastern (GMT -05:00)                3,670   \n12    $888,761,000  ...  OH [Ohio]  Eastern (GMT -05:00)                1,945   \n13    $772,845,000  ...  OH [Ohio]  Eastern (GMT -05:00)                6,235   \n14  $1,122,554,000  ...  OH [Ohio]  Eastern (GMT -05:00)                4,465   \n15  $5,734,149,000  ...  OH [Ohio]  Eastern (GMT -05:00)                1,555   \n16     $77,661,000  ...  OH [Ohio]  Eastern (GMT -05:00)                  190   \n17  $3,154,584,000  ...  OH [Ohio]  Eastern (GMT -05:00)                4,295   \n18    $505,409,000  ...  OH [Ohio]  Eastern (GMT -05:00)                4,170   \n19    $277,075,000  ...  OH [Ohio]  Eastern (GMT -05:00)                4,540   \n20    $409,236,000  ...  OH [Ohio]  Eastern (GMT -05:00)                  795   \n21    $314,838,000  ...  OH [Ohio]  Eastern (GMT -05:00)                4,790   \n22    $131,310,000  ...  OH [Ohio]  Eastern (GMT -05:00)                5,765   \n23    $102,651,000  ...  OH [Ohio]  Eastern (GMT -05:00)                4,340   \n24  $1,703,340,000  ...  OH [Ohio]  Eastern (GMT -05:00)                7,285   \n25    $927,738,000  ...  OH [Ohio]  Eastern (GMT -05:00)                6,580   \n26  $1,138,008,000  ...  OH [Ohio]  Eastern (GMT -05:00)                8,110   \n27    $455,675,000  ...  OH [Ohio]  Eastern (GMT -05:00)                2,585   \n28    $337,561,000  ...  OH [Ohio]  Eastern (GMT -05:00)                6,790   \n29    $942,105,000  ...  OH [Ohio]  Eastern (GMT -05:00)                6,125   \n30  $1,696,669,000  ...  OH [Ohio]  Eastern (GMT -05:00)                  490   \n\n   Total Delivery Receptacles:  Water Area: White Population:  \\\n0                       29,314  1.131 sq mi            47,805   \n1                       12,229  0.084 sq mi            20,891   \n2                       18,826      0 sq mi            27,369   \n3                       12,293  0.059 sq mi            17,151   \n4                        4,762      0 sq mi             1,160   \n5                       19,345  0.316 sq mi            32,905   \n6                        9,076   0.02 sq mi             3,235   \n7                       11,903  0.001 sq mi            11,584   \n8                       20,834  0.971 sq mi            31,582   \n9                       15,341  0.091 sq mi            19,355   \n10                       1,904  0.072 sq mi             7,554   \n11                       9,749  0.014 sq mi             6,376   \n12                      14,793  0.064 sq mi            17,015   \n13                      18,775  0.092 sq mi            17,210   \n14                      18,751  0.082 sq mi            22,734   \n15                      15,033  0.565 sq mi             9,735   \n16                         936      0 sq mi             2,121   \n17                      13,330  0.127 sq mi             5,450   \n18                      17,490  0.142 sq mi            21,167   \n19                      18,868  0.344 sq mi            29,068   \n20                       3,882  0.055 sq mi             3,573   \n21                      11,197  0.803 sq mi            20,559   \n22                      20,106  0.042 sq mi            20,313   \n23                      10,119  0.009 sq mi             6,612   \n24                      27,104  0.179 sq mi            36,572   \n25                      33,959   0.06 sq mi            24,104   \n26                      32,576  0.337 sq mi            41,049   \n27                      16,424  0.047 sq mi            11,367   \n28                      22,897  0.207 sq mi            17,375   \n29                      21,567  0.249 sq mi            32,588   \n30                       3,590  0.003 sq mi             2,705   \n\n   Widow(er)s and Parents: Zip Code:       City Alias(es) To Avoid Using:  \n0                      600     43081  2018                            NaN  \n1                      240     43085  2018                            NaN  \n2                       50     43201  2018                            NaN  \n3                       60     43202  2018                            NaN  \n4                       75     43203  2018                            NaN  \n5                      435     43204  2018                            NaN  \n6                       85     43205  2018                            NaN  \n7                      200     43206  2018                            NaN  \n8                      785     43207  2018                            NaN  \n9                      270     43209  2018                            NaN  \n10                       0     43210  2018                            NaN  \n11                     270     43211  2018                            NaN  \n12                     125     43212  2018                            NaN  \n13                     450     43213  2018                            NaN  \n14                     310     43214  2018                            NaN  \n15                      95     43215  2018                            NaN  \n16                      15     43217  2018    Rickenbacker Air Force Base  \n17                     290     43219  2018                            NaN  \n18                     270     43220  2018                            NaN  \n19                     280     43221  2018                            NaN  \n20                      65     43222  2018                            NaN  \n21                     355     43223  2018                            NaN  \n22                     340     43224  2018                            NaN  \n23                     245     43227  2018                            NaN  \n24                     500     43228  2018                            NaN  \n25                     440     43229  2018                            NaN  \n26                     555     43230  2018                            NaN  \n27                     155     43231  2018                            NaN  \n28                     395     43232  2018                            NaN  \n29                     410     43235  2018                            NaN  \n30                      25     43240  2018                            NaN  \n\n[31 rows x 75 columns]\n"
     ]
    }
   ],
   "source": [
    "i=0\n",
    "zip_info_df = pd.DataFrame()\n",
    "zip_url = '/zip-code/{}/zip-code-{}.asp'\n",
    "for row in tbl.find_all('tr'):\n",
    "    #checks for header\n",
    "    if row.find_all('td')[0].string != 'ZIP Code':\n",
    "        if row.find_all('td')[1].string == 'Standard':\n",
    "            zip_code = row.find_all('td')[0].string.strip(\" ZIPCode\")\n",
    "            #coded just to make sure that we can access the website\n",
    "            accessed = False\n",
    "            while accessed == False:\n",
    "                try:\n",
    "                    zip_response = requests.get(url.format(zip_url.format(zip_code,zip_code)))\n",
    "                    accessed = True\n",
    "                    i+=1\n",
    "                    zip_dict = zip_info(zip_response)\n",
    "                    zip_info_df = zip_info_df.append(zip_dict, ignore_index=True)\n",
    "                except:\n",
    "                    accessed = False\n",
    "print(zip_info_df)\n",
    "# reads in all zip code responses"
   ]
  },
  {
   "cell_type": "code",
   "execution_count": 6,
   "metadata": {},
   "outputs": [],
   "source": [
    "zip_info_df.columns\n",
    "zip_info_df = zip_info_df.infer_objects()"
   ]
  },
  {
   "cell_type": "markdown",
   "metadata": {},
   "source": [
    "## Location data for Hospitals and Pharmacies"
   ]
  },
  {
   "cell_type": "markdown",
   "metadata": {},
   "source": [
    "Get relevant packages"
   ]
  },
  {
   "cell_type": "code",
   "execution_count": 7,
   "metadata": {
    "tags": []
   },
   "outputs": [
    {
     "output_type": "stream",
     "name": "stdout",
     "text": [
      "Folium installed\nLibraries imported.\n"
     ]
    }
   ],
   "source": [
    "import requests # library to handle requests\n",
    "import pandas as pd # library for data analsysis\n",
    "import numpy as np # library to handle data in a vectorized manner\n",
    "import random # library for random number generation\n",
    "\n",
    "# !conda install -c conda-forge geopy --yes \n",
    "from geopy.geocoders import Nominatim # module to convert an address into latitude and longitude values\n",
    "\n",
    "# libraries for displaying images\n",
    "from IPython.display import Image \n",
    "from IPython.core.display import HTML \n",
    "    \n",
    "# tranforming json file into a pandas dataframe library\n",
    "from pandas.io.json import json_normalize\n",
    "\n",
    "# !conda install -c conda-forge folium=0.5.0 --yes\n",
    "import folium # plotting library\n",
    "\n",
    "print('Folium installed')\n",
    "print('Libraries imported.')"
   ]
  },
  {
   "cell_type": "markdown",
   "metadata": {},
   "source": [
    "Credentials for foursquare_API"
   ]
  },
  {
   "cell_type": "code",
   "execution_count": 8,
   "metadata": {
    "tags": []
   },
   "outputs": [
    {
     "output_type": "stream",
     "name": "stdout",
     "text": [
      "Your credentails:\nCLIENT_ID: 3PRTA5P0AY2A12Z51Z1UHCZH124K5AYLU4PGQHQ0BMCV5FWD\nCLIENT_SECRET:JOQYBGLRRR0QNOYE43VOVALU1DFGK4TGSR23SS3J53X2G4JW\n"
     ]
    }
   ],
   "source": [
    "# @hidden_cell\n",
    "CLIENT_ID = '3PRTA5P0AY2A12Z51Z1UHCZH124K5AYLU4PGQHQ0BMCV5FWD' # your Foursquare ID\n",
    "CLIENT_SECRET = 'JOQYBGLRRR0QNOYE43VOVALU1DFGK4TGSR23SS3J53X2G4JW' # your Foursquare Secret\n",
    "VERSION = '20180604'\n",
    "LIMIT = 60\n",
    "print('Your credentails:')\n",
    "print('CLIENT_ID: ' + CLIENT_ID)\n",
    "print('CLIENT_SECRET:' + CLIENT_SECRET)"
   ]
  },
  {
   "cell_type": "markdown",
   "metadata": {},
   "source": [
    "Information for using foursquare API "
   ]
  },
  {
   "cell_type": "code",
   "execution_count": 9,
   "metadata": {},
   "outputs": [
    {
     "output_type": "execute_result",
     "data": {
      "text/plain": [
       "Index(['# Business Mailboxes:', '# Residential Mailboxes:', '# of Employees:',\n",
       "       '113th Congressional District:', '113th Congressional Land Area:',\n",
       "       '1st Quarter Payroll:', '2010 Population:', '65+:',\n",
       "       'American Indian Population:', 'Annual Payroll:', 'Area Code:',\n",
       "       'Asian Population:', 'Average House Value:',\n",
       "       'Avg. Income Per Household:', 'Black Population:',\n",
       "       'CBSA Division Name:', 'CBSA Division Population:', 'CBSA Division:',\n",
       "       'CBSA Name:', 'CBSA Population:', 'CBSA Type:', 'CBSA:', 'Children:',\n",
       "       'City Alias(es):', 'City State Key:', 'City Type:', 'City:',\n",
       "       'Classification:', 'Counties:', 'County FIPS:', 'Current Population:',\n",
       "       'Disabled Workers:', 'Division:', 'Elevation:', 'Female Median Age:',\n",
       "       'Female Population:', 'Hawaiian Population:', 'Hispanic Population:',\n",
       "       'Households per ZIP Code:', 'Intro Date:', 'Land Area:', 'Latitude:',\n",
       "       'Longitude:', 'MSA Name:', 'MSA:', 'Male Median Age:',\n",
       "       'Male Population:', 'Median Age:', 'Monthly Benefits - All:',\n",
       "       'Monthly Benefits - Retired Workers:', 'Monthly Benefits - Widow(ers):',\n",
       "       'Multi County:', 'Multi Family Delivery Units:',\n",
       "       'Number of Businesses:', 'Observes Day Light Savings:',\n",
       "       'Other Population:', 'PMSA Name:', 'PMSA:', 'Persons Per Household:',\n",
       "       'Preferred Last Line Key:', 'Region:', 'Retired Workers:',\n",
       "       'Single Family Delivery Units:', 'Spouses:', 'State FIPS:', 'State:',\n",
       "       'Time Zone:', 'Total Beneficiaries:', 'Total Delivery Receptacles:',\n",
       "       'Water Area:', 'White Population:', 'Widow(er)s and Parents:',\n",
       "       'Zip Code:', ' ', 'City Alias(es) To Avoid Using:'],\n",
       "      dtype='object')"
      ]
     },
     "metadata": {},
     "execution_count": 9
    }
   ],
   "source": [
    "zip_info_df.columns"
   ]
  },
  {
   "cell_type": "code",
   "execution_count": 10,
   "metadata": {},
   "outputs": [],
   "source": [
    "CAT_IDs = {'Hospital':'4bf58dd8d48988d196941735', 'Pharmacy': '4bf58dd8d48988d10f951735'}\n",
    "geo_coords = zip_info_df[['Latitude:','Longitude:']]\n",
    "radius = 10000 #about 6.2 miles"
   ]
  },
  {
   "cell_type": "markdown",
   "metadata": {},
   "source": [
    "Create parameters that are not hidden"
   ]
  },
  {
   "cell_type": "code",
   "execution_count": 11,
   "metadata": {},
   "outputs": [
    {
     "output_type": "execute_result",
     "data": {
      "text/plain": [
       "'https://api.foursquare.com/v2/venues/search?client_id={}&client_secret={}&ll={},{}&categoryId={}&v={}&radius={}&limit={}'"
      ]
     },
     "metadata": {},
     "execution_count": 11
    }
   ],
   "source": [
    "url = 'https://api.foursquare.com/v2/venues/search?client_id={}&client_secret={}&ll={},{}&categoryId={}&v={}&radius={}&limit={}'\n",
    "url"
   ]
  },
  {
   "cell_type": "markdown",
   "metadata": {},
   "source": [
    "Grabs data for all hospitals and pharmacies"
   ]
  },
  {
   "cell_type": "code",
   "execution_count": 12,
   "metadata": {},
   "outputs": [
    {
     "output_type": "execute_result",
     "data": {
      "text/plain": [
       "                            id  \\\n",
       "0     4e806be17ee6677f0a2549a7   \n",
       "1     550875f2498ed14f1962062f   \n",
       "2     5f6ba0a26c680a653d7297da   \n",
       "3     501d17b8e4b09fbdec1c12c9   \n",
       "4     4b4f2baaf964a5201cfc26e3   \n",
       "...                        ...   \n",
       "2873  500e2b02e4b0f585cbfbf28e   \n",
       "2874  4d2c7a8c342d6dcb7ecb1fcb   \n",
       "2875  5104adbbe4b0ed508b8a2b5e   \n",
       "2876  5163a42de4b095f6f027b6cc   \n",
       "2877  4b0acb4af964a520f02723e3   \n",
       "\n",
       "                                                   name  \\\n",
       "0                  Child Development and Autism Centers   \n",
       "1     Ohio State Outpatient Rehabilitation Gahanna YMCA   \n",
       "2                                   Walk In Urgent Care   \n",
       "3                                   H12B HEM/ONC At NCH   \n",
       "4                      St Ann's Medical Office Building   \n",
       "...                                                 ...   \n",
       "2873                                Heartlight Pharmacy   \n",
       "2874                                   Take Care Clinic   \n",
       "2875                                     Campari Office   \n",
       "2876                             Estra's Vitamin Shoppe   \n",
       "2877                                 Discount Drug Mart   \n",
       "\n",
       "                                             categories    referralId  \\\n",
       "0     [{'id': '4bf58dd8d48988d177941735', 'name': 'D...  v-1609786279   \n",
       "1     [{'id': '4bf58dd8d48988d196941735', 'name': 'H...  v-1609786279   \n",
       "2     [{'id': '4bf58dd8d48988d196941735', 'name': 'H...  v-1609786279   \n",
       "3     [{'id': '4bf58dd8d48988d196941735', 'name': 'H...  v-1609786279   \n",
       "4     [{'id': '4bf58dd8d48988d196941735', 'name': 'H...  v-1609786279   \n",
       "...                                                 ...           ...   \n",
       "2873  [{'id': '4bf58dd8d48988d10f951735', 'name': 'P...  v-1609786301   \n",
       "2874  [{'id': '4bf58dd8d48988d10f951735', 'name': 'P...  v-1609786301   \n",
       "2875  [{'id': '4bf58dd8d48988d10f951735', 'name': 'P...  v-1609786301   \n",
       "2876  [{'id': '4bf58dd8d48988d10f951735', 'name': 'P...  v-1609786301   \n",
       "2877  [{'id': '4bf58dd8d48988d10f951735', 'name': 'P...  v-1609786301   \n",
       "\n",
       "      hasPerk            location.address  location.lat  location.lng  \\\n",
       "0       False            187 W Schrock Rd     40.109578    -82.931797   \n",
       "1       False                 551 Ymca Pl     40.048370    -82.857063   \n",
       "2       False           1085 Polaris Pkwy     40.145056    -82.992258   \n",
       "3       False                         NaN     40.110148    -83.036035   \n",
       "4       False               495 Cooper Rd     40.114891    -82.945295   \n",
       "...       ...                         ...           ...           ...   \n",
       "2873    False                         NaN     40.109854    -82.998364   \n",
       "2874    False  2150 E Dublin Granville Rd     40.087143    -82.959427   \n",
       "2875    False                         NaN     40.178708    -83.085247   \n",
       "2876    False                         NaN     40.113375    -83.068552   \n",
       "2877    False           9965 Sawmill Pkwy     40.153864    -83.091781   \n",
       "\n",
       "                                location.labeledLatLngs  location.distance  \\\n",
       "0     [{'label': 'display', 'lat': 40.10957847827210...               2894   \n",
       "1     [{'label': 'display', 'lat': 40.04837036132812...               7311   \n",
       "2     [{'label': 'display', 'lat': 40.1450558, 'lng'...               9114   \n",
       "3     [{'label': 'display', 'lat': 40.11014760015202...              11751   \n",
       "4     [{'label': 'display', 'lat': 40.11489079987515...               4135   \n",
       "...                                                 ...                ...   \n",
       "2873  [{'label': 'display', 'lat': 40.10985424185838...               4319   \n",
       "2874  [{'label': 'display', 'lat': 40.08714294433594...               6785   \n",
       "2875  [{'label': 'display', 'lat': 40.178708, 'lng':...               9663   \n",
       "2876  [{'label': 'display', 'lat': 40.11337511494923...               8367   \n",
       "2877  [{'label': 'display', 'lat': 40.15386429962785...               9550   \n",
       "\n",
       "     location.postalCode location.cc location.city location.state  \\\n",
       "0                  43081          US   Westerville             OH   \n",
       "1                  43230          US       Gahanna             OH   \n",
       "2                  43240          US      Columbus             OH   \n",
       "3                  43223          US      Columbus             OH   \n",
       "4                  43081          US   Westerville             OH   \n",
       "...                  ...         ...           ...            ...   \n",
       "2873               43085          US      Columbus             OH   \n",
       "2874               43229          US      Columbus             OH   \n",
       "2875               43065          US        Powell             OH   \n",
       "2876                 NaN          US      Columbus             OH   \n",
       "2877               43065          US        Powell             OH   \n",
       "\n",
       "     location.country                          location.formattedAddress  \\\n",
       "0       United States  [187 W Schrock Rd, Westerville, OH 43081, Unit...   \n",
       "1       United States    [551 Ymca Pl, Gahanna, OH 43230, United States]   \n",
       "2       United States  [1085 Polaris Pkwy, Columbus, OH 43240, United...   \n",
       "3       United States                [Columbus, OH 43223, United States]   \n",
       "4       United States  [495 Cooper Rd, Westerville, OH 43081, United ...   \n",
       "...               ...                                                ...   \n",
       "2873    United States                [Columbus, OH 43085, United States]   \n",
       "2874    United States  [2150 E Dublin Granville Rd, Columbus, OH 4322...   \n",
       "2875    United States                  [Powell, OH 43065, United States]   \n",
       "2876    United States                      [Columbus, OH, United States]   \n",
       "2877    United States  [9965 Sawmill Pkwy, Powell, OH 43065, United S...   \n",
       "\n",
       "     venuePage.id location.crossStreet location.neighborhood  \n",
       "0             NaN                  NaN                   NaN  \n",
       "1       122931242                  NaN                   NaN  \n",
       "2             NaN                  NaN                   NaN  \n",
       "3             NaN                  NaN                   NaN  \n",
       "4             NaN                  NaN                   NaN  \n",
       "...           ...                  ...                   ...  \n",
       "2873          NaN                  NaN                   NaN  \n",
       "2874          NaN                  NaN                   NaN  \n",
       "2875          NaN                  NaN                   NaN  \n",
       "2876          NaN                  NaN                   NaN  \n",
       "2877          NaN                  NaN                   NaN  \n",
       "\n",
       "[2878 rows x 19 columns]"
      ],
      "text/html": "<div>\n<style scoped>\n    .dataframe tbody tr th:only-of-type {\n        vertical-align: middle;\n    }\n\n    .dataframe tbody tr th {\n        vertical-align: top;\n    }\n\n    .dataframe thead th {\n        text-align: right;\n    }\n</style>\n<table border=\"1\" class=\"dataframe\">\n  <thead>\n    <tr style=\"text-align: right;\">\n      <th></th>\n      <th>id</th>\n      <th>name</th>\n      <th>categories</th>\n      <th>referralId</th>\n      <th>hasPerk</th>\n      <th>location.address</th>\n      <th>location.lat</th>\n      <th>location.lng</th>\n      <th>location.labeledLatLngs</th>\n      <th>location.distance</th>\n      <th>location.postalCode</th>\n      <th>location.cc</th>\n      <th>location.city</th>\n      <th>location.state</th>\n      <th>location.country</th>\n      <th>location.formattedAddress</th>\n      <th>venuePage.id</th>\n      <th>location.crossStreet</th>\n      <th>location.neighborhood</th>\n    </tr>\n  </thead>\n  <tbody>\n    <tr>\n      <th>0</th>\n      <td>4e806be17ee6677f0a2549a7</td>\n      <td>Child Development and Autism Centers</td>\n      <td>[{'id': '4bf58dd8d48988d177941735', 'name': 'D...</td>\n      <td>v-1609786279</td>\n      <td>False</td>\n      <td>187 W Schrock Rd</td>\n      <td>40.109578</td>\n      <td>-82.931797</td>\n      <td>[{'label': 'display', 'lat': 40.10957847827210...</td>\n      <td>2894</td>\n      <td>43081</td>\n      <td>US</td>\n      <td>Westerville</td>\n      <td>OH</td>\n      <td>United States</td>\n      <td>[187 W Schrock Rd, Westerville, OH 43081, Unit...</td>\n      <td>NaN</td>\n      <td>NaN</td>\n      <td>NaN</td>\n    </tr>\n    <tr>\n      <th>1</th>\n      <td>550875f2498ed14f1962062f</td>\n      <td>Ohio State Outpatient Rehabilitation Gahanna YMCA</td>\n      <td>[{'id': '4bf58dd8d48988d196941735', 'name': 'H...</td>\n      <td>v-1609786279</td>\n      <td>False</td>\n      <td>551 Ymca Pl</td>\n      <td>40.048370</td>\n      <td>-82.857063</td>\n      <td>[{'label': 'display', 'lat': 40.04837036132812...</td>\n      <td>7311</td>\n      <td>43230</td>\n      <td>US</td>\n      <td>Gahanna</td>\n      <td>OH</td>\n      <td>United States</td>\n      <td>[551 Ymca Pl, Gahanna, OH 43230, United States]</td>\n      <td>122931242</td>\n      <td>NaN</td>\n      <td>NaN</td>\n    </tr>\n    <tr>\n      <th>2</th>\n      <td>5f6ba0a26c680a653d7297da</td>\n      <td>Walk In Urgent Care</td>\n      <td>[{'id': '4bf58dd8d48988d196941735', 'name': 'H...</td>\n      <td>v-1609786279</td>\n      <td>False</td>\n      <td>1085 Polaris Pkwy</td>\n      <td>40.145056</td>\n      <td>-82.992258</td>\n      <td>[{'label': 'display', 'lat': 40.1450558, 'lng'...</td>\n      <td>9114</td>\n      <td>43240</td>\n      <td>US</td>\n      <td>Columbus</td>\n      <td>OH</td>\n      <td>United States</td>\n      <td>[1085 Polaris Pkwy, Columbus, OH 43240, United...</td>\n      <td>NaN</td>\n      <td>NaN</td>\n      <td>NaN</td>\n    </tr>\n    <tr>\n      <th>3</th>\n      <td>501d17b8e4b09fbdec1c12c9</td>\n      <td>H12B HEM/ONC At NCH</td>\n      <td>[{'id': '4bf58dd8d48988d196941735', 'name': 'H...</td>\n      <td>v-1609786279</td>\n      <td>False</td>\n      <td>NaN</td>\n      <td>40.110148</td>\n      <td>-83.036035</td>\n      <td>[{'label': 'display', 'lat': 40.11014760015202...</td>\n      <td>11751</td>\n      <td>43223</td>\n      <td>US</td>\n      <td>Columbus</td>\n      <td>OH</td>\n      <td>United States</td>\n      <td>[Columbus, OH 43223, United States]</td>\n      <td>NaN</td>\n      <td>NaN</td>\n      <td>NaN</td>\n    </tr>\n    <tr>\n      <th>4</th>\n      <td>4b4f2baaf964a5201cfc26e3</td>\n      <td>St Ann's Medical Office Building</td>\n      <td>[{'id': '4bf58dd8d48988d196941735', 'name': 'H...</td>\n      <td>v-1609786279</td>\n      <td>False</td>\n      <td>495 Cooper Rd</td>\n      <td>40.114891</td>\n      <td>-82.945295</td>\n      <td>[{'label': 'display', 'lat': 40.11489079987515...</td>\n      <td>4135</td>\n      <td>43081</td>\n      <td>US</td>\n      <td>Westerville</td>\n      <td>OH</td>\n      <td>United States</td>\n      <td>[495 Cooper Rd, Westerville, OH 43081, United ...</td>\n      <td>NaN</td>\n      <td>NaN</td>\n      <td>NaN</td>\n    </tr>\n    <tr>\n      <th>...</th>\n      <td>...</td>\n      <td>...</td>\n      <td>...</td>\n      <td>...</td>\n      <td>...</td>\n      <td>...</td>\n      <td>...</td>\n      <td>...</td>\n      <td>...</td>\n      <td>...</td>\n      <td>...</td>\n      <td>...</td>\n      <td>...</td>\n      <td>...</td>\n      <td>...</td>\n      <td>...</td>\n      <td>...</td>\n      <td>...</td>\n      <td>...</td>\n    </tr>\n    <tr>\n      <th>2873</th>\n      <td>500e2b02e4b0f585cbfbf28e</td>\n      <td>Heartlight Pharmacy</td>\n      <td>[{'id': '4bf58dd8d48988d10f951735', 'name': 'P...</td>\n      <td>v-1609786301</td>\n      <td>False</td>\n      <td>NaN</td>\n      <td>40.109854</td>\n      <td>-82.998364</td>\n      <td>[{'label': 'display', 'lat': 40.10985424185838...</td>\n      <td>4319</td>\n      <td>43085</td>\n      <td>US</td>\n      <td>Columbus</td>\n      <td>OH</td>\n      <td>United States</td>\n      <td>[Columbus, OH 43085, United States]</td>\n      <td>NaN</td>\n      <td>NaN</td>\n      <td>NaN</td>\n    </tr>\n    <tr>\n      <th>2874</th>\n      <td>4d2c7a8c342d6dcb7ecb1fcb</td>\n      <td>Take Care Clinic</td>\n      <td>[{'id': '4bf58dd8d48988d10f951735', 'name': 'P...</td>\n      <td>v-1609786301</td>\n      <td>False</td>\n      <td>2150 E Dublin Granville Rd</td>\n      <td>40.087143</td>\n      <td>-82.959427</td>\n      <td>[{'label': 'display', 'lat': 40.08714294433594...</td>\n      <td>6785</td>\n      <td>43229</td>\n      <td>US</td>\n      <td>Columbus</td>\n      <td>OH</td>\n      <td>United States</td>\n      <td>[2150 E Dublin Granville Rd, Columbus, OH 4322...</td>\n      <td>NaN</td>\n      <td>NaN</td>\n      <td>NaN</td>\n    </tr>\n    <tr>\n      <th>2875</th>\n      <td>5104adbbe4b0ed508b8a2b5e</td>\n      <td>Campari Office</td>\n      <td>[{'id': '4bf58dd8d48988d10f951735', 'name': 'P...</td>\n      <td>v-1609786301</td>\n      <td>False</td>\n      <td>NaN</td>\n      <td>40.178708</td>\n      <td>-83.085247</td>\n      <td>[{'label': 'display', 'lat': 40.178708, 'lng':...</td>\n      <td>9663</td>\n      <td>43065</td>\n      <td>US</td>\n      <td>Powell</td>\n      <td>OH</td>\n      <td>United States</td>\n      <td>[Powell, OH 43065, United States]</td>\n      <td>NaN</td>\n      <td>NaN</td>\n      <td>NaN</td>\n    </tr>\n    <tr>\n      <th>2876</th>\n      <td>5163a42de4b095f6f027b6cc</td>\n      <td>Estra's Vitamin Shoppe</td>\n      <td>[{'id': '4bf58dd8d48988d10f951735', 'name': 'P...</td>\n      <td>v-1609786301</td>\n      <td>False</td>\n      <td>NaN</td>\n      <td>40.113375</td>\n      <td>-83.068552</td>\n      <td>[{'label': 'display', 'lat': 40.11337511494923...</td>\n      <td>8367</td>\n      <td>NaN</td>\n      <td>US</td>\n      <td>Columbus</td>\n      <td>OH</td>\n      <td>United States</td>\n      <td>[Columbus, OH, United States]</td>\n      <td>NaN</td>\n      <td>NaN</td>\n      <td>NaN</td>\n    </tr>\n    <tr>\n      <th>2877</th>\n      <td>4b0acb4af964a520f02723e3</td>\n      <td>Discount Drug Mart</td>\n      <td>[{'id': '4bf58dd8d48988d10f951735', 'name': 'P...</td>\n      <td>v-1609786301</td>\n      <td>False</td>\n      <td>9965 Sawmill Pkwy</td>\n      <td>40.153864</td>\n      <td>-83.091781</td>\n      <td>[{'label': 'display', 'lat': 40.15386429962785...</td>\n      <td>9550</td>\n      <td>43065</td>\n      <td>US</td>\n      <td>Powell</td>\n      <td>OH</td>\n      <td>United States</td>\n      <td>[9965 Sawmill Pkwy, Powell, OH 43065, United S...</td>\n      <td>NaN</td>\n      <td>NaN</td>\n      <td>NaN</td>\n    </tr>\n  </tbody>\n</table>\n<p>2878 rows × 19 columns</p>\n</div>"
     },
     "metadata": {},
     "execution_count": 12
    }
   ],
   "source": [
    "i=0\n",
    "# Hospital and Pharmacy Data Frame\n",
    "hp_df = pd.DataFrame()\n",
    "while i<len(geo_coords): \n",
    "    lat = geo_coords.iloc[i]['Latitude:']\n",
    "    long = geo_coords.iloc[i]['Longitude:']\n",
    "    #hospitals\n",
    "    temp_url = url.format(CLIENT_ID, CLIENT_SECRET, lat, long, CAT_IDs['Hospital'], VERSION, radius, LIMIT)\n",
    "    results = requests.get(temp_url).json()\n",
    "    hps = results['response']['venues']\n",
    "    hp_df=hp_df.append(json_normalize(hps), ignore_index=True)\n",
    "    #pharmacies\n",
    "    temp_url = url.format(CLIENT_ID, CLIENT_SECRET, lat, long, CAT_IDs['Pharmacy'], VERSION, radius, LIMIT)\n",
    "    results = requests.get(temp_url).json()\n",
    "    hps = results['response']['venues']\n",
    "    hp_df=hp_df.append(json_normalize(hps), ignore_index=True)\n",
    "    i+=1\n",
    "hp_df"
   ]
  },
  {
   "cell_type": "markdown",
   "metadata": {},
   "source": [
    "Filters to get unique Pharmacy and Hospital Locations"
   ]
  },
  {
   "cell_type": "code",
   "execution_count": 13,
   "metadata": {},
   "outputs": [
    {
     "output_type": "execute_result",
     "data": {
      "text/plain": [
       "                            id  \\\n",
       "0     4e806be17ee6677f0a2549a7   \n",
       "1     550875f2498ed14f1962062f   \n",
       "2     5f6ba0a26c680a653d7297da   \n",
       "3     501d17b8e4b09fbdec1c12c9   \n",
       "4     4b4f2baaf964a5201cfc26e3   \n",
       "...                        ...   \n",
       "2847  589a0a369398ab160bd6a16e   \n",
       "2853  551c1117498e6d869618307e   \n",
       "2872  4d28cdb46e27a143bd0f1e24   \n",
       "2875  5104adbbe4b0ed508b8a2b5e   \n",
       "2876  5163a42de4b095f6f027b6cc   \n",
       "\n",
       "                                                   name  \\\n",
       "0                  Child Development and Autism Centers   \n",
       "1     Ohio State Outpatient Rehabilitation Gahanna YMCA   \n",
       "2                                   Walk In Urgent Care   \n",
       "3                                   H12B HEM/ONC At NCH   \n",
       "4                      St Ann's Medical Office Building   \n",
       "...                                                 ...   \n",
       "2847                                 Linworths Pharmacy   \n",
       "2853                                   Walmart Pharmacy   \n",
       "2872                                 Complete nutrition   \n",
       "2875                                     Campari Office   \n",
       "2876                             Estra's Vitamin Shoppe   \n",
       "\n",
       "                                             categories    referralId  \\\n",
       "0     [{'id': '4bf58dd8d48988d177941735', 'name': 'D...  v-1609786279   \n",
       "1     [{'id': '4bf58dd8d48988d196941735', 'name': 'H...  v-1609786279   \n",
       "2     [{'id': '4bf58dd8d48988d196941735', 'name': 'H...  v-1609786279   \n",
       "3     [{'id': '4bf58dd8d48988d196941735', 'name': 'H...  v-1609786279   \n",
       "4     [{'id': '4bf58dd8d48988d196941735', 'name': 'H...  v-1609786279   \n",
       "...                                                 ...           ...   \n",
       "2847  [{'id': '4bf58dd8d48988d10f951735', 'name': 'P...  v-1609786301   \n",
       "2853  [{'id': '4bf58dd8d48988d10f951735', 'name': 'P...  v-1609786301   \n",
       "2872  [{'id': '4bf58dd8d48988d10f951735', 'name': 'P...  v-1609786301   \n",
       "2875  [{'id': '4bf58dd8d48988d10f951735', 'name': 'P...  v-1609786301   \n",
       "2876  [{'id': '4bf58dd8d48988d10f951735', 'name': 'P...  v-1609786301   \n",
       "\n",
       "      hasPerk                    location.address  location.lat  location.lng  \\\n",
       "0       False                    187 W Schrock Rd     40.109578    -82.931797   \n",
       "1       False                         551 Ymca Pl     40.048370    -82.857063   \n",
       "2       False                   1085 Polaris Pkwy     40.145056    -82.992258   \n",
       "3       False                                 NaN     40.110148    -83.036035   \n",
       "4       False                       495 Cooper Rd     40.114891    -82.945295   \n",
       "...       ...                                 ...           ...           ...   \n",
       "2847    False  2245 W Dublin Granville Rd Ste 103     40.089636    -83.050087   \n",
       "2853    False                  8659 Columbus Pike     40.165075    -83.019886   \n",
       "2872    False                     7541 Sawmill Rd     40.120197    -83.091836   \n",
       "2875    False                                 NaN     40.178708    -83.085247   \n",
       "2876    False                                 NaN     40.113375    -83.068552   \n",
       "\n",
       "                                location.labeledLatLngs  location.distance  \\\n",
       "0     [{'label': 'display', 'lat': 40.10957847827210...               2894   \n",
       "1     [{'label': 'display', 'lat': 40.04837036132812...               7311   \n",
       "2     [{'label': 'display', 'lat': 40.1450558, 'lng'...               9114   \n",
       "3     [{'label': 'display', 'lat': 40.11014760015202...              11751   \n",
       "4     [{'label': 'display', 'lat': 40.11489079987515...               4135   \n",
       "...                                                 ...                ...   \n",
       "2847  [{'label': 'display', 'lat': 40.08963617971150...               8660   \n",
       "2853  [{'label': 'display', 'lat': 40.1650748275862,...               4000   \n",
       "2872  [{'label': 'display', 'lat': 40.12019666683196...               9942   \n",
       "2875  [{'label': 'display', 'lat': 40.178708, 'lng':...               9663   \n",
       "2876  [{'label': 'display', 'lat': 40.11337511494923...               8367   \n",
       "\n",
       "     location.postalCode location.cc location.city location.state  \\\n",
       "0                  43081          US   Westerville             OH   \n",
       "1                  43230          US       Gahanna             OH   \n",
       "2                  43240          US      Columbus             OH   \n",
       "3                  43223          US      Columbus             OH   \n",
       "4                  43081          US   Westerville             OH   \n",
       "...                  ...         ...           ...            ...   \n",
       "2847               43085          US   Worthington             OH   \n",
       "2853               43035          US  Lewis Center             OH   \n",
       "2872               43016          US      Columbus             OH   \n",
       "2875               43065          US        Powell             OH   \n",
       "2876                 NaN          US      Columbus             OH   \n",
       "\n",
       "     location.country                          location.formattedAddress  \\\n",
       "0       United States  [187 W Schrock Rd, Westerville, OH 43081, Unit...   \n",
       "1       United States    [551 Ymca Pl, Gahanna, OH 43230, United States]   \n",
       "2       United States  [1085 Polaris Pkwy, Columbus, OH 43240, United...   \n",
       "3       United States                [Columbus, OH 43223, United States]   \n",
       "4       United States  [495 Cooper Rd, Westerville, OH 43081, United ...   \n",
       "...               ...                                                ...   \n",
       "2847    United States  [2245 W Dublin Granville Rd Ste 103, Worthingt...   \n",
       "2853    United States  [8659 Columbus Pike, Lewis Center, OH 43035, U...   \n",
       "2872    United States  [7541 Sawmill Rd, Columbus, OH 43016, United S...   \n",
       "2875    United States                  [Powell, OH 43065, United States]   \n",
       "2876    United States                      [Columbus, OH, United States]   \n",
       "\n",
       "     venuePage.id location.crossStreet location.neighborhood  \n",
       "0             NaN                  NaN                   NaN  \n",
       "1       122931242                  NaN                   NaN  \n",
       "2             NaN                  NaN                   NaN  \n",
       "3             NaN                  NaN                   NaN  \n",
       "4             NaN                  NaN                   NaN  \n",
       "...           ...                  ...                   ...  \n",
       "2847          NaN                  NaN                   NaN  \n",
       "2853          NaN                  NaN                   NaN  \n",
       "2872          NaN                  NaN                   NaN  \n",
       "2875          NaN                  NaN                   NaN  \n",
       "2876          NaN                  NaN                   NaN  \n",
       "\n",
       "[381 rows x 19 columns]"
      ],
      "text/html": "<div>\n<style scoped>\n    .dataframe tbody tr th:only-of-type {\n        vertical-align: middle;\n    }\n\n    .dataframe tbody tr th {\n        vertical-align: top;\n    }\n\n    .dataframe thead th {\n        text-align: right;\n    }\n</style>\n<table border=\"1\" class=\"dataframe\">\n  <thead>\n    <tr style=\"text-align: right;\">\n      <th></th>\n      <th>id</th>\n      <th>name</th>\n      <th>categories</th>\n      <th>referralId</th>\n      <th>hasPerk</th>\n      <th>location.address</th>\n      <th>location.lat</th>\n      <th>location.lng</th>\n      <th>location.labeledLatLngs</th>\n      <th>location.distance</th>\n      <th>location.postalCode</th>\n      <th>location.cc</th>\n      <th>location.city</th>\n      <th>location.state</th>\n      <th>location.country</th>\n      <th>location.formattedAddress</th>\n      <th>venuePage.id</th>\n      <th>location.crossStreet</th>\n      <th>location.neighborhood</th>\n    </tr>\n  </thead>\n  <tbody>\n    <tr>\n      <th>0</th>\n      <td>4e806be17ee6677f0a2549a7</td>\n      <td>Child Development and Autism Centers</td>\n      <td>[{'id': '4bf58dd8d48988d177941735', 'name': 'D...</td>\n      <td>v-1609786279</td>\n      <td>False</td>\n      <td>187 W Schrock Rd</td>\n      <td>40.109578</td>\n      <td>-82.931797</td>\n      <td>[{'label': 'display', 'lat': 40.10957847827210...</td>\n      <td>2894</td>\n      <td>43081</td>\n      <td>US</td>\n      <td>Westerville</td>\n      <td>OH</td>\n      <td>United States</td>\n      <td>[187 W Schrock Rd, Westerville, OH 43081, Unit...</td>\n      <td>NaN</td>\n      <td>NaN</td>\n      <td>NaN</td>\n    </tr>\n    <tr>\n      <th>1</th>\n      <td>550875f2498ed14f1962062f</td>\n      <td>Ohio State Outpatient Rehabilitation Gahanna YMCA</td>\n      <td>[{'id': '4bf58dd8d48988d196941735', 'name': 'H...</td>\n      <td>v-1609786279</td>\n      <td>False</td>\n      <td>551 Ymca Pl</td>\n      <td>40.048370</td>\n      <td>-82.857063</td>\n      <td>[{'label': 'display', 'lat': 40.04837036132812...</td>\n      <td>7311</td>\n      <td>43230</td>\n      <td>US</td>\n      <td>Gahanna</td>\n      <td>OH</td>\n      <td>United States</td>\n      <td>[551 Ymca Pl, Gahanna, OH 43230, United States]</td>\n      <td>122931242</td>\n      <td>NaN</td>\n      <td>NaN</td>\n    </tr>\n    <tr>\n      <th>2</th>\n      <td>5f6ba0a26c680a653d7297da</td>\n      <td>Walk In Urgent Care</td>\n      <td>[{'id': '4bf58dd8d48988d196941735', 'name': 'H...</td>\n      <td>v-1609786279</td>\n      <td>False</td>\n      <td>1085 Polaris Pkwy</td>\n      <td>40.145056</td>\n      <td>-82.992258</td>\n      <td>[{'label': 'display', 'lat': 40.1450558, 'lng'...</td>\n      <td>9114</td>\n      <td>43240</td>\n      <td>US</td>\n      <td>Columbus</td>\n      <td>OH</td>\n      <td>United States</td>\n      <td>[1085 Polaris Pkwy, Columbus, OH 43240, United...</td>\n      <td>NaN</td>\n      <td>NaN</td>\n      <td>NaN</td>\n    </tr>\n    <tr>\n      <th>3</th>\n      <td>501d17b8e4b09fbdec1c12c9</td>\n      <td>H12B HEM/ONC At NCH</td>\n      <td>[{'id': '4bf58dd8d48988d196941735', 'name': 'H...</td>\n      <td>v-1609786279</td>\n      <td>False</td>\n      <td>NaN</td>\n      <td>40.110148</td>\n      <td>-83.036035</td>\n      <td>[{'label': 'display', 'lat': 40.11014760015202...</td>\n      <td>11751</td>\n      <td>43223</td>\n      <td>US</td>\n      <td>Columbus</td>\n      <td>OH</td>\n      <td>United States</td>\n      <td>[Columbus, OH 43223, United States]</td>\n      <td>NaN</td>\n      <td>NaN</td>\n      <td>NaN</td>\n    </tr>\n    <tr>\n      <th>4</th>\n      <td>4b4f2baaf964a5201cfc26e3</td>\n      <td>St Ann's Medical Office Building</td>\n      <td>[{'id': '4bf58dd8d48988d196941735', 'name': 'H...</td>\n      <td>v-1609786279</td>\n      <td>False</td>\n      <td>495 Cooper Rd</td>\n      <td>40.114891</td>\n      <td>-82.945295</td>\n      <td>[{'label': 'display', 'lat': 40.11489079987515...</td>\n      <td>4135</td>\n      <td>43081</td>\n      <td>US</td>\n      <td>Westerville</td>\n      <td>OH</td>\n      <td>United States</td>\n      <td>[495 Cooper Rd, Westerville, OH 43081, United ...</td>\n      <td>NaN</td>\n      <td>NaN</td>\n      <td>NaN</td>\n    </tr>\n    <tr>\n      <th>...</th>\n      <td>...</td>\n      <td>...</td>\n      <td>...</td>\n      <td>...</td>\n      <td>...</td>\n      <td>...</td>\n      <td>...</td>\n      <td>...</td>\n      <td>...</td>\n      <td>...</td>\n      <td>...</td>\n      <td>...</td>\n      <td>...</td>\n      <td>...</td>\n      <td>...</td>\n      <td>...</td>\n      <td>...</td>\n      <td>...</td>\n      <td>...</td>\n    </tr>\n    <tr>\n      <th>2847</th>\n      <td>589a0a369398ab160bd6a16e</td>\n      <td>Linworths Pharmacy</td>\n      <td>[{'id': '4bf58dd8d48988d10f951735', 'name': 'P...</td>\n      <td>v-1609786301</td>\n      <td>False</td>\n      <td>2245 W Dublin Granville Rd Ste 103</td>\n      <td>40.089636</td>\n      <td>-83.050087</td>\n      <td>[{'label': 'display', 'lat': 40.08963617971150...</td>\n      <td>8660</td>\n      <td>43085</td>\n      <td>US</td>\n      <td>Worthington</td>\n      <td>OH</td>\n      <td>United States</td>\n      <td>[2245 W Dublin Granville Rd Ste 103, Worthingt...</td>\n      <td>NaN</td>\n      <td>NaN</td>\n      <td>NaN</td>\n    </tr>\n    <tr>\n      <th>2853</th>\n      <td>551c1117498e6d869618307e</td>\n      <td>Walmart Pharmacy</td>\n      <td>[{'id': '4bf58dd8d48988d10f951735', 'name': 'P...</td>\n      <td>v-1609786301</td>\n      <td>False</td>\n      <td>8659 Columbus Pike</td>\n      <td>40.165075</td>\n      <td>-83.019886</td>\n      <td>[{'label': 'display', 'lat': 40.1650748275862,...</td>\n      <td>4000</td>\n      <td>43035</td>\n      <td>US</td>\n      <td>Lewis Center</td>\n      <td>OH</td>\n      <td>United States</td>\n      <td>[8659 Columbus Pike, Lewis Center, OH 43035, U...</td>\n      <td>NaN</td>\n      <td>NaN</td>\n      <td>NaN</td>\n    </tr>\n    <tr>\n      <th>2872</th>\n      <td>4d28cdb46e27a143bd0f1e24</td>\n      <td>Complete nutrition</td>\n      <td>[{'id': '4bf58dd8d48988d10f951735', 'name': 'P...</td>\n      <td>v-1609786301</td>\n      <td>False</td>\n      <td>7541 Sawmill Rd</td>\n      <td>40.120197</td>\n      <td>-83.091836</td>\n      <td>[{'label': 'display', 'lat': 40.12019666683196...</td>\n      <td>9942</td>\n      <td>43016</td>\n      <td>US</td>\n      <td>Columbus</td>\n      <td>OH</td>\n      <td>United States</td>\n      <td>[7541 Sawmill Rd, Columbus, OH 43016, United S...</td>\n      <td>NaN</td>\n      <td>NaN</td>\n      <td>NaN</td>\n    </tr>\n    <tr>\n      <th>2875</th>\n      <td>5104adbbe4b0ed508b8a2b5e</td>\n      <td>Campari Office</td>\n      <td>[{'id': '4bf58dd8d48988d10f951735', 'name': 'P...</td>\n      <td>v-1609786301</td>\n      <td>False</td>\n      <td>NaN</td>\n      <td>40.178708</td>\n      <td>-83.085247</td>\n      <td>[{'label': 'display', 'lat': 40.178708, 'lng':...</td>\n      <td>9663</td>\n      <td>43065</td>\n      <td>US</td>\n      <td>Powell</td>\n      <td>OH</td>\n      <td>United States</td>\n      <td>[Powell, OH 43065, United States]</td>\n      <td>NaN</td>\n      <td>NaN</td>\n      <td>NaN</td>\n    </tr>\n    <tr>\n      <th>2876</th>\n      <td>5163a42de4b095f6f027b6cc</td>\n      <td>Estra's Vitamin Shoppe</td>\n      <td>[{'id': '4bf58dd8d48988d10f951735', 'name': 'P...</td>\n      <td>v-1609786301</td>\n      <td>False</td>\n      <td>NaN</td>\n      <td>40.113375</td>\n      <td>-83.068552</td>\n      <td>[{'label': 'display', 'lat': 40.11337511494923...</td>\n      <td>8367</td>\n      <td>NaN</td>\n      <td>US</td>\n      <td>Columbus</td>\n      <td>OH</td>\n      <td>United States</td>\n      <td>[Columbus, OH, United States]</td>\n      <td>NaN</td>\n      <td>NaN</td>\n      <td>NaN</td>\n    </tr>\n  </tbody>\n</table>\n<p>381 rows × 19 columns</p>\n</div>"
     },
     "metadata": {},
     "execution_count": 13
    }
   ],
   "source": [
    "hp_df=hp_df.drop_duplicates(['id'])\n",
    "hp_df"
   ]
  },
  {
   "cell_type": "markdown",
   "metadata": {},
   "source": [
    "## COVID-19 Testing Locations"
   ]
  },
  {
   "cell_type": "markdown",
   "metadata": {},
   "source": [
    "Install package"
   ]
  },
  {
   "cell_type": "code",
   "execution_count": 14,
   "metadata": {},
   "outputs": [],
   "source": [
    "import PyPDF2\n",
    "# source of pdf scraping https://www.youtube.com/watch?v=UmPe07a3bWs"
   ]
  },
  {
   "cell_type": "markdown",
   "metadata": {},
   "source": [
    "Scrapes pdf itself"
   ]
  },
  {
   "cell_type": "code",
   "execution_count": 15,
   "metadata": {},
   "outputs": [
    {
     "output_type": "stream",
     "name": "stdout",
     "text": [
      "['COVID-19 Community Testing', 'No one will be turned away for inability to pay. Questions? Call Columbus Public Health at 614-645-1519.', '˜˚˛˝˙ˆˇ˘ˆ', '˜', '˜', 'Information compiled by ', 'Columbus Public Health; ', 'updated 10/6/2020', 'Columbus Public Health', ' (testing provided ', 'by Mount Carmel, OhioHealth and The Ohio ', 'State University Wexner Medical Center)', '614-645-1519', 'www.columbus.gov/coronavirus', '1. Ohio Expo Center & State Fair Celeste Center ', '717 E. 17th Ave., Columbus', 'Mon.-Fri. Œ 9 a.m.-4 p.m.', 'Heart of Ohio Family Health ', '614-235-5555', 'https://heartofohiofamilyhealth.org', '2. Capital Park Family Health Center ', '2365 Innis Rd., Columbus', 'Mon., Tue., Wed., Fri. Œ 8 a.m.-5 p.m.', 'Thu., Œ 8 a.m.-7:30 p.m.', '3. Whitehall Family Health Center ', '882 S. Hamilton Rd., Whitehall', 'Mon., Wed., Thu., Fri. Œ 8 a.m.-5 p.m.', 'Tue. Œ 8 a.m.-7:30 p.m.', 'Lower Lights Christian Health Center ', '614-274-1455', 'https://llchc.org/covid19', '4. Lower Lights at Mount Carmel West ', '777 W. State St., Columbus', 'Fri. Œ 9 a.m.-5 p.m.', 'PrimaryOne Health614-859-1895 ', 'www.primaryonehealth.org/covid19testing ', '5. PrimaryOne Health at the Health and ', 'Wellness Center  ', '2300 W. Broad St., Columbus', 'Mon., Wed., Fri. Œ 9 a.m.-1 p.m. ', '6. PrimaryOne Health at the John R. Maloney ', 'Health and Wellness Center ', '1905 Parsons Ave., Columbus', 'Mon., Wed., Fri. Œ 9 a.m.-1 p.m. ', '7. PrimaryOne Health ', '3433 Agler Rd., Columbus', 'Mon., Wed., Fri. Œ 9 a.m.-1 p.m.  ', '8. PrimaryOne Health at St. Stephens ', 'Community House', '1500 E. 17th Ave., Columbus', 'Mon., Wed., Fri. Œ 9 a.m.-1 p.m.  ', 'Equitas Health', '614-340-6700 ', 'https://equitashealth.com', '9. Equitas Health King-Lincoln Medical Center ', '750 E. Long St., Columbus', 'Telehealth Screening: Mon.-Fri. Œ 9 a.m.-1 p.m.', 'Testing: Mon.-Fri. Œ 11 a.m.-3 p.m.', 'Southeast Healthcare', ' 614-360-0160', '10. 86 N. Front St., Columbus', 'Mon., Wed., Fri. Œ 1-4 p.m', '---------------------------------------------------------------------------If you already have a primary care provider, contact them ', 'about getting tested for COVID-19. ', 'Preregistration and appointment is required for testing. Call testing organization to schedule. ', '']\n"
     ]
    }
   ],
   "source": [
    "import io\n",
    "\n",
    "import requests\n",
    "from PyPDF2 import PdfFileReader\n",
    "\n",
    "url = 'https://www.columbus.gov/uploadedFiles/Columbus/Departments/Public_Health/All_Programs/Emergency_Preparedness/Coronavirus/LocalTesting_FQHCs_7.16.2020.pdf'\n",
    "\n",
    "r = requests.get(url)\n",
    "f = io.BytesIO(r.content)\n",
    "\n",
    "reader = PdfFileReader(f)\n",
    "contents = reader.getPage(0).extractText().split('\\n')\n",
    "print(contents)"
   ]
  },
  {
   "cell_type": "markdown",
   "metadata": {},
   "source": [
    "Filters to grab address"
   ]
  },
  {
   "cell_type": "code",
   "execution_count": 16,
   "metadata": {},
   "outputs": [
    {
     "output_type": "stream",
     "name": "stdout",
     "text": [
      "['717 E. 17th Ave., Columbus', '2365 Innis Rd., Columbus', '882 S. Hamilton Rd., Whitehall', '777 W. State St., Columbus', '2300 W. Broad St., Columbus', '1905 Parsons Ave., Columbus', '3433 Agler Rd., Columbus', '1500 E. 17th Ave., Columbus', '750 E. Long St., Columbus', ' 86 N. Front St., Columbus']\n"
     ]
    }
   ],
   "source": [
    "import re\n",
    "\n",
    "address_extract ='\\d+[ ](?:[A-Za-z0-9.-]+[ ]?)+(?:Avenue|Lane|Road|Boulevard|Drive|Street|Ave|Dr|Rd|Blvd|Ln|St)\\.?'\n",
    "p = re.compile(address_extract)\n",
    "testingLocations = [ content for content in contents if p.match(content)]\n",
    "p2 = re.compile('\\d+\\.')\n",
    "covid_test_providers = [ content for content in contents if p2.match(content)]\n",
    "testingLocations = testingLocations+[re.sub(\"\\d+\\.\",\"\",test) for test in covid_test_providers if re.search(address_extract,test)]\n",
    "print(testingLocations)"
   ]
  },
  {
   "source": [
    "# Get Cases by ZIP"
   ],
   "cell_type": "markdown",
   "metadata": {}
  },
  {
   "cell_type": "markdown",
   "metadata": {},
   "source": [
    "## COVID-19 Numbers"
   ]
  },
  {
   "cell_type": "code",
   "execution_count": 17,
   "metadata": {},
   "outputs": [
    {
     "output_type": "execute_result",
     "data": {
      "text/plain": [
       "  Zip Code  Population Case Count - Cumulative Case Count - Last 30 Days   \\\n",
       "0     43001      2,810                     151                         37   \n",
       "1     43002      3,744                     NaN                        NaN   \n",
       "2     43003      3,005                     140                         56   \n",
       "3     43004     26,139                   2,311                        583   \n",
       "4     43005        201                       9                        NaN   \n",
       "\n",
       "   Case Count - Last 14 Days  Case Count Per 100K - Cumulative  \\\n",
       "0                        14.0                         5,373.70   \n",
       "1                         NaN                              NaN   \n",
       "2                        25.0                         4,658.90   \n",
       "3                       250.0                         8,841.20   \n",
       "4                         NaN                         4,477.60   \n",
       "\n",
       "  Case Count Per 100K - Last 30 Days Case Count Per 100K - Last 14 Days  \n",
       "0                           1,316.70                              498.2  \n",
       "1                                NaN                                NaN  \n",
       "2                           1,863.60                              831.9  \n",
       "3                           2,230.40                              956.4  \n",
       "4                                NaN                                NaN  "
      ],
      "text/html": "<div>\n<style scoped>\n    .dataframe tbody tr th:only-of-type {\n        vertical-align: middle;\n    }\n\n    .dataframe tbody tr th {\n        vertical-align: top;\n    }\n\n    .dataframe thead th {\n        text-align: right;\n    }\n</style>\n<table border=\"1\" class=\"dataframe\">\n  <thead>\n    <tr style=\"text-align: right;\">\n      <th></th>\n      <th>Zip Code</th>\n      <th>Population</th>\n      <th>Case Count - Cumulative</th>\n      <th>Case Count - Last 30 Days</th>\n      <th>Case Count - Last 14 Days</th>\n      <th>Case Count Per 100K - Cumulative</th>\n      <th>Case Count Per 100K - Last 30 Days</th>\n      <th>Case Count Per 100K - Last 14 Days</th>\n    </tr>\n  </thead>\n  <tbody>\n    <tr>\n      <th>0</th>\n      <td>43001</td>\n      <td>2,810</td>\n      <td>151</td>\n      <td>37</td>\n      <td>14.0</td>\n      <td>5,373.70</td>\n      <td>1,316.70</td>\n      <td>498.2</td>\n    </tr>\n    <tr>\n      <th>1</th>\n      <td>43002</td>\n      <td>3,744</td>\n      <td>NaN</td>\n      <td>NaN</td>\n      <td>NaN</td>\n      <td>NaN</td>\n      <td>NaN</td>\n      <td>NaN</td>\n    </tr>\n    <tr>\n      <th>2</th>\n      <td>43003</td>\n      <td>3,005</td>\n      <td>140</td>\n      <td>56</td>\n      <td>25.0</td>\n      <td>4,658.90</td>\n      <td>1,863.60</td>\n      <td>831.9</td>\n    </tr>\n    <tr>\n      <th>3</th>\n      <td>43004</td>\n      <td>26,139</td>\n      <td>2,311</td>\n      <td>583</td>\n      <td>250.0</td>\n      <td>8,841.20</td>\n      <td>2,230.40</td>\n      <td>956.4</td>\n    </tr>\n    <tr>\n      <th>4</th>\n      <td>43005</td>\n      <td>201</td>\n      <td>9</td>\n      <td>NaN</td>\n      <td>NaN</td>\n      <td>4,477.60</td>\n      <td>NaN</td>\n      <td>NaN</td>\n    </tr>\n  </tbody>\n</table>\n</div>"
     },
     "metadata": {},
     "execution_count": 17
    }
   ],
   "source": [
    "zip_cases_df =  pd.read_csv(\"https://coronavirus.ohio.gov/static/dashboards/COVIDSummaryDataZIP.csv\")\n",
    "zip_cases_df.head()"
   ]
  },
  {
   "source": [
    "***\n",
    "#  Part 2: Modifying of data\n",
    "The Dataframes are:\n",
    "- zip_cases_df: Cases in Zip codes \n",
    "- testingLocations: Locations of current testing sites\n",
    "- hp_df: Hospital and Pharmacy Location\n",
    "- zip_info_df: Demographic Information by Zip code\n",
    "\n",
    "***"
   ],
   "cell_type": "markdown",
   "metadata": {}
  },
  {
   "source": [
    "## Modify zip_info_df:"
   ],
   "cell_type": "markdown",
   "metadata": {}
  },
  {
   "source": [
    "zip_info_df.columns"
   ],
   "cell_type": "code",
   "metadata": {},
   "execution_count": 18,
   "outputs": [
    {
     "output_type": "execute_result",
     "data": {
      "text/plain": [
       "Index(['# Business Mailboxes:', '# Residential Mailboxes:', '# of Employees:',\n",
       "       '113th Congressional District:', '113th Congressional Land Area:',\n",
       "       '1st Quarter Payroll:', '2010 Population:', '65+:',\n",
       "       'American Indian Population:', 'Annual Payroll:', 'Area Code:',\n",
       "       'Asian Population:', 'Average House Value:',\n",
       "       'Avg. Income Per Household:', 'Black Population:',\n",
       "       'CBSA Division Name:', 'CBSA Division Population:', 'CBSA Division:',\n",
       "       'CBSA Name:', 'CBSA Population:', 'CBSA Type:', 'CBSA:', 'Children:',\n",
       "       'City Alias(es):', 'City State Key:', 'City Type:', 'City:',\n",
       "       'Classification:', 'Counties:', 'County FIPS:', 'Current Population:',\n",
       "       'Disabled Workers:', 'Division:', 'Elevation:', 'Female Median Age:',\n",
       "       'Female Population:', 'Hawaiian Population:', 'Hispanic Population:',\n",
       "       'Households per ZIP Code:', 'Intro Date:', 'Land Area:', 'Latitude:',\n",
       "       'Longitude:', 'MSA Name:', 'MSA:', 'Male Median Age:',\n",
       "       'Male Population:', 'Median Age:', 'Monthly Benefits - All:',\n",
       "       'Monthly Benefits - Retired Workers:', 'Monthly Benefits - Widow(ers):',\n",
       "       'Multi County:', 'Multi Family Delivery Units:',\n",
       "       'Number of Businesses:', 'Observes Day Light Savings:',\n",
       "       'Other Population:', 'PMSA Name:', 'PMSA:', 'Persons Per Household:',\n",
       "       'Preferred Last Line Key:', 'Region:', 'Retired Workers:',\n",
       "       'Single Family Delivery Units:', 'Spouses:', 'State FIPS:', 'State:',\n",
       "       'Time Zone:', 'Total Beneficiaries:', 'Total Delivery Receptacles:',\n",
       "       'Water Area:', 'White Population:', 'Widow(er)s and Parents:',\n",
       "       'Zip Code:', ' ', 'City Alias(es) To Avoid Using:'],\n",
       "      dtype='object')"
      ]
     },
     "metadata": {},
     "execution_count": 18
    }
   ]
  },
  {
   "source": [
    "## Drop Columns"
   ],
   "cell_type": "markdown",
   "metadata": {}
  },
  {
   "source": [
    "Note: Top 17 guessed chosen for simplicity sake of project\n",
    "In addition to Zip Code, Latitude,Longitude, and Current Population"
   ],
   "cell_type": "markdown",
   "metadata": {}
  },
  {
   "cell_type": "code",
   "execution_count": 19,
   "metadata": {},
   "outputs": [],
   "source": [
    "zip_info_df=zip_info_df[['Zip Code:','Latitude:','Longitude:','Elevation:','Current Population:','Households per ZIP Code:','Average House Value:','Avg. Income Per Household:','Persons Per Household:','White Population:','Median Age:','Male Population:','Female Population:','Black Population:','Hispanic Population:','Retired Workers:','Disabled Workers:','Spouses:','Children:', 'Number of Businesses:','# of Employees:']]"
   ]
  },
  {
   "source": [
    "### Reasons for certain factors:\n",
    "- Sex & Race: The number of cases of COVID-19 may be correlated with gender as some studies have already shown.\n",
    "- Latitude: Never actually shown or prooven but it could be a factor to look into\n",
    "- Spouses and Children: These people may approach the virus more differently than those who aren't in the category\n",
    "- Number of Businesses: This may affect people's response to the virus based off of News occuring as far as the pandemic\n",
    "- Type of workers: These workers may come predisposed to the virus or coming into contact with it\n"
   ],
   "cell_type": "markdown",
   "metadata": {}
  },
  {
   "source": [
    "Look at head of data frame"
   ],
   "cell_type": "markdown",
   "metadata": {}
  },
  {
   "cell_type": "code",
   "execution_count": 20,
   "metadata": {},
   "outputs": [
    {
     "output_type": "execute_result",
     "data": {
      "text/plain": [
       "  Zip Code:  Latitude:  Longitude: Elevation: Current Population:  \\\n",
       "0     43081  40.106049  -82.898116     873 ft              66,855   \n",
       "1     43085  40.100474  -83.013908     905 ft              25,037   \n",
       "2     43201  39.995575  -82.999464     784 ft              39,851   \n",
       "3     43202  40.020272  -83.017128     724 ft              21,426   \n",
       "4     43203  39.971834  -82.966754     821 ft               9,825   \n",
       "\n",
       "  Households per ZIP Code: Average House Value: Avg. Income Per Household:  \\\n",
       "0                   22,754             $197,800                    $81,813   \n",
       "1                    9,768             $247,500                    $83,524   \n",
       "2                   14,697             $240,700                    $31,891   \n",
       "3                    9,952             $208,300                    $53,331   \n",
       "4                    3,533              $89,400                    $28,072   \n",
       "\n",
       "  Persons Per Household: White Population:  ... Male Population:  \\\n",
       "0                   2.39            47,805  ...           26,675   \n",
       "1                   2.36            20,891  ...           11,025   \n",
       "2                   2.24            27,369  ...           20,162   \n",
       "3                   2.03            17,151  ...           10,854   \n",
       "4                   2.25             1,160  ...            3,894   \n",
       "\n",
       "  Female Population: Black Population: Hispanic Population: Retired Workers:  \\\n",
       "0             29,316             6,078                1,677            7,195   \n",
       "1             12,233             1,377                  822            3,030   \n",
       "2             15,333             5,495                1,493              630   \n",
       "3              9,397             1,027                  658              840   \n",
       "4              4,214             6,941                  173              650   \n",
       "\n",
       "  Disabled Workers: Spouses: Children: Number of Businesses: # of Employees:  \n",
       "0               800      365       485                  1318          28,811  \n",
       "1               435      180       300                   977          18,013  \n",
       "2               380       30       115                   630           9,974  \n",
       "3               160       40        50                   275           5,133  \n",
       "4               255       25       140                   110           1,198  \n",
       "\n",
       "[5 rows x 21 columns]"
      ],
      "text/html": "<div>\n<style scoped>\n    .dataframe tbody tr th:only-of-type {\n        vertical-align: middle;\n    }\n\n    .dataframe tbody tr th {\n        vertical-align: top;\n    }\n\n    .dataframe thead th {\n        text-align: right;\n    }\n</style>\n<table border=\"1\" class=\"dataframe\">\n  <thead>\n    <tr style=\"text-align: right;\">\n      <th></th>\n      <th>Zip Code:</th>\n      <th>Latitude:</th>\n      <th>Longitude:</th>\n      <th>Elevation:</th>\n      <th>Current Population:</th>\n      <th>Households per ZIP Code:</th>\n      <th>Average House Value:</th>\n      <th>Avg. Income Per Household:</th>\n      <th>Persons Per Household:</th>\n      <th>White Population:</th>\n      <th>...</th>\n      <th>Male Population:</th>\n      <th>Female Population:</th>\n      <th>Black Population:</th>\n      <th>Hispanic Population:</th>\n      <th>Retired Workers:</th>\n      <th>Disabled Workers:</th>\n      <th>Spouses:</th>\n      <th>Children:</th>\n      <th>Number of Businesses:</th>\n      <th># of Employees:</th>\n    </tr>\n  </thead>\n  <tbody>\n    <tr>\n      <th>0</th>\n      <td>43081</td>\n      <td>40.106049</td>\n      <td>-82.898116</td>\n      <td>873 ft</td>\n      <td>66,855</td>\n      <td>22,754</td>\n      <td>$197,800</td>\n      <td>$81,813</td>\n      <td>2.39</td>\n      <td>47,805</td>\n      <td>...</td>\n      <td>26,675</td>\n      <td>29,316</td>\n      <td>6,078</td>\n      <td>1,677</td>\n      <td>7,195</td>\n      <td>800</td>\n      <td>365</td>\n      <td>485</td>\n      <td>1318</td>\n      <td>28,811</td>\n    </tr>\n    <tr>\n      <th>1</th>\n      <td>43085</td>\n      <td>40.100474</td>\n      <td>-83.013908</td>\n      <td>905 ft</td>\n      <td>25,037</td>\n      <td>9,768</td>\n      <td>$247,500</td>\n      <td>$83,524</td>\n      <td>2.36</td>\n      <td>20,891</td>\n      <td>...</td>\n      <td>11,025</td>\n      <td>12,233</td>\n      <td>1,377</td>\n      <td>822</td>\n      <td>3,030</td>\n      <td>435</td>\n      <td>180</td>\n      <td>300</td>\n      <td>977</td>\n      <td>18,013</td>\n    </tr>\n    <tr>\n      <th>2</th>\n      <td>43201</td>\n      <td>39.995575</td>\n      <td>-82.999464</td>\n      <td>784 ft</td>\n      <td>39,851</td>\n      <td>14,697</td>\n      <td>$240,700</td>\n      <td>$31,891</td>\n      <td>2.24</td>\n      <td>27,369</td>\n      <td>...</td>\n      <td>20,162</td>\n      <td>15,333</td>\n      <td>5,495</td>\n      <td>1,493</td>\n      <td>630</td>\n      <td>380</td>\n      <td>30</td>\n      <td>115</td>\n      <td>630</td>\n      <td>9,974</td>\n    </tr>\n    <tr>\n      <th>3</th>\n      <td>43202</td>\n      <td>40.020272</td>\n      <td>-83.017128</td>\n      <td>724 ft</td>\n      <td>21,426</td>\n      <td>9,952</td>\n      <td>$208,300</td>\n      <td>$53,331</td>\n      <td>2.03</td>\n      <td>17,151</td>\n      <td>...</td>\n      <td>10,854</td>\n      <td>9,397</td>\n      <td>1,027</td>\n      <td>658</td>\n      <td>840</td>\n      <td>160</td>\n      <td>40</td>\n      <td>50</td>\n      <td>275</td>\n      <td>5,133</td>\n    </tr>\n    <tr>\n      <th>4</th>\n      <td>43203</td>\n      <td>39.971834</td>\n      <td>-82.966754</td>\n      <td>821 ft</td>\n      <td>9,825</td>\n      <td>3,533</td>\n      <td>$89,400</td>\n      <td>$28,072</td>\n      <td>2.25</td>\n      <td>1,160</td>\n      <td>...</td>\n      <td>3,894</td>\n      <td>4,214</td>\n      <td>6,941</td>\n      <td>173</td>\n      <td>650</td>\n      <td>255</td>\n      <td>25</td>\n      <td>140</td>\n      <td>110</td>\n      <td>1,198</td>\n    </tr>\n  </tbody>\n</table>\n<p>5 rows × 21 columns</p>\n</div>"
     },
     "metadata": {},
     "execution_count": 20
    }
   ],
   "source": [
    "zip_info_df.head()"
   ]
  },
  {
   "source": [
    "Filter out irrelevant symbols or words with regex"
   ],
   "cell_type": "markdown",
   "metadata": {}
  },
  {
   "cell_type": "code",
   "execution_count": 21,
   "metadata": {},
   "outputs": [
    {
     "output_type": "execute_result",
     "data": {
      "text/plain": [
       "  Zip Code:  Latitude:  Longitude: Elevation: Current Population:  \\\n",
       "0     43081  40.106049  -82.898116       873                66855   \n",
       "1     43085  40.100474  -83.013908       905                25037   \n",
       "2     43201  39.995575  -82.999464       784                39851   \n",
       "3     43202  40.020272  -83.017128       724                21426   \n",
       "4     43203  39.971834  -82.966754       821                 9825   \n",
       "\n",
       "  Households per ZIP Code: Average House Value: Avg. Income Per Household:  \\\n",
       "0                    22754               197800                      81813   \n",
       "1                     9768               247500                      83524   \n",
       "2                    14697               240700                      31891   \n",
       "3                     9952               208300                      53331   \n",
       "4                     3533                89400                      28072   \n",
       "\n",
       "  Persons Per Household: White Population:  ... Male Population:  \\\n",
       "0                   2.39             47805  ...            26675   \n",
       "1                   2.36             20891  ...            11025   \n",
       "2                   2.24             27369  ...            20162   \n",
       "3                   2.03             17151  ...            10854   \n",
       "4                   2.25              1160  ...             3894   \n",
       "\n",
       "  Female Population: Black Population: Hispanic Population: Retired Workers:  \\\n",
       "0              29316              6078                 1677             7195   \n",
       "1              12233              1377                  822             3030   \n",
       "2              15333              5495                 1493              630   \n",
       "3               9397              1027                  658              840   \n",
       "4               4214              6941                  173              650   \n",
       "\n",
       "  Disabled Workers: Spouses: Children: Number of Businesses: # of Employees:  \n",
       "0               800      365       485                  1318           28811  \n",
       "1               435      180       300                   977           18013  \n",
       "2               380       30       115                   630            9974  \n",
       "3               160       40        50                   275            5133  \n",
       "4               255       25       140                   110            1198  \n",
       "\n",
       "[5 rows x 21 columns]"
      ],
      "text/html": "<div>\n<style scoped>\n    .dataframe tbody tr th:only-of-type {\n        vertical-align: middle;\n    }\n\n    .dataframe tbody tr th {\n        vertical-align: top;\n    }\n\n    .dataframe thead th {\n        text-align: right;\n    }\n</style>\n<table border=\"1\" class=\"dataframe\">\n  <thead>\n    <tr style=\"text-align: right;\">\n      <th></th>\n      <th>Zip Code:</th>\n      <th>Latitude:</th>\n      <th>Longitude:</th>\n      <th>Elevation:</th>\n      <th>Current Population:</th>\n      <th>Households per ZIP Code:</th>\n      <th>Average House Value:</th>\n      <th>Avg. Income Per Household:</th>\n      <th>Persons Per Household:</th>\n      <th>White Population:</th>\n      <th>...</th>\n      <th>Male Population:</th>\n      <th>Female Population:</th>\n      <th>Black Population:</th>\n      <th>Hispanic Population:</th>\n      <th>Retired Workers:</th>\n      <th>Disabled Workers:</th>\n      <th>Spouses:</th>\n      <th>Children:</th>\n      <th>Number of Businesses:</th>\n      <th># of Employees:</th>\n    </tr>\n  </thead>\n  <tbody>\n    <tr>\n      <th>0</th>\n      <td>43081</td>\n      <td>40.106049</td>\n      <td>-82.898116</td>\n      <td>873</td>\n      <td>66855</td>\n      <td>22754</td>\n      <td>197800</td>\n      <td>81813</td>\n      <td>2.39</td>\n      <td>47805</td>\n      <td>...</td>\n      <td>26675</td>\n      <td>29316</td>\n      <td>6078</td>\n      <td>1677</td>\n      <td>7195</td>\n      <td>800</td>\n      <td>365</td>\n      <td>485</td>\n      <td>1318</td>\n      <td>28811</td>\n    </tr>\n    <tr>\n      <th>1</th>\n      <td>43085</td>\n      <td>40.100474</td>\n      <td>-83.013908</td>\n      <td>905</td>\n      <td>25037</td>\n      <td>9768</td>\n      <td>247500</td>\n      <td>83524</td>\n      <td>2.36</td>\n      <td>20891</td>\n      <td>...</td>\n      <td>11025</td>\n      <td>12233</td>\n      <td>1377</td>\n      <td>822</td>\n      <td>3030</td>\n      <td>435</td>\n      <td>180</td>\n      <td>300</td>\n      <td>977</td>\n      <td>18013</td>\n    </tr>\n    <tr>\n      <th>2</th>\n      <td>43201</td>\n      <td>39.995575</td>\n      <td>-82.999464</td>\n      <td>784</td>\n      <td>39851</td>\n      <td>14697</td>\n      <td>240700</td>\n      <td>31891</td>\n      <td>2.24</td>\n      <td>27369</td>\n      <td>...</td>\n      <td>20162</td>\n      <td>15333</td>\n      <td>5495</td>\n      <td>1493</td>\n      <td>630</td>\n      <td>380</td>\n      <td>30</td>\n      <td>115</td>\n      <td>630</td>\n      <td>9974</td>\n    </tr>\n    <tr>\n      <th>3</th>\n      <td>43202</td>\n      <td>40.020272</td>\n      <td>-83.017128</td>\n      <td>724</td>\n      <td>21426</td>\n      <td>9952</td>\n      <td>208300</td>\n      <td>53331</td>\n      <td>2.03</td>\n      <td>17151</td>\n      <td>...</td>\n      <td>10854</td>\n      <td>9397</td>\n      <td>1027</td>\n      <td>658</td>\n      <td>840</td>\n      <td>160</td>\n      <td>40</td>\n      <td>50</td>\n      <td>275</td>\n      <td>5133</td>\n    </tr>\n    <tr>\n      <th>4</th>\n      <td>43203</td>\n      <td>39.971834</td>\n      <td>-82.966754</td>\n      <td>821</td>\n      <td>9825</td>\n      <td>3533</td>\n      <td>89400</td>\n      <td>28072</td>\n      <td>2.25</td>\n      <td>1160</td>\n      <td>...</td>\n      <td>3894</td>\n      <td>4214</td>\n      <td>6941</td>\n      <td>173</td>\n      <td>650</td>\n      <td>255</td>\n      <td>25</td>\n      <td>140</td>\n      <td>110</td>\n      <td>1198</td>\n    </tr>\n  </tbody>\n</table>\n<p>5 rows × 21 columns</p>\n</div>"
     },
     "metadata": {},
     "execution_count": 21
    }
   ],
   "source": [
    "zip_info_df = zip_info_df.replace(',|\\$|(s|ft)|(s|years)','',regex=True)\n",
    "zip_info_df.head()"
   ]
  },
  {
   "source": [
    "Converts all columns to sometype of numeric value"
   ],
   "cell_type": "markdown",
   "metadata": {}
  },
  {
   "cell_type": "code",
   "execution_count": 22,
   "metadata": {},
   "outputs": [
    {
     "output_type": "execute_result",
     "data": {
      "text/plain": [
       "Zip Code:                       int64\n",
       "Latitude:                     float64\n",
       "Longitude:                    float64\n",
       "Elevation:                      int64\n",
       "Current Population:             int64\n",
       "Households per ZIP Code:        int64\n",
       "Average House Value:            int64\n",
       "Avg. Income Per Household:      int64\n",
       "Persons Per Household:        float64\n",
       "White Population:               int64\n",
       "Median Age:                   float64\n",
       "Male Population:                int64\n",
       "Female Population:              int64\n",
       "Black Population:               int64\n",
       "Hispanic Population:            int64\n",
       "Retired Workers:                int64\n",
       "Disabled Workers:               int64\n",
       "Spouses:                        int64\n",
       "Children:                       int64\n",
       "Number of Businesses:           int64\n",
       "# of Employees:                 int64\n",
       "dtype: object"
      ]
     },
     "metadata": {},
     "execution_count": 22
    }
   ],
   "source": [
    "for i in zip_info_df.columns:\n",
    "    zip_info_df[i] = pd.to_numeric(zip_info_df[i])\n",
    "zip_info_df.dtypes   "
   ]
  },
  {
   "source": [
    "Renames columns without colons"
   ],
   "cell_type": "markdown",
   "metadata": {}
  },
  {
   "cell_type": "code",
   "execution_count": 23,
   "metadata": {},
   "outputs": [
    {
     "output_type": "execute_result",
     "data": {
      "text/plain": [
       "Zip Code                       int64\n",
       "Latitude                     float64\n",
       "Longitude                    float64\n",
       "Elevation                      int64\n",
       "Current Population             int64\n",
       "Households per ZIP Code        int64\n",
       "Average House Value            int64\n",
       "Avg. Income Per Household      int64\n",
       "Persons Per Household        float64\n",
       "White Population               int64\n",
       "Median Age                   float64\n",
       "Male Population                int64\n",
       "Female Population              int64\n",
       "Black Population               int64\n",
       "Hispanic Population            int64\n",
       "Retired Workers                int64\n",
       "Disabled Workers               int64\n",
       "Spouses                        int64\n",
       "Children                       int64\n",
       "Number of Businesses           int64\n",
       "# of Employees                 int64\n",
       "dtype: object"
      ]
     },
     "metadata": {},
     "execution_count": 23
    }
   ],
   "source": [
    "zip_info_df = zip_info_df.rename(columns={str(i): str(i)[:-1] for i in zip_info_df.columns},errors='raise')\n",
    "zip_info_df.dtypes  "
   ]
  },
  {
   "cell_type": "code",
   "execution_count": 24,
   "metadata": {},
   "outputs": [
    {
     "output_type": "execute_result",
     "data": {
      "text/plain": [
       "ZipCode                   object\n",
       "Latitude                 float64\n",
       "Longitude                float64\n",
       "Elevation                  int64\n",
       "CurrentPopulation          int64\n",
       "HouseholdsperZIPCode       int64\n",
       "AverageHouseValue          int64\n",
       "AvgIncomePerHousehold      int64\n",
       "PersonsPerHousehold      float64\n",
       "WhitePopulation            int64\n",
       "MedianAge                float64\n",
       "MalePopulation             int64\n",
       "FemalePopulation           int64\n",
       "BlackPopulation            int64\n",
       "HispanicPopulation         int64\n",
       "RetiredWorkers             int64\n",
       "DisabledWorkers            int64\n",
       "Spouses                    int64\n",
       "Children                   int64\n",
       "NumberofBusinesses         int64\n",
       "#ofEmployees               int64\n",
       "dtype: object"
      ]
     },
     "metadata": {},
     "execution_count": 24
    }
   ],
   "source": [
    "zip_info_df = zip_info_df.rename(columns={str(i): re.sub('\\:|\\.|\\s', '', str(i)) for i in zip_info_df.columns},errors='raise')\n",
    "zip_info_df = zip_info_df.astype({'ZipCode': 'object'})\n",
    "zip_info_df.dtypes  "
   ]
  },
  {
   "source": [
    "## Modify hp_df:"
   ],
   "cell_type": "markdown",
   "metadata": {}
  },
  {
   "cell_type": "code",
   "execution_count": 25,
   "metadata": {},
   "outputs": [
    {
     "output_type": "execute_result",
     "data": {
      "text/plain": [
       "                         id  \\\n",
       "0  4e806be17ee6677f0a2549a7   \n",
       "1  550875f2498ed14f1962062f   \n",
       "2  5f6ba0a26c680a653d7297da   \n",
       "3  501d17b8e4b09fbdec1c12c9   \n",
       "4  4b4f2baaf964a5201cfc26e3   \n",
       "\n",
       "                                                name  \\\n",
       "0               Child Development and Autism Centers   \n",
       "1  Ohio State Outpatient Rehabilitation Gahanna YMCA   \n",
       "2                                Walk In Urgent Care   \n",
       "3                                H12B HEM/ONC At NCH   \n",
       "4                   St Ann's Medical Office Building   \n",
       "\n",
       "                                          categories    referralId  hasPerk  \\\n",
       "0  [{'id': '4bf58dd8d48988d177941735', 'name': 'D...  v-1609786279    False   \n",
       "1  [{'id': '4bf58dd8d48988d196941735', 'name': 'H...  v-1609786279    False   \n",
       "2  [{'id': '4bf58dd8d48988d196941735', 'name': 'H...  v-1609786279    False   \n",
       "3  [{'id': '4bf58dd8d48988d196941735', 'name': 'H...  v-1609786279    False   \n",
       "4  [{'id': '4bf58dd8d48988d196941735', 'name': 'H...  v-1609786279    False   \n",
       "\n",
       "    location.address  location.lat  location.lng  \\\n",
       "0   187 W Schrock Rd     40.109578    -82.931797   \n",
       "1        551 Ymca Pl     40.048370    -82.857063   \n",
       "2  1085 Polaris Pkwy     40.145056    -82.992258   \n",
       "3                NaN     40.110148    -83.036035   \n",
       "4      495 Cooper Rd     40.114891    -82.945295   \n",
       "\n",
       "                             location.labeledLatLngs  location.distance  \\\n",
       "0  [{'label': 'display', 'lat': 40.10957847827210...               2894   \n",
       "1  [{'label': 'display', 'lat': 40.04837036132812...               7311   \n",
       "2  [{'label': 'display', 'lat': 40.1450558, 'lng'...               9114   \n",
       "3  [{'label': 'display', 'lat': 40.11014760015202...              11751   \n",
       "4  [{'label': 'display', 'lat': 40.11489079987515...               4135   \n",
       "\n",
       "  location.postalCode location.cc location.city location.state  \\\n",
       "0               43081          US   Westerville             OH   \n",
       "1               43230          US       Gahanna             OH   \n",
       "2               43240          US      Columbus             OH   \n",
       "3               43223          US      Columbus             OH   \n",
       "4               43081          US   Westerville             OH   \n",
       "\n",
       "  location.country                          location.formattedAddress  \\\n",
       "0    United States  [187 W Schrock Rd, Westerville, OH 43081, Unit...   \n",
       "1    United States    [551 Ymca Pl, Gahanna, OH 43230, United States]   \n",
       "2    United States  [1085 Polaris Pkwy, Columbus, OH 43240, United...   \n",
       "3    United States                [Columbus, OH 43223, United States]   \n",
       "4    United States  [495 Cooper Rd, Westerville, OH 43081, United ...   \n",
       "\n",
       "  venuePage.id location.crossStreet location.neighborhood  \n",
       "0          NaN                  NaN                   NaN  \n",
       "1    122931242                  NaN                   NaN  \n",
       "2          NaN                  NaN                   NaN  \n",
       "3          NaN                  NaN                   NaN  \n",
       "4          NaN                  NaN                   NaN  "
      ],
      "text/html": "<div>\n<style scoped>\n    .dataframe tbody tr th:only-of-type {\n        vertical-align: middle;\n    }\n\n    .dataframe tbody tr th {\n        vertical-align: top;\n    }\n\n    .dataframe thead th {\n        text-align: right;\n    }\n</style>\n<table border=\"1\" class=\"dataframe\">\n  <thead>\n    <tr style=\"text-align: right;\">\n      <th></th>\n      <th>id</th>\n      <th>name</th>\n      <th>categories</th>\n      <th>referralId</th>\n      <th>hasPerk</th>\n      <th>location.address</th>\n      <th>location.lat</th>\n      <th>location.lng</th>\n      <th>location.labeledLatLngs</th>\n      <th>location.distance</th>\n      <th>location.postalCode</th>\n      <th>location.cc</th>\n      <th>location.city</th>\n      <th>location.state</th>\n      <th>location.country</th>\n      <th>location.formattedAddress</th>\n      <th>venuePage.id</th>\n      <th>location.crossStreet</th>\n      <th>location.neighborhood</th>\n    </tr>\n  </thead>\n  <tbody>\n    <tr>\n      <th>0</th>\n      <td>4e806be17ee6677f0a2549a7</td>\n      <td>Child Development and Autism Centers</td>\n      <td>[{'id': '4bf58dd8d48988d177941735', 'name': 'D...</td>\n      <td>v-1609786279</td>\n      <td>False</td>\n      <td>187 W Schrock Rd</td>\n      <td>40.109578</td>\n      <td>-82.931797</td>\n      <td>[{'label': 'display', 'lat': 40.10957847827210...</td>\n      <td>2894</td>\n      <td>43081</td>\n      <td>US</td>\n      <td>Westerville</td>\n      <td>OH</td>\n      <td>United States</td>\n      <td>[187 W Schrock Rd, Westerville, OH 43081, Unit...</td>\n      <td>NaN</td>\n      <td>NaN</td>\n      <td>NaN</td>\n    </tr>\n    <tr>\n      <th>1</th>\n      <td>550875f2498ed14f1962062f</td>\n      <td>Ohio State Outpatient Rehabilitation Gahanna YMCA</td>\n      <td>[{'id': '4bf58dd8d48988d196941735', 'name': 'H...</td>\n      <td>v-1609786279</td>\n      <td>False</td>\n      <td>551 Ymca Pl</td>\n      <td>40.048370</td>\n      <td>-82.857063</td>\n      <td>[{'label': 'display', 'lat': 40.04837036132812...</td>\n      <td>7311</td>\n      <td>43230</td>\n      <td>US</td>\n      <td>Gahanna</td>\n      <td>OH</td>\n      <td>United States</td>\n      <td>[551 Ymca Pl, Gahanna, OH 43230, United States]</td>\n      <td>122931242</td>\n      <td>NaN</td>\n      <td>NaN</td>\n    </tr>\n    <tr>\n      <th>2</th>\n      <td>5f6ba0a26c680a653d7297da</td>\n      <td>Walk In Urgent Care</td>\n      <td>[{'id': '4bf58dd8d48988d196941735', 'name': 'H...</td>\n      <td>v-1609786279</td>\n      <td>False</td>\n      <td>1085 Polaris Pkwy</td>\n      <td>40.145056</td>\n      <td>-82.992258</td>\n      <td>[{'label': 'display', 'lat': 40.1450558, 'lng'...</td>\n      <td>9114</td>\n      <td>43240</td>\n      <td>US</td>\n      <td>Columbus</td>\n      <td>OH</td>\n      <td>United States</td>\n      <td>[1085 Polaris Pkwy, Columbus, OH 43240, United...</td>\n      <td>NaN</td>\n      <td>NaN</td>\n      <td>NaN</td>\n    </tr>\n    <tr>\n      <th>3</th>\n      <td>501d17b8e4b09fbdec1c12c9</td>\n      <td>H12B HEM/ONC At NCH</td>\n      <td>[{'id': '4bf58dd8d48988d196941735', 'name': 'H...</td>\n      <td>v-1609786279</td>\n      <td>False</td>\n      <td>NaN</td>\n      <td>40.110148</td>\n      <td>-83.036035</td>\n      <td>[{'label': 'display', 'lat': 40.11014760015202...</td>\n      <td>11751</td>\n      <td>43223</td>\n      <td>US</td>\n      <td>Columbus</td>\n      <td>OH</td>\n      <td>United States</td>\n      <td>[Columbus, OH 43223, United States]</td>\n      <td>NaN</td>\n      <td>NaN</td>\n      <td>NaN</td>\n    </tr>\n    <tr>\n      <th>4</th>\n      <td>4b4f2baaf964a5201cfc26e3</td>\n      <td>St Ann's Medical Office Building</td>\n      <td>[{'id': '4bf58dd8d48988d196941735', 'name': 'H...</td>\n      <td>v-1609786279</td>\n      <td>False</td>\n      <td>495 Cooper Rd</td>\n      <td>40.114891</td>\n      <td>-82.945295</td>\n      <td>[{'label': 'display', 'lat': 40.11489079987515...</td>\n      <td>4135</td>\n      <td>43081</td>\n      <td>US</td>\n      <td>Westerville</td>\n      <td>OH</td>\n      <td>United States</td>\n      <td>[495 Cooper Rd, Westerville, OH 43081, United ...</td>\n      <td>NaN</td>\n      <td>NaN</td>\n      <td>NaN</td>\n    </tr>\n  </tbody>\n</table>\n</div>"
     },
     "metadata": {},
     "execution_count": 25
    }
   ],
   "source": [
    "hp_df.head()"
   ]
  },
  {
   "cell_type": "code",
   "execution_count": 26,
   "metadata": {},
   "outputs": [
    {
     "output_type": "execute_result",
     "data": {
      "text/plain": [
       "id                            object\n",
       "name                          object\n",
       "categories                    object\n",
       "referralId                    object\n",
       "hasPerk                         bool\n",
       "location.address              object\n",
       "location.lat                 float64\n",
       "location.lng                 float64\n",
       "location.labeledLatLngs       object\n",
       "location.distance              int64\n",
       "location.postalCode           object\n",
       "location.cc                   object\n",
       "location.city                 object\n",
       "location.state                object\n",
       "location.country              object\n",
       "location.formattedAddress     object\n",
       "venuePage.id                  object\n",
       "location.crossStreet          object\n",
       "location.neighborhood         object\n",
       "dtype: object"
      ]
     },
     "metadata": {},
     "execution_count": 26
    }
   ],
   "source": [
    "hp_df.dtypes"
   ]
  },
  {
   "cell_type": "code",
   "execution_count": 27,
   "metadata": {},
   "outputs": [
    {
     "output_type": "execute_result",
     "data": {
      "text/plain": [
       "['717 E. 17th Ave., Columbus',\n",
       " '2365 Innis Rd., Columbus',\n",
       " '882 S. Hamilton Rd., Whitehall',\n",
       " '777 W. State St., Columbus',\n",
       " '2300 W. Broad St., Columbus',\n",
       " '1905 Parsons Ave., Columbus',\n",
       " '3433 Agler Rd., Columbus',\n",
       " '1500 E. 17th Ave., Columbus',\n",
       " '750 E. Long St., Columbus',\n",
       " ' 86 N. Front St., Columbus']"
      ]
     },
     "metadata": {},
     "execution_count": 27
    }
   ],
   "source": [
    "testingLocations"
   ]
  },
  {
   "source": [
    "Somethings not kept in mind are:\n",
    "- Categories may not be large enough to test\n",
    "- Someplaces may not exist\n",
    "Repetitive Information is kept just for further information purposes."
   ],
   "cell_type": "markdown",
   "metadata": {}
  },
  {
   "cell_type": "code",
   "execution_count": 28,
   "metadata": {},
   "outputs": [
    {
     "output_type": "execute_result",
     "data": {
      "text/plain": [
       "                         id  \\\n",
       "0  4e806be17ee6677f0a2549a7   \n",
       "1  550875f2498ed14f1962062f   \n",
       "2  5f6ba0a26c680a653d7297da   \n",
       "3  501d17b8e4b09fbdec1c12c9   \n",
       "4  4b4f2baaf964a5201cfc26e3   \n",
       "\n",
       "                                                name   location.address  \\\n",
       "0               Child Development and Autism Centers   187 W Schrock Rd   \n",
       "1  Ohio State Outpatient Rehabilitation Gahanna YMCA        551 Ymca Pl   \n",
       "2                                Walk In Urgent Care  1085 Polaris Pkwy   \n",
       "3                                H12B HEM/ONC At NCH                NaN   \n",
       "4                   St Ann's Medical Office Building      495 Cooper Rd   \n",
       "\n",
       "   location.lat  location.lng location.postalCode location.cc location.city  \\\n",
       "0     40.109578    -82.931797               43081          US   Westerville   \n",
       "1     40.048370    -82.857063               43230          US       Gahanna   \n",
       "2     40.145056    -82.992258               43240          US      Columbus   \n",
       "3     40.110148    -83.036035               43223          US      Columbus   \n",
       "4     40.114891    -82.945295               43081          US   Westerville   \n",
       "\n",
       "  location.state location.country  \n",
       "0             OH    United States  \n",
       "1             OH    United States  \n",
       "2             OH    United States  \n",
       "3             OH    United States  \n",
       "4             OH    United States  "
      ],
      "text/html": "<div>\n<style scoped>\n    .dataframe tbody tr th:only-of-type {\n        vertical-align: middle;\n    }\n\n    .dataframe tbody tr th {\n        vertical-align: top;\n    }\n\n    .dataframe thead th {\n        text-align: right;\n    }\n</style>\n<table border=\"1\" class=\"dataframe\">\n  <thead>\n    <tr style=\"text-align: right;\">\n      <th></th>\n      <th>id</th>\n      <th>name</th>\n      <th>location.address</th>\n      <th>location.lat</th>\n      <th>location.lng</th>\n      <th>location.postalCode</th>\n      <th>location.cc</th>\n      <th>location.city</th>\n      <th>location.state</th>\n      <th>location.country</th>\n    </tr>\n  </thead>\n  <tbody>\n    <tr>\n      <th>0</th>\n      <td>4e806be17ee6677f0a2549a7</td>\n      <td>Child Development and Autism Centers</td>\n      <td>187 W Schrock Rd</td>\n      <td>40.109578</td>\n      <td>-82.931797</td>\n      <td>43081</td>\n      <td>US</td>\n      <td>Westerville</td>\n      <td>OH</td>\n      <td>United States</td>\n    </tr>\n    <tr>\n      <th>1</th>\n      <td>550875f2498ed14f1962062f</td>\n      <td>Ohio State Outpatient Rehabilitation Gahanna YMCA</td>\n      <td>551 Ymca Pl</td>\n      <td>40.048370</td>\n      <td>-82.857063</td>\n      <td>43230</td>\n      <td>US</td>\n      <td>Gahanna</td>\n      <td>OH</td>\n      <td>United States</td>\n    </tr>\n    <tr>\n      <th>2</th>\n      <td>5f6ba0a26c680a653d7297da</td>\n      <td>Walk In Urgent Care</td>\n      <td>1085 Polaris Pkwy</td>\n      <td>40.145056</td>\n      <td>-82.992258</td>\n      <td>43240</td>\n      <td>US</td>\n      <td>Columbus</td>\n      <td>OH</td>\n      <td>United States</td>\n    </tr>\n    <tr>\n      <th>3</th>\n      <td>501d17b8e4b09fbdec1c12c9</td>\n      <td>H12B HEM/ONC At NCH</td>\n      <td>NaN</td>\n      <td>40.110148</td>\n      <td>-83.036035</td>\n      <td>43223</td>\n      <td>US</td>\n      <td>Columbus</td>\n      <td>OH</td>\n      <td>United States</td>\n    </tr>\n    <tr>\n      <th>4</th>\n      <td>4b4f2baaf964a5201cfc26e3</td>\n      <td>St Ann's Medical Office Building</td>\n      <td>495 Cooper Rd</td>\n      <td>40.114891</td>\n      <td>-82.945295</td>\n      <td>43081</td>\n      <td>US</td>\n      <td>Westerville</td>\n      <td>OH</td>\n      <td>United States</td>\n    </tr>\n  </tbody>\n</table>\n</div>"
     },
     "metadata": {},
     "execution_count": 28
    }
   ],
   "source": [
    "hp_df=hp_df.drop(columns=['referralId','hasPerk','location.distance','venuePage.id','location.crossStreet','location.neighborhood','categories','location.formattedAddress','location.labeledLatLngs'])\n",
    "hp_df.head()"
   ]
  },
  {
   "cell_type": "code",
   "execution_count": 29,
   "metadata": {},
   "outputs": [
    {
     "output_type": "execute_result",
     "data": {
      "text/plain": [
       "id                      object\n",
       "name                    object\n",
       "location.address        object\n",
       "location.lat           float64\n",
       "location.lng           float64\n",
       "location.postalCode     object\n",
       "location.cc             object\n",
       "location.city           object\n",
       "location.state          object\n",
       "location.country        object\n",
       "dtype: object"
      ]
     },
     "metadata": {},
     "execution_count": 29
    }
   ],
   "source": [
    "hp_df.dtypes"
   ]
  },
  {
   "source": [
    "Rename columns"
   ],
   "cell_type": "markdown",
   "metadata": {}
  },
  {
   "cell_type": "code",
   "execution_count": 30,
   "metadata": {},
   "outputs": [
    {
     "output_type": "execute_result",
     "data": {
      "text/plain": [
       "id             object\n",
       "name           object\n",
       "address        object\n",
       "lat           float64\n",
       "lng           float64\n",
       "postalCode     object\n",
       "cc             object\n",
       "city           object\n",
       "state          object\n",
       "country        object\n",
       "dtype: object"
      ]
     },
     "metadata": {},
     "execution_count": 30
    }
   ],
   "source": [
    "hp_df = hp_df.rename(columns={str(i): re.sub('(location.)', '', str(i)) for i in hp_df.columns},errors='raise')\n",
    "hp_df.dtypes"
   ]
  },
  {
   "source": [
    "## Modify zip_cases_df:"
   ],
   "cell_type": "markdown",
   "metadata": {}
  },
  {
   "cell_type": "code",
   "execution_count": 31,
   "metadata": {},
   "outputs": [
    {
     "output_type": "execute_result",
     "data": {
      "text/plain": [
       "Zip Code                               object\n",
       "Population                             object\n",
       "Case Count - Cumulative                object\n",
       "Case Count - Last 30 Days              object\n",
       "Case Count - Last 14 Days             float64\n",
       "Case Count Per 100K - Cumulative       object\n",
       "Case Count Per 100K - Last 30 Days     object\n",
       "Case Count Per 100K - Last 14 Days     object\n",
       "dtype: object"
      ]
     },
     "metadata": {},
     "execution_count": 31
    }
   ],
   "source": [
    "zip_cases_df.dtypes"
   ]
  },
  {
   "source": [
    "filters some data types"
   ],
   "cell_type": "markdown",
   "metadata": {}
  },
  {
   "cell_type": "code",
   "execution_count": 32,
   "metadata": {},
   "outputs": [
    {
     "output_type": "execute_result",
     "data": {
      "text/plain": [
       "  Zip Code  Population Case Count - Cumulative Case Count - Last 30 Days   \\\n",
       "0     43001       2810                     151                         37   \n",
       "1     43002       3744                     NaN                        NaN   \n",
       "2     43003       3005                     140                         56   \n",
       "3     43004      26139                    2311                        583   \n",
       "4     43005        201                       9                        NaN   \n",
       "\n",
       "   Case Count - Last 14 Days  Case Count Per 100K - Cumulative  \\\n",
       "0                        14.0                          5373.70   \n",
       "1                         NaN                              NaN   \n",
       "2                        25.0                          4658.90   \n",
       "3                       250.0                          8841.20   \n",
       "4                         NaN                          4477.60   \n",
       "\n",
       "  Case Count Per 100K - Last 30 Days Case Count Per 100K - Last 14 Days  \n",
       "0                            1316.70                              498.2  \n",
       "1                                NaN                                NaN  \n",
       "2                            1863.60                              831.9  \n",
       "3                            2230.40                              956.4  \n",
       "4                                NaN                                NaN  "
      ],
      "text/html": "<div>\n<style scoped>\n    .dataframe tbody tr th:only-of-type {\n        vertical-align: middle;\n    }\n\n    .dataframe tbody tr th {\n        vertical-align: top;\n    }\n\n    .dataframe thead th {\n        text-align: right;\n    }\n</style>\n<table border=\"1\" class=\"dataframe\">\n  <thead>\n    <tr style=\"text-align: right;\">\n      <th></th>\n      <th>Zip Code</th>\n      <th>Population</th>\n      <th>Case Count - Cumulative</th>\n      <th>Case Count - Last 30 Days</th>\n      <th>Case Count - Last 14 Days</th>\n      <th>Case Count Per 100K - Cumulative</th>\n      <th>Case Count Per 100K - Last 30 Days</th>\n      <th>Case Count Per 100K - Last 14 Days</th>\n    </tr>\n  </thead>\n  <tbody>\n    <tr>\n      <th>0</th>\n      <td>43001</td>\n      <td>2810</td>\n      <td>151</td>\n      <td>37</td>\n      <td>14.0</td>\n      <td>5373.70</td>\n      <td>1316.70</td>\n      <td>498.2</td>\n    </tr>\n    <tr>\n      <th>1</th>\n      <td>43002</td>\n      <td>3744</td>\n      <td>NaN</td>\n      <td>NaN</td>\n      <td>NaN</td>\n      <td>NaN</td>\n      <td>NaN</td>\n      <td>NaN</td>\n    </tr>\n    <tr>\n      <th>2</th>\n      <td>43003</td>\n      <td>3005</td>\n      <td>140</td>\n      <td>56</td>\n      <td>25.0</td>\n      <td>4658.90</td>\n      <td>1863.60</td>\n      <td>831.9</td>\n    </tr>\n    <tr>\n      <th>3</th>\n      <td>43004</td>\n      <td>26139</td>\n      <td>2311</td>\n      <td>583</td>\n      <td>250.0</td>\n      <td>8841.20</td>\n      <td>2230.40</td>\n      <td>956.4</td>\n    </tr>\n    <tr>\n      <th>4</th>\n      <td>43005</td>\n      <td>201</td>\n      <td>9</td>\n      <td>NaN</td>\n      <td>NaN</td>\n      <td>4477.60</td>\n      <td>NaN</td>\n      <td>NaN</td>\n    </tr>\n  </tbody>\n</table>\n</div>"
     },
     "metadata": {},
     "execution_count": 32
    }
   ],
   "source": [
    "zip_cases_df = zip_cases_df.replace(',|\\$|(s|ft)|(s|years)','',regex=True)\n",
    "zip_cases_df.head()"
   ]
  },
  {
   "source": [
    "convert to proper data types"
   ],
   "cell_type": "markdown",
   "metadata": {}
  },
  {
   "cell_type": "code",
   "execution_count": 33,
   "metadata": {},
   "outputs": [
    {
     "output_type": "execute_result",
     "data": {
      "text/plain": [
       "Zip Code                               object\n",
       "Population                            float64\n",
       "Case Count - Cumulative               float64\n",
       "Case Count - Last 30 Days             float64\n",
       "Case Count - Last 14 Days             float64\n",
       "Case Count Per 100K - Cumulative      float64\n",
       "Case Count Per 100K - Last 30 Days    float64\n",
       "Case Count Per 100K - Last 14 Days    float64\n",
       "dtype: object"
      ]
     },
     "metadata": {},
     "execution_count": 33
    }
   ],
   "source": [
    "for i in zip_cases_df.columns:\n",
    "    zip_cases_df[i] = pd.to_numeric(zip_cases_df[i],errors='ignore')\n",
    "zip_cases_df.dtypes   "
   ]
  },
  {
   "source": [
    "zip_cases_df = zip_cases_df.rename(columns={str(i): re.sub('\\-|\\s|(Last)|(Days)', '', str(i)) for i in zip_cases_df.columns},errors='raise')\n",
    "zip_cases_df \n",
    "zip_cases_df.dtypes "
   ],
   "cell_type": "code",
   "metadata": {},
   "execution_count": 34,
   "outputs": [
    {
     "output_type": "execute_result",
     "data": {
      "text/plain": [
       "ZipCode                        object\n",
       "Population                    float64\n",
       "CaseCountCumulative           float64\n",
       "CaseCount30                   float64\n",
       "CaseCount14                   float64\n",
       "CaseCountPer100KCumulative    float64\n",
       "CaseCountPer100K30            float64\n",
       "CaseCountPer100K14            float64\n",
       "dtype: object"
      ]
     },
     "metadata": {},
     "execution_count": 34
    }
   ]
  },
  {
   "source": [
    "***\n",
    "#  Part 3: Filtering and Adjusting Data\n",
    "***"
   ],
   "cell_type": "markdown",
   "metadata": {}
  },
  {
   "source": [
    "Columns"
   ],
   "cell_type": "markdown",
   "metadata": {}
  },
  {
   "cell_type": "code",
   "execution_count": 35,
   "metadata": {},
   "outputs": [
    {
     "output_type": "stream",
     "name": "stdout",
     "text": [
      "ZipCode                        object\nPopulation                    float64\nCaseCountCumulative           float64\nCaseCount30                   float64\nCaseCount14                   float64\nCaseCountPer100KCumulative    float64\nCaseCountPer100K30            float64\nCaseCountPer100K14            float64\ndtype: object\nZipCode                   object\nLatitude                 float64\nLongitude                float64\nElevation                  int64\nCurrentPopulation          int64\nHouseholdsperZIPCode       int64\nAverageHouseValue          int64\nAvgIncomePerHousehold      int64\nPersonsPerHousehold      float64\nWhitePopulation            int64\nMedianAge                float64\nMalePopulation             int64\nFemalePopulation           int64\nBlackPopulation            int64\nHispanicPopulation         int64\nRetiredWorkers             int64\nDisabledWorkers            int64\nSpouses                    int64\nChildren                   int64\nNumberofBusinesses         int64\n#ofEmployees               int64\ndtype: object\nid             object\nname           object\naddress        object\nlat           float64\nlng           float64\npostalCode     object\ncc             object\ncity           object\nstate          object\ncountry        object\ndtype: object\n"
     ]
    }
   ],
   "source": [
    "print(zip_cases_df.dtypes)\n",
    "print(zip_info_df.dtypes)\n",
    "print(hp_df.dtypes)"
   ]
  },
  {
   "source": [
    "sqldf(\"SELECT * FROM iris_df LIMIT 10;\", locals())\n",
    "- returns data frame\n",
    "- allows for sql queries with name of data frames used"
   ],
   "cell_type": "markdown",
   "metadata": {}
  },
  {
   "source": [
    "Filter the zip codes."
   ],
   "cell_type": "markdown",
   "metadata": {}
  },
  {
   "cell_type": "code",
   "execution_count": 36,
   "metadata": {},
   "outputs": [],
   "source": [
    "zip_cases_df=sqldf(\"SELECT * FROM zip_cases_df WHERE ZipCode IN (SELECT ZipCode FROM zip_info_df);\")#zip_cases_df\n",
    "hp_df = sqldf(\"SELECT * FROM hp_df WHERE postalCode IN (SELECT ZipCode FROM zip_info_df);\") #hp_df"
   ]
  },
  {
   "cell_type": "code",
   "execution_count": 37,
   "metadata": {},
   "outputs": [
    {
     "output_type": "execute_result",
     "data": {
      "text/plain": [
       "  ZipCode   Latitude  Longitude  Elevation  CurrentPopulation  \\\n",
       "0   43081  40.106049 -82.898116        873              66855   \n",
       "1   43085  40.100474 -83.013908        905              25037   \n",
       "2   43201  39.995575 -82.999464        784              39851   \n",
       "3   43202  40.020272 -83.017128        724              21426   \n",
       "4   43203  39.971834 -82.966754        821               9825   \n",
       "\n",
       "   HouseholdsperZIPCode  AverageHouseValue  AvgIncomePerHousehold  \\\n",
       "0                 22754             197800                  81813   \n",
       "1                  9768             247500                  83524   \n",
       "2                 14697             240700                  31891   \n",
       "3                  9952             208300                  53331   \n",
       "4                  3533              89400                  28072   \n",
       "\n",
       "   PersonsPerHousehold  WhitePopulation  ...  MalePopulation  \\\n",
       "0                 2.39            47805  ...           26675   \n",
       "1                 2.36            20891  ...           11025   \n",
       "2                 2.24            27369  ...           20162   \n",
       "3                 2.03            17151  ...           10854   \n",
       "4                 2.25             1160  ...            3894   \n",
       "\n",
       "   FemalePopulation  BlackPopulation  HispanicPopulation  RetiredWorkers  \\\n",
       "0             29316             6078                1677            7195   \n",
       "1             12233             1377                 822            3030   \n",
       "2             15333             5495                1493             630   \n",
       "3              9397             1027                 658             840   \n",
       "4              4214             6941                 173             650   \n",
       "\n",
       "   DisabledWorkers  Spouses  Children  NumberofBusinesses  #ofEmployees  \n",
       "0              800      365       485                1318         28811  \n",
       "1              435      180       300                 977         18013  \n",
       "2              380       30       115                 630          9974  \n",
       "3              160       40        50                 275          5133  \n",
       "4              255       25       140                 110          1198  \n",
       "\n",
       "[5 rows x 21 columns]"
      ],
      "text/html": "<div>\n<style scoped>\n    .dataframe tbody tr th:only-of-type {\n        vertical-align: middle;\n    }\n\n    .dataframe tbody tr th {\n        vertical-align: top;\n    }\n\n    .dataframe thead th {\n        text-align: right;\n    }\n</style>\n<table border=\"1\" class=\"dataframe\">\n  <thead>\n    <tr style=\"text-align: right;\">\n      <th></th>\n      <th>ZipCode</th>\n      <th>Latitude</th>\n      <th>Longitude</th>\n      <th>Elevation</th>\n      <th>CurrentPopulation</th>\n      <th>HouseholdsperZIPCode</th>\n      <th>AverageHouseValue</th>\n      <th>AvgIncomePerHousehold</th>\n      <th>PersonsPerHousehold</th>\n      <th>WhitePopulation</th>\n      <th>...</th>\n      <th>MalePopulation</th>\n      <th>FemalePopulation</th>\n      <th>BlackPopulation</th>\n      <th>HispanicPopulation</th>\n      <th>RetiredWorkers</th>\n      <th>DisabledWorkers</th>\n      <th>Spouses</th>\n      <th>Children</th>\n      <th>NumberofBusinesses</th>\n      <th>#ofEmployees</th>\n    </tr>\n  </thead>\n  <tbody>\n    <tr>\n      <th>0</th>\n      <td>43081</td>\n      <td>40.106049</td>\n      <td>-82.898116</td>\n      <td>873</td>\n      <td>66855</td>\n      <td>22754</td>\n      <td>197800</td>\n      <td>81813</td>\n      <td>2.39</td>\n      <td>47805</td>\n      <td>...</td>\n      <td>26675</td>\n      <td>29316</td>\n      <td>6078</td>\n      <td>1677</td>\n      <td>7195</td>\n      <td>800</td>\n      <td>365</td>\n      <td>485</td>\n      <td>1318</td>\n      <td>28811</td>\n    </tr>\n    <tr>\n      <th>1</th>\n      <td>43085</td>\n      <td>40.100474</td>\n      <td>-83.013908</td>\n      <td>905</td>\n      <td>25037</td>\n      <td>9768</td>\n      <td>247500</td>\n      <td>83524</td>\n      <td>2.36</td>\n      <td>20891</td>\n      <td>...</td>\n      <td>11025</td>\n      <td>12233</td>\n      <td>1377</td>\n      <td>822</td>\n      <td>3030</td>\n      <td>435</td>\n      <td>180</td>\n      <td>300</td>\n      <td>977</td>\n      <td>18013</td>\n    </tr>\n    <tr>\n      <th>2</th>\n      <td>43201</td>\n      <td>39.995575</td>\n      <td>-82.999464</td>\n      <td>784</td>\n      <td>39851</td>\n      <td>14697</td>\n      <td>240700</td>\n      <td>31891</td>\n      <td>2.24</td>\n      <td>27369</td>\n      <td>...</td>\n      <td>20162</td>\n      <td>15333</td>\n      <td>5495</td>\n      <td>1493</td>\n      <td>630</td>\n      <td>380</td>\n      <td>30</td>\n      <td>115</td>\n      <td>630</td>\n      <td>9974</td>\n    </tr>\n    <tr>\n      <th>3</th>\n      <td>43202</td>\n      <td>40.020272</td>\n      <td>-83.017128</td>\n      <td>724</td>\n      <td>21426</td>\n      <td>9952</td>\n      <td>208300</td>\n      <td>53331</td>\n      <td>2.03</td>\n      <td>17151</td>\n      <td>...</td>\n      <td>10854</td>\n      <td>9397</td>\n      <td>1027</td>\n      <td>658</td>\n      <td>840</td>\n      <td>160</td>\n      <td>40</td>\n      <td>50</td>\n      <td>275</td>\n      <td>5133</td>\n    </tr>\n    <tr>\n      <th>4</th>\n      <td>43203</td>\n      <td>39.971834</td>\n      <td>-82.966754</td>\n      <td>821</td>\n      <td>9825</td>\n      <td>3533</td>\n      <td>89400</td>\n      <td>28072</td>\n      <td>2.25</td>\n      <td>1160</td>\n      <td>...</td>\n      <td>3894</td>\n      <td>4214</td>\n      <td>6941</td>\n      <td>173</td>\n      <td>650</td>\n      <td>255</td>\n      <td>25</td>\n      <td>140</td>\n      <td>110</td>\n      <td>1198</td>\n    </tr>\n  </tbody>\n</table>\n<p>5 rows × 21 columns</p>\n</div>"
     },
     "metadata": {},
     "execution_count": 37
    }
   ],
   "source": [
    "zip_info_df.head()"
   ]
  },
  {
   "source": [
    "Modify Populations of zip_info_df in proportions to match that of zip_cases_df. Reasons for assumptions for adjustments are:\n",
    "\n",
    "- Populations change and it is reasonable to suggest that the zips do the same\n",
    "- It has been 10 years and census data is inaccurate going from 2010 to 2020 so this change must be kept in account."
   ],
   "cell_type": "markdown",
   "metadata": {}
  },
  {
   "cell_type": "code",
   "execution_count": 38,
   "metadata": {},
   "outputs": [],
   "source": [
    "zipGrowth = []\n",
    "for i in zip_info_df.columns:\n",
    "    if i == 'CurrentPopulation':\n",
    "        zipGrowth = zip_cases_df.Population/zip_info_df[i]\n",
    "    if i not in ['ZipCode','Latitude','Longitude','Elevation','PersonsPerHousehold','MedianAge','HouseholdsperZIPCode','NumberofBusinesses','AvgIncomePerHousehold','AverageHouseValue']:\n",
    "       zip_info_df[i] =  np.multiply(zip_info_df[i],zipGrowth)\n",
    "       zip_info_df[i] = zip_info_df[i].apply(np.ceil)"
   ]
  },
  {
   "cell_type": "code",
   "execution_count": 39,
   "metadata": {},
   "outputs": [
    {
     "output_type": "execute_result",
     "data": {
      "text/plain": [
       "  ZipCode   Latitude  Longitude  Elevation  CurrentPopulation  \\\n",
       "0   43081  40.106049 -82.898116        873            61572.0   \n",
       "1   43085  40.100474 -83.013908        905            26216.0   \n",
       "2   43201  39.995575 -82.999464        784            33455.0   \n",
       "3   43202  40.020272 -83.017128        724            21141.0   \n",
       "4   43203  39.971834 -82.966754        821             8368.0   \n",
       "\n",
       "   HouseholdsperZIPCode  AverageHouseValue  AvgIncomePerHousehold  \\\n",
       "0                 22754             197800                  81813   \n",
       "1                  9768             247500                  83524   \n",
       "2                 14697             240700                  31891   \n",
       "3                  9952             208300                  53331   \n",
       "4                  3533              89400                  28072   \n",
       "\n",
       "   PersonsPerHousehold  WhitePopulation  ...  MalePopulation  \\\n",
       "0                 2.39          44028.0  ...         24568.0   \n",
       "1                 2.36          21875.0  ...         11545.0   \n",
       "2                 2.24          22977.0  ...         16927.0   \n",
       "3                 2.03          16923.0  ...         10710.0   \n",
       "4                 2.25            988.0  ...          3317.0   \n",
       "\n",
       "   FemalePopulation  BlackPopulation  HispanicPopulation  RetiredWorkers  \\\n",
       "0           27000.0           5598.0              1545.0          6627.0   \n",
       "1           12810.0           1442.0               861.0          3173.0   \n",
       "2           12873.0           4614.0              1254.0           529.0   \n",
       "3            9273.0           1014.0               650.0           829.0   \n",
       "4            3590.0           5912.0               148.0           554.0   \n",
       "\n",
       "   DisabledWorkers  Spouses  Children  NumberofBusinesses  #ofEmployees  \n",
       "0            737.0    337.0     447.0                1318       26535.0  \n",
       "1            456.0    189.0     315.0                 977       18862.0  \n",
       "2            320.0     26.0      97.0                 630        8374.0  \n",
       "3            158.0     40.0      50.0                 275        5065.0  \n",
       "4            218.0     22.0     120.0                 110        1021.0  \n",
       "\n",
       "[5 rows x 21 columns]"
      ],
      "text/html": "<div>\n<style scoped>\n    .dataframe tbody tr th:only-of-type {\n        vertical-align: middle;\n    }\n\n    .dataframe tbody tr th {\n        vertical-align: top;\n    }\n\n    .dataframe thead th {\n        text-align: right;\n    }\n</style>\n<table border=\"1\" class=\"dataframe\">\n  <thead>\n    <tr style=\"text-align: right;\">\n      <th></th>\n      <th>ZipCode</th>\n      <th>Latitude</th>\n      <th>Longitude</th>\n      <th>Elevation</th>\n      <th>CurrentPopulation</th>\n      <th>HouseholdsperZIPCode</th>\n      <th>AverageHouseValue</th>\n      <th>AvgIncomePerHousehold</th>\n      <th>PersonsPerHousehold</th>\n      <th>WhitePopulation</th>\n      <th>...</th>\n      <th>MalePopulation</th>\n      <th>FemalePopulation</th>\n      <th>BlackPopulation</th>\n      <th>HispanicPopulation</th>\n      <th>RetiredWorkers</th>\n      <th>DisabledWorkers</th>\n      <th>Spouses</th>\n      <th>Children</th>\n      <th>NumberofBusinesses</th>\n      <th>#ofEmployees</th>\n    </tr>\n  </thead>\n  <tbody>\n    <tr>\n      <th>0</th>\n      <td>43081</td>\n      <td>40.106049</td>\n      <td>-82.898116</td>\n      <td>873</td>\n      <td>61572.0</td>\n      <td>22754</td>\n      <td>197800</td>\n      <td>81813</td>\n      <td>2.39</td>\n      <td>44028.0</td>\n      <td>...</td>\n      <td>24568.0</td>\n      <td>27000.0</td>\n      <td>5598.0</td>\n      <td>1545.0</td>\n      <td>6627.0</td>\n      <td>737.0</td>\n      <td>337.0</td>\n      <td>447.0</td>\n      <td>1318</td>\n      <td>26535.0</td>\n    </tr>\n    <tr>\n      <th>1</th>\n      <td>43085</td>\n      <td>40.100474</td>\n      <td>-83.013908</td>\n      <td>905</td>\n      <td>26216.0</td>\n      <td>9768</td>\n      <td>247500</td>\n      <td>83524</td>\n      <td>2.36</td>\n      <td>21875.0</td>\n      <td>...</td>\n      <td>11545.0</td>\n      <td>12810.0</td>\n      <td>1442.0</td>\n      <td>861.0</td>\n      <td>3173.0</td>\n      <td>456.0</td>\n      <td>189.0</td>\n      <td>315.0</td>\n      <td>977</td>\n      <td>18862.0</td>\n    </tr>\n    <tr>\n      <th>2</th>\n      <td>43201</td>\n      <td>39.995575</td>\n      <td>-82.999464</td>\n      <td>784</td>\n      <td>33455.0</td>\n      <td>14697</td>\n      <td>240700</td>\n      <td>31891</td>\n      <td>2.24</td>\n      <td>22977.0</td>\n      <td>...</td>\n      <td>16927.0</td>\n      <td>12873.0</td>\n      <td>4614.0</td>\n      <td>1254.0</td>\n      <td>529.0</td>\n      <td>320.0</td>\n      <td>26.0</td>\n      <td>97.0</td>\n      <td>630</td>\n      <td>8374.0</td>\n    </tr>\n    <tr>\n      <th>3</th>\n      <td>43202</td>\n      <td>40.020272</td>\n      <td>-83.017128</td>\n      <td>724</td>\n      <td>21141.0</td>\n      <td>9952</td>\n      <td>208300</td>\n      <td>53331</td>\n      <td>2.03</td>\n      <td>16923.0</td>\n      <td>...</td>\n      <td>10710.0</td>\n      <td>9273.0</td>\n      <td>1014.0</td>\n      <td>650.0</td>\n      <td>829.0</td>\n      <td>158.0</td>\n      <td>40.0</td>\n      <td>50.0</td>\n      <td>275</td>\n      <td>5065.0</td>\n    </tr>\n    <tr>\n      <th>4</th>\n      <td>43203</td>\n      <td>39.971834</td>\n      <td>-82.966754</td>\n      <td>821</td>\n      <td>8368.0</td>\n      <td>3533</td>\n      <td>89400</td>\n      <td>28072</td>\n      <td>2.25</td>\n      <td>988.0</td>\n      <td>...</td>\n      <td>3317.0</td>\n      <td>3590.0</td>\n      <td>5912.0</td>\n      <td>148.0</td>\n      <td>554.0</td>\n      <td>218.0</td>\n      <td>22.0</td>\n      <td>120.0</td>\n      <td>110</td>\n      <td>1021.0</td>\n    </tr>\n  </tbody>\n</table>\n<p>5 rows × 21 columns</p>\n</div>"
     },
     "metadata": {},
     "execution_count": 39
    }
   ],
   "source": [
    "zip_info_df.head()"
   ]
  },
  {
   "source": [
    "***\n",
    "#  Part 4: Data Exploration\n",
    "***"
   ],
   "cell_type": "markdown",
   "metadata": {}
  },
  {
   "source": [
    "Basic Statistics"
   ],
   "cell_type": "markdown",
   "metadata": {}
  },
  {
   "cell_type": "code",
   "execution_count": 40,
   "metadata": {},
   "outputs": [
    {
     "output_type": "execute_result",
     "data": {
      "text/plain": [
       "<AxesSubplot:>"
      ]
     },
     "metadata": {},
     "execution_count": 40
    },
    {
     "output_type": "display_data",
     "data": {
      "text/plain": "<Figure size 432x288 with 2 Axes>",
      "image/svg+xml": "<?xml version=\"1.0\" encoding=\"utf-8\" standalone=\"no\"?>\r\n<!DOCTYPE svg PUBLIC \"-//W3C//DTD SVG 1.1//EN\"\r\n  \"http://www.w3.org/Graphics/SVG/1.1/DTD/svg11.dtd\">\r\n<!-- Created with matplotlib (https://matplotlib.org/) -->\r\n<svg height=\"394.911094pt\" version=\"1.1\" viewBox=\"0 0 492.027 394.911094\" width=\"492.027pt\" xmlns=\"http://www.w3.org/2000/svg\" xmlns:xlink=\"http://www.w3.org/1999/xlink\">\r\n <metadata>\r\n  <rdf:RDF xmlns:cc=\"http://creativecommons.org/ns#\" xmlns:dc=\"http://purl.org/dc/elements/1.1/\" xmlns:rdf=\"http://www.w3.org/1999/02/22-rdf-syntax-ns#\">\r\n   <cc:Work>\r\n    <dc:type rdf:resource=\"http://purl.org/dc/dcmitype/StillImage\"/>\r\n    <dc:date>2021-01-04T13:51:43.610996</dc:date>\r\n    <dc:format>image/svg+xml</dc:format>\r\n    <dc:creator>\r\n     <cc:Agent>\r\n      <dc:title>Matplotlib v3.3.1, https://matplotlib.org/</dc:title>\r\n     </cc:Agent>\r\n    </dc:creator>\r\n   </cc:Work>\r\n  </rdf:RDF>\r\n </metadata>\r\n <defs>\r\n  <style type=\"text/css\">*{stroke-linecap:butt;stroke-linejoin:round;}</style>\r\n </defs>\r\n <g id=\"figure_1\">\r\n  <g id=\"patch_1\">\r\n   <path d=\"M 0 394.911094 \r\nL 492.027 394.911094 \r\nL 492.027 0 \r\nL 0 0 \r\nz\r\n\" style=\"fill:none;\"/>\r\n  </g>\r\n  <g id=\"axes_1\">\r\n   <g id=\"patch_2\">\r\n    <path d=\"M 166.471875 228.439219 \r\nL 434.311875 228.439219 \r\nL 434.311875 10.999219 \r\nL 166.471875 10.999219 \r\nz\r\n\" style=\"fill:#ffffff;\"/>\r\n   </g>\r\n   <g id=\"QuadMesh_1\">\r\n    <path clip-path=\"url(#p1038f5d388)\" d=\"M 166.471875 10.999219 \r\nL 204.734732 10.999219 \r\nL 204.734732 42.062076 \r\nL 166.471875 42.062076 \r\nL 166.471875 10.999219 \r\n\" style=\"fill:#faebdd;\"/>\r\n    <path clip-path=\"url(#p1038f5d388)\" d=\"M 204.734732 10.999219 \r\nL 242.997589 10.999219 \r\nL 242.997589 42.062076 \r\nL 204.734732 42.062076 \r\nL 204.734732 10.999219 \r\n\" style=\"fill:#f7cfb3;\"/>\r\n    <path clip-path=\"url(#p1038f5d388)\" d=\"M 242.997589 10.999219 \r\nL 281.260446 10.999219 \r\nL 281.260446 42.062076 \r\nL 242.997589 42.062076 \r\nL 242.997589 10.999219 \r\n\" style=\"fill:#f9dfcb;\"/>\r\n    <path clip-path=\"url(#p1038f5d388)\" d=\"M 281.260446 10.999219 \r\nL 319.523304 10.999219 \r\nL 319.523304 42.062076 \r\nL 281.260446 42.062076 \r\nL 281.260446 10.999219 \r\n\" style=\"fill:#f8dcc7;\"/>\r\n    <path clip-path=\"url(#p1038f5d388)\" d=\"M 319.523304 10.999219 \r\nL 357.786161 10.999219 \r\nL 357.786161 42.062076 \r\nL 319.523304 42.062076 \r\nL 319.523304 10.999219 \r\n\" style=\"fill:#06071c;\"/>\r\n    <path clip-path=\"url(#p1038f5d388)\" d=\"M 357.786161 10.999219 \r\nL 396.049018 10.999219 \r\nL 396.049018 42.062076 \r\nL 357.786161 42.062076 \r\nL 357.786161 10.999219 \r\n\" style=\"fill:#110c24;\"/>\r\n    <path clip-path=\"url(#p1038f5d388)\" d=\"M 396.049018 10.999219 \r\nL 434.311875 10.999219 \r\nL 434.311875 42.062076 \r\nL 396.049018 42.062076 \r\nL 396.049018 10.999219 \r\n\" style=\"fill:#03051a;\"/>\r\n    <path clip-path=\"url(#p1038f5d388)\" d=\"M 166.471875 42.062076 \r\nL 204.734732 42.062076 \r\nL 204.734732 73.124933 \r\nL 166.471875 73.124933 \r\nL 166.471875 42.062076 \r\n\" style=\"fill:#f7cfb3;\"/>\r\n    <path clip-path=\"url(#p1038f5d388)\" d=\"M 204.734732 42.062076 \r\nL 242.997589 42.062076 \r\nL 242.997589 73.124933 \r\nL 204.734732 73.124933 \r\nL 204.734732 42.062076 \r\n\" style=\"fill:#faebdd;\"/>\r\n    <path clip-path=\"url(#p1038f5d388)\" d=\"M 242.997589 42.062076 \r\nL 281.260446 42.062076 \r\nL 281.260446 73.124933 \r\nL 242.997589 73.124933 \r\nL 242.997589 42.062076 \r\n\" style=\"fill:#f7c6a6;\"/>\r\n    <path clip-path=\"url(#p1038f5d388)\" d=\"M 281.260446 42.062076 \r\nL 319.523304 42.062076 \r\nL 319.523304 73.124933 \r\nL 281.260446 73.124933 \r\nL 281.260446 42.062076 \r\n\" style=\"fill:#f6c19f;\"/>\r\n    <path clip-path=\"url(#p1038f5d388)\" d=\"M 319.523304 42.062076 \r\nL 357.786161 42.062076 \r\nL 357.786161 73.124933 \r\nL 319.523304 73.124933 \r\nL 319.523304 42.062076 \r\n\" style=\"fill:#841e5a;\"/>\r\n    <path clip-path=\"url(#p1038f5d388)\" d=\"M 357.786161 42.062076 \r\nL 396.049018 42.062076 \r\nL 396.049018 73.124933 \r\nL 357.786161 73.124933 \r\nL 357.786161 42.062076 \r\n\" style=\"fill:#1d112c;\"/>\r\n    <path clip-path=\"url(#p1038f5d388)\" d=\"M 396.049018 42.062076 \r\nL 434.311875 42.062076 \r\nL 434.311875 73.124933 \r\nL 396.049018 73.124933 \r\nL 396.049018 42.062076 \r\n\" style=\"fill:#0e0b22;\"/>\r\n    <path clip-path=\"url(#p1038f5d388)\" d=\"M 166.471875 73.124933 \r\nL 204.734732 73.124933 \r\nL 204.734732 104.18779 \r\nL 166.471875 104.18779 \r\nL 166.471875 73.124933 \r\n\" style=\"fill:#f9dfcb;\"/>\r\n    <path clip-path=\"url(#p1038f5d388)\" d=\"M 204.734732 73.124933 \r\nL 242.997589 73.124933 \r\nL 242.997589 104.18779 \r\nL 204.734732 104.18779 \r\nL 204.734732 73.124933 \r\n\" style=\"fill:#f7c6a6;\"/>\r\n    <path clip-path=\"url(#p1038f5d388)\" d=\"M 242.997589 73.124933 \r\nL 281.260446 73.124933 \r\nL 281.260446 104.18779 \r\nL 242.997589 104.18779 \r\nL 242.997589 73.124933 \r\n\" style=\"fill:#faebdd;\"/>\r\n    <path clip-path=\"url(#p1038f5d388)\" d=\"M 281.260446 73.124933 \r\nL 319.523304 73.124933 \r\nL 319.523304 104.18779 \r\nL 281.260446 104.18779 \r\nL 281.260446 73.124933 \r\n\" style=\"fill:#fae8d8;\"/>\r\n    <path clip-path=\"url(#p1038f5d388)\" d=\"M 319.523304 73.124933 \r\nL 357.786161 73.124933 \r\nL 357.786161 104.18779 \r\nL 319.523304 104.18779 \r\nL 319.523304 73.124933 \r\n\" style=\"fill:#140e26;\"/>\r\n    <path clip-path=\"url(#p1038f5d388)\" d=\"M 357.786161 73.124933 \r\nL 396.049018 73.124933 \r\nL 396.049018 104.18779 \r\nL 357.786161 104.18779 \r\nL 357.786161 73.124933 \r\n\" style=\"fill:#611f53;\"/>\r\n    <path clip-path=\"url(#p1038f5d388)\" d=\"M 396.049018 73.124933 \r\nL 434.311875 73.124933 \r\nL 434.311875 104.18779 \r\nL 396.049018 104.18779 \r\nL 396.049018 73.124933 \r\n\" style=\"fill:#401b44;\"/>\r\n    <path clip-path=\"url(#p1038f5d388)\" d=\"M 166.471875 104.18779 \r\nL 204.734732 104.18779 \r\nL 204.734732 135.250647 \r\nL 166.471875 135.250647 \r\nL 166.471875 104.18779 \r\n\" style=\"fill:#f8dcc7;\"/>\r\n    <path clip-path=\"url(#p1038f5d388)\" d=\"M 204.734732 104.18779 \r\nL 242.997589 104.18779 \r\nL 242.997589 135.250647 \r\nL 204.734732 135.250647 \r\nL 204.734732 104.18779 \r\n\" style=\"fill:#f6c19f;\"/>\r\n    <path clip-path=\"url(#p1038f5d388)\" d=\"M 242.997589 104.18779 \r\nL 281.260446 104.18779 \r\nL 281.260446 135.250647 \r\nL 242.997589 135.250647 \r\nL 242.997589 104.18779 \r\n\" style=\"fill:#fae8d8;\"/>\r\n    <path clip-path=\"url(#p1038f5d388)\" d=\"M 281.260446 104.18779 \r\nL 319.523304 104.18779 \r\nL 319.523304 135.250647 \r\nL 281.260446 135.250647 \r\nL 281.260446 104.18779 \r\n\" style=\"fill:#faebdd;\"/>\r\n    <path clip-path=\"url(#p1038f5d388)\" d=\"M 319.523304 104.18779 \r\nL 357.786161 104.18779 \r\nL 357.786161 135.250647 \r\nL 319.523304 135.250647 \r\nL 319.523304 104.18779 \r\n\" style=\"fill:#2a1636;\"/>\r\n    <path clip-path=\"url(#p1038f5d388)\" d=\"M 357.786161 104.18779 \r\nL 396.049018 104.18779 \r\nL 396.049018 135.250647 \r\nL 357.786161 135.250647 \r\nL 357.786161 104.18779 \r\n\" style=\"fill:#271534;\"/>\r\n    <path clip-path=\"url(#p1038f5d388)\" d=\"M 396.049018 104.18779 \r\nL 434.311875 104.18779 \r\nL 434.311875 135.250647 \r\nL 396.049018 135.250647 \r\nL 396.049018 104.18779 \r\n\" style=\"fill:#4b1d4a;\"/>\r\n    <path clip-path=\"url(#p1038f5d388)\" d=\"M 166.471875 135.250647 \r\nL 204.734732 135.250647 \r\nL 204.734732 166.313504 \r\nL 166.471875 166.313504 \r\nL 166.471875 135.250647 \r\n\" style=\"fill:#06071c;\"/>\r\n    <path clip-path=\"url(#p1038f5d388)\" d=\"M 204.734732 135.250647 \r\nL 242.997589 135.250647 \r\nL 242.997589 166.313504 \r\nL 204.734732 166.313504 \r\nL 204.734732 135.250647 \r\n\" style=\"fill:#841e5a;\"/>\r\n    <path clip-path=\"url(#p1038f5d388)\" d=\"M 242.997589 135.250647 \r\nL 281.260446 135.250647 \r\nL 281.260446 166.313504 \r\nL 242.997589 166.313504 \r\nL 242.997589 135.250647 \r\n\" style=\"fill:#140e26;\"/>\r\n    <path clip-path=\"url(#p1038f5d388)\" d=\"M 281.260446 135.250647 \r\nL 319.523304 135.250647 \r\nL 319.523304 166.313504 \r\nL 281.260446 166.313504 \r\nL 281.260446 135.250647 \r\n\" style=\"fill:#2a1636;\"/>\r\n    <path clip-path=\"url(#p1038f5d388)\" d=\"M 319.523304 135.250647 \r\nL 357.786161 135.250647 \r\nL 357.786161 166.313504 \r\nL 319.523304 166.313504 \r\nL 319.523304 135.250647 \r\n\" style=\"fill:#faebdd;\"/>\r\n    <path clip-path=\"url(#p1038f5d388)\" d=\"M 357.786161 135.250647 \r\nL 396.049018 135.250647 \r\nL 396.049018 166.313504 \r\nL 357.786161 166.313504 \r\nL 357.786161 135.250647 \r\n\" style=\"fill:#5c1e51;\"/>\r\n    <path clip-path=\"url(#p1038f5d388)\" d=\"M 396.049018 135.250647 \r\nL 434.311875 135.250647 \r\nL 434.311875 166.313504 \r\nL 396.049018 166.313504 \r\nL 396.049018 135.250647 \r\n\" style=\"fill:#6e1f57;\"/>\r\n    <path clip-path=\"url(#p1038f5d388)\" d=\"M 166.471875 166.313504 \r\nL 204.734732 166.313504 \r\nL 204.734732 197.376362 \r\nL 166.471875 197.376362 \r\nL 166.471875 166.313504 \r\n\" style=\"fill:#110c24;\"/>\r\n    <path clip-path=\"url(#p1038f5d388)\" d=\"M 204.734732 166.313504 \r\nL 242.997589 166.313504 \r\nL 242.997589 197.376362 \r\nL 204.734732 197.376362 \r\nL 204.734732 166.313504 \r\n\" style=\"fill:#1d112c;\"/>\r\n    <path clip-path=\"url(#p1038f5d388)\" d=\"M 242.997589 166.313504 \r\nL 281.260446 166.313504 \r\nL 281.260446 197.376362 \r\nL 242.997589 197.376362 \r\nL 242.997589 166.313504 \r\n\" style=\"fill:#611f53;\"/>\r\n    <path clip-path=\"url(#p1038f5d388)\" d=\"M 281.260446 166.313504 \r\nL 319.523304 166.313504 \r\nL 319.523304 197.376362 \r\nL 281.260446 197.376362 \r\nL 281.260446 166.313504 \r\n\" style=\"fill:#271534;\"/>\r\n    <path clip-path=\"url(#p1038f5d388)\" d=\"M 319.523304 166.313504 \r\nL 357.786161 166.313504 \r\nL 357.786161 197.376362 \r\nL 319.523304 197.376362 \r\nL 319.523304 166.313504 \r\n\" style=\"fill:#5c1e51;\"/>\r\n    <path clip-path=\"url(#p1038f5d388)\" d=\"M 357.786161 166.313504 \r\nL 396.049018 166.313504 \r\nL 396.049018 197.376362 \r\nL 357.786161 197.376362 \r\nL 357.786161 166.313504 \r\n\" style=\"fill:#faebdd;\"/>\r\n    <path clip-path=\"url(#p1038f5d388)\" d=\"M 396.049018 166.313504 \r\nL 434.311875 166.313504 \r\nL 434.311875 197.376362 \r\nL 396.049018 197.376362 \r\nL 396.049018 166.313504 \r\n\" style=\"fill:#f6bf9d;\"/>\r\n    <path clip-path=\"url(#p1038f5d388)\" d=\"M 166.471875 197.376362 \r\nL 204.734732 197.376362 \r\nL 204.734732 228.439219 \r\nL 166.471875 228.439219 \r\nL 166.471875 197.376362 \r\n\" style=\"fill:#03051a;\"/>\r\n    <path clip-path=\"url(#p1038f5d388)\" d=\"M 204.734732 197.376362 \r\nL 242.997589 197.376362 \r\nL 242.997589 228.439219 \r\nL 204.734732 228.439219 \r\nL 204.734732 197.376362 \r\n\" style=\"fill:#0e0b22;\"/>\r\n    <path clip-path=\"url(#p1038f5d388)\" d=\"M 242.997589 197.376362 \r\nL 281.260446 197.376362 \r\nL 281.260446 228.439219 \r\nL 242.997589 228.439219 \r\nL 242.997589 197.376362 \r\n\" style=\"fill:#401b44;\"/>\r\n    <path clip-path=\"url(#p1038f5d388)\" d=\"M 281.260446 197.376362 \r\nL 319.523304 197.376362 \r\nL 319.523304 228.439219 \r\nL 281.260446 228.439219 \r\nL 281.260446 197.376362 \r\n\" style=\"fill:#4b1d4a;\"/>\r\n    <path clip-path=\"url(#p1038f5d388)\" d=\"M 319.523304 197.376362 \r\nL 357.786161 197.376362 \r\nL 357.786161 228.439219 \r\nL 319.523304 228.439219 \r\nL 319.523304 197.376362 \r\n\" style=\"fill:#6e1f57;\"/>\r\n    <path clip-path=\"url(#p1038f5d388)\" d=\"M 357.786161 197.376362 \r\nL 396.049018 197.376362 \r\nL 396.049018 228.439219 \r\nL 357.786161 228.439219 \r\nL 357.786161 197.376362 \r\n\" style=\"fill:#f6bf9d;\"/>\r\n    <path clip-path=\"url(#p1038f5d388)\" d=\"M 396.049018 197.376362 \r\nL 434.311875 197.376362 \r\nL 434.311875 228.439219 \r\nL 396.049018 228.439219 \r\nL 396.049018 197.376362 \r\n\" style=\"fill:#faebdd;\"/>\r\n   </g>\r\n   <g id=\"matplotlib.axis_1\">\r\n    <g id=\"xtick_1\">\r\n     <g id=\"line2d_1\">\r\n      <defs>\r\n       <path d=\"M 0 0 \r\nL 0 3.5 \r\n\" id=\"m605ba42e24\" style=\"stroke:#000000;stroke-width:0.8;\"/>\r\n      </defs>\r\n      <g>\r\n       <use style=\"stroke:#000000;stroke-width:0.8;\" x=\"185.603304\" xlink:href=\"#m605ba42e24\" y=\"228.439219\"/>\r\n      </g>\r\n     </g>\r\n     <g id=\"text_1\">\r\n      <!-- Population -->\r\n      <g transform=\"translate(188.362679 287.972031)rotate(-90)scale(0.1 -0.1)\">\r\n       <defs>\r\n        <path d=\"M 19.671875 64.796875 \r\nL 19.671875 37.40625 \r\nL 32.078125 37.40625 \r\nQ 38.96875 37.40625 42.71875 40.96875 \r\nQ 46.484375 44.53125 46.484375 51.125 \r\nQ 46.484375 57.671875 42.71875 61.234375 \r\nQ 38.96875 64.796875 32.078125 64.796875 \r\nz\r\nM 9.8125 72.90625 \r\nL 32.078125 72.90625 \r\nQ 44.34375 72.90625 50.609375 67.359375 \r\nQ 56.890625 61.8125 56.890625 51.125 \r\nQ 56.890625 40.328125 50.609375 34.8125 \r\nQ 44.34375 29.296875 32.078125 29.296875 \r\nL 19.671875 29.296875 \r\nL 19.671875 0 \r\nL 9.8125 0 \r\nz\r\n\" id=\"DejaVuSans-80\"/>\r\n        <path d=\"M 30.609375 48.390625 \r\nQ 23.390625 48.390625 19.1875 42.75 \r\nQ 14.984375 37.109375 14.984375 27.296875 \r\nQ 14.984375 17.484375 19.15625 11.84375 \r\nQ 23.34375 6.203125 30.609375 6.203125 \r\nQ 37.796875 6.203125 41.984375 11.859375 \r\nQ 46.1875 17.53125 46.1875 27.296875 \r\nQ 46.1875 37.015625 41.984375 42.703125 \r\nQ 37.796875 48.390625 30.609375 48.390625 \r\nz\r\nM 30.609375 56 \r\nQ 42.328125 56 49.015625 48.375 \r\nQ 55.71875 40.765625 55.71875 27.296875 \r\nQ 55.71875 13.875 49.015625 6.21875 \r\nQ 42.328125 -1.421875 30.609375 -1.421875 \r\nQ 18.84375 -1.421875 12.171875 6.21875 \r\nQ 5.515625 13.875 5.515625 27.296875 \r\nQ 5.515625 40.765625 12.171875 48.375 \r\nQ 18.84375 56 30.609375 56 \r\nz\r\n\" id=\"DejaVuSans-111\"/>\r\n        <path d=\"M 18.109375 8.203125 \r\nL 18.109375 -20.796875 \r\nL 9.078125 -20.796875 \r\nL 9.078125 54.6875 \r\nL 18.109375 54.6875 \r\nL 18.109375 46.390625 \r\nQ 20.953125 51.265625 25.265625 53.625 \r\nQ 29.59375 56 35.59375 56 \r\nQ 45.5625 56 51.78125 48.09375 \r\nQ 58.015625 40.1875 58.015625 27.296875 \r\nQ 58.015625 14.40625 51.78125 6.484375 \r\nQ 45.5625 -1.421875 35.59375 -1.421875 \r\nQ 29.59375 -1.421875 25.265625 0.953125 \r\nQ 20.953125 3.328125 18.109375 8.203125 \r\nz\r\nM 48.6875 27.296875 \r\nQ 48.6875 37.203125 44.609375 42.84375 \r\nQ 40.53125 48.484375 33.40625 48.484375 \r\nQ 26.265625 48.484375 22.1875 42.84375 \r\nQ 18.109375 37.203125 18.109375 27.296875 \r\nQ 18.109375 17.390625 22.1875 11.75 \r\nQ 26.265625 6.109375 33.40625 6.109375 \r\nQ 40.53125 6.109375 44.609375 11.75 \r\nQ 48.6875 17.390625 48.6875 27.296875 \r\nz\r\n\" id=\"DejaVuSans-112\"/>\r\n        <path d=\"M 8.5 21.578125 \r\nL 8.5 54.6875 \r\nL 17.484375 54.6875 \r\nL 17.484375 21.921875 \r\nQ 17.484375 14.15625 20.5 10.265625 \r\nQ 23.53125 6.390625 29.59375 6.390625 \r\nQ 36.859375 6.390625 41.078125 11.03125 \r\nQ 45.3125 15.671875 45.3125 23.6875 \r\nL 45.3125 54.6875 \r\nL 54.296875 54.6875 \r\nL 54.296875 0 \r\nL 45.3125 0 \r\nL 45.3125 8.40625 \r\nQ 42.046875 3.421875 37.71875 1 \r\nQ 33.40625 -1.421875 27.6875 -1.421875 \r\nQ 18.265625 -1.421875 13.375 4.4375 \r\nQ 8.5 10.296875 8.5 21.578125 \r\nz\r\nM 31.109375 56 \r\nz\r\n\" id=\"DejaVuSans-117\"/>\r\n        <path d=\"M 9.421875 75.984375 \r\nL 18.40625 75.984375 \r\nL 18.40625 0 \r\nL 9.421875 0 \r\nz\r\n\" id=\"DejaVuSans-108\"/>\r\n        <path d=\"M 34.28125 27.484375 \r\nQ 23.390625 27.484375 19.1875 25 \r\nQ 14.984375 22.515625 14.984375 16.5 \r\nQ 14.984375 11.71875 18.140625 8.90625 \r\nQ 21.296875 6.109375 26.703125 6.109375 \r\nQ 34.1875 6.109375 38.703125 11.40625 \r\nQ 43.21875 16.703125 43.21875 25.484375 \r\nL 43.21875 27.484375 \r\nz\r\nM 52.203125 31.203125 \r\nL 52.203125 0 \r\nL 43.21875 0 \r\nL 43.21875 8.296875 \r\nQ 40.140625 3.328125 35.546875 0.953125 \r\nQ 30.953125 -1.421875 24.3125 -1.421875 \r\nQ 15.921875 -1.421875 10.953125 3.296875 \r\nQ 6 8.015625 6 15.921875 \r\nQ 6 25.140625 12.171875 29.828125 \r\nQ 18.359375 34.515625 30.609375 34.515625 \r\nL 43.21875 34.515625 \r\nL 43.21875 35.40625 \r\nQ 43.21875 41.609375 39.140625 45 \r\nQ 35.0625 48.390625 27.6875 48.390625 \r\nQ 23 48.390625 18.546875 47.265625 \r\nQ 14.109375 46.140625 10.015625 43.890625 \r\nL 10.015625 52.203125 \r\nQ 14.9375 54.109375 19.578125 55.046875 \r\nQ 24.21875 56 28.609375 56 \r\nQ 40.484375 56 46.34375 49.84375 \r\nQ 52.203125 43.703125 52.203125 31.203125 \r\nz\r\n\" id=\"DejaVuSans-97\"/>\r\n        <path d=\"M 18.3125 70.21875 \r\nL 18.3125 54.6875 \r\nL 36.8125 54.6875 \r\nL 36.8125 47.703125 \r\nL 18.3125 47.703125 \r\nL 18.3125 18.015625 \r\nQ 18.3125 11.328125 20.140625 9.421875 \r\nQ 21.96875 7.515625 27.59375 7.515625 \r\nL 36.8125 7.515625 \r\nL 36.8125 0 \r\nL 27.59375 0 \r\nQ 17.1875 0 13.234375 3.875 \r\nQ 9.28125 7.765625 9.28125 18.015625 \r\nL 9.28125 47.703125 \r\nL 2.6875 47.703125 \r\nL 2.6875 54.6875 \r\nL 9.28125 54.6875 \r\nL 9.28125 70.21875 \r\nz\r\n\" id=\"DejaVuSans-116\"/>\r\n        <path d=\"M 9.421875 54.6875 \r\nL 18.40625 54.6875 \r\nL 18.40625 0 \r\nL 9.421875 0 \r\nz\r\nM 9.421875 75.984375 \r\nL 18.40625 75.984375 \r\nL 18.40625 64.59375 \r\nL 9.421875 64.59375 \r\nz\r\n\" id=\"DejaVuSans-105\"/>\r\n        <path d=\"M 54.890625 33.015625 \r\nL 54.890625 0 \r\nL 45.90625 0 \r\nL 45.90625 32.71875 \r\nQ 45.90625 40.484375 42.875 44.328125 \r\nQ 39.84375 48.1875 33.796875 48.1875 \r\nQ 26.515625 48.1875 22.3125 43.546875 \r\nQ 18.109375 38.921875 18.109375 30.90625 \r\nL 18.109375 0 \r\nL 9.078125 0 \r\nL 9.078125 54.6875 \r\nL 18.109375 54.6875 \r\nL 18.109375 46.1875 \r\nQ 21.34375 51.125 25.703125 53.5625 \r\nQ 30.078125 56 35.796875 56 \r\nQ 45.21875 56 50.046875 50.171875 \r\nQ 54.890625 44.34375 54.890625 33.015625 \r\nz\r\n\" id=\"DejaVuSans-110\"/>\r\n       </defs>\r\n       <use xlink:href=\"#DejaVuSans-80\"/>\r\n       <use x=\"56.677734\" xlink:href=\"#DejaVuSans-111\"/>\r\n       <use x=\"117.859375\" xlink:href=\"#DejaVuSans-112\"/>\r\n       <use x=\"181.335938\" xlink:href=\"#DejaVuSans-117\"/>\r\n       <use x=\"244.714844\" xlink:href=\"#DejaVuSans-108\"/>\r\n       <use x=\"272.498047\" xlink:href=\"#DejaVuSans-97\"/>\r\n       <use x=\"333.777344\" xlink:href=\"#DejaVuSans-116\"/>\r\n       <use x=\"372.986328\" xlink:href=\"#DejaVuSans-105\"/>\r\n       <use x=\"400.769531\" xlink:href=\"#DejaVuSans-111\"/>\r\n       <use x=\"461.951172\" xlink:href=\"#DejaVuSans-110\"/>\r\n      </g>\r\n     </g>\r\n    </g>\r\n    <g id=\"xtick_2\">\r\n     <g id=\"line2d_2\">\r\n      <g>\r\n       <use style=\"stroke:#000000;stroke-width:0.8;\" x=\"223.866161\" xlink:href=\"#m605ba42e24\" y=\"228.439219\"/>\r\n      </g>\r\n     </g>\r\n     <g id=\"text_2\">\r\n      <!-- CaseCountCumulative -->\r\n      <g transform=\"translate(226.625536 346.684531)rotate(-90)scale(0.1 -0.1)\">\r\n       <defs>\r\n        <path d=\"M 64.40625 67.28125 \r\nL 64.40625 56.890625 \r\nQ 59.421875 61.53125 53.78125 63.8125 \r\nQ 48.140625 66.109375 41.796875 66.109375 \r\nQ 29.296875 66.109375 22.65625 58.46875 \r\nQ 16.015625 50.828125 16.015625 36.375 \r\nQ 16.015625 21.96875 22.65625 14.328125 \r\nQ 29.296875 6.6875 41.796875 6.6875 \r\nQ 48.140625 6.6875 53.78125 8.984375 \r\nQ 59.421875 11.28125 64.40625 15.921875 \r\nL 64.40625 5.609375 \r\nQ 59.234375 2.09375 53.4375 0.328125 \r\nQ 47.65625 -1.421875 41.21875 -1.421875 \r\nQ 24.65625 -1.421875 15.125 8.703125 \r\nQ 5.609375 18.84375 5.609375 36.375 \r\nQ 5.609375 53.953125 15.125 64.078125 \r\nQ 24.65625 74.21875 41.21875 74.21875 \r\nQ 47.75 74.21875 53.53125 72.484375 \r\nQ 59.328125 70.75 64.40625 67.28125 \r\nz\r\n\" id=\"DejaVuSans-67\"/>\r\n        <path d=\"M 44.28125 53.078125 \r\nL 44.28125 44.578125 \r\nQ 40.484375 46.53125 36.375 47.5 \r\nQ 32.28125 48.484375 27.875 48.484375 \r\nQ 21.1875 48.484375 17.84375 46.4375 \r\nQ 14.5 44.390625 14.5 40.28125 \r\nQ 14.5 37.15625 16.890625 35.375 \r\nQ 19.28125 33.59375 26.515625 31.984375 \r\nL 29.59375 31.296875 \r\nQ 39.15625 29.25 43.1875 25.515625 \r\nQ 47.21875 21.78125 47.21875 15.09375 \r\nQ 47.21875 7.46875 41.1875 3.015625 \r\nQ 35.15625 -1.421875 24.609375 -1.421875 \r\nQ 20.21875 -1.421875 15.453125 -0.5625 \r\nQ 10.6875 0.296875 5.421875 2 \r\nL 5.421875 11.28125 \r\nQ 10.40625 8.6875 15.234375 7.390625 \r\nQ 20.0625 6.109375 24.8125 6.109375 \r\nQ 31.15625 6.109375 34.5625 8.28125 \r\nQ 37.984375 10.453125 37.984375 14.40625 \r\nQ 37.984375 18.0625 35.515625 20.015625 \r\nQ 33.0625 21.96875 24.703125 23.78125 \r\nL 21.578125 24.515625 \r\nQ 13.234375 26.265625 9.515625 29.90625 \r\nQ 5.8125 33.546875 5.8125 39.890625 \r\nQ 5.8125 47.609375 11.28125 51.796875 \r\nQ 16.75 56 26.8125 56 \r\nQ 31.78125 56 36.171875 55.265625 \r\nQ 40.578125 54.546875 44.28125 53.078125 \r\nz\r\n\" id=\"DejaVuSans-115\"/>\r\n        <path d=\"M 56.203125 29.59375 \r\nL 56.203125 25.203125 \r\nL 14.890625 25.203125 \r\nQ 15.484375 15.921875 20.484375 11.0625 \r\nQ 25.484375 6.203125 34.421875 6.203125 \r\nQ 39.59375 6.203125 44.453125 7.46875 \r\nQ 49.3125 8.734375 54.109375 11.28125 \r\nL 54.109375 2.78125 \r\nQ 49.265625 0.734375 44.1875 -0.34375 \r\nQ 39.109375 -1.421875 33.890625 -1.421875 \r\nQ 20.796875 -1.421875 13.15625 6.1875 \r\nQ 5.515625 13.8125 5.515625 26.8125 \r\nQ 5.515625 40.234375 12.765625 48.109375 \r\nQ 20.015625 56 32.328125 56 \r\nQ 43.359375 56 49.78125 48.890625 \r\nQ 56.203125 41.796875 56.203125 29.59375 \r\nz\r\nM 47.21875 32.234375 \r\nQ 47.125 39.59375 43.09375 43.984375 \r\nQ 39.0625 48.390625 32.421875 48.390625 \r\nQ 24.90625 48.390625 20.390625 44.140625 \r\nQ 15.875 39.890625 15.1875 32.171875 \r\nz\r\n\" id=\"DejaVuSans-101\"/>\r\n        <path d=\"M 52 44.1875 \r\nQ 55.375 50.25 60.0625 53.125 \r\nQ 64.75 56 71.09375 56 \r\nQ 79.640625 56 84.28125 50.015625 \r\nQ 88.921875 44.046875 88.921875 33.015625 \r\nL 88.921875 0 \r\nL 79.890625 0 \r\nL 79.890625 32.71875 \r\nQ 79.890625 40.578125 77.09375 44.375 \r\nQ 74.3125 48.1875 68.609375 48.1875 \r\nQ 61.625 48.1875 57.5625 43.546875 \r\nQ 53.515625 38.921875 53.515625 30.90625 \r\nL 53.515625 0 \r\nL 44.484375 0 \r\nL 44.484375 32.71875 \r\nQ 44.484375 40.625 41.703125 44.40625 \r\nQ 38.921875 48.1875 33.109375 48.1875 \r\nQ 26.21875 48.1875 22.15625 43.53125 \r\nQ 18.109375 38.875 18.109375 30.90625 \r\nL 18.109375 0 \r\nL 9.078125 0 \r\nL 9.078125 54.6875 \r\nL 18.109375 54.6875 \r\nL 18.109375 46.1875 \r\nQ 21.1875 51.21875 25.484375 53.609375 \r\nQ 29.78125 56 35.6875 56 \r\nQ 41.65625 56 45.828125 52.96875 \r\nQ 50 49.953125 52 44.1875 \r\nz\r\n\" id=\"DejaVuSans-109\"/>\r\n        <path d=\"M 2.984375 54.6875 \r\nL 12.5 54.6875 \r\nL 29.59375 8.796875 \r\nL 46.6875 54.6875 \r\nL 56.203125 54.6875 \r\nL 35.6875 0 \r\nL 23.484375 0 \r\nz\r\n\" id=\"DejaVuSans-118\"/>\r\n       </defs>\r\n       <use xlink:href=\"#DejaVuSans-67\"/>\r\n       <use x=\"69.824219\" xlink:href=\"#DejaVuSans-97\"/>\r\n       <use x=\"131.103516\" xlink:href=\"#DejaVuSans-115\"/>\r\n       <use x=\"183.203125\" xlink:href=\"#DejaVuSans-101\"/>\r\n       <use x=\"244.726562\" xlink:href=\"#DejaVuSans-67\"/>\r\n       <use x=\"314.550781\" xlink:href=\"#DejaVuSans-111\"/>\r\n       <use x=\"375.732422\" xlink:href=\"#DejaVuSans-117\"/>\r\n       <use x=\"439.111328\" xlink:href=\"#DejaVuSans-110\"/>\r\n       <use x=\"502.490234\" xlink:href=\"#DejaVuSans-116\"/>\r\n       <use x=\"541.699219\" xlink:href=\"#DejaVuSans-67\"/>\r\n       <use x=\"611.523438\" xlink:href=\"#DejaVuSans-117\"/>\r\n       <use x=\"674.902344\" xlink:href=\"#DejaVuSans-109\"/>\r\n       <use x=\"772.314453\" xlink:href=\"#DejaVuSans-117\"/>\r\n       <use x=\"835.693359\" xlink:href=\"#DejaVuSans-108\"/>\r\n       <use x=\"863.476562\" xlink:href=\"#DejaVuSans-97\"/>\r\n       <use x=\"924.755859\" xlink:href=\"#DejaVuSans-116\"/>\r\n       <use x=\"963.964844\" xlink:href=\"#DejaVuSans-105\"/>\r\n       <use x=\"991.748047\" xlink:href=\"#DejaVuSans-118\"/>\r\n       <use x=\"1050.927734\" xlink:href=\"#DejaVuSans-101\"/>\r\n      </g>\r\n     </g>\r\n    </g>\r\n    <g id=\"xtick_3\">\r\n     <g id=\"line2d_3\">\r\n      <g>\r\n       <use style=\"stroke:#000000;stroke-width:0.8;\" x=\"262.129018\" xlink:href=\"#m605ba42e24\" y=\"228.439219\"/>\r\n      </g>\r\n     </g>\r\n     <g id=\"text_3\">\r\n      <!-- CaseCount30 -->\r\n      <g transform=\"translate(264.888393 302.334531)rotate(-90)scale(0.1 -0.1)\">\r\n       <defs>\r\n        <path d=\"M 40.578125 39.3125 \r\nQ 47.65625 37.796875 51.625 33 \r\nQ 55.609375 28.21875 55.609375 21.1875 \r\nQ 55.609375 10.40625 48.1875 4.484375 \r\nQ 40.765625 -1.421875 27.09375 -1.421875 \r\nQ 22.515625 -1.421875 17.65625 -0.515625 \r\nQ 12.796875 0.390625 7.625 2.203125 \r\nL 7.625 11.71875 \r\nQ 11.71875 9.328125 16.59375 8.109375 \r\nQ 21.484375 6.890625 26.8125 6.890625 \r\nQ 36.078125 6.890625 40.9375 10.546875 \r\nQ 45.796875 14.203125 45.796875 21.1875 \r\nQ 45.796875 27.640625 41.28125 31.265625 \r\nQ 36.765625 34.90625 28.71875 34.90625 \r\nL 20.21875 34.90625 \r\nL 20.21875 43.015625 \r\nL 29.109375 43.015625 \r\nQ 36.375 43.015625 40.234375 45.921875 \r\nQ 44.09375 48.828125 44.09375 54.296875 \r\nQ 44.09375 59.90625 40.109375 62.90625 \r\nQ 36.140625 65.921875 28.71875 65.921875 \r\nQ 24.65625 65.921875 20.015625 65.03125 \r\nQ 15.375 64.15625 9.8125 62.3125 \r\nL 9.8125 71.09375 \r\nQ 15.4375 72.65625 20.34375 73.4375 \r\nQ 25.25 74.21875 29.59375 74.21875 \r\nQ 40.828125 74.21875 47.359375 69.109375 \r\nQ 53.90625 64.015625 53.90625 55.328125 \r\nQ 53.90625 49.265625 50.4375 45.09375 \r\nQ 46.96875 40.921875 40.578125 39.3125 \r\nz\r\n\" id=\"DejaVuSans-51\"/>\r\n        <path d=\"M 31.78125 66.40625 \r\nQ 24.171875 66.40625 20.328125 58.90625 \r\nQ 16.5 51.421875 16.5 36.375 \r\nQ 16.5 21.390625 20.328125 13.890625 \r\nQ 24.171875 6.390625 31.78125 6.390625 \r\nQ 39.453125 6.390625 43.28125 13.890625 \r\nQ 47.125 21.390625 47.125 36.375 \r\nQ 47.125 51.421875 43.28125 58.90625 \r\nQ 39.453125 66.40625 31.78125 66.40625 \r\nz\r\nM 31.78125 74.21875 \r\nQ 44.046875 74.21875 50.515625 64.515625 \r\nQ 56.984375 54.828125 56.984375 36.375 \r\nQ 56.984375 17.96875 50.515625 8.265625 \r\nQ 44.046875 -1.421875 31.78125 -1.421875 \r\nQ 19.53125 -1.421875 13.0625 8.265625 \r\nQ 6.59375 17.96875 6.59375 36.375 \r\nQ 6.59375 54.828125 13.0625 64.515625 \r\nQ 19.53125 74.21875 31.78125 74.21875 \r\nz\r\n\" id=\"DejaVuSans-48\"/>\r\n       </defs>\r\n       <use xlink:href=\"#DejaVuSans-67\"/>\r\n       <use x=\"69.824219\" xlink:href=\"#DejaVuSans-97\"/>\r\n       <use x=\"131.103516\" xlink:href=\"#DejaVuSans-115\"/>\r\n       <use x=\"183.203125\" xlink:href=\"#DejaVuSans-101\"/>\r\n       <use x=\"244.726562\" xlink:href=\"#DejaVuSans-67\"/>\r\n       <use x=\"314.550781\" xlink:href=\"#DejaVuSans-111\"/>\r\n       <use x=\"375.732422\" xlink:href=\"#DejaVuSans-117\"/>\r\n       <use x=\"439.111328\" xlink:href=\"#DejaVuSans-110\"/>\r\n       <use x=\"502.490234\" xlink:href=\"#DejaVuSans-116\"/>\r\n       <use x=\"541.699219\" xlink:href=\"#DejaVuSans-51\"/>\r\n       <use x=\"605.322266\" xlink:href=\"#DejaVuSans-48\"/>\r\n      </g>\r\n     </g>\r\n    </g>\r\n    <g id=\"xtick_4\">\r\n     <g id=\"line2d_4\">\r\n      <g>\r\n       <use style=\"stroke:#000000;stroke-width:0.8;\" x=\"300.391875\" xlink:href=\"#m605ba42e24\" y=\"228.439219\"/>\r\n      </g>\r\n     </g>\r\n     <g id=\"text_4\">\r\n      <!-- CaseCount14 -->\r\n      <g transform=\"translate(303.15125 302.334531)rotate(-90)scale(0.1 -0.1)\">\r\n       <defs>\r\n        <path d=\"M 12.40625 8.296875 \r\nL 28.515625 8.296875 \r\nL 28.515625 63.921875 \r\nL 10.984375 60.40625 \r\nL 10.984375 69.390625 \r\nL 28.421875 72.90625 \r\nL 38.28125 72.90625 \r\nL 38.28125 8.296875 \r\nL 54.390625 8.296875 \r\nL 54.390625 0 \r\nL 12.40625 0 \r\nz\r\n\" id=\"DejaVuSans-49\"/>\r\n        <path d=\"M 37.796875 64.3125 \r\nL 12.890625 25.390625 \r\nL 37.796875 25.390625 \r\nz\r\nM 35.203125 72.90625 \r\nL 47.609375 72.90625 \r\nL 47.609375 25.390625 \r\nL 58.015625 25.390625 \r\nL 58.015625 17.1875 \r\nL 47.609375 17.1875 \r\nL 47.609375 0 \r\nL 37.796875 0 \r\nL 37.796875 17.1875 \r\nL 4.890625 17.1875 \r\nL 4.890625 26.703125 \r\nz\r\n\" id=\"DejaVuSans-52\"/>\r\n       </defs>\r\n       <use xlink:href=\"#DejaVuSans-67\"/>\r\n       <use x=\"69.824219\" xlink:href=\"#DejaVuSans-97\"/>\r\n       <use x=\"131.103516\" xlink:href=\"#DejaVuSans-115\"/>\r\n       <use x=\"183.203125\" xlink:href=\"#DejaVuSans-101\"/>\r\n       <use x=\"244.726562\" xlink:href=\"#DejaVuSans-67\"/>\r\n       <use x=\"314.550781\" xlink:href=\"#DejaVuSans-111\"/>\r\n       <use x=\"375.732422\" xlink:href=\"#DejaVuSans-117\"/>\r\n       <use x=\"439.111328\" xlink:href=\"#DejaVuSans-110\"/>\r\n       <use x=\"502.490234\" xlink:href=\"#DejaVuSans-116\"/>\r\n       <use x=\"541.699219\" xlink:href=\"#DejaVuSans-49\"/>\r\n       <use x=\"605.322266\" xlink:href=\"#DejaVuSans-52\"/>\r\n      </g>\r\n     </g>\r\n    </g>\r\n    <g id=\"xtick_5\">\r\n     <g id=\"line2d_5\">\r\n      <g>\r\n       <use style=\"stroke:#000000;stroke-width:0.8;\" x=\"338.654732\" xlink:href=\"#m605ba42e24\" y=\"228.439219\"/>\r\n      </g>\r\n     </g>\r\n     <g id=\"text_5\">\r\n      <!-- CaseCountPer100KCumulative -->\r\n      <g transform=\"translate(341.414107 387.711094)rotate(-90)scale(0.1 -0.1)\">\r\n       <defs>\r\n        <path d=\"M 41.109375 46.296875 \r\nQ 39.59375 47.171875 37.8125 47.578125 \r\nQ 36.03125 48 33.890625 48 \r\nQ 26.265625 48 22.1875 43.046875 \r\nQ 18.109375 38.09375 18.109375 28.8125 \r\nL 18.109375 0 \r\nL 9.078125 0 \r\nL 9.078125 54.6875 \r\nL 18.109375 54.6875 \r\nL 18.109375 46.1875 \r\nQ 20.953125 51.171875 25.484375 53.578125 \r\nQ 30.03125 56 36.53125 56 \r\nQ 37.453125 56 38.578125 55.875 \r\nQ 39.703125 55.765625 41.0625 55.515625 \r\nz\r\n\" id=\"DejaVuSans-114\"/>\r\n        <path d=\"M 9.8125 72.90625 \r\nL 19.671875 72.90625 \r\nL 19.671875 42.09375 \r\nL 52.390625 72.90625 \r\nL 65.09375 72.90625 \r\nL 28.90625 38.921875 \r\nL 67.671875 0 \r\nL 54.6875 0 \r\nL 19.671875 35.109375 \r\nL 19.671875 0 \r\nL 9.8125 0 \r\nz\r\n\" id=\"DejaVuSans-75\"/>\r\n       </defs>\r\n       <use xlink:href=\"#DejaVuSans-67\"/>\r\n       <use x=\"69.824219\" xlink:href=\"#DejaVuSans-97\"/>\r\n       <use x=\"131.103516\" xlink:href=\"#DejaVuSans-115\"/>\r\n       <use x=\"183.203125\" xlink:href=\"#DejaVuSans-101\"/>\r\n       <use x=\"244.726562\" xlink:href=\"#DejaVuSans-67\"/>\r\n       <use x=\"314.550781\" xlink:href=\"#DejaVuSans-111\"/>\r\n       <use x=\"375.732422\" xlink:href=\"#DejaVuSans-117\"/>\r\n       <use x=\"439.111328\" xlink:href=\"#DejaVuSans-110\"/>\r\n       <use x=\"502.490234\" xlink:href=\"#DejaVuSans-116\"/>\r\n       <use x=\"541.699219\" xlink:href=\"#DejaVuSans-80\"/>\r\n       <use x=\"598.376953\" xlink:href=\"#DejaVuSans-101\"/>\r\n       <use x=\"659.900391\" xlink:href=\"#DejaVuSans-114\"/>\r\n       <use x=\"701.013672\" xlink:href=\"#DejaVuSans-49\"/>\r\n       <use x=\"764.636719\" xlink:href=\"#DejaVuSans-48\"/>\r\n       <use x=\"828.259766\" xlink:href=\"#DejaVuSans-48\"/>\r\n       <use x=\"891.882812\" xlink:href=\"#DejaVuSans-75\"/>\r\n       <use x=\"951.958984\" xlink:href=\"#DejaVuSans-67\"/>\r\n       <use x=\"1021.783203\" xlink:href=\"#DejaVuSans-117\"/>\r\n       <use x=\"1085.162109\" xlink:href=\"#DejaVuSans-109\"/>\r\n       <use x=\"1182.574219\" xlink:href=\"#DejaVuSans-117\"/>\r\n       <use x=\"1245.953125\" xlink:href=\"#DejaVuSans-108\"/>\r\n       <use x=\"1273.736328\" xlink:href=\"#DejaVuSans-97\"/>\r\n       <use x=\"1335.015625\" xlink:href=\"#DejaVuSans-116\"/>\r\n       <use x=\"1374.224609\" xlink:href=\"#DejaVuSans-105\"/>\r\n       <use x=\"1402.007812\" xlink:href=\"#DejaVuSans-118\"/>\r\n       <use x=\"1461.1875\" xlink:href=\"#DejaVuSans-101\"/>\r\n      </g>\r\n     </g>\r\n    </g>\r\n    <g id=\"xtick_6\">\r\n     <g id=\"line2d_6\">\r\n      <g>\r\n       <use style=\"stroke:#000000;stroke-width:0.8;\" x=\"376.917589\" xlink:href=\"#m605ba42e24\" y=\"228.439219\"/>\r\n      </g>\r\n     </g>\r\n     <g id=\"text_6\">\r\n      <!-- CaseCountPer100K30 -->\r\n      <g transform=\"translate(379.676964 343.911094)rotate(-90)scale(0.1 -0.1)\">\r\n       <use xlink:href=\"#DejaVuSans-67\"/>\r\n       <use x=\"69.824219\" xlink:href=\"#DejaVuSans-97\"/>\r\n       <use x=\"131.103516\" xlink:href=\"#DejaVuSans-115\"/>\r\n       <use x=\"183.203125\" xlink:href=\"#DejaVuSans-101\"/>\r\n       <use x=\"244.726562\" xlink:href=\"#DejaVuSans-67\"/>\r\n       <use x=\"314.550781\" xlink:href=\"#DejaVuSans-111\"/>\r\n       <use x=\"375.732422\" xlink:href=\"#DejaVuSans-117\"/>\r\n       <use x=\"439.111328\" xlink:href=\"#DejaVuSans-110\"/>\r\n       <use x=\"502.490234\" xlink:href=\"#DejaVuSans-116\"/>\r\n       <use x=\"541.699219\" xlink:href=\"#DejaVuSans-80\"/>\r\n       <use x=\"598.376953\" xlink:href=\"#DejaVuSans-101\"/>\r\n       <use x=\"659.900391\" xlink:href=\"#DejaVuSans-114\"/>\r\n       <use x=\"701.013672\" xlink:href=\"#DejaVuSans-49\"/>\r\n       <use x=\"764.636719\" xlink:href=\"#DejaVuSans-48\"/>\r\n       <use x=\"828.259766\" xlink:href=\"#DejaVuSans-48\"/>\r\n       <use x=\"891.882812\" xlink:href=\"#DejaVuSans-75\"/>\r\n       <use x=\"957.458984\" xlink:href=\"#DejaVuSans-51\"/>\r\n       <use x=\"1021.082031\" xlink:href=\"#DejaVuSans-48\"/>\r\n      </g>\r\n     </g>\r\n    </g>\r\n    <g id=\"xtick_7\">\r\n     <g id=\"line2d_7\">\r\n      <g>\r\n       <use style=\"stroke:#000000;stroke-width:0.8;\" x=\"415.180446\" xlink:href=\"#m605ba42e24\" y=\"228.439219\"/>\r\n      </g>\r\n     </g>\r\n     <g id=\"text_7\">\r\n      <!-- CaseCountPer100K14 -->\r\n      <g transform=\"translate(417.939821 343.911094)rotate(-90)scale(0.1 -0.1)\">\r\n       <use xlink:href=\"#DejaVuSans-67\"/>\r\n       <use x=\"69.824219\" xlink:href=\"#DejaVuSans-97\"/>\r\n       <use x=\"131.103516\" xlink:href=\"#DejaVuSans-115\"/>\r\n       <use x=\"183.203125\" xlink:href=\"#DejaVuSans-101\"/>\r\n       <use x=\"244.726562\" xlink:href=\"#DejaVuSans-67\"/>\r\n       <use x=\"314.550781\" xlink:href=\"#DejaVuSans-111\"/>\r\n       <use x=\"375.732422\" xlink:href=\"#DejaVuSans-117\"/>\r\n       <use x=\"439.111328\" xlink:href=\"#DejaVuSans-110\"/>\r\n       <use x=\"502.490234\" xlink:href=\"#DejaVuSans-116\"/>\r\n       <use x=\"541.699219\" xlink:href=\"#DejaVuSans-80\"/>\r\n       <use x=\"598.376953\" xlink:href=\"#DejaVuSans-101\"/>\r\n       <use x=\"659.900391\" xlink:href=\"#DejaVuSans-114\"/>\r\n       <use x=\"701.013672\" xlink:href=\"#DejaVuSans-49\"/>\r\n       <use x=\"764.636719\" xlink:href=\"#DejaVuSans-48\"/>\r\n       <use x=\"828.259766\" xlink:href=\"#DejaVuSans-48\"/>\r\n       <use x=\"891.882812\" xlink:href=\"#DejaVuSans-75\"/>\r\n       <use x=\"957.458984\" xlink:href=\"#DejaVuSans-49\"/>\r\n       <use x=\"1021.082031\" xlink:href=\"#DejaVuSans-52\"/>\r\n      </g>\r\n     </g>\r\n    </g>\r\n   </g>\r\n   <g id=\"matplotlib.axis_2\">\r\n    <g id=\"ytick_1\">\r\n     <g id=\"line2d_8\">\r\n      <defs>\r\n       <path d=\"M 0 0 \r\nL -3.5 0 \r\n\" id=\"m7554a33126\" style=\"stroke:#000000;stroke-width:0.8;\"/>\r\n      </defs>\r\n      <g>\r\n       <use style=\"stroke:#000000;stroke-width:0.8;\" x=\"166.471875\" xlink:href=\"#m7554a33126\" y=\"26.530647\"/>\r\n      </g>\r\n     </g>\r\n     <g id=\"text_8\">\r\n      <!-- Population -->\r\n      <g transform=\"translate(106.939062 30.329866)scale(0.1 -0.1)\">\r\n       <use xlink:href=\"#DejaVuSans-80\"/>\r\n       <use x=\"56.677734\" xlink:href=\"#DejaVuSans-111\"/>\r\n       <use x=\"117.859375\" xlink:href=\"#DejaVuSans-112\"/>\r\n       <use x=\"181.335938\" xlink:href=\"#DejaVuSans-117\"/>\r\n       <use x=\"244.714844\" xlink:href=\"#DejaVuSans-108\"/>\r\n       <use x=\"272.498047\" xlink:href=\"#DejaVuSans-97\"/>\r\n       <use x=\"333.777344\" xlink:href=\"#DejaVuSans-116\"/>\r\n       <use x=\"372.986328\" xlink:href=\"#DejaVuSans-105\"/>\r\n       <use x=\"400.769531\" xlink:href=\"#DejaVuSans-111\"/>\r\n       <use x=\"461.951172\" xlink:href=\"#DejaVuSans-110\"/>\r\n      </g>\r\n     </g>\r\n    </g>\r\n    <g id=\"ytick_2\">\r\n     <g id=\"line2d_9\">\r\n      <g>\r\n       <use style=\"stroke:#000000;stroke-width:0.8;\" x=\"166.471875\" xlink:href=\"#m7554a33126\" y=\"57.593504\"/>\r\n      </g>\r\n     </g>\r\n     <g id=\"text_9\">\r\n      <!-- CaseCountCumulative -->\r\n      <g transform=\"translate(48.226562 61.392723)scale(0.1 -0.1)\">\r\n       <use xlink:href=\"#DejaVuSans-67\"/>\r\n       <use x=\"69.824219\" xlink:href=\"#DejaVuSans-97\"/>\r\n       <use x=\"131.103516\" xlink:href=\"#DejaVuSans-115\"/>\r\n       <use x=\"183.203125\" xlink:href=\"#DejaVuSans-101\"/>\r\n       <use x=\"244.726562\" xlink:href=\"#DejaVuSans-67\"/>\r\n       <use x=\"314.550781\" xlink:href=\"#DejaVuSans-111\"/>\r\n       <use x=\"375.732422\" xlink:href=\"#DejaVuSans-117\"/>\r\n       <use x=\"439.111328\" xlink:href=\"#DejaVuSans-110\"/>\r\n       <use x=\"502.490234\" xlink:href=\"#DejaVuSans-116\"/>\r\n       <use x=\"541.699219\" xlink:href=\"#DejaVuSans-67\"/>\r\n       <use x=\"611.523438\" xlink:href=\"#DejaVuSans-117\"/>\r\n       <use x=\"674.902344\" xlink:href=\"#DejaVuSans-109\"/>\r\n       <use x=\"772.314453\" xlink:href=\"#DejaVuSans-117\"/>\r\n       <use x=\"835.693359\" xlink:href=\"#DejaVuSans-108\"/>\r\n       <use x=\"863.476562\" xlink:href=\"#DejaVuSans-97\"/>\r\n       <use x=\"924.755859\" xlink:href=\"#DejaVuSans-116\"/>\r\n       <use x=\"963.964844\" xlink:href=\"#DejaVuSans-105\"/>\r\n       <use x=\"991.748047\" xlink:href=\"#DejaVuSans-118\"/>\r\n       <use x=\"1050.927734\" xlink:href=\"#DejaVuSans-101\"/>\r\n      </g>\r\n     </g>\r\n    </g>\r\n    <g id=\"ytick_3\">\r\n     <g id=\"line2d_10\">\r\n      <g>\r\n       <use style=\"stroke:#000000;stroke-width:0.8;\" x=\"166.471875\" xlink:href=\"#m7554a33126\" y=\"88.656362\"/>\r\n      </g>\r\n     </g>\r\n     <g id=\"text_10\">\r\n      <!-- CaseCount30 -->\r\n      <g transform=\"translate(92.576562 92.45558)scale(0.1 -0.1)\">\r\n       <use xlink:href=\"#DejaVuSans-67\"/>\r\n       <use x=\"69.824219\" xlink:href=\"#DejaVuSans-97\"/>\r\n       <use x=\"131.103516\" xlink:href=\"#DejaVuSans-115\"/>\r\n       <use x=\"183.203125\" xlink:href=\"#DejaVuSans-101\"/>\r\n       <use x=\"244.726562\" xlink:href=\"#DejaVuSans-67\"/>\r\n       <use x=\"314.550781\" xlink:href=\"#DejaVuSans-111\"/>\r\n       <use x=\"375.732422\" xlink:href=\"#DejaVuSans-117\"/>\r\n       <use x=\"439.111328\" xlink:href=\"#DejaVuSans-110\"/>\r\n       <use x=\"502.490234\" xlink:href=\"#DejaVuSans-116\"/>\r\n       <use x=\"541.699219\" xlink:href=\"#DejaVuSans-51\"/>\r\n       <use x=\"605.322266\" xlink:href=\"#DejaVuSans-48\"/>\r\n      </g>\r\n     </g>\r\n    </g>\r\n    <g id=\"ytick_4\">\r\n     <g id=\"line2d_11\">\r\n      <g>\r\n       <use style=\"stroke:#000000;stroke-width:0.8;\" x=\"166.471875\" xlink:href=\"#m7554a33126\" y=\"119.719219\"/>\r\n      </g>\r\n     </g>\r\n     <g id=\"text_11\">\r\n      <!-- CaseCount14 -->\r\n      <g transform=\"translate(92.576562 123.518438)scale(0.1 -0.1)\">\r\n       <use xlink:href=\"#DejaVuSans-67\"/>\r\n       <use x=\"69.824219\" xlink:href=\"#DejaVuSans-97\"/>\r\n       <use x=\"131.103516\" xlink:href=\"#DejaVuSans-115\"/>\r\n       <use x=\"183.203125\" xlink:href=\"#DejaVuSans-101\"/>\r\n       <use x=\"244.726562\" xlink:href=\"#DejaVuSans-67\"/>\r\n       <use x=\"314.550781\" xlink:href=\"#DejaVuSans-111\"/>\r\n       <use x=\"375.732422\" xlink:href=\"#DejaVuSans-117\"/>\r\n       <use x=\"439.111328\" xlink:href=\"#DejaVuSans-110\"/>\r\n       <use x=\"502.490234\" xlink:href=\"#DejaVuSans-116\"/>\r\n       <use x=\"541.699219\" xlink:href=\"#DejaVuSans-49\"/>\r\n       <use x=\"605.322266\" xlink:href=\"#DejaVuSans-52\"/>\r\n      </g>\r\n     </g>\r\n    </g>\r\n    <g id=\"ytick_5\">\r\n     <g id=\"line2d_12\">\r\n      <g>\r\n       <use style=\"stroke:#000000;stroke-width:0.8;\" x=\"166.471875\" xlink:href=\"#m7554a33126\" y=\"150.782076\"/>\r\n      </g>\r\n     </g>\r\n     <g id=\"text_12\">\r\n      <!-- CaseCountPer100KCumulative -->\r\n      <g transform=\"translate(7.2 154.581295)scale(0.1 -0.1)\">\r\n       <use xlink:href=\"#DejaVuSans-67\"/>\r\n       <use x=\"69.824219\" xlink:href=\"#DejaVuSans-97\"/>\r\n       <use x=\"131.103516\" xlink:href=\"#DejaVuSans-115\"/>\r\n       <use x=\"183.203125\" xlink:href=\"#DejaVuSans-101\"/>\r\n       <use x=\"244.726562\" xlink:href=\"#DejaVuSans-67\"/>\r\n       <use x=\"314.550781\" xlink:href=\"#DejaVuSans-111\"/>\r\n       <use x=\"375.732422\" xlink:href=\"#DejaVuSans-117\"/>\r\n       <use x=\"439.111328\" xlink:href=\"#DejaVuSans-110\"/>\r\n       <use x=\"502.490234\" xlink:href=\"#DejaVuSans-116\"/>\r\n       <use x=\"541.699219\" xlink:href=\"#DejaVuSans-80\"/>\r\n       <use x=\"598.376953\" xlink:href=\"#DejaVuSans-101\"/>\r\n       <use x=\"659.900391\" xlink:href=\"#DejaVuSans-114\"/>\r\n       <use x=\"701.013672\" xlink:href=\"#DejaVuSans-49\"/>\r\n       <use x=\"764.636719\" xlink:href=\"#DejaVuSans-48\"/>\r\n       <use x=\"828.259766\" xlink:href=\"#DejaVuSans-48\"/>\r\n       <use x=\"891.882812\" xlink:href=\"#DejaVuSans-75\"/>\r\n       <use x=\"951.958984\" xlink:href=\"#DejaVuSans-67\"/>\r\n       <use x=\"1021.783203\" xlink:href=\"#DejaVuSans-117\"/>\r\n       <use x=\"1085.162109\" xlink:href=\"#DejaVuSans-109\"/>\r\n       <use x=\"1182.574219\" xlink:href=\"#DejaVuSans-117\"/>\r\n       <use x=\"1245.953125\" xlink:href=\"#DejaVuSans-108\"/>\r\n       <use x=\"1273.736328\" xlink:href=\"#DejaVuSans-97\"/>\r\n       <use x=\"1335.015625\" xlink:href=\"#DejaVuSans-116\"/>\r\n       <use x=\"1374.224609\" xlink:href=\"#DejaVuSans-105\"/>\r\n       <use x=\"1402.007812\" xlink:href=\"#DejaVuSans-118\"/>\r\n       <use x=\"1461.1875\" xlink:href=\"#DejaVuSans-101\"/>\r\n      </g>\r\n     </g>\r\n    </g>\r\n    <g id=\"ytick_6\">\r\n     <g id=\"line2d_13\">\r\n      <g>\r\n       <use style=\"stroke:#000000;stroke-width:0.8;\" x=\"166.471875\" xlink:href=\"#m7554a33126\" y=\"181.844933\"/>\r\n      </g>\r\n     </g>\r\n     <g id=\"text_13\">\r\n      <!-- CaseCountPer100K30 -->\r\n      <g transform=\"translate(51 185.644152)scale(0.1 -0.1)\">\r\n       <use xlink:href=\"#DejaVuSans-67\"/>\r\n       <use x=\"69.824219\" xlink:href=\"#DejaVuSans-97\"/>\r\n       <use x=\"131.103516\" xlink:href=\"#DejaVuSans-115\"/>\r\n       <use x=\"183.203125\" xlink:href=\"#DejaVuSans-101\"/>\r\n       <use x=\"244.726562\" xlink:href=\"#DejaVuSans-67\"/>\r\n       <use x=\"314.550781\" xlink:href=\"#DejaVuSans-111\"/>\r\n       <use x=\"375.732422\" xlink:href=\"#DejaVuSans-117\"/>\r\n       <use x=\"439.111328\" xlink:href=\"#DejaVuSans-110\"/>\r\n       <use x=\"502.490234\" xlink:href=\"#DejaVuSans-116\"/>\r\n       <use x=\"541.699219\" xlink:href=\"#DejaVuSans-80\"/>\r\n       <use x=\"598.376953\" xlink:href=\"#DejaVuSans-101\"/>\r\n       <use x=\"659.900391\" xlink:href=\"#DejaVuSans-114\"/>\r\n       <use x=\"701.013672\" xlink:href=\"#DejaVuSans-49\"/>\r\n       <use x=\"764.636719\" xlink:href=\"#DejaVuSans-48\"/>\r\n       <use x=\"828.259766\" xlink:href=\"#DejaVuSans-48\"/>\r\n       <use x=\"891.882812\" xlink:href=\"#DejaVuSans-75\"/>\r\n       <use x=\"957.458984\" xlink:href=\"#DejaVuSans-51\"/>\r\n       <use x=\"1021.082031\" xlink:href=\"#DejaVuSans-48\"/>\r\n      </g>\r\n     </g>\r\n    </g>\r\n    <g id=\"ytick_7\">\r\n     <g id=\"line2d_14\">\r\n      <g>\r\n       <use style=\"stroke:#000000;stroke-width:0.8;\" x=\"166.471875\" xlink:href=\"#m7554a33126\" y=\"212.90779\"/>\r\n      </g>\r\n     </g>\r\n     <g id=\"text_14\">\r\n      <!-- CaseCountPer100K14 -->\r\n      <g transform=\"translate(51 216.707009)scale(0.1 -0.1)\">\r\n       <use xlink:href=\"#DejaVuSans-67\"/>\r\n       <use x=\"69.824219\" xlink:href=\"#DejaVuSans-97\"/>\r\n       <use x=\"131.103516\" xlink:href=\"#DejaVuSans-115\"/>\r\n       <use x=\"183.203125\" xlink:href=\"#DejaVuSans-101\"/>\r\n       <use x=\"244.726562\" xlink:href=\"#DejaVuSans-67\"/>\r\n       <use x=\"314.550781\" xlink:href=\"#DejaVuSans-111\"/>\r\n       <use x=\"375.732422\" xlink:href=\"#DejaVuSans-117\"/>\r\n       <use x=\"439.111328\" xlink:href=\"#DejaVuSans-110\"/>\r\n       <use x=\"502.490234\" xlink:href=\"#DejaVuSans-116\"/>\r\n       <use x=\"541.699219\" xlink:href=\"#DejaVuSans-80\"/>\r\n       <use x=\"598.376953\" xlink:href=\"#DejaVuSans-101\"/>\r\n       <use x=\"659.900391\" xlink:href=\"#DejaVuSans-114\"/>\r\n       <use x=\"701.013672\" xlink:href=\"#DejaVuSans-49\"/>\r\n       <use x=\"764.636719\" xlink:href=\"#DejaVuSans-48\"/>\r\n       <use x=\"828.259766\" xlink:href=\"#DejaVuSans-48\"/>\r\n       <use x=\"891.882812\" xlink:href=\"#DejaVuSans-75\"/>\r\n       <use x=\"957.458984\" xlink:href=\"#DejaVuSans-49\"/>\r\n       <use x=\"1021.082031\" xlink:href=\"#DejaVuSans-52\"/>\r\n      </g>\r\n     </g>\r\n    </g>\r\n   </g>\r\n   <g id=\"text_15\">\r\n    <!-- 1 -->\r\n    <g style=\"fill:#262626;\" transform=\"translate(182.422054 29.290022)scale(0.1 -0.1)\">\r\n     <use xlink:href=\"#DejaVuSans-49\"/>\r\n    </g>\r\n   </g>\r\n   <g id=\"text_16\">\r\n    <!-- 0.92 -->\r\n    <g style=\"fill:#262626;\" transform=\"translate(212.733348 29.290022)scale(0.1 -0.1)\">\r\n     <defs>\r\n      <path d=\"M 10.6875 12.40625 \r\nL 21 12.40625 \r\nL 21 0 \r\nL 10.6875 0 \r\nz\r\n\" id=\"DejaVuSans-46\"/>\r\n      <path d=\"M 10.984375 1.515625 \r\nL 10.984375 10.5 \r\nQ 14.703125 8.734375 18.5 7.8125 \r\nQ 22.3125 6.890625 25.984375 6.890625 \r\nQ 35.75 6.890625 40.890625 13.453125 \r\nQ 46.046875 20.015625 46.78125 33.40625 \r\nQ 43.953125 29.203125 39.59375 26.953125 \r\nQ 35.25 24.703125 29.984375 24.703125 \r\nQ 19.046875 24.703125 12.671875 31.3125 \r\nQ 6.296875 37.9375 6.296875 49.421875 \r\nQ 6.296875 60.640625 12.9375 67.421875 \r\nQ 19.578125 74.21875 30.609375 74.21875 \r\nQ 43.265625 74.21875 49.921875 64.515625 \r\nQ 56.59375 54.828125 56.59375 36.375 \r\nQ 56.59375 19.140625 48.40625 8.859375 \r\nQ 40.234375 -1.421875 26.421875 -1.421875 \r\nQ 22.703125 -1.421875 18.890625 -0.6875 \r\nQ 15.09375 0.046875 10.984375 1.515625 \r\nz\r\nM 30.609375 32.421875 \r\nQ 37.25 32.421875 41.125 36.953125 \r\nQ 45.015625 41.5 45.015625 49.421875 \r\nQ 45.015625 57.28125 41.125 61.84375 \r\nQ 37.25 66.40625 30.609375 66.40625 \r\nQ 23.96875 66.40625 20.09375 61.84375 \r\nQ 16.21875 57.28125 16.21875 49.421875 \r\nQ 16.21875 41.5 20.09375 36.953125 \r\nQ 23.96875 32.421875 30.609375 32.421875 \r\nz\r\n\" id=\"DejaVuSans-57\"/>\r\n      <path d=\"M 19.1875 8.296875 \r\nL 53.609375 8.296875 \r\nL 53.609375 0 \r\nL 7.328125 0 \r\nL 7.328125 8.296875 \r\nQ 12.9375 14.109375 22.625 23.890625 \r\nQ 32.328125 33.6875 34.8125 36.53125 \r\nQ 39.546875 41.84375 41.421875 45.53125 \r\nQ 43.3125 49.21875 43.3125 52.78125 \r\nQ 43.3125 58.59375 39.234375 62.25 \r\nQ 35.15625 65.921875 28.609375 65.921875 \r\nQ 23.96875 65.921875 18.8125 64.3125 \r\nQ 13.671875 62.703125 7.8125 59.421875 \r\nL 7.8125 69.390625 \r\nQ 13.765625 71.78125 18.9375 73 \r\nQ 24.125 74.21875 28.421875 74.21875 \r\nQ 39.75 74.21875 46.484375 68.546875 \r\nQ 53.21875 62.890625 53.21875 53.421875 \r\nQ 53.21875 48.921875 51.53125 44.890625 \r\nQ 49.859375 40.875 45.40625 35.40625 \r\nQ 44.1875 33.984375 37.640625 27.21875 \r\nQ 31.109375 20.453125 19.1875 8.296875 \r\nz\r\n\" id=\"DejaVuSans-50\"/>\r\n     </defs>\r\n     <use xlink:href=\"#DejaVuSans-48\"/>\r\n     <use x=\"63.623047\" xlink:href=\"#DejaVuSans-46\"/>\r\n     <use x=\"95.410156\" xlink:href=\"#DejaVuSans-57\"/>\r\n     <use x=\"159.033203\" xlink:href=\"#DejaVuSans-50\"/>\r\n    </g>\r\n   </g>\r\n   <g id=\"text_17\">\r\n    <!-- 0.96 -->\r\n    <g style=\"fill:#262626;\" transform=\"translate(250.996205 29.290022)scale(0.1 -0.1)\">\r\n     <defs>\r\n      <path d=\"M 33.015625 40.375 \r\nQ 26.375 40.375 22.484375 35.828125 \r\nQ 18.609375 31.296875 18.609375 23.390625 \r\nQ 18.609375 15.53125 22.484375 10.953125 \r\nQ 26.375 6.390625 33.015625 6.390625 \r\nQ 39.65625 6.390625 43.53125 10.953125 \r\nQ 47.40625 15.53125 47.40625 23.390625 \r\nQ 47.40625 31.296875 43.53125 35.828125 \r\nQ 39.65625 40.375 33.015625 40.375 \r\nz\r\nM 52.59375 71.296875 \r\nL 52.59375 62.3125 \r\nQ 48.875 64.0625 45.09375 64.984375 \r\nQ 41.3125 65.921875 37.59375 65.921875 \r\nQ 27.828125 65.921875 22.671875 59.328125 \r\nQ 17.53125 52.734375 16.796875 39.40625 \r\nQ 19.671875 43.65625 24.015625 45.921875 \r\nQ 28.375 48.1875 33.59375 48.1875 \r\nQ 44.578125 48.1875 50.953125 41.515625 \r\nQ 57.328125 34.859375 57.328125 23.390625 \r\nQ 57.328125 12.15625 50.6875 5.359375 \r\nQ 44.046875 -1.421875 33.015625 -1.421875 \r\nQ 20.359375 -1.421875 13.671875 8.265625 \r\nQ 6.984375 17.96875 6.984375 36.375 \r\nQ 6.984375 53.65625 15.1875 63.9375 \r\nQ 23.390625 74.21875 37.203125 74.21875 \r\nQ 40.921875 74.21875 44.703125 73.484375 \r\nQ 48.484375 72.75 52.59375 71.296875 \r\nz\r\n\" id=\"DejaVuSans-54\"/>\r\n     </defs>\r\n     <use xlink:href=\"#DejaVuSans-48\"/>\r\n     <use x=\"63.623047\" xlink:href=\"#DejaVuSans-46\"/>\r\n     <use x=\"95.410156\" xlink:href=\"#DejaVuSans-57\"/>\r\n     <use x=\"159.033203\" xlink:href=\"#DejaVuSans-54\"/>\r\n    </g>\r\n   </g>\r\n   <g id=\"text_18\">\r\n    <!-- 0.95 -->\r\n    <g style=\"fill:#262626;\" transform=\"translate(289.259063 29.290022)scale(0.1 -0.1)\">\r\n     <defs>\r\n      <path d=\"M 10.796875 72.90625 \r\nL 49.515625 72.90625 \r\nL 49.515625 64.59375 \r\nL 19.828125 64.59375 \r\nL 19.828125 46.734375 \r\nQ 21.96875 47.46875 24.109375 47.828125 \r\nQ 26.265625 48.1875 28.421875 48.1875 \r\nQ 40.625 48.1875 47.75 41.5 \r\nQ 54.890625 34.8125 54.890625 23.390625 \r\nQ 54.890625 11.625 47.5625 5.09375 \r\nQ 40.234375 -1.421875 26.90625 -1.421875 \r\nQ 22.3125 -1.421875 17.546875 -0.640625 \r\nQ 12.796875 0.140625 7.71875 1.703125 \r\nL 7.71875 11.625 \r\nQ 12.109375 9.234375 16.796875 8.0625 \r\nQ 21.484375 6.890625 26.703125 6.890625 \r\nQ 35.15625 6.890625 40.078125 11.328125 \r\nQ 45.015625 15.765625 45.015625 23.390625 \r\nQ 45.015625 31 40.078125 35.4375 \r\nQ 35.15625 39.890625 26.703125 39.890625 \r\nQ 22.75 39.890625 18.8125 39.015625 \r\nQ 14.890625 38.140625 10.796875 36.28125 \r\nz\r\n\" id=\"DejaVuSans-53\"/>\r\n     </defs>\r\n     <use xlink:href=\"#DejaVuSans-48\"/>\r\n     <use x=\"63.623047\" xlink:href=\"#DejaVuSans-46\"/>\r\n     <use x=\"95.410156\" xlink:href=\"#DejaVuSans-57\"/>\r\n     <use x=\"159.033203\" xlink:href=\"#DejaVuSans-53\"/>\r\n    </g>\r\n   </g>\r\n   <g id=\"text_19\">\r\n    <!-- -0.12 -->\r\n    <g style=\"fill:#ffffff;\" transform=\"translate(325.718013 29.290022)scale(0.1 -0.1)\">\r\n     <defs>\r\n      <path d=\"M 4.890625 31.390625 \r\nL 31.203125 31.390625 \r\nL 31.203125 23.390625 \r\nL 4.890625 23.390625 \r\nz\r\n\" id=\"DejaVuSans-45\"/>\r\n     </defs>\r\n     <use xlink:href=\"#DejaVuSans-45\"/>\r\n     <use x=\"36.083984\" xlink:href=\"#DejaVuSans-48\"/>\r\n     <use x=\"99.707031\" xlink:href=\"#DejaVuSans-46\"/>\r\n     <use x=\"131.494141\" xlink:href=\"#DejaVuSans-49\"/>\r\n     <use x=\"195.117188\" xlink:href=\"#DejaVuSans-50\"/>\r\n    </g>\r\n   </g>\r\n   <g id=\"text_20\">\r\n    <!-- -0.078 -->\r\n    <g style=\"fill:#ffffff;\" transform=\"translate(360.799621 29.290022)scale(0.1 -0.1)\">\r\n     <defs>\r\n      <path d=\"M 8.203125 72.90625 \r\nL 55.078125 72.90625 \r\nL 55.078125 68.703125 \r\nL 28.609375 0 \r\nL 18.3125 0 \r\nL 43.21875 64.59375 \r\nL 8.203125 64.59375 \r\nz\r\n\" id=\"DejaVuSans-55\"/>\r\n      <path d=\"M 31.78125 34.625 \r\nQ 24.75 34.625 20.71875 30.859375 \r\nQ 16.703125 27.09375 16.703125 20.515625 \r\nQ 16.703125 13.921875 20.71875 10.15625 \r\nQ 24.75 6.390625 31.78125 6.390625 \r\nQ 38.8125 6.390625 42.859375 10.171875 \r\nQ 46.921875 13.96875 46.921875 20.515625 \r\nQ 46.921875 27.09375 42.890625 30.859375 \r\nQ 38.875 34.625 31.78125 34.625 \r\nz\r\nM 21.921875 38.8125 \r\nQ 15.578125 40.375 12.03125 44.71875 \r\nQ 8.5 49.078125 8.5 55.328125 \r\nQ 8.5 64.0625 14.71875 69.140625 \r\nQ 20.953125 74.21875 31.78125 74.21875 \r\nQ 42.671875 74.21875 48.875 69.140625 \r\nQ 55.078125 64.0625 55.078125 55.328125 \r\nQ 55.078125 49.078125 51.53125 44.71875 \r\nQ 48 40.375 41.703125 38.8125 \r\nQ 48.828125 37.15625 52.796875 32.3125 \r\nQ 56.78125 27.484375 56.78125 20.515625 \r\nQ 56.78125 9.90625 50.3125 4.234375 \r\nQ 43.84375 -1.421875 31.78125 -1.421875 \r\nQ 19.734375 -1.421875 13.25 4.234375 \r\nQ 6.78125 9.90625 6.78125 20.515625 \r\nQ 6.78125 27.484375 10.78125 32.3125 \r\nQ 14.796875 37.15625 21.921875 38.8125 \r\nz\r\nM 18.3125 54.390625 \r\nQ 18.3125 48.734375 21.84375 45.5625 \r\nQ 25.390625 42.390625 31.78125 42.390625 \r\nQ 38.140625 42.390625 41.71875 45.5625 \r\nQ 45.3125 48.734375 45.3125 54.390625 \r\nQ 45.3125 60.0625 41.71875 63.234375 \r\nQ 38.140625 66.40625 31.78125 66.40625 \r\nQ 25.390625 66.40625 21.84375 63.234375 \r\nQ 18.3125 60.0625 18.3125 54.390625 \r\nz\r\n\" id=\"DejaVuSans-56\"/>\r\n     </defs>\r\n     <use xlink:href=\"#DejaVuSans-45\"/>\r\n     <use x=\"36.083984\" xlink:href=\"#DejaVuSans-48\"/>\r\n     <use x=\"99.707031\" xlink:href=\"#DejaVuSans-46\"/>\r\n     <use x=\"131.494141\" xlink:href=\"#DejaVuSans-48\"/>\r\n     <use x=\"195.117188\" xlink:href=\"#DejaVuSans-55\"/>\r\n     <use x=\"258.740234\" xlink:href=\"#DejaVuSans-56\"/>\r\n    </g>\r\n   </g>\r\n   <g id=\"text_21\">\r\n    <!-- -0.13 -->\r\n    <g style=\"fill:#ffffff;\" transform=\"translate(402.243728 29.290022)scale(0.1 -0.1)\">\r\n     <use xlink:href=\"#DejaVuSans-45\"/>\r\n     <use x=\"36.083984\" xlink:href=\"#DejaVuSans-48\"/>\r\n     <use x=\"99.707031\" xlink:href=\"#DejaVuSans-46\"/>\r\n     <use x=\"131.494141\" xlink:href=\"#DejaVuSans-49\"/>\r\n     <use x=\"195.117188\" xlink:href=\"#DejaVuSans-51\"/>\r\n    </g>\r\n   </g>\r\n   <g id=\"text_22\">\r\n    <!-- 0.92 -->\r\n    <g style=\"fill:#262626;\" transform=\"translate(174.470491 60.352879)scale(0.1 -0.1)\">\r\n     <use xlink:href=\"#DejaVuSans-48\"/>\r\n     <use x=\"63.623047\" xlink:href=\"#DejaVuSans-46\"/>\r\n     <use x=\"95.410156\" xlink:href=\"#DejaVuSans-57\"/>\r\n     <use x=\"159.033203\" xlink:href=\"#DejaVuSans-50\"/>\r\n    </g>\r\n   </g>\r\n   <g id=\"text_23\">\r\n    <!-- 1 -->\r\n    <g style=\"fill:#262626;\" transform=\"translate(220.684911 60.352879)scale(0.1 -0.1)\">\r\n     <use xlink:href=\"#DejaVuSans-49\"/>\r\n    </g>\r\n   </g>\r\n   <g id=\"text_24\">\r\n    <!-- 0.89 -->\r\n    <g style=\"fill:#262626;\" transform=\"translate(250.996205 60.352879)scale(0.1 -0.1)\">\r\n     <use xlink:href=\"#DejaVuSans-48\"/>\r\n     <use x=\"63.623047\" xlink:href=\"#DejaVuSans-46\"/>\r\n     <use x=\"95.410156\" xlink:href=\"#DejaVuSans-56\"/>\r\n     <use x=\"159.033203\" xlink:href=\"#DejaVuSans-57\"/>\r\n    </g>\r\n   </g>\r\n   <g id=\"text_25\">\r\n    <!-- 0.87 -->\r\n    <g style=\"fill:#262626;\" transform=\"translate(289.259063 60.352879)scale(0.1 -0.1)\">\r\n     <use xlink:href=\"#DejaVuSans-48\"/>\r\n     <use x=\"63.623047\" xlink:href=\"#DejaVuSans-46\"/>\r\n     <use x=\"95.410156\" xlink:href=\"#DejaVuSans-56\"/>\r\n     <use x=\"159.033203\" xlink:href=\"#DejaVuSans-55\"/>\r\n    </g>\r\n   </g>\r\n   <g id=\"text_26\">\r\n    <!-- 0.25 -->\r\n    <g style=\"fill:#ffffff;\" transform=\"translate(327.52192 60.352879)scale(0.1 -0.1)\">\r\n     <use xlink:href=\"#DejaVuSans-48\"/>\r\n     <use x=\"63.623047\" xlink:href=\"#DejaVuSans-46\"/>\r\n     <use x=\"95.410156\" xlink:href=\"#DejaVuSans-50\"/>\r\n     <use x=\"159.033203\" xlink:href=\"#DejaVuSans-53\"/>\r\n    </g>\r\n   </g>\r\n   <g id=\"text_27\">\r\n    <!-- -0.041 -->\r\n    <g style=\"fill:#ffffff;\" transform=\"translate(360.799621 60.352879)scale(0.1 -0.1)\">\r\n     <use xlink:href=\"#DejaVuSans-45\"/>\r\n     <use x=\"36.083984\" xlink:href=\"#DejaVuSans-48\"/>\r\n     <use x=\"99.707031\" xlink:href=\"#DejaVuSans-46\"/>\r\n     <use x=\"131.494141\" xlink:href=\"#DejaVuSans-48\"/>\r\n     <use x=\"195.117188\" xlink:href=\"#DejaVuSans-52\"/>\r\n     <use x=\"258.740234\" xlink:href=\"#DejaVuSans-49\"/>\r\n    </g>\r\n   </g>\r\n   <g id=\"text_28\">\r\n    <!-- -0.087 -->\r\n    <g style=\"fill:#ffffff;\" transform=\"translate(399.062478 60.352879)scale(0.1 -0.1)\">\r\n     <use xlink:href=\"#DejaVuSans-45\"/>\r\n     <use x=\"36.083984\" xlink:href=\"#DejaVuSans-48\"/>\r\n     <use x=\"99.707031\" xlink:href=\"#DejaVuSans-46\"/>\r\n     <use x=\"131.494141\" xlink:href=\"#DejaVuSans-48\"/>\r\n     <use x=\"195.117188\" xlink:href=\"#DejaVuSans-56\"/>\r\n     <use x=\"258.740234\" xlink:href=\"#DejaVuSans-55\"/>\r\n    </g>\r\n   </g>\r\n   <g id=\"text_29\">\r\n    <!-- 0.96 -->\r\n    <g style=\"fill:#262626;\" transform=\"translate(174.470491 91.415737)scale(0.1 -0.1)\">\r\n     <use xlink:href=\"#DejaVuSans-48\"/>\r\n     <use x=\"63.623047\" xlink:href=\"#DejaVuSans-46\"/>\r\n     <use x=\"95.410156\" xlink:href=\"#DejaVuSans-57\"/>\r\n     <use x=\"159.033203\" xlink:href=\"#DejaVuSans-54\"/>\r\n    </g>\r\n   </g>\r\n   <g id=\"text_30\">\r\n    <!-- 0.89 -->\r\n    <g style=\"fill:#262626;\" transform=\"translate(212.733348 91.415737)scale(0.1 -0.1)\">\r\n     <use xlink:href=\"#DejaVuSans-48\"/>\r\n     <use x=\"63.623047\" xlink:href=\"#DejaVuSans-46\"/>\r\n     <use x=\"95.410156\" xlink:href=\"#DejaVuSans-56\"/>\r\n     <use x=\"159.033203\" xlink:href=\"#DejaVuSans-57\"/>\r\n    </g>\r\n   </g>\r\n   <g id=\"text_31\">\r\n    <!-- 1 -->\r\n    <g style=\"fill:#262626;\" transform=\"translate(258.947768 91.415737)scale(0.1 -0.1)\">\r\n     <use xlink:href=\"#DejaVuSans-49\"/>\r\n    </g>\r\n   </g>\r\n   <g id=\"text_32\">\r\n    <!-- 0.99 -->\r\n    <g style=\"fill:#262626;\" transform=\"translate(289.259063 91.415737)scale(0.1 -0.1)\">\r\n     <use xlink:href=\"#DejaVuSans-48\"/>\r\n     <use x=\"63.623047\" xlink:href=\"#DejaVuSans-46\"/>\r\n     <use x=\"95.410156\" xlink:href=\"#DejaVuSans-57\"/>\r\n     <use x=\"159.033203\" xlink:href=\"#DejaVuSans-57\"/>\r\n    </g>\r\n   </g>\r\n   <g id=\"text_33\">\r\n    <!-- -0.07 -->\r\n    <g style=\"fill:#ffffff;\" transform=\"translate(325.718013 91.415737)scale(0.1 -0.1)\">\r\n     <use xlink:href=\"#DejaVuSans-45\"/>\r\n     <use x=\"36.083984\" xlink:href=\"#DejaVuSans-48\"/>\r\n     <use x=\"99.707031\" xlink:href=\"#DejaVuSans-46\"/>\r\n     <use x=\"131.494141\" xlink:href=\"#DejaVuSans-48\"/>\r\n     <use x=\"195.117188\" xlink:href=\"#DejaVuSans-55\"/>\r\n    </g>\r\n   </g>\r\n   <g id=\"text_34\">\r\n    <!-- 0.16 -->\r\n    <g style=\"fill:#ffffff;\" transform=\"translate(365.784777 91.415737)scale(0.1 -0.1)\">\r\n     <use xlink:href=\"#DejaVuSans-48\"/>\r\n     <use x=\"63.623047\" xlink:href=\"#DejaVuSans-46\"/>\r\n     <use x=\"95.410156\" xlink:href=\"#DejaVuSans-49\"/>\r\n     <use x=\"159.033203\" xlink:href=\"#DejaVuSans-54\"/>\r\n    </g>\r\n   </g>\r\n   <g id=\"text_35\">\r\n    <!-- 0.061 -->\r\n    <g style=\"fill:#ffffff;\" transform=\"translate(400.866384 91.415737)scale(0.1 -0.1)\">\r\n     <use xlink:href=\"#DejaVuSans-48\"/>\r\n     <use x=\"63.623047\" xlink:href=\"#DejaVuSans-46\"/>\r\n     <use x=\"95.410156\" xlink:href=\"#DejaVuSans-48\"/>\r\n     <use x=\"159.033203\" xlink:href=\"#DejaVuSans-54\"/>\r\n     <use x=\"222.65625\" xlink:href=\"#DejaVuSans-49\"/>\r\n    </g>\r\n   </g>\r\n   <g id=\"text_36\">\r\n    <!-- 0.95 -->\r\n    <g style=\"fill:#262626;\" transform=\"translate(174.470491 122.478594)scale(0.1 -0.1)\">\r\n     <use xlink:href=\"#DejaVuSans-48\"/>\r\n     <use x=\"63.623047\" xlink:href=\"#DejaVuSans-46\"/>\r\n     <use x=\"95.410156\" xlink:href=\"#DejaVuSans-57\"/>\r\n     <use x=\"159.033203\" xlink:href=\"#DejaVuSans-53\"/>\r\n    </g>\r\n   </g>\r\n   <g id=\"text_37\">\r\n    <!-- 0.87 -->\r\n    <g style=\"fill:#262626;\" transform=\"translate(212.733348 122.478594)scale(0.1 -0.1)\">\r\n     <use xlink:href=\"#DejaVuSans-48\"/>\r\n     <use x=\"63.623047\" xlink:href=\"#DejaVuSans-46\"/>\r\n     <use x=\"95.410156\" xlink:href=\"#DejaVuSans-56\"/>\r\n     <use x=\"159.033203\" xlink:href=\"#DejaVuSans-55\"/>\r\n    </g>\r\n   </g>\r\n   <g id=\"text_38\">\r\n    <!-- 0.99 -->\r\n    <g style=\"fill:#262626;\" transform=\"translate(250.996205 122.478594)scale(0.1 -0.1)\">\r\n     <use xlink:href=\"#DejaVuSans-48\"/>\r\n     <use x=\"63.623047\" xlink:href=\"#DejaVuSans-46\"/>\r\n     <use x=\"95.410156\" xlink:href=\"#DejaVuSans-57\"/>\r\n     <use x=\"159.033203\" xlink:href=\"#DejaVuSans-57\"/>\r\n    </g>\r\n   </g>\r\n   <g id=\"text_39\">\r\n    <!-- 1 -->\r\n    <g style=\"fill:#262626;\" transform=\"translate(297.210625 122.478594)scale(0.1 -0.1)\">\r\n     <use xlink:href=\"#DejaVuSans-49\"/>\r\n    </g>\r\n   </g>\r\n   <g id=\"text_40\">\r\n    <!-- -0.0047 -->\r\n    <g style=\"fill:#ffffff;\" transform=\"translate(319.355513 122.478594)scale(0.1 -0.1)\">\r\n     <use xlink:href=\"#DejaVuSans-45\"/>\r\n     <use x=\"36.083984\" xlink:href=\"#DejaVuSans-48\"/>\r\n     <use x=\"99.707031\" xlink:href=\"#DejaVuSans-46\"/>\r\n     <use x=\"131.494141\" xlink:href=\"#DejaVuSans-48\"/>\r\n     <use x=\"195.117188\" xlink:href=\"#DejaVuSans-48\"/>\r\n     <use x=\"258.740234\" xlink:href=\"#DejaVuSans-52\"/>\r\n     <use x=\"322.363281\" xlink:href=\"#DejaVuSans-55\"/>\r\n    </g>\r\n   </g>\r\n   <g id=\"text_41\">\r\n    <!-- -0.014 -->\r\n    <g style=\"fill:#ffffff;\" transform=\"translate(360.799621 122.478594)scale(0.1 -0.1)\">\r\n     <use xlink:href=\"#DejaVuSans-45\"/>\r\n     <use x=\"36.083984\" xlink:href=\"#DejaVuSans-48\"/>\r\n     <use x=\"99.707031\" xlink:href=\"#DejaVuSans-46\"/>\r\n     <use x=\"131.494141\" xlink:href=\"#DejaVuSans-48\"/>\r\n     <use x=\"195.117188\" xlink:href=\"#DejaVuSans-49\"/>\r\n     <use x=\"258.740234\" xlink:href=\"#DejaVuSans-52\"/>\r\n    </g>\r\n   </g>\r\n   <g id=\"text_42\">\r\n    <!-- 0.095 -->\r\n    <g style=\"fill:#ffffff;\" transform=\"translate(400.866384 122.478594)scale(0.1 -0.1)\">\r\n     <use xlink:href=\"#DejaVuSans-48\"/>\r\n     <use x=\"63.623047\" xlink:href=\"#DejaVuSans-46\"/>\r\n     <use x=\"95.410156\" xlink:href=\"#DejaVuSans-48\"/>\r\n     <use x=\"159.033203\" xlink:href=\"#DejaVuSans-57\"/>\r\n     <use x=\"222.65625\" xlink:href=\"#DejaVuSans-53\"/>\r\n    </g>\r\n   </g>\r\n   <g id=\"text_43\">\r\n    <!-- -0.12 -->\r\n    <g style=\"fill:#ffffff;\" transform=\"translate(172.666585 153.541451)scale(0.1 -0.1)\">\r\n     <use xlink:href=\"#DejaVuSans-45\"/>\r\n     <use x=\"36.083984\" xlink:href=\"#DejaVuSans-48\"/>\r\n     <use x=\"99.707031\" xlink:href=\"#DejaVuSans-46\"/>\r\n     <use x=\"131.494141\" xlink:href=\"#DejaVuSans-49\"/>\r\n     <use x=\"195.117188\" xlink:href=\"#DejaVuSans-50\"/>\r\n    </g>\r\n   </g>\r\n   <g id=\"text_44\">\r\n    <!-- 0.25 -->\r\n    <g style=\"fill:#ffffff;\" transform=\"translate(212.733348 153.541451)scale(0.1 -0.1)\">\r\n     <use xlink:href=\"#DejaVuSans-48\"/>\r\n     <use x=\"63.623047\" xlink:href=\"#DejaVuSans-46\"/>\r\n     <use x=\"95.410156\" xlink:href=\"#DejaVuSans-50\"/>\r\n     <use x=\"159.033203\" xlink:href=\"#DejaVuSans-53\"/>\r\n    </g>\r\n   </g>\r\n   <g id=\"text_45\">\r\n    <!-- -0.07 -->\r\n    <g style=\"fill:#ffffff;\" transform=\"translate(249.192299 153.541451)scale(0.1 -0.1)\">\r\n     <use xlink:href=\"#DejaVuSans-45\"/>\r\n     <use x=\"36.083984\" xlink:href=\"#DejaVuSans-48\"/>\r\n     <use x=\"99.707031\" xlink:href=\"#DejaVuSans-46\"/>\r\n     <use x=\"131.494141\" xlink:href=\"#DejaVuSans-48\"/>\r\n     <use x=\"195.117188\" xlink:href=\"#DejaVuSans-55\"/>\r\n    </g>\r\n   </g>\r\n   <g id=\"text_46\">\r\n    <!-- -0.0047 -->\r\n    <g style=\"fill:#ffffff;\" transform=\"translate(281.092656 153.541451)scale(0.1 -0.1)\">\r\n     <use xlink:href=\"#DejaVuSans-45\"/>\r\n     <use x=\"36.083984\" xlink:href=\"#DejaVuSans-48\"/>\r\n     <use x=\"99.707031\" xlink:href=\"#DejaVuSans-46\"/>\r\n     <use x=\"131.494141\" xlink:href=\"#DejaVuSans-48\"/>\r\n     <use x=\"195.117188\" xlink:href=\"#DejaVuSans-48\"/>\r\n     <use x=\"258.740234\" xlink:href=\"#DejaVuSans-52\"/>\r\n     <use x=\"322.363281\" xlink:href=\"#DejaVuSans-55\"/>\r\n    </g>\r\n   </g>\r\n   <g id=\"text_47\">\r\n    <!-- 1 -->\r\n    <g style=\"fill:#262626;\" transform=\"translate(335.473482 153.541451)scale(0.1 -0.1)\">\r\n     <use xlink:href=\"#DejaVuSans-49\"/>\r\n    </g>\r\n   </g>\r\n   <g id=\"text_48\">\r\n    <!-- 0.14 -->\r\n    <g style=\"fill:#ffffff;\" transform=\"translate(365.784777 153.541451)scale(0.1 -0.1)\">\r\n     <use xlink:href=\"#DejaVuSans-48\"/>\r\n     <use x=\"63.623047\" xlink:href=\"#DejaVuSans-46\"/>\r\n     <use x=\"95.410156\" xlink:href=\"#DejaVuSans-49\"/>\r\n     <use x=\"159.033203\" xlink:href=\"#DejaVuSans-52\"/>\r\n    </g>\r\n   </g>\r\n   <g id=\"text_49\">\r\n    <!-- 0.19 -->\r\n    <g style=\"fill:#ffffff;\" transform=\"translate(404.047634 153.541451)scale(0.1 -0.1)\">\r\n     <use xlink:href=\"#DejaVuSans-48\"/>\r\n     <use x=\"63.623047\" xlink:href=\"#DejaVuSans-46\"/>\r\n     <use x=\"95.410156\" xlink:href=\"#DejaVuSans-49\"/>\r\n     <use x=\"159.033203\" xlink:href=\"#DejaVuSans-57\"/>\r\n    </g>\r\n   </g>\r\n   <g id=\"text_50\">\r\n    <!-- -0.078 -->\r\n    <g style=\"fill:#ffffff;\" transform=\"translate(169.485335 184.604308)scale(0.1 -0.1)\">\r\n     <use xlink:href=\"#DejaVuSans-45\"/>\r\n     <use x=\"36.083984\" xlink:href=\"#DejaVuSans-48\"/>\r\n     <use x=\"99.707031\" xlink:href=\"#DejaVuSans-46\"/>\r\n     <use x=\"131.494141\" xlink:href=\"#DejaVuSans-48\"/>\r\n     <use x=\"195.117188\" xlink:href=\"#DejaVuSans-55\"/>\r\n     <use x=\"258.740234\" xlink:href=\"#DejaVuSans-56\"/>\r\n    </g>\r\n   </g>\r\n   <g id=\"text_51\">\r\n    <!-- -0.041 -->\r\n    <g style=\"fill:#ffffff;\" transform=\"translate(207.748192 184.604308)scale(0.1 -0.1)\">\r\n     <use xlink:href=\"#DejaVuSans-45\"/>\r\n     <use x=\"36.083984\" xlink:href=\"#DejaVuSans-48\"/>\r\n     <use x=\"99.707031\" xlink:href=\"#DejaVuSans-46\"/>\r\n     <use x=\"131.494141\" xlink:href=\"#DejaVuSans-48\"/>\r\n     <use x=\"195.117188\" xlink:href=\"#DejaVuSans-52\"/>\r\n     <use x=\"258.740234\" xlink:href=\"#DejaVuSans-49\"/>\r\n    </g>\r\n   </g>\r\n   <g id=\"text_52\">\r\n    <!-- 0.16 -->\r\n    <g style=\"fill:#ffffff;\" transform=\"translate(250.996205 184.604308)scale(0.1 -0.1)\">\r\n     <use xlink:href=\"#DejaVuSans-48\"/>\r\n     <use x=\"63.623047\" xlink:href=\"#DejaVuSans-46\"/>\r\n     <use x=\"95.410156\" xlink:href=\"#DejaVuSans-49\"/>\r\n     <use x=\"159.033203\" xlink:href=\"#DejaVuSans-54\"/>\r\n    </g>\r\n   </g>\r\n   <g id=\"text_53\">\r\n    <!-- -0.014 -->\r\n    <g style=\"fill:#ffffff;\" transform=\"translate(284.273906 184.604308)scale(0.1 -0.1)\">\r\n     <use xlink:href=\"#DejaVuSans-45\"/>\r\n     <use x=\"36.083984\" xlink:href=\"#DejaVuSans-48\"/>\r\n     <use x=\"99.707031\" xlink:href=\"#DejaVuSans-46\"/>\r\n     <use x=\"131.494141\" xlink:href=\"#DejaVuSans-48\"/>\r\n     <use x=\"195.117188\" xlink:href=\"#DejaVuSans-49\"/>\r\n     <use x=\"258.740234\" xlink:href=\"#DejaVuSans-52\"/>\r\n    </g>\r\n   </g>\r\n   <g id=\"text_54\">\r\n    <!-- 0.14 -->\r\n    <g style=\"fill:#ffffff;\" transform=\"translate(327.52192 184.604308)scale(0.1 -0.1)\">\r\n     <use xlink:href=\"#DejaVuSans-48\"/>\r\n     <use x=\"63.623047\" xlink:href=\"#DejaVuSans-46\"/>\r\n     <use x=\"95.410156\" xlink:href=\"#DejaVuSans-49\"/>\r\n     <use x=\"159.033203\" xlink:href=\"#DejaVuSans-52\"/>\r\n    </g>\r\n   </g>\r\n   <g id=\"text_55\">\r\n    <!-- 1 -->\r\n    <g style=\"fill:#262626;\" transform=\"translate(373.736339 184.604308)scale(0.1 -0.1)\">\r\n     <use xlink:href=\"#DejaVuSans-49\"/>\r\n    </g>\r\n   </g>\r\n   <g id=\"text_56\">\r\n    <!-- 0.87 -->\r\n    <g style=\"fill:#262626;\" transform=\"translate(404.047634 184.604308)scale(0.1 -0.1)\">\r\n     <use xlink:href=\"#DejaVuSans-48\"/>\r\n     <use x=\"63.623047\" xlink:href=\"#DejaVuSans-46\"/>\r\n     <use x=\"95.410156\" xlink:href=\"#DejaVuSans-56\"/>\r\n     <use x=\"159.033203\" xlink:href=\"#DejaVuSans-55\"/>\r\n    </g>\r\n   </g>\r\n   <g id=\"text_57\">\r\n    <!-- -0.13 -->\r\n    <g style=\"fill:#ffffff;\" transform=\"translate(172.666585 215.667165)scale(0.1 -0.1)\">\r\n     <use xlink:href=\"#DejaVuSans-45\"/>\r\n     <use x=\"36.083984\" xlink:href=\"#DejaVuSans-48\"/>\r\n     <use x=\"99.707031\" xlink:href=\"#DejaVuSans-46\"/>\r\n     <use x=\"131.494141\" xlink:href=\"#DejaVuSans-49\"/>\r\n     <use x=\"195.117188\" xlink:href=\"#DejaVuSans-51\"/>\r\n    </g>\r\n   </g>\r\n   <g id=\"text_58\">\r\n    <!-- -0.087 -->\r\n    <g style=\"fill:#ffffff;\" transform=\"translate(207.748192 215.667165)scale(0.1 -0.1)\">\r\n     <use xlink:href=\"#DejaVuSans-45\"/>\r\n     <use x=\"36.083984\" xlink:href=\"#DejaVuSans-48\"/>\r\n     <use x=\"99.707031\" xlink:href=\"#DejaVuSans-46\"/>\r\n     <use x=\"131.494141\" xlink:href=\"#DejaVuSans-48\"/>\r\n     <use x=\"195.117188\" xlink:href=\"#DejaVuSans-56\"/>\r\n     <use x=\"258.740234\" xlink:href=\"#DejaVuSans-55\"/>\r\n    </g>\r\n   </g>\r\n   <g id=\"text_59\">\r\n    <!-- 0.061 -->\r\n    <g style=\"fill:#ffffff;\" transform=\"translate(247.814955 215.667165)scale(0.1 -0.1)\">\r\n     <use xlink:href=\"#DejaVuSans-48\"/>\r\n     <use x=\"63.623047\" xlink:href=\"#DejaVuSans-46\"/>\r\n     <use x=\"95.410156\" xlink:href=\"#DejaVuSans-48\"/>\r\n     <use x=\"159.033203\" xlink:href=\"#DejaVuSans-54\"/>\r\n     <use x=\"222.65625\" xlink:href=\"#DejaVuSans-49\"/>\r\n    </g>\r\n   </g>\r\n   <g id=\"text_60\">\r\n    <!-- 0.095 -->\r\n    <g style=\"fill:#ffffff;\" transform=\"translate(286.077813 215.667165)scale(0.1 -0.1)\">\r\n     <use xlink:href=\"#DejaVuSans-48\"/>\r\n     <use x=\"63.623047\" xlink:href=\"#DejaVuSans-46\"/>\r\n     <use x=\"95.410156\" xlink:href=\"#DejaVuSans-48\"/>\r\n     <use x=\"159.033203\" xlink:href=\"#DejaVuSans-57\"/>\r\n     <use x=\"222.65625\" xlink:href=\"#DejaVuSans-53\"/>\r\n    </g>\r\n   </g>\r\n   <g id=\"text_61\">\r\n    <!-- 0.19 -->\r\n    <g style=\"fill:#ffffff;\" transform=\"translate(327.52192 215.667165)scale(0.1 -0.1)\">\r\n     <use xlink:href=\"#DejaVuSans-48\"/>\r\n     <use x=\"63.623047\" xlink:href=\"#DejaVuSans-46\"/>\r\n     <use x=\"95.410156\" xlink:href=\"#DejaVuSans-49\"/>\r\n     <use x=\"159.033203\" xlink:href=\"#DejaVuSans-57\"/>\r\n    </g>\r\n   </g>\r\n   <g id=\"text_62\">\r\n    <!-- 0.87 -->\r\n    <g style=\"fill:#262626;\" transform=\"translate(365.784777 215.667165)scale(0.1 -0.1)\">\r\n     <use xlink:href=\"#DejaVuSans-48\"/>\r\n     <use x=\"63.623047\" xlink:href=\"#DejaVuSans-46\"/>\r\n     <use x=\"95.410156\" xlink:href=\"#DejaVuSans-56\"/>\r\n     <use x=\"159.033203\" xlink:href=\"#DejaVuSans-55\"/>\r\n    </g>\r\n   </g>\r\n   <g id=\"text_63\">\r\n    <!-- 1 -->\r\n    <g style=\"fill:#262626;\" transform=\"translate(411.999196 215.667165)scale(0.1 -0.1)\">\r\n     <use xlink:href=\"#DejaVuSans-49\"/>\r\n    </g>\r\n   </g>\r\n  </g>\r\n  <g id=\"axes_2\">\r\n   <g id=\"patch_3\">\r\n    <path clip-path=\"url(#p279f2c83c6)\" d=\"M 451.051875 228.439219 \r\nL 451.051875 227.589844 \r\nL 451.051875 11.848594 \r\nL 451.051875 10.999219 \r\nL 461.923875 10.999219 \r\nL 461.923875 11.848594 \r\nL 461.923875 227.589844 \r\nL 461.923875 228.439219 \r\nz\r\n\" style=\"fill:#ffffff;stroke:#ffffff;stroke-linejoin:miter;stroke-width:0.01;\"/>\r\n   </g>\r\n   <image height=\"218\" id=\"imagea415a732be\" transform=\"scale(1 -1)translate(0 -218)\" width=\"11\" x=\"451\" xlink:href=\"data:image/png;base64,\r\niVBORw0KGgoAAAANSUhEUgAAAAsAAADaCAYAAABwzrisAAABVElEQVR4nO3Y0W1DMQxDUelZWaL7z9l0BZ8CBNSg71sgqCtaTtzn9fWuy2/6trKqpvu+fJ5+YspQ3JVSPksaJGWhQcpBGjHPqAwNGo1YRLeEn2xsGbfQqBXhtwavS3XcWyZo6O6/aPjBRpIz2KDwk3Jwb4iNya1csbEkSOcPNkjjRhop5SUNzvV/CbdBxanTbbtOaGCDUrxjKB9PIxn+e2lrMLc35g2el9BoUr4XrjkxZfQsxTAVa7CbbMSCRMpSfCB2SRoyQWvwfKdsLEEHh3CeJTQMXcrGAze9cUYaoFwUpAFls2E0Vig3LF21kVIuUTYbQgMbTBXTa4/8PJl6qHgHOnmvIxodo2GeDZ0on/sXDh33DnTwhDNFx8oaXEGjjUauQSmmoZz7m36N55wNopEb95IgfTqNPq+Q8hoasr5i4+6mS3MHZ8pGLqL/Df5WOXZSfgA78isnlN+JnAAAAABJRU5ErkJggg==\" y=\"-10\"/>\r\n   <g id=\"matplotlib.axis_3\"/>\r\n   <g id=\"matplotlib.axis_4\">\r\n    <g id=\"ytick_8\">\r\n     <g id=\"line2d_15\">\r\n      <defs>\r\n       <path d=\"M 0 0 \r\nL 3.5 0 \r\n\" id=\"me3cacf052a\" style=\"stroke:#000000;stroke-width:0.8;\"/>\r\n      </defs>\r\n      <g>\r\n       <use style=\"stroke:#000000;stroke-width:0.8;\" x=\"461.923875\" xlink:href=\"#me3cacf052a\" y=\"203.595806\"/>\r\n      </g>\r\n     </g>\r\n     <g id=\"text_64\">\r\n      <!-- 0.0 -->\r\n      <g transform=\"translate(468.923875 207.395024)scale(0.1 -0.1)\">\r\n       <use xlink:href=\"#DejaVuSans-48\"/>\r\n       <use x=\"63.623047\" xlink:href=\"#DejaVuSans-46\"/>\r\n       <use x=\"95.410156\" xlink:href=\"#DejaVuSans-48\"/>\r\n      </g>\r\n     </g>\r\n    </g>\r\n    <g id=\"ytick_9\">\r\n     <g id=\"line2d_16\">\r\n      <g>\r\n       <use style=\"stroke:#000000;stroke-width:0.8;\" x=\"461.923875\" xlink:href=\"#me3cacf052a\" y=\"165.076488\"/>\r\n      </g>\r\n     </g>\r\n     <g id=\"text_65\">\r\n      <!-- 0.2 -->\r\n      <g transform=\"translate(468.923875 168.875707)scale(0.1 -0.1)\">\r\n       <use xlink:href=\"#DejaVuSans-48\"/>\r\n       <use x=\"63.623047\" xlink:href=\"#DejaVuSans-46\"/>\r\n       <use x=\"95.410156\" xlink:href=\"#DejaVuSans-50\"/>\r\n      </g>\r\n     </g>\r\n    </g>\r\n    <g id=\"ytick_10\">\r\n     <g id=\"line2d_17\">\r\n      <g>\r\n       <use style=\"stroke:#000000;stroke-width:0.8;\" x=\"461.923875\" xlink:href=\"#me3cacf052a\" y=\"126.557171\"/>\r\n      </g>\r\n     </g>\r\n     <g id=\"text_66\">\r\n      <!-- 0.4 -->\r\n      <g transform=\"translate(468.923875 130.35639)scale(0.1 -0.1)\">\r\n       <use xlink:href=\"#DejaVuSans-48\"/>\r\n       <use x=\"63.623047\" xlink:href=\"#DejaVuSans-46\"/>\r\n       <use x=\"95.410156\" xlink:href=\"#DejaVuSans-52\"/>\r\n      </g>\r\n     </g>\r\n    </g>\r\n    <g id=\"ytick_11\">\r\n     <g id=\"line2d_18\">\r\n      <g>\r\n       <use style=\"stroke:#000000;stroke-width:0.8;\" x=\"461.923875\" xlink:href=\"#me3cacf052a\" y=\"88.037854\"/>\r\n      </g>\r\n     </g>\r\n     <g id=\"text_67\">\r\n      <!-- 0.6 -->\r\n      <g transform=\"translate(468.923875 91.837072)scale(0.1 -0.1)\">\r\n       <use xlink:href=\"#DejaVuSans-48\"/>\r\n       <use x=\"63.623047\" xlink:href=\"#DejaVuSans-46\"/>\r\n       <use x=\"95.410156\" xlink:href=\"#DejaVuSans-54\"/>\r\n      </g>\r\n     </g>\r\n    </g>\r\n    <g id=\"ytick_12\">\r\n     <g id=\"line2d_19\">\r\n      <g>\r\n       <use style=\"stroke:#000000;stroke-width:0.8;\" x=\"461.923875\" xlink:href=\"#me3cacf052a\" y=\"49.518536\"/>\r\n      </g>\r\n     </g>\r\n     <g id=\"text_68\">\r\n      <!-- 0.8 -->\r\n      <g transform=\"translate(468.923875 53.317755)scale(0.1 -0.1)\">\r\n       <use xlink:href=\"#DejaVuSans-48\"/>\r\n       <use x=\"63.623047\" xlink:href=\"#DejaVuSans-46\"/>\r\n       <use x=\"95.410156\" xlink:href=\"#DejaVuSans-56\"/>\r\n      </g>\r\n     </g>\r\n    </g>\r\n    <g id=\"ytick_13\">\r\n     <g id=\"line2d_20\">\r\n      <g>\r\n       <use style=\"stroke:#000000;stroke-width:0.8;\" x=\"461.923875\" xlink:href=\"#me3cacf052a\" y=\"10.999219\"/>\r\n      </g>\r\n     </g>\r\n     <g id=\"text_69\">\r\n      <!-- 1.0 -->\r\n      <g transform=\"translate(468.923875 14.798437)scale(0.1 -0.1)\">\r\n       <use xlink:href=\"#DejaVuSans-49\"/>\r\n       <use x=\"63.623047\" xlink:href=\"#DejaVuSans-46\"/>\r\n       <use x=\"95.410156\" xlink:href=\"#DejaVuSans-48\"/>\r\n      </g>\r\n     </g>\r\n    </g>\r\n   </g>\r\n   <g id=\"patch_4\">\r\n    <path d=\"M 451.051875 228.439219 \r\nL 451.051875 227.589844 \r\nL 451.051875 11.848594 \r\nL 451.051875 10.999219 \r\nL 461.923875 10.999219 \r\nL 461.923875 11.848594 \r\nL 461.923875 227.589844 \r\nL 461.923875 228.439219 \r\nz\r\n\" style=\"fill:none;\"/>\r\n   </g>\r\n  </g>\r\n </g>\r\n <defs>\r\n  <clipPath id=\"p1038f5d388\">\r\n   <rect height=\"217.44\" width=\"267.84\" x=\"166.471875\" y=\"10.999219\"/>\r\n  </clipPath>\r\n  <clipPath id=\"p279f2c83c6\">\r\n   <rect height=\"217.44\" width=\"10.872\" x=\"451.051875\" y=\"10.999219\"/>\r\n  </clipPath>\r\n </defs>\r\n</svg>\r\n",
      "image/png": "[encoded data removed]"
     },
     "metadata": {
      "needs_background": "light"
     }
    }
   ],
   "source": [
    "sns.heatmap(zip_cases_df.corr(),annot=True)"
   ]
  },
  {
   "source": [
    "Mainly what I note in this heatmap is the correlations between each of the variables, mainly population correlates and case count correlate alot regardless of number of days. What is interesting to note is the same trenddoes not entirely occur in the proportions of the cummulative case count, in fact there is little to no correlation whatsoever."
   ],
   "cell_type": "markdown",
   "metadata": {}
  },
  {
   "cell_type": "code",
   "execution_count": 41,
   "metadata": {},
   "outputs": [
    {
     "output_type": "execute_result",
     "data": {
      "text/plain": [
       "Latitude                 0.193606\n",
       "Longitude                0.072284\n",
       "Elevation                0.365894\n",
       "CurrentPopulation        0.916204\n",
       "HouseholdsperZIPCode     0.894270\n",
       "AverageHouseValue        0.079883\n",
       "AvgIncomePerHousehold    0.117234\n",
       "PersonsPerHousehold     -0.052258\n",
       "WhitePopulation          0.283535\n",
       "MedianAge                0.065030\n",
       "MalePopulation           0.330733\n",
       "FemalePopulation         0.364976\n",
       "BlackPopulation          0.426099\n",
       "HispanicPopulation       0.637523\n",
       "RetiredWorkers           0.716403\n",
       "DisabledWorkers          0.552590\n",
       "Spouses                  0.560233\n",
       "Children                 0.616543\n",
       "NumberofBusinesses       0.484317\n",
       "#ofEmployees             0.049946\n",
       "dtype: float64"
      ]
     },
     "metadata": {},
     "execution_count": 41
    }
   ],
   "source": [
    "zip_info_df.corrwith(zip_cases_df.CaseCountCumulative)"
   ]
  },
  {
   "cell_type": "code",
   "execution_count": 42,
   "metadata": {},
   "outputs": [
    {
     "output_type": "execute_result",
     "data": {
      "text/plain": [
       "        Latitude  Longitude   Elevation  CurrentPopulation  \\\n",
       "count  31.000000  31.000000   31.000000          31.000000   \n",
       "mean   39.999974 -82.984779  812.903226       29297.290323   \n",
       "std     0.071387   0.068954   60.900112       16144.182817   \n",
       "min    39.816625 -83.134338  714.000000        2440.000000   \n",
       "25%    39.956474 -83.032139  765.500000       21245.500000   \n",
       "50%    39.995575 -82.979703  812.000000       26229.000000   \n",
       "75%    40.045262 -82.936419  853.000000       42568.000000   \n",
       "max    40.146034 -82.863748  924.000000       61572.000000   \n",
       "\n",
       "       HouseholdsperZIPCode  AverageHouseValue  AvgIncomePerHousehold  \\\n",
       "count             31.000000          31.000000              31.000000   \n",
       "mean           11350.161290      155632.258065           50914.419355   \n",
       "std             6167.689811       86838.199686           19653.729086   \n",
       "min              328.000000           0.000000           17179.000000   \n",
       "25%             8049.500000       88500.000000           36986.500000   \n",
       "50%            10860.000000      136000.000000           46013.000000   \n",
       "75%            16441.500000      235150.000000           67385.000000   \n",
       "max            22754.000000      335700.000000           93878.000000   \n",
       "\n",
       "       PersonsPerHousehold  WhitePopulation  MedianAge  MalePopulation  \\\n",
       "count            31.000000        31.000000  31.000000       31.000000   \n",
       "mean              2.326774     21752.193548  33.203226    15398.645161   \n",
       "std               0.310874     24107.586098   4.893702    14866.561108   \n",
       "min               1.460000       988.000000  19.500000      979.000000   \n",
       "25%               2.185000      7430.000000  31.450000     9752.000000   \n",
       "50%               2.330000     19382.000000  33.100000    12854.000000   \n",
       "75%               2.440000     27070.500000  36.500000    19465.000000   \n",
       "max               3.310000    135605.000000  41.900000    86651.000000   \n",
       "\n",
       "       FemalePopulation  BlackPopulation  HispanicPopulation  RetiredWorkers  \\\n",
       "count         31.000000        31.000000           31.000000       31.000000   \n",
       "mean       15979.161290      7689.290323         1527.516129     2586.935484   \n",
       "std        14427.445018      6795.446143         1531.611915     1784.473983   \n",
       "min         1071.000000       151.000000           67.000000        0.000000   \n",
       "25%         9760.500000      1431.000000          477.500000      864.500000   \n",
       "50%        12849.000000      5928.000000         1148.000000     2763.000000   \n",
       "75%        20550.500000     11574.000000         1701.500000     3695.500000   \n",
       "max        82666.000000     23383.000000         6306.000000     6627.000000   \n",
       "\n",
       "       DisabledWorkers     Spouses    Children  NumberofBusinesses  \\\n",
       "count        31.000000   31.000000   31.000000           31.000000   \n",
       "mean        703.774194  121.225806  325.161290          704.580645   \n",
       "std         549.668670   96.750094  237.295188          525.658240   \n",
       "min           0.000000    0.000000    0.000000           42.000000   \n",
       "25%         266.000000   36.500000  118.000000          327.000000   \n",
       "50%         465.000000   95.000000  294.000000          615.000000   \n",
       "75%        1111.500000  183.500000  481.000000          948.000000   \n",
       "max        2107.000000  337.000000  805.000000         2619.000000   \n",
       "\n",
       "        #ofEmployees  \n",
       "count      31.000000  \n",
       "mean    21386.032258  \n",
       "std     34712.632472  \n",
       "min      1021.000000  \n",
       "25%      6859.000000  \n",
       "50%     11145.000000  \n",
       "75%     20375.000000  \n",
       "max    193318.000000  "
      ],
      "text/html": "<div>\n<style scoped>\n    .dataframe tbody tr th:only-of-type {\n        vertical-align: middle;\n    }\n\n    .dataframe tbody tr th {\n        vertical-align: top;\n    }\n\n    .dataframe thead th {\n        text-align: right;\n    }\n</style>\n<table border=\"1\" class=\"dataframe\">\n  <thead>\n    <tr style=\"text-align: right;\">\n      <th></th>\n      <th>Latitude</th>\n      <th>Longitude</th>\n      <th>Elevation</th>\n      <th>CurrentPopulation</th>\n      <th>HouseholdsperZIPCode</th>\n      <th>AverageHouseValue</th>\n      <th>AvgIncomePerHousehold</th>\n      <th>PersonsPerHousehold</th>\n      <th>WhitePopulation</th>\n      <th>MedianAge</th>\n      <th>MalePopulation</th>\n      <th>FemalePopulation</th>\n      <th>BlackPopulation</th>\n      <th>HispanicPopulation</th>\n      <th>RetiredWorkers</th>\n      <th>DisabledWorkers</th>\n      <th>Spouses</th>\n      <th>Children</th>\n      <th>NumberofBusinesses</th>\n      <th>#ofEmployees</th>\n    </tr>\n  </thead>\n  <tbody>\n    <tr>\n      <th>count</th>\n      <td>31.000000</td>\n      <td>31.000000</td>\n      <td>31.000000</td>\n      <td>31.000000</td>\n      <td>31.000000</td>\n      <td>31.000000</td>\n      <td>31.000000</td>\n      <td>31.000000</td>\n      <td>31.000000</td>\n      <td>31.000000</td>\n      <td>31.000000</td>\n      <td>31.000000</td>\n      <td>31.000000</td>\n      <td>31.000000</td>\n      <td>31.000000</td>\n      <td>31.000000</td>\n      <td>31.000000</td>\n      <td>31.000000</td>\n      <td>31.000000</td>\n      <td>31.000000</td>\n    </tr>\n    <tr>\n      <th>mean</th>\n      <td>39.999974</td>\n      <td>-82.984779</td>\n      <td>812.903226</td>\n      <td>29297.290323</td>\n      <td>11350.161290</td>\n      <td>155632.258065</td>\n      <td>50914.419355</td>\n      <td>2.326774</td>\n      <td>21752.193548</td>\n      <td>33.203226</td>\n      <td>15398.645161</td>\n      <td>15979.161290</td>\n      <td>7689.290323</td>\n      <td>1527.516129</td>\n      <td>2586.935484</td>\n      <td>703.774194</td>\n      <td>121.225806</td>\n      <td>325.161290</td>\n      <td>704.580645</td>\n      <td>21386.032258</td>\n    </tr>\n    <tr>\n      <th>std</th>\n      <td>0.071387</td>\n      <td>0.068954</td>\n      <td>60.900112</td>\n      <td>16144.182817</td>\n      <td>6167.689811</td>\n      <td>86838.199686</td>\n      <td>19653.729086</td>\n      <td>0.310874</td>\n      <td>24107.586098</td>\n      <td>4.893702</td>\n      <td>14866.561108</td>\n      <td>14427.445018</td>\n      <td>6795.446143</td>\n      <td>1531.611915</td>\n      <td>1784.473983</td>\n      <td>549.668670</td>\n      <td>96.750094</td>\n      <td>237.295188</td>\n      <td>525.658240</td>\n      <td>34712.632472</td>\n    </tr>\n    <tr>\n      <th>min</th>\n      <td>39.816625</td>\n      <td>-83.134338</td>\n      <td>714.000000</td>\n      <td>2440.000000</td>\n      <td>328.000000</td>\n      <td>0.000000</td>\n      <td>17179.000000</td>\n      <td>1.460000</td>\n      <td>988.000000</td>\n      <td>19.500000</td>\n      <td>979.000000</td>\n      <td>1071.000000</td>\n      <td>151.000000</td>\n      <td>67.000000</td>\n      <td>0.000000</td>\n      <td>0.000000</td>\n      <td>0.000000</td>\n      <td>0.000000</td>\n      <td>42.000000</td>\n      <td>1021.000000</td>\n    </tr>\n    <tr>\n      <th>25%</th>\n      <td>39.956474</td>\n      <td>-83.032139</td>\n      <td>765.500000</td>\n      <td>21245.500000</td>\n      <td>8049.500000</td>\n      <td>88500.000000</td>\n      <td>36986.500000</td>\n      <td>2.185000</td>\n      <td>7430.000000</td>\n      <td>31.450000</td>\n      <td>9752.000000</td>\n      <td>9760.500000</td>\n      <td>1431.000000</td>\n      <td>477.500000</td>\n      <td>864.500000</td>\n      <td>266.000000</td>\n      <td>36.500000</td>\n      <td>118.000000</td>\n      <td>327.000000</td>\n      <td>6859.000000</td>\n    </tr>\n    <tr>\n      <th>50%</th>\n      <td>39.995575</td>\n      <td>-82.979703</td>\n      <td>812.000000</td>\n      <td>26229.000000</td>\n      <td>10860.000000</td>\n      <td>136000.000000</td>\n      <td>46013.000000</td>\n      <td>2.330000</td>\n      <td>19382.000000</td>\n      <td>33.100000</td>\n      <td>12854.000000</td>\n      <td>12849.000000</td>\n      <td>5928.000000</td>\n      <td>1148.000000</td>\n      <td>2763.000000</td>\n      <td>465.000000</td>\n      <td>95.000000</td>\n      <td>294.000000</td>\n      <td>615.000000</td>\n      <td>11145.000000</td>\n    </tr>\n    <tr>\n      <th>75%</th>\n      <td>40.045262</td>\n      <td>-82.936419</td>\n      <td>853.000000</td>\n      <td>42568.000000</td>\n      <td>16441.500000</td>\n      <td>235150.000000</td>\n      <td>67385.000000</td>\n      <td>2.440000</td>\n      <td>27070.500000</td>\n      <td>36.500000</td>\n      <td>19465.000000</td>\n      <td>20550.500000</td>\n      <td>11574.000000</td>\n      <td>1701.500000</td>\n      <td>3695.500000</td>\n      <td>1111.500000</td>\n      <td>183.500000</td>\n      <td>481.000000</td>\n      <td>948.000000</td>\n      <td>20375.000000</td>\n    </tr>\n    <tr>\n      <th>max</th>\n      <td>40.146034</td>\n      <td>-82.863748</td>\n      <td>924.000000</td>\n      <td>61572.000000</td>\n      <td>22754.000000</td>\n      <td>335700.000000</td>\n      <td>93878.000000</td>\n      <td>3.310000</td>\n      <td>135605.000000</td>\n      <td>41.900000</td>\n      <td>86651.000000</td>\n      <td>82666.000000</td>\n      <td>23383.000000</td>\n      <td>6306.000000</td>\n      <td>6627.000000</td>\n      <td>2107.000000</td>\n      <td>337.000000</td>\n      <td>805.000000</td>\n      <td>2619.000000</td>\n      <td>193318.000000</td>\n    </tr>\n  </tbody>\n</table>\n</div>"
     },
     "metadata": {},
     "execution_count": 42
    }
   ],
   "source": [
    "zip_info_df.describe()"
   ]
  },
  {
   "cell_type": "code",
   "execution_count": 43,
   "metadata": {},
   "outputs": [
    {
     "output_type": "execute_result",
     "data": {
      "text/plain": [
       "         Population  CaseCountCumulative  CaseCount30  CaseCount14  \\\n",
       "count     31.000000            31.000000    31.000000    30.000000   \n",
       "mean   29297.258065          1953.548387   437.129032   171.300000   \n",
       "std    16144.132445          1133.046184   263.638483   102.981133   \n",
       "min     2440.000000           127.000000    24.000000    22.000000   \n",
       "25%    21245.500000          1303.000000   278.500000   116.250000   \n",
       "50%    26229.000000          1689.000000   399.000000   151.500000   \n",
       "75%    42568.000000          2716.500000   622.000000   214.750000   \n",
       "max    61572.000000          4256.000000   969.000000   397.000000   \n",
       "\n",
       "       CaseCountPer100KCumulative  CaseCountPer100K30  CaseCountPer100K14  \n",
       "count                   31.000000           31.000000             30.0000  \n",
       "mean                  6780.238710         1511.161290            584.3500  \n",
       "std                   1819.647595          458.150118            157.4043  \n",
       "min                   4728.600000          191.500000            298.8000  \n",
       "25%                   5638.400000         1302.300000            490.4750  \n",
       "50%                   6226.500000         1486.000000            567.8500  \n",
       "75%                   7405.600000         1630.150000            628.8250  \n",
       "max                  11752.100000         2721.600000           1106.6000  "
      ],
      "text/html": "<div>\n<style scoped>\n    .dataframe tbody tr th:only-of-type {\n        vertical-align: middle;\n    }\n\n    .dataframe tbody tr th {\n        vertical-align: top;\n    }\n\n    .dataframe thead th {\n        text-align: right;\n    }\n</style>\n<table border=\"1\" class=\"dataframe\">\n  <thead>\n    <tr style=\"text-align: right;\">\n      <th></th>\n      <th>Population</th>\n      <th>CaseCountCumulative</th>\n      <th>CaseCount30</th>\n      <th>CaseCount14</th>\n      <th>CaseCountPer100KCumulative</th>\n      <th>CaseCountPer100K30</th>\n      <th>CaseCountPer100K14</th>\n    </tr>\n  </thead>\n  <tbody>\n    <tr>\n      <th>count</th>\n      <td>31.000000</td>\n      <td>31.000000</td>\n      <td>31.000000</td>\n      <td>30.000000</td>\n      <td>31.000000</td>\n      <td>31.000000</td>\n      <td>30.0000</td>\n    </tr>\n    <tr>\n      <th>mean</th>\n      <td>29297.258065</td>\n      <td>1953.548387</td>\n      <td>437.129032</td>\n      <td>171.300000</td>\n      <td>6780.238710</td>\n      <td>1511.161290</td>\n      <td>584.3500</td>\n    </tr>\n    <tr>\n      <th>std</th>\n      <td>16144.132445</td>\n      <td>1133.046184</td>\n      <td>263.638483</td>\n      <td>102.981133</td>\n      <td>1819.647595</td>\n      <td>458.150118</td>\n      <td>157.4043</td>\n    </tr>\n    <tr>\n      <th>min</th>\n      <td>2440.000000</td>\n      <td>127.000000</td>\n      <td>24.000000</td>\n      <td>22.000000</td>\n      <td>4728.600000</td>\n      <td>191.500000</td>\n      <td>298.8000</td>\n    </tr>\n    <tr>\n      <th>25%</th>\n      <td>21245.500000</td>\n      <td>1303.000000</td>\n      <td>278.500000</td>\n      <td>116.250000</td>\n      <td>5638.400000</td>\n      <td>1302.300000</td>\n      <td>490.4750</td>\n    </tr>\n    <tr>\n      <th>50%</th>\n      <td>26229.000000</td>\n      <td>1689.000000</td>\n      <td>399.000000</td>\n      <td>151.500000</td>\n      <td>6226.500000</td>\n      <td>1486.000000</td>\n      <td>567.8500</td>\n    </tr>\n    <tr>\n      <th>75%</th>\n      <td>42568.000000</td>\n      <td>2716.500000</td>\n      <td>622.000000</td>\n      <td>214.750000</td>\n      <td>7405.600000</td>\n      <td>1630.150000</td>\n      <td>628.8250</td>\n    </tr>\n    <tr>\n      <th>max</th>\n      <td>61572.000000</td>\n      <td>4256.000000</td>\n      <td>969.000000</td>\n      <td>397.000000</td>\n      <td>11752.100000</td>\n      <td>2721.600000</td>\n      <td>1106.6000</td>\n    </tr>\n  </tbody>\n</table>\n</div>"
     },
     "metadata": {},
     "execution_count": 43
    }
   ],
   "source": [
    "zip_cases_df.describe()"
   ]
  },
  {
   "cell_type": "code",
   "execution_count": 44,
   "metadata": {},
   "outputs": [
    {
     "output_type": "execute_result",
     "data": {
      "text/plain": [
       "<AxesSubplot:xlabel='ZipCode', ylabel='population'>"
      ]
     },
     "metadata": {},
     "execution_count": 44
    },
    {
     "output_type": "display_data",
     "data": {
      "text/plain": "<Figure size 1440x720 with 1 Axes>",
      "image/svg+xml": "<?xml version=\"1.0\" encoding=\"utf-8\" standalone=\"no\"?>\r\n<!DOCTYPE svg PUBLIC \"-//W3C//DTD SVG 1.1//EN\"\r\n  \"http://www.w3.org/Graphics/SVG/1.1/DTD/svg11.dtd\">\r\n<!-- Created with matplotlib (https://matplotlib.org/) -->\r\n<svg height=\"588.35625pt\" version=\"1.1\" viewBox=\"0 0 1182.890625 588.35625\" width=\"1182.890625pt\" xmlns=\"http://www.w3.org/2000/svg\" xmlns:xlink=\"http://www.w3.org/1999/xlink\">\r\n <metadata>\r\n  <rdf:RDF xmlns:cc=\"http://creativecommons.org/ns#\" xmlns:dc=\"http://purl.org/dc/elements/1.1/\" xmlns:rdf=\"http://www.w3.org/1999/02/22-rdf-syntax-ns#\">\r\n   <cc:Work>\r\n    <dc:type rdf:resource=\"http://purl.org/dc/dcmitype/StillImage\"/>\r\n    <dc:date>2021-01-04T13:51:45.167958</dc:date>\r\n    <dc:format>image/svg+xml</dc:format>\r\n    <dc:creator>\r\n     <cc:Agent>\r\n      <dc:title>Matplotlib v3.3.1, https://matplotlib.org/</dc:title>\r\n     </cc:Agent>\r\n    </dc:creator>\r\n   </cc:Work>\r\n  </rdf:RDF>\r\n </metadata>\r\n <defs>\r\n  <style type=\"text/css\">*{stroke-linecap:butt;stroke-linejoin:round;}</style>\r\n </defs>\r\n <g id=\"figure_1\">\r\n  <g id=\"patch_1\">\r\n   <path d=\"M 0 588.35625 \r\nL 1182.890625 588.35625 \r\nL 1182.890625 0 \r\nL 0 0 \r\nz\r\n\" style=\"fill:none;\"/>\r\n  </g>\r\n  <g id=\"axes_1\">\r\n   <g id=\"patch_2\">\r\n    <path d=\"M 59.690625 550.8 \r\nL 1175.690625 550.8 \r\nL 1175.690625 7.2 \r\nL 59.690625 7.2 \r\nz\r\n\" style=\"fill:#ffffff;\"/>\r\n   </g>\r\n   <g id=\"patch_3\">\r\n    <path clip-path=\"url(#p25fd156305)\" d=\"M 63.290625 550.8 \r\nL 77.690625 550.8 \r\nL 77.690625 404.013413 \r\nL 63.290625 404.013413 \r\nz\r\n\" style=\"fill:#cb6d67;\"/>\r\n   </g>\r\n   <g id=\"patch_4\">\r\n    <path clip-path=\"url(#p25fd156305)\" d=\"M 99.290625 550.8 \r\nL 113.690625 550.8 \r\nL 113.690625 481.822014 \r\nL 99.290625 481.822014 \r\nz\r\n\" style=\"fill:#cb6d67;\"/>\r\n   </g>\r\n   <g id=\"patch_5\">\r\n    <path clip-path=\"url(#p25fd156305)\" d=\"M 135.290625 550.8 \r\nL 149.690625 550.8 \r\nL 149.690625 449.666144 \r\nL 135.290625 449.666144 \r\nz\r\n\" style=\"fill:#cb6d67;\"/>\r\n   </g>\r\n   <g id=\"patch_6\">\r\n    <path clip-path=\"url(#p25fd156305)\" d=\"M 171.290625 550.8 \r\nL 185.690625 550.8 \r\nL 185.690625 486.810894 \r\nL 171.290625 486.810894 \r\nz\r\n\" style=\"fill:#cb6d67;\"/>\r\n   </g>\r\n   <g id=\"patch_7\">\r\n    <path clip-path=\"url(#p25fd156305)\" d=\"M 207.290625 550.8 \r\nL 221.690625 550.8 \r\nL 221.690625 530.981899 \r\nL 207.290625 530.981899 \r\nz\r\n\" style=\"fill:#cb6d67;\"/>\r\n   </g>\r\n   <g id=\"patch_8\">\r\n    <path clip-path=\"url(#p25fd156305)\" d=\"M 243.290625 550.8 \r\nL 257.690625 550.8 \r\nL 257.690625 433.420918 \r\nL 243.290625 433.420918 \r\nz\r\n\" style=\"fill:#cb6d67;\"/>\r\n   </g>\r\n   <g id=\"patch_9\">\r\n    <path clip-path=\"url(#p25fd156305)\" d=\"M 279.290625 550.8 \r\nL 293.690625 550.8 \r\nL 293.690625 513.918137 \r\nL 279.290625 513.918137 \r\nz\r\n\" style=\"fill:#cb6d67;\"/>\r\n   </g>\r\n   <g id=\"patch_10\">\r\n    <path clip-path=\"url(#p25fd156305)\" d=\"M 315.290625 550.8 \r\nL 329.690625 550.8 \r\nL 329.690625 490.592883 \r\nL 315.290625 490.592883 \r\nz\r\n\" style=\"fill:#cb6d67;\"/>\r\n   </g>\r\n   <g id=\"patch_11\">\r\n    <path clip-path=\"url(#p25fd156305)\" d=\"M 351.290625 550.8 \r\nL 365.690625 550.8 \r\nL 365.690625 423.1026 \r\nL 351.290625 423.1026 \r\nz\r\n\" style=\"fill:#cb6d67;\"/>\r\n   </g>\r\n   <g id=\"patch_12\">\r\n    <path clip-path=\"url(#p25fd156305)\" d=\"M 387.290625 550.8 \r\nL 401.690625 550.8 \r\nL 401.690625 470.750883 \r\nL 387.290625 470.750883 \r\nz\r\n\" style=\"fill:#cb6d67;\"/>\r\n   </g>\r\n   <g id=\"patch_13\">\r\n    <path clip-path=\"url(#p25fd156305)\" d=\"M 423.290625 550.8 \r\nL 437.690625 550.8 \r\nL 437.690625 33.085714 \r\nL 423.290625 33.085714 \r\nz\r\n\" style=\"fill:#cb6d67;\"/>\r\n   </g>\r\n   <g id=\"patch_14\">\r\n    <path clip-path=\"url(#p25fd156305)\" d=\"M 459.290625 550.8 \r\nL 473.690625 550.8 \r\nL 473.690625 490.790049 \r\nL 459.290625 490.790049 \r\nz\r\n\" style=\"fill:#cb6d67;\"/>\r\n   </g>\r\n   <g id=\"patch_15\">\r\n    <path clip-path=\"url(#p25fd156305)\" d=\"M 495.290625 550.8 \r\nL 509.690625 550.8 \r\nL 509.690625 502.906753 \r\nL 495.290625 502.906753 \r\nz\r\n\" style=\"fill:#cb6d67;\"/>\r\n   </g>\r\n   <g id=\"patch_16\">\r\n    <path clip-path=\"url(#p25fd156305)\" d=\"M 531.290625 550.8 \r\nL 545.690625 550.8 \r\nL 545.690625 466.072688 \r\nL 531.290625 466.072688 \r\nz\r\n\" style=\"fill:#cb6d67;\"/>\r\n   </g>\r\n   <g id=\"patch_17\">\r\n    <path clip-path=\"url(#p25fd156305)\" d=\"M 567.290625 550.8 \r\nL 581.690625 550.8 \r\nL 581.690625 483.112551 \r\nL 567.290625 483.112551 \r\nz\r\n\" style=\"fill:#cb6d67;\"/>\r\n   </g>\r\n   <g id=\"patch_18\">\r\n    <path clip-path=\"url(#p25fd156305)\" d=\"M 603.290625 550.8 \r\nL 617.690625 550.8 \r\nL 617.690625 516.063057 \r\nL 603.290625 516.063057 \r\nz\r\n\" style=\"fill:#cb6d67;\"/>\r\n   </g>\r\n   <g id=\"patch_19\">\r\n    <path clip-path=\"url(#p25fd156305)\" d=\"M 639.290625 550.8 \r\nL 653.690625 550.8 \r\nL 653.690625 544.681901 \r\nL 639.290625 544.681901 \r\nz\r\n\" style=\"fill:#cb6d67;\"/>\r\n   </g>\r\n   <g id=\"patch_20\">\r\n    <path clip-path=\"url(#p25fd156305)\" d=\"M 675.290625 550.8 \r\nL 689.690625 550.8 \r\nL 689.690625 474.001124 \r\nL 675.290625 474.001124 \r\nz\r\n\" style=\"fill:#cb6d67;\"/>\r\n   </g>\r\n   <g id=\"patch_21\">\r\n    <path clip-path=\"url(#p25fd156305)\" d=\"M 711.290625 550.8 \r\nL 725.690625 550.8 \r\nL 725.690625 480.710719 \r\nL 711.290625 480.710719 \r\nz\r\n\" style=\"fill:#cb6d67;\"/>\r\n   </g>\r\n   <g id=\"patch_22\">\r\n    <path clip-path=\"url(#p25fd156305)\" d=\"M 747.290625 550.8 \r\nL 761.690625 550.8 \r\nL 761.690625 463.425893 \r\nL 747.290625 463.425893 \r\nz\r\n\" style=\"fill:#cb6d67;\"/>\r\n   </g>\r\n   <g id=\"patch_23\">\r\n    <path clip-path=\"url(#p25fd156305)\" d=\"M 783.290625 550.8 \r\nL 797.690625 550.8 \r\nL 797.690625 537.548101 \r\nL 783.290625 537.548101 \r\nz\r\n\" style=\"fill:#cb6d67;\"/>\r\n   </g>\r\n   <g id=\"patch_24\">\r\n    <path clip-path=\"url(#p25fd156305)\" d=\"M 819.290625 550.8 \r\nL 833.690625 550.8 \r\nL 833.690625 473.421577 \r\nL 819.290625 473.421577 \r\nz\r\n\" style=\"fill:#cb6d67;\"/>\r\n   </g>\r\n   <g id=\"patch_25\">\r\n    <path clip-path=\"url(#p25fd156305)\" d=\"M 855.290625 550.8 \r\nL 869.690625 550.8 \r\nL 869.690625 432.512762 \r\nL 855.290625 432.512762 \r\nz\r\n\" style=\"fill:#cb6d67;\"/>\r\n   </g>\r\n   <g id=\"patch_26\">\r\n    <path clip-path=\"url(#p25fd156305)\" d=\"M 891.290625 550.8 \r\nL 905.690625 550.8 \r\nL 905.690625 488.955814 \r\nL 891.290625 488.955814 \r\nz\r\n\" style=\"fill:#cb6d67;\"/>\r\n   </g>\r\n   <g id=\"patch_27\">\r\n    <path clip-path=\"url(#p25fd156305)\" d=\"M 927.290625 550.8 \r\nL 941.690625 550.8 \r\nL 941.690625 413.961299 \r\nL 927.290625 413.961299 \r\nz\r\n\" style=\"fill:#cb6d67;\"/>\r\n   </g>\r\n   <g id=\"patch_28\">\r\n    <path clip-path=\"url(#p25fd156305)\" d=\"M 963.290625 550.8 \r\nL 977.690625 550.8 \r\nL 977.690625 407.066488 \r\nL 963.290625 407.066488 \r\nz\r\n\" style=\"fill:#cb6d67;\"/>\r\n   </g>\r\n   <g id=\"patch_29\">\r\n    <path clip-path=\"url(#p25fd156305)\" d=\"M 999.290625 550.8 \r\nL 1013.690625 550.8 \r\nL 1013.690625 406.970892 \r\nL 999.290625 406.970892 \r\nz\r\n\" style=\"fill:#cb6d67;\"/>\r\n   </g>\r\n   <g id=\"patch_30\">\r\n    <path clip-path=\"url(#p25fd156305)\" d=\"M 1035.290625 550.8 \r\nL 1049.690625 550.8 \r\nL 1049.690625 494.279277 \r\nL 1035.290625 494.279277 \r\nz\r\n\" style=\"fill:#cb6d67;\"/>\r\n   </g>\r\n   <g id=\"patch_31\">\r\n    <path clip-path=\"url(#p25fd156305)\" d=\"M 1071.290625 550.8 \r\nL 1085.690625 550.8 \r\nL 1085.690625 435.583761 \r\nL 1071.290625 435.583761 \r\nz\r\n\" style=\"fill:#cb6d67;\"/>\r\n   </g>\r\n   <g id=\"patch_32\">\r\n    <path clip-path=\"url(#p25fd156305)\" d=\"M 1107.290625 550.8 \r\nL 1121.690625 550.8 \r\nL 1121.690625 447.545124 \r\nL 1107.290625 447.545124 \r\nz\r\n\" style=\"fill:#cb6d67;\"/>\r\n   </g>\r\n   <g id=\"patch_33\">\r\n    <path clip-path=\"url(#p25fd156305)\" d=\"M 1143.290625 550.8 \r\nL 1157.690625 550.8 \r\nL 1157.690625 544.950762 \r\nL 1143.290625 544.950762 \r\nz\r\n\" style=\"fill:#cb6d67;\"/>\r\n   </g>\r\n   <g id=\"patch_34\">\r\n    <path clip-path=\"url(#p25fd156305)\" d=\"M 77.690625 550.8 \r\nL 92.090625 550.8 \r\nL 92.090625 389.482927 \r\nL 77.690625 389.482927 \r\nz\r\n\" style=\"fill:#67c5cb;\"/>\r\n   </g>\r\n   <g id=\"patch_35\">\r\n    <path clip-path=\"url(#p25fd156305)\" d=\"M 113.690625 550.8 \r\nL 128.090625 550.8 \r\nL 128.090625 474.264011 \r\nL 113.690625 474.264011 \r\nz\r\n\" style=\"fill:#67c5cb;\"/>\r\n   </g>\r\n   <g id=\"patch_36\">\r\n    <path clip-path=\"url(#p25fd156305)\" d=\"M 149.690625 550.8 \r\nL 164.090625 550.8 \r\nL 164.090625 473.887604 \r\nL 149.690625 473.887604 \r\nz\r\n\" style=\"fill:#67c5cb;\"/>\r\n   </g>\r\n   <g id=\"patch_37\">\r\n    <path clip-path=\"url(#p25fd156305)\" d=\"M 185.690625 550.8 \r\nL 200.090625 550.8 \r\nL 200.090625 495.396547 \r\nL 185.690625 495.396547 \r\nz\r\n\" style=\"fill:#67c5cb;\"/>\r\n   </g>\r\n   <g id=\"patch_38\">\r\n    <path clip-path=\"url(#p25fd156305)\" d=\"M 221.690625 550.8 \r\nL 236.090625 550.8 \r\nL 236.090625 529.350804 \r\nL 221.690625 529.350804 \r\nz\r\n\" style=\"fill:#67c5cb;\"/>\r\n   </g>\r\n   <g id=\"patch_39\">\r\n    <path clip-path=\"url(#p25fd156305)\" d=\"M 257.690625 550.8 \r\nL 272.090625 550.8 \r\nL 272.090625 428.89209 \r\nL 257.690625 428.89209 \r\nz\r\n\" style=\"fill:#67c5cb;\"/>\r\n   </g>\r\n   <g id=\"patch_40\">\r\n    <path clip-path=\"url(#p25fd156305)\" d=\"M 293.690625 550.8 \r\nL 308.090625 550.8 \r\nL 308.090625 516.021234 \r\nL 293.690625 516.021234 \r\nz\r\n\" style=\"fill:#67c5cb;\"/>\r\n   </g>\r\n   <g id=\"patch_41\">\r\n    <path clip-path=\"url(#p25fd156305)\" d=\"M 329.690625 550.8 \r\nL 344.090625 550.8 \r\nL 344.090625 489.571209 \r\nL 329.690625 489.571209 \r\nz\r\n\" style=\"fill:#67c5cb;\"/>\r\n   </g>\r\n   <g id=\"patch_42\">\r\n    <path clip-path=\"url(#p25fd156305)\" d=\"M 365.690625 550.8 \r\nL 380.090625 550.8 \r\nL 380.090625 415.413153 \r\nL 365.690625 415.413153 \r\nz\r\n\" style=\"fill:#67c5cb;\"/>\r\n   </g>\r\n   <g id=\"patch_43\">\r\n    <path clip-path=\"url(#p25fd156305)\" d=\"M 401.690625 550.8 \r\nL 416.090625 550.8 \r\nL 416.090625 458.807445 \r\nL 401.690625 458.807445 \r\nz\r\n\" style=\"fill:#67c5cb;\"/>\r\n   </g>\r\n   <g id=\"patch_44\">\r\n    <path clip-path=\"url(#p25fd156305)\" d=\"M 437.690625 550.8 \r\nL 452.090625 550.8 \r\nL 452.090625 56.894919 \r\nL 437.690625 56.894919 \r\nz\r\n\" style=\"fill:#67c5cb;\"/>\r\n   </g>\r\n   <g id=\"patch_45\">\r\n    <path clip-path=\"url(#p25fd156305)\" d=\"M 473.690625 550.8 \r\nL 488.090625 550.8 \r\nL 488.090625 483.142425 \r\nL 473.690625 483.142425 \r\nz\r\n\" style=\"fill:#67c5cb;\"/>\r\n   </g>\r\n   <g id=\"patch_46\">\r\n    <path clip-path=\"url(#p25fd156305)\" d=\"M 509.690625 550.8 \r\nL 524.090625 550.8 \r\nL 524.090625 501.675964 \r\nL 509.690625 501.675964 \r\nz\r\n\" style=\"fill:#67c5cb;\"/>\r\n   </g>\r\n   <g id=\"patch_47\">\r\n    <path clip-path=\"url(#p25fd156305)\" d=\"M 545.690625 550.8 \r\nL 560.090625 550.8 \r\nL 560.090625 456.184549 \r\nL 545.690625 456.184549 \r\nz\r\n\" style=\"fill:#67c5cb;\"/>\r\n   </g>\r\n   <g id=\"patch_48\">\r\n    <path clip-path=\"url(#p25fd156305)\" d=\"M 581.690625 550.8 \r\nL 596.090625 550.8 \r\nL 596.090625 476.391006 \r\nL 581.690625 476.391006 \r\nz\r\n\" style=\"fill:#67c5cb;\"/>\r\n   </g>\r\n   <g id=\"patch_49\">\r\n    <path clip-path=\"url(#p25fd156305)\" d=\"M 617.690625 550.8 \r\nL 632.090625 550.8 \r\nL 632.090625 523.471693 \r\nL 617.690625 523.471693 \r\nz\r\n\" style=\"fill:#67c5cb;\"/>\r\n   </g>\r\n   <g id=\"patch_50\">\r\n    <path clip-path=\"url(#p25fd156305)\" d=\"M 653.690625 550.8 \r\nL 668.090625 550.8 \r\nL 668.090625 543.88129 \r\nL 653.690625 543.88129 \r\nz\r\n\" style=\"fill:#67c5cb;\"/>\r\n   </g>\r\n   <g id=\"patch_51\">\r\n    <path clip-path=\"url(#p25fd156305)\" d=\"M 689.690625 550.8 \r\nL 704.090625 550.8 \r\nL 704.090625 459.948614 \r\nL 689.690625 459.948614 \r\nz\r\n\" style=\"fill:#67c5cb;\"/>\r\n   </g>\r\n   <g id=\"patch_52\">\r\n    <path clip-path=\"url(#p25fd156305)\" d=\"M 725.690625 550.8 \r\nL 740.090625 550.8 \r\nL 740.090625 477.430605 \r\nL 725.690625 477.430605 \r\nz\r\n\" style=\"fill:#67c5cb;\"/>\r\n   </g>\r\n   <g id=\"patch_53\">\r\n    <path clip-path=\"url(#p25fd156305)\" d=\"M 761.690625 550.8 \r\nL 776.090625 550.8 \r\nL 776.090625 456.913463 \r\nL 761.690625 456.913463 \r\nz\r\n\" style=\"fill:#67c5cb;\"/>\r\n   </g>\r\n   <g id=\"patch_54\">\r\n    <path clip-path=\"url(#p25fd156305)\" d=\"M 797.690625 550.8 \r\nL 812.090625 550.8 \r\nL 812.090625 537.846836 \r\nL 797.690625 537.846836 \r\nz\r\n\" style=\"fill:#67c5cb;\"/>\r\n   </g>\r\n   <g id=\"patch_55\">\r\n    <path clip-path=\"url(#p25fd156305)\" d=\"M 833.690625 550.8 \r\nL 848.090625 550.8 \r\nL 848.090625 474.030997 \r\nL 833.690625 474.030997 \r\nz\r\n\" style=\"fill:#67c5cb;\"/>\r\n   </g>\r\n   <g id=\"patch_56\">\r\n    <path clip-path=\"url(#p25fd156305)\" d=\"M 869.690625 550.8 \r\nL 884.090625 550.8 \r\nL 884.090625 427.141501 \r\nL 869.690625 427.141501 \r\nz\r\n\" style=\"fill:#67c5cb;\"/>\r\n   </g>\r\n   <g id=\"patch_57\">\r\n    <path clip-path=\"url(#p25fd156305)\" d=\"M 905.690625 550.8 \r\nL 920.090625 550.8 \r\nL 920.090625 478.559825 \r\nL 905.690625 478.559825 \r\nz\r\n\" style=\"fill:#67c5cb;\"/>\r\n   </g>\r\n   <g id=\"patch_58\">\r\n    <path clip-path=\"url(#p25fd156305)\" d=\"M 941.690625 550.8 \r\nL 956.090625 550.8 \r\nL 956.090625 407.879048 \r\nL 941.690625 407.879048 \r\nz\r\n\" style=\"fill:#67c5cb;\"/>\r\n   </g>\r\n   <g id=\"patch_59\">\r\n    <path clip-path=\"url(#p25fd156305)\" d=\"M 977.690625 550.8 \r\nL 992.090625 550.8 \r\nL 992.090625 396.586853 \r\nL 977.690625 396.586853 \r\nz\r\n\" style=\"fill:#67c5cb;\"/>\r\n   </g>\r\n   <g id=\"patch_60\">\r\n    <path clip-path=\"url(#p25fd156305)\" d=\"M 1013.690625 550.8 \r\nL 1028.090625 550.8 \r\nL 1028.090625 393.695095 \r\nL 1013.690625 393.695095 \r\nz\r\n\" style=\"fill:#67c5cb;\"/>\r\n   </g>\r\n   <g id=\"patch_61\">\r\n    <path clip-path=\"url(#p25fd156305)\" d=\"M 1049.690625 550.8 \r\nL 1064.090625 550.8 \r\nL 1064.090625 488.119355 \r\nL 1049.690625 488.119355 \r\nz\r\n\" style=\"fill:#67c5cb;\"/>\r\n   </g>\r\n   <g id=\"patch_62\">\r\n    <path clip-path=\"url(#p25fd156305)\" d=\"M 1085.690625 550.8 \r\nL 1100.090625 550.8 \r\nL 1100.090625 419.350484 \r\nL 1085.690625 419.350484 \r\nz\r\n\" style=\"fill:#67c5cb;\"/>\r\n   </g>\r\n   <g id=\"patch_63\">\r\n    <path clip-path=\"url(#p25fd156305)\" d=\"M 1121.690625 550.8 \r\nL 1136.090625 550.8 \r\nL 1136.090625 440.572641 \r\nL 1121.690625 440.572641 \r\nz\r\n\" style=\"fill:#67c5cb;\"/>\r\n   </g>\r\n   <g id=\"patch_64\">\r\n    <path clip-path=\"url(#p25fd156305)\" d=\"M 1157.690625 550.8 \r\nL 1172.090625 550.8 \r\nL 1172.090625 544.401089 \r\nL 1157.690625 544.401089 \r\nz\r\n\" style=\"fill:#67c5cb;\"/>\r\n   </g>\r\n   <g id=\"matplotlib.axis_1\">\r\n    <g id=\"xtick_1\">\r\n     <g id=\"line2d_1\">\r\n      <defs>\r\n       <path d=\"M 0 0 \r\nL 0 3.5 \r\n\" id=\"m8b9057c332\" style=\"stroke:#000000;stroke-width:0.8;\"/>\r\n      </defs>\r\n      <g>\r\n       <use style=\"stroke:#000000;stroke-width:0.8;\" x=\"77.690625\" xlink:href=\"#m8b9057c332\" y=\"550.8\"/>\r\n      </g>\r\n     </g>\r\n     <g id=\"text_1\">\r\n      <!-- 43081 -->\r\n      <g transform=\"translate(61.784375 565.398438)scale(0.1 -0.1)\">\r\n       <defs>\r\n        <path d=\"M 37.796875 64.3125 \r\nL 12.890625 25.390625 \r\nL 37.796875 25.390625 \r\nz\r\nM 35.203125 72.90625 \r\nL 47.609375 72.90625 \r\nL 47.609375 25.390625 \r\nL 58.015625 25.390625 \r\nL 58.015625 17.1875 \r\nL 47.609375 17.1875 \r\nL 47.609375 0 \r\nL 37.796875 0 \r\nL 37.796875 17.1875 \r\nL 4.890625 17.1875 \r\nL 4.890625 26.703125 \r\nz\r\n\" id=\"DejaVuSans-52\"/>\r\n        <path d=\"M 40.578125 39.3125 \r\nQ 47.65625 37.796875 51.625 33 \r\nQ 55.609375 28.21875 55.609375 21.1875 \r\nQ 55.609375 10.40625 48.1875 4.484375 \r\nQ 40.765625 -1.421875 27.09375 -1.421875 \r\nQ 22.515625 -1.421875 17.65625 -0.515625 \r\nQ 12.796875 0.390625 7.625 2.203125 \r\nL 7.625 11.71875 \r\nQ 11.71875 9.328125 16.59375 8.109375 \r\nQ 21.484375 6.890625 26.8125 6.890625 \r\nQ 36.078125 6.890625 40.9375 10.546875 \r\nQ 45.796875 14.203125 45.796875 21.1875 \r\nQ 45.796875 27.640625 41.28125 31.265625 \r\nQ 36.765625 34.90625 28.71875 34.90625 \r\nL 20.21875 34.90625 \r\nL 20.21875 43.015625 \r\nL 29.109375 43.015625 \r\nQ 36.375 43.015625 40.234375 45.921875 \r\nQ 44.09375 48.828125 44.09375 54.296875 \r\nQ 44.09375 59.90625 40.109375 62.90625 \r\nQ 36.140625 65.921875 28.71875 65.921875 \r\nQ 24.65625 65.921875 20.015625 65.03125 \r\nQ 15.375 64.15625 9.8125 62.3125 \r\nL 9.8125 71.09375 \r\nQ 15.4375 72.65625 20.34375 73.4375 \r\nQ 25.25 74.21875 29.59375 74.21875 \r\nQ 40.828125 74.21875 47.359375 69.109375 \r\nQ 53.90625 64.015625 53.90625 55.328125 \r\nQ 53.90625 49.265625 50.4375 45.09375 \r\nQ 46.96875 40.921875 40.578125 39.3125 \r\nz\r\n\" id=\"DejaVuSans-51\"/>\r\n        <path d=\"M 31.78125 66.40625 \r\nQ 24.171875 66.40625 20.328125 58.90625 \r\nQ 16.5 51.421875 16.5 36.375 \r\nQ 16.5 21.390625 20.328125 13.890625 \r\nQ 24.171875 6.390625 31.78125 6.390625 \r\nQ 39.453125 6.390625 43.28125 13.890625 \r\nQ 47.125 21.390625 47.125 36.375 \r\nQ 47.125 51.421875 43.28125 58.90625 \r\nQ 39.453125 66.40625 31.78125 66.40625 \r\nz\r\nM 31.78125 74.21875 \r\nQ 44.046875 74.21875 50.515625 64.515625 \r\nQ 56.984375 54.828125 56.984375 36.375 \r\nQ 56.984375 17.96875 50.515625 8.265625 \r\nQ 44.046875 -1.421875 31.78125 -1.421875 \r\nQ 19.53125 -1.421875 13.0625 8.265625 \r\nQ 6.59375 17.96875 6.59375 36.375 \r\nQ 6.59375 54.828125 13.0625 64.515625 \r\nQ 19.53125 74.21875 31.78125 74.21875 \r\nz\r\n\" id=\"DejaVuSans-48\"/>\r\n        <path d=\"M 31.78125 34.625 \r\nQ 24.75 34.625 20.71875 30.859375 \r\nQ 16.703125 27.09375 16.703125 20.515625 \r\nQ 16.703125 13.921875 20.71875 10.15625 \r\nQ 24.75 6.390625 31.78125 6.390625 \r\nQ 38.8125 6.390625 42.859375 10.171875 \r\nQ 46.921875 13.96875 46.921875 20.515625 \r\nQ 46.921875 27.09375 42.890625 30.859375 \r\nQ 38.875 34.625 31.78125 34.625 \r\nz\r\nM 21.921875 38.8125 \r\nQ 15.578125 40.375 12.03125 44.71875 \r\nQ 8.5 49.078125 8.5 55.328125 \r\nQ 8.5 64.0625 14.71875 69.140625 \r\nQ 20.953125 74.21875 31.78125 74.21875 \r\nQ 42.671875 74.21875 48.875 69.140625 \r\nQ 55.078125 64.0625 55.078125 55.328125 \r\nQ 55.078125 49.078125 51.53125 44.71875 \r\nQ 48 40.375 41.703125 38.8125 \r\nQ 48.828125 37.15625 52.796875 32.3125 \r\nQ 56.78125 27.484375 56.78125 20.515625 \r\nQ 56.78125 9.90625 50.3125 4.234375 \r\nQ 43.84375 -1.421875 31.78125 -1.421875 \r\nQ 19.734375 -1.421875 13.25 4.234375 \r\nQ 6.78125 9.90625 6.78125 20.515625 \r\nQ 6.78125 27.484375 10.78125 32.3125 \r\nQ 14.796875 37.15625 21.921875 38.8125 \r\nz\r\nM 18.3125 54.390625 \r\nQ 18.3125 48.734375 21.84375 45.5625 \r\nQ 25.390625 42.390625 31.78125 42.390625 \r\nQ 38.140625 42.390625 41.71875 45.5625 \r\nQ 45.3125 48.734375 45.3125 54.390625 \r\nQ 45.3125 60.0625 41.71875 63.234375 \r\nQ 38.140625 66.40625 31.78125 66.40625 \r\nQ 25.390625 66.40625 21.84375 63.234375 \r\nQ 18.3125 60.0625 18.3125 54.390625 \r\nz\r\n\" id=\"DejaVuSans-56\"/>\r\n        <path d=\"M 12.40625 8.296875 \r\nL 28.515625 8.296875 \r\nL 28.515625 63.921875 \r\nL 10.984375 60.40625 \r\nL 10.984375 69.390625 \r\nL 28.421875 72.90625 \r\nL 38.28125 72.90625 \r\nL 38.28125 8.296875 \r\nL 54.390625 8.296875 \r\nL 54.390625 0 \r\nL 12.40625 0 \r\nz\r\n\" id=\"DejaVuSans-49\"/>\r\n       </defs>\r\n       <use xlink:href=\"#DejaVuSans-52\"/>\r\n       <use x=\"63.623047\" xlink:href=\"#DejaVuSans-51\"/>\r\n       <use x=\"127.246094\" xlink:href=\"#DejaVuSans-48\"/>\r\n       <use x=\"190.869141\" xlink:href=\"#DejaVuSans-56\"/>\r\n       <use x=\"254.492188\" xlink:href=\"#DejaVuSans-49\"/>\r\n      </g>\r\n     </g>\r\n    </g>\r\n    <g id=\"xtick_2\">\r\n     <g id=\"line2d_2\">\r\n      <g>\r\n       <use style=\"stroke:#000000;stroke-width:0.8;\" x=\"113.690625\" xlink:href=\"#m8b9057c332\" y=\"550.8\"/>\r\n      </g>\r\n     </g>\r\n     <g id=\"text_2\">\r\n      <!-- 43085 -->\r\n      <g transform=\"translate(97.784375 565.398438)scale(0.1 -0.1)\">\r\n       <defs>\r\n        <path d=\"M 10.796875 72.90625 \r\nL 49.515625 72.90625 \r\nL 49.515625 64.59375 \r\nL 19.828125 64.59375 \r\nL 19.828125 46.734375 \r\nQ 21.96875 47.46875 24.109375 47.828125 \r\nQ 26.265625 48.1875 28.421875 48.1875 \r\nQ 40.625 48.1875 47.75 41.5 \r\nQ 54.890625 34.8125 54.890625 23.390625 \r\nQ 54.890625 11.625 47.5625 5.09375 \r\nQ 40.234375 -1.421875 26.90625 -1.421875 \r\nQ 22.3125 -1.421875 17.546875 -0.640625 \r\nQ 12.796875 0.140625 7.71875 1.703125 \r\nL 7.71875 11.625 \r\nQ 12.109375 9.234375 16.796875 8.0625 \r\nQ 21.484375 6.890625 26.703125 6.890625 \r\nQ 35.15625 6.890625 40.078125 11.328125 \r\nQ 45.015625 15.765625 45.015625 23.390625 \r\nQ 45.015625 31 40.078125 35.4375 \r\nQ 35.15625 39.890625 26.703125 39.890625 \r\nQ 22.75 39.890625 18.8125 39.015625 \r\nQ 14.890625 38.140625 10.796875 36.28125 \r\nz\r\n\" id=\"DejaVuSans-53\"/>\r\n       </defs>\r\n       <use xlink:href=\"#DejaVuSans-52\"/>\r\n       <use x=\"63.623047\" xlink:href=\"#DejaVuSans-51\"/>\r\n       <use x=\"127.246094\" xlink:href=\"#DejaVuSans-48\"/>\r\n       <use x=\"190.869141\" xlink:href=\"#DejaVuSans-56\"/>\r\n       <use x=\"254.492188\" xlink:href=\"#DejaVuSans-53\"/>\r\n      </g>\r\n     </g>\r\n    </g>\r\n    <g id=\"xtick_3\">\r\n     <g id=\"line2d_3\">\r\n      <g>\r\n       <use style=\"stroke:#000000;stroke-width:0.8;\" x=\"149.690625\" xlink:href=\"#m8b9057c332\" y=\"550.8\"/>\r\n      </g>\r\n     </g>\r\n     <g id=\"text_3\">\r\n      <!-- 43201 -->\r\n      <g transform=\"translate(133.784375 565.398438)scale(0.1 -0.1)\">\r\n       <defs>\r\n        <path d=\"M 19.1875 8.296875 \r\nL 53.609375 8.296875 \r\nL 53.609375 0 \r\nL 7.328125 0 \r\nL 7.328125 8.296875 \r\nQ 12.9375 14.109375 22.625 23.890625 \r\nQ 32.328125 33.6875 34.8125 36.53125 \r\nQ 39.546875 41.84375 41.421875 45.53125 \r\nQ 43.3125 49.21875 43.3125 52.78125 \r\nQ 43.3125 58.59375 39.234375 62.25 \r\nQ 35.15625 65.921875 28.609375 65.921875 \r\nQ 23.96875 65.921875 18.8125 64.3125 \r\nQ 13.671875 62.703125 7.8125 59.421875 \r\nL 7.8125 69.390625 \r\nQ 13.765625 71.78125 18.9375 73 \r\nQ 24.125 74.21875 28.421875 74.21875 \r\nQ 39.75 74.21875 46.484375 68.546875 \r\nQ 53.21875 62.890625 53.21875 53.421875 \r\nQ 53.21875 48.921875 51.53125 44.890625 \r\nQ 49.859375 40.875 45.40625 35.40625 \r\nQ 44.1875 33.984375 37.640625 27.21875 \r\nQ 31.109375 20.453125 19.1875 8.296875 \r\nz\r\n\" id=\"DejaVuSans-50\"/>\r\n       </defs>\r\n       <use xlink:href=\"#DejaVuSans-52\"/>\r\n       <use x=\"63.623047\" xlink:href=\"#DejaVuSans-51\"/>\r\n       <use x=\"127.246094\" xlink:href=\"#DejaVuSans-50\"/>\r\n       <use x=\"190.869141\" xlink:href=\"#DejaVuSans-48\"/>\r\n       <use x=\"254.492188\" xlink:href=\"#DejaVuSans-49\"/>\r\n      </g>\r\n     </g>\r\n    </g>\r\n    <g id=\"xtick_4\">\r\n     <g id=\"line2d_4\">\r\n      <g>\r\n       <use style=\"stroke:#000000;stroke-width:0.8;\" x=\"185.690625\" xlink:href=\"#m8b9057c332\" y=\"550.8\"/>\r\n      </g>\r\n     </g>\r\n     <g id=\"text_4\">\r\n      <!-- 43202 -->\r\n      <g transform=\"translate(169.784375 565.398438)scale(0.1 -0.1)\">\r\n       <use xlink:href=\"#DejaVuSans-52\"/>\r\n       <use x=\"63.623047\" xlink:href=\"#DejaVuSans-51\"/>\r\n       <use x=\"127.246094\" xlink:href=\"#DejaVuSans-50\"/>\r\n       <use x=\"190.869141\" xlink:href=\"#DejaVuSans-48\"/>\r\n       <use x=\"254.492188\" xlink:href=\"#DejaVuSans-50\"/>\r\n      </g>\r\n     </g>\r\n    </g>\r\n    <g id=\"xtick_5\">\r\n     <g id=\"line2d_5\">\r\n      <g>\r\n       <use style=\"stroke:#000000;stroke-width:0.8;\" x=\"221.690625\" xlink:href=\"#m8b9057c332\" y=\"550.8\"/>\r\n      </g>\r\n     </g>\r\n     <g id=\"text_5\">\r\n      <!-- 43203 -->\r\n      <g transform=\"translate(205.784375 565.398438)scale(0.1 -0.1)\">\r\n       <use xlink:href=\"#DejaVuSans-52\"/>\r\n       <use x=\"63.623047\" xlink:href=\"#DejaVuSans-51\"/>\r\n       <use x=\"127.246094\" xlink:href=\"#DejaVuSans-50\"/>\r\n       <use x=\"190.869141\" xlink:href=\"#DejaVuSans-48\"/>\r\n       <use x=\"254.492188\" xlink:href=\"#DejaVuSans-51\"/>\r\n      </g>\r\n     </g>\r\n    </g>\r\n    <g id=\"xtick_6\">\r\n     <g id=\"line2d_6\">\r\n      <g>\r\n       <use style=\"stroke:#000000;stroke-width:0.8;\" x=\"257.690625\" xlink:href=\"#m8b9057c332\" y=\"550.8\"/>\r\n      </g>\r\n     </g>\r\n     <g id=\"text_6\">\r\n      <!-- 43204 -->\r\n      <g transform=\"translate(241.784375 565.398438)scale(0.1 -0.1)\">\r\n       <use xlink:href=\"#DejaVuSans-52\"/>\r\n       <use x=\"63.623047\" xlink:href=\"#DejaVuSans-51\"/>\r\n       <use x=\"127.246094\" xlink:href=\"#DejaVuSans-50\"/>\r\n       <use x=\"190.869141\" xlink:href=\"#DejaVuSans-48\"/>\r\n       <use x=\"254.492188\" xlink:href=\"#DejaVuSans-52\"/>\r\n      </g>\r\n     </g>\r\n    </g>\r\n    <g id=\"xtick_7\">\r\n     <g id=\"line2d_7\">\r\n      <g>\r\n       <use style=\"stroke:#000000;stroke-width:0.8;\" x=\"293.690625\" xlink:href=\"#m8b9057c332\" y=\"550.8\"/>\r\n      </g>\r\n     </g>\r\n     <g id=\"text_7\">\r\n      <!-- 43205 -->\r\n      <g transform=\"translate(277.784375 565.398438)scale(0.1 -0.1)\">\r\n       <use xlink:href=\"#DejaVuSans-52\"/>\r\n       <use x=\"63.623047\" xlink:href=\"#DejaVuSans-51\"/>\r\n       <use x=\"127.246094\" xlink:href=\"#DejaVuSans-50\"/>\r\n       <use x=\"190.869141\" xlink:href=\"#DejaVuSans-48\"/>\r\n       <use x=\"254.492188\" xlink:href=\"#DejaVuSans-53\"/>\r\n      </g>\r\n     </g>\r\n    </g>\r\n    <g id=\"xtick_8\">\r\n     <g id=\"line2d_8\">\r\n      <g>\r\n       <use style=\"stroke:#000000;stroke-width:0.8;\" x=\"329.690625\" xlink:href=\"#m8b9057c332\" y=\"550.8\"/>\r\n      </g>\r\n     </g>\r\n     <g id=\"text_8\">\r\n      <!-- 43206 -->\r\n      <g transform=\"translate(313.784375 565.398438)scale(0.1 -0.1)\">\r\n       <defs>\r\n        <path d=\"M 33.015625 40.375 \r\nQ 26.375 40.375 22.484375 35.828125 \r\nQ 18.609375 31.296875 18.609375 23.390625 \r\nQ 18.609375 15.53125 22.484375 10.953125 \r\nQ 26.375 6.390625 33.015625 6.390625 \r\nQ 39.65625 6.390625 43.53125 10.953125 \r\nQ 47.40625 15.53125 47.40625 23.390625 \r\nQ 47.40625 31.296875 43.53125 35.828125 \r\nQ 39.65625 40.375 33.015625 40.375 \r\nz\r\nM 52.59375 71.296875 \r\nL 52.59375 62.3125 \r\nQ 48.875 64.0625 45.09375 64.984375 \r\nQ 41.3125 65.921875 37.59375 65.921875 \r\nQ 27.828125 65.921875 22.671875 59.328125 \r\nQ 17.53125 52.734375 16.796875 39.40625 \r\nQ 19.671875 43.65625 24.015625 45.921875 \r\nQ 28.375 48.1875 33.59375 48.1875 \r\nQ 44.578125 48.1875 50.953125 41.515625 \r\nQ 57.328125 34.859375 57.328125 23.390625 \r\nQ 57.328125 12.15625 50.6875 5.359375 \r\nQ 44.046875 -1.421875 33.015625 -1.421875 \r\nQ 20.359375 -1.421875 13.671875 8.265625 \r\nQ 6.984375 17.96875 6.984375 36.375 \r\nQ 6.984375 53.65625 15.1875 63.9375 \r\nQ 23.390625 74.21875 37.203125 74.21875 \r\nQ 40.921875 74.21875 44.703125 73.484375 \r\nQ 48.484375 72.75 52.59375 71.296875 \r\nz\r\n\" id=\"DejaVuSans-54\"/>\r\n       </defs>\r\n       <use xlink:href=\"#DejaVuSans-52\"/>\r\n       <use x=\"63.623047\" xlink:href=\"#DejaVuSans-51\"/>\r\n       <use x=\"127.246094\" xlink:href=\"#DejaVuSans-50\"/>\r\n       <use x=\"190.869141\" xlink:href=\"#DejaVuSans-48\"/>\r\n       <use x=\"254.492188\" xlink:href=\"#DejaVuSans-54\"/>\r\n      </g>\r\n     </g>\r\n    </g>\r\n    <g id=\"xtick_9\">\r\n     <g id=\"line2d_9\">\r\n      <g>\r\n       <use style=\"stroke:#000000;stroke-width:0.8;\" x=\"365.690625\" xlink:href=\"#m8b9057c332\" y=\"550.8\"/>\r\n      </g>\r\n     </g>\r\n     <g id=\"text_9\">\r\n      <!-- 43207 -->\r\n      <g transform=\"translate(349.784375 565.398438)scale(0.1 -0.1)\">\r\n       <defs>\r\n        <path d=\"M 8.203125 72.90625 \r\nL 55.078125 72.90625 \r\nL 55.078125 68.703125 \r\nL 28.609375 0 \r\nL 18.3125 0 \r\nL 43.21875 64.59375 \r\nL 8.203125 64.59375 \r\nz\r\n\" id=\"DejaVuSans-55\"/>\r\n       </defs>\r\n       <use xlink:href=\"#DejaVuSans-52\"/>\r\n       <use x=\"63.623047\" xlink:href=\"#DejaVuSans-51\"/>\r\n       <use x=\"127.246094\" xlink:href=\"#DejaVuSans-50\"/>\r\n       <use x=\"190.869141\" xlink:href=\"#DejaVuSans-48\"/>\r\n       <use x=\"254.492188\" xlink:href=\"#DejaVuSans-55\"/>\r\n      </g>\r\n     </g>\r\n    </g>\r\n    <g id=\"xtick_10\">\r\n     <g id=\"line2d_10\">\r\n      <g>\r\n       <use style=\"stroke:#000000;stroke-width:0.8;\" x=\"401.690625\" xlink:href=\"#m8b9057c332\" y=\"550.8\"/>\r\n      </g>\r\n     </g>\r\n     <g id=\"text_10\">\r\n      <!-- 43209 -->\r\n      <g transform=\"translate(385.784375 565.398438)scale(0.1 -0.1)\">\r\n       <defs>\r\n        <path d=\"M 10.984375 1.515625 \r\nL 10.984375 10.5 \r\nQ 14.703125 8.734375 18.5 7.8125 \r\nQ 22.3125 6.890625 25.984375 6.890625 \r\nQ 35.75 6.890625 40.890625 13.453125 \r\nQ 46.046875 20.015625 46.78125 33.40625 \r\nQ 43.953125 29.203125 39.59375 26.953125 \r\nQ 35.25 24.703125 29.984375 24.703125 \r\nQ 19.046875 24.703125 12.671875 31.3125 \r\nQ 6.296875 37.9375 6.296875 49.421875 \r\nQ 6.296875 60.640625 12.9375 67.421875 \r\nQ 19.578125 74.21875 30.609375 74.21875 \r\nQ 43.265625 74.21875 49.921875 64.515625 \r\nQ 56.59375 54.828125 56.59375 36.375 \r\nQ 56.59375 19.140625 48.40625 8.859375 \r\nQ 40.234375 -1.421875 26.421875 -1.421875 \r\nQ 22.703125 -1.421875 18.890625 -0.6875 \r\nQ 15.09375 0.046875 10.984375 1.515625 \r\nz\r\nM 30.609375 32.421875 \r\nQ 37.25 32.421875 41.125 36.953125 \r\nQ 45.015625 41.5 45.015625 49.421875 \r\nQ 45.015625 57.28125 41.125 61.84375 \r\nQ 37.25 66.40625 30.609375 66.40625 \r\nQ 23.96875 66.40625 20.09375 61.84375 \r\nQ 16.21875 57.28125 16.21875 49.421875 \r\nQ 16.21875 41.5 20.09375 36.953125 \r\nQ 23.96875 32.421875 30.609375 32.421875 \r\nz\r\n\" id=\"DejaVuSans-57\"/>\r\n       </defs>\r\n       <use xlink:href=\"#DejaVuSans-52\"/>\r\n       <use x=\"63.623047\" xlink:href=\"#DejaVuSans-51\"/>\r\n       <use x=\"127.246094\" xlink:href=\"#DejaVuSans-50\"/>\r\n       <use x=\"190.869141\" xlink:href=\"#DejaVuSans-48\"/>\r\n       <use x=\"254.492188\" xlink:href=\"#DejaVuSans-57\"/>\r\n      </g>\r\n     </g>\r\n    </g>\r\n    <g id=\"xtick_11\">\r\n     <g id=\"line2d_11\">\r\n      <g>\r\n       <use style=\"stroke:#000000;stroke-width:0.8;\" x=\"437.690625\" xlink:href=\"#m8b9057c332\" y=\"550.8\"/>\r\n      </g>\r\n     </g>\r\n     <g id=\"text_11\">\r\n      <!-- 43210 -->\r\n      <g transform=\"translate(421.784375 565.398438)scale(0.1 -0.1)\">\r\n       <use xlink:href=\"#DejaVuSans-52\"/>\r\n       <use x=\"63.623047\" xlink:href=\"#DejaVuSans-51\"/>\r\n       <use x=\"127.246094\" xlink:href=\"#DejaVuSans-50\"/>\r\n       <use x=\"190.869141\" xlink:href=\"#DejaVuSans-49\"/>\r\n       <use x=\"254.492188\" xlink:href=\"#DejaVuSans-48\"/>\r\n      </g>\r\n     </g>\r\n    </g>\r\n    <g id=\"xtick_12\">\r\n     <g id=\"line2d_12\">\r\n      <g>\r\n       <use style=\"stroke:#000000;stroke-width:0.8;\" x=\"473.690625\" xlink:href=\"#m8b9057c332\" y=\"550.8\"/>\r\n      </g>\r\n     </g>\r\n     <g id=\"text_12\">\r\n      <!-- 43211 -->\r\n      <g transform=\"translate(457.784375 565.398438)scale(0.1 -0.1)\">\r\n       <use xlink:href=\"#DejaVuSans-52\"/>\r\n       <use x=\"63.623047\" xlink:href=\"#DejaVuSans-51\"/>\r\n       <use x=\"127.246094\" xlink:href=\"#DejaVuSans-50\"/>\r\n       <use x=\"190.869141\" xlink:href=\"#DejaVuSans-49\"/>\r\n       <use x=\"254.492188\" xlink:href=\"#DejaVuSans-49\"/>\r\n      </g>\r\n     </g>\r\n    </g>\r\n    <g id=\"xtick_13\">\r\n     <g id=\"line2d_13\">\r\n      <g>\r\n       <use style=\"stroke:#000000;stroke-width:0.8;\" x=\"509.690625\" xlink:href=\"#m8b9057c332\" y=\"550.8\"/>\r\n      </g>\r\n     </g>\r\n     <g id=\"text_13\">\r\n      <!-- 43212 -->\r\n      <g transform=\"translate(493.784375 565.398438)scale(0.1 -0.1)\">\r\n       <use xlink:href=\"#DejaVuSans-52\"/>\r\n       <use x=\"63.623047\" xlink:href=\"#DejaVuSans-51\"/>\r\n       <use x=\"127.246094\" xlink:href=\"#DejaVuSans-50\"/>\r\n       <use x=\"190.869141\" xlink:href=\"#DejaVuSans-49\"/>\r\n       <use x=\"254.492188\" xlink:href=\"#DejaVuSans-50\"/>\r\n      </g>\r\n     </g>\r\n    </g>\r\n    <g id=\"xtick_14\">\r\n     <g id=\"line2d_14\">\r\n      <g>\r\n       <use style=\"stroke:#000000;stroke-width:0.8;\" x=\"545.690625\" xlink:href=\"#m8b9057c332\" y=\"550.8\"/>\r\n      </g>\r\n     </g>\r\n     <g id=\"text_14\">\r\n      <!-- 43213 -->\r\n      <g transform=\"translate(529.784375 565.398438)scale(0.1 -0.1)\">\r\n       <use xlink:href=\"#DejaVuSans-52\"/>\r\n       <use x=\"63.623047\" xlink:href=\"#DejaVuSans-51\"/>\r\n       <use x=\"127.246094\" xlink:href=\"#DejaVuSans-50\"/>\r\n       <use x=\"190.869141\" xlink:href=\"#DejaVuSans-49\"/>\r\n       <use x=\"254.492188\" xlink:href=\"#DejaVuSans-51\"/>\r\n      </g>\r\n     </g>\r\n    </g>\r\n    <g id=\"xtick_15\">\r\n     <g id=\"line2d_15\">\r\n      <g>\r\n       <use style=\"stroke:#000000;stroke-width:0.8;\" x=\"581.690625\" xlink:href=\"#m8b9057c332\" y=\"550.8\"/>\r\n      </g>\r\n     </g>\r\n     <g id=\"text_15\">\r\n      <!-- 43214 -->\r\n      <g transform=\"translate(565.784375 565.398438)scale(0.1 -0.1)\">\r\n       <use xlink:href=\"#DejaVuSans-52\"/>\r\n       <use x=\"63.623047\" xlink:href=\"#DejaVuSans-51\"/>\r\n       <use x=\"127.246094\" xlink:href=\"#DejaVuSans-50\"/>\r\n       <use x=\"190.869141\" xlink:href=\"#DejaVuSans-49\"/>\r\n       <use x=\"254.492188\" xlink:href=\"#DejaVuSans-52\"/>\r\n      </g>\r\n     </g>\r\n    </g>\r\n    <g id=\"xtick_16\">\r\n     <g id=\"line2d_16\">\r\n      <g>\r\n       <use style=\"stroke:#000000;stroke-width:0.8;\" x=\"617.690625\" xlink:href=\"#m8b9057c332\" y=\"550.8\"/>\r\n      </g>\r\n     </g>\r\n     <g id=\"text_16\">\r\n      <!-- 43215 -->\r\n      <g transform=\"translate(601.784375 565.398438)scale(0.1 -0.1)\">\r\n       <use xlink:href=\"#DejaVuSans-52\"/>\r\n       <use x=\"63.623047\" xlink:href=\"#DejaVuSans-51\"/>\r\n       <use x=\"127.246094\" xlink:href=\"#DejaVuSans-50\"/>\r\n       <use x=\"190.869141\" xlink:href=\"#DejaVuSans-49\"/>\r\n       <use x=\"254.492188\" xlink:href=\"#DejaVuSans-53\"/>\r\n      </g>\r\n     </g>\r\n    </g>\r\n    <g id=\"xtick_17\">\r\n     <g id=\"line2d_17\">\r\n      <g>\r\n       <use style=\"stroke:#000000;stroke-width:0.8;\" x=\"653.690625\" xlink:href=\"#m8b9057c332\" y=\"550.8\"/>\r\n      </g>\r\n     </g>\r\n     <g id=\"text_17\">\r\n      <!-- 43217 -->\r\n      <g transform=\"translate(637.784375 565.398438)scale(0.1 -0.1)\">\r\n       <use xlink:href=\"#DejaVuSans-52\"/>\r\n       <use x=\"63.623047\" xlink:href=\"#DejaVuSans-51\"/>\r\n       <use x=\"127.246094\" xlink:href=\"#DejaVuSans-50\"/>\r\n       <use x=\"190.869141\" xlink:href=\"#DejaVuSans-49\"/>\r\n       <use x=\"254.492188\" xlink:href=\"#DejaVuSans-55\"/>\r\n      </g>\r\n     </g>\r\n    </g>\r\n    <g id=\"xtick_18\">\r\n     <g id=\"line2d_18\">\r\n      <g>\r\n       <use style=\"stroke:#000000;stroke-width:0.8;\" x=\"689.690625\" xlink:href=\"#m8b9057c332\" y=\"550.8\"/>\r\n      </g>\r\n     </g>\r\n     <g id=\"text_18\">\r\n      <!-- 43219 -->\r\n      <g transform=\"translate(673.784375 565.398438)scale(0.1 -0.1)\">\r\n       <use xlink:href=\"#DejaVuSans-52\"/>\r\n       <use x=\"63.623047\" xlink:href=\"#DejaVuSans-51\"/>\r\n       <use x=\"127.246094\" xlink:href=\"#DejaVuSans-50\"/>\r\n       <use x=\"190.869141\" xlink:href=\"#DejaVuSans-49\"/>\r\n       <use x=\"254.492188\" xlink:href=\"#DejaVuSans-57\"/>\r\n      </g>\r\n     </g>\r\n    </g>\r\n    <g id=\"xtick_19\">\r\n     <g id=\"line2d_19\">\r\n      <g>\r\n       <use style=\"stroke:#000000;stroke-width:0.8;\" x=\"725.690625\" xlink:href=\"#m8b9057c332\" y=\"550.8\"/>\r\n      </g>\r\n     </g>\r\n     <g id=\"text_19\">\r\n      <!-- 43220 -->\r\n      <g transform=\"translate(709.784375 565.398438)scale(0.1 -0.1)\">\r\n       <use xlink:href=\"#DejaVuSans-52\"/>\r\n       <use x=\"63.623047\" xlink:href=\"#DejaVuSans-51\"/>\r\n       <use x=\"127.246094\" xlink:href=\"#DejaVuSans-50\"/>\r\n       <use x=\"190.869141\" xlink:href=\"#DejaVuSans-50\"/>\r\n       <use x=\"254.492188\" xlink:href=\"#DejaVuSans-48\"/>\r\n      </g>\r\n     </g>\r\n    </g>\r\n    <g id=\"xtick_20\">\r\n     <g id=\"line2d_20\">\r\n      <g>\r\n       <use style=\"stroke:#000000;stroke-width:0.8;\" x=\"761.690625\" xlink:href=\"#m8b9057c332\" y=\"550.8\"/>\r\n      </g>\r\n     </g>\r\n     <g id=\"text_20\">\r\n      <!-- 43221 -->\r\n      <g transform=\"translate(745.784375 565.398438)scale(0.1 -0.1)\">\r\n       <use xlink:href=\"#DejaVuSans-52\"/>\r\n       <use x=\"63.623047\" xlink:href=\"#DejaVuSans-51\"/>\r\n       <use x=\"127.246094\" xlink:href=\"#DejaVuSans-50\"/>\r\n       <use x=\"190.869141\" xlink:href=\"#DejaVuSans-50\"/>\r\n       <use x=\"254.492188\" xlink:href=\"#DejaVuSans-49\"/>\r\n      </g>\r\n     </g>\r\n    </g>\r\n    <g id=\"xtick_21\">\r\n     <g id=\"line2d_21\">\r\n      <g>\r\n       <use style=\"stroke:#000000;stroke-width:0.8;\" x=\"797.690625\" xlink:href=\"#m8b9057c332\" y=\"550.8\"/>\r\n      </g>\r\n     </g>\r\n     <g id=\"text_21\">\r\n      <!-- 43222 -->\r\n      <g transform=\"translate(781.784375 565.398438)scale(0.1 -0.1)\">\r\n       <use xlink:href=\"#DejaVuSans-52\"/>\r\n       <use x=\"63.623047\" xlink:href=\"#DejaVuSans-51\"/>\r\n       <use x=\"127.246094\" xlink:href=\"#DejaVuSans-50\"/>\r\n       <use x=\"190.869141\" xlink:href=\"#DejaVuSans-50\"/>\r\n       <use x=\"254.492188\" xlink:href=\"#DejaVuSans-50\"/>\r\n      </g>\r\n     </g>\r\n    </g>\r\n    <g id=\"xtick_22\">\r\n     <g id=\"line2d_22\">\r\n      <g>\r\n       <use style=\"stroke:#000000;stroke-width:0.8;\" x=\"833.690625\" xlink:href=\"#m8b9057c332\" y=\"550.8\"/>\r\n      </g>\r\n     </g>\r\n     <g id=\"text_22\">\r\n      <!-- 43223 -->\r\n      <g transform=\"translate(817.784375 565.398438)scale(0.1 -0.1)\">\r\n       <use xlink:href=\"#DejaVuSans-52\"/>\r\n       <use x=\"63.623047\" xlink:href=\"#DejaVuSans-51\"/>\r\n       <use x=\"127.246094\" xlink:href=\"#DejaVuSans-50\"/>\r\n       <use x=\"190.869141\" xlink:href=\"#DejaVuSans-50\"/>\r\n       <use x=\"254.492188\" xlink:href=\"#DejaVuSans-51\"/>\r\n      </g>\r\n     </g>\r\n    </g>\r\n    <g id=\"xtick_23\">\r\n     <g id=\"line2d_23\">\r\n      <g>\r\n       <use style=\"stroke:#000000;stroke-width:0.8;\" x=\"869.690625\" xlink:href=\"#m8b9057c332\" y=\"550.8\"/>\r\n      </g>\r\n     </g>\r\n     <g id=\"text_23\">\r\n      <!-- 43224 -->\r\n      <g transform=\"translate(853.784375 565.398438)scale(0.1 -0.1)\">\r\n       <use xlink:href=\"#DejaVuSans-52\"/>\r\n       <use x=\"63.623047\" xlink:href=\"#DejaVuSans-51\"/>\r\n       <use x=\"127.246094\" xlink:href=\"#DejaVuSans-50\"/>\r\n       <use x=\"190.869141\" xlink:href=\"#DejaVuSans-50\"/>\r\n       <use x=\"254.492188\" xlink:href=\"#DejaVuSans-52\"/>\r\n      </g>\r\n     </g>\r\n    </g>\r\n    <g id=\"xtick_24\">\r\n     <g id=\"line2d_24\">\r\n      <g>\r\n       <use style=\"stroke:#000000;stroke-width:0.8;\" x=\"905.690625\" xlink:href=\"#m8b9057c332\" y=\"550.8\"/>\r\n      </g>\r\n     </g>\r\n     <g id=\"text_24\">\r\n      <!-- 43227 -->\r\n      <g transform=\"translate(889.784375 565.398438)scale(0.1 -0.1)\">\r\n       <use xlink:href=\"#DejaVuSans-52\"/>\r\n       <use x=\"63.623047\" xlink:href=\"#DejaVuSans-51\"/>\r\n       <use x=\"127.246094\" xlink:href=\"#DejaVuSans-50\"/>\r\n       <use x=\"190.869141\" xlink:href=\"#DejaVuSans-50\"/>\r\n       <use x=\"254.492188\" xlink:href=\"#DejaVuSans-55\"/>\r\n      </g>\r\n     </g>\r\n    </g>\r\n    <g id=\"xtick_25\">\r\n     <g id=\"line2d_25\">\r\n      <g>\r\n       <use style=\"stroke:#000000;stroke-width:0.8;\" x=\"941.690625\" xlink:href=\"#m8b9057c332\" y=\"550.8\"/>\r\n      </g>\r\n     </g>\r\n     <g id=\"text_25\">\r\n      <!-- 43228 -->\r\n      <g transform=\"translate(925.784375 565.398438)scale(0.1 -0.1)\">\r\n       <use xlink:href=\"#DejaVuSans-52\"/>\r\n       <use x=\"63.623047\" xlink:href=\"#DejaVuSans-51\"/>\r\n       <use x=\"127.246094\" xlink:href=\"#DejaVuSans-50\"/>\r\n       <use x=\"190.869141\" xlink:href=\"#DejaVuSans-50\"/>\r\n       <use x=\"254.492188\" xlink:href=\"#DejaVuSans-56\"/>\r\n      </g>\r\n     </g>\r\n    </g>\r\n    <g id=\"xtick_26\">\r\n     <g id=\"line2d_26\">\r\n      <g>\r\n       <use style=\"stroke:#000000;stroke-width:0.8;\" x=\"977.690625\" xlink:href=\"#m8b9057c332\" y=\"550.8\"/>\r\n      </g>\r\n     </g>\r\n     <g id=\"text_26\">\r\n      <!-- 43229 -->\r\n      <g transform=\"translate(961.784375 565.398438)scale(0.1 -0.1)\">\r\n       <use xlink:href=\"#DejaVuSans-52\"/>\r\n       <use x=\"63.623047\" xlink:href=\"#DejaVuSans-51\"/>\r\n       <use x=\"127.246094\" xlink:href=\"#DejaVuSans-50\"/>\r\n       <use x=\"190.869141\" xlink:href=\"#DejaVuSans-50\"/>\r\n       <use x=\"254.492188\" xlink:href=\"#DejaVuSans-57\"/>\r\n      </g>\r\n     </g>\r\n    </g>\r\n    <g id=\"xtick_27\">\r\n     <g id=\"line2d_27\">\r\n      <g>\r\n       <use style=\"stroke:#000000;stroke-width:0.8;\" x=\"1013.690625\" xlink:href=\"#m8b9057c332\" y=\"550.8\"/>\r\n      </g>\r\n     </g>\r\n     <g id=\"text_27\">\r\n      <!-- 43230 -->\r\n      <g transform=\"translate(997.784375 565.398438)scale(0.1 -0.1)\">\r\n       <use xlink:href=\"#DejaVuSans-52\"/>\r\n       <use x=\"63.623047\" xlink:href=\"#DejaVuSans-51\"/>\r\n       <use x=\"127.246094\" xlink:href=\"#DejaVuSans-50\"/>\r\n       <use x=\"190.869141\" xlink:href=\"#DejaVuSans-51\"/>\r\n       <use x=\"254.492188\" xlink:href=\"#DejaVuSans-48\"/>\r\n      </g>\r\n     </g>\r\n    </g>\r\n    <g id=\"xtick_28\">\r\n     <g id=\"line2d_28\">\r\n      <g>\r\n       <use style=\"stroke:#000000;stroke-width:0.8;\" x=\"1049.690625\" xlink:href=\"#m8b9057c332\" y=\"550.8\"/>\r\n      </g>\r\n     </g>\r\n     <g id=\"text_28\">\r\n      <!-- 43231 -->\r\n      <g transform=\"translate(1033.784375 565.398438)scale(0.1 -0.1)\">\r\n       <use xlink:href=\"#DejaVuSans-52\"/>\r\n       <use x=\"63.623047\" xlink:href=\"#DejaVuSans-51\"/>\r\n       <use x=\"127.246094\" xlink:href=\"#DejaVuSans-50\"/>\r\n       <use x=\"190.869141\" xlink:href=\"#DejaVuSans-51\"/>\r\n       <use x=\"254.492188\" xlink:href=\"#DejaVuSans-49\"/>\r\n      </g>\r\n     </g>\r\n    </g>\r\n    <g id=\"xtick_29\">\r\n     <g id=\"line2d_29\">\r\n      <g>\r\n       <use style=\"stroke:#000000;stroke-width:0.8;\" x=\"1085.690625\" xlink:href=\"#m8b9057c332\" y=\"550.8\"/>\r\n      </g>\r\n     </g>\r\n     <g id=\"text_29\">\r\n      <!-- 43232 -->\r\n      <g transform=\"translate(1069.784375 565.398438)scale(0.1 -0.1)\">\r\n       <use xlink:href=\"#DejaVuSans-52\"/>\r\n       <use x=\"63.623047\" xlink:href=\"#DejaVuSans-51\"/>\r\n       <use x=\"127.246094\" xlink:href=\"#DejaVuSans-50\"/>\r\n       <use x=\"190.869141\" xlink:href=\"#DejaVuSans-51\"/>\r\n       <use x=\"254.492188\" xlink:href=\"#DejaVuSans-50\"/>\r\n      </g>\r\n     </g>\r\n    </g>\r\n    <g id=\"xtick_30\">\r\n     <g id=\"line2d_30\">\r\n      <g>\r\n       <use style=\"stroke:#000000;stroke-width:0.8;\" x=\"1121.690625\" xlink:href=\"#m8b9057c332\" y=\"550.8\"/>\r\n      </g>\r\n     </g>\r\n     <g id=\"text_30\">\r\n      <!-- 43235 -->\r\n      <g transform=\"translate(1105.784375 565.398438)scale(0.1 -0.1)\">\r\n       <use xlink:href=\"#DejaVuSans-52\"/>\r\n       <use x=\"63.623047\" xlink:href=\"#DejaVuSans-51\"/>\r\n       <use x=\"127.246094\" xlink:href=\"#DejaVuSans-50\"/>\r\n       <use x=\"190.869141\" xlink:href=\"#DejaVuSans-51\"/>\r\n       <use x=\"254.492188\" xlink:href=\"#DejaVuSans-53\"/>\r\n      </g>\r\n     </g>\r\n    </g>\r\n    <g id=\"xtick_31\">\r\n     <g id=\"line2d_31\">\r\n      <g>\r\n       <use style=\"stroke:#000000;stroke-width:0.8;\" x=\"1157.690625\" xlink:href=\"#m8b9057c332\" y=\"550.8\"/>\r\n      </g>\r\n     </g>\r\n     <g id=\"text_31\">\r\n      <!-- 43240 -->\r\n      <g transform=\"translate(1141.784375 565.398438)scale(0.1 -0.1)\">\r\n       <use xlink:href=\"#DejaVuSans-52\"/>\r\n       <use x=\"63.623047\" xlink:href=\"#DejaVuSans-51\"/>\r\n       <use x=\"127.246094\" xlink:href=\"#DejaVuSans-50\"/>\r\n       <use x=\"190.869141\" xlink:href=\"#DejaVuSans-52\"/>\r\n       <use x=\"254.492188\" xlink:href=\"#DejaVuSans-48\"/>\r\n      </g>\r\n     </g>\r\n    </g>\r\n    <g id=\"text_32\">\r\n     <!-- ZipCode -->\r\n     <g transform=\"translate(596.900781 579.076563)scale(0.1 -0.1)\">\r\n      <defs>\r\n       <path d=\"M 5.609375 72.90625 \r\nL 62.890625 72.90625 \r\nL 62.890625 65.375 \r\nL 16.796875 8.296875 \r\nL 64.015625 8.296875 \r\nL 64.015625 0 \r\nL 4.5 0 \r\nL 4.5 7.515625 \r\nL 50.59375 64.59375 \r\nL 5.609375 64.59375 \r\nz\r\n\" id=\"DejaVuSans-90\"/>\r\n       <path d=\"M 9.421875 54.6875 \r\nL 18.40625 54.6875 \r\nL 18.40625 0 \r\nL 9.421875 0 \r\nz\r\nM 9.421875 75.984375 \r\nL 18.40625 75.984375 \r\nL 18.40625 64.59375 \r\nL 9.421875 64.59375 \r\nz\r\n\" id=\"DejaVuSans-105\"/>\r\n       <path d=\"M 18.109375 8.203125 \r\nL 18.109375 -20.796875 \r\nL 9.078125 -20.796875 \r\nL 9.078125 54.6875 \r\nL 18.109375 54.6875 \r\nL 18.109375 46.390625 \r\nQ 20.953125 51.265625 25.265625 53.625 \r\nQ 29.59375 56 35.59375 56 \r\nQ 45.5625 56 51.78125 48.09375 \r\nQ 58.015625 40.1875 58.015625 27.296875 \r\nQ 58.015625 14.40625 51.78125 6.484375 \r\nQ 45.5625 -1.421875 35.59375 -1.421875 \r\nQ 29.59375 -1.421875 25.265625 0.953125 \r\nQ 20.953125 3.328125 18.109375 8.203125 \r\nz\r\nM 48.6875 27.296875 \r\nQ 48.6875 37.203125 44.609375 42.84375 \r\nQ 40.53125 48.484375 33.40625 48.484375 \r\nQ 26.265625 48.484375 22.1875 42.84375 \r\nQ 18.109375 37.203125 18.109375 27.296875 \r\nQ 18.109375 17.390625 22.1875 11.75 \r\nQ 26.265625 6.109375 33.40625 6.109375 \r\nQ 40.53125 6.109375 44.609375 11.75 \r\nQ 48.6875 17.390625 48.6875 27.296875 \r\nz\r\n\" id=\"DejaVuSans-112\"/>\r\n       <path d=\"M 64.40625 67.28125 \r\nL 64.40625 56.890625 \r\nQ 59.421875 61.53125 53.78125 63.8125 \r\nQ 48.140625 66.109375 41.796875 66.109375 \r\nQ 29.296875 66.109375 22.65625 58.46875 \r\nQ 16.015625 50.828125 16.015625 36.375 \r\nQ 16.015625 21.96875 22.65625 14.328125 \r\nQ 29.296875 6.6875 41.796875 6.6875 \r\nQ 48.140625 6.6875 53.78125 8.984375 \r\nQ 59.421875 11.28125 64.40625 15.921875 \r\nL 64.40625 5.609375 \r\nQ 59.234375 2.09375 53.4375 0.328125 \r\nQ 47.65625 -1.421875 41.21875 -1.421875 \r\nQ 24.65625 -1.421875 15.125 8.703125 \r\nQ 5.609375 18.84375 5.609375 36.375 \r\nQ 5.609375 53.953125 15.125 64.078125 \r\nQ 24.65625 74.21875 41.21875 74.21875 \r\nQ 47.75 74.21875 53.53125 72.484375 \r\nQ 59.328125 70.75 64.40625 67.28125 \r\nz\r\n\" id=\"DejaVuSans-67\"/>\r\n       <path d=\"M 30.609375 48.390625 \r\nQ 23.390625 48.390625 19.1875 42.75 \r\nQ 14.984375 37.109375 14.984375 27.296875 \r\nQ 14.984375 17.484375 19.15625 11.84375 \r\nQ 23.34375 6.203125 30.609375 6.203125 \r\nQ 37.796875 6.203125 41.984375 11.859375 \r\nQ 46.1875 17.53125 46.1875 27.296875 \r\nQ 46.1875 37.015625 41.984375 42.703125 \r\nQ 37.796875 48.390625 30.609375 48.390625 \r\nz\r\nM 30.609375 56 \r\nQ 42.328125 56 49.015625 48.375 \r\nQ 55.71875 40.765625 55.71875 27.296875 \r\nQ 55.71875 13.875 49.015625 6.21875 \r\nQ 42.328125 -1.421875 30.609375 -1.421875 \r\nQ 18.84375 -1.421875 12.171875 6.21875 \r\nQ 5.515625 13.875 5.515625 27.296875 \r\nQ 5.515625 40.765625 12.171875 48.375 \r\nQ 18.84375 56 30.609375 56 \r\nz\r\n\" id=\"DejaVuSans-111\"/>\r\n       <path d=\"M 45.40625 46.390625 \r\nL 45.40625 75.984375 \r\nL 54.390625 75.984375 \r\nL 54.390625 0 \r\nL 45.40625 0 \r\nL 45.40625 8.203125 \r\nQ 42.578125 3.328125 38.25 0.953125 \r\nQ 33.9375 -1.421875 27.875 -1.421875 \r\nQ 17.96875 -1.421875 11.734375 6.484375 \r\nQ 5.515625 14.40625 5.515625 27.296875 \r\nQ 5.515625 40.1875 11.734375 48.09375 \r\nQ 17.96875 56 27.875 56 \r\nQ 33.9375 56 38.25 53.625 \r\nQ 42.578125 51.265625 45.40625 46.390625 \r\nz\r\nM 14.796875 27.296875 \r\nQ 14.796875 17.390625 18.875 11.75 \r\nQ 22.953125 6.109375 30.078125 6.109375 \r\nQ 37.203125 6.109375 41.296875 11.75 \r\nQ 45.40625 17.390625 45.40625 27.296875 \r\nQ 45.40625 37.203125 41.296875 42.84375 \r\nQ 37.203125 48.484375 30.078125 48.484375 \r\nQ 22.953125 48.484375 18.875 42.84375 \r\nQ 14.796875 37.203125 14.796875 27.296875 \r\nz\r\n\" id=\"DejaVuSans-100\"/>\r\n       <path d=\"M 56.203125 29.59375 \r\nL 56.203125 25.203125 \r\nL 14.890625 25.203125 \r\nQ 15.484375 15.921875 20.484375 11.0625 \r\nQ 25.484375 6.203125 34.421875 6.203125 \r\nQ 39.59375 6.203125 44.453125 7.46875 \r\nQ 49.3125 8.734375 54.109375 11.28125 \r\nL 54.109375 2.78125 \r\nQ 49.265625 0.734375 44.1875 -0.34375 \r\nQ 39.109375 -1.421875 33.890625 -1.421875 \r\nQ 20.796875 -1.421875 13.15625 6.1875 \r\nQ 5.515625 13.8125 5.515625 26.8125 \r\nQ 5.515625 40.234375 12.765625 48.109375 \r\nQ 20.015625 56 32.328125 56 \r\nQ 43.359375 56 49.78125 48.890625 \r\nQ 56.203125 41.796875 56.203125 29.59375 \r\nz\r\nM 47.21875 32.234375 \r\nQ 47.125 39.59375 43.09375 43.984375 \r\nQ 39.0625 48.390625 32.421875 48.390625 \r\nQ 24.90625 48.390625 20.390625 44.140625 \r\nQ 15.875 39.890625 15.1875 32.171875 \r\nz\r\n\" id=\"DejaVuSans-101\"/>\r\n      </defs>\r\n      <use xlink:href=\"#DejaVuSans-90\"/>\r\n      <use x=\"68.505859\" xlink:href=\"#DejaVuSans-105\"/>\r\n      <use x=\"96.289062\" xlink:href=\"#DejaVuSans-112\"/>\r\n      <use x=\"159.765625\" xlink:href=\"#DejaVuSans-67\"/>\r\n      <use x=\"229.589844\" xlink:href=\"#DejaVuSans-111\"/>\r\n      <use x=\"290.771484\" xlink:href=\"#DejaVuSans-100\"/>\r\n      <use x=\"354.248047\" xlink:href=\"#DejaVuSans-101\"/>\r\n     </g>\r\n    </g>\r\n   </g>\r\n   <g id=\"matplotlib.axis_2\">\r\n    <g id=\"ytick_1\">\r\n     <g id=\"line2d_32\">\r\n      <defs>\r\n       <path d=\"M 0 0 \r\nL -3.5 0 \r\n\" id=\"m99f5f9db52\" style=\"stroke:#000000;stroke-width:0.8;\"/>\r\n      </defs>\r\n      <g>\r\n       <use style=\"stroke:#000000;stroke-width:0.8;\" x=\"59.690625\" xlink:href=\"#m99f5f9db52\" y=\"550.8\"/>\r\n      </g>\r\n     </g>\r\n     <g id=\"text_33\">\r\n      <!-- 0 -->\r\n      <g transform=\"translate(46.328125 554.599219)scale(0.1 -0.1)\">\r\n       <use xlink:href=\"#DejaVuSans-48\"/>\r\n      </g>\r\n     </g>\r\n    </g>\r\n    <g id=\"ytick_2\">\r\n     <g id=\"line2d_33\">\r\n      <g>\r\n       <use style=\"stroke:#000000;stroke-width:0.8;\" x=\"59.690625\" xlink:href=\"#m99f5f9db52\" y=\"431.305872\"/>\r\n      </g>\r\n     </g>\r\n     <g id=\"text_34\">\r\n      <!-- 20000 -->\r\n      <g transform=\"translate(20.878125 435.10509)scale(0.1 -0.1)\">\r\n       <use xlink:href=\"#DejaVuSans-50\"/>\r\n       <use x=\"63.623047\" xlink:href=\"#DejaVuSans-48\"/>\r\n       <use x=\"127.246094\" xlink:href=\"#DejaVuSans-48\"/>\r\n       <use x=\"190.869141\" xlink:href=\"#DejaVuSans-48\"/>\r\n       <use x=\"254.492188\" xlink:href=\"#DejaVuSans-48\"/>\r\n      </g>\r\n     </g>\r\n    </g>\r\n    <g id=\"ytick_3\">\r\n     <g id=\"line2d_34\">\r\n      <g>\r\n       <use style=\"stroke:#000000;stroke-width:0.8;\" x=\"59.690625\" xlink:href=\"#m99f5f9db52\" y=\"311.811743\"/>\r\n      </g>\r\n     </g>\r\n     <g id=\"text_35\">\r\n      <!-- 40000 -->\r\n      <g transform=\"translate(20.878125 315.610962)scale(0.1 -0.1)\">\r\n       <use xlink:href=\"#DejaVuSans-52\"/>\r\n       <use x=\"63.623047\" xlink:href=\"#DejaVuSans-48\"/>\r\n       <use x=\"127.246094\" xlink:href=\"#DejaVuSans-48\"/>\r\n       <use x=\"190.869141\" xlink:href=\"#DejaVuSans-48\"/>\r\n       <use x=\"254.492188\" xlink:href=\"#DejaVuSans-48\"/>\r\n      </g>\r\n     </g>\r\n    </g>\r\n    <g id=\"ytick_4\">\r\n     <g id=\"line2d_35\">\r\n      <g>\r\n       <use style=\"stroke:#000000;stroke-width:0.8;\" x=\"59.690625\" xlink:href=\"#m99f5f9db52\" y=\"192.317615\"/>\r\n      </g>\r\n     </g>\r\n     <g id=\"text_36\">\r\n      <!-- 60000 -->\r\n      <g transform=\"translate(20.878125 196.116834)scale(0.1 -0.1)\">\r\n       <use xlink:href=\"#DejaVuSans-54\"/>\r\n       <use x=\"63.623047\" xlink:href=\"#DejaVuSans-48\"/>\r\n       <use x=\"127.246094\" xlink:href=\"#DejaVuSans-48\"/>\r\n       <use x=\"190.869141\" xlink:href=\"#DejaVuSans-48\"/>\r\n       <use x=\"254.492188\" xlink:href=\"#DejaVuSans-48\"/>\r\n      </g>\r\n     </g>\r\n    </g>\r\n    <g id=\"ytick_5\">\r\n     <g id=\"line2d_36\">\r\n      <g>\r\n       <use style=\"stroke:#000000;stroke-width:0.8;\" x=\"59.690625\" xlink:href=\"#m99f5f9db52\" y=\"72.823487\"/>\r\n      </g>\r\n     </g>\r\n     <g id=\"text_37\">\r\n      <!-- 80000 -->\r\n      <g transform=\"translate(20.878125 76.622705)scale(0.1 -0.1)\">\r\n       <use xlink:href=\"#DejaVuSans-56\"/>\r\n       <use x=\"63.623047\" xlink:href=\"#DejaVuSans-48\"/>\r\n       <use x=\"127.246094\" xlink:href=\"#DejaVuSans-48\"/>\r\n       <use x=\"190.869141\" xlink:href=\"#DejaVuSans-48\"/>\r\n       <use x=\"254.492188\" xlink:href=\"#DejaVuSans-48\"/>\r\n      </g>\r\n     </g>\r\n    </g>\r\n    <g id=\"text_38\">\r\n     <!-- population -->\r\n     <g transform=\"translate(14.798438 305.607031)rotate(-90)scale(0.1 -0.1)\">\r\n      <defs>\r\n       <path d=\"M 8.5 21.578125 \r\nL 8.5 54.6875 \r\nL 17.484375 54.6875 \r\nL 17.484375 21.921875 \r\nQ 17.484375 14.15625 20.5 10.265625 \r\nQ 23.53125 6.390625 29.59375 6.390625 \r\nQ 36.859375 6.390625 41.078125 11.03125 \r\nQ 45.3125 15.671875 45.3125 23.6875 \r\nL 45.3125 54.6875 \r\nL 54.296875 54.6875 \r\nL 54.296875 0 \r\nL 45.3125 0 \r\nL 45.3125 8.40625 \r\nQ 42.046875 3.421875 37.71875 1 \r\nQ 33.40625 -1.421875 27.6875 -1.421875 \r\nQ 18.265625 -1.421875 13.375 4.4375 \r\nQ 8.5 10.296875 8.5 21.578125 \r\nz\r\nM 31.109375 56 \r\nz\r\n\" id=\"DejaVuSans-117\"/>\r\n       <path d=\"M 9.421875 75.984375 \r\nL 18.40625 75.984375 \r\nL 18.40625 0 \r\nL 9.421875 0 \r\nz\r\n\" id=\"DejaVuSans-108\"/>\r\n       <path d=\"M 34.28125 27.484375 \r\nQ 23.390625 27.484375 19.1875 25 \r\nQ 14.984375 22.515625 14.984375 16.5 \r\nQ 14.984375 11.71875 18.140625 8.90625 \r\nQ 21.296875 6.109375 26.703125 6.109375 \r\nQ 34.1875 6.109375 38.703125 11.40625 \r\nQ 43.21875 16.703125 43.21875 25.484375 \r\nL 43.21875 27.484375 \r\nz\r\nM 52.203125 31.203125 \r\nL 52.203125 0 \r\nL 43.21875 0 \r\nL 43.21875 8.296875 \r\nQ 40.140625 3.328125 35.546875 0.953125 \r\nQ 30.953125 -1.421875 24.3125 -1.421875 \r\nQ 15.921875 -1.421875 10.953125 3.296875 \r\nQ 6 8.015625 6 15.921875 \r\nQ 6 25.140625 12.171875 29.828125 \r\nQ 18.359375 34.515625 30.609375 34.515625 \r\nL 43.21875 34.515625 \r\nL 43.21875 35.40625 \r\nQ 43.21875 41.609375 39.140625 45 \r\nQ 35.0625 48.390625 27.6875 48.390625 \r\nQ 23 48.390625 18.546875 47.265625 \r\nQ 14.109375 46.140625 10.015625 43.890625 \r\nL 10.015625 52.203125 \r\nQ 14.9375 54.109375 19.578125 55.046875 \r\nQ 24.21875 56 28.609375 56 \r\nQ 40.484375 56 46.34375 49.84375 \r\nQ 52.203125 43.703125 52.203125 31.203125 \r\nz\r\n\" id=\"DejaVuSans-97\"/>\r\n       <path d=\"M 18.3125 70.21875 \r\nL 18.3125 54.6875 \r\nL 36.8125 54.6875 \r\nL 36.8125 47.703125 \r\nL 18.3125 47.703125 \r\nL 18.3125 18.015625 \r\nQ 18.3125 11.328125 20.140625 9.421875 \r\nQ 21.96875 7.515625 27.59375 7.515625 \r\nL 36.8125 7.515625 \r\nL 36.8125 0 \r\nL 27.59375 0 \r\nQ 17.1875 0 13.234375 3.875 \r\nQ 9.28125 7.765625 9.28125 18.015625 \r\nL 9.28125 47.703125 \r\nL 2.6875 47.703125 \r\nL 2.6875 54.6875 \r\nL 9.28125 54.6875 \r\nL 9.28125 70.21875 \r\nz\r\n\" id=\"DejaVuSans-116\"/>\r\n       <path d=\"M 54.890625 33.015625 \r\nL 54.890625 0 \r\nL 45.90625 0 \r\nL 45.90625 32.71875 \r\nQ 45.90625 40.484375 42.875 44.328125 \r\nQ 39.84375 48.1875 33.796875 48.1875 \r\nQ 26.515625 48.1875 22.3125 43.546875 \r\nQ 18.109375 38.921875 18.109375 30.90625 \r\nL 18.109375 0 \r\nL 9.078125 0 \r\nL 9.078125 54.6875 \r\nL 18.109375 54.6875 \r\nL 18.109375 46.1875 \r\nQ 21.34375 51.125 25.703125 53.5625 \r\nQ 30.078125 56 35.796875 56 \r\nQ 45.21875 56 50.046875 50.171875 \r\nQ 54.890625 44.34375 54.890625 33.015625 \r\nz\r\n\" id=\"DejaVuSans-110\"/>\r\n      </defs>\r\n      <use xlink:href=\"#DejaVuSans-112\"/>\r\n      <use x=\"63.476562\" xlink:href=\"#DejaVuSans-111\"/>\r\n      <use x=\"124.658203\" xlink:href=\"#DejaVuSans-112\"/>\r\n      <use x=\"188.134766\" xlink:href=\"#DejaVuSans-117\"/>\r\n      <use x=\"251.513672\" xlink:href=\"#DejaVuSans-108\"/>\r\n      <use x=\"279.296875\" xlink:href=\"#DejaVuSans-97\"/>\r\n      <use x=\"340.576172\" xlink:href=\"#DejaVuSans-116\"/>\r\n      <use x=\"379.785156\" xlink:href=\"#DejaVuSans-105\"/>\r\n      <use x=\"407.568359\" xlink:href=\"#DejaVuSans-111\"/>\r\n      <use x=\"468.75\" xlink:href=\"#DejaVuSans-110\"/>\r\n     </g>\r\n    </g>\r\n   </g>\r\n   <g id=\"line2d_37\">\r\n    <path clip-path=\"url(#p25fd156305)\" style=\"fill:none;stroke:#424242;stroke-linecap:square;stroke-width:2.7;\"/>\r\n   </g>\r\n   <g id=\"line2d_38\">\r\n    <path clip-path=\"url(#p25fd156305)\" style=\"fill:none;stroke:#424242;stroke-linecap:square;stroke-width:2.7;\"/>\r\n   </g>\r\n   <g id=\"line2d_39\">\r\n    <path clip-path=\"url(#p25fd156305)\" style=\"fill:none;stroke:#424242;stroke-linecap:square;stroke-width:2.7;\"/>\r\n   </g>\r\n   <g id=\"line2d_40\">\r\n    <path clip-path=\"url(#p25fd156305)\" style=\"fill:none;stroke:#424242;stroke-linecap:square;stroke-width:2.7;\"/>\r\n   </g>\r\n   <g id=\"line2d_41\">\r\n    <path clip-path=\"url(#p25fd156305)\" style=\"fill:none;stroke:#424242;stroke-linecap:square;stroke-width:2.7;\"/>\r\n   </g>\r\n   <g id=\"line2d_42\">\r\n    <path clip-path=\"url(#p25fd156305)\" style=\"fill:none;stroke:#424242;stroke-linecap:square;stroke-width:2.7;\"/>\r\n   </g>\r\n   <g id=\"line2d_43\">\r\n    <path clip-path=\"url(#p25fd156305)\" style=\"fill:none;stroke:#424242;stroke-linecap:square;stroke-width:2.7;\"/>\r\n   </g>\r\n   <g id=\"line2d_44\">\r\n    <path clip-path=\"url(#p25fd156305)\" style=\"fill:none;stroke:#424242;stroke-linecap:square;stroke-width:2.7;\"/>\r\n   </g>\r\n   <g id=\"line2d_45\">\r\n    <path clip-path=\"url(#p25fd156305)\" style=\"fill:none;stroke:#424242;stroke-linecap:square;stroke-width:2.7;\"/>\r\n   </g>\r\n   <g id=\"line2d_46\">\r\n    <path clip-path=\"url(#p25fd156305)\" style=\"fill:none;stroke:#424242;stroke-linecap:square;stroke-width:2.7;\"/>\r\n   </g>\r\n   <g id=\"line2d_47\">\r\n    <path clip-path=\"url(#p25fd156305)\" style=\"fill:none;stroke:#424242;stroke-linecap:square;stroke-width:2.7;\"/>\r\n   </g>\r\n   <g id=\"line2d_48\">\r\n    <path clip-path=\"url(#p25fd156305)\" style=\"fill:none;stroke:#424242;stroke-linecap:square;stroke-width:2.7;\"/>\r\n   </g>\r\n   <g id=\"line2d_49\">\r\n    <path clip-path=\"url(#p25fd156305)\" style=\"fill:none;stroke:#424242;stroke-linecap:square;stroke-width:2.7;\"/>\r\n   </g>\r\n   <g id=\"line2d_50\">\r\n    <path clip-path=\"url(#p25fd156305)\" style=\"fill:none;stroke:#424242;stroke-linecap:square;stroke-width:2.7;\"/>\r\n   </g>\r\n   <g id=\"line2d_51\">\r\n    <path clip-path=\"url(#p25fd156305)\" style=\"fill:none;stroke:#424242;stroke-linecap:square;stroke-width:2.7;\"/>\r\n   </g>\r\n   <g id=\"line2d_52\">\r\n    <path clip-path=\"url(#p25fd156305)\" style=\"fill:none;stroke:#424242;stroke-linecap:square;stroke-width:2.7;\"/>\r\n   </g>\r\n   <g id=\"line2d_53\">\r\n    <path clip-path=\"url(#p25fd156305)\" style=\"fill:none;stroke:#424242;stroke-linecap:square;stroke-width:2.7;\"/>\r\n   </g>\r\n   <g id=\"line2d_54\">\r\n    <path clip-path=\"url(#p25fd156305)\" style=\"fill:none;stroke:#424242;stroke-linecap:square;stroke-width:2.7;\"/>\r\n   </g>\r\n   <g id=\"line2d_55\">\r\n    <path clip-path=\"url(#p25fd156305)\" style=\"fill:none;stroke:#424242;stroke-linecap:square;stroke-width:2.7;\"/>\r\n   </g>\r\n   <g id=\"line2d_56\">\r\n    <path clip-path=\"url(#p25fd156305)\" style=\"fill:none;stroke:#424242;stroke-linecap:square;stroke-width:2.7;\"/>\r\n   </g>\r\n   <g id=\"line2d_57\">\r\n    <path clip-path=\"url(#p25fd156305)\" style=\"fill:none;stroke:#424242;stroke-linecap:square;stroke-width:2.7;\"/>\r\n   </g>\r\n   <g id=\"line2d_58\">\r\n    <path clip-path=\"url(#p25fd156305)\" style=\"fill:none;stroke:#424242;stroke-linecap:square;stroke-width:2.7;\"/>\r\n   </g>\r\n   <g id=\"line2d_59\">\r\n    <path clip-path=\"url(#p25fd156305)\" style=\"fill:none;stroke:#424242;stroke-linecap:square;stroke-width:2.7;\"/>\r\n   </g>\r\n   <g id=\"line2d_60\">\r\n    <path clip-path=\"url(#p25fd156305)\" style=\"fill:none;stroke:#424242;stroke-linecap:square;stroke-width:2.7;\"/>\r\n   </g>\r\n   <g id=\"line2d_61\">\r\n    <path clip-path=\"url(#p25fd156305)\" style=\"fill:none;stroke:#424242;stroke-linecap:square;stroke-width:2.7;\"/>\r\n   </g>\r\n   <g id=\"line2d_62\">\r\n    <path clip-path=\"url(#p25fd156305)\" style=\"fill:none;stroke:#424242;stroke-linecap:square;stroke-width:2.7;\"/>\r\n   </g>\r\n   <g id=\"line2d_63\">\r\n    <path clip-path=\"url(#p25fd156305)\" style=\"fill:none;stroke:#424242;stroke-linecap:square;stroke-width:2.7;\"/>\r\n   </g>\r\n   <g id=\"line2d_64\">\r\n    <path clip-path=\"url(#p25fd156305)\" style=\"fill:none;stroke:#424242;stroke-linecap:square;stroke-width:2.7;\"/>\r\n   </g>\r\n   <g id=\"line2d_65\">\r\n    <path clip-path=\"url(#p25fd156305)\" style=\"fill:none;stroke:#424242;stroke-linecap:square;stroke-width:2.7;\"/>\r\n   </g>\r\n   <g id=\"line2d_66\">\r\n    <path clip-path=\"url(#p25fd156305)\" style=\"fill:none;stroke:#424242;stroke-linecap:square;stroke-width:2.7;\"/>\r\n   </g>\r\n   <g id=\"line2d_67\">\r\n    <path clip-path=\"url(#p25fd156305)\" style=\"fill:none;stroke:#424242;stroke-linecap:square;stroke-width:2.7;\"/>\r\n   </g>\r\n   <g id=\"line2d_68\">\r\n    <path clip-path=\"url(#p25fd156305)\" style=\"fill:none;stroke:#424242;stroke-linecap:square;stroke-width:2.7;\"/>\r\n   </g>\r\n   <g id=\"line2d_69\">\r\n    <path clip-path=\"url(#p25fd156305)\" style=\"fill:none;stroke:#424242;stroke-linecap:square;stroke-width:2.7;\"/>\r\n   </g>\r\n   <g id=\"line2d_70\">\r\n    <path clip-path=\"url(#p25fd156305)\" style=\"fill:none;stroke:#424242;stroke-linecap:square;stroke-width:2.7;\"/>\r\n   </g>\r\n   <g id=\"line2d_71\">\r\n    <path clip-path=\"url(#p25fd156305)\" style=\"fill:none;stroke:#424242;stroke-linecap:square;stroke-width:2.7;\"/>\r\n   </g>\r\n   <g id=\"line2d_72\">\r\n    <path clip-path=\"url(#p25fd156305)\" style=\"fill:none;stroke:#424242;stroke-linecap:square;stroke-width:2.7;\"/>\r\n   </g>\r\n   <g id=\"line2d_73\">\r\n    <path clip-path=\"url(#p25fd156305)\" style=\"fill:none;stroke:#424242;stroke-linecap:square;stroke-width:2.7;\"/>\r\n   </g>\r\n   <g id=\"line2d_74\">\r\n    <path clip-path=\"url(#p25fd156305)\" style=\"fill:none;stroke:#424242;stroke-linecap:square;stroke-width:2.7;\"/>\r\n   </g>\r\n   <g id=\"line2d_75\">\r\n    <path clip-path=\"url(#p25fd156305)\" style=\"fill:none;stroke:#424242;stroke-linecap:square;stroke-width:2.7;\"/>\r\n   </g>\r\n   <g id=\"line2d_76\">\r\n    <path clip-path=\"url(#p25fd156305)\" style=\"fill:none;stroke:#424242;stroke-linecap:square;stroke-width:2.7;\"/>\r\n   </g>\r\n   <g id=\"line2d_77\">\r\n    <path clip-path=\"url(#p25fd156305)\" style=\"fill:none;stroke:#424242;stroke-linecap:square;stroke-width:2.7;\"/>\r\n   </g>\r\n   <g id=\"line2d_78\">\r\n    <path clip-path=\"url(#p25fd156305)\" style=\"fill:none;stroke:#424242;stroke-linecap:square;stroke-width:2.7;\"/>\r\n   </g>\r\n   <g id=\"line2d_79\">\r\n    <path clip-path=\"url(#p25fd156305)\" style=\"fill:none;stroke:#424242;stroke-linecap:square;stroke-width:2.7;\"/>\r\n   </g>\r\n   <g id=\"line2d_80\">\r\n    <path clip-path=\"url(#p25fd156305)\" style=\"fill:none;stroke:#424242;stroke-linecap:square;stroke-width:2.7;\"/>\r\n   </g>\r\n   <g id=\"line2d_81\">\r\n    <path clip-path=\"url(#p25fd156305)\" style=\"fill:none;stroke:#424242;stroke-linecap:square;stroke-width:2.7;\"/>\r\n   </g>\r\n   <g id=\"line2d_82\">\r\n    <path clip-path=\"url(#p25fd156305)\" style=\"fill:none;stroke:#424242;stroke-linecap:square;stroke-width:2.7;\"/>\r\n   </g>\r\n   <g id=\"line2d_83\">\r\n    <path clip-path=\"url(#p25fd156305)\" style=\"fill:none;stroke:#424242;stroke-linecap:square;stroke-width:2.7;\"/>\r\n   </g>\r\n   <g id=\"line2d_84\">\r\n    <path clip-path=\"url(#p25fd156305)\" style=\"fill:none;stroke:#424242;stroke-linecap:square;stroke-width:2.7;\"/>\r\n   </g>\r\n   <g id=\"line2d_85\">\r\n    <path clip-path=\"url(#p25fd156305)\" style=\"fill:none;stroke:#424242;stroke-linecap:square;stroke-width:2.7;\"/>\r\n   </g>\r\n   <g id=\"line2d_86\">\r\n    <path clip-path=\"url(#p25fd156305)\" style=\"fill:none;stroke:#424242;stroke-linecap:square;stroke-width:2.7;\"/>\r\n   </g>\r\n   <g id=\"line2d_87\">\r\n    <path clip-path=\"url(#p25fd156305)\" style=\"fill:none;stroke:#424242;stroke-linecap:square;stroke-width:2.7;\"/>\r\n   </g>\r\n   <g id=\"line2d_88\">\r\n    <path clip-path=\"url(#p25fd156305)\" style=\"fill:none;stroke:#424242;stroke-linecap:square;stroke-width:2.7;\"/>\r\n   </g>\r\n   <g id=\"line2d_89\">\r\n    <path clip-path=\"url(#p25fd156305)\" style=\"fill:none;stroke:#424242;stroke-linecap:square;stroke-width:2.7;\"/>\r\n   </g>\r\n   <g id=\"line2d_90\">\r\n    <path clip-path=\"url(#p25fd156305)\" style=\"fill:none;stroke:#424242;stroke-linecap:square;stroke-width:2.7;\"/>\r\n   </g>\r\n   <g id=\"line2d_91\">\r\n    <path clip-path=\"url(#p25fd156305)\" style=\"fill:none;stroke:#424242;stroke-linecap:square;stroke-width:2.7;\"/>\r\n   </g>\r\n   <g id=\"line2d_92\">\r\n    <path clip-path=\"url(#p25fd156305)\" style=\"fill:none;stroke:#424242;stroke-linecap:square;stroke-width:2.7;\"/>\r\n   </g>\r\n   <g id=\"line2d_93\">\r\n    <path clip-path=\"url(#p25fd156305)\" style=\"fill:none;stroke:#424242;stroke-linecap:square;stroke-width:2.7;\"/>\r\n   </g>\r\n   <g id=\"line2d_94\">\r\n    <path clip-path=\"url(#p25fd156305)\" style=\"fill:none;stroke:#424242;stroke-linecap:square;stroke-width:2.7;\"/>\r\n   </g>\r\n   <g id=\"line2d_95\">\r\n    <path clip-path=\"url(#p25fd156305)\" style=\"fill:none;stroke:#424242;stroke-linecap:square;stroke-width:2.7;\"/>\r\n   </g>\r\n   <g id=\"line2d_96\">\r\n    <path clip-path=\"url(#p25fd156305)\" style=\"fill:none;stroke:#424242;stroke-linecap:square;stroke-width:2.7;\"/>\r\n   </g>\r\n   <g id=\"line2d_97\">\r\n    <path clip-path=\"url(#p25fd156305)\" style=\"fill:none;stroke:#424242;stroke-linecap:square;stroke-width:2.7;\"/>\r\n   </g>\r\n   <g id=\"line2d_98\">\r\n    <path clip-path=\"url(#p25fd156305)\" style=\"fill:none;stroke:#424242;stroke-linecap:square;stroke-width:2.7;\"/>\r\n   </g>\r\n   <g id=\"patch_65\">\r\n    <path d=\"M 59.690625 550.8 \r\nL 59.690625 7.2 \r\n\" style=\"fill:none;stroke:#000000;stroke-linecap:square;stroke-linejoin:miter;stroke-width:0.8;\"/>\r\n   </g>\r\n   <g id=\"patch_66\">\r\n    <path d=\"M 1175.690625 550.8 \r\nL 1175.690625 7.2 \r\n\" style=\"fill:none;stroke:#000000;stroke-linecap:square;stroke-linejoin:miter;stroke-width:0.8;\"/>\r\n   </g>\r\n   <g id=\"patch_67\">\r\n    <path d=\"M 59.690625 550.8 \r\nL 1175.690625 550.8 \r\n\" style=\"fill:none;stroke:#000000;stroke-linecap:square;stroke-linejoin:miter;stroke-width:0.8;\"/>\r\n   </g>\r\n   <g id=\"patch_68\">\r\n    <path d=\"M 59.690625 7.2 \r\nL 1175.690625 7.2 \r\n\" style=\"fill:none;stroke:#000000;stroke-linecap:square;stroke-linejoin:miter;stroke-width:0.8;\"/>\r\n   </g>\r\n   <g id=\"legend_1\">\r\n    <g id=\"patch_69\">\r\n     <path d=\"M 1100.535938 59.234375 \r\nL 1168.690625 59.234375 \r\nQ 1170.690625 59.234375 1170.690625 57.234375 \r\nL 1170.690625 14.2 \r\nQ 1170.690625 12.2 1168.690625 12.2 \r\nL 1100.535938 12.2 \r\nQ 1098.535938 12.2 1098.535938 14.2 \r\nL 1098.535938 57.234375 \r\nQ 1098.535938 59.234375 1100.535938 59.234375 \r\nz\r\n\" style=\"fill:#ffffff;opacity:0.8;stroke:#cccccc;stroke-linejoin:miter;\"/>\r\n    </g>\r\n    <g id=\"text_39\">\r\n     <!-- Sex -->\r\n     <g transform=\"translate(1125.490625 23.798437)scale(0.1 -0.1)\">\r\n      <defs>\r\n       <path d=\"M 53.515625 70.515625 \r\nL 53.515625 60.890625 \r\nQ 47.90625 63.578125 42.921875 64.890625 \r\nQ 37.9375 66.21875 33.296875 66.21875 \r\nQ 25.25 66.21875 20.875 63.09375 \r\nQ 16.5 59.96875 16.5 54.203125 \r\nQ 16.5 49.359375 19.40625 46.890625 \r\nQ 22.3125 44.4375 30.421875 42.921875 \r\nL 36.375 41.703125 \r\nQ 47.40625 39.59375 52.65625 34.296875 \r\nQ 57.90625 29 57.90625 20.125 \r\nQ 57.90625 9.515625 50.796875 4.046875 \r\nQ 43.703125 -1.421875 29.984375 -1.421875 \r\nQ 24.8125 -1.421875 18.96875 -0.25 \r\nQ 13.140625 0.921875 6.890625 3.21875 \r\nL 6.890625 13.375 \r\nQ 12.890625 10.015625 18.65625 8.296875 \r\nQ 24.421875 6.59375 29.984375 6.59375 \r\nQ 38.421875 6.59375 43.015625 9.90625 \r\nQ 47.609375 13.234375 47.609375 19.390625 \r\nQ 47.609375 24.75 44.3125 27.78125 \r\nQ 41.015625 30.8125 33.5 32.328125 \r\nL 27.484375 33.5 \r\nQ 16.453125 35.6875 11.515625 40.375 \r\nQ 6.59375 45.0625 6.59375 53.421875 \r\nQ 6.59375 63.09375 13.40625 68.65625 \r\nQ 20.21875 74.21875 32.171875 74.21875 \r\nQ 37.3125 74.21875 42.625 73.28125 \r\nQ 47.953125 72.359375 53.515625 70.515625 \r\nz\r\n\" id=\"DejaVuSans-83\"/>\r\n       <path d=\"M 54.890625 54.6875 \r\nL 35.109375 28.078125 \r\nL 55.90625 0 \r\nL 45.3125 0 \r\nL 29.390625 21.484375 \r\nL 13.484375 0 \r\nL 2.875 0 \r\nL 24.125 28.609375 \r\nL 4.6875 54.6875 \r\nL 15.28125 54.6875 \r\nL 29.78125 35.203125 \r\nL 44.28125 54.6875 \r\nz\r\n\" id=\"DejaVuSans-120\"/>\r\n      </defs>\r\n      <use xlink:href=\"#DejaVuSans-83\"/>\r\n      <use x=\"63.476562\" xlink:href=\"#DejaVuSans-101\"/>\r\n      <use x=\"123.25\" xlink:href=\"#DejaVuSans-120\"/>\r\n     </g>\r\n    </g>\r\n    <g id=\"patch_70\">\r\n     <path d=\"M 1102.535938 38.476562 \r\nL 1122.535938 38.476562 \r\nL 1122.535938 31.476562 \r\nL 1102.535938 31.476562 \r\nz\r\n\" style=\"fill:#cb6d67;\"/>\r\n    </g>\r\n    <g id=\"text_40\">\r\n     <!-- Male -->\r\n     <g transform=\"translate(1130.535938 38.476562)scale(0.1 -0.1)\">\r\n      <defs>\r\n       <path d=\"M 9.8125 72.90625 \r\nL 24.515625 72.90625 \r\nL 43.109375 23.296875 \r\nL 61.8125 72.90625 \r\nL 76.515625 72.90625 \r\nL 76.515625 0 \r\nL 66.890625 0 \r\nL 66.890625 64.015625 \r\nL 48.09375 14.015625 \r\nL 38.1875 14.015625 \r\nL 19.390625 64.015625 \r\nL 19.390625 0 \r\nL 9.8125 0 \r\nz\r\n\" id=\"DejaVuSans-77\"/>\r\n      </defs>\r\n      <use xlink:href=\"#DejaVuSans-77\"/>\r\n      <use x=\"86.279297\" xlink:href=\"#DejaVuSans-97\"/>\r\n      <use x=\"147.558594\" xlink:href=\"#DejaVuSans-108\"/>\r\n      <use x=\"175.341797\" xlink:href=\"#DejaVuSans-101\"/>\r\n     </g>\r\n    </g>\r\n    <g id=\"patch_71\">\r\n     <path d=\"M 1102.535938 53.154688 \r\nL 1122.535938 53.154688 \r\nL 1122.535938 46.154688 \r\nL 1102.535938 46.154688 \r\nz\r\n\" style=\"fill:#67c5cb;\"/>\r\n    </g>\r\n    <g id=\"text_41\">\r\n     <!-- Female -->\r\n     <g transform=\"translate(1130.535938 53.154688)scale(0.1 -0.1)\">\r\n      <defs>\r\n       <path d=\"M 9.8125 72.90625 \r\nL 51.703125 72.90625 \r\nL 51.703125 64.59375 \r\nL 19.671875 64.59375 \r\nL 19.671875 43.109375 \r\nL 48.578125 43.109375 \r\nL 48.578125 34.8125 \r\nL 19.671875 34.8125 \r\nL 19.671875 0 \r\nL 9.8125 0 \r\nz\r\n\" id=\"DejaVuSans-70\"/>\r\n       <path d=\"M 52 44.1875 \r\nQ 55.375 50.25 60.0625 53.125 \r\nQ 64.75 56 71.09375 56 \r\nQ 79.640625 56 84.28125 50.015625 \r\nQ 88.921875 44.046875 88.921875 33.015625 \r\nL 88.921875 0 \r\nL 79.890625 0 \r\nL 79.890625 32.71875 \r\nQ 79.890625 40.578125 77.09375 44.375 \r\nQ 74.3125 48.1875 68.609375 48.1875 \r\nQ 61.625 48.1875 57.5625 43.546875 \r\nQ 53.515625 38.921875 53.515625 30.90625 \r\nL 53.515625 0 \r\nL 44.484375 0 \r\nL 44.484375 32.71875 \r\nQ 44.484375 40.625 41.703125 44.40625 \r\nQ 38.921875 48.1875 33.109375 48.1875 \r\nQ 26.21875 48.1875 22.15625 43.53125 \r\nQ 18.109375 38.875 18.109375 30.90625 \r\nL 18.109375 0 \r\nL 9.078125 0 \r\nL 9.078125 54.6875 \r\nL 18.109375 54.6875 \r\nL 18.109375 46.1875 \r\nQ 21.1875 51.21875 25.484375 53.609375 \r\nQ 29.78125 56 35.6875 56 \r\nQ 41.65625 56 45.828125 52.96875 \r\nQ 50 49.953125 52 44.1875 \r\nz\r\n\" id=\"DejaVuSans-109\"/>\r\n      </defs>\r\n      <use xlink:href=\"#DejaVuSans-70\"/>\r\n      <use x=\"52.019531\" xlink:href=\"#DejaVuSans-101\"/>\r\n      <use x=\"113.542969\" xlink:href=\"#DejaVuSans-109\"/>\r\n      <use x=\"210.955078\" xlink:href=\"#DejaVuSans-97\"/>\r\n      <use x=\"272.234375\" xlink:href=\"#DejaVuSans-108\"/>\r\n      <use x=\"300.017578\" xlink:href=\"#DejaVuSans-101\"/>\r\n     </g>\r\n    </g>\r\n   </g>\r\n  </g>\r\n </g>\r\n <defs>\r\n  <clipPath id=\"p25fd156305\">\r\n   <rect height=\"543.6\" width=\"1116\" x=\"59.690625\" y=\"7.2\"/>\r\n  </clipPath>\r\n </defs>\r\n</svg>\r\n",
      "image/png": "[encoded data removed]"
     },
     "metadata": {
      "needs_background": "light"
     }
    }
   ],
   "source": [
    "fig,ax = plt.subplots(figsize=(20,10))\n",
    "sns.barplot(x='ZipCode',y='population',hue='Sex',data=sqldf(\"select ZipCode, MalePopulation as population, 'Male' as Sex from zip_info_df union select ZipCode,FemalePopulation,'Female' from zip_info_df;\"),palette='hls',ax= ax)\n"
   ]
  },
  {
   "source": [
    "***\n",
    "#  Part 5: Clustering Algorithms \n",
    "***"
   ],
   "cell_type": "markdown",
   "metadata": {}
  },
  {
   "source": [
    "### Weight the observations"
   ],
   "cell_type": "markdown",
   "metadata": {}
  },
  {
   "source": [
    "sql to combine dataframes"
   ],
   "cell_type": "markdown",
   "metadata": {}
  },
  {
   "cell_type": "code",
   "execution_count": 45,
   "metadata": {},
   "outputs": [
    {
     "output_type": "execute_result",
     "data": {
      "text/plain": [
       "   ZipCode   Latitude  Longitude  Elevation  HouseholdsperZIPCode  \\\n",
       "0    43081  40.106049 -82.898116        873                 22754   \n",
       "1    43085  40.100474 -83.013908        905                  9768   \n",
       "2    43201  39.995575 -82.999464        784                 14697   \n",
       "3    43202  40.020272 -83.017128        724                  9952   \n",
       "4    43203  39.971834 -82.966754        821                  3533   \n",
       "\n",
       "   AverageHouseValue  AvgIncomePerHousehold  PersonsPerHousehold  \\\n",
       "0             197800                  81813                 2.39   \n",
       "1             247500                  83524                 2.36   \n",
       "2             240700                  31891                 2.24   \n",
       "3             208300                  53331                 2.03   \n",
       "4              89400                  28072                 2.25   \n",
       "\n",
       "   WhitePopulation  MedianAge  ...  NumberofBusinesses  #ofEmployees  ZipCode  \\\n",
       "0          44028.0       35.7  ...                1318       26535.0    43081   \n",
       "1          21875.0       39.3  ...                 977       18862.0    43085   \n",
       "2          22977.0       22.5  ...                 630        8374.0    43201   \n",
       "3          16923.0       27.5  ...                 275        5065.0    43202   \n",
       "4            988.0       31.1  ...                 110        1021.0    43203   \n",
       "\n",
       "   Population  CaseCountCumulative  CaseCount30  CaseCount14  \\\n",
       "0     61572.0               3731.0        969.0        389.0   \n",
       "1     26216.0               1453.0        399.0        145.0   \n",
       "2     33455.0               3924.0        385.0        137.0   \n",
       "3     21141.0               1088.0        245.0         88.0   \n",
       "4      8368.0                528.0         99.0         25.0   \n",
       "\n",
       "   CaseCountPer100KCumulative  CaseCountPer100K30  CaseCountPer100K14  \n",
       "0                      6059.6              1573.8               631.8  \n",
       "1                      5542.4              1522.0               553.1  \n",
       "2                     11729.2              1150.8               409.5  \n",
       "3                      5146.4              1158.9               416.3  \n",
       "4                      6309.8              1183.1               298.8  \n",
       "\n",
       "[5 rows x 28 columns]"
      ],
      "text/html": "<div>\n<style scoped>\n    .dataframe tbody tr th:only-of-type {\n        vertical-align: middle;\n    }\n\n    .dataframe tbody tr th {\n        vertical-align: top;\n    }\n\n    .dataframe thead th {\n        text-align: right;\n    }\n</style>\n<table border=\"1\" class=\"dataframe\">\n  <thead>\n    <tr style=\"text-align: right;\">\n      <th></th>\n      <th>ZipCode</th>\n      <th>Latitude</th>\n      <th>Longitude</th>\n      <th>Elevation</th>\n      <th>HouseholdsperZIPCode</th>\n      <th>AverageHouseValue</th>\n      <th>AvgIncomePerHousehold</th>\n      <th>PersonsPerHousehold</th>\n      <th>WhitePopulation</th>\n      <th>MedianAge</th>\n      <th>...</th>\n      <th>NumberofBusinesses</th>\n      <th>#ofEmployees</th>\n      <th>ZipCode</th>\n      <th>Population</th>\n      <th>CaseCountCumulative</th>\n      <th>CaseCount30</th>\n      <th>CaseCount14</th>\n      <th>CaseCountPer100KCumulative</th>\n      <th>CaseCountPer100K30</th>\n      <th>CaseCountPer100K14</th>\n    </tr>\n  </thead>\n  <tbody>\n    <tr>\n      <th>0</th>\n      <td>43081</td>\n      <td>40.106049</td>\n      <td>-82.898116</td>\n      <td>873</td>\n      <td>22754</td>\n      <td>197800</td>\n      <td>81813</td>\n      <td>2.39</td>\n      <td>44028.0</td>\n      <td>35.7</td>\n      <td>...</td>\n      <td>1318</td>\n      <td>26535.0</td>\n      <td>43081</td>\n      <td>61572.0</td>\n      <td>3731.0</td>\n      <td>969.0</td>\n      <td>389.0</td>\n      <td>6059.6</td>\n      <td>1573.8</td>\n      <td>631.8</td>\n    </tr>\n    <tr>\n      <th>1</th>\n      <td>43085</td>\n      <td>40.100474</td>\n      <td>-83.013908</td>\n      <td>905</td>\n      <td>9768</td>\n      <td>247500</td>\n      <td>83524</td>\n      <td>2.36</td>\n      <td>21875.0</td>\n      <td>39.3</td>\n      <td>...</td>\n      <td>977</td>\n      <td>18862.0</td>\n      <td>43085</td>\n      <td>26216.0</td>\n      <td>1453.0</td>\n      <td>399.0</td>\n      <td>145.0</td>\n      <td>5542.4</td>\n      <td>1522.0</td>\n      <td>553.1</td>\n    </tr>\n    <tr>\n      <th>2</th>\n      <td>43201</td>\n      <td>39.995575</td>\n      <td>-82.999464</td>\n      <td>784</td>\n      <td>14697</td>\n      <td>240700</td>\n      <td>31891</td>\n      <td>2.24</td>\n      <td>22977.0</td>\n      <td>22.5</td>\n      <td>...</td>\n      <td>630</td>\n      <td>8374.0</td>\n      <td>43201</td>\n      <td>33455.0</td>\n      <td>3924.0</td>\n      <td>385.0</td>\n      <td>137.0</td>\n      <td>11729.2</td>\n      <td>1150.8</td>\n      <td>409.5</td>\n    </tr>\n    <tr>\n      <th>3</th>\n      <td>43202</td>\n      <td>40.020272</td>\n      <td>-83.017128</td>\n      <td>724</td>\n      <td>9952</td>\n      <td>208300</td>\n      <td>53331</td>\n      <td>2.03</td>\n      <td>16923.0</td>\n      <td>27.5</td>\n      <td>...</td>\n      <td>275</td>\n      <td>5065.0</td>\n      <td>43202</td>\n      <td>21141.0</td>\n      <td>1088.0</td>\n      <td>245.0</td>\n      <td>88.0</td>\n      <td>5146.4</td>\n      <td>1158.9</td>\n      <td>416.3</td>\n    </tr>\n    <tr>\n      <th>4</th>\n      <td>43203</td>\n      <td>39.971834</td>\n      <td>-82.966754</td>\n      <td>821</td>\n      <td>3533</td>\n      <td>89400</td>\n      <td>28072</td>\n      <td>2.25</td>\n      <td>988.0</td>\n      <td>31.1</td>\n      <td>...</td>\n      <td>110</td>\n      <td>1021.0</td>\n      <td>43203</td>\n      <td>8368.0</td>\n      <td>528.0</td>\n      <td>99.0</td>\n      <td>25.0</td>\n      <td>6309.8</td>\n      <td>1183.1</td>\n      <td>298.8</td>\n    </tr>\n  </tbody>\n</table>\n<p>5 rows × 28 columns</p>\n</div>"
     },
     "metadata": {},
     "execution_count": 45
    }
   ],
   "source": [
    "grand_zip_df = sqldf(\"SELECT zip_info_df.*, zip_cases_df.* from zip_info_df INNER JOIN zip_cases_df on zip_cases_df.ZipCode = zip_info_df.ZipCode;\").drop(columns=['CurrentPopulation'])\n",
    "population = grand_zip_df.Population\n",
    "#grand_zip_df = grand_zip_df.drop(columns=['Population'])\n",
    "grand_zip_df.head()"
   ]
  },
  {
   "source": [
    "https://stackoverflow.com/questions/45025056/how-to-perform-cluster-with-weights-density-in-python-something-like-kmeans-wit/45111434"
   ],
   "cell_type": "markdown",
   "metadata": {}
  },
  {
   "cell_type": "code",
   "execution_count": 46,
   "metadata": {},
   "outputs": [
    {
     "output_type": "stream",
     "name": "stdout",
     "text": [
      "0.3307328933886002\nCaseCount30                   0.889741\nCaseCount14                   0.873361\nCaseCountPer100KCumulative    0.249410\nCaseCountPer100K30           -0.040930\nLongitude                     0.072284\nElevation                     0.365894\nHouseholdsperZIPCode          0.894270\nAverageHouseValue             0.079883\nAvgIncomePerHousehold         0.117234\nPersonsPerHousehold          -0.052258\nWhitePopulation               0.283535\nMedianAge                     0.065030\nMalePopulation                0.330733\nFemalePopulation              0.364976\nBlackPopulation               0.426099\nHispanicPopulation            0.637523\nRetiredWorkers                0.716403\nDisabledWorkers               0.552590\nSpouses                       0.560233\nChildren                      0.616543\nNumberofBusinesses            0.484317\n#ofEmployees                  0.049946\nPopulation                    0.916202\ndtype: float64\n"
     ]
    }
   ],
   "source": [
    "corr_arr = grand_zip_df.corrwith(grand_zip_df.CaseCountCumulative)\n",
    "INDEXARRAY = np.concatenate((np.arange(-5,-1),np.arange(2,len(corr_arr)-6)))\n",
    "print(corr_arr[10])\n",
    "print(corr_arr[INDEXARRAY])"
   ]
  },
  {
   "source": [
    "import packages"
   ],
   "cell_type": "markdown",
   "metadata": {}
  },
  {
   "cell_type": "code",
   "execution_count": 47,
   "metadata": {},
   "outputs": [],
   "source": [
    "from scipy.cluster.hierarchy import linkage, cut_tree,dendrogram\n",
    "from sklearn.cluster import AgglomerativeClustering"
   ]
  },
  {
   "source": [
    "Metric function\n",
    "\n",
    "This uses haversine formula"
   ],
   "cell_type": "markdown",
   "metadata": {}
  },
  {
   "cell_type": "code",
   "execution_count": 48,
   "metadata": {},
   "outputs": [],
   "source": [
    "def custom_metric(central_1, central_2, weight=1):\n",
    "    lat1, lng1 = central_1[1:3]\n",
    "    lat2, lng2 = central_2[1:3]\n",
    "    lat1, lat2, lng1, lng2 = np.deg2rad(np.asarray([lat1, lat2, lng1, lng2]))\n",
    "\n",
    "    dlat = lat2 - lat1\n",
    "    dlng = lng2 - lng1\n",
    "    \n",
    "    h = (1 - np.cos(dlat))/2. + np.cos(lat1)*np.cos(lat2)*(1 - np.cos(dlng))/2.\n",
    "    km = 2*6371*np.arcsin(np.sqrt(h)) #2 and 6371 are constants that should be there\n",
    "    MW = np.abs(central_1[INDEXARRAY] - central_2[INDEXARRAY])\n",
    "    \n",
    "    return km + np.sum(np.multiply(MW,corr_arr[INDEXARRAY]))"
   ]
  },
  {
   "cell_type": "code",
   "execution_count": 49,
   "metadata": {
    "tags": []
   },
   "outputs": [],
   "source": [
    "Z = linkage(grand_zip_df, method='average', metric=custom_metric)"
   ]
  },
  {
   "cell_type": "code",
   "execution_count": 50,
   "metadata": {},
   "outputs": [
    {
     "output_type": "execute_result",
     "data": {
      "text/plain": [
       "{'icoord': [[15.0, 15.0, 25.0, 25.0],\n",
       "  [35.0, 35.0, 45.0, 45.0],\n",
       "  [65.0, 65.0, 75.0, 75.0],\n",
       "  [85.0, 85.0, 95.0, 95.0],\n",
       "  [70.0, 70.0, 90.0, 90.0],\n",
       "  [55.0, 55.0, 80.0, 80.0],\n",
       "  [40.0, 40.0, 67.5, 67.5],\n",
       "  [20.0, 20.0, 53.75, 53.75],\n",
       "  [145.0, 145.0, 155.0, 155.0],\n",
       "  [135.0, 135.0, 150.0, 150.0],\n",
       "  [125.0, 125.0, 142.5, 142.5],\n",
       "  [115.0, 115.0, 133.75, 133.75],\n",
       "  [165.0, 165.0, 175.0, 175.0],\n",
       "  [124.375, 124.375, 170.0, 170.0],\n",
       "  [185.0, 185.0, 195.0, 195.0],\n",
       "  [147.1875, 147.1875, 190.0, 190.0],\n",
       "  [105.0, 105.0, 168.59375, 168.59375],\n",
       "  [215.0, 215.0, 225.0, 225.0],\n",
       "  [205.0, 205.0, 220.0, 220.0],\n",
       "  [255.0, 255.0, 265.0, 265.0],\n",
       "  [245.0, 245.0, 260.0, 260.0],\n",
       "  [235.0, 235.0, 252.5, 252.5],\n",
       "  [212.5, 212.5, 243.75, 243.75],\n",
       "  [295.0, 295.0, 305.0, 305.0],\n",
       "  [285.0, 285.0, 300.0, 300.0],\n",
       "  [275.0, 275.0, 292.5, 292.5],\n",
       "  [228.125, 228.125, 283.75, 283.75],\n",
       "  [136.796875, 136.796875, 255.9375, 255.9375],\n",
       "  [36.875, 36.875, 196.3671875, 196.3671875],\n",
       "  [5.0, 5.0, 116.62109375, 116.62109375]],\n",
       " 'dcoord': [[0.0, 6678.648202881861, 6678.648202881861, 0.0],\n",
       "  [0.0, 12939.125197644915, 12939.125197644915, 0.0],\n",
       "  [0.0, 7827.691537819816, 7827.691537819816, 0.0],\n",
       "  [0.0, 10223.281811023318, 10223.281811023318, 0.0],\n",
       "  [7827.691537819816,\n",
       "   13170.533465794453,\n",
       "   13170.533465794453,\n",
       "   10223.281811023318],\n",
       "  [0.0, 15546.420761389854, 15546.420761389854, 13170.533465794453],\n",
       "  [12939.125197644915,\n",
       "   19589.753152137775,\n",
       "   19589.753152137775,\n",
       "   15546.420761389854],\n",
       "  [6678.648202881861,\n",
       "   31288.092268336895,\n",
       "   31288.092268336895,\n",
       "   19589.753152137775],\n",
       "  [0.0, 5074.83255337389, 5074.83255337389, 0.0],\n",
       "  [0.0, 8820.073934818316, 8820.073934818316, 5074.83255337389],\n",
       "  [0.0, 10477.120723912501, 10477.120723912501, 8820.073934818316],\n",
       "  [0.0, 12877.330009711439, 12877.330009711439, 10477.120723912501],\n",
       "  [0.0, 15793.753632643755, 15793.753632643755, 0.0],\n",
       "  [12877.330009711439,\n",
       "   17268.497743344575,\n",
       "   17268.497743344575,\n",
       "   15793.753632643755],\n",
       "  [0.0, 19524.995025612287, 19524.995025612287, 0.0],\n",
       "  [17268.497743344575,\n",
       "   20321.963077950764,\n",
       "   20321.963077950764,\n",
       "   19524.995025612287],\n",
       "  [0.0, 25275.451631857988, 25275.451631857988, 20321.963077950764],\n",
       "  [0.0, 6659.01442265517, 6659.01442265517, 0.0],\n",
       "  [0.0, 13536.27695520844, 13536.27695520844, 6659.01442265517],\n",
       "  [0.0, 6287.537259760693, 6287.537259760693, 0.0],\n",
       "  [0.0, 12929.09871860486, 12929.09871860486, 6287.537259760693],\n",
       "  [0.0, 16038.456153763373, 16038.456153763373, 12929.09871860486],\n",
       "  [13536.27695520844,\n",
       "   18637.001225970398,\n",
       "   18637.001225970398,\n",
       "   16038.456153763373],\n",
       "  [0.0, 7876.105626182982, 7876.105626182982, 0.0],\n",
       "  [0.0, 11178.34516508551, 11178.34516508551, 7876.105626182982],\n",
       "  [0.0, 20170.809187925315, 20170.809187925315, 11178.34516508551],\n",
       "  [18637.001225970398,\n",
       "   28964.754552575694,\n",
       "   28964.754552575694,\n",
       "   20170.809187925315],\n",
       "  [25275.451631857988,\n",
       "   36664.66953914477,\n",
       "   36664.66953914477,\n",
       "   28964.754552575694],\n",
       "  [31288.092268336895,\n",
       "   41830.819498668716,\n",
       "   41830.819498668716,\n",
       "   36664.66953914477],\n",
       "  [0.0, 128493.1619747369, 128493.1619747369, 41830.819498668716]],\n",
       " 'ivl': ['10',\n",
       "  '0',\n",
       "  '26',\n",
       "  '24',\n",
       "  '25',\n",
       "  '13',\n",
       "  '22',\n",
       "  '28',\n",
       "  '5',\n",
       "  '8',\n",
       "  '15',\n",
       "  '19',\n",
       "  '9',\n",
       "  '18',\n",
       "  '1',\n",
       "  '14',\n",
       "  '3',\n",
       "  '12',\n",
       "  '2',\n",
       "  '29',\n",
       "  '6',\n",
       "  '7',\n",
       "  '27',\n",
       "  '17',\n",
       "  '21',\n",
       "  '11',\n",
       "  '23',\n",
       "  '30',\n",
       "  '4',\n",
       "  '16',\n",
       "  '20'],\n",
       " 'leaves': [10,\n",
       "  0,\n",
       "  26,\n",
       "  24,\n",
       "  25,\n",
       "  13,\n",
       "  22,\n",
       "  28,\n",
       "  5,\n",
       "  8,\n",
       "  15,\n",
       "  19,\n",
       "  9,\n",
       "  18,\n",
       "  1,\n",
       "  14,\n",
       "  3,\n",
       "  12,\n",
       "  2,\n",
       "  29,\n",
       "  6,\n",
       "  7,\n",
       "  27,\n",
       "  17,\n",
       "  21,\n",
       "  11,\n",
       "  23,\n",
       "  30,\n",
       "  4,\n",
       "  16,\n",
       "  20],\n",
       " 'color_list': ['C1',\n",
       "  'C1',\n",
       "  'C1',\n",
       "  'C1',\n",
       "  'C1',\n",
       "  'C1',\n",
       "  'C1',\n",
       "  'C1',\n",
       "  'C1',\n",
       "  'C1',\n",
       "  'C1',\n",
       "  'C1',\n",
       "  'C1',\n",
       "  'C1',\n",
       "  'C1',\n",
       "  'C1',\n",
       "  'C1',\n",
       "  'C1',\n",
       "  'C1',\n",
       "  'C1',\n",
       "  'C1',\n",
       "  'C1',\n",
       "  'C1',\n",
       "  'C1',\n",
       "  'C1',\n",
       "  'C1',\n",
       "  'C1',\n",
       "  'C1',\n",
       "  'C1',\n",
       "  'C0']}"
      ]
     },
     "metadata": {},
     "execution_count": 50
    },
    {
     "output_type": "display_data",
     "data": {
      "text/plain": "<Figure size 432x288 with 1 Axes>",
      "image/svg+xml": "<?xml version=\"1.0\" encoding=\"utf-8\" standalone=\"no\"?>\r\n<!DOCTYPE svg PUBLIC \"-//W3C//DTD SVG 1.1//EN\"\r\n  \"http://www.w3.org/Graphics/SVG/1.1/DTD/svg11.dtd\">\r\n<!-- Created with matplotlib (https://matplotlib.org/) -->\r\n<svg height=\"251.513121pt\" version=\"1.1\" viewBox=\"0 0 395.311561 251.513121\" width=\"395.311561pt\" xmlns=\"http://www.w3.org/2000/svg\" xmlns:xlink=\"http://www.w3.org/1999/xlink\">\r\n <metadata>\r\n  <rdf:RDF xmlns:cc=\"http://creativecommons.org/ns#\" xmlns:dc=\"http://purl.org/dc/elements/1.1/\" xmlns:rdf=\"http://www.w3.org/1999/02/22-rdf-syntax-ns#\">\r\n   <cc:Work>\r\n    <dc:type rdf:resource=\"http://purl.org/dc/dcmitype/StillImage\"/>\r\n    <dc:date>2021-01-04T13:51:47.736289</dc:date>\r\n    <dc:format>image/svg+xml</dc:format>\r\n    <dc:creator>\r\n     <cc:Agent>\r\n      <dc:title>Matplotlib v3.3.1, https://matplotlib.org/</dc:title>\r\n     </cc:Agent>\r\n    </dc:creator>\r\n   </cc:Work>\r\n  </rdf:RDF>\r\n </metadata>\r\n <defs>\r\n  <style type=\"text/css\">*{stroke-linecap:butt;stroke-linejoin:round;}</style>\r\n </defs>\r\n <g id=\"figure_1\">\r\n  <g id=\"patch_1\">\r\n   <path d=\"M 0 251.513121 \r\nL 395.311561 251.513121 \r\nL 395.311561 0 \r\nL 0 0 \r\nz\r\n\" style=\"fill:none;\"/>\r\n  </g>\r\n  <g id=\"axes_1\">\r\n   <g id=\"patch_2\">\r\n    <path d=\"M 52.375 224.64 \r\nL 387.175 224.64 \r\nL 387.175 7.2 \r\nL 52.375 7.2 \r\nz\r\n\" style=\"fill:#ffffff;\"/>\r\n   </g>\r\n   <g id=\"matplotlib.axis_1\">\r\n    <g id=\"xtick_1\">\r\n     <g id=\"text_1\">\r\n      <!-- 10 -->\r\n      <g transform=\"translate(55.736765 243.136672)rotate(-45)scale(0.08 -0.08)\">\r\n       <defs>\r\n        <path d=\"M 12.40625 8.296875 \r\nL 28.515625 8.296875 \r\nL 28.515625 63.921875 \r\nL 10.984375 60.40625 \r\nL 10.984375 69.390625 \r\nL 28.421875 72.90625 \r\nL 38.28125 72.90625 \r\nL 38.28125 8.296875 \r\nL 54.390625 8.296875 \r\nL 54.390625 0 \r\nL 12.40625 0 \r\nz\r\n\" id=\"DejaVuSans-49\"/>\r\n        <path d=\"M 31.78125 66.40625 \r\nQ 24.171875 66.40625 20.328125 58.90625 \r\nQ 16.5 51.421875 16.5 36.375 \r\nQ 16.5 21.390625 20.328125 13.890625 \r\nQ 24.171875 6.390625 31.78125 6.390625 \r\nQ 39.453125 6.390625 43.28125 13.890625 \r\nQ 47.125 21.390625 47.125 36.375 \r\nQ 47.125 51.421875 43.28125 58.90625 \r\nQ 39.453125 66.40625 31.78125 66.40625 \r\nz\r\nM 31.78125 74.21875 \r\nQ 44.046875 74.21875 50.515625 64.515625 \r\nQ 56.984375 54.828125 56.984375 36.375 \r\nQ 56.984375 17.96875 50.515625 8.265625 \r\nQ 44.046875 -1.421875 31.78125 -1.421875 \r\nQ 19.53125 -1.421875 13.0625 8.265625 \r\nQ 6.59375 17.96875 6.59375 36.375 \r\nQ 6.59375 54.828125 13.0625 64.515625 \r\nQ 19.53125 74.21875 31.78125 74.21875 \r\nz\r\n\" id=\"DejaVuSans-48\"/>\r\n       </defs>\r\n       <use xlink:href=\"#DejaVuSans-49\"/>\r\n       <use x=\"63.623047\" xlink:href=\"#DejaVuSans-48\"/>\r\n      </g>\r\n     </g>\r\n    </g>\r\n    <g id=\"xtick_2\">\r\n     <g id=\"text_2\">\r\n      <!-- 0 -->\r\n      <g transform=\"translate(68.336351 239.537499)rotate(-45)scale(0.08 -0.08)\">\r\n       <use xlink:href=\"#DejaVuSans-48\"/>\r\n      </g>\r\n     </g>\r\n    </g>\r\n    <g id=\"xtick_3\">\r\n     <g id=\"text_3\">\r\n      <!-- 26 -->\r\n      <g transform=\"translate(77.336765 243.136672)rotate(-45)scale(0.08 -0.08)\">\r\n       <defs>\r\n        <path d=\"M 19.1875 8.296875 \r\nL 53.609375 8.296875 \r\nL 53.609375 0 \r\nL 7.328125 0 \r\nL 7.328125 8.296875 \r\nQ 12.9375 14.109375 22.625 23.890625 \r\nQ 32.328125 33.6875 34.8125 36.53125 \r\nQ 39.546875 41.84375 41.421875 45.53125 \r\nQ 43.3125 49.21875 43.3125 52.78125 \r\nQ 43.3125 58.59375 39.234375 62.25 \r\nQ 35.15625 65.921875 28.609375 65.921875 \r\nQ 23.96875 65.921875 18.8125 64.3125 \r\nQ 13.671875 62.703125 7.8125 59.421875 \r\nL 7.8125 69.390625 \r\nQ 13.765625 71.78125 18.9375 73 \r\nQ 24.125 74.21875 28.421875 74.21875 \r\nQ 39.75 74.21875 46.484375 68.546875 \r\nQ 53.21875 62.890625 53.21875 53.421875 \r\nQ 53.21875 48.921875 51.53125 44.890625 \r\nQ 49.859375 40.875 45.40625 35.40625 \r\nQ 44.1875 33.984375 37.640625 27.21875 \r\nQ 31.109375 20.453125 19.1875 8.296875 \r\nz\r\n\" id=\"DejaVuSans-50\"/>\r\n        <path d=\"M 33.015625 40.375 \r\nQ 26.375 40.375 22.484375 35.828125 \r\nQ 18.609375 31.296875 18.609375 23.390625 \r\nQ 18.609375 15.53125 22.484375 10.953125 \r\nQ 26.375 6.390625 33.015625 6.390625 \r\nQ 39.65625 6.390625 43.53125 10.953125 \r\nQ 47.40625 15.53125 47.40625 23.390625 \r\nQ 47.40625 31.296875 43.53125 35.828125 \r\nQ 39.65625 40.375 33.015625 40.375 \r\nz\r\nM 52.59375 71.296875 \r\nL 52.59375 62.3125 \r\nQ 48.875 64.0625 45.09375 64.984375 \r\nQ 41.3125 65.921875 37.59375 65.921875 \r\nQ 27.828125 65.921875 22.671875 59.328125 \r\nQ 17.53125 52.734375 16.796875 39.40625 \r\nQ 19.671875 43.65625 24.015625 45.921875 \r\nQ 28.375 48.1875 33.59375 48.1875 \r\nQ 44.578125 48.1875 50.953125 41.515625 \r\nQ 57.328125 34.859375 57.328125 23.390625 \r\nQ 57.328125 12.15625 50.6875 5.359375 \r\nQ 44.046875 -1.421875 33.015625 -1.421875 \r\nQ 20.359375 -1.421875 13.671875 8.265625 \r\nQ 6.984375 17.96875 6.984375 36.375 \r\nQ 6.984375 53.65625 15.1875 63.9375 \r\nQ 23.390625 74.21875 37.203125 74.21875 \r\nQ 40.921875 74.21875 44.703125 73.484375 \r\nQ 48.484375 72.75 52.59375 71.296875 \r\nz\r\n\" id=\"DejaVuSans-54\"/>\r\n       </defs>\r\n       <use xlink:href=\"#DejaVuSans-50\"/>\r\n       <use x=\"63.623047\" xlink:href=\"#DejaVuSans-54\"/>\r\n      </g>\r\n     </g>\r\n    </g>\r\n    <g id=\"xtick_4\">\r\n     <g id=\"text_4\">\r\n      <!-- 24 -->\r\n      <g transform=\"translate(88.136765 243.136672)rotate(-45)scale(0.08 -0.08)\">\r\n       <defs>\r\n        <path d=\"M 37.796875 64.3125 \r\nL 12.890625 25.390625 \r\nL 37.796875 25.390625 \r\nz\r\nM 35.203125 72.90625 \r\nL 47.609375 72.90625 \r\nL 47.609375 25.390625 \r\nL 58.015625 25.390625 \r\nL 58.015625 17.1875 \r\nL 47.609375 17.1875 \r\nL 47.609375 0 \r\nL 37.796875 0 \r\nL 37.796875 17.1875 \r\nL 4.890625 17.1875 \r\nL 4.890625 26.703125 \r\nz\r\n\" id=\"DejaVuSans-52\"/>\r\n       </defs>\r\n       <use xlink:href=\"#DejaVuSans-50\"/>\r\n       <use x=\"63.623047\" xlink:href=\"#DejaVuSans-52\"/>\r\n      </g>\r\n     </g>\r\n    </g>\r\n    <g id=\"xtick_5\">\r\n     <g id=\"text_5\">\r\n      <!-- 25 -->\r\n      <g transform=\"translate(98.936765 243.136672)rotate(-45)scale(0.08 -0.08)\">\r\n       <defs>\r\n        <path d=\"M 10.796875 72.90625 \r\nL 49.515625 72.90625 \r\nL 49.515625 64.59375 \r\nL 19.828125 64.59375 \r\nL 19.828125 46.734375 \r\nQ 21.96875 47.46875 24.109375 47.828125 \r\nQ 26.265625 48.1875 28.421875 48.1875 \r\nQ 40.625 48.1875 47.75 41.5 \r\nQ 54.890625 34.8125 54.890625 23.390625 \r\nQ 54.890625 11.625 47.5625 5.09375 \r\nQ 40.234375 -1.421875 26.90625 -1.421875 \r\nQ 22.3125 -1.421875 17.546875 -0.640625 \r\nQ 12.796875 0.140625 7.71875 1.703125 \r\nL 7.71875 11.625 \r\nQ 12.109375 9.234375 16.796875 8.0625 \r\nQ 21.484375 6.890625 26.703125 6.890625 \r\nQ 35.15625 6.890625 40.078125 11.328125 \r\nQ 45.015625 15.765625 45.015625 23.390625 \r\nQ 45.015625 31 40.078125 35.4375 \r\nQ 35.15625 39.890625 26.703125 39.890625 \r\nQ 22.75 39.890625 18.8125 39.015625 \r\nQ 14.890625 38.140625 10.796875 36.28125 \r\nz\r\n\" id=\"DejaVuSans-53\"/>\r\n       </defs>\r\n       <use xlink:href=\"#DejaVuSans-50\"/>\r\n       <use x=\"63.623047\" xlink:href=\"#DejaVuSans-53\"/>\r\n      </g>\r\n     </g>\r\n    </g>\r\n    <g id=\"xtick_6\">\r\n     <g id=\"text_6\">\r\n      <!-- 13 -->\r\n      <g transform=\"translate(109.736765 243.136672)rotate(-45)scale(0.08 -0.08)\">\r\n       <defs>\r\n        <path d=\"M 40.578125 39.3125 \r\nQ 47.65625 37.796875 51.625 33 \r\nQ 55.609375 28.21875 55.609375 21.1875 \r\nQ 55.609375 10.40625 48.1875 4.484375 \r\nQ 40.765625 -1.421875 27.09375 -1.421875 \r\nQ 22.515625 -1.421875 17.65625 -0.515625 \r\nQ 12.796875 0.390625 7.625 2.203125 \r\nL 7.625 11.71875 \r\nQ 11.71875 9.328125 16.59375 8.109375 \r\nQ 21.484375 6.890625 26.8125 6.890625 \r\nQ 36.078125 6.890625 40.9375 10.546875 \r\nQ 45.796875 14.203125 45.796875 21.1875 \r\nQ 45.796875 27.640625 41.28125 31.265625 \r\nQ 36.765625 34.90625 28.71875 34.90625 \r\nL 20.21875 34.90625 \r\nL 20.21875 43.015625 \r\nL 29.109375 43.015625 \r\nQ 36.375 43.015625 40.234375 45.921875 \r\nQ 44.09375 48.828125 44.09375 54.296875 \r\nQ 44.09375 59.90625 40.109375 62.90625 \r\nQ 36.140625 65.921875 28.71875 65.921875 \r\nQ 24.65625 65.921875 20.015625 65.03125 \r\nQ 15.375 64.15625 9.8125 62.3125 \r\nL 9.8125 71.09375 \r\nQ 15.4375 72.65625 20.34375 73.4375 \r\nQ 25.25 74.21875 29.59375 74.21875 \r\nQ 40.828125 74.21875 47.359375 69.109375 \r\nQ 53.90625 64.015625 53.90625 55.328125 \r\nQ 53.90625 49.265625 50.4375 45.09375 \r\nQ 46.96875 40.921875 40.578125 39.3125 \r\nz\r\n\" id=\"DejaVuSans-51\"/>\r\n       </defs>\r\n       <use xlink:href=\"#DejaVuSans-49\"/>\r\n       <use x=\"63.623047\" xlink:href=\"#DejaVuSans-51\"/>\r\n      </g>\r\n     </g>\r\n    </g>\r\n    <g id=\"xtick_7\">\r\n     <g id=\"text_7\">\r\n      <!-- 22 -->\r\n      <g transform=\"translate(120.536765 243.136672)rotate(-45)scale(0.08 -0.08)\">\r\n       <use xlink:href=\"#DejaVuSans-50\"/>\r\n       <use x=\"63.623047\" xlink:href=\"#DejaVuSans-50\"/>\r\n      </g>\r\n     </g>\r\n    </g>\r\n    <g id=\"xtick_8\">\r\n     <g id=\"text_8\">\r\n      <!-- 28 -->\r\n      <g transform=\"translate(131.336765 243.136672)rotate(-45)scale(0.08 -0.08)\">\r\n       <defs>\r\n        <path d=\"M 31.78125 34.625 \r\nQ 24.75 34.625 20.71875 30.859375 \r\nQ 16.703125 27.09375 16.703125 20.515625 \r\nQ 16.703125 13.921875 20.71875 10.15625 \r\nQ 24.75 6.390625 31.78125 6.390625 \r\nQ 38.8125 6.390625 42.859375 10.171875 \r\nQ 46.921875 13.96875 46.921875 20.515625 \r\nQ 46.921875 27.09375 42.890625 30.859375 \r\nQ 38.875 34.625 31.78125 34.625 \r\nz\r\nM 21.921875 38.8125 \r\nQ 15.578125 40.375 12.03125 44.71875 \r\nQ 8.5 49.078125 8.5 55.328125 \r\nQ 8.5 64.0625 14.71875 69.140625 \r\nQ 20.953125 74.21875 31.78125 74.21875 \r\nQ 42.671875 74.21875 48.875 69.140625 \r\nQ 55.078125 64.0625 55.078125 55.328125 \r\nQ 55.078125 49.078125 51.53125 44.71875 \r\nQ 48 40.375 41.703125 38.8125 \r\nQ 48.828125 37.15625 52.796875 32.3125 \r\nQ 56.78125 27.484375 56.78125 20.515625 \r\nQ 56.78125 9.90625 50.3125 4.234375 \r\nQ 43.84375 -1.421875 31.78125 -1.421875 \r\nQ 19.734375 -1.421875 13.25 4.234375 \r\nQ 6.78125 9.90625 6.78125 20.515625 \r\nQ 6.78125 27.484375 10.78125 32.3125 \r\nQ 14.796875 37.15625 21.921875 38.8125 \r\nz\r\nM 18.3125 54.390625 \r\nQ 18.3125 48.734375 21.84375 45.5625 \r\nQ 25.390625 42.390625 31.78125 42.390625 \r\nQ 38.140625 42.390625 41.71875 45.5625 \r\nQ 45.3125 48.734375 45.3125 54.390625 \r\nQ 45.3125 60.0625 41.71875 63.234375 \r\nQ 38.140625 66.40625 31.78125 66.40625 \r\nQ 25.390625 66.40625 21.84375 63.234375 \r\nQ 18.3125 60.0625 18.3125 54.390625 \r\nz\r\n\" id=\"DejaVuSans-56\"/>\r\n       </defs>\r\n       <use xlink:href=\"#DejaVuSans-50\"/>\r\n       <use x=\"63.623047\" xlink:href=\"#DejaVuSans-56\"/>\r\n      </g>\r\n     </g>\r\n    </g>\r\n    <g id=\"xtick_9\">\r\n     <g id=\"text_9\">\r\n      <!-- 5 -->\r\n      <g transform=\"translate(143.936351 239.537499)rotate(-45)scale(0.08 -0.08)\">\r\n       <use xlink:href=\"#DejaVuSans-53\"/>\r\n      </g>\r\n     </g>\r\n    </g>\r\n    <g id=\"xtick_10\">\r\n     <g id=\"text_10\">\r\n      <!-- 8 -->\r\n      <g transform=\"translate(154.736351 239.537499)rotate(-45)scale(0.08 -0.08)\">\r\n       <use xlink:href=\"#DejaVuSans-56\"/>\r\n      </g>\r\n     </g>\r\n    </g>\r\n    <g id=\"xtick_11\">\r\n     <g id=\"text_11\">\r\n      <!-- 15 -->\r\n      <g transform=\"translate(163.736765 243.136672)rotate(-45)scale(0.08 -0.08)\">\r\n       <use xlink:href=\"#DejaVuSans-49\"/>\r\n       <use x=\"63.623047\" xlink:href=\"#DejaVuSans-53\"/>\r\n      </g>\r\n     </g>\r\n    </g>\r\n    <g id=\"xtick_12\">\r\n     <g id=\"text_12\">\r\n      <!-- 19 -->\r\n      <g transform=\"translate(174.536765 243.136672)rotate(-45)scale(0.08 -0.08)\">\r\n       <defs>\r\n        <path d=\"M 10.984375 1.515625 \r\nL 10.984375 10.5 \r\nQ 14.703125 8.734375 18.5 7.8125 \r\nQ 22.3125 6.890625 25.984375 6.890625 \r\nQ 35.75 6.890625 40.890625 13.453125 \r\nQ 46.046875 20.015625 46.78125 33.40625 \r\nQ 43.953125 29.203125 39.59375 26.953125 \r\nQ 35.25 24.703125 29.984375 24.703125 \r\nQ 19.046875 24.703125 12.671875 31.3125 \r\nQ 6.296875 37.9375 6.296875 49.421875 \r\nQ 6.296875 60.640625 12.9375 67.421875 \r\nQ 19.578125 74.21875 30.609375 74.21875 \r\nQ 43.265625 74.21875 49.921875 64.515625 \r\nQ 56.59375 54.828125 56.59375 36.375 \r\nQ 56.59375 19.140625 48.40625 8.859375 \r\nQ 40.234375 -1.421875 26.421875 -1.421875 \r\nQ 22.703125 -1.421875 18.890625 -0.6875 \r\nQ 15.09375 0.046875 10.984375 1.515625 \r\nz\r\nM 30.609375 32.421875 \r\nQ 37.25 32.421875 41.125 36.953125 \r\nQ 45.015625 41.5 45.015625 49.421875 \r\nQ 45.015625 57.28125 41.125 61.84375 \r\nQ 37.25 66.40625 30.609375 66.40625 \r\nQ 23.96875 66.40625 20.09375 61.84375 \r\nQ 16.21875 57.28125 16.21875 49.421875 \r\nQ 16.21875 41.5 20.09375 36.953125 \r\nQ 23.96875 32.421875 30.609375 32.421875 \r\nz\r\n\" id=\"DejaVuSans-57\"/>\r\n       </defs>\r\n       <use xlink:href=\"#DejaVuSans-49\"/>\r\n       <use x=\"63.623047\" xlink:href=\"#DejaVuSans-57\"/>\r\n      </g>\r\n     </g>\r\n    </g>\r\n    <g id=\"xtick_13\">\r\n     <g id=\"text_13\">\r\n      <!-- 9 -->\r\n      <g transform=\"translate(187.136351 239.537499)rotate(-45)scale(0.08 -0.08)\">\r\n       <use xlink:href=\"#DejaVuSans-57\"/>\r\n      </g>\r\n     </g>\r\n    </g>\r\n    <g id=\"xtick_14\">\r\n     <g id=\"text_14\">\r\n      <!-- 18 -->\r\n      <g transform=\"translate(196.136765 243.136672)rotate(-45)scale(0.08 -0.08)\">\r\n       <use xlink:href=\"#DejaVuSans-49\"/>\r\n       <use x=\"63.623047\" xlink:href=\"#DejaVuSans-56\"/>\r\n      </g>\r\n     </g>\r\n    </g>\r\n    <g id=\"xtick_15\">\r\n     <g id=\"text_15\">\r\n      <!-- 1 -->\r\n      <g transform=\"translate(208.736351 239.537499)rotate(-45)scale(0.08 -0.08)\">\r\n       <use xlink:href=\"#DejaVuSans-49\"/>\r\n      </g>\r\n     </g>\r\n    </g>\r\n    <g id=\"xtick_16\">\r\n     <g id=\"text_16\">\r\n      <!-- 14 -->\r\n      <g transform=\"translate(217.736765 243.136672)rotate(-45)scale(0.08 -0.08)\">\r\n       <use xlink:href=\"#DejaVuSans-49\"/>\r\n       <use x=\"63.623047\" xlink:href=\"#DejaVuSans-52\"/>\r\n      </g>\r\n     </g>\r\n    </g>\r\n    <g id=\"xtick_17\">\r\n     <g id=\"text_17\">\r\n      <!-- 3 -->\r\n      <g transform=\"translate(230.336351 239.537499)rotate(-45)scale(0.08 -0.08)\">\r\n       <use xlink:href=\"#DejaVuSans-51\"/>\r\n      </g>\r\n     </g>\r\n    </g>\r\n    <g id=\"xtick_18\">\r\n     <g id=\"text_18\">\r\n      <!-- 12 -->\r\n      <g transform=\"translate(239.336765 243.136672)rotate(-45)scale(0.08 -0.08)\">\r\n       <use xlink:href=\"#DejaVuSans-49\"/>\r\n       <use x=\"63.623047\" xlink:href=\"#DejaVuSans-50\"/>\r\n      </g>\r\n     </g>\r\n    </g>\r\n    <g id=\"xtick_19\">\r\n     <g id=\"text_19\">\r\n      <!-- 2 -->\r\n      <g transform=\"translate(251.936351 239.537499)rotate(-45)scale(0.08 -0.08)\">\r\n       <use xlink:href=\"#DejaVuSans-50\"/>\r\n      </g>\r\n     </g>\r\n    </g>\r\n    <g id=\"xtick_20\">\r\n     <g id=\"text_20\">\r\n      <!-- 29 -->\r\n      <g transform=\"translate(260.936765 243.136672)rotate(-45)scale(0.08 -0.08)\">\r\n       <use xlink:href=\"#DejaVuSans-50\"/>\r\n       <use x=\"63.623047\" xlink:href=\"#DejaVuSans-57\"/>\r\n      </g>\r\n     </g>\r\n    </g>\r\n    <g id=\"xtick_21\">\r\n     <g id=\"text_21\">\r\n      <!-- 6 -->\r\n      <g transform=\"translate(273.536351 239.537499)rotate(-45)scale(0.08 -0.08)\">\r\n       <use xlink:href=\"#DejaVuSans-54\"/>\r\n      </g>\r\n     </g>\r\n    </g>\r\n    <g id=\"xtick_22\">\r\n     <g id=\"text_22\">\r\n      <!-- 7 -->\r\n      <g transform=\"translate(284.336351 239.537499)rotate(-45)scale(0.08 -0.08)\">\r\n       <defs>\r\n        <path d=\"M 8.203125 72.90625 \r\nL 55.078125 72.90625 \r\nL 55.078125 68.703125 \r\nL 28.609375 0 \r\nL 18.3125 0 \r\nL 43.21875 64.59375 \r\nL 8.203125 64.59375 \r\nz\r\n\" id=\"DejaVuSans-55\"/>\r\n       </defs>\r\n       <use xlink:href=\"#DejaVuSans-55\"/>\r\n      </g>\r\n     </g>\r\n    </g>\r\n    <g id=\"xtick_23\">\r\n     <g id=\"text_23\">\r\n      <!-- 27 -->\r\n      <g transform=\"translate(293.336765 243.136672)rotate(-45)scale(0.08 -0.08)\">\r\n       <use xlink:href=\"#DejaVuSans-50\"/>\r\n       <use x=\"63.623047\" xlink:href=\"#DejaVuSans-55\"/>\r\n      </g>\r\n     </g>\r\n    </g>\r\n    <g id=\"xtick_24\">\r\n     <g id=\"text_24\">\r\n      <!-- 17 -->\r\n      <g transform=\"translate(304.136765 243.136672)rotate(-45)scale(0.08 -0.08)\">\r\n       <use xlink:href=\"#DejaVuSans-49\"/>\r\n       <use x=\"63.623047\" xlink:href=\"#DejaVuSans-55\"/>\r\n      </g>\r\n     </g>\r\n    </g>\r\n    <g id=\"xtick_25\">\r\n     <g id=\"text_25\">\r\n      <!-- 21 -->\r\n      <g transform=\"translate(314.936765 243.136672)rotate(-45)scale(0.08 -0.08)\">\r\n       <use xlink:href=\"#DejaVuSans-50\"/>\r\n       <use x=\"63.623047\" xlink:href=\"#DejaVuSans-49\"/>\r\n      </g>\r\n     </g>\r\n    </g>\r\n    <g id=\"xtick_26\">\r\n     <g id=\"text_26\">\r\n      <!-- 11 -->\r\n      <g transform=\"translate(325.736765 243.136672)rotate(-45)scale(0.08 -0.08)\">\r\n       <use xlink:href=\"#DejaVuSans-49\"/>\r\n       <use x=\"63.623047\" xlink:href=\"#DejaVuSans-49\"/>\r\n      </g>\r\n     </g>\r\n    </g>\r\n    <g id=\"xtick_27\">\r\n     <g id=\"text_27\">\r\n      <!-- 23 -->\r\n      <g transform=\"translate(336.536765 243.136672)rotate(-45)scale(0.08 -0.08)\">\r\n       <use xlink:href=\"#DejaVuSans-50\"/>\r\n       <use x=\"63.623047\" xlink:href=\"#DejaVuSans-51\"/>\r\n      </g>\r\n     </g>\r\n    </g>\r\n    <g id=\"xtick_28\">\r\n     <g id=\"text_28\">\r\n      <!-- 30 -->\r\n      <g transform=\"translate(347.336765 243.136672)rotate(-45)scale(0.08 -0.08)\">\r\n       <use xlink:href=\"#DejaVuSans-51\"/>\r\n       <use x=\"63.623047\" xlink:href=\"#DejaVuSans-48\"/>\r\n      </g>\r\n     </g>\r\n    </g>\r\n    <g id=\"xtick_29\">\r\n     <g id=\"text_29\">\r\n      <!-- 4 -->\r\n      <g transform=\"translate(359.936351 239.537499)rotate(-45)scale(0.08 -0.08)\">\r\n       <use xlink:href=\"#DejaVuSans-52\"/>\r\n      </g>\r\n     </g>\r\n    </g>\r\n    <g id=\"xtick_30\">\r\n     <g id=\"text_30\">\r\n      <!-- 16 -->\r\n      <g transform=\"translate(368.936765 243.136672)rotate(-45)scale(0.08 -0.08)\">\r\n       <use xlink:href=\"#DejaVuSans-49\"/>\r\n       <use x=\"63.623047\" xlink:href=\"#DejaVuSans-54\"/>\r\n      </g>\r\n     </g>\r\n    </g>\r\n    <g id=\"xtick_31\">\r\n     <g id=\"text_31\">\r\n      <!-- 20 -->\r\n      <g transform=\"translate(379.736765 243.136672)rotate(-45)scale(0.08 -0.08)\">\r\n       <use xlink:href=\"#DejaVuSans-50\"/>\r\n       <use x=\"63.623047\" xlink:href=\"#DejaVuSans-48\"/>\r\n      </g>\r\n     </g>\r\n    </g>\r\n   </g>\r\n   <g id=\"matplotlib.axis_2\">\r\n    <g id=\"ytick_1\">\r\n     <g id=\"line2d_1\">\r\n      <defs>\r\n       <path d=\"M 0 0 \r\nL -3.5 0 \r\n\" id=\"m5eefa788a9\" style=\"stroke:#000000;stroke-width:0.8;\"/>\r\n      </defs>\r\n      <g>\r\n       <use style=\"stroke:#000000;stroke-width:0.8;\" x=\"52.375\" xlink:href=\"#m5eefa788a9\" y=\"224.64\"/>\r\n      </g>\r\n     </g>\r\n     <g id=\"text_32\">\r\n      <!-- 0 -->\r\n      <g transform=\"translate(39.0125 228.439219)scale(0.1 -0.1)\">\r\n       <use xlink:href=\"#DejaVuSans-48\"/>\r\n      </g>\r\n     </g>\r\n    </g>\r\n    <g id=\"ytick_2\">\r\n     <g id=\"line2d_2\">\r\n      <g>\r\n       <use style=\"stroke:#000000;stroke-width:0.8;\" x=\"52.375\" xlink:href=\"#m5eefa788a9\" y=\"192.407045\"/>\r\n      </g>\r\n     </g>\r\n     <g id=\"text_33\">\r\n      <!-- 20000 -->\r\n      <g transform=\"translate(13.5625 196.206264)scale(0.1 -0.1)\">\r\n       <use xlink:href=\"#DejaVuSans-50\"/>\r\n       <use x=\"63.623047\" xlink:href=\"#DejaVuSans-48\"/>\r\n       <use x=\"127.246094\" xlink:href=\"#DejaVuSans-48\"/>\r\n       <use x=\"190.869141\" xlink:href=\"#DejaVuSans-48\"/>\r\n       <use x=\"254.492188\" xlink:href=\"#DejaVuSans-48\"/>\r\n      </g>\r\n     </g>\r\n    </g>\r\n    <g id=\"ytick_3\">\r\n     <g id=\"line2d_3\">\r\n      <g>\r\n       <use style=\"stroke:#000000;stroke-width:0.8;\" x=\"52.375\" xlink:href=\"#m5eefa788a9\" y=\"160.17409\"/>\r\n      </g>\r\n     </g>\r\n     <g id=\"text_34\">\r\n      <!-- 40000 -->\r\n      <g transform=\"translate(13.5625 163.973309)scale(0.1 -0.1)\">\r\n       <use xlink:href=\"#DejaVuSans-52\"/>\r\n       <use x=\"63.623047\" xlink:href=\"#DejaVuSans-48\"/>\r\n       <use x=\"127.246094\" xlink:href=\"#DejaVuSans-48\"/>\r\n       <use x=\"190.869141\" xlink:href=\"#DejaVuSans-48\"/>\r\n       <use x=\"254.492188\" xlink:href=\"#DejaVuSans-48\"/>\r\n      </g>\r\n     </g>\r\n    </g>\r\n    <g id=\"ytick_4\">\r\n     <g id=\"line2d_4\">\r\n      <g>\r\n       <use style=\"stroke:#000000;stroke-width:0.8;\" x=\"52.375\" xlink:href=\"#m5eefa788a9\" y=\"127.941136\"/>\r\n      </g>\r\n     </g>\r\n     <g id=\"text_35\">\r\n      <!-- 60000 -->\r\n      <g transform=\"translate(13.5625 131.740354)scale(0.1 -0.1)\">\r\n       <use xlink:href=\"#DejaVuSans-54\"/>\r\n       <use x=\"63.623047\" xlink:href=\"#DejaVuSans-48\"/>\r\n       <use x=\"127.246094\" xlink:href=\"#DejaVuSans-48\"/>\r\n       <use x=\"190.869141\" xlink:href=\"#DejaVuSans-48\"/>\r\n       <use x=\"254.492188\" xlink:href=\"#DejaVuSans-48\"/>\r\n      </g>\r\n     </g>\r\n    </g>\r\n    <g id=\"ytick_5\">\r\n     <g id=\"line2d_5\">\r\n      <g>\r\n       <use style=\"stroke:#000000;stroke-width:0.8;\" x=\"52.375\" xlink:href=\"#m5eefa788a9\" y=\"95.708181\"/>\r\n      </g>\r\n     </g>\r\n     <g id=\"text_36\">\r\n      <!-- 80000 -->\r\n      <g transform=\"translate(13.5625 99.507399)scale(0.1 -0.1)\">\r\n       <use xlink:href=\"#DejaVuSans-56\"/>\r\n       <use x=\"63.623047\" xlink:href=\"#DejaVuSans-48\"/>\r\n       <use x=\"127.246094\" xlink:href=\"#DejaVuSans-48\"/>\r\n       <use x=\"190.869141\" xlink:href=\"#DejaVuSans-48\"/>\r\n       <use x=\"254.492188\" xlink:href=\"#DejaVuSans-48\"/>\r\n      </g>\r\n     </g>\r\n    </g>\r\n    <g id=\"ytick_6\">\r\n     <g id=\"line2d_6\">\r\n      <g>\r\n       <use style=\"stroke:#000000;stroke-width:0.8;\" x=\"52.375\" xlink:href=\"#m5eefa788a9\" y=\"63.475226\"/>\r\n      </g>\r\n     </g>\r\n     <g id=\"text_37\">\r\n      <!-- 100000 -->\r\n      <g transform=\"translate(7.2 67.274445)scale(0.1 -0.1)\">\r\n       <use xlink:href=\"#DejaVuSans-49\"/>\r\n       <use x=\"63.623047\" xlink:href=\"#DejaVuSans-48\"/>\r\n       <use x=\"127.246094\" xlink:href=\"#DejaVuSans-48\"/>\r\n       <use x=\"190.869141\" xlink:href=\"#DejaVuSans-48\"/>\r\n       <use x=\"254.492188\" xlink:href=\"#DejaVuSans-48\"/>\r\n       <use x=\"318.115234\" xlink:href=\"#DejaVuSans-48\"/>\r\n      </g>\r\n     </g>\r\n    </g>\r\n    <g id=\"ytick_7\">\r\n     <g id=\"line2d_7\">\r\n      <g>\r\n       <use style=\"stroke:#000000;stroke-width:0.8;\" x=\"52.375\" xlink:href=\"#m5eefa788a9\" y=\"31.242271\"/>\r\n      </g>\r\n     </g>\r\n     <g id=\"text_38\">\r\n      <!-- 120000 -->\r\n      <g transform=\"translate(7.2 35.04149)scale(0.1 -0.1)\">\r\n       <use xlink:href=\"#DejaVuSans-49\"/>\r\n       <use x=\"63.623047\" xlink:href=\"#DejaVuSans-50\"/>\r\n       <use x=\"127.246094\" xlink:href=\"#DejaVuSans-48\"/>\r\n       <use x=\"190.869141\" xlink:href=\"#DejaVuSans-48\"/>\r\n       <use x=\"254.492188\" xlink:href=\"#DejaVuSans-48\"/>\r\n       <use x=\"318.115234\" xlink:href=\"#DejaVuSans-48\"/>\r\n      </g>\r\n     </g>\r\n    </g>\r\n   </g>\r\n   <g id=\"LineCollection_1\">\r\n    <path clip-path=\"url(#p15a1cbbb15)\" d=\"M 68.575 224.64 \r\nL 68.575 213.876372 \r\nL 79.375 213.876372 \r\nL 79.375 224.64 \r\n\" style=\"fill:none;stroke:#ff7f0e;stroke-width:1.5;\"/>\r\n    <path clip-path=\"url(#p15a1cbbb15)\" d=\"M 90.175 224.64 \r\nL 90.175 203.786688 \r\nL 100.975 203.786688 \r\nL 100.975 224.64 \r\n\" style=\"fill:none;stroke:#ff7f0e;stroke-width:1.5;\"/>\r\n    <path clip-path=\"url(#p15a1cbbb15)\" d=\"M 122.575 224.64 \r\nL 122.575 212.024519 \r\nL 133.375 212.024519 \r\nL 133.375 224.64 \r\n\" style=\"fill:none;stroke:#ff7f0e;stroke-width:1.5;\"/>\r\n    <path clip-path=\"url(#p15a1cbbb15)\" d=\"M 144.175 224.64 \r\nL 144.175 208.163671 \r\nL 154.975 208.163671 \r\nL 154.975 224.64 \r\n\" style=\"fill:none;stroke:#ff7f0e;stroke-width:1.5;\"/>\r\n    <path clip-path=\"url(#p15a1cbbb15)\" d=\"M 127.975 212.024519 \r\nL 127.975 203.413739 \r\nL 149.575 203.413739 \r\nL 149.575 208.163671 \r\n\" style=\"fill:none;stroke:#ff7f0e;stroke-width:1.5;\"/>\r\n    <path clip-path=\"url(#p15a1cbbb15)\" d=\"M 111.775 224.64 \r\nL 111.775 199.584646 \r\nL 138.775 199.584646 \r\nL 138.775 203.413739 \r\n\" style=\"fill:none;stroke:#ff7f0e;stroke-width:1.5;\"/>\r\n    <path clip-path=\"url(#p15a1cbbb15)\" d=\"M 95.575 203.786688 \r\nL 95.575 193.068219 \r\nL 125.275 193.068219 \r\nL 125.275 199.584646 \r\n\" style=\"fill:none;stroke:#ff7f0e;stroke-width:1.5;\"/>\r\n    <path clip-path=\"url(#p15a1cbbb15)\" d=\"M 73.975 213.876372 \r\nL 73.975 174.214617 \r\nL 110.425 174.214617 \r\nL 110.425 193.068219 \r\n\" style=\"fill:none;stroke:#ff7f0e;stroke-width:1.5;\"/>\r\n    <path clip-path=\"url(#p15a1cbbb15)\" d=\"M 208.975 224.64 \r\nL 208.975 216.461158 \r\nL 219.775 216.461158 \r\nL 219.775 224.64 \r\n\" style=\"fill:none;stroke:#ff7f0e;stroke-width:1.5;\"/>\r\n    <path clip-path=\"url(#p15a1cbbb15)\" d=\"M 198.175 224.64 \r\nL 198.175 210.425148 \r\nL 214.375 210.425148 \r\nL 214.375 216.461158 \r\n\" style=\"fill:none;stroke:#ff7f0e;stroke-width:1.5;\"/>\r\n    <path clip-path=\"url(#p15a1cbbb15)\" d=\"M 187.375 224.64 \r\nL 187.375 207.754572 \r\nL 206.275 207.754572 \r\nL 206.275 210.425148 \r\n\" style=\"fill:none;stroke:#ff7f0e;stroke-width:1.5;\"/>\r\n    <path clip-path=\"url(#p15a1cbbb15)\" d=\"M 176.575 224.64 \r\nL 176.575 203.88628 \r\nL 196.825 203.88628 \r\nL 196.825 207.754572 \r\n\" style=\"fill:none;stroke:#ff7f0e;stroke-width:1.5;\"/>\r\n    <path clip-path=\"url(#p15a1cbbb15)\" d=\"M 230.575 224.64 \r\nL 230.575 199.186033 \r\nL 241.375 199.186033 \r\nL 241.375 224.64 \r\n\" style=\"fill:none;stroke:#ff7f0e;stroke-width:1.5;\"/>\r\n    <path clip-path=\"url(#p15a1cbbb15)\" d=\"M 186.7 203.88628 \r\nL 186.7 196.809265 \r\nL 235.975 196.809265 \r\nL 235.975 199.186033 \r\n\" style=\"fill:none;stroke:#ff7f0e;stroke-width:1.5;\"/>\r\n    <path clip-path=\"url(#p15a1cbbb15)\" d=\"M 252.175 224.64 \r\nL 252.175 193.172586 \r\nL 262.975 193.172586 \r\nL 262.975 224.64 \r\n\" style=\"fill:none;stroke:#ff7f0e;stroke-width:1.5;\"/>\r\n    <path clip-path=\"url(#p15a1cbbb15)\" d=\"M 211.3375 196.809265 \r\nL 211.3375 191.888154 \r\nL 257.575 191.888154 \r\nL 257.575 193.172586 \r\n\" style=\"fill:none;stroke:#ff7f0e;stroke-width:1.5;\"/>\r\n    <path clip-path=\"url(#p15a1cbbb15)\" d=\"M 165.775 224.64 \r\nL 165.775 183.904875 \r\nL 234.45625 183.904875 \r\nL 234.45625 191.888154 \r\n\" style=\"fill:none;stroke:#ff7f0e;stroke-width:1.5;\"/>\r\n    <path clip-path=\"url(#p15a1cbbb15)\" d=\"M 284.575 224.64 \r\nL 284.575 213.908014 \r\nL 295.375 213.908014 \r\nL 295.375 224.64 \r\n\" style=\"fill:none;stroke:#ff7f0e;stroke-width:1.5;\"/>\r\n    <path clip-path=\"url(#p15a1cbbb15)\" d=\"M 273.775 224.64 \r\nL 273.775 202.82429 \r\nL 289.975 202.82429 \r\nL 289.975 213.908014 \r\n\" style=\"fill:none;stroke:#ff7f0e;stroke-width:1.5;\"/>\r\n    <path clip-path=\"url(#p15a1cbbb15)\" d=\"M 327.775 224.64 \r\nL 327.775 214.506705 \r\nL 338.575 214.506705 \r\nL 338.575 224.64 \r\n\" style=\"fill:none;stroke:#ff7f0e;stroke-width:1.5;\"/>\r\n    <path clip-path=\"url(#p15a1cbbb15)\" d=\"M 316.975 224.64 \r\nL 316.975 203.802847 \r\nL 333.175 203.802847 \r\nL 333.175 214.506705 \r\n\" style=\"fill:none;stroke:#ff7f0e;stroke-width:1.5;\"/>\r\n    <path clip-path=\"url(#p15a1cbbb15)\" d=\"M 306.175 224.64 \r\nL 306.175 198.791658 \r\nL 325.075 198.791658 \r\nL 325.075 203.802847 \r\n\" style=\"fill:none;stroke:#ff7f0e;stroke-width:1.5;\"/>\r\n    <path clip-path=\"url(#p15a1cbbb15)\" d=\"M 281.875 202.82429 \r\nL 281.875 194.603719 \r\nL 315.625 194.603719 \r\nL 315.625 198.791658 \r\n\" style=\"fill:none;stroke:#ff7f0e;stroke-width:1.5;\"/>\r\n    <path clip-path=\"url(#p15a1cbbb15)\" d=\"M 370.975 224.64 \r\nL 370.975 211.946492 \r\nL 381.775 211.946492 \r\nL 381.775 224.64 \r\n\" style=\"fill:none;stroke:#ff7f0e;stroke-width:1.5;\"/>\r\n    <path clip-path=\"url(#p15a1cbbb15)\" d=\"M 360.175 224.64 \r\nL 360.175 206.624445 \r\nL 376.375 206.624445 \r\nL 376.375 211.946492 \r\n\" style=\"fill:none;stroke:#ff7f0e;stroke-width:1.5;\"/>\r\n    <path clip-path=\"url(#p15a1cbbb15)\" d=\"M 349.375 224.64 \r\nL 349.375 192.131761 \r\nL 368.275 192.131761 \r\nL 368.275 206.624445 \r\n\" style=\"fill:none;stroke:#ff7f0e;stroke-width:1.5;\"/>\r\n    <path clip-path=\"url(#p15a1cbbb15)\" d=\"M 298.75 194.603719 \r\nL 298.75 177.959019 \r\nL 358.825 177.959019 \r\nL 358.825 192.131761 \r\n\" style=\"fill:none;stroke:#ff7f0e;stroke-width:1.5;\"/>\r\n    <path clip-path=\"url(#p15a1cbbb15)\" d=\"M 200.115625 183.904875 \r\nL 200.115625 165.549468 \r\nL 328.7875 165.549468 \r\nL 328.7875 177.959019 \r\n\" style=\"fill:none;stroke:#ff7f0e;stroke-width:1.5;\"/>\r\n    <path clip-path=\"url(#p15a1cbbb15)\" d=\"M 92.2 174.214617 \r\nL 92.2 157.223454 \r\nL 264.451563 157.223454 \r\nL 264.451563 165.549468 \r\n\" style=\"fill:none;stroke:#ff7f0e;stroke-width:1.5;\"/>\r\n   </g>\r\n   <g id=\"LineCollection_2\">\r\n    <path clip-path=\"url(#p15a1cbbb15)\" d=\"M 57.775 224.64 \r\nL 57.775 17.554286 \r\nL 178.325781 17.554286 \r\nL 178.325781 157.223454 \r\n\" style=\"fill:none;stroke:#1f77b4;stroke-width:1.5;\"/>\r\n   </g>\r\n   <g id=\"patch_3\">\r\n    <path d=\"M 52.375 224.64 \r\nL 52.375 7.2 \r\n\" style=\"fill:none;stroke:#000000;stroke-linecap:square;stroke-linejoin:miter;stroke-width:0.8;\"/>\r\n   </g>\r\n   <g id=\"patch_4\">\r\n    <path d=\"M 387.175 224.64 \r\nL 387.175 7.2 \r\n\" style=\"fill:none;stroke:#000000;stroke-linecap:square;stroke-linejoin:miter;stroke-width:0.8;\"/>\r\n   </g>\r\n   <g id=\"patch_5\">\r\n    <path d=\"M 52.375 224.64 \r\nL 387.175 224.64 \r\n\" style=\"fill:none;stroke:#000000;stroke-linecap:square;stroke-linejoin:miter;stroke-width:0.8;\"/>\r\n   </g>\r\n   <g id=\"patch_6\">\r\n    <path d=\"M 52.375 7.2 \r\nL 387.175 7.2 \r\n\" style=\"fill:none;stroke:#000000;stroke-linecap:square;stroke-linejoin:miter;stroke-width:0.8;\"/>\r\n   </g>\r\n  </g>\r\n </g>\r\n <defs>\r\n  <clipPath id=\"p15a1cbbb15\">\r\n   <rect height=\"217.44\" width=\"334.8\" x=\"52.375\" y=\"7.2\"/>\r\n  </clipPath>\r\n </defs>\r\n</svg>\r\n",
      "image/png": "[encoded data removed]"
     },
     "metadata": {
      "needs_background": "light"
     }
    }
   ],
   "source": [
    "dendrogram(Z)"
   ]
  },
  {
   "cell_type": "code",
   "execution_count": 113,
   "metadata": {},
   "outputs": [
    {
     "output_type": "execute_result",
     "data": {
      "text/plain": [
       "{'icoord': [[15.0, 15.0, 25.0, 25.0],\n",
       "  [45.0, 45.0, 55.0, 55.0],\n",
       "  [35.0, 35.0, 50.0, 50.0],\n",
       "  [65.0, 65.0, 75.0, 75.0],\n",
       "  [42.5, 42.5, 70.0, 70.0],\n",
       "  [20.0, 20.0, 56.25, 56.25],\n",
       "  [5.0, 5.0, 38.125, 38.125]],\n",
       " 'dcoord': [[0.0, 31288.092268336895, 31288.092268336895, 0.0],\n",
       "  [0.0, 20321.963077950764, 20321.963077950764, 0.0],\n",
       "  [0.0, 25275.451631857988, 25275.451631857988, 20321.963077950764],\n",
       "  [0.0, 28964.754552575694, 28964.754552575694, 0.0],\n",
       "  [25275.451631857988,\n",
       "   36664.66953914477,\n",
       "   36664.66953914477,\n",
       "   28964.754552575694],\n",
       "  [31288.092268336895,\n",
       "   41830.819498668716,\n",
       "   41830.819498668716,\n",
       "   36664.66953914477],\n",
       "  [0.0, 128493.1619747369, 128493.1619747369, 41830.819498668716]],\n",
       " 'ivl': ['10', '(2)', '(7)', '15', '(7)', '(2)', '(7)', '(4)'],\n",
       " 'leaves': [10, 34, 52, 15, 49, 51, 50, 53],\n",
       " 'color_list': ['C1', 'C1', 'C1', 'C1', 'C1', 'C1', 'C0']}"
      ]
     },
     "metadata": {},
     "execution_count": 113
    },
    {
     "output_type": "display_data",
     "data": {
      "text/plain": "<Figure size 432x288 with 1 Axes>",
      "image/svg+xml": "<?xml version=\"1.0\" encoding=\"utf-8\" standalone=\"no\"?>\r\n<!DOCTYPE svg PUBLIC \"-//W3C//DTD SVG 1.1//EN\"\r\n  \"http://www.w3.org/Graphics/SVG/1.1/DTD/svg11.dtd\">\r\n<!-- Created with matplotlib (https://matplotlib.org/) -->\r\n<svg height=\"250.45375pt\" version=\"1.1\" viewBox=\"0 0 394.375 250.45375\" width=\"394.375pt\" xmlns=\"http://www.w3.org/2000/svg\" xmlns:xlink=\"http://www.w3.org/1999/xlink\">\r\n <metadata>\r\n  <rdf:RDF xmlns:cc=\"http://creativecommons.org/ns#\" xmlns:dc=\"http://purl.org/dc/elements/1.1/\" xmlns:rdf=\"http://www.w3.org/1999/02/22-rdf-syntax-ns#\">\r\n   <cc:Work>\r\n    <dc:type rdf:resource=\"http://purl.org/dc/dcmitype/StillImage\"/>\r\n    <dc:date>2021-01-04T14:47:08.307689</dc:date>\r\n    <dc:format>image/svg+xml</dc:format>\r\n    <dc:creator>\r\n     <cc:Agent>\r\n      <dc:title>Matplotlib v3.3.1, https://matplotlib.org/</dc:title>\r\n     </cc:Agent>\r\n    </dc:creator>\r\n   </cc:Work>\r\n  </rdf:RDF>\r\n </metadata>\r\n <defs>\r\n  <style type=\"text/css\">*{stroke-linecap:butt;stroke-linejoin:round;}</style>\r\n </defs>\r\n <g id=\"figure_1\">\r\n  <g id=\"patch_1\">\r\n   <path d=\"M 0 250.45375 \r\nL 394.375 250.45375 \r\nL 394.375 0 \r\nL 0 0 \r\nz\r\n\" style=\"fill:none;\"/>\r\n  </g>\r\n  <g id=\"axes_1\">\r\n   <g id=\"patch_2\">\r\n    <path d=\"M 52.375 224.64 \r\nL 387.175 224.64 \r\nL 387.175 7.2 \r\nL 52.375 7.2 \r\nz\r\n\" style=\"fill:#ffffff;\"/>\r\n   </g>\r\n   <g id=\"matplotlib.axis_1\">\r\n    <g id=\"xtick_1\">\r\n     <g id=\"text_1\">\r\n      <!-- 10 -->\r\n      <g transform=\"translate(65.665 240.758125)scale(0.12 -0.12)\">\r\n       <defs>\r\n        <path d=\"M 12.40625 8.296875 \r\nL 28.515625 8.296875 \r\nL 28.515625 63.921875 \r\nL 10.984375 60.40625 \r\nL 10.984375 69.390625 \r\nL 28.421875 72.90625 \r\nL 38.28125 72.90625 \r\nL 38.28125 8.296875 \r\nL 54.390625 8.296875 \r\nL 54.390625 0 \r\nL 12.40625 0 \r\nz\r\n\" id=\"DejaVuSans-49\"/>\r\n        <path d=\"M 31.78125 66.40625 \r\nQ 24.171875 66.40625 20.328125 58.90625 \r\nQ 16.5 51.421875 16.5 36.375 \r\nQ 16.5 21.390625 20.328125 13.890625 \r\nQ 24.171875 6.390625 31.78125 6.390625 \r\nQ 39.453125 6.390625 43.28125 13.890625 \r\nQ 47.125 21.390625 47.125 36.375 \r\nQ 47.125 51.421875 43.28125 58.90625 \r\nQ 39.453125 66.40625 31.78125 66.40625 \r\nz\r\nM 31.78125 74.21875 \r\nQ 44.046875 74.21875 50.515625 64.515625 \r\nQ 56.984375 54.828125 56.984375 36.375 \r\nQ 56.984375 17.96875 50.515625 8.265625 \r\nQ 44.046875 -1.421875 31.78125 -1.421875 \r\nQ 19.53125 -1.421875 13.0625 8.265625 \r\nQ 6.59375 17.96875 6.59375 36.375 \r\nQ 6.59375 54.828125 13.0625 64.515625 \r\nQ 19.53125 74.21875 31.78125 74.21875 \r\nz\r\n\" id=\"DejaVuSans-48\"/>\r\n       </defs>\r\n       <use xlink:href=\"#DejaVuSans-49\"/>\r\n       <use x=\"63.623047\" xlink:href=\"#DejaVuSans-48\"/>\r\n      </g>\r\n     </g>\r\n    </g>\r\n    <g id=\"xtick_2\">\r\n     <g id=\"text_2\">\r\n      <!-- (2) -->\r\n      <g transform=\"translate(106.650625 240.758125)scale(0.12 -0.12)\">\r\n       <defs>\r\n        <path d=\"M 31 75.875 \r\nQ 24.46875 64.65625 21.28125 53.65625 \r\nQ 18.109375 42.671875 18.109375 31.390625 \r\nQ 18.109375 20.125 21.3125 9.0625 \r\nQ 24.515625 -2 31 -13.1875 \r\nL 23.1875 -13.1875 \r\nQ 15.875 -1.703125 12.234375 9.375 \r\nQ 8.59375 20.453125 8.59375 31.390625 \r\nQ 8.59375 42.28125 12.203125 53.3125 \r\nQ 15.828125 64.359375 23.1875 75.875 \r\nz\r\n\" id=\"DejaVuSans-40\"/>\r\n        <path d=\"M 19.1875 8.296875 \r\nL 53.609375 8.296875 \r\nL 53.609375 0 \r\nL 7.328125 0 \r\nL 7.328125 8.296875 \r\nQ 12.9375 14.109375 22.625 23.890625 \r\nQ 32.328125 33.6875 34.8125 36.53125 \r\nQ 39.546875 41.84375 41.421875 45.53125 \r\nQ 43.3125 49.21875 43.3125 52.78125 \r\nQ 43.3125 58.59375 39.234375 62.25 \r\nQ 35.15625 65.921875 28.609375 65.921875 \r\nQ 23.96875 65.921875 18.8125 64.3125 \r\nQ 13.671875 62.703125 7.8125 59.421875 \r\nL 7.8125 69.390625 \r\nQ 13.765625 71.78125 18.9375 73 \r\nQ 24.125 74.21875 28.421875 74.21875 \r\nQ 39.75 74.21875 46.484375 68.546875 \r\nQ 53.21875 62.890625 53.21875 53.421875 \r\nQ 53.21875 48.921875 51.53125 44.890625 \r\nQ 49.859375 40.875 45.40625 35.40625 \r\nQ 44.1875 33.984375 37.640625 27.21875 \r\nQ 31.109375 20.453125 19.1875 8.296875 \r\nz\r\n\" id=\"DejaVuSans-50\"/>\r\n        <path d=\"M 8.015625 75.875 \r\nL 15.828125 75.875 \r\nQ 23.140625 64.359375 26.78125 53.3125 \r\nQ 30.421875 42.28125 30.421875 31.390625 \r\nQ 30.421875 20.453125 26.78125 9.375 \r\nQ 23.140625 -1.703125 15.828125 -13.1875 \r\nL 8.015625 -13.1875 \r\nQ 14.5 -2 17.703125 9.0625 \r\nQ 20.90625 20.125 20.90625 31.390625 \r\nQ 20.90625 42.671875 17.703125 53.65625 \r\nQ 14.5 64.65625 8.015625 75.875 \r\nz\r\n\" id=\"DejaVuSans-41\"/>\r\n       </defs>\r\n       <use xlink:href=\"#DejaVuSans-40\"/>\r\n       <use x=\"39.013672\" xlink:href=\"#DejaVuSans-50\"/>\r\n       <use x=\"102.636719\" xlink:href=\"#DejaVuSans-41\"/>\r\n      </g>\r\n     </g>\r\n    </g>\r\n    <g id=\"xtick_3\">\r\n     <g id=\"text_3\">\r\n      <!-- (7) -->\r\n      <g transform=\"translate(148.500625 240.758125)scale(0.12 -0.12)\">\r\n       <defs>\r\n        <path d=\"M 8.203125 72.90625 \r\nL 55.078125 72.90625 \r\nL 55.078125 68.703125 \r\nL 28.609375 0 \r\nL 18.3125 0 \r\nL 43.21875 64.59375 \r\nL 8.203125 64.59375 \r\nz\r\n\" id=\"DejaVuSans-55\"/>\r\n       </defs>\r\n       <use xlink:href=\"#DejaVuSans-40\"/>\r\n       <use x=\"39.013672\" xlink:href=\"#DejaVuSans-55\"/>\r\n       <use x=\"102.636719\" xlink:href=\"#DejaVuSans-41\"/>\r\n      </g>\r\n     </g>\r\n    </g>\r\n    <g id=\"xtick_4\">\r\n     <g id=\"text_4\">\r\n      <!-- 15 -->\r\n      <g transform=\"translate(191.215 240.758125)scale(0.12 -0.12)\">\r\n       <defs>\r\n        <path d=\"M 10.796875 72.90625 \r\nL 49.515625 72.90625 \r\nL 49.515625 64.59375 \r\nL 19.828125 64.59375 \r\nL 19.828125 46.734375 \r\nQ 21.96875 47.46875 24.109375 47.828125 \r\nQ 26.265625 48.1875 28.421875 48.1875 \r\nQ 40.625 48.1875 47.75 41.5 \r\nQ 54.890625 34.8125 54.890625 23.390625 \r\nQ 54.890625 11.625 47.5625 5.09375 \r\nQ 40.234375 -1.421875 26.90625 -1.421875 \r\nQ 22.3125 -1.421875 17.546875 -0.640625 \r\nQ 12.796875 0.140625 7.71875 1.703125 \r\nL 7.71875 11.625 \r\nQ 12.109375 9.234375 16.796875 8.0625 \r\nQ 21.484375 6.890625 26.703125 6.890625 \r\nQ 35.15625 6.890625 40.078125 11.328125 \r\nQ 45.015625 15.765625 45.015625 23.390625 \r\nQ 45.015625 31 40.078125 35.4375 \r\nQ 35.15625 39.890625 26.703125 39.890625 \r\nQ 22.75 39.890625 18.8125 39.015625 \r\nQ 14.890625 38.140625 10.796875 36.28125 \r\nz\r\n\" id=\"DejaVuSans-53\"/>\r\n       </defs>\r\n       <use xlink:href=\"#DejaVuSans-49\"/>\r\n       <use x=\"63.623047\" xlink:href=\"#DejaVuSans-53\"/>\r\n      </g>\r\n     </g>\r\n    </g>\r\n    <g id=\"xtick_5\">\r\n     <g id=\"text_5\">\r\n      <!-- (7) -->\r\n      <g transform=\"translate(232.200625 240.758125)scale(0.12 -0.12)\">\r\n       <use xlink:href=\"#DejaVuSans-40\"/>\r\n       <use x=\"39.013672\" xlink:href=\"#DejaVuSans-55\"/>\r\n       <use x=\"102.636719\" xlink:href=\"#DejaVuSans-41\"/>\r\n      </g>\r\n     </g>\r\n    </g>\r\n    <g id=\"xtick_6\">\r\n     <g id=\"text_6\">\r\n      <!-- (2) -->\r\n      <g transform=\"translate(274.050625 240.758125)scale(0.12 -0.12)\">\r\n       <use xlink:href=\"#DejaVuSans-40\"/>\r\n       <use x=\"39.013672\" xlink:href=\"#DejaVuSans-50\"/>\r\n       <use x=\"102.636719\" xlink:href=\"#DejaVuSans-41\"/>\r\n      </g>\r\n     </g>\r\n    </g>\r\n    <g id=\"xtick_7\">\r\n     <g id=\"text_7\">\r\n      <!-- (7) -->\r\n      <g transform=\"translate(315.900625 240.758125)scale(0.12 -0.12)\">\r\n       <use xlink:href=\"#DejaVuSans-40\"/>\r\n       <use x=\"39.013672\" xlink:href=\"#DejaVuSans-55\"/>\r\n       <use x=\"102.636719\" xlink:href=\"#DejaVuSans-41\"/>\r\n      </g>\r\n     </g>\r\n    </g>\r\n    <g id=\"xtick_8\">\r\n     <g id=\"text_8\">\r\n      <!-- (4) -->\r\n      <g transform=\"translate(357.750625 240.758125)scale(0.12 -0.12)\">\r\n       <defs>\r\n        <path d=\"M 37.796875 64.3125 \r\nL 12.890625 25.390625 \r\nL 37.796875 25.390625 \r\nz\r\nM 35.203125 72.90625 \r\nL 47.609375 72.90625 \r\nL 47.609375 25.390625 \r\nL 58.015625 25.390625 \r\nL 58.015625 17.1875 \r\nL 47.609375 17.1875 \r\nL 47.609375 0 \r\nL 37.796875 0 \r\nL 37.796875 17.1875 \r\nL 4.890625 17.1875 \r\nL 4.890625 26.703125 \r\nz\r\n\" id=\"DejaVuSans-52\"/>\r\n       </defs>\r\n       <use xlink:href=\"#DejaVuSans-40\"/>\r\n       <use x=\"39.013672\" xlink:href=\"#DejaVuSans-52\"/>\r\n       <use x=\"102.636719\" xlink:href=\"#DejaVuSans-41\"/>\r\n      </g>\r\n     </g>\r\n    </g>\r\n   </g>\r\n   <g id=\"matplotlib.axis_2\">\r\n    <g id=\"ytick_1\">\r\n     <g id=\"line2d_1\">\r\n      <defs>\r\n       <path d=\"M 0 0 \r\nL -3.5 0 \r\n\" id=\"m2360cee7ff\" style=\"stroke:#000000;stroke-width:0.8;\"/>\r\n      </defs>\r\n      <g>\r\n       <use style=\"stroke:#000000;stroke-width:0.8;\" x=\"52.375\" xlink:href=\"#m2360cee7ff\" y=\"224.64\"/>\r\n      </g>\r\n     </g>\r\n     <g id=\"text_9\">\r\n      <!-- 0 -->\r\n      <g transform=\"translate(39.0125 228.439219)scale(0.1 -0.1)\">\r\n       <use xlink:href=\"#DejaVuSans-48\"/>\r\n      </g>\r\n     </g>\r\n    </g>\r\n    <g id=\"ytick_2\">\r\n     <g id=\"line2d_2\">\r\n      <g>\r\n       <use style=\"stroke:#000000;stroke-width:0.8;\" x=\"52.375\" xlink:href=\"#m2360cee7ff\" y=\"192.407045\"/>\r\n      </g>\r\n     </g>\r\n     <g id=\"text_10\">\r\n      <!-- 20000 -->\r\n      <g transform=\"translate(13.5625 196.206264)scale(0.1 -0.1)\">\r\n       <use xlink:href=\"#DejaVuSans-50\"/>\r\n       <use x=\"63.623047\" xlink:href=\"#DejaVuSans-48\"/>\r\n       <use x=\"127.246094\" xlink:href=\"#DejaVuSans-48\"/>\r\n       <use x=\"190.869141\" xlink:href=\"#DejaVuSans-48\"/>\r\n       <use x=\"254.492188\" xlink:href=\"#DejaVuSans-48\"/>\r\n      </g>\r\n     </g>\r\n    </g>\r\n    <g id=\"ytick_3\">\r\n     <g id=\"line2d_3\">\r\n      <g>\r\n       <use style=\"stroke:#000000;stroke-width:0.8;\" x=\"52.375\" xlink:href=\"#m2360cee7ff\" y=\"160.17409\"/>\r\n      </g>\r\n     </g>\r\n     <g id=\"text_11\">\r\n      <!-- 40000 -->\r\n      <g transform=\"translate(13.5625 163.973309)scale(0.1 -0.1)\">\r\n       <use xlink:href=\"#DejaVuSans-52\"/>\r\n       <use x=\"63.623047\" xlink:href=\"#DejaVuSans-48\"/>\r\n       <use x=\"127.246094\" xlink:href=\"#DejaVuSans-48\"/>\r\n       <use x=\"190.869141\" xlink:href=\"#DejaVuSans-48\"/>\r\n       <use x=\"254.492188\" xlink:href=\"#DejaVuSans-48\"/>\r\n      </g>\r\n     </g>\r\n    </g>\r\n    <g id=\"ytick_4\">\r\n     <g id=\"line2d_4\">\r\n      <g>\r\n       <use style=\"stroke:#000000;stroke-width:0.8;\" x=\"52.375\" xlink:href=\"#m2360cee7ff\" y=\"127.941136\"/>\r\n      </g>\r\n     </g>\r\n     <g id=\"text_12\">\r\n      <!-- 60000 -->\r\n      <g transform=\"translate(13.5625 131.740354)scale(0.1 -0.1)\">\r\n       <defs>\r\n        <path d=\"M 33.015625 40.375 \r\nQ 26.375 40.375 22.484375 35.828125 \r\nQ 18.609375 31.296875 18.609375 23.390625 \r\nQ 18.609375 15.53125 22.484375 10.953125 \r\nQ 26.375 6.390625 33.015625 6.390625 \r\nQ 39.65625 6.390625 43.53125 10.953125 \r\nQ 47.40625 15.53125 47.40625 23.390625 \r\nQ 47.40625 31.296875 43.53125 35.828125 \r\nQ 39.65625 40.375 33.015625 40.375 \r\nz\r\nM 52.59375 71.296875 \r\nL 52.59375 62.3125 \r\nQ 48.875 64.0625 45.09375 64.984375 \r\nQ 41.3125 65.921875 37.59375 65.921875 \r\nQ 27.828125 65.921875 22.671875 59.328125 \r\nQ 17.53125 52.734375 16.796875 39.40625 \r\nQ 19.671875 43.65625 24.015625 45.921875 \r\nQ 28.375 48.1875 33.59375 48.1875 \r\nQ 44.578125 48.1875 50.953125 41.515625 \r\nQ 57.328125 34.859375 57.328125 23.390625 \r\nQ 57.328125 12.15625 50.6875 5.359375 \r\nQ 44.046875 -1.421875 33.015625 -1.421875 \r\nQ 20.359375 -1.421875 13.671875 8.265625 \r\nQ 6.984375 17.96875 6.984375 36.375 \r\nQ 6.984375 53.65625 15.1875 63.9375 \r\nQ 23.390625 74.21875 37.203125 74.21875 \r\nQ 40.921875 74.21875 44.703125 73.484375 \r\nQ 48.484375 72.75 52.59375 71.296875 \r\nz\r\n\" id=\"DejaVuSans-54\"/>\r\n       </defs>\r\n       <use xlink:href=\"#DejaVuSans-54\"/>\r\n       <use x=\"63.623047\" xlink:href=\"#DejaVuSans-48\"/>\r\n       <use x=\"127.246094\" xlink:href=\"#DejaVuSans-48\"/>\r\n       <use x=\"190.869141\" xlink:href=\"#DejaVuSans-48\"/>\r\n       <use x=\"254.492188\" xlink:href=\"#DejaVuSans-48\"/>\r\n      </g>\r\n     </g>\r\n    </g>\r\n    <g id=\"ytick_5\">\r\n     <g id=\"line2d_5\">\r\n      <g>\r\n       <use style=\"stroke:#000000;stroke-width:0.8;\" x=\"52.375\" xlink:href=\"#m2360cee7ff\" y=\"95.708181\"/>\r\n      </g>\r\n     </g>\r\n     <g id=\"text_13\">\r\n      <!-- 80000 -->\r\n      <g transform=\"translate(13.5625 99.507399)scale(0.1 -0.1)\">\r\n       <defs>\r\n        <path d=\"M 31.78125 34.625 \r\nQ 24.75 34.625 20.71875 30.859375 \r\nQ 16.703125 27.09375 16.703125 20.515625 \r\nQ 16.703125 13.921875 20.71875 10.15625 \r\nQ 24.75 6.390625 31.78125 6.390625 \r\nQ 38.8125 6.390625 42.859375 10.171875 \r\nQ 46.921875 13.96875 46.921875 20.515625 \r\nQ 46.921875 27.09375 42.890625 30.859375 \r\nQ 38.875 34.625 31.78125 34.625 \r\nz\r\nM 21.921875 38.8125 \r\nQ 15.578125 40.375 12.03125 44.71875 \r\nQ 8.5 49.078125 8.5 55.328125 \r\nQ 8.5 64.0625 14.71875 69.140625 \r\nQ 20.953125 74.21875 31.78125 74.21875 \r\nQ 42.671875 74.21875 48.875 69.140625 \r\nQ 55.078125 64.0625 55.078125 55.328125 \r\nQ 55.078125 49.078125 51.53125 44.71875 \r\nQ 48 40.375 41.703125 38.8125 \r\nQ 48.828125 37.15625 52.796875 32.3125 \r\nQ 56.78125 27.484375 56.78125 20.515625 \r\nQ 56.78125 9.90625 50.3125 4.234375 \r\nQ 43.84375 -1.421875 31.78125 -1.421875 \r\nQ 19.734375 -1.421875 13.25 4.234375 \r\nQ 6.78125 9.90625 6.78125 20.515625 \r\nQ 6.78125 27.484375 10.78125 32.3125 \r\nQ 14.796875 37.15625 21.921875 38.8125 \r\nz\r\nM 18.3125 54.390625 \r\nQ 18.3125 48.734375 21.84375 45.5625 \r\nQ 25.390625 42.390625 31.78125 42.390625 \r\nQ 38.140625 42.390625 41.71875 45.5625 \r\nQ 45.3125 48.734375 45.3125 54.390625 \r\nQ 45.3125 60.0625 41.71875 63.234375 \r\nQ 38.140625 66.40625 31.78125 66.40625 \r\nQ 25.390625 66.40625 21.84375 63.234375 \r\nQ 18.3125 60.0625 18.3125 54.390625 \r\nz\r\n\" id=\"DejaVuSans-56\"/>\r\n       </defs>\r\n       <use xlink:href=\"#DejaVuSans-56\"/>\r\n       <use x=\"63.623047\" xlink:href=\"#DejaVuSans-48\"/>\r\n       <use x=\"127.246094\" xlink:href=\"#DejaVuSans-48\"/>\r\n       <use x=\"190.869141\" xlink:href=\"#DejaVuSans-48\"/>\r\n       <use x=\"254.492188\" xlink:href=\"#DejaVuSans-48\"/>\r\n      </g>\r\n     </g>\r\n    </g>\r\n    <g id=\"ytick_6\">\r\n     <g id=\"line2d_6\">\r\n      <g>\r\n       <use style=\"stroke:#000000;stroke-width:0.8;\" x=\"52.375\" xlink:href=\"#m2360cee7ff\" y=\"63.475226\"/>\r\n      </g>\r\n     </g>\r\n     <g id=\"text_14\">\r\n      <!-- 100000 -->\r\n      <g transform=\"translate(7.2 67.274445)scale(0.1 -0.1)\">\r\n       <use xlink:href=\"#DejaVuSans-49\"/>\r\n       <use x=\"63.623047\" xlink:href=\"#DejaVuSans-48\"/>\r\n       <use x=\"127.246094\" xlink:href=\"#DejaVuSans-48\"/>\r\n       <use x=\"190.869141\" xlink:href=\"#DejaVuSans-48\"/>\r\n       <use x=\"254.492188\" xlink:href=\"#DejaVuSans-48\"/>\r\n       <use x=\"318.115234\" xlink:href=\"#DejaVuSans-48\"/>\r\n      </g>\r\n     </g>\r\n    </g>\r\n    <g id=\"ytick_7\">\r\n     <g id=\"line2d_7\">\r\n      <g>\r\n       <use style=\"stroke:#000000;stroke-width:0.8;\" x=\"52.375\" xlink:href=\"#m2360cee7ff\" y=\"31.242271\"/>\r\n      </g>\r\n     </g>\r\n     <g id=\"text_15\">\r\n      <!-- 120000 -->\r\n      <g transform=\"translate(7.2 35.04149)scale(0.1 -0.1)\">\r\n       <use xlink:href=\"#DejaVuSans-49\"/>\r\n       <use x=\"63.623047\" xlink:href=\"#DejaVuSans-50\"/>\r\n       <use x=\"127.246094\" xlink:href=\"#DejaVuSans-48\"/>\r\n       <use x=\"190.869141\" xlink:href=\"#DejaVuSans-48\"/>\r\n       <use x=\"254.492188\" xlink:href=\"#DejaVuSans-48\"/>\r\n       <use x=\"318.115234\" xlink:href=\"#DejaVuSans-48\"/>\r\n      </g>\r\n     </g>\r\n    </g>\r\n   </g>\r\n   <g id=\"LineCollection_1\">\r\n    <path clip-path=\"url(#p32ea42c10d)\" d=\"M 115.15 224.64 \r\nL 115.15 174.214617 \r\nL 157 174.214617 \r\nL 157 224.64 \r\n\" style=\"fill:none;stroke:#ff7f0e;stroke-width:1.5;\"/>\r\n    <path clip-path=\"url(#p32ea42c10d)\" d=\"M 240.7 224.64 \r\nL 240.7 191.888154 \r\nL 282.55 191.888154 \r\nL 282.55 224.64 \r\n\" style=\"fill:none;stroke:#ff7f0e;stroke-width:1.5;\"/>\r\n    <path clip-path=\"url(#p32ea42c10d)\" d=\"M 198.85 224.64 \r\nL 198.85 183.904875 \r\nL 261.625 183.904875 \r\nL 261.625 191.888154 \r\n\" style=\"fill:none;stroke:#ff7f0e;stroke-width:1.5;\"/>\r\n    <path clip-path=\"url(#p32ea42c10d)\" d=\"M 324.4 224.64 \r\nL 324.4 177.959019 \r\nL 366.25 177.959019 \r\nL 366.25 224.64 \r\n\" style=\"fill:none;stroke:#ff7f0e;stroke-width:1.5;\"/>\r\n    <path clip-path=\"url(#p32ea42c10d)\" d=\"M 230.2375 183.904875 \r\nL 230.2375 165.549468 \r\nL 345.325 165.549468 \r\nL 345.325 177.959019 \r\n\" style=\"fill:none;stroke:#ff7f0e;stroke-width:1.5;\"/>\r\n    <path clip-path=\"url(#p32ea42c10d)\" d=\"M 136.075 174.214617 \r\nL 136.075 157.223454 \r\nL 287.78125 157.223454 \r\nL 287.78125 165.549468 \r\n\" style=\"fill:none;stroke:#ff7f0e;stroke-width:1.5;\"/>\r\n   </g>\r\n   <g id=\"LineCollection_2\">\r\n    <path clip-path=\"url(#p32ea42c10d)\" d=\"M 73.3 224.64 \r\nL 73.3 17.554286 \r\nL 211.928125 17.554286 \r\nL 211.928125 157.223454 \r\n\" style=\"fill:none;stroke:#1f77b4;stroke-width:1.5;\"/>\r\n   </g>\r\n   <g id=\"patch_3\">\r\n    <path d=\"M 52.375 224.64 \r\nL 52.375 7.2 \r\n\" style=\"fill:none;stroke:#000000;stroke-linecap:square;stroke-linejoin:miter;stroke-width:0.8;\"/>\r\n   </g>\r\n   <g id=\"patch_4\">\r\n    <path d=\"M 387.175 224.64 \r\nL 387.175 7.2 \r\n\" style=\"fill:none;stroke:#000000;stroke-linecap:square;stroke-linejoin:miter;stroke-width:0.8;\"/>\r\n   </g>\r\n   <g id=\"patch_5\">\r\n    <path d=\"M 52.375 224.64 \r\nL 387.175 224.64 \r\n\" style=\"fill:none;stroke:#000000;stroke-linecap:square;stroke-linejoin:miter;stroke-width:0.8;\"/>\r\n   </g>\r\n   <g id=\"patch_6\">\r\n    <path d=\"M 52.375 7.2 \r\nL 387.175 7.2 \r\n\" style=\"fill:none;stroke:#000000;stroke-linecap:square;stroke-linejoin:miter;stroke-width:0.8;\"/>\r\n   </g>\r\n  </g>\r\n </g>\r\n <defs>\r\n  <clipPath id=\"p32ea42c10d\">\r\n   <rect height=\"217.44\" width=\"334.8\" x=\"52.375\" y=\"7.2\"/>\r\n  </clipPath>\r\n </defs>\r\n</svg>\r\n",
      "image/png": "[encoded data removed]"
     },
     "metadata": {
      "needs_background": "light"
     }
    }
   ],
   "source": [
    "dendrogram(Z,truncate_mode='lastp',p=8)"
   ]
  },
  {
   "source": [
    "### Done with spearman rank and correlation above .65"
   ],
   "cell_type": "markdown",
   "metadata": {}
  },
  {
   "cell_type": "code",
   "execution_count": 82,
   "metadata": {},
   "outputs": [
    {
     "output_type": "stream",
     "name": "stdout",
     "text": [
      "\nZipCode                       0.225806\nLatitude                      0.134274\nLongitude                     0.092742\nElevation                     0.331720\nHouseholdsperZIPCode          0.852823\nAverageHouseValue             0.108065\nAvgIncomePerHousehold         0.145968\nPersonsPerHousehold           0.184423\nWhitePopulation               0.674194\nMedianAge                     0.135081\nMalePopulation                0.788710\nFemalePopulation              0.784677\nBlackPopulation               0.456094\nHispanicPopulation            0.781855\nRetiredWorkers                0.740726\nDisabledWorkers               0.631855\nSpouses                       0.620627\nChildren                      0.669624\nNumberofBusinesses            0.650403\n#ofEmployees                  0.436694\nPopulation                    0.900000\nCaseCountCumulative           1.000000\nCaseCount30                   0.891129\nCaseCount14                   0.873261\nCaseCountPer100KCumulative    0.378226\nCaseCountPer100K30            0.244355\nCaseCountPer100K14            0.133704\ndtype: float64\nCaseCount30             0.891129\nPopulation              0.900000\nCaseCount14             0.873261\nHouseholdsperZIPCode    0.852823\nMalePopulation          0.788710\nFemalePopulation        0.784677\nHispanicPopulation      0.781855\nWhitePopulation         0.674194\nChildren                0.669624\nNumberofBusinesses      0.650403\ndtype: float64\n"
     ]
    }
   ],
   "source": [
    "corr_arr_spearman = grand_zip_df.corrwith(grand_zip_df.CaseCountCumulative,method='spearman')\n",
    "INDEXARRAYSPEARMAN = [corr_arr_spearman.index.get_loc(i) for i in ['CaseCount30','Population','CaseCount14','HouseholdsperZIPCode','MalePopulation','FemalePopulation','HispanicPopulation','WhitePopulation','Children','NumberofBusinesses']]\n",
    "print()#[key for key, val in enumerate(a) if val in set(b)])ZipCode'\n",
    "print(corr_arr_spearman)\n",
    "print(corr_arr_spearman[INDEXARRAYSPEARMAN])"
   ]
  },
  {
   "source": [
    "Metric function\n",
    "\n",
    "This uses haversine formula"
   ],
   "cell_type": "markdown",
   "metadata": {}
  },
  {
   "cell_type": "code",
   "execution_count": 103,
   "metadata": {},
   "outputs": [],
   "source": [
    "def custom_metric0(central_1, central_2, weight=1):\n",
    "    lat1, lng1 = central_1[1:3]\n",
    "    lat2, lng2 = central_2[1:3]\n",
    "    lat1, lat2, lng1, lng2 = np.deg2rad(np.asarray([lat1, lat2, lng1, lng2]))\n",
    "\n",
    "    dlat = lat2 - lat1\n",
    "    dlng = lng2 - lng1\n",
    "    \n",
    "    h = (1 - np.cos(dlat))/2. + np.cos(lat1)*np.cos(lat2)*(1 - np.cos(dlng))/2.\n",
    "    km = 2*6371*np.arcsin(np.sqrt(h)) #2 and 6371 are constants that should be there\n",
    "    MW = np.abs(central_1[INDEXARRAYSPEARMAN] - central_2[INDEXARRAYSPEARMAN])\n",
    "    return km + np.sum(np.multiply(MW,corr_arr_spearman[INDEXARRAYSPEARMAN]))"
   ]
  },
  {
   "cell_type": "code",
   "execution_count": 104,
   "metadata": {
    "tags": []
   },
   "outputs": [],
   "source": [
    "Z0 = linkage(grand_zip_df, method='average', metric=custom_metric0)"
   ]
  },
  {
   "cell_type": "code",
   "execution_count": 102,
   "metadata": {},
   "outputs": [
    {
     "output_type": "execute_result",
     "data": {
      "text/plain": [
       "{'icoord': [[15.0, 15.0, 25.0, 25.0],\n",
       "  [45.0, 45.0, 55.0, 55.0],\n",
       "  [35.0, 35.0, 50.0, 50.0],\n",
       "  [20.0, 20.0, 42.5, 42.5],\n",
       "  [65.0, 65.0, 75.0, 75.0],\n",
       "  [85.0, 85.0, 95.0, 95.0],\n",
       "  [70.0, 70.0, 90.0, 90.0],\n",
       "  [31.25, 31.25, 80.0, 80.0],\n",
       "  [125.0, 125.0, 135.0, 135.0],\n",
       "  [115.0, 115.0, 130.0, 130.0],\n",
       "  [105.0, 105.0, 122.5, 122.5],\n",
       "  [145.0, 145.0, 155.0, 155.0],\n",
       "  [113.75, 113.75, 150.0, 150.0],\n",
       "  [205.0, 205.0, 215.0, 215.0],\n",
       "  [195.0, 195.0, 210.0, 210.0],\n",
       "  [185.0, 185.0, 202.5, 202.5],\n",
       "  [175.0, 175.0, 193.75, 193.75],\n",
       "  [225.0, 225.0, 235.0, 235.0],\n",
       "  [184.375, 184.375, 230.0, 230.0],\n",
       "  [165.0, 165.0, 207.1875, 207.1875],\n",
       "  [255.0, 255.0, 265.0, 265.0],\n",
       "  [275.0, 275.0, 285.0, 285.0],\n",
       "  [295.0, 295.0, 305.0, 305.0],\n",
       "  [280.0, 280.0, 300.0, 300.0],\n",
       "  [260.0, 260.0, 290.0, 290.0],\n",
       "  [245.0, 245.0, 275.0, 275.0],\n",
       "  [186.09375, 186.09375, 260.0, 260.0],\n",
       "  [131.875, 131.875, 223.046875, 223.046875],\n",
       "  [55.625, 55.625, 177.4609375, 177.4609375],\n",
       "  [5.0, 5.0, 116.54296875, 116.54296875]],\n",
       " 'dcoord': [[0.0, 6227.659591594635, 6227.659591594635, 0.0],\n",
       "  [0.0, 6410.370814655459, 6410.370814655459, 0.0],\n",
       "  [0.0, 7451.570398778141, 7451.570398778141, 6410.370814655459],\n",
       "  [6227.659591594635,\n",
       "   12301.439188855024,\n",
       "   12301.439188855024,\n",
       "   7451.570398778141],\n",
       "  [0.0, 5099.525159793803, 5099.525159793803, 0.0],\n",
       "  [0.0, 10210.694442258051, 10210.694442258051, 0.0],\n",
       "  [5099.525159793803,\n",
       "   15745.117830617131,\n",
       "   15745.117830617131,\n",
       "   10210.694442258051],\n",
       "  [12301.439188855024,\n",
       "   21924.45756743339,\n",
       "   21924.45756743339,\n",
       "   15745.117830617131],\n",
       "  [0.0, 1632.8272676783183, 1632.8272676783183, 0.0],\n",
       "  [0.0, 3784.217310482799, 3784.217310482799, 1632.8272676783183],\n",
       "  [0.0, 6439.712547685166, 6439.712547685166, 3784.217310482799],\n",
       "  [0.0, 9349.9345731495, 9349.9345731495, 0.0],\n",
       "  [6439.712547685166, 14223.371152042662, 14223.371152042662, 9349.9345731495],\n",
       "  [0.0, 2671.414885087049, 2671.414885087049, 0.0],\n",
       "  [0.0, 3572.013549030242, 3572.013549030242, 2671.414885087049],\n",
       "  [0.0, 5797.446120206223, 5797.446120206223, 3572.013549030242],\n",
       "  [0.0, 5877.14338811515, 5877.14338811515, 5797.446120206223],\n",
       "  [0.0, 10596.21652253988, 10596.21652253988, 0.0],\n",
       "  [5877.14338811515,\n",
       "   11403.222456318828,\n",
       "   11403.222456318828,\n",
       "   10596.21652253988],\n",
       "  [0.0, 11838.668684362608, 11838.668684362608, 11403.222456318828],\n",
       "  [0.0, 5509.7478902764815, 5509.7478902764815, 0.0],\n",
       "  [0.0, 2838.1635935540003, 2838.1635935540003, 0.0],\n",
       "  [0.0, 4549.575700844184, 4549.575700844184, 0.0],\n",
       "  [2838.1635935540003,\n",
       "   6399.981737517215,\n",
       "   6399.981737517215,\n",
       "   4549.575700844184],\n",
       "  [5509.7478902764815,\n",
       "   9937.759218677944,\n",
       "   9937.759218677944,\n",
       "   6399.981737517215],\n",
       "  [0.0, 13755.13175953542, 13755.13175953542, 9937.759218677944],\n",
       "  [11838.668684362608,\n",
       "   16629.793003728864,\n",
       "   16629.793003728864,\n",
       "   13755.13175953542],\n",
       "  [14223.371152042662,\n",
       "   32003.130257437002,\n",
       "   32003.130257437002,\n",
       "   16629.793003728864],\n",
       "  [21924.45756743339,\n",
       "   45357.46582127502,\n",
       "   45357.46582127502,\n",
       "   32003.130257437002],\n",
       "  [0.0, 205986.43353862554, 205986.43353862554, 45357.46582127502]],\n",
       " 'ivl': ['10',\n",
       "  '22',\n",
       "  '28',\n",
       "  '29',\n",
       "  '5',\n",
       "  '8',\n",
       "  '0',\n",
       "  '26',\n",
       "  '24',\n",
       "  '25',\n",
       "  '4',\n",
       "  '20',\n",
       "  '16',\n",
       "  '30',\n",
       "  '6',\n",
       "  '15',\n",
       "  '2',\n",
       "  '21',\n",
       "  '9',\n",
       "  '1',\n",
       "  '14',\n",
       "  '18',\n",
       "  '13',\n",
       "  '19',\n",
       "  '17',\n",
       "  '3',\n",
       "  '12',\n",
       "  '11',\n",
       "  '23',\n",
       "  '7',\n",
       "  '27'],\n",
       " 'leaves': [10,\n",
       "  22,\n",
       "  28,\n",
       "  29,\n",
       "  5,\n",
       "  8,\n",
       "  0,\n",
       "  26,\n",
       "  24,\n",
       "  25,\n",
       "  4,\n",
       "  20,\n",
       "  16,\n",
       "  30,\n",
       "  6,\n",
       "  15,\n",
       "  2,\n",
       "  21,\n",
       "  9,\n",
       "  1,\n",
       "  14,\n",
       "  18,\n",
       "  13,\n",
       "  19,\n",
       "  17,\n",
       "  3,\n",
       "  12,\n",
       "  11,\n",
       "  23,\n",
       "  7,\n",
       "  27],\n",
       " 'color_list': ['C1',\n",
       "  'C1',\n",
       "  'C1',\n",
       "  'C1',\n",
       "  'C1',\n",
       "  'C1',\n",
       "  'C1',\n",
       "  'C1',\n",
       "  'C1',\n",
       "  'C1',\n",
       "  'C1',\n",
       "  'C1',\n",
       "  'C1',\n",
       "  'C1',\n",
       "  'C1',\n",
       "  'C1',\n",
       "  'C1',\n",
       "  'C1',\n",
       "  'C1',\n",
       "  'C1',\n",
       "  'C1',\n",
       "  'C1',\n",
       "  'C1',\n",
       "  'C1',\n",
       "  'C1',\n",
       "  'C1',\n",
       "  'C1',\n",
       "  'C1',\n",
       "  'C1',\n",
       "  'C0']}"
      ]
     },
     "metadata": {},
     "execution_count": 102
    },
    {
     "output_type": "display_data",
     "data": {
      "text/plain": "<Figure size 432x288 with 1 Axes>",
      "image/svg+xml": "<?xml version=\"1.0\" encoding=\"utf-8\" standalone=\"no\"?>\r\n<!DOCTYPE svg PUBLIC \"-//W3C//DTD SVG 1.1//EN\"\r\n  \"http://www.w3.org/Graphics/SVG/1.1/DTD/svg11.dtd\">\r\n<!-- Created with matplotlib (https://matplotlib.org/) -->\r\n<svg height=\"251.513121pt\" version=\"1.1\" viewBox=\"0 0 395.311561 251.513121\" width=\"395.311561pt\" xmlns=\"http://www.w3.org/2000/svg\" xmlns:xlink=\"http://www.w3.org/1999/xlink\">\r\n <metadata>\r\n  <rdf:RDF xmlns:cc=\"http://creativecommons.org/ns#\" xmlns:dc=\"http://purl.org/dc/elements/1.1/\" xmlns:rdf=\"http://www.w3.org/1999/02/22-rdf-syntax-ns#\">\r\n   <cc:Work>\r\n    <dc:type rdf:resource=\"http://purl.org/dc/dcmitype/StillImage\"/>\r\n    <dc:date>2021-01-04T14:42:37.216823</dc:date>\r\n    <dc:format>image/svg+xml</dc:format>\r\n    <dc:creator>\r\n     <cc:Agent>\r\n      <dc:title>Matplotlib v3.3.1, https://matplotlib.org/</dc:title>\r\n     </cc:Agent>\r\n    </dc:creator>\r\n   </cc:Work>\r\n  </rdf:RDF>\r\n </metadata>\r\n <defs>\r\n  <style type=\"text/css\">*{stroke-linecap:butt;stroke-linejoin:round;}</style>\r\n </defs>\r\n <g id=\"figure_1\">\r\n  <g id=\"patch_1\">\r\n   <path d=\"M 0 251.513121 \r\nL 395.311561 251.513121 \r\nL 395.311561 0 \r\nL 0 0 \r\nz\r\n\" style=\"fill:none;\"/>\r\n  </g>\r\n  <g id=\"axes_1\">\r\n   <g id=\"patch_2\">\r\n    <path d=\"M 52.375 224.64 \r\nL 387.175 224.64 \r\nL 387.175 7.2 \r\nL 52.375 7.2 \r\nz\r\n\" style=\"fill:#ffffff;\"/>\r\n   </g>\r\n   <g id=\"matplotlib.axis_1\">\r\n    <g id=\"xtick_1\">\r\n     <g id=\"text_1\">\r\n      <!-- 10 -->\r\n      <g transform=\"translate(55.736765 243.136672)rotate(-45)scale(0.08 -0.08)\">\r\n       <defs>\r\n        <path d=\"M 12.40625 8.296875 \r\nL 28.515625 8.296875 \r\nL 28.515625 63.921875 \r\nL 10.984375 60.40625 \r\nL 10.984375 69.390625 \r\nL 28.421875 72.90625 \r\nL 38.28125 72.90625 \r\nL 38.28125 8.296875 \r\nL 54.390625 8.296875 \r\nL 54.390625 0 \r\nL 12.40625 0 \r\nz\r\n\" id=\"DejaVuSans-49\"/>\r\n        <path d=\"M 31.78125 66.40625 \r\nQ 24.171875 66.40625 20.328125 58.90625 \r\nQ 16.5 51.421875 16.5 36.375 \r\nQ 16.5 21.390625 20.328125 13.890625 \r\nQ 24.171875 6.390625 31.78125 6.390625 \r\nQ 39.453125 6.390625 43.28125 13.890625 \r\nQ 47.125 21.390625 47.125 36.375 \r\nQ 47.125 51.421875 43.28125 58.90625 \r\nQ 39.453125 66.40625 31.78125 66.40625 \r\nz\r\nM 31.78125 74.21875 \r\nQ 44.046875 74.21875 50.515625 64.515625 \r\nQ 56.984375 54.828125 56.984375 36.375 \r\nQ 56.984375 17.96875 50.515625 8.265625 \r\nQ 44.046875 -1.421875 31.78125 -1.421875 \r\nQ 19.53125 -1.421875 13.0625 8.265625 \r\nQ 6.59375 17.96875 6.59375 36.375 \r\nQ 6.59375 54.828125 13.0625 64.515625 \r\nQ 19.53125 74.21875 31.78125 74.21875 \r\nz\r\n\" id=\"DejaVuSans-48\"/>\r\n       </defs>\r\n       <use xlink:href=\"#DejaVuSans-49\"/>\r\n       <use x=\"63.623047\" xlink:href=\"#DejaVuSans-48\"/>\r\n      </g>\r\n     </g>\r\n    </g>\r\n    <g id=\"xtick_2\">\r\n     <g id=\"text_2\">\r\n      <!-- 22 -->\r\n      <g transform=\"translate(66.536765 243.136672)rotate(-45)scale(0.08 -0.08)\">\r\n       <defs>\r\n        <path d=\"M 19.1875 8.296875 \r\nL 53.609375 8.296875 \r\nL 53.609375 0 \r\nL 7.328125 0 \r\nL 7.328125 8.296875 \r\nQ 12.9375 14.109375 22.625 23.890625 \r\nQ 32.328125 33.6875 34.8125 36.53125 \r\nQ 39.546875 41.84375 41.421875 45.53125 \r\nQ 43.3125 49.21875 43.3125 52.78125 \r\nQ 43.3125 58.59375 39.234375 62.25 \r\nQ 35.15625 65.921875 28.609375 65.921875 \r\nQ 23.96875 65.921875 18.8125 64.3125 \r\nQ 13.671875 62.703125 7.8125 59.421875 \r\nL 7.8125 69.390625 \r\nQ 13.765625 71.78125 18.9375 73 \r\nQ 24.125 74.21875 28.421875 74.21875 \r\nQ 39.75 74.21875 46.484375 68.546875 \r\nQ 53.21875 62.890625 53.21875 53.421875 \r\nQ 53.21875 48.921875 51.53125 44.890625 \r\nQ 49.859375 40.875 45.40625 35.40625 \r\nQ 44.1875 33.984375 37.640625 27.21875 \r\nQ 31.109375 20.453125 19.1875 8.296875 \r\nz\r\n\" id=\"DejaVuSans-50\"/>\r\n       </defs>\r\n       <use xlink:href=\"#DejaVuSans-50\"/>\r\n       <use x=\"63.623047\" xlink:href=\"#DejaVuSans-50\"/>\r\n      </g>\r\n     </g>\r\n    </g>\r\n    <g id=\"xtick_3\">\r\n     <g id=\"text_3\">\r\n      <!-- 28 -->\r\n      <g transform=\"translate(77.336765 243.136672)rotate(-45)scale(0.08 -0.08)\">\r\n       <defs>\r\n        <path d=\"M 31.78125 34.625 \r\nQ 24.75 34.625 20.71875 30.859375 \r\nQ 16.703125 27.09375 16.703125 20.515625 \r\nQ 16.703125 13.921875 20.71875 10.15625 \r\nQ 24.75 6.390625 31.78125 6.390625 \r\nQ 38.8125 6.390625 42.859375 10.171875 \r\nQ 46.921875 13.96875 46.921875 20.515625 \r\nQ 46.921875 27.09375 42.890625 30.859375 \r\nQ 38.875 34.625 31.78125 34.625 \r\nz\r\nM 21.921875 38.8125 \r\nQ 15.578125 40.375 12.03125 44.71875 \r\nQ 8.5 49.078125 8.5 55.328125 \r\nQ 8.5 64.0625 14.71875 69.140625 \r\nQ 20.953125 74.21875 31.78125 74.21875 \r\nQ 42.671875 74.21875 48.875 69.140625 \r\nQ 55.078125 64.0625 55.078125 55.328125 \r\nQ 55.078125 49.078125 51.53125 44.71875 \r\nQ 48 40.375 41.703125 38.8125 \r\nQ 48.828125 37.15625 52.796875 32.3125 \r\nQ 56.78125 27.484375 56.78125 20.515625 \r\nQ 56.78125 9.90625 50.3125 4.234375 \r\nQ 43.84375 -1.421875 31.78125 -1.421875 \r\nQ 19.734375 -1.421875 13.25 4.234375 \r\nQ 6.78125 9.90625 6.78125 20.515625 \r\nQ 6.78125 27.484375 10.78125 32.3125 \r\nQ 14.796875 37.15625 21.921875 38.8125 \r\nz\r\nM 18.3125 54.390625 \r\nQ 18.3125 48.734375 21.84375 45.5625 \r\nQ 25.390625 42.390625 31.78125 42.390625 \r\nQ 38.140625 42.390625 41.71875 45.5625 \r\nQ 45.3125 48.734375 45.3125 54.390625 \r\nQ 45.3125 60.0625 41.71875 63.234375 \r\nQ 38.140625 66.40625 31.78125 66.40625 \r\nQ 25.390625 66.40625 21.84375 63.234375 \r\nQ 18.3125 60.0625 18.3125 54.390625 \r\nz\r\n\" id=\"DejaVuSans-56\"/>\r\n       </defs>\r\n       <use xlink:href=\"#DejaVuSans-50\"/>\r\n       <use x=\"63.623047\" xlink:href=\"#DejaVuSans-56\"/>\r\n      </g>\r\n     </g>\r\n    </g>\r\n    <g id=\"xtick_4\">\r\n     <g id=\"text_4\">\r\n      <!-- 29 -->\r\n      <g transform=\"translate(88.136765 243.136672)rotate(-45)scale(0.08 -0.08)\">\r\n       <defs>\r\n        <path d=\"M 10.984375 1.515625 \r\nL 10.984375 10.5 \r\nQ 14.703125 8.734375 18.5 7.8125 \r\nQ 22.3125 6.890625 25.984375 6.890625 \r\nQ 35.75 6.890625 40.890625 13.453125 \r\nQ 46.046875 20.015625 46.78125 33.40625 \r\nQ 43.953125 29.203125 39.59375 26.953125 \r\nQ 35.25 24.703125 29.984375 24.703125 \r\nQ 19.046875 24.703125 12.671875 31.3125 \r\nQ 6.296875 37.9375 6.296875 49.421875 \r\nQ 6.296875 60.640625 12.9375 67.421875 \r\nQ 19.578125 74.21875 30.609375 74.21875 \r\nQ 43.265625 74.21875 49.921875 64.515625 \r\nQ 56.59375 54.828125 56.59375 36.375 \r\nQ 56.59375 19.140625 48.40625 8.859375 \r\nQ 40.234375 -1.421875 26.421875 -1.421875 \r\nQ 22.703125 -1.421875 18.890625 -0.6875 \r\nQ 15.09375 0.046875 10.984375 1.515625 \r\nz\r\nM 30.609375 32.421875 \r\nQ 37.25 32.421875 41.125 36.953125 \r\nQ 45.015625 41.5 45.015625 49.421875 \r\nQ 45.015625 57.28125 41.125 61.84375 \r\nQ 37.25 66.40625 30.609375 66.40625 \r\nQ 23.96875 66.40625 20.09375 61.84375 \r\nQ 16.21875 57.28125 16.21875 49.421875 \r\nQ 16.21875 41.5 20.09375 36.953125 \r\nQ 23.96875 32.421875 30.609375 32.421875 \r\nz\r\n\" id=\"DejaVuSans-57\"/>\r\n       </defs>\r\n       <use xlink:href=\"#DejaVuSans-50\"/>\r\n       <use x=\"63.623047\" xlink:href=\"#DejaVuSans-57\"/>\r\n      </g>\r\n     </g>\r\n    </g>\r\n    <g id=\"xtick_5\">\r\n     <g id=\"text_5\">\r\n      <!-- 5 -->\r\n      <g transform=\"translate(100.736351 239.537499)rotate(-45)scale(0.08 -0.08)\">\r\n       <defs>\r\n        <path d=\"M 10.796875 72.90625 \r\nL 49.515625 72.90625 \r\nL 49.515625 64.59375 \r\nL 19.828125 64.59375 \r\nL 19.828125 46.734375 \r\nQ 21.96875 47.46875 24.109375 47.828125 \r\nQ 26.265625 48.1875 28.421875 48.1875 \r\nQ 40.625 48.1875 47.75 41.5 \r\nQ 54.890625 34.8125 54.890625 23.390625 \r\nQ 54.890625 11.625 47.5625 5.09375 \r\nQ 40.234375 -1.421875 26.90625 -1.421875 \r\nQ 22.3125 -1.421875 17.546875 -0.640625 \r\nQ 12.796875 0.140625 7.71875 1.703125 \r\nL 7.71875 11.625 \r\nQ 12.109375 9.234375 16.796875 8.0625 \r\nQ 21.484375 6.890625 26.703125 6.890625 \r\nQ 35.15625 6.890625 40.078125 11.328125 \r\nQ 45.015625 15.765625 45.015625 23.390625 \r\nQ 45.015625 31 40.078125 35.4375 \r\nQ 35.15625 39.890625 26.703125 39.890625 \r\nQ 22.75 39.890625 18.8125 39.015625 \r\nQ 14.890625 38.140625 10.796875 36.28125 \r\nz\r\n\" id=\"DejaVuSans-53\"/>\r\n       </defs>\r\n       <use xlink:href=\"#DejaVuSans-53\"/>\r\n      </g>\r\n     </g>\r\n    </g>\r\n    <g id=\"xtick_6\">\r\n     <g id=\"text_6\">\r\n      <!-- 8 -->\r\n      <g transform=\"translate(111.536351 239.537499)rotate(-45)scale(0.08 -0.08)\">\r\n       <use xlink:href=\"#DejaVuSans-56\"/>\r\n      </g>\r\n     </g>\r\n    </g>\r\n    <g id=\"xtick_7\">\r\n     <g id=\"text_7\">\r\n      <!-- 0 -->\r\n      <g transform=\"translate(122.336351 239.537499)rotate(-45)scale(0.08 -0.08)\">\r\n       <use xlink:href=\"#DejaVuSans-48\"/>\r\n      </g>\r\n     </g>\r\n    </g>\r\n    <g id=\"xtick_8\">\r\n     <g id=\"text_8\">\r\n      <!-- 26 -->\r\n      <g transform=\"translate(131.336765 243.136672)rotate(-45)scale(0.08 -0.08)\">\r\n       <defs>\r\n        <path d=\"M 33.015625 40.375 \r\nQ 26.375 40.375 22.484375 35.828125 \r\nQ 18.609375 31.296875 18.609375 23.390625 \r\nQ 18.609375 15.53125 22.484375 10.953125 \r\nQ 26.375 6.390625 33.015625 6.390625 \r\nQ 39.65625 6.390625 43.53125 10.953125 \r\nQ 47.40625 15.53125 47.40625 23.390625 \r\nQ 47.40625 31.296875 43.53125 35.828125 \r\nQ 39.65625 40.375 33.015625 40.375 \r\nz\r\nM 52.59375 71.296875 \r\nL 52.59375 62.3125 \r\nQ 48.875 64.0625 45.09375 64.984375 \r\nQ 41.3125 65.921875 37.59375 65.921875 \r\nQ 27.828125 65.921875 22.671875 59.328125 \r\nQ 17.53125 52.734375 16.796875 39.40625 \r\nQ 19.671875 43.65625 24.015625 45.921875 \r\nQ 28.375 48.1875 33.59375 48.1875 \r\nQ 44.578125 48.1875 50.953125 41.515625 \r\nQ 57.328125 34.859375 57.328125 23.390625 \r\nQ 57.328125 12.15625 50.6875 5.359375 \r\nQ 44.046875 -1.421875 33.015625 -1.421875 \r\nQ 20.359375 -1.421875 13.671875 8.265625 \r\nQ 6.984375 17.96875 6.984375 36.375 \r\nQ 6.984375 53.65625 15.1875 63.9375 \r\nQ 23.390625 74.21875 37.203125 74.21875 \r\nQ 40.921875 74.21875 44.703125 73.484375 \r\nQ 48.484375 72.75 52.59375 71.296875 \r\nz\r\n\" id=\"DejaVuSans-54\"/>\r\n       </defs>\r\n       <use xlink:href=\"#DejaVuSans-50\"/>\r\n       <use x=\"63.623047\" xlink:href=\"#DejaVuSans-54\"/>\r\n      </g>\r\n     </g>\r\n    </g>\r\n    <g id=\"xtick_9\">\r\n     <g id=\"text_9\">\r\n      <!-- 24 -->\r\n      <g transform=\"translate(142.136765 243.136672)rotate(-45)scale(0.08 -0.08)\">\r\n       <defs>\r\n        <path d=\"M 37.796875 64.3125 \r\nL 12.890625 25.390625 \r\nL 37.796875 25.390625 \r\nz\r\nM 35.203125 72.90625 \r\nL 47.609375 72.90625 \r\nL 47.609375 25.390625 \r\nL 58.015625 25.390625 \r\nL 58.015625 17.1875 \r\nL 47.609375 17.1875 \r\nL 47.609375 0 \r\nL 37.796875 0 \r\nL 37.796875 17.1875 \r\nL 4.890625 17.1875 \r\nL 4.890625 26.703125 \r\nz\r\n\" id=\"DejaVuSans-52\"/>\r\n       </defs>\r\n       <use xlink:href=\"#DejaVuSans-50\"/>\r\n       <use x=\"63.623047\" xlink:href=\"#DejaVuSans-52\"/>\r\n      </g>\r\n     </g>\r\n    </g>\r\n    <g id=\"xtick_10\">\r\n     <g id=\"text_10\">\r\n      <!-- 25 -->\r\n      <g transform=\"translate(152.936765 243.136672)rotate(-45)scale(0.08 -0.08)\">\r\n       <use xlink:href=\"#DejaVuSans-50\"/>\r\n       <use x=\"63.623047\" xlink:href=\"#DejaVuSans-53\"/>\r\n      </g>\r\n     </g>\r\n    </g>\r\n    <g id=\"xtick_11\">\r\n     <g id=\"text_11\">\r\n      <!-- 4 -->\r\n      <g transform=\"translate(165.536351 239.537499)rotate(-45)scale(0.08 -0.08)\">\r\n       <use xlink:href=\"#DejaVuSans-52\"/>\r\n      </g>\r\n     </g>\r\n    </g>\r\n    <g id=\"xtick_12\">\r\n     <g id=\"text_12\">\r\n      <!-- 20 -->\r\n      <g transform=\"translate(174.536765 243.136672)rotate(-45)scale(0.08 -0.08)\">\r\n       <use xlink:href=\"#DejaVuSans-50\"/>\r\n       <use x=\"63.623047\" xlink:href=\"#DejaVuSans-48\"/>\r\n      </g>\r\n     </g>\r\n    </g>\r\n    <g id=\"xtick_13\">\r\n     <g id=\"text_13\">\r\n      <!-- 16 -->\r\n      <g transform=\"translate(185.336765 243.136672)rotate(-45)scale(0.08 -0.08)\">\r\n       <use xlink:href=\"#DejaVuSans-49\"/>\r\n       <use x=\"63.623047\" xlink:href=\"#DejaVuSans-54\"/>\r\n      </g>\r\n     </g>\r\n    </g>\r\n    <g id=\"xtick_14\">\r\n     <g id=\"text_14\">\r\n      <!-- 30 -->\r\n      <g transform=\"translate(196.136765 243.136672)rotate(-45)scale(0.08 -0.08)\">\r\n       <defs>\r\n        <path d=\"M 40.578125 39.3125 \r\nQ 47.65625 37.796875 51.625 33 \r\nQ 55.609375 28.21875 55.609375 21.1875 \r\nQ 55.609375 10.40625 48.1875 4.484375 \r\nQ 40.765625 -1.421875 27.09375 -1.421875 \r\nQ 22.515625 -1.421875 17.65625 -0.515625 \r\nQ 12.796875 0.390625 7.625 2.203125 \r\nL 7.625 11.71875 \r\nQ 11.71875 9.328125 16.59375 8.109375 \r\nQ 21.484375 6.890625 26.8125 6.890625 \r\nQ 36.078125 6.890625 40.9375 10.546875 \r\nQ 45.796875 14.203125 45.796875 21.1875 \r\nQ 45.796875 27.640625 41.28125 31.265625 \r\nQ 36.765625 34.90625 28.71875 34.90625 \r\nL 20.21875 34.90625 \r\nL 20.21875 43.015625 \r\nL 29.109375 43.015625 \r\nQ 36.375 43.015625 40.234375 45.921875 \r\nQ 44.09375 48.828125 44.09375 54.296875 \r\nQ 44.09375 59.90625 40.109375 62.90625 \r\nQ 36.140625 65.921875 28.71875 65.921875 \r\nQ 24.65625 65.921875 20.015625 65.03125 \r\nQ 15.375 64.15625 9.8125 62.3125 \r\nL 9.8125 71.09375 \r\nQ 15.4375 72.65625 20.34375 73.4375 \r\nQ 25.25 74.21875 29.59375 74.21875 \r\nQ 40.828125 74.21875 47.359375 69.109375 \r\nQ 53.90625 64.015625 53.90625 55.328125 \r\nQ 53.90625 49.265625 50.4375 45.09375 \r\nQ 46.96875 40.921875 40.578125 39.3125 \r\nz\r\n\" id=\"DejaVuSans-51\"/>\r\n       </defs>\r\n       <use xlink:href=\"#DejaVuSans-51\"/>\r\n       <use x=\"63.623047\" xlink:href=\"#DejaVuSans-48\"/>\r\n      </g>\r\n     </g>\r\n    </g>\r\n    <g id=\"xtick_15\">\r\n     <g id=\"text_15\">\r\n      <!-- 6 -->\r\n      <g transform=\"translate(208.736351 239.537499)rotate(-45)scale(0.08 -0.08)\">\r\n       <use xlink:href=\"#DejaVuSans-54\"/>\r\n      </g>\r\n     </g>\r\n    </g>\r\n    <g id=\"xtick_16\">\r\n     <g id=\"text_16\">\r\n      <!-- 15 -->\r\n      <g transform=\"translate(217.736765 243.136672)rotate(-45)scale(0.08 -0.08)\">\r\n       <use xlink:href=\"#DejaVuSans-49\"/>\r\n       <use x=\"63.623047\" xlink:href=\"#DejaVuSans-53\"/>\r\n      </g>\r\n     </g>\r\n    </g>\r\n    <g id=\"xtick_17\">\r\n     <g id=\"text_17\">\r\n      <!-- 2 -->\r\n      <g transform=\"translate(230.336351 239.537499)rotate(-45)scale(0.08 -0.08)\">\r\n       <use xlink:href=\"#DejaVuSans-50\"/>\r\n      </g>\r\n     </g>\r\n    </g>\r\n    <g id=\"xtick_18\">\r\n     <g id=\"text_18\">\r\n      <!-- 21 -->\r\n      <g transform=\"translate(239.336765 243.136672)rotate(-45)scale(0.08 -0.08)\">\r\n       <use xlink:href=\"#DejaVuSans-50\"/>\r\n       <use x=\"63.623047\" xlink:href=\"#DejaVuSans-49\"/>\r\n      </g>\r\n     </g>\r\n    </g>\r\n    <g id=\"xtick_19\">\r\n     <g id=\"text_19\">\r\n      <!-- 9 -->\r\n      <g transform=\"translate(251.936351 239.537499)rotate(-45)scale(0.08 -0.08)\">\r\n       <use xlink:href=\"#DejaVuSans-57\"/>\r\n      </g>\r\n     </g>\r\n    </g>\r\n    <g id=\"xtick_20\">\r\n     <g id=\"text_20\">\r\n      <!-- 1 -->\r\n      <g transform=\"translate(262.736351 239.537499)rotate(-45)scale(0.08 -0.08)\">\r\n       <use xlink:href=\"#DejaVuSans-49\"/>\r\n      </g>\r\n     </g>\r\n    </g>\r\n    <g id=\"xtick_21\">\r\n     <g id=\"text_21\">\r\n      <!-- 14 -->\r\n      <g transform=\"translate(271.736765 243.136672)rotate(-45)scale(0.08 -0.08)\">\r\n       <use xlink:href=\"#DejaVuSans-49\"/>\r\n       <use x=\"63.623047\" xlink:href=\"#DejaVuSans-52\"/>\r\n      </g>\r\n     </g>\r\n    </g>\r\n    <g id=\"xtick_22\">\r\n     <g id=\"text_22\">\r\n      <!-- 18 -->\r\n      <g transform=\"translate(282.536765 243.136672)rotate(-45)scale(0.08 -0.08)\">\r\n       <use xlink:href=\"#DejaVuSans-49\"/>\r\n       <use x=\"63.623047\" xlink:href=\"#DejaVuSans-56\"/>\r\n      </g>\r\n     </g>\r\n    </g>\r\n    <g id=\"xtick_23\">\r\n     <g id=\"text_23\">\r\n      <!-- 13 -->\r\n      <g transform=\"translate(293.336765 243.136672)rotate(-45)scale(0.08 -0.08)\">\r\n       <use xlink:href=\"#DejaVuSans-49\"/>\r\n       <use x=\"63.623047\" xlink:href=\"#DejaVuSans-51\"/>\r\n      </g>\r\n     </g>\r\n    </g>\r\n    <g id=\"xtick_24\">\r\n     <g id=\"text_24\">\r\n      <!-- 19 -->\r\n      <g transform=\"translate(304.136765 243.136672)rotate(-45)scale(0.08 -0.08)\">\r\n       <use xlink:href=\"#DejaVuSans-49\"/>\r\n       <use x=\"63.623047\" xlink:href=\"#DejaVuSans-57\"/>\r\n      </g>\r\n     </g>\r\n    </g>\r\n    <g id=\"xtick_25\">\r\n     <g id=\"text_25\">\r\n      <!-- 17 -->\r\n      <g transform=\"translate(314.936765 243.136672)rotate(-45)scale(0.08 -0.08)\">\r\n       <defs>\r\n        <path d=\"M 8.203125 72.90625 \r\nL 55.078125 72.90625 \r\nL 55.078125 68.703125 \r\nL 28.609375 0 \r\nL 18.3125 0 \r\nL 43.21875 64.59375 \r\nL 8.203125 64.59375 \r\nz\r\n\" id=\"DejaVuSans-55\"/>\r\n       </defs>\r\n       <use xlink:href=\"#DejaVuSans-49\"/>\r\n       <use x=\"63.623047\" xlink:href=\"#DejaVuSans-55\"/>\r\n      </g>\r\n     </g>\r\n    </g>\r\n    <g id=\"xtick_26\">\r\n     <g id=\"text_26\">\r\n      <!-- 3 -->\r\n      <g transform=\"translate(327.536351 239.537499)rotate(-45)scale(0.08 -0.08)\">\r\n       <use xlink:href=\"#DejaVuSans-51\"/>\r\n      </g>\r\n     </g>\r\n    </g>\r\n    <g id=\"xtick_27\">\r\n     <g id=\"text_27\">\r\n      <!-- 12 -->\r\n      <g transform=\"translate(336.536765 243.136672)rotate(-45)scale(0.08 -0.08)\">\r\n       <use xlink:href=\"#DejaVuSans-49\"/>\r\n       <use x=\"63.623047\" xlink:href=\"#DejaVuSans-50\"/>\r\n      </g>\r\n     </g>\r\n    </g>\r\n    <g id=\"xtick_28\">\r\n     <g id=\"text_28\">\r\n      <!-- 11 -->\r\n      <g transform=\"translate(347.336765 243.136672)rotate(-45)scale(0.08 -0.08)\">\r\n       <use xlink:href=\"#DejaVuSans-49\"/>\r\n       <use x=\"63.623047\" xlink:href=\"#DejaVuSans-49\"/>\r\n      </g>\r\n     </g>\r\n    </g>\r\n    <g id=\"xtick_29\">\r\n     <g id=\"text_29\">\r\n      <!-- 23 -->\r\n      <g transform=\"translate(358.136765 243.136672)rotate(-45)scale(0.08 -0.08)\">\r\n       <use xlink:href=\"#DejaVuSans-50\"/>\r\n       <use x=\"63.623047\" xlink:href=\"#DejaVuSans-51\"/>\r\n      </g>\r\n     </g>\r\n    </g>\r\n    <g id=\"xtick_30\">\r\n     <g id=\"text_30\">\r\n      <!-- 7 -->\r\n      <g transform=\"translate(370.736351 239.537499)rotate(-45)scale(0.08 -0.08)\">\r\n       <use xlink:href=\"#DejaVuSans-55\"/>\r\n      </g>\r\n     </g>\r\n    </g>\r\n    <g id=\"xtick_31\">\r\n     <g id=\"text_31\">\r\n      <!-- 27 -->\r\n      <g transform=\"translate(379.736765 243.136672)rotate(-45)scale(0.08 -0.08)\">\r\n       <use xlink:href=\"#DejaVuSans-50\"/>\r\n       <use x=\"63.623047\" xlink:href=\"#DejaVuSans-55\"/>\r\n      </g>\r\n     </g>\r\n    </g>\r\n   </g>\r\n   <g id=\"matplotlib.axis_2\">\r\n    <g id=\"ytick_1\">\r\n     <g id=\"line2d_1\">\r\n      <defs>\r\n       <path d=\"M 0 0 \r\nL -3.5 0 \r\n\" id=\"m6c8bbe0200\" style=\"stroke:#000000;stroke-width:0.8;\"/>\r\n      </defs>\r\n      <g>\r\n       <use style=\"stroke:#000000;stroke-width:0.8;\" x=\"52.375\" xlink:href=\"#m6c8bbe0200\" y=\"224.64\"/>\r\n      </g>\r\n     </g>\r\n     <g id=\"text_32\">\r\n      <!-- 0 -->\r\n      <g transform=\"translate(39.0125 228.439219)scale(0.1 -0.1)\">\r\n       <use xlink:href=\"#DejaVuSans-48\"/>\r\n      </g>\r\n     </g>\r\n    </g>\r\n    <g id=\"ytick_2\">\r\n     <g id=\"line2d_2\">\r\n      <g>\r\n       <use style=\"stroke:#000000;stroke-width:0.8;\" x=\"52.375\" xlink:href=\"#m6c8bbe0200\" y=\"199.506583\"/>\r\n      </g>\r\n     </g>\r\n     <g id=\"text_33\">\r\n      <!-- 25000 -->\r\n      <g transform=\"translate(13.5625 203.305802)scale(0.1 -0.1)\">\r\n       <use xlink:href=\"#DejaVuSans-50\"/>\r\n       <use x=\"63.623047\" xlink:href=\"#DejaVuSans-53\"/>\r\n       <use x=\"127.246094\" xlink:href=\"#DejaVuSans-48\"/>\r\n       <use x=\"190.869141\" xlink:href=\"#DejaVuSans-48\"/>\r\n       <use x=\"254.492188\" xlink:href=\"#DejaVuSans-48\"/>\r\n      </g>\r\n     </g>\r\n    </g>\r\n    <g id=\"ytick_3\">\r\n     <g id=\"line2d_3\">\r\n      <g>\r\n       <use style=\"stroke:#000000;stroke-width:0.8;\" x=\"52.375\" xlink:href=\"#m6c8bbe0200\" y=\"174.373167\"/>\r\n      </g>\r\n     </g>\r\n     <g id=\"text_34\">\r\n      <!-- 50000 -->\r\n      <g transform=\"translate(13.5625 178.172385)scale(0.1 -0.1)\">\r\n       <use xlink:href=\"#DejaVuSans-53\"/>\r\n       <use x=\"63.623047\" xlink:href=\"#DejaVuSans-48\"/>\r\n       <use x=\"127.246094\" xlink:href=\"#DejaVuSans-48\"/>\r\n       <use x=\"190.869141\" xlink:href=\"#DejaVuSans-48\"/>\r\n       <use x=\"254.492188\" xlink:href=\"#DejaVuSans-48\"/>\r\n      </g>\r\n     </g>\r\n    </g>\r\n    <g id=\"ytick_4\">\r\n     <g id=\"line2d_4\">\r\n      <g>\r\n       <use style=\"stroke:#000000;stroke-width:0.8;\" x=\"52.375\" xlink:href=\"#m6c8bbe0200\" y=\"149.23975\"/>\r\n      </g>\r\n     </g>\r\n     <g id=\"text_35\">\r\n      <!-- 75000 -->\r\n      <g transform=\"translate(13.5625 153.038969)scale(0.1 -0.1)\">\r\n       <use xlink:href=\"#DejaVuSans-55\"/>\r\n       <use x=\"63.623047\" xlink:href=\"#DejaVuSans-53\"/>\r\n       <use x=\"127.246094\" xlink:href=\"#DejaVuSans-48\"/>\r\n       <use x=\"190.869141\" xlink:href=\"#DejaVuSans-48\"/>\r\n       <use x=\"254.492188\" xlink:href=\"#DejaVuSans-48\"/>\r\n      </g>\r\n     </g>\r\n    </g>\r\n    <g id=\"ytick_5\">\r\n     <g id=\"line2d_5\">\r\n      <g>\r\n       <use style=\"stroke:#000000;stroke-width:0.8;\" x=\"52.375\" xlink:href=\"#m6c8bbe0200\" y=\"124.106333\"/>\r\n      </g>\r\n     </g>\r\n     <g id=\"text_36\">\r\n      <!-- 100000 -->\r\n      <g transform=\"translate(7.2 127.905552)scale(0.1 -0.1)\">\r\n       <use xlink:href=\"#DejaVuSans-49\"/>\r\n       <use x=\"63.623047\" xlink:href=\"#DejaVuSans-48\"/>\r\n       <use x=\"127.246094\" xlink:href=\"#DejaVuSans-48\"/>\r\n       <use x=\"190.869141\" xlink:href=\"#DejaVuSans-48\"/>\r\n       <use x=\"254.492188\" xlink:href=\"#DejaVuSans-48\"/>\r\n       <use x=\"318.115234\" xlink:href=\"#DejaVuSans-48\"/>\r\n      </g>\r\n     </g>\r\n    </g>\r\n    <g id=\"ytick_6\">\r\n     <g id=\"line2d_6\">\r\n      <g>\r\n       <use style=\"stroke:#000000;stroke-width:0.8;\" x=\"52.375\" xlink:href=\"#m6c8bbe0200\" y=\"98.972917\"/>\r\n      </g>\r\n     </g>\r\n     <g id=\"text_37\">\r\n      <!-- 125000 -->\r\n      <g transform=\"translate(7.2 102.772136)scale(0.1 -0.1)\">\r\n       <use xlink:href=\"#DejaVuSans-49\"/>\r\n       <use x=\"63.623047\" xlink:href=\"#DejaVuSans-50\"/>\r\n       <use x=\"127.246094\" xlink:href=\"#DejaVuSans-53\"/>\r\n       <use x=\"190.869141\" xlink:href=\"#DejaVuSans-48\"/>\r\n       <use x=\"254.492188\" xlink:href=\"#DejaVuSans-48\"/>\r\n       <use x=\"318.115234\" xlink:href=\"#DejaVuSans-48\"/>\r\n      </g>\r\n     </g>\r\n    </g>\r\n    <g id=\"ytick_7\">\r\n     <g id=\"line2d_7\">\r\n      <g>\r\n       <use style=\"stroke:#000000;stroke-width:0.8;\" x=\"52.375\" xlink:href=\"#m6c8bbe0200\" y=\"73.8395\"/>\r\n      </g>\r\n     </g>\r\n     <g id=\"text_38\">\r\n      <!-- 150000 -->\r\n      <g transform=\"translate(7.2 77.638719)scale(0.1 -0.1)\">\r\n       <use xlink:href=\"#DejaVuSans-49\"/>\r\n       <use x=\"63.623047\" xlink:href=\"#DejaVuSans-53\"/>\r\n       <use x=\"127.246094\" xlink:href=\"#DejaVuSans-48\"/>\r\n       <use x=\"190.869141\" xlink:href=\"#DejaVuSans-48\"/>\r\n       <use x=\"254.492188\" xlink:href=\"#DejaVuSans-48\"/>\r\n       <use x=\"318.115234\" xlink:href=\"#DejaVuSans-48\"/>\r\n      </g>\r\n     </g>\r\n    </g>\r\n    <g id=\"ytick_8\">\r\n     <g id=\"line2d_8\">\r\n      <g>\r\n       <use style=\"stroke:#000000;stroke-width:0.8;\" x=\"52.375\" xlink:href=\"#m6c8bbe0200\" y=\"48.706083\"/>\r\n      </g>\r\n     </g>\r\n     <g id=\"text_39\">\r\n      <!-- 175000 -->\r\n      <g transform=\"translate(7.2 52.505302)scale(0.1 -0.1)\">\r\n       <use xlink:href=\"#DejaVuSans-49\"/>\r\n       <use x=\"63.623047\" xlink:href=\"#DejaVuSans-55\"/>\r\n       <use x=\"127.246094\" xlink:href=\"#DejaVuSans-53\"/>\r\n       <use x=\"190.869141\" xlink:href=\"#DejaVuSans-48\"/>\r\n       <use x=\"254.492188\" xlink:href=\"#DejaVuSans-48\"/>\r\n       <use x=\"318.115234\" xlink:href=\"#DejaVuSans-48\"/>\r\n      </g>\r\n     </g>\r\n    </g>\r\n    <g id=\"ytick_9\">\r\n     <g id=\"line2d_9\">\r\n      <g>\r\n       <use style=\"stroke:#000000;stroke-width:0.8;\" x=\"52.375\" xlink:href=\"#m6c8bbe0200\" y=\"23.572667\"/>\r\n      </g>\r\n     </g>\r\n     <g id=\"text_40\">\r\n      <!-- 200000 -->\r\n      <g transform=\"translate(7.2 27.371886)scale(0.1 -0.1)\">\r\n       <use xlink:href=\"#DejaVuSans-50\"/>\r\n       <use x=\"63.623047\" xlink:href=\"#DejaVuSans-48\"/>\r\n       <use x=\"127.246094\" xlink:href=\"#DejaVuSans-48\"/>\r\n       <use x=\"190.869141\" xlink:href=\"#DejaVuSans-48\"/>\r\n       <use x=\"254.492188\" xlink:href=\"#DejaVuSans-48\"/>\r\n       <use x=\"318.115234\" xlink:href=\"#DejaVuSans-48\"/>\r\n      </g>\r\n     </g>\r\n    </g>\r\n   </g>\r\n   <g id=\"LineCollection_1\">\r\n    <path clip-path=\"url(#pc00aa4dacb)\" d=\"M 68.575 224.64 \r\nL 68.575 218.379105 \r\nL 79.375 218.379105 \r\nL 79.375 224.64 \r\n\" style=\"fill:none;stroke:#ff7f0e;stroke-width:1.5;\"/>\r\n    <path clip-path=\"url(#pc00aa4dacb)\" d=\"M 100.975 224.64 \r\nL 100.975 218.195419 \r\nL 111.775 218.195419 \r\nL 111.775 224.64 \r\n\" style=\"fill:none;stroke:#ff7f0e;stroke-width:1.5;\"/>\r\n    <path clip-path=\"url(#pc00aa4dacb)\" d=\"M 90.175 224.64 \r\nL 90.175 217.148663 \r\nL 106.375 217.148663 \r\nL 106.375 218.195419 \r\n\" style=\"fill:none;stroke:#ff7f0e;stroke-width:1.5;\"/>\r\n    <path clip-path=\"url(#pc00aa4dacb)\" d=\"M 73.975 218.379105 \r\nL 73.975 212.272912 \r\nL 98.275 212.272912 \r\nL 98.275 217.148663 \r\n\" style=\"fill:none;stroke:#ff7f0e;stroke-width:1.5;\"/>\r\n    <path clip-path=\"url(#pc00aa4dacb)\" d=\"M 122.575 224.64 \r\nL 122.575 219.51326 \r\nL 133.375 219.51326 \r\nL 133.375 224.64 \r\n\" style=\"fill:none;stroke:#ff7f0e;stroke-width:1.5;\"/>\r\n    <path clip-path=\"url(#pc00aa4dacb)\" d=\"M 144.175 224.64 \r\nL 144.175 214.374814 \r\nL 154.975 214.374814 \r\nL 154.975 224.64 \r\n\" style=\"fill:none;stroke:#ff7f0e;stroke-width:1.5;\"/>\r\n    <path clip-path=\"url(#pc00aa4dacb)\" d=\"M 127.975 219.51326 \r\nL 127.975 208.810856 \r\nL 149.575 208.810856 \r\nL 149.575 214.374814 \r\n\" style=\"fill:none;stroke:#ff7f0e;stroke-width:1.5;\"/>\r\n    <path clip-path=\"url(#pc00aa4dacb)\" d=\"M 86.125 212.272912 \r\nL 86.125 202.598539 \r\nL 138.775 202.598539 \r\nL 138.775 208.810856 \r\n\" style=\"fill:none;stroke:#ff7f0e;stroke-width:1.5;\"/>\r\n    <path clip-path=\"url(#pc00aa4dacb)\" d=\"M 187.375 224.64 \r\nL 187.375 222.998459 \r\nL 198.175 222.998459 \r\nL 198.175 224.64 \r\n\" style=\"fill:none;stroke:#ff7f0e;stroke-width:1.5;\"/>\r\n    <path clip-path=\"url(#pc00aa4dacb)\" d=\"M 176.575 224.64 \r\nL 176.575 220.835588 \r\nL 192.775 220.835588 \r\nL 192.775 222.998459 \r\n\" style=\"fill:none;stroke:#ff7f0e;stroke-width:1.5;\"/>\r\n    <path clip-path=\"url(#pc00aa4dacb)\" d=\"M 165.775 224.64 \r\nL 165.775 218.165921 \r\nL 184.675 218.165921 \r\nL 184.675 220.835588 \r\n\" style=\"fill:none;stroke:#ff7f0e;stroke-width:1.5;\"/>\r\n    <path clip-path=\"url(#pc00aa4dacb)\" d=\"M 208.975 224.64 \r\nL 208.975 215.240168 \r\nL 219.775 215.240168 \r\nL 219.775 224.64 \r\n\" style=\"fill:none;stroke:#ff7f0e;stroke-width:1.5;\"/>\r\n    <path clip-path=\"url(#pc00aa4dacb)\" d=\"M 175.225 218.165921 \r\nL 175.225 210.340723 \r\nL 214.375 210.340723 \r\nL 214.375 215.240168 \r\n\" style=\"fill:none;stroke:#ff7f0e;stroke-width:1.5;\"/>\r\n    <path clip-path=\"url(#pc00aa4dacb)\" d=\"M 273.775 224.64 \r\nL 273.775 221.954329 \r\nL 284.575 221.954329 \r\nL 284.575 224.64 \r\n\" style=\"fill:none;stroke:#ff7f0e;stroke-width:1.5;\"/>\r\n    <path clip-path=\"url(#pc00aa4dacb)\" d=\"M 262.975 224.64 \r\nL 262.975 221.048924 \r\nL 279.175 221.048924 \r\nL 279.175 221.954329 \r\n\" style=\"fill:none;stroke:#ff7f0e;stroke-width:1.5;\"/>\r\n    <path clip-path=\"url(#pc00aa4dacb)\" d=\"M 252.175 224.64 \r\nL 252.175 218.811615 \r\nL 271.075 218.811615 \r\nL 271.075 221.048924 \r\n\" style=\"fill:none;stroke:#ff7f0e;stroke-width:1.5;\"/>\r\n    <path clip-path=\"url(#pc00aa4dacb)\" d=\"M 241.375 224.64 \r\nL 241.375 218.731492 \r\nL 261.625 218.731492 \r\nL 261.625 218.811615 \r\n\" style=\"fill:none;stroke:#ff7f0e;stroke-width:1.5;\"/>\r\n    <path clip-path=\"url(#pc00aa4dacb)\" d=\"M 295.375 224.64 \r\nL 295.375 213.987235 \r\nL 306.175 213.987235 \r\nL 306.175 224.64 \r\n\" style=\"fill:none;stroke:#ff7f0e;stroke-width:1.5;\"/>\r\n    <path clip-path=\"url(#pc00aa4dacb)\" d=\"M 251.5 218.731492 \r\nL 251.5 213.175922 \r\nL 300.775 213.175922 \r\nL 300.775 213.987235 \r\n\" style=\"fill:none;stroke:#ff7f0e;stroke-width:1.5;\"/>\r\n    <path clip-path=\"url(#pc00aa4dacb)\" d=\"M 230.575 224.64 \r\nL 230.575 212.738152 \r\nL 276.1375 212.738152 \r\nL 276.1375 213.175922 \r\n\" style=\"fill:none;stroke:#ff7f0e;stroke-width:1.5;\"/>\r\n    <path clip-path=\"url(#pc00aa4dacb)\" d=\"M 327.775 224.64 \r\nL 327.775 219.100848 \r\nL 338.575 219.100848 \r\nL 338.575 224.64 \r\n\" style=\"fill:none;stroke:#ff7f0e;stroke-width:1.5;\"/>\r\n    <path clip-path=\"url(#pc00aa4dacb)\" d=\"M 349.375 224.64 \r\nL 349.375 221.78669 \r\nL 360.175 221.78669 \r\nL 360.175 224.64 \r\n\" style=\"fill:none;stroke:#ff7f0e;stroke-width:1.5;\"/>\r\n    <path clip-path=\"url(#pc00aa4dacb)\" d=\"M 370.975 224.64 \r\nL 370.975 220.066145 \r\nL 381.775 220.066145 \r\nL 381.775 224.64 \r\n\" style=\"fill:none;stroke:#ff7f0e;stroke-width:1.5;\"/>\r\n    <path clip-path=\"url(#pc00aa4dacb)\" d=\"M 354.775 221.78669 \r\nL 354.775 218.205864 \r\nL 376.375 218.205864 \r\nL 376.375 220.066145 \r\n\" style=\"fill:none;stroke:#ff7f0e;stroke-width:1.5;\"/>\r\n    <path clip-path=\"url(#pc00aa4dacb)\" d=\"M 333.175 219.100848 \r\nL 333.175 214.649206 \r\nL 365.575 214.649206 \r\nL 365.575 218.205864 \r\n\" style=\"fill:none;stroke:#ff7f0e;stroke-width:1.5;\"/>\r\n    <path clip-path=\"url(#pc00aa4dacb)\" d=\"M 316.975 224.64 \r\nL 316.975 210.811462 \r\nL 349.375 210.811462 \r\nL 349.375 214.649206 \r\n\" style=\"fill:none;stroke:#ff7f0e;stroke-width:1.5;\"/>\r\n    <path clip-path=\"url(#pc00aa4dacb)\" d=\"M 253.35625 212.738152 \r\nL 253.35625 207.921459 \r\nL 333.175 207.921459 \r\nL 333.175 210.811462 \r\n\" style=\"fill:none;stroke:#ff7f0e;stroke-width:1.5;\"/>\r\n    <path clip-path=\"url(#pc00aa4dacb)\" d=\"M 194.8 210.340723 \r\nL 194.8 192.46608 \r\nL 293.265625 192.46608 \r\nL 293.265625 207.921459 \r\n\" style=\"fill:none;stroke:#ff7f0e;stroke-width:1.5;\"/>\r\n    <path clip-path=\"url(#pc00aa4dacb)\" d=\"M 112.45 202.598539 \r\nL 112.45 179.040477 \r\nL 244.032813 179.040477 \r\nL 244.032813 192.46608 \r\n\" style=\"fill:none;stroke:#ff7f0e;stroke-width:1.5;\"/>\r\n   </g>\r\n   <g id=\"LineCollection_2\">\r\n    <path clip-path=\"url(#pc00aa4dacb)\" d=\"M 57.775 224.64 \r\nL 57.775 17.554286 \r\nL 178.241406 17.554286 \r\nL 178.241406 179.040477 \r\n\" style=\"fill:none;stroke:#1f77b4;stroke-width:1.5;\"/>\r\n   </g>\r\n   <g id=\"patch_3\">\r\n    <path d=\"M 52.375 224.64 \r\nL 52.375 7.2 \r\n\" style=\"fill:none;stroke:#000000;stroke-linecap:square;stroke-linejoin:miter;stroke-width:0.8;\"/>\r\n   </g>\r\n   <g id=\"patch_4\">\r\n    <path d=\"M 387.175 224.64 \r\nL 387.175 7.2 \r\n\" style=\"fill:none;stroke:#000000;stroke-linecap:square;stroke-linejoin:miter;stroke-width:0.8;\"/>\r\n   </g>\r\n   <g id=\"patch_5\">\r\n    <path d=\"M 52.375 224.64 \r\nL 387.175 224.64 \r\n\" style=\"fill:none;stroke:#000000;stroke-linecap:square;stroke-linejoin:miter;stroke-width:0.8;\"/>\r\n   </g>\r\n   <g id=\"patch_6\">\r\n    <path d=\"M 52.375 7.2 \r\nL 387.175 7.2 \r\n\" style=\"fill:none;stroke:#000000;stroke-linecap:square;stroke-linejoin:miter;stroke-width:0.8;\"/>\r\n   </g>\r\n  </g>\r\n </g>\r\n <defs>\r\n  <clipPath id=\"pc00aa4dacb\">\r\n   <rect height=\"217.44\" width=\"334.8\" x=\"52.375\" y=\"7.2\"/>\r\n  </clipPath>\r\n </defs>\r\n</svg>\r\n",
      "image/png": "[encoded data removed]"
     },
     "metadata": {
      "needs_background": "light"
     }
    }
   ],
   "source": [
    "dendrogram(Z0)"
   ]
  },
  {
   "cell_type": "code",
   "execution_count": 112,
   "metadata": {},
   "outputs": [
    {
     "output_type": "execute_result",
     "data": {
      "text/plain": [
       "{'icoord': [[15.0, 15.0, 25.0, 25.0],\n",
       "  [35.0, 35.0, 45.0, 45.0],\n",
       "  [20.0, 20.0, 40.0, 40.0],\n",
       "  [55.0, 55.0, 65.0, 65.0],\n",
       "  [85.0, 85.0, 95.0, 95.0],\n",
       "  [75.0, 75.0, 90.0, 90.0],\n",
       "  [60.0, 60.0, 82.5, 82.5],\n",
       "  [30.0, 30.0, 71.25, 71.25],\n",
       "  [5.0, 5.0, 50.625, 50.625]],\n",
       " 'dcoord': [[0.0, 12301.439188855024, 12301.439188855024, 0.0],\n",
       "  [0.0, 15745.117830617131, 15745.117830617131, 0.0],\n",
       "  [12301.439188855024,\n",
       "   21924.45756743339,\n",
       "   21924.45756743339,\n",
       "   15745.117830617131],\n",
       "  [0.0, 14223.371152042662, 14223.371152042662, 0.0],\n",
       "  [0.0, 13755.13175953542, 13755.13175953542, 0.0],\n",
       "  [0.0, 16629.793003728864, 16629.793003728864, 13755.13175953542],\n",
       "  [14223.371152042662,\n",
       "   32003.130257437002,\n",
       "   32003.130257437002,\n",
       "   16629.793003728864],\n",
       "  [21924.45756743339,\n",
       "   45357.46582127502,\n",
       "   45357.46582127502,\n",
       "   32003.130257437002],\n",
       "  [0.0, 205986.43353862554, 205986.43353862554, 45357.46582127502]],\n",
       " 'ivl': ['10', '(2)', '(3)', '(2)', '(2)', '(4)', '(2)', '(8)', '17', '(6)'],\n",
       " 'leaves': [10, 41, 45, 37, 48, 44, 46, 51, 17, 47],\n",
       " 'color_list': ['C1', 'C1', 'C1', 'C1', 'C1', 'C1', 'C1', 'C1', 'C0']}"
      ]
     },
     "metadata": {},
     "execution_count": 112
    },
    {
     "output_type": "display_data",
     "data": {
      "text/plain": "<Figure size 432x288 with 1 Axes>",
      "image/svg+xml": "<?xml version=\"1.0\" encoding=\"utf-8\" standalone=\"no\"?>\r\n<!DOCTYPE svg PUBLIC \"-//W3C//DTD SVG 1.1//EN\"\r\n  \"http://www.w3.org/Graphics/SVG/1.1/DTD/svg11.dtd\">\r\n<!-- Created with matplotlib (https://matplotlib.org/) -->\r\n<svg height=\"250.45375pt\" version=\"1.1\" viewBox=\"0 0 394.375 250.45375\" width=\"394.375pt\" xmlns=\"http://www.w3.org/2000/svg\" xmlns:xlink=\"http://www.w3.org/1999/xlink\">\r\n <metadata>\r\n  <rdf:RDF xmlns:cc=\"http://creativecommons.org/ns#\" xmlns:dc=\"http://purl.org/dc/elements/1.1/\" xmlns:rdf=\"http://www.w3.org/1999/02/22-rdf-syntax-ns#\">\r\n   <cc:Work>\r\n    <dc:type rdf:resource=\"http://purl.org/dc/dcmitype/StillImage\"/>\r\n    <dc:date>2021-01-04T14:45:52.710041</dc:date>\r\n    <dc:format>image/svg+xml</dc:format>\r\n    <dc:creator>\r\n     <cc:Agent>\r\n      <dc:title>Matplotlib v3.3.1, https://matplotlib.org/</dc:title>\r\n     </cc:Agent>\r\n    </dc:creator>\r\n   </cc:Work>\r\n  </rdf:RDF>\r\n </metadata>\r\n <defs>\r\n  <style type=\"text/css\">*{stroke-linecap:butt;stroke-linejoin:round;}</style>\r\n </defs>\r\n <g id=\"figure_1\">\r\n  <g id=\"patch_1\">\r\n   <path d=\"M 0 250.45375 \r\nL 394.375 250.45375 \r\nL 394.375 0 \r\nL 0 0 \r\nz\r\n\" style=\"fill:none;\"/>\r\n  </g>\r\n  <g id=\"axes_1\">\r\n   <g id=\"patch_2\">\r\n    <path d=\"M 52.375 224.64 \r\nL 387.175 224.64 \r\nL 387.175 7.2 \r\nL 52.375 7.2 \r\nz\r\n\" style=\"fill:#ffffff;\"/>\r\n   </g>\r\n   <g id=\"matplotlib.axis_1\">\r\n    <g id=\"xtick_1\">\r\n     <g id=\"text_1\">\r\n      <!-- 10 -->\r\n      <g transform=\"translate(61.48 240.758125)scale(0.12 -0.12)\">\r\n       <defs>\r\n        <path d=\"M 12.40625 8.296875 \r\nL 28.515625 8.296875 \r\nL 28.515625 63.921875 \r\nL 10.984375 60.40625 \r\nL 10.984375 69.390625 \r\nL 28.421875 72.90625 \r\nL 38.28125 72.90625 \r\nL 38.28125 8.296875 \r\nL 54.390625 8.296875 \r\nL 54.390625 0 \r\nL 12.40625 0 \r\nz\r\n\" id=\"DejaVuSans-49\"/>\r\n        <path d=\"M 31.78125 66.40625 \r\nQ 24.171875 66.40625 20.328125 58.90625 \r\nQ 16.5 51.421875 16.5 36.375 \r\nQ 16.5 21.390625 20.328125 13.890625 \r\nQ 24.171875 6.390625 31.78125 6.390625 \r\nQ 39.453125 6.390625 43.28125 13.890625 \r\nQ 47.125 21.390625 47.125 36.375 \r\nQ 47.125 51.421875 43.28125 58.90625 \r\nQ 39.453125 66.40625 31.78125 66.40625 \r\nz\r\nM 31.78125 74.21875 \r\nQ 44.046875 74.21875 50.515625 64.515625 \r\nQ 56.984375 54.828125 56.984375 36.375 \r\nQ 56.984375 17.96875 50.515625 8.265625 \r\nQ 44.046875 -1.421875 31.78125 -1.421875 \r\nQ 19.53125 -1.421875 13.0625 8.265625 \r\nQ 6.59375 17.96875 6.59375 36.375 \r\nQ 6.59375 54.828125 13.0625 64.515625 \r\nQ 19.53125 74.21875 31.78125 74.21875 \r\nz\r\n\" id=\"DejaVuSans-48\"/>\r\n       </defs>\r\n       <use xlink:href=\"#DejaVuSans-49\"/>\r\n       <use x=\"63.623047\" xlink:href=\"#DejaVuSans-48\"/>\r\n      </g>\r\n     </g>\r\n    </g>\r\n    <g id=\"xtick_2\">\r\n     <g id=\"text_2\">\r\n      <!-- (2) -->\r\n      <g transform=\"translate(94.095625 240.758125)scale(0.12 -0.12)\">\r\n       <defs>\r\n        <path d=\"M 31 75.875 \r\nQ 24.46875 64.65625 21.28125 53.65625 \r\nQ 18.109375 42.671875 18.109375 31.390625 \r\nQ 18.109375 20.125 21.3125 9.0625 \r\nQ 24.515625 -2 31 -13.1875 \r\nL 23.1875 -13.1875 \r\nQ 15.875 -1.703125 12.234375 9.375 \r\nQ 8.59375 20.453125 8.59375 31.390625 \r\nQ 8.59375 42.28125 12.203125 53.3125 \r\nQ 15.828125 64.359375 23.1875 75.875 \r\nz\r\n\" id=\"DejaVuSans-40\"/>\r\n        <path d=\"M 19.1875 8.296875 \r\nL 53.609375 8.296875 \r\nL 53.609375 0 \r\nL 7.328125 0 \r\nL 7.328125 8.296875 \r\nQ 12.9375 14.109375 22.625 23.890625 \r\nQ 32.328125 33.6875 34.8125 36.53125 \r\nQ 39.546875 41.84375 41.421875 45.53125 \r\nQ 43.3125 49.21875 43.3125 52.78125 \r\nQ 43.3125 58.59375 39.234375 62.25 \r\nQ 35.15625 65.921875 28.609375 65.921875 \r\nQ 23.96875 65.921875 18.8125 64.3125 \r\nQ 13.671875 62.703125 7.8125 59.421875 \r\nL 7.8125 69.390625 \r\nQ 13.765625 71.78125 18.9375 73 \r\nQ 24.125 74.21875 28.421875 74.21875 \r\nQ 39.75 74.21875 46.484375 68.546875 \r\nQ 53.21875 62.890625 53.21875 53.421875 \r\nQ 53.21875 48.921875 51.53125 44.890625 \r\nQ 49.859375 40.875 45.40625 35.40625 \r\nQ 44.1875 33.984375 37.640625 27.21875 \r\nQ 31.109375 20.453125 19.1875 8.296875 \r\nz\r\n\" id=\"DejaVuSans-50\"/>\r\n        <path d=\"M 8.015625 75.875 \r\nL 15.828125 75.875 \r\nQ 23.140625 64.359375 26.78125 53.3125 \r\nQ 30.421875 42.28125 30.421875 31.390625 \r\nQ 30.421875 20.453125 26.78125 9.375 \r\nQ 23.140625 -1.703125 15.828125 -13.1875 \r\nL 8.015625 -13.1875 \r\nQ 14.5 -2 17.703125 9.0625 \r\nQ 20.90625 20.125 20.90625 31.390625 \r\nQ 20.90625 42.671875 17.703125 53.65625 \r\nQ 14.5 64.65625 8.015625 75.875 \r\nz\r\n\" id=\"DejaVuSans-41\"/>\r\n       </defs>\r\n       <use xlink:href=\"#DejaVuSans-40\"/>\r\n       <use x=\"39.013672\" xlink:href=\"#DejaVuSans-50\"/>\r\n       <use x=\"102.636719\" xlink:href=\"#DejaVuSans-41\"/>\r\n      </g>\r\n     </g>\r\n    </g>\r\n    <g id=\"xtick_3\">\r\n     <g id=\"text_3\">\r\n      <!-- (3) -->\r\n      <g transform=\"translate(127.575625 240.758125)scale(0.12 -0.12)\">\r\n       <defs>\r\n        <path d=\"M 40.578125 39.3125 \r\nQ 47.65625 37.796875 51.625 33 \r\nQ 55.609375 28.21875 55.609375 21.1875 \r\nQ 55.609375 10.40625 48.1875 4.484375 \r\nQ 40.765625 -1.421875 27.09375 -1.421875 \r\nQ 22.515625 -1.421875 17.65625 -0.515625 \r\nQ 12.796875 0.390625 7.625 2.203125 \r\nL 7.625 11.71875 \r\nQ 11.71875 9.328125 16.59375 8.109375 \r\nQ 21.484375 6.890625 26.8125 6.890625 \r\nQ 36.078125 6.890625 40.9375 10.546875 \r\nQ 45.796875 14.203125 45.796875 21.1875 \r\nQ 45.796875 27.640625 41.28125 31.265625 \r\nQ 36.765625 34.90625 28.71875 34.90625 \r\nL 20.21875 34.90625 \r\nL 20.21875 43.015625 \r\nL 29.109375 43.015625 \r\nQ 36.375 43.015625 40.234375 45.921875 \r\nQ 44.09375 48.828125 44.09375 54.296875 \r\nQ 44.09375 59.90625 40.109375 62.90625 \r\nQ 36.140625 65.921875 28.71875 65.921875 \r\nQ 24.65625 65.921875 20.015625 65.03125 \r\nQ 15.375 64.15625 9.8125 62.3125 \r\nL 9.8125 71.09375 \r\nQ 15.4375 72.65625 20.34375 73.4375 \r\nQ 25.25 74.21875 29.59375 74.21875 \r\nQ 40.828125 74.21875 47.359375 69.109375 \r\nQ 53.90625 64.015625 53.90625 55.328125 \r\nQ 53.90625 49.265625 50.4375 45.09375 \r\nQ 46.96875 40.921875 40.578125 39.3125 \r\nz\r\n\" id=\"DejaVuSans-51\"/>\r\n       </defs>\r\n       <use xlink:href=\"#DejaVuSans-40\"/>\r\n       <use x=\"39.013672\" xlink:href=\"#DejaVuSans-51\"/>\r\n       <use x=\"102.636719\" xlink:href=\"#DejaVuSans-41\"/>\r\n      </g>\r\n     </g>\r\n    </g>\r\n    <g id=\"xtick_4\">\r\n     <g id=\"text_4\">\r\n      <!-- (2) -->\r\n      <g transform=\"translate(161.055625 240.758125)scale(0.12 -0.12)\">\r\n       <use xlink:href=\"#DejaVuSans-40\"/>\r\n       <use x=\"39.013672\" xlink:href=\"#DejaVuSans-50\"/>\r\n       <use x=\"102.636719\" xlink:href=\"#DejaVuSans-41\"/>\r\n      </g>\r\n     </g>\r\n    </g>\r\n    <g id=\"xtick_5\">\r\n     <g id=\"text_5\">\r\n      <!-- (2) -->\r\n      <g transform=\"translate(194.535625 240.758125)scale(0.12 -0.12)\">\r\n       <use xlink:href=\"#DejaVuSans-40\"/>\r\n       <use x=\"39.013672\" xlink:href=\"#DejaVuSans-50\"/>\r\n       <use x=\"102.636719\" xlink:href=\"#DejaVuSans-41\"/>\r\n      </g>\r\n     </g>\r\n    </g>\r\n    <g id=\"xtick_6\">\r\n     <g id=\"text_6\">\r\n      <!-- (4) -->\r\n      <g transform=\"translate(228.015625 240.758125)scale(0.12 -0.12)\">\r\n       <defs>\r\n        <path d=\"M 37.796875 64.3125 \r\nL 12.890625 25.390625 \r\nL 37.796875 25.390625 \r\nz\r\nM 35.203125 72.90625 \r\nL 47.609375 72.90625 \r\nL 47.609375 25.390625 \r\nL 58.015625 25.390625 \r\nL 58.015625 17.1875 \r\nL 47.609375 17.1875 \r\nL 47.609375 0 \r\nL 37.796875 0 \r\nL 37.796875 17.1875 \r\nL 4.890625 17.1875 \r\nL 4.890625 26.703125 \r\nz\r\n\" id=\"DejaVuSans-52\"/>\r\n       </defs>\r\n       <use xlink:href=\"#DejaVuSans-40\"/>\r\n       <use x=\"39.013672\" xlink:href=\"#DejaVuSans-52\"/>\r\n       <use x=\"102.636719\" xlink:href=\"#DejaVuSans-41\"/>\r\n      </g>\r\n     </g>\r\n    </g>\r\n    <g id=\"xtick_7\">\r\n     <g id=\"text_7\">\r\n      <!-- (2) -->\r\n      <g transform=\"translate(261.495625 240.758125)scale(0.12 -0.12)\">\r\n       <use xlink:href=\"#DejaVuSans-40\"/>\r\n       <use x=\"39.013672\" xlink:href=\"#DejaVuSans-50\"/>\r\n       <use x=\"102.636719\" xlink:href=\"#DejaVuSans-41\"/>\r\n      </g>\r\n     </g>\r\n    </g>\r\n    <g id=\"xtick_8\">\r\n     <g id=\"text_8\">\r\n      <!-- (8) -->\r\n      <g transform=\"translate(294.975625 240.758125)scale(0.12 -0.12)\">\r\n       <defs>\r\n        <path d=\"M 31.78125 34.625 \r\nQ 24.75 34.625 20.71875 30.859375 \r\nQ 16.703125 27.09375 16.703125 20.515625 \r\nQ 16.703125 13.921875 20.71875 10.15625 \r\nQ 24.75 6.390625 31.78125 6.390625 \r\nQ 38.8125 6.390625 42.859375 10.171875 \r\nQ 46.921875 13.96875 46.921875 20.515625 \r\nQ 46.921875 27.09375 42.890625 30.859375 \r\nQ 38.875 34.625 31.78125 34.625 \r\nz\r\nM 21.921875 38.8125 \r\nQ 15.578125 40.375 12.03125 44.71875 \r\nQ 8.5 49.078125 8.5 55.328125 \r\nQ 8.5 64.0625 14.71875 69.140625 \r\nQ 20.953125 74.21875 31.78125 74.21875 \r\nQ 42.671875 74.21875 48.875 69.140625 \r\nQ 55.078125 64.0625 55.078125 55.328125 \r\nQ 55.078125 49.078125 51.53125 44.71875 \r\nQ 48 40.375 41.703125 38.8125 \r\nQ 48.828125 37.15625 52.796875 32.3125 \r\nQ 56.78125 27.484375 56.78125 20.515625 \r\nQ 56.78125 9.90625 50.3125 4.234375 \r\nQ 43.84375 -1.421875 31.78125 -1.421875 \r\nQ 19.734375 -1.421875 13.25 4.234375 \r\nQ 6.78125 9.90625 6.78125 20.515625 \r\nQ 6.78125 27.484375 10.78125 32.3125 \r\nQ 14.796875 37.15625 21.921875 38.8125 \r\nz\r\nM 18.3125 54.390625 \r\nQ 18.3125 48.734375 21.84375 45.5625 \r\nQ 25.390625 42.390625 31.78125 42.390625 \r\nQ 38.140625 42.390625 41.71875 45.5625 \r\nQ 45.3125 48.734375 45.3125 54.390625 \r\nQ 45.3125 60.0625 41.71875 63.234375 \r\nQ 38.140625 66.40625 31.78125 66.40625 \r\nQ 25.390625 66.40625 21.84375 63.234375 \r\nQ 18.3125 60.0625 18.3125 54.390625 \r\nz\r\n\" id=\"DejaVuSans-56\"/>\r\n       </defs>\r\n       <use xlink:href=\"#DejaVuSans-40\"/>\r\n       <use x=\"39.013672\" xlink:href=\"#DejaVuSans-56\"/>\r\n       <use x=\"102.636719\" xlink:href=\"#DejaVuSans-41\"/>\r\n      </g>\r\n     </g>\r\n    </g>\r\n    <g id=\"xtick_9\">\r\n     <g id=\"text_9\">\r\n      <!-- 17 -->\r\n      <g transform=\"translate(329.32 240.758125)scale(0.12 -0.12)\">\r\n       <defs>\r\n        <path d=\"M 8.203125 72.90625 \r\nL 55.078125 72.90625 \r\nL 55.078125 68.703125 \r\nL 28.609375 0 \r\nL 18.3125 0 \r\nL 43.21875 64.59375 \r\nL 8.203125 64.59375 \r\nz\r\n\" id=\"DejaVuSans-55\"/>\r\n       </defs>\r\n       <use xlink:href=\"#DejaVuSans-49\"/>\r\n       <use x=\"63.623047\" xlink:href=\"#DejaVuSans-55\"/>\r\n      </g>\r\n     </g>\r\n    </g>\r\n    <g id=\"xtick_10\">\r\n     <g id=\"text_10\">\r\n      <!-- (6) -->\r\n      <g transform=\"translate(361.935625 240.758125)scale(0.12 -0.12)\">\r\n       <defs>\r\n        <path d=\"M 33.015625 40.375 \r\nQ 26.375 40.375 22.484375 35.828125 \r\nQ 18.609375 31.296875 18.609375 23.390625 \r\nQ 18.609375 15.53125 22.484375 10.953125 \r\nQ 26.375 6.390625 33.015625 6.390625 \r\nQ 39.65625 6.390625 43.53125 10.953125 \r\nQ 47.40625 15.53125 47.40625 23.390625 \r\nQ 47.40625 31.296875 43.53125 35.828125 \r\nQ 39.65625 40.375 33.015625 40.375 \r\nz\r\nM 52.59375 71.296875 \r\nL 52.59375 62.3125 \r\nQ 48.875 64.0625 45.09375 64.984375 \r\nQ 41.3125 65.921875 37.59375 65.921875 \r\nQ 27.828125 65.921875 22.671875 59.328125 \r\nQ 17.53125 52.734375 16.796875 39.40625 \r\nQ 19.671875 43.65625 24.015625 45.921875 \r\nQ 28.375 48.1875 33.59375 48.1875 \r\nQ 44.578125 48.1875 50.953125 41.515625 \r\nQ 57.328125 34.859375 57.328125 23.390625 \r\nQ 57.328125 12.15625 50.6875 5.359375 \r\nQ 44.046875 -1.421875 33.015625 -1.421875 \r\nQ 20.359375 -1.421875 13.671875 8.265625 \r\nQ 6.984375 17.96875 6.984375 36.375 \r\nQ 6.984375 53.65625 15.1875 63.9375 \r\nQ 23.390625 74.21875 37.203125 74.21875 \r\nQ 40.921875 74.21875 44.703125 73.484375 \r\nQ 48.484375 72.75 52.59375 71.296875 \r\nz\r\n\" id=\"DejaVuSans-54\"/>\r\n       </defs>\r\n       <use xlink:href=\"#DejaVuSans-40\"/>\r\n       <use x=\"39.013672\" xlink:href=\"#DejaVuSans-54\"/>\r\n       <use x=\"102.636719\" xlink:href=\"#DejaVuSans-41\"/>\r\n      </g>\r\n     </g>\r\n    </g>\r\n   </g>\r\n   <g id=\"matplotlib.axis_2\">\r\n    <g id=\"ytick_1\">\r\n     <g id=\"line2d_1\">\r\n      <defs>\r\n       <path d=\"M 0 0 \r\nL -3.5 0 \r\n\" id=\"m2cb92b43a4\" style=\"stroke:#000000;stroke-width:0.8;\"/>\r\n      </defs>\r\n      <g>\r\n       <use style=\"stroke:#000000;stroke-width:0.8;\" x=\"52.375\" xlink:href=\"#m2cb92b43a4\" y=\"224.64\"/>\r\n      </g>\r\n     </g>\r\n     <g id=\"text_11\">\r\n      <!-- 0 -->\r\n      <g transform=\"translate(39.0125 228.439219)scale(0.1 -0.1)\">\r\n       <use xlink:href=\"#DejaVuSans-48\"/>\r\n      </g>\r\n     </g>\r\n    </g>\r\n    <g id=\"ytick_2\">\r\n     <g id=\"line2d_2\">\r\n      <g>\r\n       <use style=\"stroke:#000000;stroke-width:0.8;\" x=\"52.375\" xlink:href=\"#m2cb92b43a4\" y=\"199.506583\"/>\r\n      </g>\r\n     </g>\r\n     <g id=\"text_12\">\r\n      <!-- 25000 -->\r\n      <g transform=\"translate(13.5625 203.305802)scale(0.1 -0.1)\">\r\n       <defs>\r\n        <path d=\"M 10.796875 72.90625 \r\nL 49.515625 72.90625 \r\nL 49.515625 64.59375 \r\nL 19.828125 64.59375 \r\nL 19.828125 46.734375 \r\nQ 21.96875 47.46875 24.109375 47.828125 \r\nQ 26.265625 48.1875 28.421875 48.1875 \r\nQ 40.625 48.1875 47.75 41.5 \r\nQ 54.890625 34.8125 54.890625 23.390625 \r\nQ 54.890625 11.625 47.5625 5.09375 \r\nQ 40.234375 -1.421875 26.90625 -1.421875 \r\nQ 22.3125 -1.421875 17.546875 -0.640625 \r\nQ 12.796875 0.140625 7.71875 1.703125 \r\nL 7.71875 11.625 \r\nQ 12.109375 9.234375 16.796875 8.0625 \r\nQ 21.484375 6.890625 26.703125 6.890625 \r\nQ 35.15625 6.890625 40.078125 11.328125 \r\nQ 45.015625 15.765625 45.015625 23.390625 \r\nQ 45.015625 31 40.078125 35.4375 \r\nQ 35.15625 39.890625 26.703125 39.890625 \r\nQ 22.75 39.890625 18.8125 39.015625 \r\nQ 14.890625 38.140625 10.796875 36.28125 \r\nz\r\n\" id=\"DejaVuSans-53\"/>\r\n       </defs>\r\n       <use xlink:href=\"#DejaVuSans-50\"/>\r\n       <use x=\"63.623047\" xlink:href=\"#DejaVuSans-53\"/>\r\n       <use x=\"127.246094\" xlink:href=\"#DejaVuSans-48\"/>\r\n       <use x=\"190.869141\" xlink:href=\"#DejaVuSans-48\"/>\r\n       <use x=\"254.492188\" xlink:href=\"#DejaVuSans-48\"/>\r\n      </g>\r\n     </g>\r\n    </g>\r\n    <g id=\"ytick_3\">\r\n     <g id=\"line2d_3\">\r\n      <g>\r\n       <use style=\"stroke:#000000;stroke-width:0.8;\" x=\"52.375\" xlink:href=\"#m2cb92b43a4\" y=\"174.373167\"/>\r\n      </g>\r\n     </g>\r\n     <g id=\"text_13\">\r\n      <!-- 50000 -->\r\n      <g transform=\"translate(13.5625 178.172385)scale(0.1 -0.1)\">\r\n       <use xlink:href=\"#DejaVuSans-53\"/>\r\n       <use x=\"63.623047\" xlink:href=\"#DejaVuSans-48\"/>\r\n       <use x=\"127.246094\" xlink:href=\"#DejaVuSans-48\"/>\r\n       <use x=\"190.869141\" xlink:href=\"#DejaVuSans-48\"/>\r\n       <use x=\"254.492188\" xlink:href=\"#DejaVuSans-48\"/>\r\n      </g>\r\n     </g>\r\n    </g>\r\n    <g id=\"ytick_4\">\r\n     <g id=\"line2d_4\">\r\n      <g>\r\n       <use style=\"stroke:#000000;stroke-width:0.8;\" x=\"52.375\" xlink:href=\"#m2cb92b43a4\" y=\"149.23975\"/>\r\n      </g>\r\n     </g>\r\n     <g id=\"text_14\">\r\n      <!-- 75000 -->\r\n      <g transform=\"translate(13.5625 153.038969)scale(0.1 -0.1)\">\r\n       <use xlink:href=\"#DejaVuSans-55\"/>\r\n       <use x=\"63.623047\" xlink:href=\"#DejaVuSans-53\"/>\r\n       <use x=\"127.246094\" xlink:href=\"#DejaVuSans-48\"/>\r\n       <use x=\"190.869141\" xlink:href=\"#DejaVuSans-48\"/>\r\n       <use x=\"254.492188\" xlink:href=\"#DejaVuSans-48\"/>\r\n      </g>\r\n     </g>\r\n    </g>\r\n    <g id=\"ytick_5\">\r\n     <g id=\"line2d_5\">\r\n      <g>\r\n       <use style=\"stroke:#000000;stroke-width:0.8;\" x=\"52.375\" xlink:href=\"#m2cb92b43a4\" y=\"124.106333\"/>\r\n      </g>\r\n     </g>\r\n     <g id=\"text_15\">\r\n      <!-- 100000 -->\r\n      <g transform=\"translate(7.2 127.905552)scale(0.1 -0.1)\">\r\n       <use xlink:href=\"#DejaVuSans-49\"/>\r\n       <use x=\"63.623047\" xlink:href=\"#DejaVuSans-48\"/>\r\n       <use x=\"127.246094\" xlink:href=\"#DejaVuSans-48\"/>\r\n       <use x=\"190.869141\" xlink:href=\"#DejaVuSans-48\"/>\r\n       <use x=\"254.492188\" xlink:href=\"#DejaVuSans-48\"/>\r\n       <use x=\"318.115234\" xlink:href=\"#DejaVuSans-48\"/>\r\n      </g>\r\n     </g>\r\n    </g>\r\n    <g id=\"ytick_6\">\r\n     <g id=\"line2d_6\">\r\n      <g>\r\n       <use style=\"stroke:#000000;stroke-width:0.8;\" x=\"52.375\" xlink:href=\"#m2cb92b43a4\" y=\"98.972917\"/>\r\n      </g>\r\n     </g>\r\n     <g id=\"text_16\">\r\n      <!-- 125000 -->\r\n      <g transform=\"translate(7.2 102.772136)scale(0.1 -0.1)\">\r\n       <use xlink:href=\"#DejaVuSans-49\"/>\r\n       <use x=\"63.623047\" xlink:href=\"#DejaVuSans-50\"/>\r\n       <use x=\"127.246094\" xlink:href=\"#DejaVuSans-53\"/>\r\n       <use x=\"190.869141\" xlink:href=\"#DejaVuSans-48\"/>\r\n       <use x=\"254.492188\" xlink:href=\"#DejaVuSans-48\"/>\r\n       <use x=\"318.115234\" xlink:href=\"#DejaVuSans-48\"/>\r\n      </g>\r\n     </g>\r\n    </g>\r\n    <g id=\"ytick_7\">\r\n     <g id=\"line2d_7\">\r\n      <g>\r\n       <use style=\"stroke:#000000;stroke-width:0.8;\" x=\"52.375\" xlink:href=\"#m2cb92b43a4\" y=\"73.8395\"/>\r\n      </g>\r\n     </g>\r\n     <g id=\"text_17\">\r\n      <!-- 150000 -->\r\n      <g transform=\"translate(7.2 77.638719)scale(0.1 -0.1)\">\r\n       <use xlink:href=\"#DejaVuSans-49\"/>\r\n       <use x=\"63.623047\" xlink:href=\"#DejaVuSans-53\"/>\r\n       <use x=\"127.246094\" xlink:href=\"#DejaVuSans-48\"/>\r\n       <use x=\"190.869141\" xlink:href=\"#DejaVuSans-48\"/>\r\n       <use x=\"254.492188\" xlink:href=\"#DejaVuSans-48\"/>\r\n       <use x=\"318.115234\" xlink:href=\"#DejaVuSans-48\"/>\r\n      </g>\r\n     </g>\r\n    </g>\r\n    <g id=\"ytick_8\">\r\n     <g id=\"line2d_8\">\r\n      <g>\r\n       <use style=\"stroke:#000000;stroke-width:0.8;\" x=\"52.375\" xlink:href=\"#m2cb92b43a4\" y=\"48.706083\"/>\r\n      </g>\r\n     </g>\r\n     <g id=\"text_18\">\r\n      <!-- 175000 -->\r\n      <g transform=\"translate(7.2 52.505302)scale(0.1 -0.1)\">\r\n       <use xlink:href=\"#DejaVuSans-49\"/>\r\n       <use x=\"63.623047\" xlink:href=\"#DejaVuSans-55\"/>\r\n       <use x=\"127.246094\" xlink:href=\"#DejaVuSans-53\"/>\r\n       <use x=\"190.869141\" xlink:href=\"#DejaVuSans-48\"/>\r\n       <use x=\"254.492188\" xlink:href=\"#DejaVuSans-48\"/>\r\n       <use x=\"318.115234\" xlink:href=\"#DejaVuSans-48\"/>\r\n      </g>\r\n     </g>\r\n    </g>\r\n    <g id=\"ytick_9\">\r\n     <g id=\"line2d_9\">\r\n      <g>\r\n       <use style=\"stroke:#000000;stroke-width:0.8;\" x=\"52.375\" xlink:href=\"#m2cb92b43a4\" y=\"23.572667\"/>\r\n      </g>\r\n     </g>\r\n     <g id=\"text_19\">\r\n      <!-- 200000 -->\r\n      <g transform=\"translate(7.2 27.371886)scale(0.1 -0.1)\">\r\n       <use xlink:href=\"#DejaVuSans-50\"/>\r\n       <use x=\"63.623047\" xlink:href=\"#DejaVuSans-48\"/>\r\n       <use x=\"127.246094\" xlink:href=\"#DejaVuSans-48\"/>\r\n       <use x=\"190.869141\" xlink:href=\"#DejaVuSans-48\"/>\r\n       <use x=\"254.492188\" xlink:href=\"#DejaVuSans-48\"/>\r\n       <use x=\"318.115234\" xlink:href=\"#DejaVuSans-48\"/>\r\n      </g>\r\n     </g>\r\n    </g>\r\n   </g>\r\n   <g id=\"LineCollection_1\">\r\n    <path clip-path=\"url(#p1c85734df0)\" d=\"M 102.595 224.64 \r\nL 102.595 212.272912 \r\nL 136.075 212.272912 \r\nL 136.075 224.64 \r\n\" style=\"fill:none;stroke:#ff7f0e;stroke-width:1.5;\"/>\r\n    <path clip-path=\"url(#p1c85734df0)\" d=\"M 169.555 224.64 \r\nL 169.555 208.810856 \r\nL 203.035 208.810856 \r\nL 203.035 224.64 \r\n\" style=\"fill:none;stroke:#ff7f0e;stroke-width:1.5;\"/>\r\n    <path clip-path=\"url(#p1c85734df0)\" d=\"M 119.335 212.272912 \r\nL 119.335 202.598539 \r\nL 186.295 202.598539 \r\nL 186.295 208.810856 \r\n\" style=\"fill:none;stroke:#ff7f0e;stroke-width:1.5;\"/>\r\n    <path clip-path=\"url(#p1c85734df0)\" d=\"M 236.515 224.64 \r\nL 236.515 210.340723 \r\nL 269.995 210.340723 \r\nL 269.995 224.64 \r\n\" style=\"fill:none;stroke:#ff7f0e;stroke-width:1.5;\"/>\r\n    <path clip-path=\"url(#p1c85734df0)\" d=\"M 336.955 224.64 \r\nL 336.955 210.811462 \r\nL 370.435 210.811462 \r\nL 370.435 224.64 \r\n\" style=\"fill:none;stroke:#ff7f0e;stroke-width:1.5;\"/>\r\n    <path clip-path=\"url(#p1c85734df0)\" d=\"M 303.475 224.64 \r\nL 303.475 207.921459 \r\nL 353.695 207.921459 \r\nL 353.695 210.811462 \r\n\" style=\"fill:none;stroke:#ff7f0e;stroke-width:1.5;\"/>\r\n    <path clip-path=\"url(#p1c85734df0)\" d=\"M 253.255 210.340723 \r\nL 253.255 192.46608 \r\nL 328.585 192.46608 \r\nL 328.585 207.921459 \r\n\" style=\"fill:none;stroke:#ff7f0e;stroke-width:1.5;\"/>\r\n    <path clip-path=\"url(#p1c85734df0)\" d=\"M 152.815 202.598539 \r\nL 152.815 179.040477 \r\nL 290.92 179.040477 \r\nL 290.92 192.46608 \r\n\" style=\"fill:none;stroke:#ff7f0e;stroke-width:1.5;\"/>\r\n   </g>\r\n   <g id=\"LineCollection_2\">\r\n    <path clip-path=\"url(#p1c85734df0)\" d=\"M 69.115 224.64 \r\nL 69.115 17.554286 \r\nL 221.8675 17.554286 \r\nL 221.8675 179.040477 \r\n\" style=\"fill:none;stroke:#1f77b4;stroke-width:1.5;\"/>\r\n   </g>\r\n   <g id=\"patch_3\">\r\n    <path d=\"M 52.375 224.64 \r\nL 52.375 7.2 \r\n\" style=\"fill:none;stroke:#000000;stroke-linecap:square;stroke-linejoin:miter;stroke-width:0.8;\"/>\r\n   </g>\r\n   <g id=\"patch_4\">\r\n    <path d=\"M 387.175 224.64 \r\nL 387.175 7.2 \r\n\" style=\"fill:none;stroke:#000000;stroke-linecap:square;stroke-linejoin:miter;stroke-width:0.8;\"/>\r\n   </g>\r\n   <g id=\"patch_5\">\r\n    <path d=\"M 52.375 224.64 \r\nL 387.175 224.64 \r\n\" style=\"fill:none;stroke:#000000;stroke-linecap:square;stroke-linejoin:miter;stroke-width:0.8;\"/>\r\n   </g>\r\n   <g id=\"patch_6\">\r\n    <path d=\"M 52.375 7.2 \r\nL 387.175 7.2 \r\n\" style=\"fill:none;stroke:#000000;stroke-linecap:square;stroke-linejoin:miter;stroke-width:0.8;\"/>\r\n   </g>\r\n  </g>\r\n </g>\r\n <defs>\r\n  <clipPath id=\"p1c85734df0\">\r\n   <rect height=\"217.44\" width=\"334.8\" x=\"52.375\" y=\"7.2\"/>\r\n  </clipPath>\r\n </defs>\r\n</svg>\r\n",
      "image/png": "[encoded data removed]"
     },
     "metadata": {
      "needs_background": "light"
     }
    }
   ],
   "source": [
    "dendrogram(Z0,truncate_mode='lastp',p=10)"
   ]
  },
  {
   "source": [
    "***\n",
    "#  NOT USED\n",
    "***"
   ],
   "cell_type": "markdown",
   "metadata": {}
  },
  {
   "cell_type": "code",
   "execution_count": 37,
   "metadata": {},
   "outputs": [
    {
     "output_type": "stream",
     "name": "stdout",
     "text": [
      "   sepallengthcm  sepalwidthcm  petallengthcm  petalwidthcm species\n0            5.1           3.5            1.4           0.2  setosa\n1            4.9           3.0            1.4           0.2  setosa\n2            4.7           3.2            1.3           0.2  setosa\n3            4.6           3.1            1.5           0.2  setosa\n4            5.0           3.6            1.4           0.2  setosa\n5            5.4           3.9            1.7           0.4  setosa\n6            4.6           3.4            1.4           0.3  setosa\n7            5.0           3.4            1.5           0.2  setosa\n8            4.4           2.9            1.4           0.2  setosa\n9            4.9           3.1            1.5           0.1  setosa\n<class 'pandas.core.frame.DataFrame'>\nid             object\nname           object\naddress        object\nlat           float64\nlng           float64\npostalCode     object\ncc             object\ncity           object\nstate          object\ncountry        object\ndtype: object\n"
     ]
    }
   ],
   "source": [
    "from sklearn.datasets import load_iris\n",
    "iris = load_iris()\n",
    "iris_df = pd.DataFrame(iris.data, columns=iris.feature_names)\n",
    "iris_df['species'] = pd.Categorical.from_codes(iris.target, iris.target_names)\n",
    "iris_df.columns = [re.sub(\"[() ]\", \"\", col) for col in iris_df.columns]\n",
    "print(sqldf(\"SELECT * FROM iris_df LIMIT 10;\", locals()))\n",
    "print(type(sqldf(\"SELECT * FROM zip_cases_df LIMIT 10;\", locals())))\n",
    "print(hp_df.dtypes)"
   ]
  },
  {
   "cell_type": "code",
   "execution_count": 14,
   "metadata": {},
   "outputs": [
    {
     "output_type": "stream",
     "name": "stdout",
     "text": [
      "https://public.tableau.com/views/COVID-19OutbreakSummary_15918845768300/COVID19Summaryp3?:embed=y&:showAppBanner=false&:showShareOptions=true&:display_count=no&:showVizHome=no\n"
     ]
    },
    {
     "output_type": "error",
     "ename": "KeyError",
     "evalue": "'presModelMap'",
     "traceback": [
      "\u001b[1;31m---------------------------------------------------------------------------\u001b[0m",
      "\u001b[1;31mKeyError\u001b[0m                                  Traceback (most recent call last)",
      "\u001b[1;32m<ipython-input-14-b80a61a26bc2>\u001b[0m in \u001b[0;36m<module>\u001b[1;34m\u001b[0m\n\u001b[0;32m     26\u001b[0m \u001b[0mdata\u001b[0m \u001b[1;33m=\u001b[0m \u001b[0mjson\u001b[0m\u001b[1;33m.\u001b[0m\u001b[0mloads\u001b[0m\u001b[1;33m(\u001b[0m\u001b[0mdataReg\u001b[0m\u001b[1;33m.\u001b[0m\u001b[0mgroup\u001b[0m\u001b[1;33m(\u001b[0m\u001b[1;36m2\u001b[0m\u001b[1;33m)\u001b[0m\u001b[1;33m)\u001b[0m\u001b[1;33m\u001b[0m\u001b[1;33m\u001b[0m\u001b[0m\n\u001b[0;32m     27\u001b[0m \u001b[1;31m#print(info)\u001b[0m\u001b[1;33m\u001b[0m\u001b[1;33m\u001b[0m\u001b[1;33m\u001b[0m\u001b[0m\n\u001b[1;32m---> 28\u001b[1;33m \u001b[0mprint\u001b[0m\u001b[1;33m(\u001b[0m\u001b[0mdata\u001b[0m\u001b[1;33m[\u001b[0m\u001b[1;34m\"secondaryInfo\"\u001b[0m\u001b[1;33m]\u001b[0m\u001b[1;33m[\u001b[0m\u001b[1;34m\"presModelMap\"\u001b[0m\u001b[1;33m]\u001b[0m\u001b[1;33m[\u001b[0m\u001b[1;34m\"dataDictionary\"\u001b[0m\u001b[1;33m]\u001b[0m\u001b[1;33m[\u001b[0m\u001b[1;34m\"presModelHolder\"\u001b[0m\u001b[1;33m]\u001b[0m\u001b[1;33m[\u001b[0m\u001b[1;34m\"genDataDictionaryPresModel\"\u001b[0m\u001b[1;33m]\u001b[0m\u001b[1;33m[\u001b[0m\u001b[1;34m\"dataSegments\"\u001b[0m\u001b[1;33m]\u001b[0m\u001b[1;33m[\u001b[0m\u001b[1;34m\"0\"\u001b[0m\u001b[1;33m]\u001b[0m\u001b[1;33m[\u001b[0m\u001b[1;34m\"dataColumns\"\u001b[0m\u001b[1;33m]\u001b[0m\u001b[1;33m)\u001b[0m\u001b[1;33m\u001b[0m\u001b[1;33m\u001b[0m\u001b[0m\n\u001b[0m\u001b[0;32m     29\u001b[0m \u001b[1;31m#<_sre.SRE_Match object; span=(0, 109884), match='72955;{\"sheetName\":\"DASH: Patients v discharges\",>\u001b[0m\u001b[1;33m\u001b[0m\u001b[1;33m\u001b[0m\u001b[1;33m\u001b[0m\u001b[0m\n",
      "\u001b[1;31mKeyError\u001b[0m: 'presModelMap'"
     ]
    }
   ],
   "source": [
    "import requests\n",
    "from bs4 import BeautifulSoup\n",
    "import json\n",
    "import re\n",
    "#TODO figure out how to webscrape COVID-19 data from graph\n",
    "r = requests.get(\n",
    "    f\"https://public.tableau.com/views/COVID-19OutbreakSummary_15918845768300/COVID19Summaryp3\",\n",
    "     params= {\n",
    "        \":embed\":\"y\",\n",
    "        \":showAppBanner\":\"false\",\n",
    "        \":showShareOptions\":\"true\",\n",
    "        \":display_count\":\"no\",\n",
    "    }\n",
    ")\n",
    "print(r.url)\n",
    "soup = BeautifulSoup(r.text, \"html.parser\")\n",
    "\n",
    "tableauData = json.loads(soup.find(\"textarea\",{\"id\": \"tsConfigContainer\"}).text)\n",
    "\n",
    "dataUrl = f'https://public.tableau.com{tableauData[\"vizql_root\"]}/bootstrapSession/sessions/{tableauData[\"sessionid\"]}'\n",
    "r = requests.post(dataUrl, data= {\n",
    "    \"sheet_id\": tableauData[\"sheetId\"],\n",
    "})\n",
    "dataReg = re.search('\\d+;({.*})\\d+;({.*})', r.text, re.MULTILINE)\n",
    "info = json.loads(dataReg.group(1))\n",
    "data = json.loads(dataReg.group(2))\n",
    "#print(info)\n",
    "print(data[\"secondaryInfo\"][\"presModelMap\"][\"dataDictionary\"][\"presModelHolder\"][\"genDataDictionaryPresModel\"][\"dataSegments\"][\"0\"][\"dataColumns\"])\n",
    "#<_sre.SRE_Match object; span=(0, 109884), match='72955;{\"sheetName\":\"DASH: Patients v discharges\",>"
   ]
  },
  {
   "cell_type": "markdown",
   "metadata": {},
   "source": [
    "# Awesome Selenium Webscraping Action"
   ]
  },
  {
   "cell_type": "code",
   "execution_count": 23,
   "metadata": {},
   "outputs": [],
   "source": [
    "from selenium import webdriver \n",
    "import time\n",
    "# import Action chains  \n",
    "from selenium.webdriver.common.action_chains import ActionChains \n",
    "driver = webdriver.Firefox()\n",
    "\n",
    "# Navigate to url\n",
    "driver.get(\"https://public.tableau.com/views/COVID-19OutbreakSummary_15918845768300/COVID19Summaryp3?%3Adisplay_count=y&%3Aorigin=viz_share_link&%3AshowVizHome=no\")\n",
    "\n",
    "# Store 'google search' button web element\n",
    "time.sleep(20)\n",
    "mapfre = driver.find_element_by_xpath(\"//*[@id=\\\"tabZoneId106\\\"]/div/div/div/div\")#//*[@id=\\\"view8239885986803340325_964909730081303188\\\"]/div[1]/div[2]\")\n",
    "#Set x and y offset positions of element\n",
    "xOffset = 0 \n",
    "yOffset = 0\n",
    "ActionChains(driver).move_to_element(mapfre).perform()\n",
    "ActionChains(driver).move_by_offset(xOffset,yOffset).perform()\n",
    "time.sleep(12)\n",
    "with open('temp_covid_zip.txt', 'w', encoding='utf-8') as f:\n",
    "    f.write(str(driver.page_source))"
   ]
  },
  {
   "cell_type": "code",
   "execution_count": 10,
   "metadata": {
    "tags": []
   },
   "outputs": [
    {
     "output_type": "stream",
     "name": "stdout",
     "text": "43224\n868 - 1289\n"
    }
   ],
   "source": [
    "#this script works for extracting zip and cases range\n",
    "temp = ''\n",
    "with open('temp_covid_zip.txt', 'r') as fin:\n",
    "    temp = fin.read()\n",
    "from bs4 import BeautifulSoup\n",
    "soup = BeautifulSoup(temp, 'html.parser')\n",
    "table = soup.find_all('div')[len(soup.find_all('div'))-3].table #grabs the table which stores the data\n",
    "print(table.find_all('tr')[0].find_all('td')[2].string)\n",
    "print(table.find_all('tr')[1].find_all('td')[2].string)"
   ]
  },
  {
   "cell_type": "code",
   "execution_count": 12,
   "metadata": {},
   "outputs": [
    {
     "output_type": "error",
     "ename": "InvalidSessionIdException",
     "evalue": "Message: Tried to run command without establishing a connection\n",
     "traceback": [
      "\u001b[1;31m---------------------------------------------------------------------------\u001b[0m",
      "\u001b[1;31mInvalidSessionIdException\u001b[0m                 Traceback (most recent call last)",
      "\u001b[1;32m&lt;ipython-input-12-e8ac65fe1a27&gt;\u001b[0m in \u001b[0;36m&lt;module&gt;\u001b[1;34m\u001b[0m\n\u001b[0;32m      1\u001b[0m \u001b[1;31m#Use for Y: -39 to start off with to go from 43211 to 43224\u001b[0m\u001b[1;33m\u001b[0m\u001b[1;33m\u001b[0m\u001b[1;33m\u001b[0m\u001b[0m\n\u001b[0;32m      2\u001b[0m \u001b[1;31m# Navigate to url\u001b[0m\u001b[1;33m\u001b[0m\u001b[1;33m\u001b[0m\u001b[1;33m\u001b[0m\u001b[0m\n\u001b[1;32m----&gt; 3\u001b[1;33m \u001b[0mdriver\u001b[0m\u001b[1;33m.\u001b[0m\u001b[0mget\u001b[0m\u001b[1;33m(\u001b[0m\u001b[1;34m&quot;https://public.tableau.com/views/COVID-19OutbreakSummary_15918845768300/COVID19Summaryp3?%3Adisplay_count=y&amp;%3Aorigin=viz_share_link&amp;%3AshowVizHome=no&quot;\u001b[0m\u001b[1;33m)\u001b[0m\u001b[1;33m\u001b[0m\u001b[1;33m\u001b[0m\u001b[0m\n\u001b[0m\u001b[0;32m      4\u001b[0m \u001b[1;33m\u001b[0m\u001b[0m\n\u001b[0;32m      5\u001b[0m \u001b[1;31m# Store &#39;google search&#39; button web element\u001b[0m\u001b[1;33m\u001b[0m\u001b[1;33m\u001b[0m\u001b[1;33m\u001b[0m\u001b[0m\n",
      "\u001b[1;32m~\\AppData\\Local\\Programs\\Python\\Python38-32\\lib\\site-packages\\selenium\\webdriver\\remote\\webdriver.py\u001b[0m in \u001b[0;36mget\u001b[1;34m(self, url)\u001b[0m\n\u001b[0;32m    331\u001b[0m         \u001b[0mLoads\u001b[0m \u001b[0ma\u001b[0m \u001b[0mweb\u001b[0m \u001b[0mpage\u001b[0m \u001b[1;32min\u001b[0m \u001b[0mthe\u001b[0m \u001b[0mcurrent\u001b[0m \u001b[0mbrowser\u001b[0m \u001b[0msession\u001b[0m\u001b[1;33m.\u001b[0m\u001b[1;33m\u001b[0m\u001b[1;33m\u001b[0m\u001b[0m\n\u001b[0;32m    332\u001b[0m         &quot;&quot;&quot;\n\u001b[1;32m--&gt; 333\u001b[1;33m         \u001b[0mself\u001b[0m\u001b[1;33m.\u001b[0m\u001b[0mexecute\u001b[0m\u001b[1;33m(\u001b[0m\u001b[0mCommand\u001b[0m\u001b[1;33m.\u001b[0m\u001b[0mGET\u001b[0m\u001b[1;33m,\u001b[0m \u001b[1;33m{\u001b[0m\u001b[1;34m&#39;url&#39;\u001b[0m\u001b[1;33m:\u001b[0m \u001b[0murl\u001b[0m\u001b[1;33m}\u001b[0m\u001b[1;33m)\u001b[0m\u001b[1;33m\u001b[0m\u001b[1;33m\u001b[0m\u001b[0m\n\u001b[0m\u001b[0;32m    334\u001b[0m \u001b[1;33m\u001b[0m\u001b[0m\n\u001b[0;32m    335\u001b[0m     \u001b[1;33m@\u001b[0m\u001b[0mproperty\u001b[0m\u001b[1;33m\u001b[0m\u001b[1;33m\u001b[0m\u001b[0m\n",
      "\u001b[1;32m~\\AppData\\Local\\Programs\\Python\\Python38-32\\lib\\site-packages\\selenium\\webdriver\\remote\\webdriver.py\u001b[0m in \u001b[0;36mexecute\u001b[1;34m(self, driver_command, params)\u001b[0m\n\u001b[0;32m    319\u001b[0m         \u001b[0mresponse\u001b[0m \u001b[1;33m=\u001b[0m \u001b[0mself\u001b[0m\u001b[1;33m.\u001b[0m\u001b[0mcommand_executor\u001b[0m\u001b[1;33m.\u001b[0m\u001b[0mexecute\u001b[0m\u001b[1;33m(\u001b[0m\u001b[0mdriver_command\u001b[0m\u001b[1;33m,\u001b[0m \u001b[0mparams\u001b[0m\u001b[1;33m)\u001b[0m\u001b[1;33m\u001b[0m\u001b[1;33m\u001b[0m\u001b[0m\n\u001b[0;32m    320\u001b[0m         \u001b[1;32mif\u001b[0m \u001b[0mresponse\u001b[0m\u001b[1;33m:\u001b[0m\u001b[1;33m\u001b[0m\u001b[1;33m\u001b[0m\u001b[0m\n\u001b[1;32m--&gt; 321\u001b[1;33m             \u001b[0mself\u001b[0m\u001b[1;33m.\u001b[0m\u001b[0merror_handler\u001b[0m\u001b[1;33m.\u001b[0m\u001b[0mcheck_response\u001b[0m\u001b[1;33m(\u001b[0m\u001b[0mresponse\u001b[0m\u001b[1;33m)\u001b[0m\u001b[1;33m\u001b[0m\u001b[1;33m\u001b[0m\u001b[0m\n\u001b[0m\u001b[0;32m    322\u001b[0m             response[&#39;value&#39;] = self._unwrap_value(\n\u001b[0;32m    323\u001b[0m                 response.get(&#39;value&#39;, None))\n",
      "\u001b[1;32m~\\AppData\\Local\\Programs\\Python\\Python38-32\\lib\\site-packages\\selenium\\webdriver\\remote\\errorhandler.py\u001b[0m in \u001b[0;36mcheck_response\u001b[1;34m(self, response)\u001b[0m\n\u001b[0;32m    240\u001b[0m                 \u001b[0malert_text\u001b[0m \u001b[1;33m=\u001b[0m \u001b[0mvalue\u001b[0m\u001b[1;33m[\u001b[0m\u001b[1;34m&#39;alert&#39;\u001b[0m\u001b[1;33m]\u001b[0m\u001b[1;33m.\u001b[0m\u001b[0mget\u001b[0m\u001b[1;33m(\u001b[0m\u001b[1;34m&#39;text&#39;\u001b[0m\u001b[1;33m)\u001b[0m\u001b[1;33m\u001b[0m\u001b[1;33m\u001b[0m\u001b[0m\n\u001b[0;32m    241\u001b[0m             \u001b[1;32mraise\u001b[0m \u001b[0mexception_class\u001b[0m\u001b[1;33m(\u001b[0m\u001b[0mmessage\u001b[0m\u001b[1;33m,\u001b[0m \u001b[0mscreen\u001b[0m\u001b[1;33m,\u001b[0m \u001b[0mstacktrace\u001b[0m\u001b[1;33m,\u001b[0m \u001b[0malert_text\u001b[0m\u001b[1;33m)\u001b[0m\u001b[1;33m\u001b[0m\u001b[1;33m\u001b[0m\u001b[0m\n\u001b[1;32m--&gt; 242\u001b[1;33m         \u001b[1;32mraise\u001b[0m \u001b[0mexception_class\u001b[0m\u001b[1;33m(\u001b[0m\u001b[0mmessage\u001b[0m\u001b[1;33m,\u001b[0m \u001b[0mscreen\u001b[0m\u001b[1;33m,\u001b[0m \u001b[0mstacktrace\u001b[0m\u001b[1;33m)\u001b[0m\u001b[1;33m\u001b[0m\u001b[1;33m\u001b[0m\u001b[0m\n\u001b[0m\u001b[0;32m    243\u001b[0m \u001b[1;33m\u001b[0m\u001b[0m\n\u001b[0;32m    244\u001b[0m     \u001b[1;32mdef\u001b[0m \u001b[0m_value_or_default\u001b[0m\u001b[1;33m(\u001b[0m\u001b[0mself\u001b[0m\u001b[1;33m,\u001b[0m \u001b[0mobj\u001b[0m\u001b[1;33m,\u001b[0m \u001b[0mkey\u001b[0m\u001b[1;33m,\u001b[0m \u001b[0mdefault\u001b[0m\u001b[1;33m)\u001b[0m\u001b[1;33m:\u001b[0m\u001b[1;33m\u001b[0m\u001b[1;33m\u001b[0m\u001b[0m\n",
      "\u001b[1;31mInvalidSessionIdException\u001b[0m: Message: Tried to run command without establishing a connection\n"
     ]
    }
   ],
   "source": [
    "#Use for Y: -39 to start off with to go from 43211 to 43224\n",
    "# Navigate to url\n",
    "driver.get(\"https://public.tableau.com/views/COVID-19OutbreakSummary_15918845768300/COVID19Summaryp3?%3Adisplay_count=y&%3Aorigin=viz_share_link&%3AshowVizHome=no\")\n",
    "\n",
    "# Store 'google search' button web element\n",
    "time.sleep(20)\n",
    "mapfre = driver.find_element_by_xpath(\"//*[@id=\\\"tabZoneId106\\\"]/div/div/div/div\")#//*[@id=\\\"view8239885986803340325_964909730081303188\\\"]/div[1]/div[2]\")\n",
    "#Set x and y offset positions of element\n",
    "xOffset = 0 \n",
    "yOffset = -39\n",
    "ActionChains(driver).move_to_element(mapfre).perform()\n",
    "ActionChains(driver).move_by_offset(xOffset,yOffset).perform()\n",
    "time.sleep(12)\n",
    "with open('temp_covid_zip.txt', 'w', encoding='utf-8') as f:\n",
    "    f.write(str(driver.page_source))"
   ]
  },
  {
   "cell_type": "code",
   "execution_count": 9,
   "metadata": {
    "tags": []
   },
   "outputs": [
    {
     "output_type": "stream",
     "name": "stdout",
     "text": "43224\n868 - 1289\n"
    }
   ],
   "source": [
    "#this script works for extracting zip and cases range\n",
    "# -39 is a success\n",
    "temp = ''\n",
    "with open('temp_covid_zip.txt', 'r') as fin:\n",
    "    temp = fin.read()\n",
    "from bs4 import BeautifulSoup\n",
    "soup = BeautifulSoup(temp, 'html.parser')\n",
    "table = soup.find_all('div')[len(soup.find_all('div'))-3].table #grabs the table which stores the data\n",
    "print(table.find_all('tr')[0].find_all('td')[2].string)\n",
    "print(table.find_all('tr')[1].find_all('td')[2].string)"
   ]
  },
  {
   "cell_type": "code",
   "execution_count": null,
   "metadata": {},
   "outputs": [],
   "source": [
    "# @TODO: Calculate Difference between 43211 and 43224 latitude and create a scale factor"
   ]
  }
 ],
 "metadata": {
  "kernelspec": {
   "name": "python3",
   "display_name": "Python 3.8.5 32-bit",
   "metadata": {
    "interpreter": {
     "hash": "0acb2cb27714ac67f55a8af7176a3d676c30cfd371720344473d3954e39fd2e8"
    }
   }
  },
  "language_info": {
   "codemirror_mode": {
    "name": "ipython",
    "version": 3
   },
   "file_extension": ".py",
   "mimetype": "text/x-python",
   "name": "python",
   "nbconvert_exporter": "python",
   "pygments_lexer": "ipython3",
   "version": "3.8.5-final"
  }
 },
 "nbformat": 4,
 "nbformat_minor": 4
}