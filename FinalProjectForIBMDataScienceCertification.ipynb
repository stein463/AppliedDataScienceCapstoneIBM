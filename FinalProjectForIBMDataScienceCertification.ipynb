{
 "cells": [
  {
   "source": [
    "***\n",
    "#  Part 1: Data Retrieval\n",
    "***"
   ],
   "cell_type": "markdown",
   "metadata": {}
  },
  {
   "cell_type": "markdown",
   "metadata": {},
   "source": [
    "# Gather relevant data "
   ]
  },
  {
   "cell_type": "markdown",
   "metadata": {},
   "source": [
    "## Webscrape demographic data "
   ]
  },
  {
   "cell_type": "markdown",
   "metadata": {},
   "source": [
    "Import Relevant packages"
   ]
  },
  {
   "cell_type": "code",
   "execution_count": 1,
   "metadata": {},
   "outputs": [],
   "source": [
    "import pandas as pd\n",
    "import numpy as np\n",
    "import requests\n",
    "import urllib.request\n",
    "import time\n",
    "from bs4 import BeautifulSoup\n",
    "from pandasql import sqldf\n",
    "import seaborn as sns\n",
    "from matplotlib import pyplot as plt"
   ]
  },
  {
   "cell_type": "markdown",
   "metadata": {},
   "source": [
    "Checks to confirm page exists"
   ]
  },
  {
   "cell_type": "code",
   "execution_count": 2,
   "metadata": {
    "tags": []
   },
   "outputs": [
    {
     "output_type": "stream",
     "name": "stdout",
     "text": [
      "<Response [200]>\n"
     ]
    }
   ],
   "source": [
    "url = 'https://www.zip-codes.com{}'\n",
    "columbus_branch ='/city/oh-columbus.asp'\n",
    "# reinforces integrity of the data collection\n",
    "accessed = False\n",
    "while accessed == False:\n",
    "    try:\n",
    "        response = requests.get(url.format(columbus_branch))\n",
    "        print(response)\n",
    "        accessed = True\n",
    "    except:\n",
    "        accesssed = False"
   ]
  },
  {
   "cell_type": "markdown",
   "metadata": {},
   "source": [
    "Gathers relevant data on the page"
   ]
  },
  {
   "cell_type": "code",
   "execution_count": 3,
   "metadata": {
    "tags": []
   },
   "outputs": [
    {
     "output_type": "stream",
     "name": "stdout",
     "text": [
      "<table border=\"0\" cellpadding=\"0\" cellspacing=\"0\" class=\"statTable\" id=\"tblZIP\" width=\"99%\">\n<tr><td class=\"label\"><strong>ZIP Code</strong></td><td><strong>Type</strong></td><td><strong>County</strong></td><td><strong>Population</strong></td><td><strong>Area Code(s)</strong></td></tr>\n<tr><td><a href=\"/zip-code/43081/zip-code-43081.asp\" style=\"text-decoration:underline;\" title=\"ZIP Code 43081, WESTERVILLE, OH\">ZIP Code 43081</a></td><td>Standard</td><td><a href=\"/county/oh-franklin.asp\">Franklin</a></td><td>55,991</td><td><a href=\"/area-code/area-code-614.asp\" title=\"Area Code 614\">614</a></td></tr><tr><td><a href=\"/zip-code/43085/zip-code-43085.asp\" style=\"text-decoration:underline;\" title=\"ZIP Code 43085, COLUMBUS, OH\">ZIP Code 43085</a></td><td>Standard</td><td><a href=\"/county/oh-franklin.asp\">Franklin</a></td><td>23,258</td><td><a href=\"/area-code/area-code-614.asp\" title=\"Area Code 614\">614</a> / <a href=\"/area-code/area-code-380.asp\" title=\"Area Code 380\">380</a> / <a href=\"/area-code/area-code-740.asp\" title=\"Area Code 740\">740</a></td></tr><tr><td><a href=\"/zip-code/43201/zip-code-43201.asp\" style=\"text-decoration:underline;\" title=\"ZIP Code 43201, COLUMBUS, OH\">ZIP Code 43201</a></td><td>Standard</td><td><a href=\"/county/oh-franklin.asp\">Franklin</a></td><td>35,495</td><td><a href=\"/area-code/area-code-614.asp\" title=\"Area Code 614\">614</a></td></tr><tr><td><a href=\"/zip-code/43202/zip-code-43202.asp\" style=\"text-decoration:underline;\" title=\"ZIP Code 43202, COLUMBUS, OH\">ZIP Code 43202</a></td><td>Standard</td><td><a href=\"/county/oh-franklin.asp\">Franklin</a></td><td>20,251</td><td><a href=\"/area-code/area-code-614.asp\" title=\"Area Code 614\">614</a></td></tr><tr><td><a href=\"/zip-code/43203/zip-code-43203.asp\" style=\"text-decoration:underline;\" title=\"ZIP Code 43203, COLUMBUS, OH\">ZIP Code 43203</a></td><td>Standard</td><td><a href=\"/county/oh-franklin.asp\">Franklin</a></td><td>8,108</td><td><a href=\"/area-code/area-code-614.asp\" title=\"Area Code 614\">614</a> / <a href=\"/area-code/area-code-380.asp\" title=\"Area Code 380\">380</a></td></tr><tr><td><a href=\"/zip-code/43204/zip-code-43204.asp\" style=\"text-decoration:underline;\" title=\"ZIP Code 43204, COLUMBUS, OH\">ZIP Code 43204</a></td><td>Standard</td><td><a href=\"/county/oh-franklin.asp\">Franklin</a></td><td>42,104</td><td><a href=\"/area-code/area-code-614.asp\" title=\"Area Code 614\">614</a></td></tr><tr><td><a href=\"/zip-code/43205/zip-code-43205.asp\" style=\"text-decoration:underline;\" title=\"ZIP Code 43205, COLUMBUS, OH\">ZIP Code 43205</a></td><td>Standard</td><td><a href=\"/county/oh-franklin.asp\">Franklin</a></td><td>12,272</td><td><a href=\"/area-code/area-code-614.asp\" title=\"Area Code 614\">614</a> / <a href=\"/area-code/area-code-380.asp\" title=\"Area Code 380\">380</a></td></tr><tr><td><a href=\"/zip-code/43206/zip-code-43206.asp\" style=\"text-decoration:underline;\" title=\"ZIP Code 43206, COLUMBUS, OH\">ZIP Code 43206</a></td><td>Standard</td><td><a href=\"/county/oh-franklin.asp\">Franklin</a></td><td>21,864</td><td><a href=\"/area-code/area-code-614.asp\" title=\"Area Code 614\">614</a></td></tr><tr><td><a href=\"/zip-code/43207/zip-code-43207.asp\" style=\"text-decoration:underline;\" title=\"ZIP Code 43207, COLUMBUS, OH\">ZIP Code 43207</a></td><td>Standard</td><td><a href=\"/county/oh-franklin.asp\">Franklin</a></td><td>45,144</td><td><a href=\"/area-code/area-code-614.asp\" title=\"Area Code 614\">614</a></td></tr><tr><td><a href=\"/zip-code/43209/zip-code-43209.asp\" style=\"text-decoration:underline;\" title=\"ZIP Code 43209, COLUMBUS, OH\">ZIP Code 43209</a></td><td>Standard</td><td><a href=\"/county/oh-franklin.asp\">Franklin</a></td><td>27,228</td><td><a href=\"/area-code/area-code-614.asp\" title=\"Area Code 614\">614</a></td></tr><tr><td><a href=\"/zip-code/43210/zip-code-43210.asp\" style=\"text-decoration:underline;\" title=\"ZIP Code 43210, COLUMBUS, OH\">ZIP Code 43210</a></td><td>Standard</td><td><a href=\"/county/oh-franklin.asp\">Franklin</a></td><td>9,432</td><td><a href=\"/area-code/area-code-614.asp\" title=\"Area Code 614\">614</a></td></tr><tr><td><a href=\"/zip-code/43211/zip-code-43211.asp\" style=\"text-decoration:underline;\" title=\"ZIP Code 43211, COLUMBUS, OH\">ZIP Code 43211</a></td><td>Standard</td><td><a href=\"/county/oh-franklin.asp\">Franklin</a></td><td>21,600</td><td><a href=\"/area-code/area-code-614.asp\" title=\"Area Code 614\">614</a></td></tr><tr><td><a href=\"/zip-code/43212/zip-code-43212.asp\" style=\"text-decoration:underline;\" title=\"ZIP Code 43212, COLUMBUS, OH\">ZIP Code 43212</a></td><td>Standard</td><td><a href=\"/county/oh-franklin.asp\">Franklin</a></td><td>18,551</td><td><a href=\"/area-code/area-code-614.asp\" title=\"Area Code 614\">614</a></td></tr><tr><td><a href=\"/zip-code/43213/zip-code-43213.asp\" style=\"text-decoration:underline;\" title=\"ZIP Code 43213, COLUMBUS, OH\">ZIP Code 43213</a></td><td>Standard</td><td><a href=\"/county/oh-franklin.asp\">Franklin</a></td><td>30,444</td><td><a href=\"/area-code/area-code-614.asp\" title=\"Area Code 614\">614</a></td></tr><tr><td><a href=\"/zip-code/43214/zip-code-43214.asp\" style=\"text-decoration:underline;\" title=\"ZIP Code 43214, COLUMBUS, OH\">ZIP Code 43214</a></td><td>Standard</td><td><a href=\"/county/oh-franklin.asp\">Franklin</a></td><td>24,650</td><td><a href=\"/area-code/area-code-614.asp\" title=\"Area Code 614\">614</a></td></tr><tr><td><a href=\"/zip-code/43215/zip-code-43215.asp\" style=\"text-decoration:underline;\" title=\"ZIP Code 43215, COLUMBUS, OH\">ZIP Code 43215</a></td><td>Standard</td><td><a href=\"/county/oh-franklin.asp\">Franklin</a></td><td>12,790</td><td><a href=\"/area-code/area-code-614.asp\" title=\"Area Code 614\">614</a> / <a href=\"/area-code/area-code-380.asp\" title=\"Area Code 380\">380</a></td></tr><tr><td><a href=\"/zip-code/43216/zip-code-43216.asp\" style=\"text-decoration:underline;\" title=\"ZIP Code 43216, COLUMBUS, OH\">ZIP Code 43216</a></td><td>P.O. Box</td><td><a href=\"/county/oh-franklin.asp\">Franklin</a></td><td>0</td><td><a href=\"/area-code/area-code-614.asp\" title=\"Area Code 614\">614</a> / <a href=\"/area-code/area-code-380.asp\" title=\"Area Code 380\">380</a></td></tr><tr><td><a href=\"/zip-code/43217/zip-code-43217.asp\" style=\"text-decoration:underline;\" title=\"ZIP Code 43217, COLUMBUS, OH\">ZIP Code 43217</a></td><td>Standard</td><td><a href=\"/county/oh-franklin.asp\">Franklin</a></td><td>2,602</td><td><a href=\"/area-code/area-code-614.asp\" title=\"Area Code 614\">614</a></td></tr><tr><td><a href=\"/zip-code/43218/zip-code-43218.asp\" style=\"text-decoration:underline;\" title=\"ZIP Code 43218, COLUMBUS, OH\">ZIP Code 43218</a></td><td>P.O. Box</td><td><a href=\"/county/oh-franklin.asp\">Franklin</a></td><td>0</td><td><a href=\"/area-code/area-code-614.asp\" title=\"Area Code 614\">614</a> / <a href=\"/area-code/area-code-380.asp\" title=\"Area Code 380\">380</a></td></tr><tr><td><a href=\"/zip-code/43219/zip-code-43219.asp\" style=\"text-decoration:underline;\" title=\"ZIP Code 43219, COLUMBUS, OH\">ZIP Code 43219</a></td><td>Standard</td><td><a href=\"/county/oh-franklin.asp\">Franklin</a></td><td>27,123</td><td><a href=\"/area-code/area-code-614.asp\" title=\"Area Code 614\">614</a></td></tr><tr><td><a href=\"/zip-code/43220/zip-code-43220.asp\" style=\"text-decoration:underline;\" title=\"ZIP Code 43220, COLUMBUS, OH\">ZIP Code 43220</a></td><td>Standard</td><td><a href=\"/county/oh-franklin.asp\">Franklin</a></td><td>24,989</td><td><a href=\"/area-code/area-code-614.asp\" title=\"Area Code 614\">614</a></td></tr><tr><td><a href=\"/zip-code/43221/zip-code-43221.asp\" style=\"text-decoration:underline;\" title=\"ZIP Code 43221, COLUMBUS, OH\">ZIP Code 43221</a></td><td>Standard</td><td><a href=\"/county/oh-franklin.asp\">Franklin</a></td><td>31,265</td><td><a href=\"/area-code/area-code-614.asp\" title=\"Area Code 614\">614</a></td></tr><tr><td><a href=\"/zip-code/43222/zip-code-43222.asp\" style=\"text-decoration:underline;\" title=\"ZIP Code 43222, COLUMBUS, OH\">ZIP Code 43222</a></td><td>Standard</td><td><a href=\"/county/oh-franklin.asp\">Franklin</a></td><td>4,617</td><td><a href=\"/area-code/area-code-614.asp\" title=\"Area Code 614\">614</a> / <a href=\"/area-code/area-code-380.asp\" title=\"Area Code 380\">380</a></td></tr><tr><td><a href=\"/zip-code/43223/zip-code-43223.asp\" style=\"text-decoration:underline;\" title=\"ZIP Code 43223, COLUMBUS, OH\">ZIP Code 43223</a></td><td>Standard</td><td><a href=\"/county/oh-franklin.asp\">Franklin</a></td><td>27,366</td><td><a href=\"/area-code/area-code-614.asp\" title=\"Area Code 614\">614</a></td></tr><tr><td><a href=\"/zip-code/43224/zip-code-43224.asp\" style=\"text-decoration:underline;\" title=\"ZIP Code 43224, COLUMBUS, OH\">ZIP Code 43224</a></td><td>Standard</td><td><a href=\"/county/oh-franklin.asp\">Franklin</a></td><td>38,699</td><td><a href=\"/area-code/area-code-614.asp\" title=\"Area Code 614\">614</a></td></tr><tr><td><a href=\"/zip-code/43226/zip-code-43226.asp\" style=\"text-decoration:underline;\" title=\"ZIP Code 43226, COLUMBUS, OH\">ZIP Code 43226</a></td><td>P.O. Box</td><td><a href=\"/county/oh-franklin.asp\">Franklin</a></td><td>0</td><td><a href=\"/area-code/area-code-614.asp\" title=\"Area Code 614\">614</a> / <a href=\"/area-code/area-code-380.asp\" title=\"Area Code 380\">380</a></td></tr><tr><td><a href=\"/zip-code/43227/zip-code-43227.asp\" style=\"text-decoration:underline;\" title=\"ZIP Code 43227, COLUMBUS, OH\">ZIP Code 43227</a></td><td>Standard</td><td><a href=\"/county/oh-franklin.asp\">Franklin</a></td><td>21,340</td><td><a href=\"/area-code/area-code-614.asp\" title=\"Area Code 614\">614</a></td></tr><tr><td><a href=\"/zip-code/43228/zip-code-43228.asp\" style=\"text-decoration:underline;\" title=\"ZIP Code 43228, COLUMBUS, OH\">ZIP Code 43228</a></td><td>Standard</td><td><a href=\"/county/oh-franklin.asp\">Franklin</a></td><td>50,737</td><td><a href=\"/area-code/area-code-614.asp\" title=\"Area Code 614\">614</a></td></tr><tr><td><a href=\"/zip-code/43229/zip-code-43229.asp\" style=\"text-decoration:underline;\" title=\"ZIP Code 43229, COLUMBUS, OH\">ZIP Code 43229</a></td><td>Standard</td><td><a href=\"/county/oh-franklin.asp\">Franklin</a></td><td>46,347</td><td><a href=\"/area-code/area-code-614.asp\" title=\"Area Code 614\">614</a> / <a href=\"/area-code/area-code-740.asp\" title=\"Area Code 740\">740</a></td></tr><tr><td><a href=\"/zip-code/43230/zip-code-43230.asp\" style=\"text-decoration:underline;\" title=\"ZIP Code 43230, COLUMBUS, OH\">ZIP Code 43230</a></td><td>Standard</td><td><a href=\"/county/oh-franklin.asp\">Franklin</a></td><td>51,161</td><td><a href=\"/area-code/area-code-614.asp\" title=\"Area Code 614\">614</a></td></tr><tr><td><a href=\"/zip-code/43231/zip-code-43231.asp\" style=\"text-decoration:underline;\" title=\"ZIP Code 43231, COLUMBUS, OH\">ZIP Code 43231</a></td><td>Standard</td><td><a href=\"/county/oh-franklin.asp\">Franklin</a></td><td>19,685</td><td><a href=\"/area-code/area-code-614.asp\" title=\"Area Code 614\">614</a></td></tr><tr><td><a href=\"/zip-code/43232/zip-code-43232.asp\" style=\"text-decoration:underline;\" title=\"ZIP Code 43232, COLUMBUS, OH\">ZIP Code 43232</a></td><td>Standard</td><td><a href=\"/county/oh-franklin.asp\">Franklin</a></td><td>42,201</td><td><a href=\"/area-code/area-code-614.asp\" title=\"Area Code 614\">614</a></td></tr><tr><td><a href=\"/zip-code/43234/zip-code-43234.asp\" style=\"text-decoration:underline;\" title=\"ZIP Code 43234, COLUMBUS, OH\">ZIP Code 43234</a></td><td>P.O. Box</td><td><a href=\"/county/oh-franklin.asp\">Franklin</a></td><td>0</td><td><a href=\"/area-code/area-code-614.asp\" title=\"Area Code 614\">614</a> / <a href=\"/area-code/area-code-380.asp\" title=\"Area Code 380\">380</a></td></tr><tr><td><a href=\"/zip-code/43235/zip-code-43235.asp\" style=\"text-decoration:underline;\" title=\"ZIP Code 43235, COLUMBUS, OH\">ZIP Code 43235</a></td><td>Standard</td><td><a href=\"/county/oh-franklin.asp\">Franklin</a></td><td>38,493</td><td><a href=\"/area-code/area-code-614.asp\" title=\"Area Code 614\">614</a></td></tr><tr><td><a href=\"/zip-code/43236/zip-code-43236.asp\" style=\"text-decoration:underline;\" title=\"ZIP Code 43236, COLUMBUS, OH\">ZIP Code 43236</a></td><td>P.O. Box</td><td><a href=\"/county/oh-franklin.asp\">Franklin</a></td><td>0</td><td><a href=\"/area-code/area-code-614.asp\" title=\"Area Code 614\">614</a> / <a href=\"/area-code/area-code-380.asp\" title=\"Area Code 380\">380</a></td></tr><tr><td><a href=\"/zip-code/43240/zip-code-43240.asp\" style=\"text-decoration:underline;\" title=\"ZIP Code 43240, COLUMBUS, OH\">ZIP Code 43240</a></td><td>Standard</td><td><a href=\"/county/oh-delaware.asp\">Delaware</a></td><td>3,469</td><td><a href=\"/area-code/area-code-614.asp\" title=\"Area Code 614\">614</a> / <a href=\"/area-code/area-code-740.asp\" title=\"Area Code 740\">740</a></td></tr><tr><td><a href=\"/zip-code/43251/zip-code-43251.asp\" style=\"text-decoration:underline;\" title=\"ZIP Code 43251, COLUMBUS, OH\">ZIP Code 43251</a></td><td>Unique</td><td><a href=\"/county/oh-franklin.asp\">Franklin</a></td><td>0</td><td><a href=\"/area-code/area-code-614.asp\" title=\"Area Code 614\">614</a> / <a href=\"/area-code/area-code-380.asp\" title=\"Area Code 380\">380</a></td></tr><tr><td><a href=\"/zip-code/43260/zip-code-43260.asp\" style=\"text-decoration:underline;\" title=\"ZIP Code 43260, COLUMBUS, OH\">ZIP Code 43260</a></td><td>Unique</td><td><a href=\"/county/oh-franklin.asp\">Franklin</a></td><td>0</td><td><a href=\"/area-code/area-code-614.asp\" title=\"Area Code 614\">614</a> / <a href=\"/area-code/area-code-380.asp\" title=\"Area Code 380\">380</a></td></tr><tr><td><a href=\"/zip-code/43266/zip-code-43266.asp\" style=\"text-decoration:underline;\" title=\"ZIP Code 43266, COLUMBUS, OH\">ZIP Code 43266</a></td><td>Unique</td><td><a href=\"/county/oh-franklin.asp\">Franklin</a></td><td>0</td><td><a href=\"/area-code/area-code-614.asp\" title=\"Area Code 614\">614</a> / <a href=\"/area-code/area-code-380.asp\" title=\"Area Code 380\">380</a></td></tr><tr><td><a href=\"/zip-code/43268/zip-code-43268.asp\" style=\"text-decoration:underline;\" title=\"ZIP Code 43268, COLUMBUS, OH\">ZIP Code 43268</a></td><td>Unique</td><td><a href=\"/county/oh-franklin.asp\">Franklin</a></td><td>0</td><td><a href=\"/area-code/area-code-614.asp\" title=\"Area Code 614\">614</a> / <a href=\"/area-code/area-code-380.asp\" title=\"Area Code 380\">380</a></td></tr><tr><td><a href=\"/zip-code/43270/zip-code-43270.asp\" style=\"text-decoration:underline;\" title=\"ZIP Code 43270, COLUMBUS, OH\">ZIP Code 43270</a></td><td>Unique</td><td><a href=\"/county/oh-franklin.asp\">Franklin</a></td><td>0</td><td><a href=\"/area-code/area-code-614.asp\" title=\"Area Code 614\">614</a> / <a href=\"/area-code/area-code-380.asp\" title=\"Area Code 380\">380</a></td></tr><tr><td><a href=\"/zip-code/43271/zip-code-43271.asp\" style=\"text-decoration:underline;\" title=\"ZIP Code 43271, COLUMBUS, OH\">ZIP Code 43271</a></td><td>Unique</td><td><a href=\"/county/oh-franklin.asp\">Franklin</a></td><td>0</td><td><a href=\"/area-code/area-code-614.asp\" title=\"Area Code 614\">614</a> / <a href=\"/area-code/area-code-380.asp\" title=\"Area Code 380\">380</a></td></tr><tr><td><a href=\"/zip-code/43272/zip-code-43272.asp\" style=\"text-decoration:underline;\" title=\"ZIP Code 43272, COLUMBUS, OH\">ZIP Code 43272</a></td><td>Unique</td><td><a href=\"/county/oh-franklin.asp\">Franklin</a></td><td>0</td><td><a href=\"/area-code/area-code-614.asp\" title=\"Area Code 614\">614</a> / <a href=\"/area-code/area-code-380.asp\" title=\"Area Code 380\">380</a></td></tr><tr><td><a href=\"/zip-code/43279/zip-code-43279.asp\" style=\"text-decoration:underline;\" title=\"ZIP Code 43279, COLUMBUS, OH\">ZIP Code 43279</a></td><td>Unique</td><td><a href=\"/county/oh-franklin.asp\">Franklin</a></td><td>0</td><td><a href=\"/area-code/area-code-614.asp\" title=\"Area Code 614\">614</a> / <a href=\"/area-code/area-code-380.asp\" title=\"Area Code 380\">380</a></td></tr><tr><td><a href=\"/zip-code/43287/zip-code-43287.asp\" style=\"text-decoration:underline;\" title=\"ZIP Code 43287, COLUMBUS, OH\">ZIP Code 43287</a></td><td>Unique</td><td><a href=\"/county/oh-franklin.asp\">Franklin</a></td><td>0</td><td><a href=\"/area-code/area-code-614.asp\" title=\"Area Code 614\">614</a> / <a href=\"/area-code/area-code-380.asp\" title=\"Area Code 380\">380</a></td></tr><tr><td><a href=\"/zip-code/43291/zip-code-43291.asp\" style=\"text-decoration:underline;\" title=\"ZIP Code 43291, COLUMBUS, OH\">ZIP Code 43291</a></td><td>Unique</td><td><a href=\"/county/oh-franklin.asp\">Franklin</a></td><td>0</td><td><a href=\"/area-code/area-code-614.asp\" title=\"Area Code 614\">614</a> / <a href=\"/area-code/area-code-380.asp\" title=\"Area Code 380\">380</a></td></tr></table>\n"
     ]
    }
   ],
   "source": [
    "if response.status_code == 200:\n",
    "    soup = BeautifulSoup(response.text, 'html.parser')\n",
    "    tbl = soup.table.tr.find_all('td')[1].find_all('table')[1]\n",
    "    print(tbl)"
   ]
  },
  {
   "cell_type": "markdown",
   "metadata": {},
   "source": [
    "function to help web scrape zip code information"
   ]
  },
  {
   "cell_type": "code",
   "execution_count": 4,
   "metadata": {},
   "outputs": [],
   "source": [
    "# utilize when using the table the [0-4] table \n",
    "# BeautifulSoup(response.text, 'html.parser').table.tr.find_all('td')[1].find_all('table')\n",
    "def zip_info(response):\n",
    "    page = BeautifulSoup(response.text, 'html.parser').find_all(\"table\", class_=\"statTable\")\n",
    "    #print(page)\n",
    "    dict = {}\n",
    "    for table in page:\n",
    "        for row in table.find_all('tr'):\n",
    "            dict[row.find_all('td')[0].string] = row.find_all('td')[1].string        \n",
    "    return dict"
   ]
  },
  {
   "cell_type": "markdown",
   "metadata": {},
   "source": [
    "Parses through and gathers data"
   ]
  },
  {
   "cell_type": "code",
   "execution_count": 5,
   "metadata": {
    "tags": []
   },
   "outputs": [
    {
     "output_type": "stream",
     "name": "stdout",
     "text": [
      "   # Business Mailboxes: # Residential Mailboxes: # of Employees:  \\\n0                  1,375                   27,973          28,811   \n1                  1,108                   10,609          18,013   \n2                    799                   17,791           9,974   \n3                    398                   10,555           5,133   \n4                    214                    4,367           1,198   \n5                    842                   17,857           9,930   \n6                    462                    5,973          15,488   \n7                    489                   11,140           6,408   \n8                  1,162                   19,154          18,937   \n9                    530                   12,038           6,965   \n10                   266                      325          10,769   \n11                   448                    9,015           3,287   \n12                 1,023                   13,257          19,020   \n13                 1,287                   15,260          18,820   \n14                 1,074                   13,731          21,545   \n15                 2,747                   12,179          74,570   \n16                    66                      880           1,485   \n17                 1,562                   12,244          50,742   \n18                   915                   12,973          11,175   \n19                   594                   14,558           6,828   \n20                   239                    1,703           8,135   \n21                   627                   10,432           7,522   \n22                   635                   17,791           4,721   \n23                   332                    9,469           2,866   \n24                 1,603                   24,142          37,475   \n25                 1,561                   21,418          24,330   \n26                 1,381                   24,826          23,504   \n27                   683                    8,720          10,996   \n28                   944                   19,000          10,050   \n29                 1,072                   20,616          21,507   \n30                   651                    3,336          25,220   \n\n   113th Congressional District: 113th Congressional Land Area:  \\\n0                          03|12              228|2271.91 sq mi   \n1                          03|12              228|2271.91 sq mi   \n2                       03|12|15      228|2271.91|4738.93 sq mi   \n3                          03|12              228|2271.91 sq mi   \n4                             03                      228 sq mi   \n5                          03|15              228|4738.93 sq mi   \n6                             03                      228 sq mi   \n7                          03|15              228|4738.93 sq mi   \n8                          03|15              228|4738.93 sq mi   \n9                             03                      228 sq mi   \n10                         03|15              228|4738.93 sq mi   \n11                            03                      228 sq mi   \n12                         03|15              228|4738.93 sq mi   \n13                            03                      228 sq mi   \n14                         03|12              228|2271.91 sq mi   \n15                         03|15              228|4738.93 sq mi   \n16                      03|12|15      228|2271.91|4738.93 sq mi   \n17                         03|12              228|2271.91 sq mi   \n18                         12|15          2271.91|4738.93 sq mi   \n19                      03|12|15      228|2271.91|4738.93 sq mi   \n20                         03|15              228|4738.93 sq mi   \n21                         03|15              228|4738.93 sq mi   \n22                            03                      228 sq mi   \n23                            03                      228 sq mi   \n24                         03|15              228|4738.93 sq mi   \n25                         03|12              228|2271.91 sq mi   \n26                         03|12              228|2271.91 sq mi   \n27                            03                      228 sq mi   \n28                            03                      228 sq mi   \n29                      03|12|15      228|2271.91|4738.93 sq mi   \n30                         03|12              228|2271.91 sq mi   \n\n   1st Quarter Payroll: 2010 Population:   65+: American Indian Population:  \\\n0          $396,493,000           55,991  7,780                         440   \n1          $214,132,000           23,258  3,350                         137   \n2          $110,918,000           35,495    655                         282   \n3           $58,630,000           20,251    895                         206   \n4            $8,800,000            8,108    700                         138   \n5          $120,868,000           42,104  3,980                         662   \n6          $247,412,000           12,272    950                         201   \n7           $77,100,000           21,864  2,030                         309   \n8          $206,110,000           45,144  5,720                         648   \n9           $55,635,000           27,228  3,565                         226   \n10         $158,937,000            9,432      0                          29   \n11          $31,961,000           21,600  1,935                         337   \n12         $223,888,000           18,551  1,645                         138   \n13         $194,587,000           30,444  4,380                         447   \n14         $277,646,000           24,650  3,805                         161   \n15       $1,658,727,000           12,790  1,045                         134   \n16          $20,114,000            2,602     85                          25   \n17         $904,668,000           27,123  2,905                         371   \n18         $121,584,000           24,989  3,645                         140   \n19          $66,813,000           31,265  3,930                         178   \n20          $96,119,000            4,617    400                          77   \n21          $70,602,000           27,366  2,485                         370   \n22          $30,233,000           38,699  3,645                         447   \n23          $25,158,000           21,340  2,680                         259   \n24         $440,252,000           50,737  4,810                         568   \n25         $224,121,000           46,347  4,610                         496   \n26         $293,109,000           51,161  6,430                         446   \n27         $113,936,000           19,685  1,765                         191   \n28          $80,619,000           42,201  4,145                         518   \n29         $236,796,000           38,493  5,255                         210   \n30         $556,702,000            3,469    405                          20   \n\n   Annual Payroll:  ...     State:            Time Zone: Total Beneficiaries:  \\\n0   $1,492,455,000  ...  OH [Ohio]  Eastern (GMT -05:00)                9,445   \n1     $880,065,000  ...  OH [Ohio]  Eastern (GMT -05:00)                4,185   \n2     $441,162,000  ...  OH [Ohio]  Eastern (GMT -05:00)                1,205   \n3     $243,004,000  ...  OH [Ohio]  Eastern (GMT -05:00)                1,150   \n4      $38,071,000  ...  OH [Ohio]  Eastern (GMT -05:00)                1,145   \n5     $487,286,000  ...  OH [Ohio]  Eastern (GMT -05:00)                6,390   \n6     $933,749,000  ...  OH [Ohio]  Eastern (GMT -05:00)                1,675   \n7     $274,858,000  ...  OH [Ohio]  Eastern (GMT -05:00)                3,755   \n8     $844,809,000  ...  OH [Ohio]  Eastern (GMT -05:00)                9,140   \n9     $230,119,000  ...  OH [Ohio]  Eastern (GMT -05:00)                4,430   \n10    $654,512,000  ...  OH [Ohio]  Eastern (GMT -05:00)                    0   \n11    $132,663,000  ...  OH [Ohio]  Eastern (GMT -05:00)                3,670   \n12    $888,761,000  ...  OH [Ohio]  Eastern (GMT -05:00)                1,945   \n13    $772,845,000  ...  OH [Ohio]  Eastern (GMT -05:00)                6,235   \n14  $1,122,554,000  ...  OH [Ohio]  Eastern (GMT -05:00)                4,465   \n15  $5,734,149,000  ...  OH [Ohio]  Eastern (GMT -05:00)                1,555   \n16     $77,661,000  ...  OH [Ohio]  Eastern (GMT -05:00)                  190   \n17  $3,154,584,000  ...  OH [Ohio]  Eastern (GMT -05:00)                4,295   \n18    $505,409,000  ...  OH [Ohio]  Eastern (GMT -05:00)                4,170   \n19    $277,075,000  ...  OH [Ohio]  Eastern (GMT -05:00)                4,540   \n20    $409,236,000  ...  OH [Ohio]  Eastern (GMT -05:00)                  795   \n21    $314,838,000  ...  OH [Ohio]  Eastern (GMT -05:00)                4,790   \n22    $131,310,000  ...  OH [Ohio]  Eastern (GMT -05:00)                5,765   \n23    $102,651,000  ...  OH [Ohio]  Eastern (GMT -05:00)                4,340   \n24  $1,703,340,000  ...  OH [Ohio]  Eastern (GMT -05:00)                7,285   \n25    $927,738,000  ...  OH [Ohio]  Eastern (GMT -05:00)                6,580   \n26  $1,138,008,000  ...  OH [Ohio]  Eastern (GMT -05:00)                8,110   \n27    $455,675,000  ...  OH [Ohio]  Eastern (GMT -05:00)                2,585   \n28    $337,561,000  ...  OH [Ohio]  Eastern (GMT -05:00)                6,790   \n29    $942,105,000  ...  OH [Ohio]  Eastern (GMT -05:00)                6,125   \n30  $1,696,669,000  ...  OH [Ohio]  Eastern (GMT -05:00)                  490   \n\n   Total Delivery Receptacles:  Water Area: White Population:  \\\n0                       29,314  1.131 sq mi            47,805   \n1                       12,229  0.084 sq mi            20,891   \n2                       18,826      0 sq mi            27,369   \n3                       12,293  0.059 sq mi            17,151   \n4                        4,762      0 sq mi             1,160   \n5                       19,345  0.316 sq mi            32,905   \n6                        9,076   0.02 sq mi             3,235   \n7                       11,903  0.001 sq mi            11,584   \n8                       20,834  0.971 sq mi            31,582   \n9                       15,341  0.091 sq mi            19,355   \n10                       1,904  0.072 sq mi             7,554   \n11                       9,749  0.014 sq mi             6,376   \n12                      14,793  0.064 sq mi            17,015   \n13                      18,775  0.092 sq mi            17,210   \n14                      18,751  0.082 sq mi            22,734   \n15                      15,033  0.565 sq mi             9,735   \n16                         936      0 sq mi             2,121   \n17                      13,330  0.127 sq mi             5,450   \n18                      17,490  0.142 sq mi            21,167   \n19                      18,868  0.344 sq mi            29,068   \n20                       3,882  0.055 sq mi             3,573   \n21                      11,197  0.803 sq mi            20,559   \n22                      20,106  0.042 sq mi            20,313   \n23                      10,119  0.009 sq mi             6,612   \n24                      27,104  0.179 sq mi            36,572   \n25                      33,959   0.06 sq mi            24,104   \n26                      32,576  0.337 sq mi            41,049   \n27                      16,424  0.047 sq mi            11,367   \n28                      22,897  0.207 sq mi            17,375   \n29                      21,567  0.249 sq mi            32,588   \n30                       3,590  0.003 sq mi             2,705   \n\n   Widow(er)s and Parents: Zip Code:       City Alias(es) To Avoid Using:  \n0                      600     43081  2018                            NaN  \n1                      240     43085  2018                            NaN  \n2                       50     43201  2018                            NaN  \n3                       60     43202  2018                            NaN  \n4                       75     43203  2018                            NaN  \n5                      435     43204  2018                            NaN  \n6                       85     43205  2018                            NaN  \n7                      200     43206  2018                            NaN  \n8                      785     43207  2018                            NaN  \n9                      270     43209  2018                            NaN  \n10                       0     43210  2018                            NaN  \n11                     270     43211  2018                            NaN  \n12                     125     43212  2018                            NaN  \n13                     450     43213  2018                            NaN  \n14                     310     43214  2018                            NaN  \n15                      95     43215  2018                            NaN  \n16                      15     43217  2018    Rickenbacker Air Force Base  \n17                     290     43219  2018                            NaN  \n18                     270     43220  2018                            NaN  \n19                     280     43221  2018                            NaN  \n20                      65     43222  2018                            NaN  \n21                     355     43223  2018                            NaN  \n22                     340     43224  2018                            NaN  \n23                     245     43227  2018                            NaN  \n24                     500     43228  2018                            NaN  \n25                     440     43229  2018                            NaN  \n26                     555     43230  2018                            NaN  \n27                     155     43231  2018                            NaN  \n28                     395     43232  2018                            NaN  \n29                     410     43235  2018                            NaN  \n30                      25     43240  2018                            NaN  \n\n[31 rows x 75 columns]\n"
     ]
    }
   ],
   "source": [
    "i=0\n",
    "zip_info_df = pd.DataFrame()\n",
    "zip_url = '/zip-code/{}/zip-code-{}.asp'\n",
    "for row in tbl.find_all('tr'):\n",
    "    #checks for header\n",
    "    if row.find_all('td')[0].string != 'ZIP Code':\n",
    "        if row.find_all('td')[1].string == 'Standard':\n",
    "            zip_code = row.find_all('td')[0].string.strip(\" ZIPCode\")\n",
    "            #coded just to make sure that we can access the website\n",
    "            accessed = False\n",
    "            while accessed == False:\n",
    "                try:\n",
    "                    zip_response = requests.get(url.format(zip_url.format(zip_code,zip_code)))\n",
    "                    accessed = True\n",
    "                    i+=1\n",
    "                    zip_dict = zip_info(zip_response)\n",
    "                    zip_info_df = zip_info_df.append(zip_dict, ignore_index=True)\n",
    "                except:\n",
    "                    accessed = False\n",
    "print(zip_info_df)\n",
    "# reads in all zip code responses"
   ]
  },
  {
   "cell_type": "code",
   "execution_count": 6,
   "metadata": {},
   "outputs": [],
   "source": [
    "zip_info_df.columns\n",
    "zip_info_df = zip_info_df.infer_objects()"
   ]
  },
  {
   "cell_type": "markdown",
   "metadata": {},
   "source": [
    "## Location data for Hospitals and Pharmacies"
   ]
  },
  {
   "cell_type": "markdown",
   "metadata": {},
   "source": [
    "Get relevant packages"
   ]
  },
  {
   "cell_type": "code",
   "execution_count": 7,
   "metadata": {
    "tags": []
   },
   "outputs": [
    {
     "output_type": "stream",
     "name": "stdout",
     "text": [
      "Folium installed\nLibraries imported.\n"
     ]
    }
   ],
   "source": [
    "import requests # library to handle requests\n",
    "import pandas as pd # library for data analsysis\n",
    "import numpy as np # library to handle data in a vectorized manner\n",
    "import random # library for random number generation\n",
    "\n",
    "# !conda install -c conda-forge geopy --yes \n",
    "from geopy.geocoders import Nominatim # module to convert an address into latitude and longitude values\n",
    "\n",
    "# libraries for displaying images\n",
    "from IPython.display import Image \n",
    "from IPython.core.display import HTML \n",
    "    \n",
    "# tranforming json file into a pandas dataframe library\n",
    "from pandas.io.json import json_normalize\n",
    "\n",
    "# !conda install -c conda-forge folium=0.5.0 --yes\n",
    "import folium # plotting library\n",
    "\n",
    "print('Folium installed')\n",
    "print('Libraries imported.')"
   ]
  },
  {
   "cell_type": "markdown",
   "metadata": {},
   "source": [
    "Credentials for foursquare_API"
   ]
  },
  {
   "cell_type": "code",
   "execution_count": 8,
   "metadata": {
    "tags": []
   },
   "outputs": [
    {
     "output_type": "stream",
     "name": "stdout",
     "text": [
      "Your credentails:\nCLIENT_ID: 3PRTA5P0AY2A12Z51Z1UHCZH124K5AYLU4PGQHQ0BMCV5FWD\nCLIENT_SECRET:JOQYBGLRRR0QNOYE43VOVALU1DFGK4TGSR23SS3J53X2G4JW\n"
     ]
    }
   ],
   "source": [
    "# @hidden_cell\n",
    "CLIENT_ID = '3PRTA5P0AY2A12Z51Z1UHCZH124K5AYLU4PGQHQ0BMCV5FWD' # your Foursquare ID\n",
    "CLIENT_SECRET = 'JOQYBGLRRR0QNOYE43VOVALU1DFGK4TGSR23SS3J53X2G4JW' # your Foursquare Secret\n",
    "VERSION = '20180604'\n",
    "LIMIT = 60\n",
    "print('Your credentails:')\n",
    "print('CLIENT_ID: ' + CLIENT_ID)\n",
    "print('CLIENT_SECRET:' + CLIENT_SECRET)"
   ]
  },
  {
   "cell_type": "markdown",
   "metadata": {},
   "source": [
    "Information for using foursquare API "
   ]
  },
  {
   "cell_type": "code",
   "execution_count": 9,
   "metadata": {},
   "outputs": [
    {
     "output_type": "execute_result",
     "data": {
      "text/plain": [
       "Index(['# Business Mailboxes:', '# Residential Mailboxes:', '# of Employees:',\n",
       "       '113th Congressional District:', '113th Congressional Land Area:',\n",
       "       '1st Quarter Payroll:', '2010 Population:', '65+:',\n",
       "       'American Indian Population:', 'Annual Payroll:', 'Area Code:',\n",
       "       'Asian Population:', 'Average House Value:',\n",
       "       'Avg. Income Per Household:', 'Black Population:',\n",
       "       'CBSA Division Name:', 'CBSA Division Population:', 'CBSA Division:',\n",
       "       'CBSA Name:', 'CBSA Population:', 'CBSA Type:', 'CBSA:', 'Children:',\n",
       "       'City Alias(es):', 'City State Key:', 'City Type:', 'City:',\n",
       "       'Classification:', 'Counties:', 'County FIPS:', 'Current Population:',\n",
       "       'Disabled Workers:', 'Division:', 'Elevation:', 'Female Median Age:',\n",
       "       'Female Population:', 'Hawaiian Population:', 'Hispanic Population:',\n",
       "       'Households per ZIP Code:', 'Intro Date:', 'Land Area:', 'Latitude:',\n",
       "       'Longitude:', 'MSA Name:', 'MSA:', 'Male Median Age:',\n",
       "       'Male Population:', 'Median Age:', 'Monthly Benefits - All:',\n",
       "       'Monthly Benefits - Retired Workers:', 'Monthly Benefits - Widow(ers):',\n",
       "       'Multi County:', 'Multi Family Delivery Units:',\n",
       "       'Number of Businesses:', 'Observes Day Light Savings:',\n",
       "       'Other Population:', 'PMSA Name:', 'PMSA:', 'Persons Per Household:',\n",
       "       'Preferred Last Line Key:', 'Region:', 'Retired Workers:',\n",
       "       'Single Family Delivery Units:', 'Spouses:', 'State FIPS:', 'State:',\n",
       "       'Time Zone:', 'Total Beneficiaries:', 'Total Delivery Receptacles:',\n",
       "       'Water Area:', 'White Population:', 'Widow(er)s and Parents:',\n",
       "       'Zip Code:', ' ', 'City Alias(es) To Avoid Using:'],\n",
       "      dtype='object')"
      ]
     },
     "metadata": {},
     "execution_count": 9
    }
   ],
   "source": [
    "zip_info_df.columns"
   ]
  },
  {
   "cell_type": "code",
   "execution_count": 10,
   "metadata": {},
   "outputs": [],
   "source": [
    "CAT_IDs = {'Hospital':'4bf58dd8d48988d196941735', 'Pharmacy': '4bf58dd8d48988d10f951735'}\n",
    "geo_coords = zip_info_df[['Latitude:','Longitude:']]\n",
    "radius = 10000 #about 6.2 miles"
   ]
  },
  {
   "cell_type": "markdown",
   "metadata": {},
   "source": [
    "Create parameters that are not hidden"
   ]
  },
  {
   "cell_type": "code",
   "execution_count": 11,
   "metadata": {},
   "outputs": [
    {
     "output_type": "execute_result",
     "data": {
      "text/plain": [
       "'https://api.foursquare.com/v2/venues/search?client_id={}&client_secret={}&ll={},{}&categoryId={}&v={}&radius={}&limit={}'"
      ]
     },
     "metadata": {},
     "execution_count": 11
    }
   ],
   "source": [
    "url = 'https://api.foursquare.com/v2/venues/search?client_id={}&client_secret={}&ll={},{}&categoryId={}&v={}&radius={}&limit={}'\n",
    "url"
   ]
  },
  {
   "cell_type": "markdown",
   "metadata": {},
   "source": [
    "Grabs data for all hospitals and pharmacies"
   ]
  },
  {
   "cell_type": "code",
   "execution_count": 12,
   "metadata": {},
   "outputs": [
    {
     "output_type": "execute_result",
     "data": {
      "text/plain": [
       "                            id                                    name  \\\n",
       "0     5f6ba0a26c680a653d7297da                     Walk In Urgent Care   \n",
       "1     501d17b8e4b09fbdec1c12c9                     H12B HEM/ONC At NCH   \n",
       "2     4e4523811838e44e89955e65  Heartland Hospice Serving Central Ohio   \n",
       "3     4dd2dfe6ae60da0ebed12eec  Mt Carmel New Albany Surgical Hospital   \n",
       "4     4b391ed3f964a520985625e3         Mount Carmel St. Ann's Hospital   \n",
       "...                        ...                                     ...   \n",
       "2873  5104adbbe4b0ed508b8a2b5e                          Campari Office   \n",
       "2874  5163a42de4b095f6f027b6cc                  Estra's Vitamin Shoppe   \n",
       "2875  500e2b02e4b0f585cbfbf28e                     Heartlight Pharmacy   \n",
       "2876  4d28cdb46e27a143bd0f1e24                      Complete nutrition   \n",
       "2877  4b0acb4af964a520f02723e3                      Discount Drug Mart   \n",
       "\n",
       "                                             categories    referralId  \\\n",
       "0     [{'id': '4bf58dd8d48988d196941735', 'name': 'H...  v-1609606558   \n",
       "1     [{'id': '4bf58dd8d48988d196941735', 'name': 'H...  v-1609606558   \n",
       "2     [{'id': '4bf58dd8d48988d104941735', 'name': 'M...  v-1609606558   \n",
       "3     [{'id': '4bf58dd8d48988d196941735', 'name': 'H...  v-1609606558   \n",
       "4     [{'id': '4bf58dd8d48988d196941735', 'name': 'H...  v-1609606558   \n",
       "...                                                 ...           ...   \n",
       "2873  [{'id': '4bf58dd8d48988d10f951735', 'name': 'P...  v-1609606587   \n",
       "2874  [{'id': '4bf58dd8d48988d10f951735', 'name': 'P...  v-1609606587   \n",
       "2875  [{'id': '4bf58dd8d48988d10f951735', 'name': 'P...  v-1609606587   \n",
       "2876  [{'id': '4bf58dd8d48988d10f951735', 'name': 'P...  v-1609606587   \n",
       "2877  [{'id': '4bf58dd8d48988d10f951735', 'name': 'P...  v-1609606587   \n",
       "\n",
       "      hasPerk     location.address  location.lat  location.lng  \\\n",
       "0       False    1085 Polaris Pkwy     40.145056    -82.992258   \n",
       "1       False                  NaN     40.110148    -83.036035   \n",
       "2       False      6500 Busch Blvd     40.098464    -82.992242   \n",
       "3       False  7333 Smiths Mill Rd     40.086201    -82.789909   \n",
       "4       False  500 S Cleveland Ave     40.114484    -82.947050   \n",
       "...       ...                  ...           ...           ...   \n",
       "2873    False                  NaN     40.178708    -83.085247   \n",
       "2874    False                  NaN     40.113375    -83.068552   \n",
       "2875    False                  NaN     40.109854    -82.998364   \n",
       "2876    False      7541 Sawmill Rd     40.120197    -83.091836   \n",
       "2877    False    9965 Sawmill Pkwy     40.153864    -83.091781   \n",
       "\n",
       "                                location.labeledLatLngs  location.distance  \\\n",
       "0     [{'label': 'display', 'lat': 40.1450558, 'lng'...               9114   \n",
       "1     [{'label': 'display', 'lat': 40.11014760015202...              11751   \n",
       "2     [{'label': 'display', 'lat': 40.09846372, 'lng...               8058   \n",
       "3     [{'label': 'display', 'lat': 40.08620050813063...               9475   \n",
       "4     [{'label': 'display', 'lat': 40.11448386021365...               4270   \n",
       "...                                                 ...                ...   \n",
       "2873  [{'label': 'display', 'lat': 40.178708, 'lng':...               9663   \n",
       "2874  [{'label': 'display', 'lat': 40.11337511494923...               8367   \n",
       "2875  [{'label': 'display', 'lat': 40.10985424185838...               4319   \n",
       "2876  [{'label': 'display', 'lat': 40.12019666683196...               9942   \n",
       "2877  [{'label': 'display', 'lat': 40.15386429962785...               9550   \n",
       "\n",
       "     location.postalCode location.cc location.city location.state  \\\n",
       "0                  43240          US      Columbus             OH   \n",
       "1                  43223          US      Columbus             OH   \n",
       "2                  43229          US      Columbus             OH   \n",
       "3                  43054          US    New Albany             OH   \n",
       "4                  43081          US   Westerville             OH   \n",
       "...                  ...         ...           ...            ...   \n",
       "2873               43065          US        Powell             OH   \n",
       "2874                 NaN          US      Columbus             OH   \n",
       "2875               43085          US      Columbus             OH   \n",
       "2876               43016          US      Columbus             OH   \n",
       "2877               43065          US        Powell             OH   \n",
       "\n",
       "     location.country                          location.formattedAddress  \\\n",
       "0       United States  [1085 Polaris Pkwy, Columbus, OH 43240, United...   \n",
       "1       United States                [Columbus, OH 43223, United States]   \n",
       "2       United States  [6500 Busch Blvd (#210), Columbus, OH 43229, U...   \n",
       "3       United States  [7333 Smiths Mill Rd, New Albany, OH 43054, Un...   \n",
       "4       United States  [500 S Cleveland Ave, Westerville, OH 43081, U...   \n",
       "...               ...                                                ...   \n",
       "2873    United States                  [Powell, OH 43065, United States]   \n",
       "2874    United States                      [Columbus, OH, United States]   \n",
       "2875    United States                [Columbus, OH 43085, United States]   \n",
       "2876    United States  [7541 Sawmill Rd, Columbus, OH 43016, United S...   \n",
       "2877    United States  [9965 Sawmill Pkwy, Powell, OH 43065, United S...   \n",
       "\n",
       "     location.crossStreet venuePage.id location.neighborhood  \n",
       "0                     NaN          NaN                   NaN  \n",
       "1                     NaN          NaN                   NaN  \n",
       "2                    #210    416270706                   NaN  \n",
       "3                     NaN          NaN                   NaN  \n",
       "4                     NaN          NaN                   NaN  \n",
       "...                   ...          ...                   ...  \n",
       "2873                  NaN          NaN                   NaN  \n",
       "2874                  NaN          NaN                   NaN  \n",
       "2875                  NaN          NaN                   NaN  \n",
       "2876                  NaN          NaN                   NaN  \n",
       "2877                  NaN          NaN                   NaN  \n",
       "\n",
       "[2878 rows x 19 columns]"
      ],
      "text/html": "<div>\n<style scoped>\n    .dataframe tbody tr th:only-of-type {\n        vertical-align: middle;\n    }\n\n    .dataframe tbody tr th {\n        vertical-align: top;\n    }\n\n    .dataframe thead th {\n        text-align: right;\n    }\n</style>\n<table border=\"1\" class=\"dataframe\">\n  <thead>\n    <tr style=\"text-align: right;\">\n      <th></th>\n      <th>id</th>\n      <th>name</th>\n      <th>categories</th>\n      <th>referralId</th>\n      <th>hasPerk</th>\n      <th>location.address</th>\n      <th>location.lat</th>\n      <th>location.lng</th>\n      <th>location.labeledLatLngs</th>\n      <th>location.distance</th>\n      <th>location.postalCode</th>\n      <th>location.cc</th>\n      <th>location.city</th>\n      <th>location.state</th>\n      <th>location.country</th>\n      <th>location.formattedAddress</th>\n      <th>location.crossStreet</th>\n      <th>venuePage.id</th>\n      <th>location.neighborhood</th>\n    </tr>\n  </thead>\n  <tbody>\n    <tr>\n      <th>0</th>\n      <td>5f6ba0a26c680a653d7297da</td>\n      <td>Walk In Urgent Care</td>\n      <td>[{'id': '4bf58dd8d48988d196941735', 'name': 'H...</td>\n      <td>v-1609606558</td>\n      <td>False</td>\n      <td>1085 Polaris Pkwy</td>\n      <td>40.145056</td>\n      <td>-82.992258</td>\n      <td>[{'label': 'display', 'lat': 40.1450558, 'lng'...</td>\n      <td>9114</td>\n      <td>43240</td>\n      <td>US</td>\n      <td>Columbus</td>\n      <td>OH</td>\n      <td>United States</td>\n      <td>[1085 Polaris Pkwy, Columbus, OH 43240, United...</td>\n      <td>NaN</td>\n      <td>NaN</td>\n      <td>NaN</td>\n    </tr>\n    <tr>\n      <th>1</th>\n      <td>501d17b8e4b09fbdec1c12c9</td>\n      <td>H12B HEM/ONC At NCH</td>\n      <td>[{'id': '4bf58dd8d48988d196941735', 'name': 'H...</td>\n      <td>v-1609606558</td>\n      <td>False</td>\n      <td>NaN</td>\n      <td>40.110148</td>\n      <td>-83.036035</td>\n      <td>[{'label': 'display', 'lat': 40.11014760015202...</td>\n      <td>11751</td>\n      <td>43223</td>\n      <td>US</td>\n      <td>Columbus</td>\n      <td>OH</td>\n      <td>United States</td>\n      <td>[Columbus, OH 43223, United States]</td>\n      <td>NaN</td>\n      <td>NaN</td>\n      <td>NaN</td>\n    </tr>\n    <tr>\n      <th>2</th>\n      <td>4e4523811838e44e89955e65</td>\n      <td>Heartland Hospice Serving Central Ohio</td>\n      <td>[{'id': '4bf58dd8d48988d104941735', 'name': 'M...</td>\n      <td>v-1609606558</td>\n      <td>False</td>\n      <td>6500 Busch Blvd</td>\n      <td>40.098464</td>\n      <td>-82.992242</td>\n      <td>[{'label': 'display', 'lat': 40.09846372, 'lng...</td>\n      <td>8058</td>\n      <td>43229</td>\n      <td>US</td>\n      <td>Columbus</td>\n      <td>OH</td>\n      <td>United States</td>\n      <td>[6500 Busch Blvd (#210), Columbus, OH 43229, U...</td>\n      <td>#210</td>\n      <td>416270706</td>\n      <td>NaN</td>\n    </tr>\n    <tr>\n      <th>3</th>\n      <td>4dd2dfe6ae60da0ebed12eec</td>\n      <td>Mt Carmel New Albany Surgical Hospital</td>\n      <td>[{'id': '4bf58dd8d48988d196941735', 'name': 'H...</td>\n      <td>v-1609606558</td>\n      <td>False</td>\n      <td>7333 Smiths Mill Rd</td>\n      <td>40.086201</td>\n      <td>-82.789909</td>\n      <td>[{'label': 'display', 'lat': 40.08620050813063...</td>\n      <td>9475</td>\n      <td>43054</td>\n      <td>US</td>\n      <td>New Albany</td>\n      <td>OH</td>\n      <td>United States</td>\n      <td>[7333 Smiths Mill Rd, New Albany, OH 43054, Un...</td>\n      <td>NaN</td>\n      <td>NaN</td>\n      <td>NaN</td>\n    </tr>\n    <tr>\n      <th>4</th>\n      <td>4b391ed3f964a520985625e3</td>\n      <td>Mount Carmel St. Ann's Hospital</td>\n      <td>[{'id': '4bf58dd8d48988d196941735', 'name': 'H...</td>\n      <td>v-1609606558</td>\n      <td>False</td>\n      <td>500 S Cleveland Ave</td>\n      <td>40.114484</td>\n      <td>-82.947050</td>\n      <td>[{'label': 'display', 'lat': 40.11448386021365...</td>\n      <td>4270</td>\n      <td>43081</td>\n      <td>US</td>\n      <td>Westerville</td>\n      <td>OH</td>\n      <td>United States</td>\n      <td>[500 S Cleveland Ave, Westerville, OH 43081, U...</td>\n      <td>NaN</td>\n      <td>NaN</td>\n      <td>NaN</td>\n    </tr>\n    <tr>\n      <th>...</th>\n      <td>...</td>\n      <td>...</td>\n      <td>...</td>\n      <td>...</td>\n      <td>...</td>\n      <td>...</td>\n      <td>...</td>\n      <td>...</td>\n      <td>...</td>\n      <td>...</td>\n      <td>...</td>\n      <td>...</td>\n      <td>...</td>\n      <td>...</td>\n      <td>...</td>\n      <td>...</td>\n      <td>...</td>\n      <td>...</td>\n      <td>...</td>\n    </tr>\n    <tr>\n      <th>2873</th>\n      <td>5104adbbe4b0ed508b8a2b5e</td>\n      <td>Campari Office</td>\n      <td>[{'id': '4bf58dd8d48988d10f951735', 'name': 'P...</td>\n      <td>v-1609606587</td>\n      <td>False</td>\n      <td>NaN</td>\n      <td>40.178708</td>\n      <td>-83.085247</td>\n      <td>[{'label': 'display', 'lat': 40.178708, 'lng':...</td>\n      <td>9663</td>\n      <td>43065</td>\n      <td>US</td>\n      <td>Powell</td>\n      <td>OH</td>\n      <td>United States</td>\n      <td>[Powell, OH 43065, United States]</td>\n      <td>NaN</td>\n      <td>NaN</td>\n      <td>NaN</td>\n    </tr>\n    <tr>\n      <th>2874</th>\n      <td>5163a42de4b095f6f027b6cc</td>\n      <td>Estra's Vitamin Shoppe</td>\n      <td>[{'id': '4bf58dd8d48988d10f951735', 'name': 'P...</td>\n      <td>v-1609606587</td>\n      <td>False</td>\n      <td>NaN</td>\n      <td>40.113375</td>\n      <td>-83.068552</td>\n      <td>[{'label': 'display', 'lat': 40.11337511494923...</td>\n      <td>8367</td>\n      <td>NaN</td>\n      <td>US</td>\n      <td>Columbus</td>\n      <td>OH</td>\n      <td>United States</td>\n      <td>[Columbus, OH, United States]</td>\n      <td>NaN</td>\n      <td>NaN</td>\n      <td>NaN</td>\n    </tr>\n    <tr>\n      <th>2875</th>\n      <td>500e2b02e4b0f585cbfbf28e</td>\n      <td>Heartlight Pharmacy</td>\n      <td>[{'id': '4bf58dd8d48988d10f951735', 'name': 'P...</td>\n      <td>v-1609606587</td>\n      <td>False</td>\n      <td>NaN</td>\n      <td>40.109854</td>\n      <td>-82.998364</td>\n      <td>[{'label': 'display', 'lat': 40.10985424185838...</td>\n      <td>4319</td>\n      <td>43085</td>\n      <td>US</td>\n      <td>Columbus</td>\n      <td>OH</td>\n      <td>United States</td>\n      <td>[Columbus, OH 43085, United States]</td>\n      <td>NaN</td>\n      <td>NaN</td>\n      <td>NaN</td>\n    </tr>\n    <tr>\n      <th>2876</th>\n      <td>4d28cdb46e27a143bd0f1e24</td>\n      <td>Complete nutrition</td>\n      <td>[{'id': '4bf58dd8d48988d10f951735', 'name': 'P...</td>\n      <td>v-1609606587</td>\n      <td>False</td>\n      <td>7541 Sawmill Rd</td>\n      <td>40.120197</td>\n      <td>-83.091836</td>\n      <td>[{'label': 'display', 'lat': 40.12019666683196...</td>\n      <td>9942</td>\n      <td>43016</td>\n      <td>US</td>\n      <td>Columbus</td>\n      <td>OH</td>\n      <td>United States</td>\n      <td>[7541 Sawmill Rd, Columbus, OH 43016, United S...</td>\n      <td>NaN</td>\n      <td>NaN</td>\n      <td>NaN</td>\n    </tr>\n    <tr>\n      <th>2877</th>\n      <td>4b0acb4af964a520f02723e3</td>\n      <td>Discount Drug Mart</td>\n      <td>[{'id': '4bf58dd8d48988d10f951735', 'name': 'P...</td>\n      <td>v-1609606587</td>\n      <td>False</td>\n      <td>9965 Sawmill Pkwy</td>\n      <td>40.153864</td>\n      <td>-83.091781</td>\n      <td>[{'label': 'display', 'lat': 40.15386429962785...</td>\n      <td>9550</td>\n      <td>43065</td>\n      <td>US</td>\n      <td>Powell</td>\n      <td>OH</td>\n      <td>United States</td>\n      <td>[9965 Sawmill Pkwy, Powell, OH 43065, United S...</td>\n      <td>NaN</td>\n      <td>NaN</td>\n      <td>NaN</td>\n    </tr>\n  </tbody>\n</table>\n<p>2878 rows × 19 columns</p>\n</div>"
     },
     "metadata": {},
     "execution_count": 12
    }
   ],
   "source": [
    "i=0\n",
    "# Hospital and Pharmacy Data Frame\n",
    "hp_df = pd.DataFrame()\n",
    "while i<len(geo_coords): \n",
    "    lat = geo_coords.iloc[i]['Latitude:']\n",
    "    long = geo_coords.iloc[i]['Longitude:']\n",
    "    #hospitals\n",
    "    temp_url = url.format(CLIENT_ID, CLIENT_SECRET, lat, long, CAT_IDs['Hospital'], VERSION, radius, LIMIT)\n",
    "    results = requests.get(temp_url).json()\n",
    "    hps = results['response']['venues']\n",
    "    hp_df=hp_df.append(json_normalize(hps), ignore_index=True)\n",
    "    #pharmacies\n",
    "    temp_url = url.format(CLIENT_ID, CLIENT_SECRET, lat, long, CAT_IDs['Pharmacy'], VERSION, radius, LIMIT)\n",
    "    results = requests.get(temp_url).json()\n",
    "    hps = results['response']['venues']\n",
    "    hp_df=hp_df.append(json_normalize(hps), ignore_index=True)\n",
    "    i+=1\n",
    "hp_df"
   ]
  },
  {
   "cell_type": "markdown",
   "metadata": {},
   "source": [
    "Filters to get unique Pharmacy and Hospital Locations"
   ]
  },
  {
   "cell_type": "code",
   "execution_count": 13,
   "metadata": {},
   "outputs": [
    {
     "output_type": "execute_result",
     "data": {
      "text/plain": [
       "                            id                                    name  \\\n",
       "0     5f6ba0a26c680a653d7297da                     Walk In Urgent Care   \n",
       "1     501d17b8e4b09fbdec1c12c9                     H12B HEM/ONC At NCH   \n",
       "2     4e4523811838e44e89955e65  Heartland Hospice Serving Central Ohio   \n",
       "3     4dd2dfe6ae60da0ebed12eec  Mt Carmel New Albany Surgical Hospital   \n",
       "4     4b391ed3f964a520985625e3         Mount Carmel St. Ann's Hospital   \n",
       "...                        ...                                     ...   \n",
       "2846  589a0a369398ab160bd6a16e                      Linworths Pharmacy   \n",
       "2853  551c1117498e6d869618307e                        Walmart Pharmacy   \n",
       "2873  5104adbbe4b0ed508b8a2b5e                          Campari Office   \n",
       "2874  5163a42de4b095f6f027b6cc                  Estra's Vitamin Shoppe   \n",
       "2876  4d28cdb46e27a143bd0f1e24                      Complete nutrition   \n",
       "\n",
       "                                             categories    referralId  \\\n",
       "0     [{'id': '4bf58dd8d48988d196941735', 'name': 'H...  v-1609606558   \n",
       "1     [{'id': '4bf58dd8d48988d196941735', 'name': 'H...  v-1609606558   \n",
       "2     [{'id': '4bf58dd8d48988d104941735', 'name': 'M...  v-1609606558   \n",
       "3     [{'id': '4bf58dd8d48988d196941735', 'name': 'H...  v-1609606558   \n",
       "4     [{'id': '4bf58dd8d48988d196941735', 'name': 'H...  v-1609606558   \n",
       "...                                                 ...           ...   \n",
       "2846  [{'id': '4bf58dd8d48988d10f951735', 'name': 'P...  v-1609606587   \n",
       "2853  [{'id': '4bf58dd8d48988d10f951735', 'name': 'P...  v-1609606587   \n",
       "2873  [{'id': '4bf58dd8d48988d10f951735', 'name': 'P...  v-1609606587   \n",
       "2874  [{'id': '4bf58dd8d48988d10f951735', 'name': 'P...  v-1609606587   \n",
       "2876  [{'id': '4bf58dd8d48988d10f951735', 'name': 'P...  v-1609606587   \n",
       "\n",
       "      hasPerk                    location.address  location.lat  location.lng  \\\n",
       "0       False                   1085 Polaris Pkwy     40.145056    -82.992258   \n",
       "1       False                                 NaN     40.110148    -83.036035   \n",
       "2       False                     6500 Busch Blvd     40.098464    -82.992242   \n",
       "3       False                 7333 Smiths Mill Rd     40.086201    -82.789909   \n",
       "4       False                 500 S Cleveland Ave     40.114484    -82.947050   \n",
       "...       ...                                 ...           ...           ...   \n",
       "2846    False  2245 W Dublin Granville Rd Ste 103     40.089636    -83.050087   \n",
       "2853    False                  8659 Columbus Pike     40.165075    -83.019886   \n",
       "2873    False                                 NaN     40.178708    -83.085247   \n",
       "2874    False                                 NaN     40.113375    -83.068552   \n",
       "2876    False                     7541 Sawmill Rd     40.120197    -83.091836   \n",
       "\n",
       "                                location.labeledLatLngs  location.distance  \\\n",
       "0     [{'label': 'display', 'lat': 40.1450558, 'lng'...               9114   \n",
       "1     [{'label': 'display', 'lat': 40.11014760015202...              11751   \n",
       "2     [{'label': 'display', 'lat': 40.09846372, 'lng...               8058   \n",
       "3     [{'label': 'display', 'lat': 40.08620050813063...               9475   \n",
       "4     [{'label': 'display', 'lat': 40.11448386021365...               4270   \n",
       "...                                                 ...                ...   \n",
       "2846  [{'label': 'display', 'lat': 40.08963617971150...               8660   \n",
       "2853  [{'label': 'display', 'lat': 40.1650748275862,...               4000   \n",
       "2873  [{'label': 'display', 'lat': 40.178708, 'lng':...               9663   \n",
       "2874  [{'label': 'display', 'lat': 40.11337511494923...               8367   \n",
       "2876  [{'label': 'display', 'lat': 40.12019666683196...               9942   \n",
       "\n",
       "     location.postalCode location.cc location.city location.state  \\\n",
       "0                  43240          US      Columbus             OH   \n",
       "1                  43223          US      Columbus             OH   \n",
       "2                  43229          US      Columbus             OH   \n",
       "3                  43054          US    New Albany             OH   \n",
       "4                  43081          US   Westerville             OH   \n",
       "...                  ...         ...           ...            ...   \n",
       "2846               43085          US   Worthington             OH   \n",
       "2853               43035          US  Lewis Center             OH   \n",
       "2873               43065          US        Powell             OH   \n",
       "2874                 NaN          US      Columbus             OH   \n",
       "2876               43016          US      Columbus             OH   \n",
       "\n",
       "     location.country                          location.formattedAddress  \\\n",
       "0       United States  [1085 Polaris Pkwy, Columbus, OH 43240, United...   \n",
       "1       United States                [Columbus, OH 43223, United States]   \n",
       "2       United States  [6500 Busch Blvd (#210), Columbus, OH 43229, U...   \n",
       "3       United States  [7333 Smiths Mill Rd, New Albany, OH 43054, Un...   \n",
       "4       United States  [500 S Cleveland Ave, Westerville, OH 43081, U...   \n",
       "...               ...                                                ...   \n",
       "2846    United States  [2245 W Dublin Granville Rd Ste 103, Worthingt...   \n",
       "2853    United States  [8659 Columbus Pike, Lewis Center, OH 43035, U...   \n",
       "2873    United States                  [Powell, OH 43065, United States]   \n",
       "2874    United States                      [Columbus, OH, United States]   \n",
       "2876    United States  [7541 Sawmill Rd, Columbus, OH 43016, United S...   \n",
       "\n",
       "     location.crossStreet venuePage.id location.neighborhood  \n",
       "0                     NaN          NaN                   NaN  \n",
       "1                     NaN          NaN                   NaN  \n",
       "2                    #210    416270706                   NaN  \n",
       "3                     NaN          NaN                   NaN  \n",
       "4                     NaN          NaN                   NaN  \n",
       "...                   ...          ...                   ...  \n",
       "2846                  NaN          NaN                   NaN  \n",
       "2853                  NaN          NaN                   NaN  \n",
       "2873                  NaN          NaN                   NaN  \n",
       "2874                  NaN          NaN                   NaN  \n",
       "2876                  NaN          NaN                   NaN  \n",
       "\n",
       "[381 rows x 19 columns]"
      ],
      "text/html": "<div>\n<style scoped>\n    .dataframe tbody tr th:only-of-type {\n        vertical-align: middle;\n    }\n\n    .dataframe tbody tr th {\n        vertical-align: top;\n    }\n\n    .dataframe thead th {\n        text-align: right;\n    }\n</style>\n<table border=\"1\" class=\"dataframe\">\n  <thead>\n    <tr style=\"text-align: right;\">\n      <th></th>\n      <th>id</th>\n      <th>name</th>\n      <th>categories</th>\n      <th>referralId</th>\n      <th>hasPerk</th>\n      <th>location.address</th>\n      <th>location.lat</th>\n      <th>location.lng</th>\n      <th>location.labeledLatLngs</th>\n      <th>location.distance</th>\n      <th>location.postalCode</th>\n      <th>location.cc</th>\n      <th>location.city</th>\n      <th>location.state</th>\n      <th>location.country</th>\n      <th>location.formattedAddress</th>\n      <th>location.crossStreet</th>\n      <th>venuePage.id</th>\n      <th>location.neighborhood</th>\n    </tr>\n  </thead>\n  <tbody>\n    <tr>\n      <th>0</th>\n      <td>5f6ba0a26c680a653d7297da</td>\n      <td>Walk In Urgent Care</td>\n      <td>[{'id': '4bf58dd8d48988d196941735', 'name': 'H...</td>\n      <td>v-1609606558</td>\n      <td>False</td>\n      <td>1085 Polaris Pkwy</td>\n      <td>40.145056</td>\n      <td>-82.992258</td>\n      <td>[{'label': 'display', 'lat': 40.1450558, 'lng'...</td>\n      <td>9114</td>\n      <td>43240</td>\n      <td>US</td>\n      <td>Columbus</td>\n      <td>OH</td>\n      <td>United States</td>\n      <td>[1085 Polaris Pkwy, Columbus, OH 43240, United...</td>\n      <td>NaN</td>\n      <td>NaN</td>\n      <td>NaN</td>\n    </tr>\n    <tr>\n      <th>1</th>\n      <td>501d17b8e4b09fbdec1c12c9</td>\n      <td>H12B HEM/ONC At NCH</td>\n      <td>[{'id': '4bf58dd8d48988d196941735', 'name': 'H...</td>\n      <td>v-1609606558</td>\n      <td>False</td>\n      <td>NaN</td>\n      <td>40.110148</td>\n      <td>-83.036035</td>\n      <td>[{'label': 'display', 'lat': 40.11014760015202...</td>\n      <td>11751</td>\n      <td>43223</td>\n      <td>US</td>\n      <td>Columbus</td>\n      <td>OH</td>\n      <td>United States</td>\n      <td>[Columbus, OH 43223, United States]</td>\n      <td>NaN</td>\n      <td>NaN</td>\n      <td>NaN</td>\n    </tr>\n    <tr>\n      <th>2</th>\n      <td>4e4523811838e44e89955e65</td>\n      <td>Heartland Hospice Serving Central Ohio</td>\n      <td>[{'id': '4bf58dd8d48988d104941735', 'name': 'M...</td>\n      <td>v-1609606558</td>\n      <td>False</td>\n      <td>6500 Busch Blvd</td>\n      <td>40.098464</td>\n      <td>-82.992242</td>\n      <td>[{'label': 'display', 'lat': 40.09846372, 'lng...</td>\n      <td>8058</td>\n      <td>43229</td>\n      <td>US</td>\n      <td>Columbus</td>\n      <td>OH</td>\n      <td>United States</td>\n      <td>[6500 Busch Blvd (#210), Columbus, OH 43229, U...</td>\n      <td>#210</td>\n      <td>416270706</td>\n      <td>NaN</td>\n    </tr>\n    <tr>\n      <th>3</th>\n      <td>4dd2dfe6ae60da0ebed12eec</td>\n      <td>Mt Carmel New Albany Surgical Hospital</td>\n      <td>[{'id': '4bf58dd8d48988d196941735', 'name': 'H...</td>\n      <td>v-1609606558</td>\n      <td>False</td>\n      <td>7333 Smiths Mill Rd</td>\n      <td>40.086201</td>\n      <td>-82.789909</td>\n      <td>[{'label': 'display', 'lat': 40.08620050813063...</td>\n      <td>9475</td>\n      <td>43054</td>\n      <td>US</td>\n      <td>New Albany</td>\n      <td>OH</td>\n      <td>United States</td>\n      <td>[7333 Smiths Mill Rd, New Albany, OH 43054, Un...</td>\n      <td>NaN</td>\n      <td>NaN</td>\n      <td>NaN</td>\n    </tr>\n    <tr>\n      <th>4</th>\n      <td>4b391ed3f964a520985625e3</td>\n      <td>Mount Carmel St. Ann's Hospital</td>\n      <td>[{'id': '4bf58dd8d48988d196941735', 'name': 'H...</td>\n      <td>v-1609606558</td>\n      <td>False</td>\n      <td>500 S Cleveland Ave</td>\n      <td>40.114484</td>\n      <td>-82.947050</td>\n      <td>[{'label': 'display', 'lat': 40.11448386021365...</td>\n      <td>4270</td>\n      <td>43081</td>\n      <td>US</td>\n      <td>Westerville</td>\n      <td>OH</td>\n      <td>United States</td>\n      <td>[500 S Cleveland Ave, Westerville, OH 43081, U...</td>\n      <td>NaN</td>\n      <td>NaN</td>\n      <td>NaN</td>\n    </tr>\n    <tr>\n      <th>...</th>\n      <td>...</td>\n      <td>...</td>\n      <td>...</td>\n      <td>...</td>\n      <td>...</td>\n      <td>...</td>\n      <td>...</td>\n      <td>...</td>\n      <td>...</td>\n      <td>...</td>\n      <td>...</td>\n      <td>...</td>\n      <td>...</td>\n      <td>...</td>\n      <td>...</td>\n      <td>...</td>\n      <td>...</td>\n      <td>...</td>\n      <td>...</td>\n    </tr>\n    <tr>\n      <th>2846</th>\n      <td>589a0a369398ab160bd6a16e</td>\n      <td>Linworths Pharmacy</td>\n      <td>[{'id': '4bf58dd8d48988d10f951735', 'name': 'P...</td>\n      <td>v-1609606587</td>\n      <td>False</td>\n      <td>2245 W Dublin Granville Rd Ste 103</td>\n      <td>40.089636</td>\n      <td>-83.050087</td>\n      <td>[{'label': 'display', 'lat': 40.08963617971150...</td>\n      <td>8660</td>\n      <td>43085</td>\n      <td>US</td>\n      <td>Worthington</td>\n      <td>OH</td>\n      <td>United States</td>\n      <td>[2245 W Dublin Granville Rd Ste 103, Worthingt...</td>\n      <td>NaN</td>\n      <td>NaN</td>\n      <td>NaN</td>\n    </tr>\n    <tr>\n      <th>2853</th>\n      <td>551c1117498e6d869618307e</td>\n      <td>Walmart Pharmacy</td>\n      <td>[{'id': '4bf58dd8d48988d10f951735', 'name': 'P...</td>\n      <td>v-1609606587</td>\n      <td>False</td>\n      <td>8659 Columbus Pike</td>\n      <td>40.165075</td>\n      <td>-83.019886</td>\n      <td>[{'label': 'display', 'lat': 40.1650748275862,...</td>\n      <td>4000</td>\n      <td>43035</td>\n      <td>US</td>\n      <td>Lewis Center</td>\n      <td>OH</td>\n      <td>United States</td>\n      <td>[8659 Columbus Pike, Lewis Center, OH 43035, U...</td>\n      <td>NaN</td>\n      <td>NaN</td>\n      <td>NaN</td>\n    </tr>\n    <tr>\n      <th>2873</th>\n      <td>5104adbbe4b0ed508b8a2b5e</td>\n      <td>Campari Office</td>\n      <td>[{'id': '4bf58dd8d48988d10f951735', 'name': 'P...</td>\n      <td>v-1609606587</td>\n      <td>False</td>\n      <td>NaN</td>\n      <td>40.178708</td>\n      <td>-83.085247</td>\n      <td>[{'label': 'display', 'lat': 40.178708, 'lng':...</td>\n      <td>9663</td>\n      <td>43065</td>\n      <td>US</td>\n      <td>Powell</td>\n      <td>OH</td>\n      <td>United States</td>\n      <td>[Powell, OH 43065, United States]</td>\n      <td>NaN</td>\n      <td>NaN</td>\n      <td>NaN</td>\n    </tr>\n    <tr>\n      <th>2874</th>\n      <td>5163a42de4b095f6f027b6cc</td>\n      <td>Estra's Vitamin Shoppe</td>\n      <td>[{'id': '4bf58dd8d48988d10f951735', 'name': 'P...</td>\n      <td>v-1609606587</td>\n      <td>False</td>\n      <td>NaN</td>\n      <td>40.113375</td>\n      <td>-83.068552</td>\n      <td>[{'label': 'display', 'lat': 40.11337511494923...</td>\n      <td>8367</td>\n      <td>NaN</td>\n      <td>US</td>\n      <td>Columbus</td>\n      <td>OH</td>\n      <td>United States</td>\n      <td>[Columbus, OH, United States]</td>\n      <td>NaN</td>\n      <td>NaN</td>\n      <td>NaN</td>\n    </tr>\n    <tr>\n      <th>2876</th>\n      <td>4d28cdb46e27a143bd0f1e24</td>\n      <td>Complete nutrition</td>\n      <td>[{'id': '4bf58dd8d48988d10f951735', 'name': 'P...</td>\n      <td>v-1609606587</td>\n      <td>False</td>\n      <td>7541 Sawmill Rd</td>\n      <td>40.120197</td>\n      <td>-83.091836</td>\n      <td>[{'label': 'display', 'lat': 40.12019666683196...</td>\n      <td>9942</td>\n      <td>43016</td>\n      <td>US</td>\n      <td>Columbus</td>\n      <td>OH</td>\n      <td>United States</td>\n      <td>[7541 Sawmill Rd, Columbus, OH 43016, United S...</td>\n      <td>NaN</td>\n      <td>NaN</td>\n      <td>NaN</td>\n    </tr>\n  </tbody>\n</table>\n<p>381 rows × 19 columns</p>\n</div>"
     },
     "metadata": {},
     "execution_count": 13
    }
   ],
   "source": [
    "hp_df=hp_df.drop_duplicates(['id'])\n",
    "hp_df"
   ]
  },
  {
   "cell_type": "markdown",
   "metadata": {},
   "source": [
    "## COVID-19 Testing Locations"
   ]
  },
  {
   "cell_type": "markdown",
   "metadata": {},
   "source": [
    "Install package"
   ]
  },
  {
   "cell_type": "code",
   "execution_count": 14,
   "metadata": {},
   "outputs": [],
   "source": [
    "import PyPDF2\n",
    "# source of pdf scraping https://www.youtube.com/watch?v=UmPe07a3bWs"
   ]
  },
  {
   "cell_type": "markdown",
   "metadata": {},
   "source": [
    "Scrapes pdf itself"
   ]
  },
  {
   "cell_type": "code",
   "execution_count": 15,
   "metadata": {},
   "outputs": [
    {
     "output_type": "stream",
     "name": "stdout",
     "text": [
      "['COVID-19 Community Testing', 'No one will be turned away for inability to pay. Questions? Call Columbus Public Health at 614-645-1519.', '˜˚˛˝˙ˆˇ˘ˆ', '˜', '˜', 'Information compiled by ', 'Columbus Public Health; ', 'updated 10/6/2020', 'Columbus Public Health', ' (testing provided ', 'by Mount Carmel, OhioHealth and The Ohio ', 'State University Wexner Medical Center)', '614-645-1519', 'www.columbus.gov/coronavirus', '1. Ohio Expo Center & State Fair Celeste Center ', '717 E. 17th Ave., Columbus', 'Mon.-Fri. Œ 9 a.m.-4 p.m.', 'Heart of Ohio Family Health ', '614-235-5555', 'https://heartofohiofamilyhealth.org', '2. Capital Park Family Health Center ', '2365 Innis Rd., Columbus', 'Mon., Tue., Wed., Fri. Œ 8 a.m.-5 p.m.', 'Thu., Œ 8 a.m.-7:30 p.m.', '3. Whitehall Family Health Center ', '882 S. Hamilton Rd., Whitehall', 'Mon., Wed., Thu., Fri. Œ 8 a.m.-5 p.m.', 'Tue. Œ 8 a.m.-7:30 p.m.', 'Lower Lights Christian Health Center ', '614-274-1455', 'https://llchc.org/covid19', '4. Lower Lights at Mount Carmel West ', '777 W. State St., Columbus', 'Fri. Œ 9 a.m.-5 p.m.', 'PrimaryOne Health614-859-1895 ', 'www.primaryonehealth.org/covid19testing ', '5. PrimaryOne Health at the Health and ', 'Wellness Center  ', '2300 W. Broad St., Columbus', 'Mon., Wed., Fri. Œ 9 a.m.-1 p.m. ', '6. PrimaryOne Health at the John R. Maloney ', 'Health and Wellness Center ', '1905 Parsons Ave., Columbus', 'Mon., Wed., Fri. Œ 9 a.m.-1 p.m. ', '7. PrimaryOne Health ', '3433 Agler Rd., Columbus', 'Mon., Wed., Fri. Œ 9 a.m.-1 p.m.  ', '8. PrimaryOne Health at St. Stephens ', 'Community House', '1500 E. 17th Ave., Columbus', 'Mon., Wed., Fri. Œ 9 a.m.-1 p.m.  ', 'Equitas Health', '614-340-6700 ', 'https://equitashealth.com', '9. Equitas Health King-Lincoln Medical Center ', '750 E. Long St., Columbus', 'Telehealth Screening: Mon.-Fri. Œ 9 a.m.-1 p.m.', 'Testing: Mon.-Fri. Œ 11 a.m.-3 p.m.', 'Southeast Healthcare', ' 614-360-0160', '10. 86 N. Front St., Columbus', 'Mon., Wed., Fri. Œ 1-4 p.m', '---------------------------------------------------------------------------If you already have a primary care provider, contact them ', 'about getting tested for COVID-19. ', 'Preregistration and appointment is required for testing. Call testing organization to schedule. ', '']\n"
     ]
    }
   ],
   "source": [
    "import io\n",
    "\n",
    "import requests\n",
    "from PyPDF2 import PdfFileReader\n",
    "\n",
    "url = 'https://www.columbus.gov/uploadedFiles/Columbus/Departments/Public_Health/All_Programs/Emergency_Preparedness/Coronavirus/LocalTesting_FQHCs_7.16.2020.pdf'\n",
    "\n",
    "r = requests.get(url)\n",
    "f = io.BytesIO(r.content)\n",
    "\n",
    "reader = PdfFileReader(f)\n",
    "contents = reader.getPage(0).extractText().split('\\n')\n",
    "print(contents)"
   ]
  },
  {
   "cell_type": "markdown",
   "metadata": {},
   "source": [
    "Filters to grab address"
   ]
  },
  {
   "cell_type": "code",
   "execution_count": 16,
   "metadata": {},
   "outputs": [
    {
     "output_type": "stream",
     "name": "stdout",
     "text": [
      "['717 E. 17th Ave., Columbus', '2365 Innis Rd., Columbus', '882 S. Hamilton Rd., Whitehall', '777 W. State St., Columbus', '2300 W. Broad St., Columbus', '1905 Parsons Ave., Columbus', '3433 Agler Rd., Columbus', '1500 E. 17th Ave., Columbus', '750 E. Long St., Columbus', ' 86 N. Front St., Columbus']\n"
     ]
    }
   ],
   "source": [
    "import re\n",
    "\n",
    "address_extract ='\\d+[ ](?:[A-Za-z0-9.-]+[ ]?)+(?:Avenue|Lane|Road|Boulevard|Drive|Street|Ave|Dr|Rd|Blvd|Ln|St)\\.?'\n",
    "p = re.compile(address_extract)\n",
    "testingLocations = [ content for content in contents if p.match(content)]\n",
    "p2 = re.compile('\\d+\\.')\n",
    "covid_test_providers = [ content for content in contents if p2.match(content)]\n",
    "testingLocations = testingLocations+[re.sub(\"\\d+\\.\",\"\",test) for test in covid_test_providers if re.search(address_extract,test)]\n",
    "print(testingLocations)"
   ]
  },
  {
   "source": [
    "# Get Cases by ZIP"
   ],
   "cell_type": "markdown",
   "metadata": {}
  },
  {
   "cell_type": "markdown",
   "metadata": {},
   "source": [
    "## COVID-19 Numbers"
   ]
  },
  {
   "cell_type": "code",
   "execution_count": 17,
   "metadata": {},
   "outputs": [
    {
     "output_type": "execute_result",
     "data": {
      "text/plain": [
       "  Zip Code  Population  Case Count - Cumulative Case Count - Last 30 Days   \\\n",
       "0     43001       2,810                     150                         44   \n",
       "1     43002       3,744                     NaN                        NaN   \n",
       "2     43003       3,005                     130                         56   \n",
       "3     43004      26,139                   2,227                        583   \n",
       "4     43005         201                       9                        NaN   \n",
       "\n",
       "   Case Count - Last 14 Days  Case Count Per 100K - Cumulative  \\\n",
       "0                        15.0                         5,338.10   \n",
       "1                         NaN                              NaN   \n",
       "2                        18.0                         4,326.10   \n",
       "3                       224.0                         8,519.80   \n",
       "4                         NaN                         4,477.60   \n",
       "\n",
       "  Case Count Per 100K - Last 30 Days Case Count Per 100K - Last 14 Days  \n",
       "0                           1,565.80                              533.8  \n",
       "1                                NaN                                NaN  \n",
       "2                           1,863.60                                599  \n",
       "3                           2,230.40                                857  \n",
       "4                                NaN                                NaN  "
      ],
      "text/html": "<div>\n<style scoped>\n    .dataframe tbody tr th:only-of-type {\n        vertical-align: middle;\n    }\n\n    .dataframe tbody tr th {\n        vertical-align: top;\n    }\n\n    .dataframe thead th {\n        text-align: right;\n    }\n</style>\n<table border=\"1\" class=\"dataframe\">\n  <thead>\n    <tr style=\"text-align: right;\">\n      <th></th>\n      <th>Zip Code</th>\n      <th>Population</th>\n      <th>Case Count - Cumulative</th>\n      <th>Case Count - Last 30 Days</th>\n      <th>Case Count - Last 14 Days</th>\n      <th>Case Count Per 100K - Cumulative</th>\n      <th>Case Count Per 100K - Last 30 Days</th>\n      <th>Case Count Per 100K - Last 14 Days</th>\n    </tr>\n  </thead>\n  <tbody>\n    <tr>\n      <th>0</th>\n      <td>43001</td>\n      <td>2,810</td>\n      <td>150</td>\n      <td>44</td>\n      <td>15.0</td>\n      <td>5,338.10</td>\n      <td>1,565.80</td>\n      <td>533.8</td>\n    </tr>\n    <tr>\n      <th>1</th>\n      <td>43002</td>\n      <td>3,744</td>\n      <td>NaN</td>\n      <td>NaN</td>\n      <td>NaN</td>\n      <td>NaN</td>\n      <td>NaN</td>\n      <td>NaN</td>\n    </tr>\n    <tr>\n      <th>2</th>\n      <td>43003</td>\n      <td>3,005</td>\n      <td>130</td>\n      <td>56</td>\n      <td>18.0</td>\n      <td>4,326.10</td>\n      <td>1,863.60</td>\n      <td>599</td>\n    </tr>\n    <tr>\n      <th>3</th>\n      <td>43004</td>\n      <td>26,139</td>\n      <td>2,227</td>\n      <td>583</td>\n      <td>224.0</td>\n      <td>8,519.80</td>\n      <td>2,230.40</td>\n      <td>857</td>\n    </tr>\n    <tr>\n      <th>4</th>\n      <td>43005</td>\n      <td>201</td>\n      <td>9</td>\n      <td>NaN</td>\n      <td>NaN</td>\n      <td>4,477.60</td>\n      <td>NaN</td>\n      <td>NaN</td>\n    </tr>\n  </tbody>\n</table>\n</div>"
     },
     "metadata": {},
     "execution_count": 17
    }
   ],
   "source": [
    "zip_cases_df =  pd.read_csv(\"https://coronavirus.ohio.gov/static/dashboards/COVIDSummaryDataZIP.csv\")\n",
    "zip_cases_df.head()"
   ]
  },
  {
   "source": [
    "***\n",
    "#  Part 2: Modifying of data\n",
    "The Dataframes are:\n",
    "- zip_cases_df: Cases in Zip codes \n",
    "- testingLocations: Locations of current testing sites\n",
    "- hp_df: Hospital and Pharmacy Location\n",
    "- zip_info_df: Demographic Information by Zip code\n",
    "\n",
    "***"
   ],
   "cell_type": "markdown",
   "metadata": {}
  },
  {
   "source": [
    "## Modify zip_info_df:"
   ],
   "cell_type": "markdown",
   "metadata": {}
  },
  {
   "source": [
    "zip_info_df.columns"
   ],
   "cell_type": "code",
   "metadata": {},
   "execution_count": 18,
   "outputs": [
    {
     "output_type": "execute_result",
     "data": {
      "text/plain": [
       "Index(['# Business Mailboxes:', '# Residential Mailboxes:', '# of Employees:',\n",
       "       '113th Congressional District:', '113th Congressional Land Area:',\n",
       "       '1st Quarter Payroll:', '2010 Population:', '65+:',\n",
       "       'American Indian Population:', 'Annual Payroll:', 'Area Code:',\n",
       "       'Asian Population:', 'Average House Value:',\n",
       "       'Avg. Income Per Household:', 'Black Population:',\n",
       "       'CBSA Division Name:', 'CBSA Division Population:', 'CBSA Division:',\n",
       "       'CBSA Name:', 'CBSA Population:', 'CBSA Type:', 'CBSA:', 'Children:',\n",
       "       'City Alias(es):', 'City State Key:', 'City Type:', 'City:',\n",
       "       'Classification:', 'Counties:', 'County FIPS:', 'Current Population:',\n",
       "       'Disabled Workers:', 'Division:', 'Elevation:', 'Female Median Age:',\n",
       "       'Female Population:', 'Hawaiian Population:', 'Hispanic Population:',\n",
       "       'Households per ZIP Code:', 'Intro Date:', 'Land Area:', 'Latitude:',\n",
       "       'Longitude:', 'MSA Name:', 'MSA:', 'Male Median Age:',\n",
       "       'Male Population:', 'Median Age:', 'Monthly Benefits - All:',\n",
       "       'Monthly Benefits - Retired Workers:', 'Monthly Benefits - Widow(ers):',\n",
       "       'Multi County:', 'Multi Family Delivery Units:',\n",
       "       'Number of Businesses:', 'Observes Day Light Savings:',\n",
       "       'Other Population:', 'PMSA Name:', 'PMSA:', 'Persons Per Household:',\n",
       "       'Preferred Last Line Key:', 'Region:', 'Retired Workers:',\n",
       "       'Single Family Delivery Units:', 'Spouses:', 'State FIPS:', 'State:',\n",
       "       'Time Zone:', 'Total Beneficiaries:', 'Total Delivery Receptacles:',\n",
       "       'Water Area:', 'White Population:', 'Widow(er)s and Parents:',\n",
       "       'Zip Code:', ' ', 'City Alias(es) To Avoid Using:'],\n",
       "      dtype='object')"
      ]
     },
     "metadata": {},
     "execution_count": 18
    }
   ]
  },
  {
   "source": [
    "## Drop Columns"
   ],
   "cell_type": "markdown",
   "metadata": {}
  },
  {
   "source": [
    "Note: Top 17 guessed chosen for simplicity sake of project\n",
    "In addition to Zip Code, Latitude,Longitude, and Current Population"
   ],
   "cell_type": "markdown",
   "metadata": {}
  },
  {
   "cell_type": "code",
   "execution_count": 19,
   "metadata": {},
   "outputs": [],
   "source": [
    "zip_info_df=zip_info_df[['Zip Code:','Latitude:','Longitude:','Elevation:','Current Population:','Households per ZIP Code:','Average House Value:','Avg. Income Per Household:','Persons Per Household:','White Population:','Median Age:','Male Population:','Female Population:','Black Population:','Hispanic Population:','Retired Workers:','Disabled Workers:','Spouses:','Children:', 'Number of Businesses:','# of Employees:']]"
   ]
  },
  {
   "source": [
    "### Reasons for certain factors:\n",
    "- Sex & Race: The number of cases of COVID-19 may be correlated with gender as some studies have already shown.\n",
    "- Latitude: Never actually shown or prooven but it could be a factor to look into\n",
    "- Spouses and Children: These people may approach the virus more differently than those who aren't in the category\n",
    "- Number of Businesses: This may affect people's response to the virus based off of News occuring as far as the pandemic\n",
    "- Type of workers: These workers may come predisposed to the virus or coming into contact with it\n"
   ],
   "cell_type": "markdown",
   "metadata": {}
  },
  {
   "source": [
    "Look at head of data frame"
   ],
   "cell_type": "markdown",
   "metadata": {}
  },
  {
   "cell_type": "code",
   "execution_count": 20,
   "metadata": {},
   "outputs": [
    {
     "output_type": "execute_result",
     "data": {
      "text/plain": [
       "  Zip Code:  Latitude:  Longitude: Elevation: Current Population:  \\\n",
       "0     43081  40.106049  -82.898116     873 ft              66,855   \n",
       "1     43085  40.100474  -83.013908     905 ft              25,037   \n",
       "2     43201  39.995575  -82.999464     784 ft              39,851   \n",
       "3     43202  40.020272  -83.017128     724 ft              21,426   \n",
       "4     43203  39.971834  -82.966754     821 ft               9,825   \n",
       "\n",
       "  Households per ZIP Code: Average House Value: Avg. Income Per Household:  \\\n",
       "0                   22,754             $197,800                    $81,813   \n",
       "1                    9,768             $247,500                    $83,524   \n",
       "2                   14,697             $240,700                    $31,891   \n",
       "3                    9,952             $208,300                    $53,331   \n",
       "4                    3,533              $89,400                    $28,072   \n",
       "\n",
       "  Persons Per Household: White Population:  ... Male Population:  \\\n",
       "0                   2.39            47,805  ...           26,675   \n",
       "1                   2.36            20,891  ...           11,025   \n",
       "2                   2.24            27,369  ...           20,162   \n",
       "3                   2.03            17,151  ...           10,854   \n",
       "4                   2.25             1,160  ...            3,894   \n",
       "\n",
       "  Female Population: Black Population: Hispanic Population: Retired Workers:  \\\n",
       "0             29,316             6,078                1,677            7,195   \n",
       "1             12,233             1,377                  822            3,030   \n",
       "2             15,333             5,495                1,493              630   \n",
       "3              9,397             1,027                  658              840   \n",
       "4              4,214             6,941                  173              650   \n",
       "\n",
       "  Disabled Workers: Spouses: Children: Number of Businesses: # of Employees:  \n",
       "0               800      365       485                  1318          28,811  \n",
       "1               435      180       300                   977          18,013  \n",
       "2               380       30       115                   630           9,974  \n",
       "3               160       40        50                   275           5,133  \n",
       "4               255       25       140                   110           1,198  \n",
       "\n",
       "[5 rows x 21 columns]"
      ],
      "text/html": "<div>\n<style scoped>\n    .dataframe tbody tr th:only-of-type {\n        vertical-align: middle;\n    }\n\n    .dataframe tbody tr th {\n        vertical-align: top;\n    }\n\n    .dataframe thead th {\n        text-align: right;\n    }\n</style>\n<table border=\"1\" class=\"dataframe\">\n  <thead>\n    <tr style=\"text-align: right;\">\n      <th></th>\n      <th>Zip Code:</th>\n      <th>Latitude:</th>\n      <th>Longitude:</th>\n      <th>Elevation:</th>\n      <th>Current Population:</th>\n      <th>Households per ZIP Code:</th>\n      <th>Average House Value:</th>\n      <th>Avg. Income Per Household:</th>\n      <th>Persons Per Household:</th>\n      <th>White Population:</th>\n      <th>...</th>\n      <th>Male Population:</th>\n      <th>Female Population:</th>\n      <th>Black Population:</th>\n      <th>Hispanic Population:</th>\n      <th>Retired Workers:</th>\n      <th>Disabled Workers:</th>\n      <th>Spouses:</th>\n      <th>Children:</th>\n      <th>Number of Businesses:</th>\n      <th># of Employees:</th>\n    </tr>\n  </thead>\n  <tbody>\n    <tr>\n      <th>0</th>\n      <td>43081</td>\n      <td>40.106049</td>\n      <td>-82.898116</td>\n      <td>873 ft</td>\n      <td>66,855</td>\n      <td>22,754</td>\n      <td>$197,800</td>\n      <td>$81,813</td>\n      <td>2.39</td>\n      <td>47,805</td>\n      <td>...</td>\n      <td>26,675</td>\n      <td>29,316</td>\n      <td>6,078</td>\n      <td>1,677</td>\n      <td>7,195</td>\n      <td>800</td>\n      <td>365</td>\n      <td>485</td>\n      <td>1318</td>\n      <td>28,811</td>\n    </tr>\n    <tr>\n      <th>1</th>\n      <td>43085</td>\n      <td>40.100474</td>\n      <td>-83.013908</td>\n      <td>905 ft</td>\n      <td>25,037</td>\n      <td>9,768</td>\n      <td>$247,500</td>\n      <td>$83,524</td>\n      <td>2.36</td>\n      <td>20,891</td>\n      <td>...</td>\n      <td>11,025</td>\n      <td>12,233</td>\n      <td>1,377</td>\n      <td>822</td>\n      <td>3,030</td>\n      <td>435</td>\n      <td>180</td>\n      <td>300</td>\n      <td>977</td>\n      <td>18,013</td>\n    </tr>\n    <tr>\n      <th>2</th>\n      <td>43201</td>\n      <td>39.995575</td>\n      <td>-82.999464</td>\n      <td>784 ft</td>\n      <td>39,851</td>\n      <td>14,697</td>\n      <td>$240,700</td>\n      <td>$31,891</td>\n      <td>2.24</td>\n      <td>27,369</td>\n      <td>...</td>\n      <td>20,162</td>\n      <td>15,333</td>\n      <td>5,495</td>\n      <td>1,493</td>\n      <td>630</td>\n      <td>380</td>\n      <td>30</td>\n      <td>115</td>\n      <td>630</td>\n      <td>9,974</td>\n    </tr>\n    <tr>\n      <th>3</th>\n      <td>43202</td>\n      <td>40.020272</td>\n      <td>-83.017128</td>\n      <td>724 ft</td>\n      <td>21,426</td>\n      <td>9,952</td>\n      <td>$208,300</td>\n      <td>$53,331</td>\n      <td>2.03</td>\n      <td>17,151</td>\n      <td>...</td>\n      <td>10,854</td>\n      <td>9,397</td>\n      <td>1,027</td>\n      <td>658</td>\n      <td>840</td>\n      <td>160</td>\n      <td>40</td>\n      <td>50</td>\n      <td>275</td>\n      <td>5,133</td>\n    </tr>\n    <tr>\n      <th>4</th>\n      <td>43203</td>\n      <td>39.971834</td>\n      <td>-82.966754</td>\n      <td>821 ft</td>\n      <td>9,825</td>\n      <td>3,533</td>\n      <td>$89,400</td>\n      <td>$28,072</td>\n      <td>2.25</td>\n      <td>1,160</td>\n      <td>...</td>\n      <td>3,894</td>\n      <td>4,214</td>\n      <td>6,941</td>\n      <td>173</td>\n      <td>650</td>\n      <td>255</td>\n      <td>25</td>\n      <td>140</td>\n      <td>110</td>\n      <td>1,198</td>\n    </tr>\n  </tbody>\n</table>\n<p>5 rows × 21 columns</p>\n</div>"
     },
     "metadata": {},
     "execution_count": 20
    }
   ],
   "source": [
    "zip_info_df.head()"
   ]
  },
  {
   "source": [
    "Filter out irrelevant symbols or words with regex"
   ],
   "cell_type": "markdown",
   "metadata": {}
  },
  {
   "cell_type": "code",
   "execution_count": 21,
   "metadata": {},
   "outputs": [
    {
     "output_type": "execute_result",
     "data": {
      "text/plain": [
       "  Zip Code:  Latitude:  Longitude: Elevation: Current Population:  \\\n",
       "0     43081  40.106049  -82.898116       873                66855   \n",
       "1     43085  40.100474  -83.013908       905                25037   \n",
       "2     43201  39.995575  -82.999464       784                39851   \n",
       "3     43202  40.020272  -83.017128       724                21426   \n",
       "4     43203  39.971834  -82.966754       821                 9825   \n",
       "\n",
       "  Households per ZIP Code: Average House Value: Avg. Income Per Household:  \\\n",
       "0                    22754               197800                      81813   \n",
       "1                     9768               247500                      83524   \n",
       "2                    14697               240700                      31891   \n",
       "3                     9952               208300                      53331   \n",
       "4                     3533                89400                      28072   \n",
       "\n",
       "  Persons Per Household: White Population:  ... Male Population:  \\\n",
       "0                   2.39             47805  ...            26675   \n",
       "1                   2.36             20891  ...            11025   \n",
       "2                   2.24             27369  ...            20162   \n",
       "3                   2.03             17151  ...            10854   \n",
       "4                   2.25              1160  ...             3894   \n",
       "\n",
       "  Female Population: Black Population: Hispanic Population: Retired Workers:  \\\n",
       "0              29316              6078                 1677             7195   \n",
       "1              12233              1377                  822             3030   \n",
       "2              15333              5495                 1493              630   \n",
       "3               9397              1027                  658              840   \n",
       "4               4214              6941                  173              650   \n",
       "\n",
       "  Disabled Workers: Spouses: Children: Number of Businesses: # of Employees:  \n",
       "0               800      365       485                  1318           28811  \n",
       "1               435      180       300                   977           18013  \n",
       "2               380       30       115                   630            9974  \n",
       "3               160       40        50                   275            5133  \n",
       "4               255       25       140                   110            1198  \n",
       "\n",
       "[5 rows x 21 columns]"
      ],
      "text/html": "<div>\n<style scoped>\n    .dataframe tbody tr th:only-of-type {\n        vertical-align: middle;\n    }\n\n    .dataframe tbody tr th {\n        vertical-align: top;\n    }\n\n    .dataframe thead th {\n        text-align: right;\n    }\n</style>\n<table border=\"1\" class=\"dataframe\">\n  <thead>\n    <tr style=\"text-align: right;\">\n      <th></th>\n      <th>Zip Code:</th>\n      <th>Latitude:</th>\n      <th>Longitude:</th>\n      <th>Elevation:</th>\n      <th>Current Population:</th>\n      <th>Households per ZIP Code:</th>\n      <th>Average House Value:</th>\n      <th>Avg. Income Per Household:</th>\n      <th>Persons Per Household:</th>\n      <th>White Population:</th>\n      <th>...</th>\n      <th>Male Population:</th>\n      <th>Female Population:</th>\n      <th>Black Population:</th>\n      <th>Hispanic Population:</th>\n      <th>Retired Workers:</th>\n      <th>Disabled Workers:</th>\n      <th>Spouses:</th>\n      <th>Children:</th>\n      <th>Number of Businesses:</th>\n      <th># of Employees:</th>\n    </tr>\n  </thead>\n  <tbody>\n    <tr>\n      <th>0</th>\n      <td>43081</td>\n      <td>40.106049</td>\n      <td>-82.898116</td>\n      <td>873</td>\n      <td>66855</td>\n      <td>22754</td>\n      <td>197800</td>\n      <td>81813</td>\n      <td>2.39</td>\n      <td>47805</td>\n      <td>...</td>\n      <td>26675</td>\n      <td>29316</td>\n      <td>6078</td>\n      <td>1677</td>\n      <td>7195</td>\n      <td>800</td>\n      <td>365</td>\n      <td>485</td>\n      <td>1318</td>\n      <td>28811</td>\n    </tr>\n    <tr>\n      <th>1</th>\n      <td>43085</td>\n      <td>40.100474</td>\n      <td>-83.013908</td>\n      <td>905</td>\n      <td>25037</td>\n      <td>9768</td>\n      <td>247500</td>\n      <td>83524</td>\n      <td>2.36</td>\n      <td>20891</td>\n      <td>...</td>\n      <td>11025</td>\n      <td>12233</td>\n      <td>1377</td>\n      <td>822</td>\n      <td>3030</td>\n      <td>435</td>\n      <td>180</td>\n      <td>300</td>\n      <td>977</td>\n      <td>18013</td>\n    </tr>\n    <tr>\n      <th>2</th>\n      <td>43201</td>\n      <td>39.995575</td>\n      <td>-82.999464</td>\n      <td>784</td>\n      <td>39851</td>\n      <td>14697</td>\n      <td>240700</td>\n      <td>31891</td>\n      <td>2.24</td>\n      <td>27369</td>\n      <td>...</td>\n      <td>20162</td>\n      <td>15333</td>\n      <td>5495</td>\n      <td>1493</td>\n      <td>630</td>\n      <td>380</td>\n      <td>30</td>\n      <td>115</td>\n      <td>630</td>\n      <td>9974</td>\n    </tr>\n    <tr>\n      <th>3</th>\n      <td>43202</td>\n      <td>40.020272</td>\n      <td>-83.017128</td>\n      <td>724</td>\n      <td>21426</td>\n      <td>9952</td>\n      <td>208300</td>\n      <td>53331</td>\n      <td>2.03</td>\n      <td>17151</td>\n      <td>...</td>\n      <td>10854</td>\n      <td>9397</td>\n      <td>1027</td>\n      <td>658</td>\n      <td>840</td>\n      <td>160</td>\n      <td>40</td>\n      <td>50</td>\n      <td>275</td>\n      <td>5133</td>\n    </tr>\n    <tr>\n      <th>4</th>\n      <td>43203</td>\n      <td>39.971834</td>\n      <td>-82.966754</td>\n      <td>821</td>\n      <td>9825</td>\n      <td>3533</td>\n      <td>89400</td>\n      <td>28072</td>\n      <td>2.25</td>\n      <td>1160</td>\n      <td>...</td>\n      <td>3894</td>\n      <td>4214</td>\n      <td>6941</td>\n      <td>173</td>\n      <td>650</td>\n      <td>255</td>\n      <td>25</td>\n      <td>140</td>\n      <td>110</td>\n      <td>1198</td>\n    </tr>\n  </tbody>\n</table>\n<p>5 rows × 21 columns</p>\n</div>"
     },
     "metadata": {},
     "execution_count": 21
    }
   ],
   "source": [
    "zip_info_df = zip_info_df.replace(',|\\$|(s|ft)|(s|years)','',regex=True)\n",
    "zip_info_df.head()"
   ]
  },
  {
   "source": [
    "Converts all columns to sometype of numeric value"
   ],
   "cell_type": "markdown",
   "metadata": {}
  },
  {
   "cell_type": "code",
   "execution_count": 22,
   "metadata": {},
   "outputs": [
    {
     "output_type": "execute_result",
     "data": {
      "text/plain": [
       "Zip Code:                       int64\n",
       "Latitude:                     float64\n",
       "Longitude:                    float64\n",
       "Elevation:                      int64\n",
       "Current Population:             int64\n",
       "Households per ZIP Code:        int64\n",
       "Average House Value:            int64\n",
       "Avg. Income Per Household:      int64\n",
       "Persons Per Household:        float64\n",
       "White Population:               int64\n",
       "Median Age:                   float64\n",
       "Male Population:                int64\n",
       "Female Population:              int64\n",
       "Black Population:               int64\n",
       "Hispanic Population:            int64\n",
       "Retired Workers:                int64\n",
       "Disabled Workers:               int64\n",
       "Spouses:                        int64\n",
       "Children:                       int64\n",
       "Number of Businesses:           int64\n",
       "# of Employees:                 int64\n",
       "dtype: object"
      ]
     },
     "metadata": {},
     "execution_count": 22
    }
   ],
   "source": [
    "for i in zip_info_df.columns:\n",
    "    zip_info_df[i] = pd.to_numeric(zip_info_df[i])\n",
    "zip_info_df.dtypes   "
   ]
  },
  {
   "source": [
    "Renames columns without colons"
   ],
   "cell_type": "markdown",
   "metadata": {}
  },
  {
   "cell_type": "code",
   "execution_count": 23,
   "metadata": {},
   "outputs": [
    {
     "output_type": "execute_result",
     "data": {
      "text/plain": [
       "Zip Code                       int64\n",
       "Latitude                     float64\n",
       "Longitude                    float64\n",
       "Elevation                      int64\n",
       "Current Population             int64\n",
       "Households per ZIP Code        int64\n",
       "Average House Value            int64\n",
       "Avg. Income Per Household      int64\n",
       "Persons Per Household        float64\n",
       "White Population               int64\n",
       "Median Age                   float64\n",
       "Male Population                int64\n",
       "Female Population              int64\n",
       "Black Population               int64\n",
       "Hispanic Population            int64\n",
       "Retired Workers                int64\n",
       "Disabled Workers               int64\n",
       "Spouses                        int64\n",
       "Children                       int64\n",
       "Number of Businesses           int64\n",
       "# of Employees                 int64\n",
       "dtype: object"
      ]
     },
     "metadata": {},
     "execution_count": 23
    }
   ],
   "source": [
    "zip_info_df = zip_info_df.rename(columns={str(i): str(i)[:-1] for i in zip_info_df.columns},errors='raise')\n",
    "zip_info_df.dtypes  "
   ]
  },
  {
   "cell_type": "code",
   "execution_count": 24,
   "metadata": {},
   "outputs": [
    {
     "output_type": "execute_result",
     "data": {
      "text/plain": [
       "ZipCode                   object\n",
       "Latitude                 float64\n",
       "Longitude                float64\n",
       "Elevation                  int64\n",
       "CurrentPopulation          int64\n",
       "HouseholdsperZIPCode       int64\n",
       "AverageHouseValue          int64\n",
       "AvgIncomePerHousehold      int64\n",
       "PersonsPerHousehold      float64\n",
       "WhitePopulation            int64\n",
       "MedianAge                float64\n",
       "MalePopulation             int64\n",
       "FemalePopulation           int64\n",
       "BlackPopulation            int64\n",
       "HispanicPopulation         int64\n",
       "RetiredWorkers             int64\n",
       "DisabledWorkers            int64\n",
       "Spouses                    int64\n",
       "Children                   int64\n",
       "NumberofBusinesses         int64\n",
       "#ofEmployees               int64\n",
       "dtype: object"
      ]
     },
     "metadata": {},
     "execution_count": 24
    }
   ],
   "source": [
    "zip_info_df = zip_info_df.rename(columns={str(i): re.sub('\\:|\\.|\\s', '', str(i)) for i in zip_info_df.columns},errors='raise')\n",
    "zip_info_df = zip_info_df.astype({'ZipCode': 'object'})\n",
    "zip_info_df.dtypes  "
   ]
  },
  {
   "source": [
    "## Modify hp_df:"
   ],
   "cell_type": "markdown",
   "metadata": {}
  },
  {
   "cell_type": "code",
   "execution_count": 25,
   "metadata": {},
   "outputs": [
    {
     "output_type": "execute_result",
     "data": {
      "text/plain": [
       "                         id                                    name  \\\n",
       "0  5f6ba0a26c680a653d7297da                     Walk In Urgent Care   \n",
       "1  501d17b8e4b09fbdec1c12c9                     H12B HEM/ONC At NCH   \n",
       "2  4e4523811838e44e89955e65  Heartland Hospice Serving Central Ohio   \n",
       "3  4dd2dfe6ae60da0ebed12eec  Mt Carmel New Albany Surgical Hospital   \n",
       "4  4b391ed3f964a520985625e3         Mount Carmel St. Ann's Hospital   \n",
       "\n",
       "                                          categories    referralId  hasPerk  \\\n",
       "0  [{'id': '4bf58dd8d48988d196941735', 'name': 'H...  v-1609606558    False   \n",
       "1  [{'id': '4bf58dd8d48988d196941735', 'name': 'H...  v-1609606558    False   \n",
       "2  [{'id': '4bf58dd8d48988d104941735', 'name': 'M...  v-1609606558    False   \n",
       "3  [{'id': '4bf58dd8d48988d196941735', 'name': 'H...  v-1609606558    False   \n",
       "4  [{'id': '4bf58dd8d48988d196941735', 'name': 'H...  v-1609606558    False   \n",
       "\n",
       "      location.address  location.lat  location.lng  \\\n",
       "0    1085 Polaris Pkwy     40.145056    -82.992258   \n",
       "1                  NaN     40.110148    -83.036035   \n",
       "2      6500 Busch Blvd     40.098464    -82.992242   \n",
       "3  7333 Smiths Mill Rd     40.086201    -82.789909   \n",
       "4  500 S Cleveland Ave     40.114484    -82.947050   \n",
       "\n",
       "                             location.labeledLatLngs  location.distance  \\\n",
       "0  [{'label': 'display', 'lat': 40.1450558, 'lng'...               9114   \n",
       "1  [{'label': 'display', 'lat': 40.11014760015202...              11751   \n",
       "2  [{'label': 'display', 'lat': 40.09846372, 'lng...               8058   \n",
       "3  [{'label': 'display', 'lat': 40.08620050813063...               9475   \n",
       "4  [{'label': 'display', 'lat': 40.11448386021365...               4270   \n",
       "\n",
       "  location.postalCode location.cc location.city location.state  \\\n",
       "0               43240          US      Columbus             OH   \n",
       "1               43223          US      Columbus             OH   \n",
       "2               43229          US      Columbus             OH   \n",
       "3               43054          US    New Albany             OH   \n",
       "4               43081          US   Westerville             OH   \n",
       "\n",
       "  location.country                          location.formattedAddress  \\\n",
       "0    United States  [1085 Polaris Pkwy, Columbus, OH 43240, United...   \n",
       "1    United States                [Columbus, OH 43223, United States]   \n",
       "2    United States  [6500 Busch Blvd (#210), Columbus, OH 43229, U...   \n",
       "3    United States  [7333 Smiths Mill Rd, New Albany, OH 43054, Un...   \n",
       "4    United States  [500 S Cleveland Ave, Westerville, OH 43081, U...   \n",
       "\n",
       "  location.crossStreet venuePage.id location.neighborhood  \n",
       "0                  NaN          NaN                   NaN  \n",
       "1                  NaN          NaN                   NaN  \n",
       "2                 #210    416270706                   NaN  \n",
       "3                  NaN          NaN                   NaN  \n",
       "4                  NaN          NaN                   NaN  "
      ],
      "text/html": "<div>\n<style scoped>\n    .dataframe tbody tr th:only-of-type {\n        vertical-align: middle;\n    }\n\n    .dataframe tbody tr th {\n        vertical-align: top;\n    }\n\n    .dataframe thead th {\n        text-align: right;\n    }\n</style>\n<table border=\"1\" class=\"dataframe\">\n  <thead>\n    <tr style=\"text-align: right;\">\n      <th></th>\n      <th>id</th>\n      <th>name</th>\n      <th>categories</th>\n      <th>referralId</th>\n      <th>hasPerk</th>\n      <th>location.address</th>\n      <th>location.lat</th>\n      <th>location.lng</th>\n      <th>location.labeledLatLngs</th>\n      <th>location.distance</th>\n      <th>location.postalCode</th>\n      <th>location.cc</th>\n      <th>location.city</th>\n      <th>location.state</th>\n      <th>location.country</th>\n      <th>location.formattedAddress</th>\n      <th>location.crossStreet</th>\n      <th>venuePage.id</th>\n      <th>location.neighborhood</th>\n    </tr>\n  </thead>\n  <tbody>\n    <tr>\n      <th>0</th>\n      <td>5f6ba0a26c680a653d7297da</td>\n      <td>Walk In Urgent Care</td>\n      <td>[{'id': '4bf58dd8d48988d196941735', 'name': 'H...</td>\n      <td>v-1609606558</td>\n      <td>False</td>\n      <td>1085 Polaris Pkwy</td>\n      <td>40.145056</td>\n      <td>-82.992258</td>\n      <td>[{'label': 'display', 'lat': 40.1450558, 'lng'...</td>\n      <td>9114</td>\n      <td>43240</td>\n      <td>US</td>\n      <td>Columbus</td>\n      <td>OH</td>\n      <td>United States</td>\n      <td>[1085 Polaris Pkwy, Columbus, OH 43240, United...</td>\n      <td>NaN</td>\n      <td>NaN</td>\n      <td>NaN</td>\n    </tr>\n    <tr>\n      <th>1</th>\n      <td>501d17b8e4b09fbdec1c12c9</td>\n      <td>H12B HEM/ONC At NCH</td>\n      <td>[{'id': '4bf58dd8d48988d196941735', 'name': 'H...</td>\n      <td>v-1609606558</td>\n      <td>False</td>\n      <td>NaN</td>\n      <td>40.110148</td>\n      <td>-83.036035</td>\n      <td>[{'label': 'display', 'lat': 40.11014760015202...</td>\n      <td>11751</td>\n      <td>43223</td>\n      <td>US</td>\n      <td>Columbus</td>\n      <td>OH</td>\n      <td>United States</td>\n      <td>[Columbus, OH 43223, United States]</td>\n      <td>NaN</td>\n      <td>NaN</td>\n      <td>NaN</td>\n    </tr>\n    <tr>\n      <th>2</th>\n      <td>4e4523811838e44e89955e65</td>\n      <td>Heartland Hospice Serving Central Ohio</td>\n      <td>[{'id': '4bf58dd8d48988d104941735', 'name': 'M...</td>\n      <td>v-1609606558</td>\n      <td>False</td>\n      <td>6500 Busch Blvd</td>\n      <td>40.098464</td>\n      <td>-82.992242</td>\n      <td>[{'label': 'display', 'lat': 40.09846372, 'lng...</td>\n      <td>8058</td>\n      <td>43229</td>\n      <td>US</td>\n      <td>Columbus</td>\n      <td>OH</td>\n      <td>United States</td>\n      <td>[6500 Busch Blvd (#210), Columbus, OH 43229, U...</td>\n      <td>#210</td>\n      <td>416270706</td>\n      <td>NaN</td>\n    </tr>\n    <tr>\n      <th>3</th>\n      <td>4dd2dfe6ae60da0ebed12eec</td>\n      <td>Mt Carmel New Albany Surgical Hospital</td>\n      <td>[{'id': '4bf58dd8d48988d196941735', 'name': 'H...</td>\n      <td>v-1609606558</td>\n      <td>False</td>\n      <td>7333 Smiths Mill Rd</td>\n      <td>40.086201</td>\n      <td>-82.789909</td>\n      <td>[{'label': 'display', 'lat': 40.08620050813063...</td>\n      <td>9475</td>\n      <td>43054</td>\n      <td>US</td>\n      <td>New Albany</td>\n      <td>OH</td>\n      <td>United States</td>\n      <td>[7333 Smiths Mill Rd, New Albany, OH 43054, Un...</td>\n      <td>NaN</td>\n      <td>NaN</td>\n      <td>NaN</td>\n    </tr>\n    <tr>\n      <th>4</th>\n      <td>4b391ed3f964a520985625e3</td>\n      <td>Mount Carmel St. Ann's Hospital</td>\n      <td>[{'id': '4bf58dd8d48988d196941735', 'name': 'H...</td>\n      <td>v-1609606558</td>\n      <td>False</td>\n      <td>500 S Cleveland Ave</td>\n      <td>40.114484</td>\n      <td>-82.947050</td>\n      <td>[{'label': 'display', 'lat': 40.11448386021365...</td>\n      <td>4270</td>\n      <td>43081</td>\n      <td>US</td>\n      <td>Westerville</td>\n      <td>OH</td>\n      <td>United States</td>\n      <td>[500 S Cleveland Ave, Westerville, OH 43081, U...</td>\n      <td>NaN</td>\n      <td>NaN</td>\n      <td>NaN</td>\n    </tr>\n  </tbody>\n</table>\n</div>"
     },
     "metadata": {},
     "execution_count": 25
    }
   ],
   "source": [
    "hp_df.head()"
   ]
  },
  {
   "cell_type": "code",
   "execution_count": 26,
   "metadata": {},
   "outputs": [
    {
     "output_type": "execute_result",
     "data": {
      "text/plain": [
       "id                            object\n",
       "name                          object\n",
       "categories                    object\n",
       "referralId                    object\n",
       "hasPerk                         bool\n",
       "location.address              object\n",
       "location.lat                 float64\n",
       "location.lng                 float64\n",
       "location.labeledLatLngs       object\n",
       "location.distance              int64\n",
       "location.postalCode           object\n",
       "location.cc                   object\n",
       "location.city                 object\n",
       "location.state                object\n",
       "location.country              object\n",
       "location.formattedAddress     object\n",
       "location.crossStreet          object\n",
       "venuePage.id                  object\n",
       "location.neighborhood         object\n",
       "dtype: object"
      ]
     },
     "metadata": {},
     "execution_count": 26
    }
   ],
   "source": [
    "hp_df.dtypes"
   ]
  },
  {
   "cell_type": "code",
   "execution_count": 27,
   "metadata": {},
   "outputs": [
    {
     "output_type": "execute_result",
     "data": {
      "text/plain": [
       "['717 E. 17th Ave., Columbus',\n",
       " '2365 Innis Rd., Columbus',\n",
       " '882 S. Hamilton Rd., Whitehall',\n",
       " '777 W. State St., Columbus',\n",
       " '2300 W. Broad St., Columbus',\n",
       " '1905 Parsons Ave., Columbus',\n",
       " '3433 Agler Rd., Columbus',\n",
       " '1500 E. 17th Ave., Columbus',\n",
       " '750 E. Long St., Columbus',\n",
       " ' 86 N. Front St., Columbus']"
      ]
     },
     "metadata": {},
     "execution_count": 27
    }
   ],
   "source": [
    "testingLocations"
   ]
  },
  {
   "source": [
    "Somethings not kept in mind are:\n",
    "- Categories may not be large enough to test\n",
    "- Someplaces may not exist\n",
    "Repetitive Information is kept just for further information purposes."
   ],
   "cell_type": "markdown",
   "metadata": {}
  },
  {
   "cell_type": "code",
   "execution_count": 28,
   "metadata": {},
   "outputs": [
    {
     "output_type": "execute_result",
     "data": {
      "text/plain": [
       "                         id                                    name  \\\n",
       "0  5f6ba0a26c680a653d7297da                     Walk In Urgent Care   \n",
       "1  501d17b8e4b09fbdec1c12c9                     H12B HEM/ONC At NCH   \n",
       "2  4e4523811838e44e89955e65  Heartland Hospice Serving Central Ohio   \n",
       "3  4dd2dfe6ae60da0ebed12eec  Mt Carmel New Albany Surgical Hospital   \n",
       "4  4b391ed3f964a520985625e3         Mount Carmel St. Ann's Hospital   \n",
       "\n",
       "      location.address  location.lat  location.lng location.postalCode  \\\n",
       "0    1085 Polaris Pkwy     40.145056    -82.992258               43240   \n",
       "1                  NaN     40.110148    -83.036035               43223   \n",
       "2      6500 Busch Blvd     40.098464    -82.992242               43229   \n",
       "3  7333 Smiths Mill Rd     40.086201    -82.789909               43054   \n",
       "4  500 S Cleveland Ave     40.114484    -82.947050               43081   \n",
       "\n",
       "  location.cc location.city location.state location.country  \n",
       "0          US      Columbus             OH    United States  \n",
       "1          US      Columbus             OH    United States  \n",
       "2          US      Columbus             OH    United States  \n",
       "3          US    New Albany             OH    United States  \n",
       "4          US   Westerville             OH    United States  "
      ],
      "text/html": "<div>\n<style scoped>\n    .dataframe tbody tr th:only-of-type {\n        vertical-align: middle;\n    }\n\n    .dataframe tbody tr th {\n        vertical-align: top;\n    }\n\n    .dataframe thead th {\n        text-align: right;\n    }\n</style>\n<table border=\"1\" class=\"dataframe\">\n  <thead>\n    <tr style=\"text-align: right;\">\n      <th></th>\n      <th>id</th>\n      <th>name</th>\n      <th>location.address</th>\n      <th>location.lat</th>\n      <th>location.lng</th>\n      <th>location.postalCode</th>\n      <th>location.cc</th>\n      <th>location.city</th>\n      <th>location.state</th>\n      <th>location.country</th>\n    </tr>\n  </thead>\n  <tbody>\n    <tr>\n      <th>0</th>\n      <td>5f6ba0a26c680a653d7297da</td>\n      <td>Walk In Urgent Care</td>\n      <td>1085 Polaris Pkwy</td>\n      <td>40.145056</td>\n      <td>-82.992258</td>\n      <td>43240</td>\n      <td>US</td>\n      <td>Columbus</td>\n      <td>OH</td>\n      <td>United States</td>\n    </tr>\n    <tr>\n      <th>1</th>\n      <td>501d17b8e4b09fbdec1c12c9</td>\n      <td>H12B HEM/ONC At NCH</td>\n      <td>NaN</td>\n      <td>40.110148</td>\n      <td>-83.036035</td>\n      <td>43223</td>\n      <td>US</td>\n      <td>Columbus</td>\n      <td>OH</td>\n      <td>United States</td>\n    </tr>\n    <tr>\n      <th>2</th>\n      <td>4e4523811838e44e89955e65</td>\n      <td>Heartland Hospice Serving Central Ohio</td>\n      <td>6500 Busch Blvd</td>\n      <td>40.098464</td>\n      <td>-82.992242</td>\n      <td>43229</td>\n      <td>US</td>\n      <td>Columbus</td>\n      <td>OH</td>\n      <td>United States</td>\n    </tr>\n    <tr>\n      <th>3</th>\n      <td>4dd2dfe6ae60da0ebed12eec</td>\n      <td>Mt Carmel New Albany Surgical Hospital</td>\n      <td>7333 Smiths Mill Rd</td>\n      <td>40.086201</td>\n      <td>-82.789909</td>\n      <td>43054</td>\n      <td>US</td>\n      <td>New Albany</td>\n      <td>OH</td>\n      <td>United States</td>\n    </tr>\n    <tr>\n      <th>4</th>\n      <td>4b391ed3f964a520985625e3</td>\n      <td>Mount Carmel St. Ann's Hospital</td>\n      <td>500 S Cleveland Ave</td>\n      <td>40.114484</td>\n      <td>-82.947050</td>\n      <td>43081</td>\n      <td>US</td>\n      <td>Westerville</td>\n      <td>OH</td>\n      <td>United States</td>\n    </tr>\n  </tbody>\n</table>\n</div>"
     },
     "metadata": {},
     "execution_count": 28
    }
   ],
   "source": [
    "hp_df=hp_df.drop(columns=['referralId','hasPerk','location.distance','venuePage.id','location.crossStreet','location.neighborhood','categories','location.formattedAddress','location.labeledLatLngs'])\n",
    "hp_df.head()"
   ]
  },
  {
   "cell_type": "code",
   "execution_count": 29,
   "metadata": {},
   "outputs": [
    {
     "output_type": "execute_result",
     "data": {
      "text/plain": [
       "id                      object\n",
       "name                    object\n",
       "location.address        object\n",
       "location.lat           float64\n",
       "location.lng           float64\n",
       "location.postalCode     object\n",
       "location.cc             object\n",
       "location.city           object\n",
       "location.state          object\n",
       "location.country        object\n",
       "dtype: object"
      ]
     },
     "metadata": {},
     "execution_count": 29
    }
   ],
   "source": [
    "hp_df.dtypes"
   ]
  },
  {
   "source": [
    "Rename columns"
   ],
   "cell_type": "markdown",
   "metadata": {}
  },
  {
   "cell_type": "code",
   "execution_count": 30,
   "metadata": {},
   "outputs": [
    {
     "output_type": "execute_result",
     "data": {
      "text/plain": [
       "id             object\n",
       "name           object\n",
       "address        object\n",
       "lat           float64\n",
       "lng           float64\n",
       "postalCode     object\n",
       "cc             object\n",
       "city           object\n",
       "state          object\n",
       "country        object\n",
       "dtype: object"
      ]
     },
     "metadata": {},
     "execution_count": 30
    }
   ],
   "source": [
    "hp_df = hp_df.rename(columns={str(i): re.sub('(location.)', '', str(i)) for i in hp_df.columns},errors='raise')\n",
    "hp_df.dtypes"
   ]
  },
  {
   "source": [
    "## Modify zip_cases_df:"
   ],
   "cell_type": "markdown",
   "metadata": {}
  },
  {
   "cell_type": "code",
   "execution_count": 31,
   "metadata": {},
   "outputs": [
    {
     "output_type": "execute_result",
     "data": {
      "text/plain": [
       "Zip Code                               object\n",
       "Population                             object\n",
       "Case Count - Cumulative                object\n",
       "Case Count - Last 30 Days              object\n",
       "Case Count - Last 14 Days             float64\n",
       "Case Count Per 100K - Cumulative       object\n",
       "Case Count Per 100K - Last 30 Days     object\n",
       "Case Count Per 100K - Last 14 Days     object\n",
       "dtype: object"
      ]
     },
     "metadata": {},
     "execution_count": 31
    }
   ],
   "source": [
    "zip_cases_df.dtypes"
   ]
  },
  {
   "source": [
    "filters some data types"
   ],
   "cell_type": "markdown",
   "metadata": {}
  },
  {
   "cell_type": "code",
   "execution_count": 32,
   "metadata": {},
   "outputs": [
    {
     "output_type": "execute_result",
     "data": {
      "text/plain": [
       "  Zip Code  Population  Case Count - Cumulative Case Count - Last 30 Days   \\\n",
       "0     43001        2810                     150                         44   \n",
       "1     43002        3744                     NaN                        NaN   \n",
       "2     43003        3005                     130                         56   \n",
       "3     43004       26139                    2227                        583   \n",
       "4     43005         201                       9                        NaN   \n",
       "\n",
       "   Case Count - Last 14 Days  Case Count Per 100K - Cumulative  \\\n",
       "0                        15.0                          5338.10   \n",
       "1                         NaN                              NaN   \n",
       "2                        18.0                          4326.10   \n",
       "3                       224.0                          8519.80   \n",
       "4                         NaN                          4477.60   \n",
       "\n",
       "  Case Count Per 100K - Last 30 Days Case Count Per 100K - Last 14 Days  \n",
       "0                            1565.80                              533.8  \n",
       "1                                NaN                                NaN  \n",
       "2                            1863.60                                599  \n",
       "3                            2230.40                                857  \n",
       "4                                NaN                                NaN  "
      ],
      "text/html": "<div>\n<style scoped>\n    .dataframe tbody tr th:only-of-type {\n        vertical-align: middle;\n    }\n\n    .dataframe tbody tr th {\n        vertical-align: top;\n    }\n\n    .dataframe thead th {\n        text-align: right;\n    }\n</style>\n<table border=\"1\" class=\"dataframe\">\n  <thead>\n    <tr style=\"text-align: right;\">\n      <th></th>\n      <th>Zip Code</th>\n      <th>Population</th>\n      <th>Case Count - Cumulative</th>\n      <th>Case Count - Last 30 Days</th>\n      <th>Case Count - Last 14 Days</th>\n      <th>Case Count Per 100K - Cumulative</th>\n      <th>Case Count Per 100K - Last 30 Days</th>\n      <th>Case Count Per 100K - Last 14 Days</th>\n    </tr>\n  </thead>\n  <tbody>\n    <tr>\n      <th>0</th>\n      <td>43001</td>\n      <td>2810</td>\n      <td>150</td>\n      <td>44</td>\n      <td>15.0</td>\n      <td>5338.10</td>\n      <td>1565.80</td>\n      <td>533.8</td>\n    </tr>\n    <tr>\n      <th>1</th>\n      <td>43002</td>\n      <td>3744</td>\n      <td>NaN</td>\n      <td>NaN</td>\n      <td>NaN</td>\n      <td>NaN</td>\n      <td>NaN</td>\n      <td>NaN</td>\n    </tr>\n    <tr>\n      <th>2</th>\n      <td>43003</td>\n      <td>3005</td>\n      <td>130</td>\n      <td>56</td>\n      <td>18.0</td>\n      <td>4326.10</td>\n      <td>1863.60</td>\n      <td>599</td>\n    </tr>\n    <tr>\n      <th>3</th>\n      <td>43004</td>\n      <td>26139</td>\n      <td>2227</td>\n      <td>583</td>\n      <td>224.0</td>\n      <td>8519.80</td>\n      <td>2230.40</td>\n      <td>857</td>\n    </tr>\n    <tr>\n      <th>4</th>\n      <td>43005</td>\n      <td>201</td>\n      <td>9</td>\n      <td>NaN</td>\n      <td>NaN</td>\n      <td>4477.60</td>\n      <td>NaN</td>\n      <td>NaN</td>\n    </tr>\n  </tbody>\n</table>\n</div>"
     },
     "metadata": {},
     "execution_count": 32
    }
   ],
   "source": [
    "zip_cases_df = zip_cases_df.replace(',|\\$|(s|ft)|(s|years)','',regex=True)\n",
    "zip_cases_df.head()"
   ]
  },
  {
   "source": [
    "convert to proper data types"
   ],
   "cell_type": "markdown",
   "metadata": {}
  },
  {
   "cell_type": "code",
   "execution_count": 33,
   "metadata": {},
   "outputs": [
    {
     "output_type": "execute_result",
     "data": {
      "text/plain": [
       "Zip Code                               object\n",
       "Population                            float64\n",
       "Case Count - Cumulative               float64\n",
       "Case Count - Last 30 Days             float64\n",
       "Case Count - Last 14 Days             float64\n",
       "Case Count Per 100K - Cumulative      float64\n",
       "Case Count Per 100K - Last 30 Days    float64\n",
       "Case Count Per 100K - Last 14 Days    float64\n",
       "dtype: object"
      ]
     },
     "metadata": {},
     "execution_count": 33
    }
   ],
   "source": [
    "for i in zip_cases_df.columns:\n",
    "    zip_cases_df[i] = pd.to_numeric(zip_cases_df[i],errors='ignore')\n",
    "zip_cases_df.dtypes   "
   ]
  },
  {
   "source": [
    "zip_cases_df = zip_cases_df.rename(columns={str(i): re.sub('\\-|\\s|(Last)|(Days)', '', str(i)) for i in zip_cases_df.columns},errors='raise')\n",
    "zip_cases_df \n",
    "zip_cases_df.dtypes "
   ],
   "cell_type": "code",
   "metadata": {},
   "execution_count": 34,
   "outputs": [
    {
     "output_type": "execute_result",
     "data": {
      "text/plain": [
       "ZipCode                        object\n",
       "Population                    float64\n",
       "CaseCountCumulative           float64\n",
       "CaseCount30                   float64\n",
       "CaseCount14                   float64\n",
       "CaseCountPer100KCumulative    float64\n",
       "CaseCountPer100K30            float64\n",
       "CaseCountPer100K14            float64\n",
       "dtype: object"
      ]
     },
     "metadata": {},
     "execution_count": 34
    }
   ]
  },
  {
   "source": [
    "***\n",
    "#  Part 3: Filtering and Adjusting Data\n",
    "***"
   ],
   "cell_type": "markdown",
   "metadata": {}
  },
  {
   "source": [
    "Columns"
   ],
   "cell_type": "markdown",
   "metadata": {}
  },
  {
   "cell_type": "code",
   "execution_count": 35,
   "metadata": {},
   "outputs": [
    {
     "output_type": "stream",
     "name": "stdout",
     "text": [
      "ZipCode                        object\nPopulation                    float64\nCaseCountCumulative           float64\nCaseCount30                   float64\nCaseCount14                   float64\nCaseCountPer100KCumulative    float64\nCaseCountPer100K30            float64\nCaseCountPer100K14            float64\ndtype: object\nZipCode                   object\nLatitude                 float64\nLongitude                float64\nElevation                  int64\nCurrentPopulation          int64\nHouseholdsperZIPCode       int64\nAverageHouseValue          int64\nAvgIncomePerHousehold      int64\nPersonsPerHousehold      float64\nWhitePopulation            int64\nMedianAge                float64\nMalePopulation             int64\nFemalePopulation           int64\nBlackPopulation            int64\nHispanicPopulation         int64\nRetiredWorkers             int64\nDisabledWorkers            int64\nSpouses                    int64\nChildren                   int64\nNumberofBusinesses         int64\n#ofEmployees               int64\ndtype: object\nid             object\nname           object\naddress        object\nlat           float64\nlng           float64\npostalCode     object\ncc             object\ncity           object\nstate          object\ncountry        object\ndtype: object\n"
     ]
    }
   ],
   "source": [
    "print(zip_cases_df.dtypes)\n",
    "print(zip_info_df.dtypes)\n",
    "print(hp_df.dtypes)"
   ]
  },
  {
   "source": [
    "sqldf(\"SELECT * FROM iris_df LIMIT 10;\", locals())\n",
    "- returns data frame\n",
    "- allows for sql queries with name of data frames used"
   ],
   "cell_type": "markdown",
   "metadata": {}
  },
  {
   "source": [
    "Filter the zip codes."
   ],
   "cell_type": "markdown",
   "metadata": {}
  },
  {
   "cell_type": "code",
   "execution_count": 36,
   "metadata": {},
   "outputs": [],
   "source": [
    "zip_cases_df=sqldf(\"SELECT * FROM zip_cases_df WHERE ZipCode IN (SELECT ZipCode FROM zip_info_df);\")#zip_cases_df\n",
    "hp_df = sqldf(\"SELECT * FROM hp_df WHERE postalCode IN (SELECT ZipCode FROM zip_info_df);\") #hp_df"
   ]
  },
  {
   "cell_type": "code",
   "execution_count": 37,
   "metadata": {},
   "outputs": [
    {
     "output_type": "execute_result",
     "data": {
      "text/plain": [
       "  ZipCode   Latitude  Longitude  Elevation  CurrentPopulation  \\\n",
       "0   43081  40.106049 -82.898116        873              66855   \n",
       "1   43085  40.100474 -83.013908        905              25037   \n",
       "2   43201  39.995575 -82.999464        784              39851   \n",
       "3   43202  40.020272 -83.017128        724              21426   \n",
       "4   43203  39.971834 -82.966754        821               9825   \n",
       "\n",
       "   HouseholdsperZIPCode  AverageHouseValue  AvgIncomePerHousehold  \\\n",
       "0                 22754             197800                  81813   \n",
       "1                  9768             247500                  83524   \n",
       "2                 14697             240700                  31891   \n",
       "3                  9952             208300                  53331   \n",
       "4                  3533              89400                  28072   \n",
       "\n",
       "   PersonsPerHousehold  WhitePopulation  ...  MalePopulation  \\\n",
       "0                 2.39            47805  ...           26675   \n",
       "1                 2.36            20891  ...           11025   \n",
       "2                 2.24            27369  ...           20162   \n",
       "3                 2.03            17151  ...           10854   \n",
       "4                 2.25             1160  ...            3894   \n",
       "\n",
       "   FemalePopulation  BlackPopulation  HispanicPopulation  RetiredWorkers  \\\n",
       "0             29316             6078                1677            7195   \n",
       "1             12233             1377                 822            3030   \n",
       "2             15333             5495                1493             630   \n",
       "3              9397             1027                 658             840   \n",
       "4              4214             6941                 173             650   \n",
       "\n",
       "   DisabledWorkers  Spouses  Children  NumberofBusinesses  #ofEmployees  \n",
       "0              800      365       485                1318         28811  \n",
       "1              435      180       300                 977         18013  \n",
       "2              380       30       115                 630          9974  \n",
       "3              160       40        50                 275          5133  \n",
       "4              255       25       140                 110          1198  \n",
       "\n",
       "[5 rows x 21 columns]"
      ],
      "text/html": "<div>\n<style scoped>\n    .dataframe tbody tr th:only-of-type {\n        vertical-align: middle;\n    }\n\n    .dataframe tbody tr th {\n        vertical-align: top;\n    }\n\n    .dataframe thead th {\n        text-align: right;\n    }\n</style>\n<table border=\"1\" class=\"dataframe\">\n  <thead>\n    <tr style=\"text-align: right;\">\n      <th></th>\n      <th>ZipCode</th>\n      <th>Latitude</th>\n      <th>Longitude</th>\n      <th>Elevation</th>\n      <th>CurrentPopulation</th>\n      <th>HouseholdsperZIPCode</th>\n      <th>AverageHouseValue</th>\n      <th>AvgIncomePerHousehold</th>\n      <th>PersonsPerHousehold</th>\n      <th>WhitePopulation</th>\n      <th>...</th>\n      <th>MalePopulation</th>\n      <th>FemalePopulation</th>\n      <th>BlackPopulation</th>\n      <th>HispanicPopulation</th>\n      <th>RetiredWorkers</th>\n      <th>DisabledWorkers</th>\n      <th>Spouses</th>\n      <th>Children</th>\n      <th>NumberofBusinesses</th>\n      <th>#ofEmployees</th>\n    </tr>\n  </thead>\n  <tbody>\n    <tr>\n      <th>0</th>\n      <td>43081</td>\n      <td>40.106049</td>\n      <td>-82.898116</td>\n      <td>873</td>\n      <td>66855</td>\n      <td>22754</td>\n      <td>197800</td>\n      <td>81813</td>\n      <td>2.39</td>\n      <td>47805</td>\n      <td>...</td>\n      <td>26675</td>\n      <td>29316</td>\n      <td>6078</td>\n      <td>1677</td>\n      <td>7195</td>\n      <td>800</td>\n      <td>365</td>\n      <td>485</td>\n      <td>1318</td>\n      <td>28811</td>\n    </tr>\n    <tr>\n      <th>1</th>\n      <td>43085</td>\n      <td>40.100474</td>\n      <td>-83.013908</td>\n      <td>905</td>\n      <td>25037</td>\n      <td>9768</td>\n      <td>247500</td>\n      <td>83524</td>\n      <td>2.36</td>\n      <td>20891</td>\n      <td>...</td>\n      <td>11025</td>\n      <td>12233</td>\n      <td>1377</td>\n      <td>822</td>\n      <td>3030</td>\n      <td>435</td>\n      <td>180</td>\n      <td>300</td>\n      <td>977</td>\n      <td>18013</td>\n    </tr>\n    <tr>\n      <th>2</th>\n      <td>43201</td>\n      <td>39.995575</td>\n      <td>-82.999464</td>\n      <td>784</td>\n      <td>39851</td>\n      <td>14697</td>\n      <td>240700</td>\n      <td>31891</td>\n      <td>2.24</td>\n      <td>27369</td>\n      <td>...</td>\n      <td>20162</td>\n      <td>15333</td>\n      <td>5495</td>\n      <td>1493</td>\n      <td>630</td>\n      <td>380</td>\n      <td>30</td>\n      <td>115</td>\n      <td>630</td>\n      <td>9974</td>\n    </tr>\n    <tr>\n      <th>3</th>\n      <td>43202</td>\n      <td>40.020272</td>\n      <td>-83.017128</td>\n      <td>724</td>\n      <td>21426</td>\n      <td>9952</td>\n      <td>208300</td>\n      <td>53331</td>\n      <td>2.03</td>\n      <td>17151</td>\n      <td>...</td>\n      <td>10854</td>\n      <td>9397</td>\n      <td>1027</td>\n      <td>658</td>\n      <td>840</td>\n      <td>160</td>\n      <td>40</td>\n      <td>50</td>\n      <td>275</td>\n      <td>5133</td>\n    </tr>\n    <tr>\n      <th>4</th>\n      <td>43203</td>\n      <td>39.971834</td>\n      <td>-82.966754</td>\n      <td>821</td>\n      <td>9825</td>\n      <td>3533</td>\n      <td>89400</td>\n      <td>28072</td>\n      <td>2.25</td>\n      <td>1160</td>\n      <td>...</td>\n      <td>3894</td>\n      <td>4214</td>\n      <td>6941</td>\n      <td>173</td>\n      <td>650</td>\n      <td>255</td>\n      <td>25</td>\n      <td>140</td>\n      <td>110</td>\n      <td>1198</td>\n    </tr>\n  </tbody>\n</table>\n<p>5 rows × 21 columns</p>\n</div>"
     },
     "metadata": {},
     "execution_count": 37
    }
   ],
   "source": [
    "zip_info_df.head()"
   ]
  },
  {
   "source": [
    "Modify Populations of zip_info_df in proportions to match that of zip_cases_df. Reasons for assumptions for adjustments are:\n",
    "\n",
    "- Populations change and it is reasonable to suggest that the zips do the same\n",
    "- It has been 10 years and census data is inaccurate going from 2010 to 2020 so this change must be kept in account."
   ],
   "cell_type": "markdown",
   "metadata": {}
  },
  {
   "cell_type": "code",
   "execution_count": 38,
   "metadata": {},
   "outputs": [],
   "source": [
    "zipGrowth = []\n",
    "for i in zip_info_df.columns:\n",
    "    if i == 'CurrentPopulation':\n",
    "        zipGrowth = zip_info_df[i]/zip_cases_df.Population\n",
    "    if i not in ['ZipCode','Latitude','Longitude','Elevation','PersonsPerHousehold','MedianAge','HouseholdsperZIPCode','NumberofBusinesses','AvgIncomePerHousehold','AverageHouseValue']:\n",
    "       zip_info_df[i] =  np.multiply(zip_info_df[i],zipGrowth)\n",
    "       zip_info_df[i] = zip_info_df[i].apply(np.ceil)"
   ]
  },
  {
   "cell_type": "code",
   "execution_count": 39,
   "metadata": {},
   "outputs": [
    {
     "output_type": "execute_result",
     "data": {
      "text/plain": [
       "  ZipCode   Latitude  Longitude  Elevation  CurrentPopulation  \\\n",
       "0   43081  40.106049 -82.898116        873            72592.0   \n",
       "1   43085  40.100474 -83.013908        905            23912.0   \n",
       "2   43201  39.995575 -82.999464        784            47470.0   \n",
       "3   43202  40.020272 -83.017128        724            21715.0   \n",
       "4   43203  39.971834 -82.966754        821            11536.0   \n",
       "\n",
       "   HouseholdsperZIPCode  AverageHouseValue  AvgIncomePerHousehold  \\\n",
       "0                 22754             197800                  81813   \n",
       "1                  9768             247500                  83524   \n",
       "2                 14697             240700                  31891   \n",
       "3                  9952             208300                  53331   \n",
       "4                  3533              89400                  28072   \n",
       "\n",
       "   PersonsPerHousehold  WhitePopulation  ...  MalePopulation  \\\n",
       "0                 2.39          51907.0  ...         28964.0   \n",
       "1                 2.36          19952.0  ...         10530.0   \n",
       "2                 2.24          32602.0  ...         24017.0   \n",
       "3                 2.03          17383.0  ...         11001.0   \n",
       "4                 2.25           1362.0  ...          4573.0   \n",
       "\n",
       "   FemalePopulation  BlackPopulation  HispanicPopulation  RetiredWorkers  \\\n",
       "0           31832.0           6600.0              1821.0          7813.0   \n",
       "1           11683.0           1316.0               786.0          2894.0   \n",
       "2           18265.0           6546.0              1779.0           751.0   \n",
       "3            9524.0           1041.0               667.0           852.0   \n",
       "4            4948.0           8150.0               204.0           764.0   \n",
       "\n",
       "   DisabledWorkers  Spouses  Children  NumberofBusinesses  #ofEmployees  \n",
       "0            869.0    397.0     527.0                1318       31284.0  \n",
       "1            416.0    172.0     287.0                 977       17203.0  \n",
       "2            453.0     36.0     137.0                 630       11881.0  \n",
       "3            163.0     41.0      51.0                 275        5203.0  \n",
       "4            300.0     30.0     165.0                 110        1407.0  \n",
       "\n",
       "[5 rows x 21 columns]"
      ],
      "text/html": "<div>\n<style scoped>\n    .dataframe tbody tr th:only-of-type {\n        vertical-align: middle;\n    }\n\n    .dataframe tbody tr th {\n        vertical-align: top;\n    }\n\n    .dataframe thead th {\n        text-align: right;\n    }\n</style>\n<table border=\"1\" class=\"dataframe\">\n  <thead>\n    <tr style=\"text-align: right;\">\n      <th></th>\n      <th>ZipCode</th>\n      <th>Latitude</th>\n      <th>Longitude</th>\n      <th>Elevation</th>\n      <th>CurrentPopulation</th>\n      <th>HouseholdsperZIPCode</th>\n      <th>AverageHouseValue</th>\n      <th>AvgIncomePerHousehold</th>\n      <th>PersonsPerHousehold</th>\n      <th>WhitePopulation</th>\n      <th>...</th>\n      <th>MalePopulation</th>\n      <th>FemalePopulation</th>\n      <th>BlackPopulation</th>\n      <th>HispanicPopulation</th>\n      <th>RetiredWorkers</th>\n      <th>DisabledWorkers</th>\n      <th>Spouses</th>\n      <th>Children</th>\n      <th>NumberofBusinesses</th>\n      <th>#ofEmployees</th>\n    </tr>\n  </thead>\n  <tbody>\n    <tr>\n      <th>0</th>\n      <td>43081</td>\n      <td>40.106049</td>\n      <td>-82.898116</td>\n      <td>873</td>\n      <td>72592.0</td>\n      <td>22754</td>\n      <td>197800</td>\n      <td>81813</td>\n      <td>2.39</td>\n      <td>51907.0</td>\n      <td>...</td>\n      <td>28964.0</td>\n      <td>31832.0</td>\n      <td>6600.0</td>\n      <td>1821.0</td>\n      <td>7813.0</td>\n      <td>869.0</td>\n      <td>397.0</td>\n      <td>527.0</td>\n      <td>1318</td>\n      <td>31284.0</td>\n    </tr>\n    <tr>\n      <th>1</th>\n      <td>43085</td>\n      <td>40.100474</td>\n      <td>-83.013908</td>\n      <td>905</td>\n      <td>23912.0</td>\n      <td>9768</td>\n      <td>247500</td>\n      <td>83524</td>\n      <td>2.36</td>\n      <td>19952.0</td>\n      <td>...</td>\n      <td>10530.0</td>\n      <td>11683.0</td>\n      <td>1316.0</td>\n      <td>786.0</td>\n      <td>2894.0</td>\n      <td>416.0</td>\n      <td>172.0</td>\n      <td>287.0</td>\n      <td>977</td>\n      <td>17203.0</td>\n    </tr>\n    <tr>\n      <th>2</th>\n      <td>43201</td>\n      <td>39.995575</td>\n      <td>-82.999464</td>\n      <td>784</td>\n      <td>47470.0</td>\n      <td>14697</td>\n      <td>240700</td>\n      <td>31891</td>\n      <td>2.24</td>\n      <td>32602.0</td>\n      <td>...</td>\n      <td>24017.0</td>\n      <td>18265.0</td>\n      <td>6546.0</td>\n      <td>1779.0</td>\n      <td>751.0</td>\n      <td>453.0</td>\n      <td>36.0</td>\n      <td>137.0</td>\n      <td>630</td>\n      <td>11881.0</td>\n    </tr>\n    <tr>\n      <th>3</th>\n      <td>43202</td>\n      <td>40.020272</td>\n      <td>-83.017128</td>\n      <td>724</td>\n      <td>21715.0</td>\n      <td>9952</td>\n      <td>208300</td>\n      <td>53331</td>\n      <td>2.03</td>\n      <td>17383.0</td>\n      <td>...</td>\n      <td>11001.0</td>\n      <td>9524.0</td>\n      <td>1041.0</td>\n      <td>667.0</td>\n      <td>852.0</td>\n      <td>163.0</td>\n      <td>41.0</td>\n      <td>51.0</td>\n      <td>275</td>\n      <td>5203.0</td>\n    </tr>\n    <tr>\n      <th>4</th>\n      <td>43203</td>\n      <td>39.971834</td>\n      <td>-82.966754</td>\n      <td>821</td>\n      <td>11536.0</td>\n      <td>3533</td>\n      <td>89400</td>\n      <td>28072</td>\n      <td>2.25</td>\n      <td>1362.0</td>\n      <td>...</td>\n      <td>4573.0</td>\n      <td>4948.0</td>\n      <td>8150.0</td>\n      <td>204.0</td>\n      <td>764.0</td>\n      <td>300.0</td>\n      <td>30.0</td>\n      <td>165.0</td>\n      <td>110</td>\n      <td>1407.0</td>\n    </tr>\n  </tbody>\n</table>\n<p>5 rows × 21 columns</p>\n</div>"
     },
     "metadata": {},
     "execution_count": 39
    }
   ],
   "source": [
    "zip_info_df.head()"
   ]
  },
  {
   "source": [
    "***\n",
    "#  Part 4: Data Exploration\n",
    "***"
   ],
   "cell_type": "markdown",
   "metadata": {}
  },
  {
   "source": [
    "Basic Statistics"
   ],
   "cell_type": "markdown",
   "metadata": {}
  },
  {
   "cell_type": "code",
   "execution_count": 40,
   "metadata": {},
   "outputs": [
    {
     "output_type": "execute_result",
     "data": {
      "text/plain": [
       "<AxesSubplot:>"
      ]
     },
     "metadata": {},
     "execution_count": 40
    },
    {
     "output_type": "display_data",
     "data": {
      "text/plain": "<Figure size 432x288 with 2 Axes>",
      "image/svg+xml": "<?xml version=\"1.0\" encoding=\"utf-8\" standalone=\"no\"?>\r\n<!DOCTYPE svg PUBLIC \"-//W3C//DTD SVG 1.1//EN\"\r\n  \"http://www.w3.org/Graphics/SVG/1.1/DTD/svg11.dtd\">\r\n<!-- Created with matplotlib (https://matplotlib.org/) -->\r\n<svg height=\"394.911094pt\" version=\"1.1\" viewBox=\"0 0 492.027 394.911094\" width=\"492.027pt\" xmlns=\"http://www.w3.org/2000/svg\" xmlns:xlink=\"http://www.w3.org/1999/xlink\">\r\n <metadata>\r\n  <rdf:RDF xmlns:cc=\"http://creativecommons.org/ns#\" xmlns:dc=\"http://purl.org/dc/elements/1.1/\" xmlns:rdf=\"http://www.w3.org/1999/02/22-rdf-syntax-ns#\">\r\n   <cc:Work>\r\n    <dc:type rdf:resource=\"http://purl.org/dc/dcmitype/StillImage\"/>\r\n    <dc:date>2021-01-02T11:56:47.350166</dc:date>\r\n    <dc:format>image/svg+xml</dc:format>\r\n    <dc:creator>\r\n     <cc:Agent>\r\n      <dc:title>Matplotlib v3.3.1, https://matplotlib.org/</dc:title>\r\n     </cc:Agent>\r\n    </dc:creator>\r\n   </cc:Work>\r\n  </rdf:RDF>\r\n </metadata>\r\n <defs>\r\n  <style type=\"text/css\">*{stroke-linecap:butt;stroke-linejoin:round;}</style>\r\n </defs>\r\n <g id=\"figure_1\">\r\n  <g id=\"patch_1\">\r\n   <path d=\"M 0 394.911094 \r\nL 492.027 394.911094 \r\nL 492.027 0 \r\nL 0 0 \r\nz\r\n\" style=\"fill:none;\"/>\r\n  </g>\r\n  <g id=\"axes_1\">\r\n   <g id=\"patch_2\">\r\n    <path d=\"M 166.471875 228.439219 \r\nL 434.311875 228.439219 \r\nL 434.311875 10.999219 \r\nL 166.471875 10.999219 \r\nz\r\n\" style=\"fill:#ffffff;\"/>\r\n   </g>\r\n   <g id=\"QuadMesh_1\">\r\n    <path clip-path=\"url(#p80677b8fd4)\" d=\"M 166.471875 10.999219 \r\nL 204.734732 10.999219 \r\nL 204.734732 42.062076 \r\nL 166.471875 42.062076 \r\nL 166.471875 10.999219 \r\n\" style=\"fill:#faebdd;\"/>\r\n    <path clip-path=\"url(#p80677b8fd4)\" d=\"M 204.734732 10.999219 \r\nL 242.997589 10.999219 \r\nL 242.997589 42.062076 \r\nL 204.734732 42.062076 \r\nL 204.734732 10.999219 \r\n\" style=\"fill:#f7cdb1;\"/>\r\n    <path clip-path=\"url(#p80677b8fd4)\" d=\"M 242.997589 10.999219 \r\nL 281.260446 10.999219 \r\nL 281.260446 42.062076 \r\nL 242.997589 42.062076 \r\nL 242.997589 10.999219 \r\n\" style=\"fill:#f9dfcb;\"/>\r\n    <path clip-path=\"url(#p80677b8fd4)\" d=\"M 281.260446 10.999219 \r\nL 319.523304 10.999219 \r\nL 319.523304 42.062076 \r\nL 281.260446 42.062076 \r\nL 281.260446 10.999219 \r\n\" style=\"fill:#f8dac5;\"/>\r\n    <path clip-path=\"url(#p80677b8fd4)\" d=\"M 319.523304 10.999219 \r\nL 357.786161 10.999219 \r\nL 357.786161 42.062076 \r\nL 319.523304 42.062076 \r\nL 319.523304 10.999219 \r\n\" style=\"fill:#03051a;\"/>\r\n    <path clip-path=\"url(#p80677b8fd4)\" d=\"M 357.786161 10.999219 \r\nL 396.049018 10.999219 \r\nL 396.049018 42.062076 \r\nL 357.786161 42.062076 \r\nL 357.786161 10.999219 \r\n\" style=\"fill:#100b23;\"/>\r\n    <path clip-path=\"url(#p80677b8fd4)\" d=\"M 396.049018 10.999219 \r\nL 434.311875 10.999219 \r\nL 434.311875 42.062076 \r\nL 396.049018 42.062076 \r\nL 396.049018 10.999219 \r\n\" style=\"fill:#180f29;\"/>\r\n    <path clip-path=\"url(#p80677b8fd4)\" d=\"M 166.471875 42.062076 \r\nL 204.734732 42.062076 \r\nL 204.734732 73.124933 \r\nL 166.471875 73.124933 \r\nL 166.471875 42.062076 \r\n\" style=\"fill:#f7cdb1;\"/>\r\n    <path clip-path=\"url(#p80677b8fd4)\" d=\"M 204.734732 42.062076 \r\nL 242.997589 42.062076 \r\nL 242.997589 73.124933 \r\nL 204.734732 73.124933 \r\nL 204.734732 42.062076 \r\n\" style=\"fill:#faebdd;\"/>\r\n    <path clip-path=\"url(#p80677b8fd4)\" d=\"M 242.997589 42.062076 \r\nL 281.260446 42.062076 \r\nL 281.260446 73.124933 \r\nL 242.997589 73.124933 \r\nL 242.997589 42.062076 \r\n\" style=\"fill:#f7c4a4;\"/>\r\n    <path clip-path=\"url(#p80677b8fd4)\" d=\"M 281.260446 42.062076 \r\nL 319.523304 42.062076 \r\nL 319.523304 73.124933 \r\nL 281.260446 73.124933 \r\nL 281.260446 42.062076 \r\n\" style=\"fill:#f6bb97;\"/>\r\n    <path clip-path=\"url(#p80677b8fd4)\" d=\"M 319.523304 42.062076 \r\nL 357.786161 42.062076 \r\nL 357.786161 73.124933 \r\nL 319.523304 73.124933 \r\nL 319.523304 42.062076 \r\n\" style=\"fill:#841e5a;\"/>\r\n    <path clip-path=\"url(#p80677b8fd4)\" d=\"M 357.786161 42.062076 \r\nL 396.049018 42.062076 \r\nL 396.049018 73.124933 \r\nL 357.786161 73.124933 \r\nL 357.786161 42.062076 \r\n\" style=\"fill:#1b112b;\"/>\r\n    <path clip-path=\"url(#p80677b8fd4)\" d=\"M 396.049018 42.062076 \r\nL 434.311875 42.062076 \r\nL 434.311875 73.124933 \r\nL 396.049018 73.124933 \r\nL 396.049018 42.062076 \r\n\" style=\"fill:#1b112b;\"/>\r\n    <path clip-path=\"url(#p80677b8fd4)\" d=\"M 166.471875 73.124933 \r\nL 204.734732 73.124933 \r\nL 204.734732 104.18779 \r\nL 166.471875 104.18779 \r\nL 166.471875 73.124933 \r\n\" style=\"fill:#f9dfcb;\"/>\r\n    <path clip-path=\"url(#p80677b8fd4)\" d=\"M 204.734732 73.124933 \r\nL 242.997589 73.124933 \r\nL 242.997589 104.18779 \r\nL 204.734732 104.18779 \r\nL 204.734732 73.124933 \r\n\" style=\"fill:#f7c4a4;\"/>\r\n    <path clip-path=\"url(#p80677b8fd4)\" d=\"M 242.997589 73.124933 \r\nL 281.260446 73.124933 \r\nL 281.260446 104.18779 \r\nL 242.997589 104.18779 \r\nL 242.997589 73.124933 \r\n\" style=\"fill:#faebdd;\"/>\r\n    <path clip-path=\"url(#p80677b8fd4)\" d=\"M 281.260446 73.124933 \r\nL 319.523304 73.124933 \r\nL 319.523304 104.18779 \r\nL 281.260446 104.18779 \r\nL 281.260446 73.124933 \r\n\" style=\"fill:#fae8d8;\"/>\r\n    <path clip-path=\"url(#p80677b8fd4)\" d=\"M 319.523304 73.124933 \r\nL 357.786161 73.124933 \r\nL 357.786161 104.18779 \r\nL 319.523304 104.18779 \r\nL 319.523304 73.124933 \r\n\" style=\"fill:#100b23;\"/>\r\n    <path clip-path=\"url(#p80677b8fd4)\" d=\"M 357.786161 73.124933 \r\nL 396.049018 73.124933 \r\nL 396.049018 104.18779 \r\nL 357.786161 104.18779 \r\nL 357.786161 73.124933 \r\n\" style=\"fill:#611f53;\"/>\r\n    <path clip-path=\"url(#p80677b8fd4)\" d=\"M 396.049018 73.124933 \r\nL 434.311875 73.124933 \r\nL 434.311875 104.18779 \r\nL 396.049018 104.18779 \r\nL 396.049018 73.124933 \r\n\" style=\"fill:#661f54;\"/>\r\n    <path clip-path=\"url(#p80677b8fd4)\" d=\"M 166.471875 104.18779 \r\nL 204.734732 104.18779 \r\nL 204.734732 135.250647 \r\nL 166.471875 135.250647 \r\nL 166.471875 104.18779 \r\n\" style=\"fill:#f8dac5;\"/>\r\n    <path clip-path=\"url(#p80677b8fd4)\" d=\"M 204.734732 104.18779 \r\nL 242.997589 104.18779 \r\nL 242.997589 135.250647 \r\nL 204.734732 135.250647 \r\nL 204.734732 104.18779 \r\n\" style=\"fill:#f6bb97;\"/>\r\n    <path clip-path=\"url(#p80677b8fd4)\" d=\"M 242.997589 104.18779 \r\nL 281.260446 104.18779 \r\nL 281.260446 135.250647 \r\nL 242.997589 135.250647 \r\nL 242.997589 104.18779 \r\n\" style=\"fill:#fae8d8;\"/>\r\n    <path clip-path=\"url(#p80677b8fd4)\" d=\"M 281.260446 104.18779 \r\nL 319.523304 104.18779 \r\nL 319.523304 135.250647 \r\nL 281.260446 135.250647 \r\nL 281.260446 104.18779 \r\n\" style=\"fill:#faebdd;\"/>\r\n    <path clip-path=\"url(#p80677b8fd4)\" d=\"M 319.523304 104.18779 \r\nL 357.786161 104.18779 \r\nL 357.786161 135.250647 \r\nL 319.523304 135.250647 \r\nL 319.523304 104.18779 \r\n\" style=\"fill:#07071d;\"/>\r\n    <path clip-path=\"url(#p80677b8fd4)\" d=\"M 357.786161 104.18779 \r\nL 396.049018 104.18779 \r\nL 396.049018 135.250647 \r\nL 357.786161 135.250647 \r\nL 357.786161 104.18779 \r\n\" style=\"fill:#631f53;\"/>\r\n    <path clip-path=\"url(#p80677b8fd4)\" d=\"M 396.049018 104.18779 \r\nL 434.311875 104.18779 \r\nL 434.311875 135.250647 \r\nL 396.049018 135.250647 \r\nL 396.049018 104.18779 \r\n\" style=\"fill:#731f58;\"/>\r\n    <path clip-path=\"url(#p80677b8fd4)\" d=\"M 166.471875 135.250647 \r\nL 204.734732 135.250647 \r\nL 204.734732 166.313504 \r\nL 166.471875 166.313504 \r\nL 166.471875 135.250647 \r\n\" style=\"fill:#03051a;\"/>\r\n    <path clip-path=\"url(#p80677b8fd4)\" d=\"M 204.734732 135.250647 \r\nL 242.997589 135.250647 \r\nL 242.997589 166.313504 \r\nL 204.734732 166.313504 \r\nL 204.734732 135.250647 \r\n\" style=\"fill:#841e5a;\"/>\r\n    <path clip-path=\"url(#p80677b8fd4)\" d=\"M 242.997589 135.250647 \r\nL 281.260446 135.250647 \r\nL 281.260446 166.313504 \r\nL 242.997589 166.313504 \r\nL 242.997589 135.250647 \r\n\" style=\"fill:#100b23;\"/>\r\n    <path clip-path=\"url(#p80677b8fd4)\" d=\"M 281.260446 135.250647 \r\nL 319.523304 135.250647 \r\nL 319.523304 166.313504 \r\nL 281.260446 166.313504 \r\nL 281.260446 135.250647 \r\n\" style=\"fill:#07071d;\"/>\r\n    <path clip-path=\"url(#p80677b8fd4)\" d=\"M 319.523304 135.250647 \r\nL 357.786161 135.250647 \r\nL 357.786161 166.313504 \r\nL 319.523304 166.313504 \r\nL 319.523304 135.250647 \r\n\" style=\"fill:#faebdd;\"/>\r\n    <path clip-path=\"url(#p80677b8fd4)\" d=\"M 357.786161 135.250647 \r\nL 396.049018 135.250647 \r\nL 396.049018 166.313504 \r\nL 357.786161 166.313504 \r\nL 357.786161 135.250647 \r\n\" style=\"fill:#611f53;\"/>\r\n    <path clip-path=\"url(#p80677b8fd4)\" d=\"M 396.049018 135.250647 \r\nL 434.311875 135.250647 \r\nL 434.311875 166.313504 \r\nL 396.049018 166.313504 \r\nL 396.049018 135.250647 \r\n\" style=\"fill:#33183c;\"/>\r\n    <path clip-path=\"url(#p80677b8fd4)\" d=\"M 166.471875 166.313504 \r\nL 204.734732 166.313504 \r\nL 204.734732 197.376362 \r\nL 166.471875 197.376362 \r\nL 166.471875 166.313504 \r\n\" style=\"fill:#100b23;\"/>\r\n    <path clip-path=\"url(#p80677b8fd4)\" d=\"M 204.734732 166.313504 \r\nL 242.997589 166.313504 \r\nL 242.997589 197.376362 \r\nL 204.734732 197.376362 \r\nL 204.734732 166.313504 \r\n\" style=\"fill:#1b112b;\"/>\r\n    <path clip-path=\"url(#p80677b8fd4)\" d=\"M 242.997589 166.313504 \r\nL 281.260446 166.313504 \r\nL 281.260446 197.376362 \r\nL 242.997589 197.376362 \r\nL 242.997589 166.313504 \r\n\" style=\"fill:#611f53;\"/>\r\n    <path clip-path=\"url(#p80677b8fd4)\" d=\"M 281.260446 166.313504 \r\nL 319.523304 166.313504 \r\nL 319.523304 197.376362 \r\nL 281.260446 197.376362 \r\nL 281.260446 166.313504 \r\n\" style=\"fill:#631f53;\"/>\r\n    <path clip-path=\"url(#p80677b8fd4)\" d=\"M 319.523304 166.313504 \r\nL 357.786161 166.313504 \r\nL 357.786161 197.376362 \r\nL 319.523304 197.376362 \r\nL 319.523304 166.313504 \r\n\" style=\"fill:#611f53;\"/>\r\n    <path clip-path=\"url(#p80677b8fd4)\" d=\"M 357.786161 166.313504 \r\nL 396.049018 166.313504 \r\nL 396.049018 197.376362 \r\nL 357.786161 197.376362 \r\nL 357.786161 166.313504 \r\n\" style=\"fill:#faebdd;\"/>\r\n    <path clip-path=\"url(#p80677b8fd4)\" d=\"M 396.049018 166.313504 \r\nL 434.311875 166.313504 \r\nL 434.311875 197.376362 \r\nL 396.049018 197.376362 \r\nL 396.049018 166.313504 \r\n\" style=\"fill:#f7cdb1;\"/>\r\n    <path clip-path=\"url(#p80677b8fd4)\" d=\"M 166.471875 197.376362 \r\nL 204.734732 197.376362 \r\nL 204.734732 228.439219 \r\nL 166.471875 228.439219 \r\nL 166.471875 197.376362 \r\n\" style=\"fill:#180f29;\"/>\r\n    <path clip-path=\"url(#p80677b8fd4)\" d=\"M 204.734732 197.376362 \r\nL 242.997589 197.376362 \r\nL 242.997589 228.439219 \r\nL 204.734732 228.439219 \r\nL 204.734732 197.376362 \r\n\" style=\"fill:#1b112b;\"/>\r\n    <path clip-path=\"url(#p80677b8fd4)\" d=\"M 242.997589 197.376362 \r\nL 281.260446 197.376362 \r\nL 281.260446 228.439219 \r\nL 242.997589 228.439219 \r\nL 242.997589 197.376362 \r\n\" style=\"fill:#661f54;\"/>\r\n    <path clip-path=\"url(#p80677b8fd4)\" d=\"M 281.260446 197.376362 \r\nL 319.523304 197.376362 \r\nL 319.523304 228.439219 \r\nL 281.260446 228.439219 \r\nL 281.260446 197.376362 \r\n\" style=\"fill:#731f58;\"/>\r\n    <path clip-path=\"url(#p80677b8fd4)\" d=\"M 319.523304 197.376362 \r\nL 357.786161 197.376362 \r\nL 357.786161 228.439219 \r\nL 319.523304 228.439219 \r\nL 319.523304 197.376362 \r\n\" style=\"fill:#33183c;\"/>\r\n    <path clip-path=\"url(#p80677b8fd4)\" d=\"M 357.786161 197.376362 \r\nL 396.049018 197.376362 \r\nL 396.049018 228.439219 \r\nL 357.786161 228.439219 \r\nL 357.786161 197.376362 \r\n\" style=\"fill:#f7cdb1;\"/>\r\n    <path clip-path=\"url(#p80677b8fd4)\" d=\"M 396.049018 197.376362 \r\nL 434.311875 197.376362 \r\nL 434.311875 228.439219 \r\nL 396.049018 228.439219 \r\nL 396.049018 197.376362 \r\n\" style=\"fill:#faebdd;\"/>\r\n   </g>\r\n   <g id=\"matplotlib.axis_1\">\r\n    <g id=\"xtick_1\">\r\n     <g id=\"line2d_1\">\r\n      <defs>\r\n       <path d=\"M 0 0 \r\nL 0 3.5 \r\n\" id=\"m62a978c3e9\" style=\"stroke:#000000;stroke-width:0.8;\"/>\r\n      </defs>\r\n      <g>\r\n       <use style=\"stroke:#000000;stroke-width:0.8;\" x=\"185.603304\" xlink:href=\"#m62a978c3e9\" y=\"228.439219\"/>\r\n      </g>\r\n     </g>\r\n     <g id=\"text_1\">\r\n      <!-- Population -->\r\n      <g transform=\"translate(188.362679 287.972031)rotate(-90)scale(0.1 -0.1)\">\r\n       <defs>\r\n        <path d=\"M 19.671875 64.796875 \r\nL 19.671875 37.40625 \r\nL 32.078125 37.40625 \r\nQ 38.96875 37.40625 42.71875 40.96875 \r\nQ 46.484375 44.53125 46.484375 51.125 \r\nQ 46.484375 57.671875 42.71875 61.234375 \r\nQ 38.96875 64.796875 32.078125 64.796875 \r\nz\r\nM 9.8125 72.90625 \r\nL 32.078125 72.90625 \r\nQ 44.34375 72.90625 50.609375 67.359375 \r\nQ 56.890625 61.8125 56.890625 51.125 \r\nQ 56.890625 40.328125 50.609375 34.8125 \r\nQ 44.34375 29.296875 32.078125 29.296875 \r\nL 19.671875 29.296875 \r\nL 19.671875 0 \r\nL 9.8125 0 \r\nz\r\n\" id=\"DejaVuSans-80\"/>\r\n        <path d=\"M 30.609375 48.390625 \r\nQ 23.390625 48.390625 19.1875 42.75 \r\nQ 14.984375 37.109375 14.984375 27.296875 \r\nQ 14.984375 17.484375 19.15625 11.84375 \r\nQ 23.34375 6.203125 30.609375 6.203125 \r\nQ 37.796875 6.203125 41.984375 11.859375 \r\nQ 46.1875 17.53125 46.1875 27.296875 \r\nQ 46.1875 37.015625 41.984375 42.703125 \r\nQ 37.796875 48.390625 30.609375 48.390625 \r\nz\r\nM 30.609375 56 \r\nQ 42.328125 56 49.015625 48.375 \r\nQ 55.71875 40.765625 55.71875 27.296875 \r\nQ 55.71875 13.875 49.015625 6.21875 \r\nQ 42.328125 -1.421875 30.609375 -1.421875 \r\nQ 18.84375 -1.421875 12.171875 6.21875 \r\nQ 5.515625 13.875 5.515625 27.296875 \r\nQ 5.515625 40.765625 12.171875 48.375 \r\nQ 18.84375 56 30.609375 56 \r\nz\r\n\" id=\"DejaVuSans-111\"/>\r\n        <path d=\"M 18.109375 8.203125 \r\nL 18.109375 -20.796875 \r\nL 9.078125 -20.796875 \r\nL 9.078125 54.6875 \r\nL 18.109375 54.6875 \r\nL 18.109375 46.390625 \r\nQ 20.953125 51.265625 25.265625 53.625 \r\nQ 29.59375 56 35.59375 56 \r\nQ 45.5625 56 51.78125 48.09375 \r\nQ 58.015625 40.1875 58.015625 27.296875 \r\nQ 58.015625 14.40625 51.78125 6.484375 \r\nQ 45.5625 -1.421875 35.59375 -1.421875 \r\nQ 29.59375 -1.421875 25.265625 0.953125 \r\nQ 20.953125 3.328125 18.109375 8.203125 \r\nz\r\nM 48.6875 27.296875 \r\nQ 48.6875 37.203125 44.609375 42.84375 \r\nQ 40.53125 48.484375 33.40625 48.484375 \r\nQ 26.265625 48.484375 22.1875 42.84375 \r\nQ 18.109375 37.203125 18.109375 27.296875 \r\nQ 18.109375 17.390625 22.1875 11.75 \r\nQ 26.265625 6.109375 33.40625 6.109375 \r\nQ 40.53125 6.109375 44.609375 11.75 \r\nQ 48.6875 17.390625 48.6875 27.296875 \r\nz\r\n\" id=\"DejaVuSans-112\"/>\r\n        <path d=\"M 8.5 21.578125 \r\nL 8.5 54.6875 \r\nL 17.484375 54.6875 \r\nL 17.484375 21.921875 \r\nQ 17.484375 14.15625 20.5 10.265625 \r\nQ 23.53125 6.390625 29.59375 6.390625 \r\nQ 36.859375 6.390625 41.078125 11.03125 \r\nQ 45.3125 15.671875 45.3125 23.6875 \r\nL 45.3125 54.6875 \r\nL 54.296875 54.6875 \r\nL 54.296875 0 \r\nL 45.3125 0 \r\nL 45.3125 8.40625 \r\nQ 42.046875 3.421875 37.71875 1 \r\nQ 33.40625 -1.421875 27.6875 -1.421875 \r\nQ 18.265625 -1.421875 13.375 4.4375 \r\nQ 8.5 10.296875 8.5 21.578125 \r\nz\r\nM 31.109375 56 \r\nz\r\n\" id=\"DejaVuSans-117\"/>\r\n        <path d=\"M 9.421875 75.984375 \r\nL 18.40625 75.984375 \r\nL 18.40625 0 \r\nL 9.421875 0 \r\nz\r\n\" id=\"DejaVuSans-108\"/>\r\n        <path d=\"M 34.28125 27.484375 \r\nQ 23.390625 27.484375 19.1875 25 \r\nQ 14.984375 22.515625 14.984375 16.5 \r\nQ 14.984375 11.71875 18.140625 8.90625 \r\nQ 21.296875 6.109375 26.703125 6.109375 \r\nQ 34.1875 6.109375 38.703125 11.40625 \r\nQ 43.21875 16.703125 43.21875 25.484375 \r\nL 43.21875 27.484375 \r\nz\r\nM 52.203125 31.203125 \r\nL 52.203125 0 \r\nL 43.21875 0 \r\nL 43.21875 8.296875 \r\nQ 40.140625 3.328125 35.546875 0.953125 \r\nQ 30.953125 -1.421875 24.3125 -1.421875 \r\nQ 15.921875 -1.421875 10.953125 3.296875 \r\nQ 6 8.015625 6 15.921875 \r\nQ 6 25.140625 12.171875 29.828125 \r\nQ 18.359375 34.515625 30.609375 34.515625 \r\nL 43.21875 34.515625 \r\nL 43.21875 35.40625 \r\nQ 43.21875 41.609375 39.140625 45 \r\nQ 35.0625 48.390625 27.6875 48.390625 \r\nQ 23 48.390625 18.546875 47.265625 \r\nQ 14.109375 46.140625 10.015625 43.890625 \r\nL 10.015625 52.203125 \r\nQ 14.9375 54.109375 19.578125 55.046875 \r\nQ 24.21875 56 28.609375 56 \r\nQ 40.484375 56 46.34375 49.84375 \r\nQ 52.203125 43.703125 52.203125 31.203125 \r\nz\r\n\" id=\"DejaVuSans-97\"/>\r\n        <path d=\"M 18.3125 70.21875 \r\nL 18.3125 54.6875 \r\nL 36.8125 54.6875 \r\nL 36.8125 47.703125 \r\nL 18.3125 47.703125 \r\nL 18.3125 18.015625 \r\nQ 18.3125 11.328125 20.140625 9.421875 \r\nQ 21.96875 7.515625 27.59375 7.515625 \r\nL 36.8125 7.515625 \r\nL 36.8125 0 \r\nL 27.59375 0 \r\nQ 17.1875 0 13.234375 3.875 \r\nQ 9.28125 7.765625 9.28125 18.015625 \r\nL 9.28125 47.703125 \r\nL 2.6875 47.703125 \r\nL 2.6875 54.6875 \r\nL 9.28125 54.6875 \r\nL 9.28125 70.21875 \r\nz\r\n\" id=\"DejaVuSans-116\"/>\r\n        <path d=\"M 9.421875 54.6875 \r\nL 18.40625 54.6875 \r\nL 18.40625 0 \r\nL 9.421875 0 \r\nz\r\nM 9.421875 75.984375 \r\nL 18.40625 75.984375 \r\nL 18.40625 64.59375 \r\nL 9.421875 64.59375 \r\nz\r\n\" id=\"DejaVuSans-105\"/>\r\n        <path d=\"M 54.890625 33.015625 \r\nL 54.890625 0 \r\nL 45.90625 0 \r\nL 45.90625 32.71875 \r\nQ 45.90625 40.484375 42.875 44.328125 \r\nQ 39.84375 48.1875 33.796875 48.1875 \r\nQ 26.515625 48.1875 22.3125 43.546875 \r\nQ 18.109375 38.921875 18.109375 30.90625 \r\nL 18.109375 0 \r\nL 9.078125 0 \r\nL 9.078125 54.6875 \r\nL 18.109375 54.6875 \r\nL 18.109375 46.1875 \r\nQ 21.34375 51.125 25.703125 53.5625 \r\nQ 30.078125 56 35.796875 56 \r\nQ 45.21875 56 50.046875 50.171875 \r\nQ 54.890625 44.34375 54.890625 33.015625 \r\nz\r\n\" id=\"DejaVuSans-110\"/>\r\n       </defs>\r\n       <use xlink:href=\"#DejaVuSans-80\"/>\r\n       <use x=\"56.677734\" xlink:href=\"#DejaVuSans-111\"/>\r\n       <use x=\"117.859375\" xlink:href=\"#DejaVuSans-112\"/>\r\n       <use x=\"181.335938\" xlink:href=\"#DejaVuSans-117\"/>\r\n       <use x=\"244.714844\" xlink:href=\"#DejaVuSans-108\"/>\r\n       <use x=\"272.498047\" xlink:href=\"#DejaVuSans-97\"/>\r\n       <use x=\"333.777344\" xlink:href=\"#DejaVuSans-116\"/>\r\n       <use x=\"372.986328\" xlink:href=\"#DejaVuSans-105\"/>\r\n       <use x=\"400.769531\" xlink:href=\"#DejaVuSans-111\"/>\r\n       <use x=\"461.951172\" xlink:href=\"#DejaVuSans-110\"/>\r\n      </g>\r\n     </g>\r\n    </g>\r\n    <g id=\"xtick_2\">\r\n     <g id=\"line2d_2\">\r\n      <g>\r\n       <use style=\"stroke:#000000;stroke-width:0.8;\" x=\"223.866161\" xlink:href=\"#m62a978c3e9\" y=\"228.439219\"/>\r\n      </g>\r\n     </g>\r\n     <g id=\"text_2\">\r\n      <!-- CaseCountCumulative -->\r\n      <g transform=\"translate(226.625536 346.684531)rotate(-90)scale(0.1 -0.1)\">\r\n       <defs>\r\n        <path d=\"M 64.40625 67.28125 \r\nL 64.40625 56.890625 \r\nQ 59.421875 61.53125 53.78125 63.8125 \r\nQ 48.140625 66.109375 41.796875 66.109375 \r\nQ 29.296875 66.109375 22.65625 58.46875 \r\nQ 16.015625 50.828125 16.015625 36.375 \r\nQ 16.015625 21.96875 22.65625 14.328125 \r\nQ 29.296875 6.6875 41.796875 6.6875 \r\nQ 48.140625 6.6875 53.78125 8.984375 \r\nQ 59.421875 11.28125 64.40625 15.921875 \r\nL 64.40625 5.609375 \r\nQ 59.234375 2.09375 53.4375 0.328125 \r\nQ 47.65625 -1.421875 41.21875 -1.421875 \r\nQ 24.65625 -1.421875 15.125 8.703125 \r\nQ 5.609375 18.84375 5.609375 36.375 \r\nQ 5.609375 53.953125 15.125 64.078125 \r\nQ 24.65625 74.21875 41.21875 74.21875 \r\nQ 47.75 74.21875 53.53125 72.484375 \r\nQ 59.328125 70.75 64.40625 67.28125 \r\nz\r\n\" id=\"DejaVuSans-67\"/>\r\n        <path d=\"M 44.28125 53.078125 \r\nL 44.28125 44.578125 \r\nQ 40.484375 46.53125 36.375 47.5 \r\nQ 32.28125 48.484375 27.875 48.484375 \r\nQ 21.1875 48.484375 17.84375 46.4375 \r\nQ 14.5 44.390625 14.5 40.28125 \r\nQ 14.5 37.15625 16.890625 35.375 \r\nQ 19.28125 33.59375 26.515625 31.984375 \r\nL 29.59375 31.296875 \r\nQ 39.15625 29.25 43.1875 25.515625 \r\nQ 47.21875 21.78125 47.21875 15.09375 \r\nQ 47.21875 7.46875 41.1875 3.015625 \r\nQ 35.15625 -1.421875 24.609375 -1.421875 \r\nQ 20.21875 -1.421875 15.453125 -0.5625 \r\nQ 10.6875 0.296875 5.421875 2 \r\nL 5.421875 11.28125 \r\nQ 10.40625 8.6875 15.234375 7.390625 \r\nQ 20.0625 6.109375 24.8125 6.109375 \r\nQ 31.15625 6.109375 34.5625 8.28125 \r\nQ 37.984375 10.453125 37.984375 14.40625 \r\nQ 37.984375 18.0625 35.515625 20.015625 \r\nQ 33.0625 21.96875 24.703125 23.78125 \r\nL 21.578125 24.515625 \r\nQ 13.234375 26.265625 9.515625 29.90625 \r\nQ 5.8125 33.546875 5.8125 39.890625 \r\nQ 5.8125 47.609375 11.28125 51.796875 \r\nQ 16.75 56 26.8125 56 \r\nQ 31.78125 56 36.171875 55.265625 \r\nQ 40.578125 54.546875 44.28125 53.078125 \r\nz\r\n\" id=\"DejaVuSans-115\"/>\r\n        <path d=\"M 56.203125 29.59375 \r\nL 56.203125 25.203125 \r\nL 14.890625 25.203125 \r\nQ 15.484375 15.921875 20.484375 11.0625 \r\nQ 25.484375 6.203125 34.421875 6.203125 \r\nQ 39.59375 6.203125 44.453125 7.46875 \r\nQ 49.3125 8.734375 54.109375 11.28125 \r\nL 54.109375 2.78125 \r\nQ 49.265625 0.734375 44.1875 -0.34375 \r\nQ 39.109375 -1.421875 33.890625 -1.421875 \r\nQ 20.796875 -1.421875 13.15625 6.1875 \r\nQ 5.515625 13.8125 5.515625 26.8125 \r\nQ 5.515625 40.234375 12.765625 48.109375 \r\nQ 20.015625 56 32.328125 56 \r\nQ 43.359375 56 49.78125 48.890625 \r\nQ 56.203125 41.796875 56.203125 29.59375 \r\nz\r\nM 47.21875 32.234375 \r\nQ 47.125 39.59375 43.09375 43.984375 \r\nQ 39.0625 48.390625 32.421875 48.390625 \r\nQ 24.90625 48.390625 20.390625 44.140625 \r\nQ 15.875 39.890625 15.1875 32.171875 \r\nz\r\n\" id=\"DejaVuSans-101\"/>\r\n        <path d=\"M 52 44.1875 \r\nQ 55.375 50.25 60.0625 53.125 \r\nQ 64.75 56 71.09375 56 \r\nQ 79.640625 56 84.28125 50.015625 \r\nQ 88.921875 44.046875 88.921875 33.015625 \r\nL 88.921875 0 \r\nL 79.890625 0 \r\nL 79.890625 32.71875 \r\nQ 79.890625 40.578125 77.09375 44.375 \r\nQ 74.3125 48.1875 68.609375 48.1875 \r\nQ 61.625 48.1875 57.5625 43.546875 \r\nQ 53.515625 38.921875 53.515625 30.90625 \r\nL 53.515625 0 \r\nL 44.484375 0 \r\nL 44.484375 32.71875 \r\nQ 44.484375 40.625 41.703125 44.40625 \r\nQ 38.921875 48.1875 33.109375 48.1875 \r\nQ 26.21875 48.1875 22.15625 43.53125 \r\nQ 18.109375 38.875 18.109375 30.90625 \r\nL 18.109375 0 \r\nL 9.078125 0 \r\nL 9.078125 54.6875 \r\nL 18.109375 54.6875 \r\nL 18.109375 46.1875 \r\nQ 21.1875 51.21875 25.484375 53.609375 \r\nQ 29.78125 56 35.6875 56 \r\nQ 41.65625 56 45.828125 52.96875 \r\nQ 50 49.953125 52 44.1875 \r\nz\r\n\" id=\"DejaVuSans-109\"/>\r\n        <path d=\"M 2.984375 54.6875 \r\nL 12.5 54.6875 \r\nL 29.59375 8.796875 \r\nL 46.6875 54.6875 \r\nL 56.203125 54.6875 \r\nL 35.6875 0 \r\nL 23.484375 0 \r\nz\r\n\" id=\"DejaVuSans-118\"/>\r\n       </defs>\r\n       <use xlink:href=\"#DejaVuSans-67\"/>\r\n       <use x=\"69.824219\" xlink:href=\"#DejaVuSans-97\"/>\r\n       <use x=\"131.103516\" xlink:href=\"#DejaVuSans-115\"/>\r\n       <use x=\"183.203125\" xlink:href=\"#DejaVuSans-101\"/>\r\n       <use x=\"244.726562\" xlink:href=\"#DejaVuSans-67\"/>\r\n       <use x=\"314.550781\" xlink:href=\"#DejaVuSans-111\"/>\r\n       <use x=\"375.732422\" xlink:href=\"#DejaVuSans-117\"/>\r\n       <use x=\"439.111328\" xlink:href=\"#DejaVuSans-110\"/>\r\n       <use x=\"502.490234\" xlink:href=\"#DejaVuSans-116\"/>\r\n       <use x=\"541.699219\" xlink:href=\"#DejaVuSans-67\"/>\r\n       <use x=\"611.523438\" xlink:href=\"#DejaVuSans-117\"/>\r\n       <use x=\"674.902344\" xlink:href=\"#DejaVuSans-109\"/>\r\n       <use x=\"772.314453\" xlink:href=\"#DejaVuSans-117\"/>\r\n       <use x=\"835.693359\" xlink:href=\"#DejaVuSans-108\"/>\r\n       <use x=\"863.476562\" xlink:href=\"#DejaVuSans-97\"/>\r\n       <use x=\"924.755859\" xlink:href=\"#DejaVuSans-116\"/>\r\n       <use x=\"963.964844\" xlink:href=\"#DejaVuSans-105\"/>\r\n       <use x=\"991.748047\" xlink:href=\"#DejaVuSans-118\"/>\r\n       <use x=\"1050.927734\" xlink:href=\"#DejaVuSans-101\"/>\r\n      </g>\r\n     </g>\r\n    </g>\r\n    <g id=\"xtick_3\">\r\n     <g id=\"line2d_3\">\r\n      <g>\r\n       <use style=\"stroke:#000000;stroke-width:0.8;\" x=\"262.129018\" xlink:href=\"#m62a978c3e9\" y=\"228.439219\"/>\r\n      </g>\r\n     </g>\r\n     <g id=\"text_3\">\r\n      <!-- CaseCount30 -->\r\n      <g transform=\"translate(264.888393 302.334531)rotate(-90)scale(0.1 -0.1)\">\r\n       <defs>\r\n        <path d=\"M 40.578125 39.3125 \r\nQ 47.65625 37.796875 51.625 33 \r\nQ 55.609375 28.21875 55.609375 21.1875 \r\nQ 55.609375 10.40625 48.1875 4.484375 \r\nQ 40.765625 -1.421875 27.09375 -1.421875 \r\nQ 22.515625 -1.421875 17.65625 -0.515625 \r\nQ 12.796875 0.390625 7.625 2.203125 \r\nL 7.625 11.71875 \r\nQ 11.71875 9.328125 16.59375 8.109375 \r\nQ 21.484375 6.890625 26.8125 6.890625 \r\nQ 36.078125 6.890625 40.9375 10.546875 \r\nQ 45.796875 14.203125 45.796875 21.1875 \r\nQ 45.796875 27.640625 41.28125 31.265625 \r\nQ 36.765625 34.90625 28.71875 34.90625 \r\nL 20.21875 34.90625 \r\nL 20.21875 43.015625 \r\nL 29.109375 43.015625 \r\nQ 36.375 43.015625 40.234375 45.921875 \r\nQ 44.09375 48.828125 44.09375 54.296875 \r\nQ 44.09375 59.90625 40.109375 62.90625 \r\nQ 36.140625 65.921875 28.71875 65.921875 \r\nQ 24.65625 65.921875 20.015625 65.03125 \r\nQ 15.375 64.15625 9.8125 62.3125 \r\nL 9.8125 71.09375 \r\nQ 15.4375 72.65625 20.34375 73.4375 \r\nQ 25.25 74.21875 29.59375 74.21875 \r\nQ 40.828125 74.21875 47.359375 69.109375 \r\nQ 53.90625 64.015625 53.90625 55.328125 \r\nQ 53.90625 49.265625 50.4375 45.09375 \r\nQ 46.96875 40.921875 40.578125 39.3125 \r\nz\r\n\" id=\"DejaVuSans-51\"/>\r\n        <path d=\"M 31.78125 66.40625 \r\nQ 24.171875 66.40625 20.328125 58.90625 \r\nQ 16.5 51.421875 16.5 36.375 \r\nQ 16.5 21.390625 20.328125 13.890625 \r\nQ 24.171875 6.390625 31.78125 6.390625 \r\nQ 39.453125 6.390625 43.28125 13.890625 \r\nQ 47.125 21.390625 47.125 36.375 \r\nQ 47.125 51.421875 43.28125 58.90625 \r\nQ 39.453125 66.40625 31.78125 66.40625 \r\nz\r\nM 31.78125 74.21875 \r\nQ 44.046875 74.21875 50.515625 64.515625 \r\nQ 56.984375 54.828125 56.984375 36.375 \r\nQ 56.984375 17.96875 50.515625 8.265625 \r\nQ 44.046875 -1.421875 31.78125 -1.421875 \r\nQ 19.53125 -1.421875 13.0625 8.265625 \r\nQ 6.59375 17.96875 6.59375 36.375 \r\nQ 6.59375 54.828125 13.0625 64.515625 \r\nQ 19.53125 74.21875 31.78125 74.21875 \r\nz\r\n\" id=\"DejaVuSans-48\"/>\r\n       </defs>\r\n       <use xlink:href=\"#DejaVuSans-67\"/>\r\n       <use x=\"69.824219\" xlink:href=\"#DejaVuSans-97\"/>\r\n       <use x=\"131.103516\" xlink:href=\"#DejaVuSans-115\"/>\r\n       <use x=\"183.203125\" xlink:href=\"#DejaVuSans-101\"/>\r\n       <use x=\"244.726562\" xlink:href=\"#DejaVuSans-67\"/>\r\n       <use x=\"314.550781\" xlink:href=\"#DejaVuSans-111\"/>\r\n       <use x=\"375.732422\" xlink:href=\"#DejaVuSans-117\"/>\r\n       <use x=\"439.111328\" xlink:href=\"#DejaVuSans-110\"/>\r\n       <use x=\"502.490234\" xlink:href=\"#DejaVuSans-116\"/>\r\n       <use x=\"541.699219\" xlink:href=\"#DejaVuSans-51\"/>\r\n       <use x=\"605.322266\" xlink:href=\"#DejaVuSans-48\"/>\r\n      </g>\r\n     </g>\r\n    </g>\r\n    <g id=\"xtick_4\">\r\n     <g id=\"line2d_4\">\r\n      <g>\r\n       <use style=\"stroke:#000000;stroke-width:0.8;\" x=\"300.391875\" xlink:href=\"#m62a978c3e9\" y=\"228.439219\"/>\r\n      </g>\r\n     </g>\r\n     <g id=\"text_4\">\r\n      <!-- CaseCount14 -->\r\n      <g transform=\"translate(303.15125 302.334531)rotate(-90)scale(0.1 -0.1)\">\r\n       <defs>\r\n        <path d=\"M 12.40625 8.296875 \r\nL 28.515625 8.296875 \r\nL 28.515625 63.921875 \r\nL 10.984375 60.40625 \r\nL 10.984375 69.390625 \r\nL 28.421875 72.90625 \r\nL 38.28125 72.90625 \r\nL 38.28125 8.296875 \r\nL 54.390625 8.296875 \r\nL 54.390625 0 \r\nL 12.40625 0 \r\nz\r\n\" id=\"DejaVuSans-49\"/>\r\n        <path d=\"M 37.796875 64.3125 \r\nL 12.890625 25.390625 \r\nL 37.796875 25.390625 \r\nz\r\nM 35.203125 72.90625 \r\nL 47.609375 72.90625 \r\nL 47.609375 25.390625 \r\nL 58.015625 25.390625 \r\nL 58.015625 17.1875 \r\nL 47.609375 17.1875 \r\nL 47.609375 0 \r\nL 37.796875 0 \r\nL 37.796875 17.1875 \r\nL 4.890625 17.1875 \r\nL 4.890625 26.703125 \r\nz\r\n\" id=\"DejaVuSans-52\"/>\r\n       </defs>\r\n       <use xlink:href=\"#DejaVuSans-67\"/>\r\n       <use x=\"69.824219\" xlink:href=\"#DejaVuSans-97\"/>\r\n       <use x=\"131.103516\" xlink:href=\"#DejaVuSans-115\"/>\r\n       <use x=\"183.203125\" xlink:href=\"#DejaVuSans-101\"/>\r\n       <use x=\"244.726562\" xlink:href=\"#DejaVuSans-67\"/>\r\n       <use x=\"314.550781\" xlink:href=\"#DejaVuSans-111\"/>\r\n       <use x=\"375.732422\" xlink:href=\"#DejaVuSans-117\"/>\r\n       <use x=\"439.111328\" xlink:href=\"#DejaVuSans-110\"/>\r\n       <use x=\"502.490234\" xlink:href=\"#DejaVuSans-116\"/>\r\n       <use x=\"541.699219\" xlink:href=\"#DejaVuSans-49\"/>\r\n       <use x=\"605.322266\" xlink:href=\"#DejaVuSans-52\"/>\r\n      </g>\r\n     </g>\r\n    </g>\r\n    <g id=\"xtick_5\">\r\n     <g id=\"line2d_5\">\r\n      <g>\r\n       <use style=\"stroke:#000000;stroke-width:0.8;\" x=\"338.654732\" xlink:href=\"#m62a978c3e9\" y=\"228.439219\"/>\r\n      </g>\r\n     </g>\r\n     <g id=\"text_5\">\r\n      <!-- CaseCountPer100KCumulative -->\r\n      <g transform=\"translate(341.414107 387.711094)rotate(-90)scale(0.1 -0.1)\">\r\n       <defs>\r\n        <path d=\"M 41.109375 46.296875 \r\nQ 39.59375 47.171875 37.8125 47.578125 \r\nQ 36.03125 48 33.890625 48 \r\nQ 26.265625 48 22.1875 43.046875 \r\nQ 18.109375 38.09375 18.109375 28.8125 \r\nL 18.109375 0 \r\nL 9.078125 0 \r\nL 9.078125 54.6875 \r\nL 18.109375 54.6875 \r\nL 18.109375 46.1875 \r\nQ 20.953125 51.171875 25.484375 53.578125 \r\nQ 30.03125 56 36.53125 56 \r\nQ 37.453125 56 38.578125 55.875 \r\nQ 39.703125 55.765625 41.0625 55.515625 \r\nz\r\n\" id=\"DejaVuSans-114\"/>\r\n        <path d=\"M 9.8125 72.90625 \r\nL 19.671875 72.90625 \r\nL 19.671875 42.09375 \r\nL 52.390625 72.90625 \r\nL 65.09375 72.90625 \r\nL 28.90625 38.921875 \r\nL 67.671875 0 \r\nL 54.6875 0 \r\nL 19.671875 35.109375 \r\nL 19.671875 0 \r\nL 9.8125 0 \r\nz\r\n\" id=\"DejaVuSans-75\"/>\r\n       </defs>\r\n       <use xlink:href=\"#DejaVuSans-67\"/>\r\n       <use x=\"69.824219\" xlink:href=\"#DejaVuSans-97\"/>\r\n       <use x=\"131.103516\" xlink:href=\"#DejaVuSans-115\"/>\r\n       <use x=\"183.203125\" xlink:href=\"#DejaVuSans-101\"/>\r\n       <use x=\"244.726562\" xlink:href=\"#DejaVuSans-67\"/>\r\n       <use x=\"314.550781\" xlink:href=\"#DejaVuSans-111\"/>\r\n       <use x=\"375.732422\" xlink:href=\"#DejaVuSans-117\"/>\r\n       <use x=\"439.111328\" xlink:href=\"#DejaVuSans-110\"/>\r\n       <use x=\"502.490234\" xlink:href=\"#DejaVuSans-116\"/>\r\n       <use x=\"541.699219\" xlink:href=\"#DejaVuSans-80\"/>\r\n       <use x=\"598.376953\" xlink:href=\"#DejaVuSans-101\"/>\r\n       <use x=\"659.900391\" xlink:href=\"#DejaVuSans-114\"/>\r\n       <use x=\"701.013672\" xlink:href=\"#DejaVuSans-49\"/>\r\n       <use x=\"764.636719\" xlink:href=\"#DejaVuSans-48\"/>\r\n       <use x=\"828.259766\" xlink:href=\"#DejaVuSans-48\"/>\r\n       <use x=\"891.882812\" xlink:href=\"#DejaVuSans-75\"/>\r\n       <use x=\"951.958984\" xlink:href=\"#DejaVuSans-67\"/>\r\n       <use x=\"1021.783203\" xlink:href=\"#DejaVuSans-117\"/>\r\n       <use x=\"1085.162109\" xlink:href=\"#DejaVuSans-109\"/>\r\n       <use x=\"1182.574219\" xlink:href=\"#DejaVuSans-117\"/>\r\n       <use x=\"1245.953125\" xlink:href=\"#DejaVuSans-108\"/>\r\n       <use x=\"1273.736328\" xlink:href=\"#DejaVuSans-97\"/>\r\n       <use x=\"1335.015625\" xlink:href=\"#DejaVuSans-116\"/>\r\n       <use x=\"1374.224609\" xlink:href=\"#DejaVuSans-105\"/>\r\n       <use x=\"1402.007812\" xlink:href=\"#DejaVuSans-118\"/>\r\n       <use x=\"1461.1875\" xlink:href=\"#DejaVuSans-101\"/>\r\n      </g>\r\n     </g>\r\n    </g>\r\n    <g id=\"xtick_6\">\r\n     <g id=\"line2d_6\">\r\n      <g>\r\n       <use style=\"stroke:#000000;stroke-width:0.8;\" x=\"376.917589\" xlink:href=\"#m62a978c3e9\" y=\"228.439219\"/>\r\n      </g>\r\n     </g>\r\n     <g id=\"text_6\">\r\n      <!-- CaseCountPer100K30 -->\r\n      <g transform=\"translate(379.676964 343.911094)rotate(-90)scale(0.1 -0.1)\">\r\n       <use xlink:href=\"#DejaVuSans-67\"/>\r\n       <use x=\"69.824219\" xlink:href=\"#DejaVuSans-97\"/>\r\n       <use x=\"131.103516\" xlink:href=\"#DejaVuSans-115\"/>\r\n       <use x=\"183.203125\" xlink:href=\"#DejaVuSans-101\"/>\r\n       <use x=\"244.726562\" xlink:href=\"#DejaVuSans-67\"/>\r\n       <use x=\"314.550781\" xlink:href=\"#DejaVuSans-111\"/>\r\n       <use x=\"375.732422\" xlink:href=\"#DejaVuSans-117\"/>\r\n       <use x=\"439.111328\" xlink:href=\"#DejaVuSans-110\"/>\r\n       <use x=\"502.490234\" xlink:href=\"#DejaVuSans-116\"/>\r\n       <use x=\"541.699219\" xlink:href=\"#DejaVuSans-80\"/>\r\n       <use x=\"598.376953\" xlink:href=\"#DejaVuSans-101\"/>\r\n       <use x=\"659.900391\" xlink:href=\"#DejaVuSans-114\"/>\r\n       <use x=\"701.013672\" xlink:href=\"#DejaVuSans-49\"/>\r\n       <use x=\"764.636719\" xlink:href=\"#DejaVuSans-48\"/>\r\n       <use x=\"828.259766\" xlink:href=\"#DejaVuSans-48\"/>\r\n       <use x=\"891.882812\" xlink:href=\"#DejaVuSans-75\"/>\r\n       <use x=\"957.458984\" xlink:href=\"#DejaVuSans-51\"/>\r\n       <use x=\"1021.082031\" xlink:href=\"#DejaVuSans-48\"/>\r\n      </g>\r\n     </g>\r\n    </g>\r\n    <g id=\"xtick_7\">\r\n     <g id=\"line2d_7\">\r\n      <g>\r\n       <use style=\"stroke:#000000;stroke-width:0.8;\" x=\"415.180446\" xlink:href=\"#m62a978c3e9\" y=\"228.439219\"/>\r\n      </g>\r\n     </g>\r\n     <g id=\"text_7\">\r\n      <!-- CaseCountPer100K14 -->\r\n      <g transform=\"translate(417.939821 343.911094)rotate(-90)scale(0.1 -0.1)\">\r\n       <use xlink:href=\"#DejaVuSans-67\"/>\r\n       <use x=\"69.824219\" xlink:href=\"#DejaVuSans-97\"/>\r\n       <use x=\"131.103516\" xlink:href=\"#DejaVuSans-115\"/>\r\n       <use x=\"183.203125\" xlink:href=\"#DejaVuSans-101\"/>\r\n       <use x=\"244.726562\" xlink:href=\"#DejaVuSans-67\"/>\r\n       <use x=\"314.550781\" xlink:href=\"#DejaVuSans-111\"/>\r\n       <use x=\"375.732422\" xlink:href=\"#DejaVuSans-117\"/>\r\n       <use x=\"439.111328\" xlink:href=\"#DejaVuSans-110\"/>\r\n       <use x=\"502.490234\" xlink:href=\"#DejaVuSans-116\"/>\r\n       <use x=\"541.699219\" xlink:href=\"#DejaVuSans-80\"/>\r\n       <use x=\"598.376953\" xlink:href=\"#DejaVuSans-101\"/>\r\n       <use x=\"659.900391\" xlink:href=\"#DejaVuSans-114\"/>\r\n       <use x=\"701.013672\" xlink:href=\"#DejaVuSans-49\"/>\r\n       <use x=\"764.636719\" xlink:href=\"#DejaVuSans-48\"/>\r\n       <use x=\"828.259766\" xlink:href=\"#DejaVuSans-48\"/>\r\n       <use x=\"891.882812\" xlink:href=\"#DejaVuSans-75\"/>\r\n       <use x=\"957.458984\" xlink:href=\"#DejaVuSans-49\"/>\r\n       <use x=\"1021.082031\" xlink:href=\"#DejaVuSans-52\"/>\r\n      </g>\r\n     </g>\r\n    </g>\r\n   </g>\r\n   <g id=\"matplotlib.axis_2\">\r\n    <g id=\"ytick_1\">\r\n     <g id=\"line2d_8\">\r\n      <defs>\r\n       <path d=\"M 0 0 \r\nL -3.5 0 \r\n\" id=\"ma015513aab\" style=\"stroke:#000000;stroke-width:0.8;\"/>\r\n      </defs>\r\n      <g>\r\n       <use style=\"stroke:#000000;stroke-width:0.8;\" x=\"166.471875\" xlink:href=\"#ma015513aab\" y=\"26.530647\"/>\r\n      </g>\r\n     </g>\r\n     <g id=\"text_8\">\r\n      <!-- Population -->\r\n      <g transform=\"translate(106.939062 30.329866)scale(0.1 -0.1)\">\r\n       <use xlink:href=\"#DejaVuSans-80\"/>\r\n       <use x=\"56.677734\" xlink:href=\"#DejaVuSans-111\"/>\r\n       <use x=\"117.859375\" xlink:href=\"#DejaVuSans-112\"/>\r\n       <use x=\"181.335938\" xlink:href=\"#DejaVuSans-117\"/>\r\n       <use x=\"244.714844\" xlink:href=\"#DejaVuSans-108\"/>\r\n       <use x=\"272.498047\" xlink:href=\"#DejaVuSans-97\"/>\r\n       <use x=\"333.777344\" xlink:href=\"#DejaVuSans-116\"/>\r\n       <use x=\"372.986328\" xlink:href=\"#DejaVuSans-105\"/>\r\n       <use x=\"400.769531\" xlink:href=\"#DejaVuSans-111\"/>\r\n       <use x=\"461.951172\" xlink:href=\"#DejaVuSans-110\"/>\r\n      </g>\r\n     </g>\r\n    </g>\r\n    <g id=\"ytick_2\">\r\n     <g id=\"line2d_9\">\r\n      <g>\r\n       <use style=\"stroke:#000000;stroke-width:0.8;\" x=\"166.471875\" xlink:href=\"#ma015513aab\" y=\"57.593504\"/>\r\n      </g>\r\n     </g>\r\n     <g id=\"text_9\">\r\n      <!-- CaseCountCumulative -->\r\n      <g transform=\"translate(48.226562 61.392723)scale(0.1 -0.1)\">\r\n       <use xlink:href=\"#DejaVuSans-67\"/>\r\n       <use x=\"69.824219\" xlink:href=\"#DejaVuSans-97\"/>\r\n       <use x=\"131.103516\" xlink:href=\"#DejaVuSans-115\"/>\r\n       <use x=\"183.203125\" xlink:href=\"#DejaVuSans-101\"/>\r\n       <use x=\"244.726562\" xlink:href=\"#DejaVuSans-67\"/>\r\n       <use x=\"314.550781\" xlink:href=\"#DejaVuSans-111\"/>\r\n       <use x=\"375.732422\" xlink:href=\"#DejaVuSans-117\"/>\r\n       <use x=\"439.111328\" xlink:href=\"#DejaVuSans-110\"/>\r\n       <use x=\"502.490234\" xlink:href=\"#DejaVuSans-116\"/>\r\n       <use x=\"541.699219\" xlink:href=\"#DejaVuSans-67\"/>\r\n       <use x=\"611.523438\" xlink:href=\"#DejaVuSans-117\"/>\r\n       <use x=\"674.902344\" xlink:href=\"#DejaVuSans-109\"/>\r\n       <use x=\"772.314453\" xlink:href=\"#DejaVuSans-117\"/>\r\n       <use x=\"835.693359\" xlink:href=\"#DejaVuSans-108\"/>\r\n       <use x=\"863.476562\" xlink:href=\"#DejaVuSans-97\"/>\r\n       <use x=\"924.755859\" xlink:href=\"#DejaVuSans-116\"/>\r\n       <use x=\"963.964844\" xlink:href=\"#DejaVuSans-105\"/>\r\n       <use x=\"991.748047\" xlink:href=\"#DejaVuSans-118\"/>\r\n       <use x=\"1050.927734\" xlink:href=\"#DejaVuSans-101\"/>\r\n      </g>\r\n     </g>\r\n    </g>\r\n    <g id=\"ytick_3\">\r\n     <g id=\"line2d_10\">\r\n      <g>\r\n       <use style=\"stroke:#000000;stroke-width:0.8;\" x=\"166.471875\" xlink:href=\"#ma015513aab\" y=\"88.656362\"/>\r\n      </g>\r\n     </g>\r\n     <g id=\"text_10\">\r\n      <!-- CaseCount30 -->\r\n      <g transform=\"translate(92.576562 92.45558)scale(0.1 -0.1)\">\r\n       <use xlink:href=\"#DejaVuSans-67\"/>\r\n       <use x=\"69.824219\" xlink:href=\"#DejaVuSans-97\"/>\r\n       <use x=\"131.103516\" xlink:href=\"#DejaVuSans-115\"/>\r\n       <use x=\"183.203125\" xlink:href=\"#DejaVuSans-101\"/>\r\n       <use x=\"244.726562\" xlink:href=\"#DejaVuSans-67\"/>\r\n       <use x=\"314.550781\" xlink:href=\"#DejaVuSans-111\"/>\r\n       <use x=\"375.732422\" xlink:href=\"#DejaVuSans-117\"/>\r\n       <use x=\"439.111328\" xlink:href=\"#DejaVuSans-110\"/>\r\n       <use x=\"502.490234\" xlink:href=\"#DejaVuSans-116\"/>\r\n       <use x=\"541.699219\" xlink:href=\"#DejaVuSans-51\"/>\r\n       <use x=\"605.322266\" xlink:href=\"#DejaVuSans-48\"/>\r\n      </g>\r\n     </g>\r\n    </g>\r\n    <g id=\"ytick_4\">\r\n     <g id=\"line2d_11\">\r\n      <g>\r\n       <use style=\"stroke:#000000;stroke-width:0.8;\" x=\"166.471875\" xlink:href=\"#ma015513aab\" y=\"119.719219\"/>\r\n      </g>\r\n     </g>\r\n     <g id=\"text_11\">\r\n      <!-- CaseCount14 -->\r\n      <g transform=\"translate(92.576562 123.518438)scale(0.1 -0.1)\">\r\n       <use xlink:href=\"#DejaVuSans-67\"/>\r\n       <use x=\"69.824219\" xlink:href=\"#DejaVuSans-97\"/>\r\n       <use x=\"131.103516\" xlink:href=\"#DejaVuSans-115\"/>\r\n       <use x=\"183.203125\" xlink:href=\"#DejaVuSans-101\"/>\r\n       <use x=\"244.726562\" xlink:href=\"#DejaVuSans-67\"/>\r\n       <use x=\"314.550781\" xlink:href=\"#DejaVuSans-111\"/>\r\n       <use x=\"375.732422\" xlink:href=\"#DejaVuSans-117\"/>\r\n       <use x=\"439.111328\" xlink:href=\"#DejaVuSans-110\"/>\r\n       <use x=\"502.490234\" xlink:href=\"#DejaVuSans-116\"/>\r\n       <use x=\"541.699219\" xlink:href=\"#DejaVuSans-49\"/>\r\n       <use x=\"605.322266\" xlink:href=\"#DejaVuSans-52\"/>\r\n      </g>\r\n     </g>\r\n    </g>\r\n    <g id=\"ytick_5\">\r\n     <g id=\"line2d_12\">\r\n      <g>\r\n       <use style=\"stroke:#000000;stroke-width:0.8;\" x=\"166.471875\" xlink:href=\"#ma015513aab\" y=\"150.782076\"/>\r\n      </g>\r\n     </g>\r\n     <g id=\"text_12\">\r\n      <!-- CaseCountPer100KCumulative -->\r\n      <g transform=\"translate(7.2 154.581295)scale(0.1 -0.1)\">\r\n       <use xlink:href=\"#DejaVuSans-67\"/>\r\n       <use x=\"69.824219\" xlink:href=\"#DejaVuSans-97\"/>\r\n       <use x=\"131.103516\" xlink:href=\"#DejaVuSans-115\"/>\r\n       <use x=\"183.203125\" xlink:href=\"#DejaVuSans-101\"/>\r\n       <use x=\"244.726562\" xlink:href=\"#DejaVuSans-67\"/>\r\n       <use x=\"314.550781\" xlink:href=\"#DejaVuSans-111\"/>\r\n       <use x=\"375.732422\" xlink:href=\"#DejaVuSans-117\"/>\r\n       <use x=\"439.111328\" xlink:href=\"#DejaVuSans-110\"/>\r\n       <use x=\"502.490234\" xlink:href=\"#DejaVuSans-116\"/>\r\n       <use x=\"541.699219\" xlink:href=\"#DejaVuSans-80\"/>\r\n       <use x=\"598.376953\" xlink:href=\"#DejaVuSans-101\"/>\r\n       <use x=\"659.900391\" xlink:href=\"#DejaVuSans-114\"/>\r\n       <use x=\"701.013672\" xlink:href=\"#DejaVuSans-49\"/>\r\n       <use x=\"764.636719\" xlink:href=\"#DejaVuSans-48\"/>\r\n       <use x=\"828.259766\" xlink:href=\"#DejaVuSans-48\"/>\r\n       <use x=\"891.882812\" xlink:href=\"#DejaVuSans-75\"/>\r\n       <use x=\"951.958984\" xlink:href=\"#DejaVuSans-67\"/>\r\n       <use x=\"1021.783203\" xlink:href=\"#DejaVuSans-117\"/>\r\n       <use x=\"1085.162109\" xlink:href=\"#DejaVuSans-109\"/>\r\n       <use x=\"1182.574219\" xlink:href=\"#DejaVuSans-117\"/>\r\n       <use x=\"1245.953125\" xlink:href=\"#DejaVuSans-108\"/>\r\n       <use x=\"1273.736328\" xlink:href=\"#DejaVuSans-97\"/>\r\n       <use x=\"1335.015625\" xlink:href=\"#DejaVuSans-116\"/>\r\n       <use x=\"1374.224609\" xlink:href=\"#DejaVuSans-105\"/>\r\n       <use x=\"1402.007812\" xlink:href=\"#DejaVuSans-118\"/>\r\n       <use x=\"1461.1875\" xlink:href=\"#DejaVuSans-101\"/>\r\n      </g>\r\n     </g>\r\n    </g>\r\n    <g id=\"ytick_6\">\r\n     <g id=\"line2d_13\">\r\n      <g>\r\n       <use style=\"stroke:#000000;stroke-width:0.8;\" x=\"166.471875\" xlink:href=\"#ma015513aab\" y=\"181.844933\"/>\r\n      </g>\r\n     </g>\r\n     <g id=\"text_13\">\r\n      <!-- CaseCountPer100K30 -->\r\n      <g transform=\"translate(51 185.644152)scale(0.1 -0.1)\">\r\n       <use xlink:href=\"#DejaVuSans-67\"/>\r\n       <use x=\"69.824219\" xlink:href=\"#DejaVuSans-97\"/>\r\n       <use x=\"131.103516\" xlink:href=\"#DejaVuSans-115\"/>\r\n       <use x=\"183.203125\" xlink:href=\"#DejaVuSans-101\"/>\r\n       <use x=\"244.726562\" xlink:href=\"#DejaVuSans-67\"/>\r\n       <use x=\"314.550781\" xlink:href=\"#DejaVuSans-111\"/>\r\n       <use x=\"375.732422\" xlink:href=\"#DejaVuSans-117\"/>\r\n       <use x=\"439.111328\" xlink:href=\"#DejaVuSans-110\"/>\r\n       <use x=\"502.490234\" xlink:href=\"#DejaVuSans-116\"/>\r\n       <use x=\"541.699219\" xlink:href=\"#DejaVuSans-80\"/>\r\n       <use x=\"598.376953\" xlink:href=\"#DejaVuSans-101\"/>\r\n       <use x=\"659.900391\" xlink:href=\"#DejaVuSans-114\"/>\r\n       <use x=\"701.013672\" xlink:href=\"#DejaVuSans-49\"/>\r\n       <use x=\"764.636719\" xlink:href=\"#DejaVuSans-48\"/>\r\n       <use x=\"828.259766\" xlink:href=\"#DejaVuSans-48\"/>\r\n       <use x=\"891.882812\" xlink:href=\"#DejaVuSans-75\"/>\r\n       <use x=\"957.458984\" xlink:href=\"#DejaVuSans-51\"/>\r\n       <use x=\"1021.082031\" xlink:href=\"#DejaVuSans-48\"/>\r\n      </g>\r\n     </g>\r\n    </g>\r\n    <g id=\"ytick_7\">\r\n     <g id=\"line2d_14\">\r\n      <g>\r\n       <use style=\"stroke:#000000;stroke-width:0.8;\" x=\"166.471875\" xlink:href=\"#ma015513aab\" y=\"212.90779\"/>\r\n      </g>\r\n     </g>\r\n     <g id=\"text_14\">\r\n      <!-- CaseCountPer100K14 -->\r\n      <g transform=\"translate(51 216.707009)scale(0.1 -0.1)\">\r\n       <use xlink:href=\"#DejaVuSans-67\"/>\r\n       <use x=\"69.824219\" xlink:href=\"#DejaVuSans-97\"/>\r\n       <use x=\"131.103516\" xlink:href=\"#DejaVuSans-115\"/>\r\n       <use x=\"183.203125\" xlink:href=\"#DejaVuSans-101\"/>\r\n       <use x=\"244.726562\" xlink:href=\"#DejaVuSans-67\"/>\r\n       <use x=\"314.550781\" xlink:href=\"#DejaVuSans-111\"/>\r\n       <use x=\"375.732422\" xlink:href=\"#DejaVuSans-117\"/>\r\n       <use x=\"439.111328\" xlink:href=\"#DejaVuSans-110\"/>\r\n       <use x=\"502.490234\" xlink:href=\"#DejaVuSans-116\"/>\r\n       <use x=\"541.699219\" xlink:href=\"#DejaVuSans-80\"/>\r\n       <use x=\"598.376953\" xlink:href=\"#DejaVuSans-101\"/>\r\n       <use x=\"659.900391\" xlink:href=\"#DejaVuSans-114\"/>\r\n       <use x=\"701.013672\" xlink:href=\"#DejaVuSans-49\"/>\r\n       <use x=\"764.636719\" xlink:href=\"#DejaVuSans-48\"/>\r\n       <use x=\"828.259766\" xlink:href=\"#DejaVuSans-48\"/>\r\n       <use x=\"891.882812\" xlink:href=\"#DejaVuSans-75\"/>\r\n       <use x=\"957.458984\" xlink:href=\"#DejaVuSans-49\"/>\r\n       <use x=\"1021.082031\" xlink:href=\"#DejaVuSans-52\"/>\r\n      </g>\r\n     </g>\r\n    </g>\r\n   </g>\r\n   <g id=\"text_15\">\r\n    <!-- 1 -->\r\n    <g style=\"fill:#262626;\" transform=\"translate(182.422054 29.290022)scale(0.1 -0.1)\">\r\n     <use xlink:href=\"#DejaVuSans-49\"/>\r\n    </g>\r\n   </g>\r\n   <g id=\"text_16\">\r\n    <!-- 0.91 -->\r\n    <g style=\"fill:#262626;\" transform=\"translate(212.733348 29.290022)scale(0.1 -0.1)\">\r\n     <defs>\r\n      <path d=\"M 10.6875 12.40625 \r\nL 21 12.40625 \r\nL 21 0 \r\nL 10.6875 0 \r\nz\r\n\" id=\"DejaVuSans-46\"/>\r\n      <path d=\"M 10.984375 1.515625 \r\nL 10.984375 10.5 \r\nQ 14.703125 8.734375 18.5 7.8125 \r\nQ 22.3125 6.890625 25.984375 6.890625 \r\nQ 35.75 6.890625 40.890625 13.453125 \r\nQ 46.046875 20.015625 46.78125 33.40625 \r\nQ 43.953125 29.203125 39.59375 26.953125 \r\nQ 35.25 24.703125 29.984375 24.703125 \r\nQ 19.046875 24.703125 12.671875 31.3125 \r\nQ 6.296875 37.9375 6.296875 49.421875 \r\nQ 6.296875 60.640625 12.9375 67.421875 \r\nQ 19.578125 74.21875 30.609375 74.21875 \r\nQ 43.265625 74.21875 49.921875 64.515625 \r\nQ 56.59375 54.828125 56.59375 36.375 \r\nQ 56.59375 19.140625 48.40625 8.859375 \r\nQ 40.234375 -1.421875 26.421875 -1.421875 \r\nQ 22.703125 -1.421875 18.890625 -0.6875 \r\nQ 15.09375 0.046875 10.984375 1.515625 \r\nz\r\nM 30.609375 32.421875 \r\nQ 37.25 32.421875 41.125 36.953125 \r\nQ 45.015625 41.5 45.015625 49.421875 \r\nQ 45.015625 57.28125 41.125 61.84375 \r\nQ 37.25 66.40625 30.609375 66.40625 \r\nQ 23.96875 66.40625 20.09375 61.84375 \r\nQ 16.21875 57.28125 16.21875 49.421875 \r\nQ 16.21875 41.5 20.09375 36.953125 \r\nQ 23.96875 32.421875 30.609375 32.421875 \r\nz\r\n\" id=\"DejaVuSans-57\"/>\r\n     </defs>\r\n     <use xlink:href=\"#DejaVuSans-48\"/>\r\n     <use x=\"63.623047\" xlink:href=\"#DejaVuSans-46\"/>\r\n     <use x=\"95.410156\" xlink:href=\"#DejaVuSans-57\"/>\r\n     <use x=\"159.033203\" xlink:href=\"#DejaVuSans-49\"/>\r\n    </g>\r\n   </g>\r\n   <g id=\"text_17\">\r\n    <!-- 0.96 -->\r\n    <g style=\"fill:#262626;\" transform=\"translate(250.996205 29.290022)scale(0.1 -0.1)\">\r\n     <defs>\r\n      <path d=\"M 33.015625 40.375 \r\nQ 26.375 40.375 22.484375 35.828125 \r\nQ 18.609375 31.296875 18.609375 23.390625 \r\nQ 18.609375 15.53125 22.484375 10.953125 \r\nQ 26.375 6.390625 33.015625 6.390625 \r\nQ 39.65625 6.390625 43.53125 10.953125 \r\nQ 47.40625 15.53125 47.40625 23.390625 \r\nQ 47.40625 31.296875 43.53125 35.828125 \r\nQ 39.65625 40.375 33.015625 40.375 \r\nz\r\nM 52.59375 71.296875 \r\nL 52.59375 62.3125 \r\nQ 48.875 64.0625 45.09375 64.984375 \r\nQ 41.3125 65.921875 37.59375 65.921875 \r\nQ 27.828125 65.921875 22.671875 59.328125 \r\nQ 17.53125 52.734375 16.796875 39.40625 \r\nQ 19.671875 43.65625 24.015625 45.921875 \r\nQ 28.375 48.1875 33.59375 48.1875 \r\nQ 44.578125 48.1875 50.953125 41.515625 \r\nQ 57.328125 34.859375 57.328125 23.390625 \r\nQ 57.328125 12.15625 50.6875 5.359375 \r\nQ 44.046875 -1.421875 33.015625 -1.421875 \r\nQ 20.359375 -1.421875 13.671875 8.265625 \r\nQ 6.984375 17.96875 6.984375 36.375 \r\nQ 6.984375 53.65625 15.1875 63.9375 \r\nQ 23.390625 74.21875 37.203125 74.21875 \r\nQ 40.921875 74.21875 44.703125 73.484375 \r\nQ 48.484375 72.75 52.59375 71.296875 \r\nz\r\n\" id=\"DejaVuSans-54\"/>\r\n     </defs>\r\n     <use xlink:href=\"#DejaVuSans-48\"/>\r\n     <use x=\"63.623047\" xlink:href=\"#DejaVuSans-46\"/>\r\n     <use x=\"95.410156\" xlink:href=\"#DejaVuSans-57\"/>\r\n     <use x=\"159.033203\" xlink:href=\"#DejaVuSans-54\"/>\r\n    </g>\r\n   </g>\r\n   <g id=\"text_18\">\r\n    <!-- 0.95 -->\r\n    <g style=\"fill:#262626;\" transform=\"translate(289.259063 29.290022)scale(0.1 -0.1)\">\r\n     <defs>\r\n      <path d=\"M 10.796875 72.90625 \r\nL 49.515625 72.90625 \r\nL 49.515625 64.59375 \r\nL 19.828125 64.59375 \r\nL 19.828125 46.734375 \r\nQ 21.96875 47.46875 24.109375 47.828125 \r\nQ 26.265625 48.1875 28.421875 48.1875 \r\nQ 40.625 48.1875 47.75 41.5 \r\nQ 54.890625 34.8125 54.890625 23.390625 \r\nQ 54.890625 11.625 47.5625 5.09375 \r\nQ 40.234375 -1.421875 26.90625 -1.421875 \r\nQ 22.3125 -1.421875 17.546875 -0.640625 \r\nQ 12.796875 0.140625 7.71875 1.703125 \r\nL 7.71875 11.625 \r\nQ 12.109375 9.234375 16.796875 8.0625 \r\nQ 21.484375 6.890625 26.703125 6.890625 \r\nQ 35.15625 6.890625 40.078125 11.328125 \r\nQ 45.015625 15.765625 45.015625 23.390625 \r\nQ 45.015625 31 40.078125 35.4375 \r\nQ 35.15625 39.890625 26.703125 39.890625 \r\nQ 22.75 39.890625 18.8125 39.015625 \r\nQ 14.890625 38.140625 10.796875 36.28125 \r\nz\r\n\" id=\"DejaVuSans-53\"/>\r\n     </defs>\r\n     <use xlink:href=\"#DejaVuSans-48\"/>\r\n     <use x=\"63.623047\" xlink:href=\"#DejaVuSans-46\"/>\r\n     <use x=\"95.410156\" xlink:href=\"#DejaVuSans-57\"/>\r\n     <use x=\"159.033203\" xlink:href=\"#DejaVuSans-53\"/>\r\n    </g>\r\n   </g>\r\n   <g id=\"text_19\">\r\n    <!-- -0.12 -->\r\n    <g style=\"fill:#ffffff;\" transform=\"translate(325.718013 29.290022)scale(0.1 -0.1)\">\r\n     <defs>\r\n      <path d=\"M 4.890625 31.390625 \r\nL 31.203125 31.390625 \r\nL 31.203125 23.390625 \r\nL 4.890625 23.390625 \r\nz\r\n\" id=\"DejaVuSans-45\"/>\r\n      <path d=\"M 19.1875 8.296875 \r\nL 53.609375 8.296875 \r\nL 53.609375 0 \r\nL 7.328125 0 \r\nL 7.328125 8.296875 \r\nQ 12.9375 14.109375 22.625 23.890625 \r\nQ 32.328125 33.6875 34.8125 36.53125 \r\nQ 39.546875 41.84375 41.421875 45.53125 \r\nQ 43.3125 49.21875 43.3125 52.78125 \r\nQ 43.3125 58.59375 39.234375 62.25 \r\nQ 35.15625 65.921875 28.609375 65.921875 \r\nQ 23.96875 65.921875 18.8125 64.3125 \r\nQ 13.671875 62.703125 7.8125 59.421875 \r\nL 7.8125 69.390625 \r\nQ 13.765625 71.78125 18.9375 73 \r\nQ 24.125 74.21875 28.421875 74.21875 \r\nQ 39.75 74.21875 46.484375 68.546875 \r\nQ 53.21875 62.890625 53.21875 53.421875 \r\nQ 53.21875 48.921875 51.53125 44.890625 \r\nQ 49.859375 40.875 45.40625 35.40625 \r\nQ 44.1875 33.984375 37.640625 27.21875 \r\nQ 31.109375 20.453125 19.1875 8.296875 \r\nz\r\n\" id=\"DejaVuSans-50\"/>\r\n     </defs>\r\n     <use xlink:href=\"#DejaVuSans-45\"/>\r\n     <use x=\"36.083984\" xlink:href=\"#DejaVuSans-48\"/>\r\n     <use x=\"99.707031\" xlink:href=\"#DejaVuSans-46\"/>\r\n     <use x=\"131.494141\" xlink:href=\"#DejaVuSans-49\"/>\r\n     <use x=\"195.117188\" xlink:href=\"#DejaVuSans-50\"/>\r\n    </g>\r\n   </g>\r\n   <g id=\"text_20\">\r\n    <!-- -0.075 -->\r\n    <g style=\"fill:#ffffff;\" transform=\"translate(360.799621 29.290022)scale(0.1 -0.1)\">\r\n     <defs>\r\n      <path d=\"M 8.203125 72.90625 \r\nL 55.078125 72.90625 \r\nL 55.078125 68.703125 \r\nL 28.609375 0 \r\nL 18.3125 0 \r\nL 43.21875 64.59375 \r\nL 8.203125 64.59375 \r\nz\r\n\" id=\"DejaVuSans-55\"/>\r\n     </defs>\r\n     <use xlink:href=\"#DejaVuSans-45\"/>\r\n     <use x=\"36.083984\" xlink:href=\"#DejaVuSans-48\"/>\r\n     <use x=\"99.707031\" xlink:href=\"#DejaVuSans-46\"/>\r\n     <use x=\"131.494141\" xlink:href=\"#DejaVuSans-48\"/>\r\n     <use x=\"195.117188\" xlink:href=\"#DejaVuSans-55\"/>\r\n     <use x=\"258.740234\" xlink:href=\"#DejaVuSans-53\"/>\r\n    </g>\r\n   </g>\r\n   <g id=\"text_21\">\r\n    <!-- -0.048 -->\r\n    <g style=\"fill:#ffffff;\" transform=\"translate(399.062478 29.290022)scale(0.1 -0.1)\">\r\n     <defs>\r\n      <path d=\"M 31.78125 34.625 \r\nQ 24.75 34.625 20.71875 30.859375 \r\nQ 16.703125 27.09375 16.703125 20.515625 \r\nQ 16.703125 13.921875 20.71875 10.15625 \r\nQ 24.75 6.390625 31.78125 6.390625 \r\nQ 38.8125 6.390625 42.859375 10.171875 \r\nQ 46.921875 13.96875 46.921875 20.515625 \r\nQ 46.921875 27.09375 42.890625 30.859375 \r\nQ 38.875 34.625 31.78125 34.625 \r\nz\r\nM 21.921875 38.8125 \r\nQ 15.578125 40.375 12.03125 44.71875 \r\nQ 8.5 49.078125 8.5 55.328125 \r\nQ 8.5 64.0625 14.71875 69.140625 \r\nQ 20.953125 74.21875 31.78125 74.21875 \r\nQ 42.671875 74.21875 48.875 69.140625 \r\nQ 55.078125 64.0625 55.078125 55.328125 \r\nQ 55.078125 49.078125 51.53125 44.71875 \r\nQ 48 40.375 41.703125 38.8125 \r\nQ 48.828125 37.15625 52.796875 32.3125 \r\nQ 56.78125 27.484375 56.78125 20.515625 \r\nQ 56.78125 9.90625 50.3125 4.234375 \r\nQ 43.84375 -1.421875 31.78125 -1.421875 \r\nQ 19.734375 -1.421875 13.25 4.234375 \r\nQ 6.78125 9.90625 6.78125 20.515625 \r\nQ 6.78125 27.484375 10.78125 32.3125 \r\nQ 14.796875 37.15625 21.921875 38.8125 \r\nz\r\nM 18.3125 54.390625 \r\nQ 18.3125 48.734375 21.84375 45.5625 \r\nQ 25.390625 42.390625 31.78125 42.390625 \r\nQ 38.140625 42.390625 41.71875 45.5625 \r\nQ 45.3125 48.734375 45.3125 54.390625 \r\nQ 45.3125 60.0625 41.71875 63.234375 \r\nQ 38.140625 66.40625 31.78125 66.40625 \r\nQ 25.390625 66.40625 21.84375 63.234375 \r\nQ 18.3125 60.0625 18.3125 54.390625 \r\nz\r\n\" id=\"DejaVuSans-56\"/>\r\n     </defs>\r\n     <use xlink:href=\"#DejaVuSans-45\"/>\r\n     <use x=\"36.083984\" xlink:href=\"#DejaVuSans-48\"/>\r\n     <use x=\"99.707031\" xlink:href=\"#DejaVuSans-46\"/>\r\n     <use x=\"131.494141\" xlink:href=\"#DejaVuSans-48\"/>\r\n     <use x=\"195.117188\" xlink:href=\"#DejaVuSans-52\"/>\r\n     <use x=\"258.740234\" xlink:href=\"#DejaVuSans-56\"/>\r\n    </g>\r\n   </g>\r\n   <g id=\"text_22\">\r\n    <!-- 0.91 -->\r\n    <g style=\"fill:#262626;\" transform=\"translate(174.470491 60.352879)scale(0.1 -0.1)\">\r\n     <use xlink:href=\"#DejaVuSans-48\"/>\r\n     <use x=\"63.623047\" xlink:href=\"#DejaVuSans-46\"/>\r\n     <use x=\"95.410156\" xlink:href=\"#DejaVuSans-57\"/>\r\n     <use x=\"159.033203\" xlink:href=\"#DejaVuSans-49\"/>\r\n    </g>\r\n   </g>\r\n   <g id=\"text_23\">\r\n    <!-- 1 -->\r\n    <g style=\"fill:#262626;\" transform=\"translate(220.684911 60.352879)scale(0.1 -0.1)\">\r\n     <use xlink:href=\"#DejaVuSans-49\"/>\r\n    </g>\r\n   </g>\r\n   <g id=\"text_24\">\r\n    <!-- 0.88 -->\r\n    <g style=\"fill:#262626;\" transform=\"translate(250.996205 60.352879)scale(0.1 -0.1)\">\r\n     <use xlink:href=\"#DejaVuSans-48\"/>\r\n     <use x=\"63.623047\" xlink:href=\"#DejaVuSans-46\"/>\r\n     <use x=\"95.410156\" xlink:href=\"#DejaVuSans-56\"/>\r\n     <use x=\"159.033203\" xlink:href=\"#DejaVuSans-56\"/>\r\n    </g>\r\n   </g>\r\n   <g id=\"text_25\">\r\n    <!-- 0.86 -->\r\n    <g style=\"fill:#262626;\" transform=\"translate(289.259063 60.352879)scale(0.1 -0.1)\">\r\n     <use xlink:href=\"#DejaVuSans-48\"/>\r\n     <use x=\"63.623047\" xlink:href=\"#DejaVuSans-46\"/>\r\n     <use x=\"95.410156\" xlink:href=\"#DejaVuSans-56\"/>\r\n     <use x=\"159.033203\" xlink:href=\"#DejaVuSans-54\"/>\r\n    </g>\r\n   </g>\r\n   <g id=\"text_26\">\r\n    <!-- 0.25 -->\r\n    <g style=\"fill:#ffffff;\" transform=\"translate(327.52192 60.352879)scale(0.1 -0.1)\">\r\n     <use xlink:href=\"#DejaVuSans-48\"/>\r\n     <use x=\"63.623047\" xlink:href=\"#DejaVuSans-46\"/>\r\n     <use x=\"95.410156\" xlink:href=\"#DejaVuSans-50\"/>\r\n     <use x=\"159.033203\" xlink:href=\"#DejaVuSans-53\"/>\r\n    </g>\r\n   </g>\r\n   <g id=\"text_27\">\r\n    <!-- -0.037 -->\r\n    <g style=\"fill:#ffffff;\" transform=\"translate(360.799621 60.352879)scale(0.1 -0.1)\">\r\n     <use xlink:href=\"#DejaVuSans-45\"/>\r\n     <use x=\"36.083984\" xlink:href=\"#DejaVuSans-48\"/>\r\n     <use x=\"99.707031\" xlink:href=\"#DejaVuSans-46\"/>\r\n     <use x=\"131.494141\" xlink:href=\"#DejaVuSans-48\"/>\r\n     <use x=\"195.117188\" xlink:href=\"#DejaVuSans-51\"/>\r\n     <use x=\"258.740234\" xlink:href=\"#DejaVuSans-55\"/>\r\n    </g>\r\n   </g>\r\n   <g id=\"text_28\">\r\n    <!-- -0.04 -->\r\n    <g style=\"fill:#ffffff;\" transform=\"translate(402.243728 60.352879)scale(0.1 -0.1)\">\r\n     <use xlink:href=\"#DejaVuSans-45\"/>\r\n     <use x=\"36.083984\" xlink:href=\"#DejaVuSans-48\"/>\r\n     <use x=\"99.707031\" xlink:href=\"#DejaVuSans-46\"/>\r\n     <use x=\"131.494141\" xlink:href=\"#DejaVuSans-48\"/>\r\n     <use x=\"195.117188\" xlink:href=\"#DejaVuSans-52\"/>\r\n    </g>\r\n   </g>\r\n   <g id=\"text_29\">\r\n    <!-- 0.96 -->\r\n    <g style=\"fill:#262626;\" transform=\"translate(174.470491 91.415737)scale(0.1 -0.1)\">\r\n     <use xlink:href=\"#DejaVuSans-48\"/>\r\n     <use x=\"63.623047\" xlink:href=\"#DejaVuSans-46\"/>\r\n     <use x=\"95.410156\" xlink:href=\"#DejaVuSans-57\"/>\r\n     <use x=\"159.033203\" xlink:href=\"#DejaVuSans-54\"/>\r\n    </g>\r\n   </g>\r\n   <g id=\"text_30\">\r\n    <!-- 0.88 -->\r\n    <g style=\"fill:#262626;\" transform=\"translate(212.733348 91.415737)scale(0.1 -0.1)\">\r\n     <use xlink:href=\"#DejaVuSans-48\"/>\r\n     <use x=\"63.623047\" xlink:href=\"#DejaVuSans-46\"/>\r\n     <use x=\"95.410156\" xlink:href=\"#DejaVuSans-56\"/>\r\n     <use x=\"159.033203\" xlink:href=\"#DejaVuSans-56\"/>\r\n    </g>\r\n   </g>\r\n   <g id=\"text_31\">\r\n    <!-- 1 -->\r\n    <g style=\"fill:#262626;\" transform=\"translate(258.947768 91.415737)scale(0.1 -0.1)\">\r\n     <use xlink:href=\"#DejaVuSans-49\"/>\r\n    </g>\r\n   </g>\r\n   <g id=\"text_32\">\r\n    <!-- 0.99 -->\r\n    <g style=\"fill:#262626;\" transform=\"translate(289.259063 91.415737)scale(0.1 -0.1)\">\r\n     <use xlink:href=\"#DejaVuSans-48\"/>\r\n     <use x=\"63.623047\" xlink:href=\"#DejaVuSans-46\"/>\r\n     <use x=\"95.410156\" xlink:href=\"#DejaVuSans-57\"/>\r\n     <use x=\"159.033203\" xlink:href=\"#DejaVuSans-57\"/>\r\n    </g>\r\n   </g>\r\n   <g id=\"text_33\">\r\n    <!-- -0.073 -->\r\n    <g style=\"fill:#ffffff;\" transform=\"translate(322.536763 91.415737)scale(0.1 -0.1)\">\r\n     <use xlink:href=\"#DejaVuSans-45\"/>\r\n     <use x=\"36.083984\" xlink:href=\"#DejaVuSans-48\"/>\r\n     <use x=\"99.707031\" xlink:href=\"#DejaVuSans-46\"/>\r\n     <use x=\"131.494141\" xlink:href=\"#DejaVuSans-48\"/>\r\n     <use x=\"195.117188\" xlink:href=\"#DejaVuSans-55\"/>\r\n     <use x=\"258.740234\" xlink:href=\"#DejaVuSans-51\"/>\r\n    </g>\r\n   </g>\r\n   <g id=\"text_34\">\r\n    <!-- 0.16 -->\r\n    <g style=\"fill:#ffffff;\" transform=\"translate(365.784777 91.415737)scale(0.1 -0.1)\">\r\n     <use xlink:href=\"#DejaVuSans-48\"/>\r\n     <use x=\"63.623047\" xlink:href=\"#DejaVuSans-46\"/>\r\n     <use x=\"95.410156\" xlink:href=\"#DejaVuSans-49\"/>\r\n     <use x=\"159.033203\" xlink:href=\"#DejaVuSans-54\"/>\r\n    </g>\r\n   </g>\r\n   <g id=\"text_35\">\r\n    <!-- 0.18 -->\r\n    <g style=\"fill:#ffffff;\" transform=\"translate(404.047634 91.415737)scale(0.1 -0.1)\">\r\n     <use xlink:href=\"#DejaVuSans-48\"/>\r\n     <use x=\"63.623047\" xlink:href=\"#DejaVuSans-46\"/>\r\n     <use x=\"95.410156\" xlink:href=\"#DejaVuSans-49\"/>\r\n     <use x=\"159.033203\" xlink:href=\"#DejaVuSans-56\"/>\r\n    </g>\r\n   </g>\r\n   <g id=\"text_36\">\r\n    <!-- 0.95 -->\r\n    <g style=\"fill:#262626;\" transform=\"translate(174.470491 122.478594)scale(0.1 -0.1)\">\r\n     <use xlink:href=\"#DejaVuSans-48\"/>\r\n     <use x=\"63.623047\" xlink:href=\"#DejaVuSans-46\"/>\r\n     <use x=\"95.410156\" xlink:href=\"#DejaVuSans-57\"/>\r\n     <use x=\"159.033203\" xlink:href=\"#DejaVuSans-53\"/>\r\n    </g>\r\n   </g>\r\n   <g id=\"text_37\">\r\n    <!-- 0.86 -->\r\n    <g style=\"fill:#262626;\" transform=\"translate(212.733348 122.478594)scale(0.1 -0.1)\">\r\n     <use xlink:href=\"#DejaVuSans-48\"/>\r\n     <use x=\"63.623047\" xlink:href=\"#DejaVuSans-46\"/>\r\n     <use x=\"95.410156\" xlink:href=\"#DejaVuSans-56\"/>\r\n     <use x=\"159.033203\" xlink:href=\"#DejaVuSans-54\"/>\r\n    </g>\r\n   </g>\r\n   <g id=\"text_38\">\r\n    <!-- 0.99 -->\r\n    <g style=\"fill:#262626;\" transform=\"translate(250.996205 122.478594)scale(0.1 -0.1)\">\r\n     <use xlink:href=\"#DejaVuSans-48\"/>\r\n     <use x=\"63.623047\" xlink:href=\"#DejaVuSans-46\"/>\r\n     <use x=\"95.410156\" xlink:href=\"#DejaVuSans-57\"/>\r\n     <use x=\"159.033203\" xlink:href=\"#DejaVuSans-57\"/>\r\n    </g>\r\n   </g>\r\n   <g id=\"text_39\">\r\n    <!-- 1 -->\r\n    <g style=\"fill:#262626;\" transform=\"translate(297.210625 122.478594)scale(0.1 -0.1)\">\r\n     <use xlink:href=\"#DejaVuSans-49\"/>\r\n    </g>\r\n   </g>\r\n   <g id=\"text_40\">\r\n    <!-- -0.098 -->\r\n    <g style=\"fill:#ffffff;\" transform=\"translate(322.536763 122.478594)scale(0.1 -0.1)\">\r\n     <use xlink:href=\"#DejaVuSans-45\"/>\r\n     <use x=\"36.083984\" xlink:href=\"#DejaVuSans-48\"/>\r\n     <use x=\"99.707031\" xlink:href=\"#DejaVuSans-46\"/>\r\n     <use x=\"131.494141\" xlink:href=\"#DejaVuSans-48\"/>\r\n     <use x=\"195.117188\" xlink:href=\"#DejaVuSans-57\"/>\r\n     <use x=\"258.740234\" xlink:href=\"#DejaVuSans-56\"/>\r\n    </g>\r\n   </g>\r\n   <g id=\"text_41\">\r\n    <!-- 0.17 -->\r\n    <g style=\"fill:#ffffff;\" transform=\"translate(365.784777 122.478594)scale(0.1 -0.1)\">\r\n     <use xlink:href=\"#DejaVuSans-48\"/>\r\n     <use x=\"63.623047\" xlink:href=\"#DejaVuSans-46\"/>\r\n     <use x=\"95.410156\" xlink:href=\"#DejaVuSans-49\"/>\r\n     <use x=\"159.033203\" xlink:href=\"#DejaVuSans-55\"/>\r\n    </g>\r\n   </g>\r\n   <g id=\"text_42\">\r\n    <!-- 0.21 -->\r\n    <g style=\"fill:#ffffff;\" transform=\"translate(404.047634 122.478594)scale(0.1 -0.1)\">\r\n     <use xlink:href=\"#DejaVuSans-48\"/>\r\n     <use x=\"63.623047\" xlink:href=\"#DejaVuSans-46\"/>\r\n     <use x=\"95.410156\" xlink:href=\"#DejaVuSans-50\"/>\r\n     <use x=\"159.033203\" xlink:href=\"#DejaVuSans-49\"/>\r\n    </g>\r\n   </g>\r\n   <g id=\"text_43\">\r\n    <!-- -0.12 -->\r\n    <g style=\"fill:#ffffff;\" transform=\"translate(172.666585 153.541451)scale(0.1 -0.1)\">\r\n     <use xlink:href=\"#DejaVuSans-45\"/>\r\n     <use x=\"36.083984\" xlink:href=\"#DejaVuSans-48\"/>\r\n     <use x=\"99.707031\" xlink:href=\"#DejaVuSans-46\"/>\r\n     <use x=\"131.494141\" xlink:href=\"#DejaVuSans-49\"/>\r\n     <use x=\"195.117188\" xlink:href=\"#DejaVuSans-50\"/>\r\n    </g>\r\n   </g>\r\n   <g id=\"text_44\">\r\n    <!-- 0.25 -->\r\n    <g style=\"fill:#ffffff;\" transform=\"translate(212.733348 153.541451)scale(0.1 -0.1)\">\r\n     <use xlink:href=\"#DejaVuSans-48\"/>\r\n     <use x=\"63.623047\" xlink:href=\"#DejaVuSans-46\"/>\r\n     <use x=\"95.410156\" xlink:href=\"#DejaVuSans-50\"/>\r\n     <use x=\"159.033203\" xlink:href=\"#DejaVuSans-53\"/>\r\n    </g>\r\n   </g>\r\n   <g id=\"text_45\">\r\n    <!-- -0.073 -->\r\n    <g style=\"fill:#ffffff;\" transform=\"translate(246.011049 153.541451)scale(0.1 -0.1)\">\r\n     <use xlink:href=\"#DejaVuSans-45\"/>\r\n     <use x=\"36.083984\" xlink:href=\"#DejaVuSans-48\"/>\r\n     <use x=\"99.707031\" xlink:href=\"#DejaVuSans-46\"/>\r\n     <use x=\"131.494141\" xlink:href=\"#DejaVuSans-48\"/>\r\n     <use x=\"195.117188\" xlink:href=\"#DejaVuSans-55\"/>\r\n     <use x=\"258.740234\" xlink:href=\"#DejaVuSans-51\"/>\r\n    </g>\r\n   </g>\r\n   <g id=\"text_46\">\r\n    <!-- -0.098 -->\r\n    <g style=\"fill:#ffffff;\" transform=\"translate(284.273906 153.541451)scale(0.1 -0.1)\">\r\n     <use xlink:href=\"#DejaVuSans-45\"/>\r\n     <use x=\"36.083984\" xlink:href=\"#DejaVuSans-48\"/>\r\n     <use x=\"99.707031\" xlink:href=\"#DejaVuSans-46\"/>\r\n     <use x=\"131.494141\" xlink:href=\"#DejaVuSans-48\"/>\r\n     <use x=\"195.117188\" xlink:href=\"#DejaVuSans-57\"/>\r\n     <use x=\"258.740234\" xlink:href=\"#DejaVuSans-56\"/>\r\n    </g>\r\n   </g>\r\n   <g id=\"text_47\">\r\n    <!-- 1 -->\r\n    <g style=\"fill:#262626;\" transform=\"translate(335.473482 153.541451)scale(0.1 -0.1)\">\r\n     <use xlink:href=\"#DejaVuSans-49\"/>\r\n    </g>\r\n   </g>\r\n   <g id=\"text_48\">\r\n    <!-- 0.16 -->\r\n    <g style=\"fill:#ffffff;\" transform=\"translate(365.784777 153.541451)scale(0.1 -0.1)\">\r\n     <use xlink:href=\"#DejaVuSans-48\"/>\r\n     <use x=\"63.623047\" xlink:href=\"#DejaVuSans-46\"/>\r\n     <use x=\"95.410156\" xlink:href=\"#DejaVuSans-49\"/>\r\n     <use x=\"159.033203\" xlink:href=\"#DejaVuSans-54\"/>\r\n    </g>\r\n   </g>\r\n   <g id=\"text_49\">\r\n    <!-- 0.031 -->\r\n    <g style=\"fill:#ffffff;\" transform=\"translate(400.866384 153.541451)scale(0.1 -0.1)\">\r\n     <use xlink:href=\"#DejaVuSans-48\"/>\r\n     <use x=\"63.623047\" xlink:href=\"#DejaVuSans-46\"/>\r\n     <use x=\"95.410156\" xlink:href=\"#DejaVuSans-48\"/>\r\n     <use x=\"159.033203\" xlink:href=\"#DejaVuSans-51\"/>\r\n     <use x=\"222.65625\" xlink:href=\"#DejaVuSans-49\"/>\r\n    </g>\r\n   </g>\r\n   <g id=\"text_50\">\r\n    <!-- -0.075 -->\r\n    <g style=\"fill:#ffffff;\" transform=\"translate(169.485335 184.604308)scale(0.1 -0.1)\">\r\n     <use xlink:href=\"#DejaVuSans-45\"/>\r\n     <use x=\"36.083984\" xlink:href=\"#DejaVuSans-48\"/>\r\n     <use x=\"99.707031\" xlink:href=\"#DejaVuSans-46\"/>\r\n     <use x=\"131.494141\" xlink:href=\"#DejaVuSans-48\"/>\r\n     <use x=\"195.117188\" xlink:href=\"#DejaVuSans-55\"/>\r\n     <use x=\"258.740234\" xlink:href=\"#DejaVuSans-53\"/>\r\n    </g>\r\n   </g>\r\n   <g id=\"text_51\">\r\n    <!-- -0.037 -->\r\n    <g style=\"fill:#ffffff;\" transform=\"translate(207.748192 184.604308)scale(0.1 -0.1)\">\r\n     <use xlink:href=\"#DejaVuSans-45\"/>\r\n     <use x=\"36.083984\" xlink:href=\"#DejaVuSans-48\"/>\r\n     <use x=\"99.707031\" xlink:href=\"#DejaVuSans-46\"/>\r\n     <use x=\"131.494141\" xlink:href=\"#DejaVuSans-48\"/>\r\n     <use x=\"195.117188\" xlink:href=\"#DejaVuSans-51\"/>\r\n     <use x=\"258.740234\" xlink:href=\"#DejaVuSans-55\"/>\r\n    </g>\r\n   </g>\r\n   <g id=\"text_52\">\r\n    <!-- 0.16 -->\r\n    <g style=\"fill:#ffffff;\" transform=\"translate(250.996205 184.604308)scale(0.1 -0.1)\">\r\n     <use xlink:href=\"#DejaVuSans-48\"/>\r\n     <use x=\"63.623047\" xlink:href=\"#DejaVuSans-46\"/>\r\n     <use x=\"95.410156\" xlink:href=\"#DejaVuSans-49\"/>\r\n     <use x=\"159.033203\" xlink:href=\"#DejaVuSans-54\"/>\r\n    </g>\r\n   </g>\r\n   <g id=\"text_53\">\r\n    <!-- 0.17 -->\r\n    <g style=\"fill:#ffffff;\" transform=\"translate(289.259063 184.604308)scale(0.1 -0.1)\">\r\n     <use xlink:href=\"#DejaVuSans-48\"/>\r\n     <use x=\"63.623047\" xlink:href=\"#DejaVuSans-46\"/>\r\n     <use x=\"95.410156\" xlink:href=\"#DejaVuSans-49\"/>\r\n     <use x=\"159.033203\" xlink:href=\"#DejaVuSans-55\"/>\r\n    </g>\r\n   </g>\r\n   <g id=\"text_54\">\r\n    <!-- 0.16 -->\r\n    <g style=\"fill:#ffffff;\" transform=\"translate(327.52192 184.604308)scale(0.1 -0.1)\">\r\n     <use xlink:href=\"#DejaVuSans-48\"/>\r\n     <use x=\"63.623047\" xlink:href=\"#DejaVuSans-46\"/>\r\n     <use x=\"95.410156\" xlink:href=\"#DejaVuSans-49\"/>\r\n     <use x=\"159.033203\" xlink:href=\"#DejaVuSans-54\"/>\r\n    </g>\r\n   </g>\r\n   <g id=\"text_55\">\r\n    <!-- 1 -->\r\n    <g style=\"fill:#262626;\" transform=\"translate(373.736339 184.604308)scale(0.1 -0.1)\">\r\n     <use xlink:href=\"#DejaVuSans-49\"/>\r\n    </g>\r\n   </g>\r\n   <g id=\"text_56\">\r\n    <!-- 0.91 -->\r\n    <g style=\"fill:#262626;\" transform=\"translate(404.047634 184.604308)scale(0.1 -0.1)\">\r\n     <use xlink:href=\"#DejaVuSans-48\"/>\r\n     <use x=\"63.623047\" xlink:href=\"#DejaVuSans-46\"/>\r\n     <use x=\"95.410156\" xlink:href=\"#DejaVuSans-57\"/>\r\n     <use x=\"159.033203\" xlink:href=\"#DejaVuSans-49\"/>\r\n    </g>\r\n   </g>\r\n   <g id=\"text_57\">\r\n    <!-- -0.048 -->\r\n    <g style=\"fill:#ffffff;\" transform=\"translate(169.485335 215.667165)scale(0.1 -0.1)\">\r\n     <use xlink:href=\"#DejaVuSans-45\"/>\r\n     <use x=\"36.083984\" xlink:href=\"#DejaVuSans-48\"/>\r\n     <use x=\"99.707031\" xlink:href=\"#DejaVuSans-46\"/>\r\n     <use x=\"131.494141\" xlink:href=\"#DejaVuSans-48\"/>\r\n     <use x=\"195.117188\" xlink:href=\"#DejaVuSans-52\"/>\r\n     <use x=\"258.740234\" xlink:href=\"#DejaVuSans-56\"/>\r\n    </g>\r\n   </g>\r\n   <g id=\"text_58\">\r\n    <!-- -0.04 -->\r\n    <g style=\"fill:#ffffff;\" transform=\"translate(210.929442 215.667165)scale(0.1 -0.1)\">\r\n     <use xlink:href=\"#DejaVuSans-45\"/>\r\n     <use x=\"36.083984\" xlink:href=\"#DejaVuSans-48\"/>\r\n     <use x=\"99.707031\" xlink:href=\"#DejaVuSans-46\"/>\r\n     <use x=\"131.494141\" xlink:href=\"#DejaVuSans-48\"/>\r\n     <use x=\"195.117188\" xlink:href=\"#DejaVuSans-52\"/>\r\n    </g>\r\n   </g>\r\n   <g id=\"text_59\">\r\n    <!-- 0.18 -->\r\n    <g style=\"fill:#ffffff;\" transform=\"translate(250.996205 215.667165)scale(0.1 -0.1)\">\r\n     <use xlink:href=\"#DejaVuSans-48\"/>\r\n     <use x=\"63.623047\" xlink:href=\"#DejaVuSans-46\"/>\r\n     <use x=\"95.410156\" xlink:href=\"#DejaVuSans-49\"/>\r\n     <use x=\"159.033203\" xlink:href=\"#DejaVuSans-56\"/>\r\n    </g>\r\n   </g>\r\n   <g id=\"text_60\">\r\n    <!-- 0.21 -->\r\n    <g style=\"fill:#ffffff;\" transform=\"translate(289.259063 215.667165)scale(0.1 -0.1)\">\r\n     <use xlink:href=\"#DejaVuSans-48\"/>\r\n     <use x=\"63.623047\" xlink:href=\"#DejaVuSans-46\"/>\r\n     <use x=\"95.410156\" xlink:href=\"#DejaVuSans-50\"/>\r\n     <use x=\"159.033203\" xlink:href=\"#DejaVuSans-49\"/>\r\n    </g>\r\n   </g>\r\n   <g id=\"text_61\">\r\n    <!-- 0.031 -->\r\n    <g style=\"fill:#ffffff;\" transform=\"translate(324.34067 215.667165)scale(0.1 -0.1)\">\r\n     <use xlink:href=\"#DejaVuSans-48\"/>\r\n     <use x=\"63.623047\" xlink:href=\"#DejaVuSans-46\"/>\r\n     <use x=\"95.410156\" xlink:href=\"#DejaVuSans-48\"/>\r\n     <use x=\"159.033203\" xlink:href=\"#DejaVuSans-51\"/>\r\n     <use x=\"222.65625\" xlink:href=\"#DejaVuSans-49\"/>\r\n    </g>\r\n   </g>\r\n   <g id=\"text_62\">\r\n    <!-- 0.91 -->\r\n    <g style=\"fill:#262626;\" transform=\"translate(365.784777 215.667165)scale(0.1 -0.1)\">\r\n     <use xlink:href=\"#DejaVuSans-48\"/>\r\n     <use x=\"63.623047\" xlink:href=\"#DejaVuSans-46\"/>\r\n     <use x=\"95.410156\" xlink:href=\"#DejaVuSans-57\"/>\r\n     <use x=\"159.033203\" xlink:href=\"#DejaVuSans-49\"/>\r\n    </g>\r\n   </g>\r\n   <g id=\"text_63\">\r\n    <!-- 1 -->\r\n    <g style=\"fill:#262626;\" transform=\"translate(411.999196 215.667165)scale(0.1 -0.1)\">\r\n     <use xlink:href=\"#DejaVuSans-49\"/>\r\n    </g>\r\n   </g>\r\n  </g>\r\n  <g id=\"axes_2\">\r\n   <g id=\"patch_3\">\r\n    <path clip-path=\"url(#pc5e2fe8343)\" d=\"M 451.051875 228.439219 \r\nL 451.051875 227.589844 \r\nL 451.051875 11.848594 \r\nL 451.051875 10.999219 \r\nL 461.923875 10.999219 \r\nL 461.923875 11.848594 \r\nL 461.923875 227.589844 \r\nL 461.923875 228.439219 \r\nz\r\n\" style=\"fill:#ffffff;stroke:#ffffff;stroke-linejoin:miter;stroke-width:0.01;\"/>\r\n   </g>\r\n   <image height=\"218\" id=\"image71854515bd\" transform=\"scale(1 -1)translate(0 -218)\" width=\"11\" x=\"451\" xlink:href=\"data:image/png;base64,\r\niVBORw0KGgoAAAANSUhEUgAAAAsAAADaCAYAAABwzrisAAABVElEQVR4nO3Y0W1DMQxDUelZWaL7z9l0BZ8CBNSg71sgqCtaTtzn9fWuy2/6trKqpvu+fJ5+YspQ3JVSPksaJGWhQcpBGjHPqAwNGo1YRLeEn2xsGbfQqBXhtwavS3XcWyZo6O6/aPjBRpIz2KDwk3Jwb4iNya1csbEkSOcPNkjjRhop5SUNzvV/CbdBxanTbbtOaGCDUrxjKB9PIxn+e2lrMLc35g2el9BoUr4XrjkxZfQsxTAVa7CbbMSCRMpSfCB2SRoyQWvwfKdsLEEHh3CeJTQMXcrGAze9cUYaoFwUpAFls2E0Vig3LF21kVIuUTYbQgMbTBXTa4/8PJl6qHgHOnmvIxodo2GeDZ0on/sXDh33DnTwhDNFx8oaXEGjjUauQSmmoZz7m36N55wNopEb95IgfTqNPq+Q8hoasr5i4+6mS3MHZ8pGLqL/Df5WOXZSfgA78isnlN+JnAAAAABJRU5ErkJggg==\" y=\"-10\"/>\r\n   <g id=\"matplotlib.axis_3\"/>\r\n   <g id=\"matplotlib.axis_4\">\r\n    <g id=\"ytick_8\">\r\n     <g id=\"line2d_15\">\r\n      <defs>\r\n       <path d=\"M 0 0 \r\nL 3.5 0 \r\n\" id=\"m979e3486df\" style=\"stroke:#000000;stroke-width:0.8;\"/>\r\n      </defs>\r\n      <g>\r\n       <use style=\"stroke:#000000;stroke-width:0.8;\" x=\"461.923875\" xlink:href=\"#m979e3486df\" y=\"205.282155\"/>\r\n      </g>\r\n     </g>\r\n     <g id=\"text_64\">\r\n      <!-- 0.0 -->\r\n      <g transform=\"translate(468.923875 209.081373)scale(0.1 -0.1)\">\r\n       <use xlink:href=\"#DejaVuSans-48\"/>\r\n       <use x=\"63.623047\" xlink:href=\"#DejaVuSans-46\"/>\r\n       <use x=\"95.410156\" xlink:href=\"#DejaVuSans-48\"/>\r\n      </g>\r\n     </g>\r\n    </g>\r\n    <g id=\"ytick_9\">\r\n     <g id=\"line2d_16\">\r\n      <g>\r\n       <use style=\"stroke:#000000;stroke-width:0.8;\" x=\"461.923875\" xlink:href=\"#m979e3486df\" y=\"166.425567\"/>\r\n      </g>\r\n     </g>\r\n     <g id=\"text_65\">\r\n      <!-- 0.2 -->\r\n      <g transform=\"translate(468.923875 170.224786)scale(0.1 -0.1)\">\r\n       <use xlink:href=\"#DejaVuSans-48\"/>\r\n       <use x=\"63.623047\" xlink:href=\"#DejaVuSans-46\"/>\r\n       <use x=\"95.410156\" xlink:href=\"#DejaVuSans-50\"/>\r\n      </g>\r\n     </g>\r\n    </g>\r\n    <g id=\"ytick_10\">\r\n     <g id=\"line2d_17\">\r\n      <g>\r\n       <use style=\"stroke:#000000;stroke-width:0.8;\" x=\"461.923875\" xlink:href=\"#m979e3486df\" y=\"127.56898\"/>\r\n      </g>\r\n     </g>\r\n     <g id=\"text_66\">\r\n      <!-- 0.4 -->\r\n      <g transform=\"translate(468.923875 131.368199)scale(0.1 -0.1)\">\r\n       <use xlink:href=\"#DejaVuSans-48\"/>\r\n       <use x=\"63.623047\" xlink:href=\"#DejaVuSans-46\"/>\r\n       <use x=\"95.410156\" xlink:href=\"#DejaVuSans-52\"/>\r\n      </g>\r\n     </g>\r\n    </g>\r\n    <g id=\"ytick_11\">\r\n     <g id=\"line2d_18\">\r\n      <g>\r\n       <use style=\"stroke:#000000;stroke-width:0.8;\" x=\"461.923875\" xlink:href=\"#m979e3486df\" y=\"88.712393\"/>\r\n      </g>\r\n     </g>\r\n     <g id=\"text_67\">\r\n      <!-- 0.6 -->\r\n      <g transform=\"translate(468.923875 92.511612)scale(0.1 -0.1)\">\r\n       <use xlink:href=\"#DejaVuSans-48\"/>\r\n       <use x=\"63.623047\" xlink:href=\"#DejaVuSans-46\"/>\r\n       <use x=\"95.410156\" xlink:href=\"#DejaVuSans-54\"/>\r\n      </g>\r\n     </g>\r\n    </g>\r\n    <g id=\"ytick_12\">\r\n     <g id=\"line2d_19\">\r\n      <g>\r\n       <use style=\"stroke:#000000;stroke-width:0.8;\" x=\"461.923875\" xlink:href=\"#m979e3486df\" y=\"49.855806\"/>\r\n      </g>\r\n     </g>\r\n     <g id=\"text_68\">\r\n      <!-- 0.8 -->\r\n      <g transform=\"translate(468.923875 53.655025)scale(0.1 -0.1)\">\r\n       <use xlink:href=\"#DejaVuSans-48\"/>\r\n       <use x=\"63.623047\" xlink:href=\"#DejaVuSans-46\"/>\r\n       <use x=\"95.410156\" xlink:href=\"#DejaVuSans-56\"/>\r\n      </g>\r\n     </g>\r\n    </g>\r\n    <g id=\"ytick_13\">\r\n     <g id=\"line2d_20\">\r\n      <g>\r\n       <use style=\"stroke:#000000;stroke-width:0.8;\" x=\"461.923875\" xlink:href=\"#m979e3486df\" y=\"10.999219\"/>\r\n      </g>\r\n     </g>\r\n     <g id=\"text_69\">\r\n      <!-- 1.0 -->\r\n      <g transform=\"translate(468.923875 14.798438)scale(0.1 -0.1)\">\r\n       <use xlink:href=\"#DejaVuSans-49\"/>\r\n       <use x=\"63.623047\" xlink:href=\"#DejaVuSans-46\"/>\r\n       <use x=\"95.410156\" xlink:href=\"#DejaVuSans-48\"/>\r\n      </g>\r\n     </g>\r\n    </g>\r\n   </g>\r\n   <g id=\"patch_4\">\r\n    <path d=\"M 451.051875 228.439219 \r\nL 451.051875 227.589844 \r\nL 451.051875 11.848594 \r\nL 451.051875 10.999219 \r\nL 461.923875 10.999219 \r\nL 461.923875 11.848594 \r\nL 461.923875 227.589844 \r\nL 461.923875 228.439219 \r\nz\r\n\" style=\"fill:none;\"/>\r\n   </g>\r\n  </g>\r\n </g>\r\n <defs>\r\n  <clipPath id=\"p80677b8fd4\">\r\n   <rect height=\"217.44\" width=\"267.84\" x=\"166.471875\" y=\"10.999219\"/>\r\n  </clipPath>\r\n  <clipPath id=\"pc5e2fe8343\">\r\n   <rect height=\"217.44\" width=\"10.872\" x=\"451.051875\" y=\"10.999219\"/>\r\n  </clipPath>\r\n </defs>\r\n</svg>\r\n",
      "image/png": "[encoded data removed]"
     },
     "metadata": {
      "needs_background": "light"
     }
    }
   ],
   "source": [
    "sns.heatmap(zip_cases_df.corr(),annot=True)"
   ]
  },
  {
   "source": [
    "Mainly what I note in this heatmap is the correlations between each of the variables, mainly population correlates and case count correlate alot regardless of number of days. What is interesting to note is the same trenddoes not entirely occur in the proportions of the cummulative case count, in fact there is little to no correlation whatsoever."
   ],
   "cell_type": "markdown",
   "metadata": {}
  },
  {
   "cell_type": "code",
   "execution_count": 41,
   "metadata": {},
   "outputs": [
    {
     "output_type": "execute_result",
     "data": {
      "text/plain": [
       "Latitude                 0.194736\n",
       "Longitude                0.070621\n",
       "Elevation                0.362643\n",
       "CurrentPopulation        0.894012\n",
       "HouseholdsperZIPCode     0.889358\n",
       "AverageHouseValue        0.078329\n",
       "AvgIncomePerHousehold    0.109814\n",
       "PersonsPerHousehold     -0.055763\n",
       "WhitePopulation          0.761359\n",
       "MedianAge                0.055736\n",
       "MalePopulation           0.909008\n",
       "FemalePopulation         0.880493\n",
       "BlackPopulation          0.459795\n",
       "HispanicPopulation       0.746775\n",
       "RetiredWorkers           0.701183\n",
       "DisabledWorkers          0.550216\n",
       "Spouses                  0.547537\n",
       "Children                 0.604824\n",
       "NumberofBusinesses       0.481659\n",
       "#ofEmployees             0.223989\n",
       "dtype: float64"
      ]
     },
     "metadata": {},
     "execution_count": 41
    }
   ],
   "source": [
    "zip_info_df.corrwith(zip_cases_df.CaseCountCumulative)"
   ]
  },
  {
   "cell_type": "code",
   "execution_count": 42,
   "metadata": {},
   "outputs": [
    {
     "output_type": "execute_result",
     "data": {
      "text/plain": [
       "        Latitude  Longitude   Elevation  CurrentPopulation  \\\n",
       "count  31.000000  31.000000   31.000000          31.000000   \n",
       "mean   39.999974 -82.984779  812.903226       31252.193548   \n",
       "std     0.071387   0.068954   60.900112       17754.460041   \n",
       "min    39.816625 -83.134338  714.000000          39.000000   \n",
       "25%    39.956474 -83.032139  765.500000       21805.500000   \n",
       "50%    39.995575 -82.979703  812.000000       28180.000000   \n",
       "75%    40.045262 -82.936419  853.000000       46657.000000   \n",
       "max    40.146034 -82.863748  924.000000       72592.000000   \n",
       "\n",
       "       HouseholdsperZIPCode  AverageHouseValue  AvgIncomePerHousehold  \\\n",
       "count             31.000000          31.000000              31.000000   \n",
       "mean           11350.161290      155632.258065           50914.419355   \n",
       "std             6167.689811       86838.199686           19653.729086   \n",
       "min              328.000000           0.000000           17179.000000   \n",
       "25%             8049.500000       88500.000000           36986.500000   \n",
       "50%            10860.000000      136000.000000           46013.000000   \n",
       "75%            16441.500000      235150.000000           67385.000000   \n",
       "max            22754.000000      335700.000000           93878.000000   \n",
       "\n",
       "       PersonsPerHousehold  WhitePopulation  MedianAge  MalePopulation  \\\n",
       "count            31.000000        31.000000  31.000000       31.000000   \n",
       "mean              2.326774     18936.451613  33.203226    13576.096774   \n",
       "std               0.310874     13344.166850   4.893702     7661.832376   \n",
       "min               1.460000       421.000000  19.500000      269.000000   \n",
       "25%               2.185000      6367.000000  31.450000     9285.500000   \n",
       "50%               2.330000     18303.000000  33.100000    12011.000000   \n",
       "75%               2.440000     26761.500000  36.500000    20104.500000   \n",
       "max               3.310000     51907.000000  41.900000    28964.000000   \n",
       "\n",
       "       FemalePopulation  BlackPopulation  HispanicPopulation  RetiredWorkers  \\\n",
       "count         31.000000        31.000000           31.000000       31.000000   \n",
       "mean       14234.000000      7528.580645         1447.774194     2739.677419   \n",
       "std         8118.240372      6562.434542         1508.579502     1885.407726   \n",
       "min          257.000000        36.000000           16.000000        0.000000   \n",
       "25%         9869.000000      1207.500000          555.500000     1077.500000   \n",
       "50%        13380.000000      6665.000000         1082.000000     2581.000000   \n",
       "75%        20157.500000     11501.500000         1800.000000     3918.000000   \n",
       "max        31832.000000     24434.000000         7405.000000     7813.000000   \n",
       "\n",
       "       DisabledWorkers     Spouses    Children  NumberofBusinesses  \\\n",
       "count        31.000000   31.000000   31.000000           31.000000   \n",
       "mean        742.645161  128.806452  342.483871          704.580645   \n",
       "std         566.988980  104.559208  246.882276          525.658240   \n",
       "min           0.000000    0.000000    0.000000           42.000000   \n",
       "25%         296.000000   45.500000  140.000000          327.000000   \n",
       "50%         458.000000  107.000000  287.000000          615.000000   \n",
       "75%        1140.000000  181.000000  504.500000          948.000000   \n",
       "max        2215.000000  397.000000  846.000000         2619.000000   \n",
       "\n",
       "       #ofEmployees  \n",
       "count     31.000000  \n",
       "mean   17820.258065  \n",
       "std    18510.795189  \n",
       "min      600.000000  \n",
       "25%     6740.500000  \n",
       "50%    11631.000000  \n",
       "75%    22472.500000  \n",
       "max    91824.000000  "
      ],
      "text/html": "<div>\n<style scoped>\n    .dataframe tbody tr th:only-of-type {\n        vertical-align: middle;\n    }\n\n    .dataframe tbody tr th {\n        vertical-align: top;\n    }\n\n    .dataframe thead th {\n        text-align: right;\n    }\n</style>\n<table border=\"1\" class=\"dataframe\">\n  <thead>\n    <tr style=\"text-align: right;\">\n      <th></th>\n      <th>Latitude</th>\n      <th>Longitude</th>\n      <th>Elevation</th>\n      <th>CurrentPopulation</th>\n      <th>HouseholdsperZIPCode</th>\n      <th>AverageHouseValue</th>\n      <th>AvgIncomePerHousehold</th>\n      <th>PersonsPerHousehold</th>\n      <th>WhitePopulation</th>\n      <th>MedianAge</th>\n      <th>MalePopulation</th>\n      <th>FemalePopulation</th>\n      <th>BlackPopulation</th>\n      <th>HispanicPopulation</th>\n      <th>RetiredWorkers</th>\n      <th>DisabledWorkers</th>\n      <th>Spouses</th>\n      <th>Children</th>\n      <th>NumberofBusinesses</th>\n      <th>#ofEmployees</th>\n    </tr>\n  </thead>\n  <tbody>\n    <tr>\n      <th>count</th>\n      <td>31.000000</td>\n      <td>31.000000</td>\n      <td>31.000000</td>\n      <td>31.000000</td>\n      <td>31.000000</td>\n      <td>31.000000</td>\n      <td>31.000000</td>\n      <td>31.000000</td>\n      <td>31.000000</td>\n      <td>31.000000</td>\n      <td>31.000000</td>\n      <td>31.000000</td>\n      <td>31.000000</td>\n      <td>31.000000</td>\n      <td>31.000000</td>\n      <td>31.000000</td>\n      <td>31.000000</td>\n      <td>31.000000</td>\n      <td>31.000000</td>\n      <td>31.000000</td>\n    </tr>\n    <tr>\n      <th>mean</th>\n      <td>39.999974</td>\n      <td>-82.984779</td>\n      <td>812.903226</td>\n      <td>31252.193548</td>\n      <td>11350.161290</td>\n      <td>155632.258065</td>\n      <td>50914.419355</td>\n      <td>2.326774</td>\n      <td>18936.451613</td>\n      <td>33.203226</td>\n      <td>13576.096774</td>\n      <td>14234.000000</td>\n      <td>7528.580645</td>\n      <td>1447.774194</td>\n      <td>2739.677419</td>\n      <td>742.645161</td>\n      <td>128.806452</td>\n      <td>342.483871</td>\n      <td>704.580645</td>\n      <td>17820.258065</td>\n    </tr>\n    <tr>\n      <th>std</th>\n      <td>0.071387</td>\n      <td>0.068954</td>\n      <td>60.900112</td>\n      <td>17754.460041</td>\n      <td>6167.689811</td>\n      <td>86838.199686</td>\n      <td>19653.729086</td>\n      <td>0.310874</td>\n      <td>13344.166850</td>\n      <td>4.893702</td>\n      <td>7661.832376</td>\n      <td>8118.240372</td>\n      <td>6562.434542</td>\n      <td>1508.579502</td>\n      <td>1885.407726</td>\n      <td>566.988980</td>\n      <td>104.559208</td>\n      <td>246.882276</td>\n      <td>525.658240</td>\n      <td>18510.795189</td>\n    </tr>\n    <tr>\n      <th>min</th>\n      <td>39.816625</td>\n      <td>-83.134338</td>\n      <td>714.000000</td>\n      <td>39.000000</td>\n      <td>328.000000</td>\n      <td>0.000000</td>\n      <td>17179.000000</td>\n      <td>1.460000</td>\n      <td>421.000000</td>\n      <td>19.500000</td>\n      <td>269.000000</td>\n      <td>257.000000</td>\n      <td>36.000000</td>\n      <td>16.000000</td>\n      <td>0.000000</td>\n      <td>0.000000</td>\n      <td>0.000000</td>\n      <td>0.000000</td>\n      <td>42.000000</td>\n      <td>600.000000</td>\n    </tr>\n    <tr>\n      <th>25%</th>\n      <td>39.956474</td>\n      <td>-83.032139</td>\n      <td>765.500000</td>\n      <td>21805.500000</td>\n      <td>8049.500000</td>\n      <td>88500.000000</td>\n      <td>36986.500000</td>\n      <td>2.185000</td>\n      <td>6367.000000</td>\n      <td>31.450000</td>\n      <td>9285.500000</td>\n      <td>9869.000000</td>\n      <td>1207.500000</td>\n      <td>555.500000</td>\n      <td>1077.500000</td>\n      <td>296.000000</td>\n      <td>45.500000</td>\n      <td>140.000000</td>\n      <td>327.000000</td>\n      <td>6740.500000</td>\n    </tr>\n    <tr>\n      <th>50%</th>\n      <td>39.995575</td>\n      <td>-82.979703</td>\n      <td>812.000000</td>\n      <td>28180.000000</td>\n      <td>10860.000000</td>\n      <td>136000.000000</td>\n      <td>46013.000000</td>\n      <td>2.330000</td>\n      <td>18303.000000</td>\n      <td>33.100000</td>\n      <td>12011.000000</td>\n      <td>13380.000000</td>\n      <td>6665.000000</td>\n      <td>1082.000000</td>\n      <td>2581.000000</td>\n      <td>458.000000</td>\n      <td>107.000000</td>\n      <td>287.000000</td>\n      <td>615.000000</td>\n      <td>11631.000000</td>\n    </tr>\n    <tr>\n      <th>75%</th>\n      <td>40.045262</td>\n      <td>-82.936419</td>\n      <td>853.000000</td>\n      <td>46657.000000</td>\n      <td>16441.500000</td>\n      <td>235150.000000</td>\n      <td>67385.000000</td>\n      <td>2.440000</td>\n      <td>26761.500000</td>\n      <td>36.500000</td>\n      <td>20104.500000</td>\n      <td>20157.500000</td>\n      <td>11501.500000</td>\n      <td>1800.000000</td>\n      <td>3918.000000</td>\n      <td>1140.000000</td>\n      <td>181.000000</td>\n      <td>504.500000</td>\n      <td>948.000000</td>\n      <td>22472.500000</td>\n    </tr>\n    <tr>\n      <th>max</th>\n      <td>40.146034</td>\n      <td>-82.863748</td>\n      <td>924.000000</td>\n      <td>72592.000000</td>\n      <td>22754.000000</td>\n      <td>335700.000000</td>\n      <td>93878.000000</td>\n      <td>3.310000</td>\n      <td>51907.000000</td>\n      <td>41.900000</td>\n      <td>28964.000000</td>\n      <td>31832.000000</td>\n      <td>24434.000000</td>\n      <td>7405.000000</td>\n      <td>7813.000000</td>\n      <td>2215.000000</td>\n      <td>397.000000</td>\n      <td>846.000000</td>\n      <td>2619.000000</td>\n      <td>91824.000000</td>\n    </tr>\n  </tbody>\n</table>\n</div>"
     },
     "metadata": {},
     "execution_count": 42
    }
   ],
   "source": [
    "zip_info_df.describe()"
   ]
  },
  {
   "cell_type": "code",
   "execution_count": 43,
   "metadata": {},
   "outputs": [
    {
     "output_type": "execute_result",
     "data": {
      "text/plain": [
       "         Population  CaseCountCumulative  CaseCount30  CaseCount14  \\\n",
       "count     31.000000            31.000000    31.000000    31.000000   \n",
       "mean   29297.258065          1904.419355   454.258065   157.419355   \n",
       "std    16144.132445          1103.951864   270.923848    98.219405   \n",
       "min     2440.000000           117.000000    26.000000     6.000000   \n",
       "25%    21245.500000          1282.500000   296.000000    95.500000   \n",
       "50%    26229.000000          1634.000000   416.000000   140.000000   \n",
       "75%    42568.000000          2631.000000   660.500000   218.000000   \n",
       "max    61572.000000          4163.000000   998.000000   374.000000   \n",
       "\n",
       "       CaseCountPer100KCumulative  CaseCountPer100K30  CaseCountPer100K14  \n",
       "count                   31.000000           31.000000           31.000000  \n",
       "mean                  6616.990323         1569.687097          542.019355  \n",
       "std                   1835.567698          477.771237          182.138298  \n",
       "min                   4583.600000          207.500000           47.900000  \n",
       "25%                   5499.100000         1379.500000          456.900000  \n",
       "50%                   6072.000000         1498.200000          534.000000  \n",
       "75%                   7211.750000         1714.600000          602.200000  \n",
       "max                  11582.700000         2880.900000          983.600000  "
      ],
      "text/html": "<div>\n<style scoped>\n    .dataframe tbody tr th:only-of-type {\n        vertical-align: middle;\n    }\n\n    .dataframe tbody tr th {\n        vertical-align: top;\n    }\n\n    .dataframe thead th {\n        text-align: right;\n    }\n</style>\n<table border=\"1\" class=\"dataframe\">\n  <thead>\n    <tr style=\"text-align: right;\">\n      <th></th>\n      <th>Population</th>\n      <th>CaseCountCumulative</th>\n      <th>CaseCount30</th>\n      <th>CaseCount14</th>\n      <th>CaseCountPer100KCumulative</th>\n      <th>CaseCountPer100K30</th>\n      <th>CaseCountPer100K14</th>\n    </tr>\n  </thead>\n  <tbody>\n    <tr>\n      <th>count</th>\n      <td>31.000000</td>\n      <td>31.000000</td>\n      <td>31.000000</td>\n      <td>31.000000</td>\n      <td>31.000000</td>\n      <td>31.000000</td>\n      <td>31.000000</td>\n    </tr>\n    <tr>\n      <th>mean</th>\n      <td>29297.258065</td>\n      <td>1904.419355</td>\n      <td>454.258065</td>\n      <td>157.419355</td>\n      <td>6616.990323</td>\n      <td>1569.687097</td>\n      <td>542.019355</td>\n    </tr>\n    <tr>\n      <th>std</th>\n      <td>16144.132445</td>\n      <td>1103.951864</td>\n      <td>270.923848</td>\n      <td>98.219405</td>\n      <td>1835.567698</td>\n      <td>477.771237</td>\n      <td>182.138298</td>\n    </tr>\n    <tr>\n      <th>min</th>\n      <td>2440.000000</td>\n      <td>117.000000</td>\n      <td>26.000000</td>\n      <td>6.000000</td>\n      <td>4583.600000</td>\n      <td>207.500000</td>\n      <td>47.900000</td>\n    </tr>\n    <tr>\n      <th>25%</th>\n      <td>21245.500000</td>\n      <td>1282.500000</td>\n      <td>296.000000</td>\n      <td>95.500000</td>\n      <td>5499.100000</td>\n      <td>1379.500000</td>\n      <td>456.900000</td>\n    </tr>\n    <tr>\n      <th>50%</th>\n      <td>26229.000000</td>\n      <td>1634.000000</td>\n      <td>416.000000</td>\n      <td>140.000000</td>\n      <td>6072.000000</td>\n      <td>1498.200000</td>\n      <td>534.000000</td>\n    </tr>\n    <tr>\n      <th>75%</th>\n      <td>42568.000000</td>\n      <td>2631.000000</td>\n      <td>660.500000</td>\n      <td>218.000000</td>\n      <td>7211.750000</td>\n      <td>1714.600000</td>\n      <td>602.200000</td>\n    </tr>\n    <tr>\n      <th>max</th>\n      <td>61572.000000</td>\n      <td>4163.000000</td>\n      <td>998.000000</td>\n      <td>374.000000</td>\n      <td>11582.700000</td>\n      <td>2880.900000</td>\n      <td>983.600000</td>\n    </tr>\n  </tbody>\n</table>\n</div>"
     },
     "metadata": {},
     "execution_count": 43
    }
   ],
   "source": [
    "zip_cases_df.describe()"
   ]
  },
  {
   "cell_type": "code",
   "execution_count": 67,
   "metadata": {},
   "outputs": [
    {
     "output_type": "execute_result",
     "data": {
      "text/plain": [
       "<AxesSubplot:xlabel='ZipCode', ylabel='population'>"
      ]
     },
     "metadata": {},
     "execution_count": 67
    },
    {
     "output_type": "display_data",
     "data": {
      "text/plain": "<Figure size 1440x720 with 1 Axes>",
      "image/svg+xml": "<?xml version=\"1.0\" encoding=\"utf-8\" standalone=\"no\"?>\r\n<!DOCTYPE svg PUBLIC \"-//W3C//DTD SVG 1.1//EN\"\r\n  \"http://www.w3.org/Graphics/SVG/1.1/DTD/svg11.dtd\">\r\n<!-- Created with matplotlib (https://matplotlib.org/) -->\r\n<svg height=\"592.680469pt\" version=\"1.1\" viewBox=\"0 0 1185.459531 592.680469\" width=\"1185.459531pt\" xmlns=\"http://www.w3.org/2000/svg\" xmlns:xlink=\"http://www.w3.org/1999/xlink\">\r\n <metadata>\r\n  <rdf:RDF xmlns:cc=\"http://creativecommons.org/ns#\" xmlns:dc=\"http://purl.org/dc/elements/1.1/\" xmlns:rdf=\"http://www.w3.org/1999/02/22-rdf-syntax-ns#\">\r\n   <cc:Work>\r\n    <dc:type rdf:resource=\"http://purl.org/dc/dcmitype/StillImage\"/>\r\n    <dc:date>2021-01-02T12:32:01.310393</dc:date>\r\n    <dc:format>image/svg+xml</dc:format>\r\n    <dc:creator>\r\n     <cc:Agent>\r\n      <dc:title>Matplotlib v3.3.1, https://matplotlib.org/</dc:title>\r\n     </cc:Agent>\r\n    </dc:creator>\r\n   </cc:Work>\r\n  </rdf:RDF>\r\n </metadata>\r\n <defs>\r\n  <style type=\"text/css\">*{stroke-linecap:butt;stroke-linejoin:round;}</style>\r\n </defs>\r\n <g id=\"figure_1\">\r\n  <g id=\"patch_1\">\r\n   <path d=\"M 0 592.680469 \r\nL 1185.459531 592.680469 \r\nL 1185.459531 0 \r\nL 0 0 \r\nz\r\n\" style=\"fill:#ffffff;\"/>\r\n  </g>\r\n  <g id=\"axes_1\">\r\n   <g id=\"patch_2\">\r\n    <path d=\"M 62.259531 550.8 \r\nL 1178.259531 550.8 \r\nL 1178.259531 7.2 \r\nL 62.259531 7.2 \r\nz\r\n\" style=\"fill:#eaeaf2;\"/>\r\n   </g>\r\n   <g id=\"matplotlib.axis_1\">\r\n    <g id=\"xtick_1\">\r\n     <g id=\"text_1\">\r\n      <!-- 43081 -->\r\n      <g style=\"fill:#262626;\" transform=\"translate(64.966953 568.173594)scale(0.11 -0.11)\">\r\n       <defs>\r\n        <path d=\"M 32.328125 0 \r\nL 32.328125 17.140625 \r\nL 1.265625 17.140625 \r\nL 1.265625 25.203125 \r\nL 33.9375 71.578125 \r\nL 41.109375 71.578125 \r\nL 41.109375 25.203125 \r\nL 50.78125 25.203125 \r\nL 50.78125 17.140625 \r\nL 41.109375 17.140625 \r\nL 41.109375 0 \r\nz\r\nM 32.328125 25.203125 \r\nL 32.328125 57.46875 \r\nL 9.90625 25.203125 \r\nz\r\n\" id=\"ArialMT-52\"/>\r\n        <path d=\"M 4.203125 18.890625 \r\nL 12.984375 20.0625 \r\nQ 14.5 12.59375 18.140625 9.296875 \r\nQ 21.78125 6 27 6 \r\nQ 33.203125 6 37.46875 10.296875 \r\nQ 41.75 14.59375 41.75 20.953125 \r\nQ 41.75 27 37.796875 30.921875 \r\nQ 33.84375 34.859375 27.734375 34.859375 \r\nQ 25.25 34.859375 21.53125 33.890625 \r\nL 22.515625 41.609375 \r\nQ 23.390625 41.5 23.921875 41.5 \r\nQ 29.546875 41.5 34.03125 44.421875 \r\nQ 38.53125 47.359375 38.53125 53.46875 \r\nQ 38.53125 58.296875 35.25 61.46875 \r\nQ 31.984375 64.65625 26.8125 64.65625 \r\nQ 21.6875 64.65625 18.265625 61.421875 \r\nQ 14.84375 58.203125 13.875 51.765625 \r\nL 5.078125 53.328125 \r\nQ 6.6875 62.15625 12.390625 67.015625 \r\nQ 18.109375 71.875 26.609375 71.875 \r\nQ 32.46875 71.875 37.390625 69.359375 \r\nQ 42.328125 66.84375 44.9375 62.5 \r\nQ 47.5625 58.15625 47.5625 53.265625 \r\nQ 47.5625 48.640625 45.0625 44.828125 \r\nQ 42.578125 41.015625 37.703125 38.765625 \r\nQ 44.046875 37.3125 47.5625 32.6875 \r\nQ 51.078125 28.078125 51.078125 21.140625 \r\nQ 51.078125 11.765625 44.234375 5.25 \r\nQ 37.40625 -1.265625 26.953125 -1.265625 \r\nQ 17.53125 -1.265625 11.296875 4.34375 \r\nQ 5.078125 9.96875 4.203125 18.890625 \r\nz\r\n\" id=\"ArialMT-51\"/>\r\n        <path d=\"M 4.15625 35.296875 \r\nQ 4.15625 48 6.765625 55.734375 \r\nQ 9.375 63.484375 14.515625 67.671875 \r\nQ 19.671875 71.875 27.484375 71.875 \r\nQ 33.25 71.875 37.59375 69.546875 \r\nQ 41.9375 67.234375 44.765625 62.859375 \r\nQ 47.609375 58.5 49.21875 52.21875 \r\nQ 50.828125 45.953125 50.828125 35.296875 \r\nQ 50.828125 22.703125 48.234375 14.96875 \r\nQ 45.65625 7.234375 40.5 3 \r\nQ 35.359375 -1.21875 27.484375 -1.21875 \r\nQ 17.140625 -1.21875 11.234375 6.203125 \r\nQ 4.15625 15.140625 4.15625 35.296875 \r\nz\r\nM 13.1875 35.296875 \r\nQ 13.1875 17.671875 17.3125 11.828125 \r\nQ 21.4375 6 27.484375 6 \r\nQ 33.546875 6 37.671875 11.859375 \r\nQ 41.796875 17.71875 41.796875 35.296875 \r\nQ 41.796875 52.984375 37.671875 58.78125 \r\nQ 33.546875 64.59375 27.390625 64.59375 \r\nQ 21.34375 64.59375 17.71875 59.46875 \r\nQ 13.1875 52.9375 13.1875 35.296875 \r\nz\r\n\" id=\"ArialMT-48\"/>\r\n        <path d=\"M 17.671875 38.8125 \r\nQ 12.203125 40.828125 9.5625 44.53125 \r\nQ 6.9375 48.25 6.9375 53.421875 \r\nQ 6.9375 61.234375 12.546875 66.546875 \r\nQ 18.171875 71.875 27.484375 71.875 \r\nQ 36.859375 71.875 42.578125 66.421875 \r\nQ 48.296875 60.984375 48.296875 53.171875 \r\nQ 48.296875 48.1875 45.671875 44.5 \r\nQ 43.0625 40.828125 37.75 38.8125 \r\nQ 44.34375 36.671875 47.78125 31.875 \r\nQ 51.21875 27.09375 51.21875 20.453125 \r\nQ 51.21875 11.28125 44.71875 5.03125 \r\nQ 38.234375 -1.21875 27.640625 -1.21875 \r\nQ 17.046875 -1.21875 10.546875 5.046875 \r\nQ 4.046875 11.328125 4.046875 20.703125 \r\nQ 4.046875 27.6875 7.59375 32.390625 \r\nQ 11.140625 37.109375 17.671875 38.8125 \r\nz\r\nM 15.921875 53.71875 \r\nQ 15.921875 48.640625 19.1875 45.40625 \r\nQ 22.46875 42.1875 27.6875 42.1875 \r\nQ 32.765625 42.1875 36.015625 45.375 \r\nQ 39.265625 48.578125 39.265625 53.21875 \r\nQ 39.265625 58.0625 35.90625 61.359375 \r\nQ 32.5625 64.65625 27.59375 64.65625 \r\nQ 22.5625 64.65625 19.234375 61.421875 \r\nQ 15.921875 58.203125 15.921875 53.71875 \r\nz\r\nM 13.09375 20.65625 \r\nQ 13.09375 16.890625 14.875 13.375 \r\nQ 16.65625 9.859375 20.171875 7.921875 \r\nQ 23.6875 6 27.734375 6 \r\nQ 34.03125 6 38.125 10.046875 \r\nQ 42.234375 14.109375 42.234375 20.359375 \r\nQ 42.234375 26.703125 38.015625 30.859375 \r\nQ 33.796875 35.015625 27.4375 35.015625 \r\nQ 21.234375 35.015625 17.15625 30.90625 \r\nQ 13.09375 26.8125 13.09375 20.65625 \r\nz\r\n\" id=\"ArialMT-56\"/>\r\n        <path d=\"M 37.25 0 \r\nL 28.46875 0 \r\nL 28.46875 56 \r\nQ 25.296875 52.984375 20.140625 49.953125 \r\nQ 14.984375 46.921875 10.890625 45.40625 \r\nL 10.890625 53.90625 \r\nQ 18.265625 57.375 23.78125 62.296875 \r\nQ 29.296875 67.234375 31.59375 71.875 \r\nL 37.25 71.875 \r\nz\r\n\" id=\"ArialMT-49\"/>\r\n       </defs>\r\n       <use xlink:href=\"#ArialMT-52\"/>\r\n       <use x=\"55.615234\" xlink:href=\"#ArialMT-51\"/>\r\n       <use x=\"111.230469\" xlink:href=\"#ArialMT-48\"/>\r\n       <use x=\"166.845703\" xlink:href=\"#ArialMT-56\"/>\r\n       <use x=\"222.460938\" xlink:href=\"#ArialMT-49\"/>\r\n      </g>\r\n     </g>\r\n    </g>\r\n    <g id=\"xtick_2\">\r\n     <g id=\"text_2\">\r\n      <!-- 43085 -->\r\n      <g style=\"fill:#262626;\" transform=\"translate(100.966953 568.173594)scale(0.11 -0.11)\">\r\n       <defs>\r\n        <path d=\"M 4.15625 18.75 \r\nL 13.375 19.53125 \r\nQ 14.40625 12.796875 18.140625 9.390625 \r\nQ 21.875 6 27.15625 6 \r\nQ 33.5 6 37.890625 10.78125 \r\nQ 42.28125 15.578125 42.28125 23.484375 \r\nQ 42.28125 31 38.0625 35.34375 \r\nQ 33.84375 39.703125 27 39.703125 \r\nQ 22.75 39.703125 19.328125 37.765625 \r\nQ 15.921875 35.84375 13.96875 32.765625 \r\nL 5.71875 33.84375 \r\nL 12.640625 70.609375 \r\nL 48.25 70.609375 \r\nL 48.25 62.203125 \r\nL 19.671875 62.203125 \r\nL 15.828125 42.96875 \r\nQ 22.265625 47.46875 29.34375 47.46875 \r\nQ 38.71875 47.46875 45.15625 40.96875 \r\nQ 51.609375 34.46875 51.609375 24.265625 \r\nQ 51.609375 14.546875 45.953125 7.46875 \r\nQ 39.0625 -1.21875 27.15625 -1.21875 \r\nQ 17.390625 -1.21875 11.203125 4.25 \r\nQ 5.03125 9.71875 4.15625 18.75 \r\nz\r\n\" id=\"ArialMT-53\"/>\r\n       </defs>\r\n       <use xlink:href=\"#ArialMT-52\"/>\r\n       <use x=\"55.615234\" xlink:href=\"#ArialMT-51\"/>\r\n       <use x=\"111.230469\" xlink:href=\"#ArialMT-48\"/>\r\n       <use x=\"166.845703\" xlink:href=\"#ArialMT-56\"/>\r\n       <use x=\"222.460938\" xlink:href=\"#ArialMT-53\"/>\r\n      </g>\r\n     </g>\r\n    </g>\r\n    <g id=\"xtick_3\">\r\n     <g id=\"text_3\">\r\n      <!-- 43201 -->\r\n      <g style=\"fill:#262626;\" transform=\"translate(136.966953 568.173594)scale(0.11 -0.11)\">\r\n       <defs>\r\n        <path d=\"M 50.34375 8.453125 \r\nL 50.34375 0 \r\nL 3.03125 0 \r\nQ 2.9375 3.171875 4.046875 6.109375 \r\nQ 5.859375 10.9375 9.828125 15.625 \r\nQ 13.8125 20.3125 21.34375 26.46875 \r\nQ 33.015625 36.03125 37.109375 41.625 \r\nQ 41.21875 47.21875 41.21875 52.203125 \r\nQ 41.21875 57.421875 37.46875 61 \r\nQ 33.734375 64.59375 27.734375 64.59375 \r\nQ 21.390625 64.59375 17.578125 60.78125 \r\nQ 13.765625 56.984375 13.71875 50.25 \r\nL 4.6875 51.171875 \r\nQ 5.609375 61.28125 11.65625 66.578125 \r\nQ 17.71875 71.875 27.9375 71.875 \r\nQ 38.234375 71.875 44.234375 66.15625 \r\nQ 50.25 60.453125 50.25 52 \r\nQ 50.25 47.703125 48.484375 43.546875 \r\nQ 46.734375 39.40625 42.65625 34.8125 \r\nQ 38.578125 30.21875 29.109375 22.21875 \r\nQ 21.1875 15.578125 18.9375 13.203125 \r\nQ 16.703125 10.84375 15.234375 8.453125 \r\nz\r\n\" id=\"ArialMT-50\"/>\r\n       </defs>\r\n       <use xlink:href=\"#ArialMT-52\"/>\r\n       <use x=\"55.615234\" xlink:href=\"#ArialMT-51\"/>\r\n       <use x=\"111.230469\" xlink:href=\"#ArialMT-50\"/>\r\n       <use x=\"166.845703\" xlink:href=\"#ArialMT-48\"/>\r\n       <use x=\"222.460938\" xlink:href=\"#ArialMT-49\"/>\r\n      </g>\r\n     </g>\r\n    </g>\r\n    <g id=\"xtick_4\">\r\n     <g id=\"text_4\">\r\n      <!-- 43202 -->\r\n      <g style=\"fill:#262626;\" transform=\"translate(172.966953 568.173594)scale(0.11 -0.11)\">\r\n       <use xlink:href=\"#ArialMT-52\"/>\r\n       <use x=\"55.615234\" xlink:href=\"#ArialMT-51\"/>\r\n       <use x=\"111.230469\" xlink:href=\"#ArialMT-50\"/>\r\n       <use x=\"166.845703\" xlink:href=\"#ArialMT-48\"/>\r\n       <use x=\"222.460938\" xlink:href=\"#ArialMT-50\"/>\r\n      </g>\r\n     </g>\r\n    </g>\r\n    <g id=\"xtick_5\">\r\n     <g id=\"text_5\">\r\n      <!-- 43203 -->\r\n      <g style=\"fill:#262626;\" transform=\"translate(208.966953 568.173594)scale(0.11 -0.11)\">\r\n       <use xlink:href=\"#ArialMT-52\"/>\r\n       <use x=\"55.615234\" xlink:href=\"#ArialMT-51\"/>\r\n       <use x=\"111.230469\" xlink:href=\"#ArialMT-50\"/>\r\n       <use x=\"166.845703\" xlink:href=\"#ArialMT-48\"/>\r\n       <use x=\"222.460938\" xlink:href=\"#ArialMT-51\"/>\r\n      </g>\r\n     </g>\r\n    </g>\r\n    <g id=\"xtick_6\">\r\n     <g id=\"text_6\">\r\n      <!-- 43204 -->\r\n      <g style=\"fill:#262626;\" transform=\"translate(244.966953 568.173594)scale(0.11 -0.11)\">\r\n       <use xlink:href=\"#ArialMT-52\"/>\r\n       <use x=\"55.615234\" xlink:href=\"#ArialMT-51\"/>\r\n       <use x=\"111.230469\" xlink:href=\"#ArialMT-50\"/>\r\n       <use x=\"166.845703\" xlink:href=\"#ArialMT-48\"/>\r\n       <use x=\"222.460938\" xlink:href=\"#ArialMT-52\"/>\r\n      </g>\r\n     </g>\r\n    </g>\r\n    <g id=\"xtick_7\">\r\n     <g id=\"text_7\">\r\n      <!-- 43205 -->\r\n      <g style=\"fill:#262626;\" transform=\"translate(280.966953 568.173594)scale(0.11 -0.11)\">\r\n       <use xlink:href=\"#ArialMT-52\"/>\r\n       <use x=\"55.615234\" xlink:href=\"#ArialMT-51\"/>\r\n       <use x=\"111.230469\" xlink:href=\"#ArialMT-50\"/>\r\n       <use x=\"166.845703\" xlink:href=\"#ArialMT-48\"/>\r\n       <use x=\"222.460938\" xlink:href=\"#ArialMT-53\"/>\r\n      </g>\r\n     </g>\r\n    </g>\r\n    <g id=\"xtick_8\">\r\n     <g id=\"text_8\">\r\n      <!-- 43206 -->\r\n      <g style=\"fill:#262626;\" transform=\"translate(316.966953 568.173594)scale(0.11 -0.11)\">\r\n       <defs>\r\n        <path d=\"M 49.75 54.046875 \r\nL 41.015625 53.375 \r\nQ 39.84375 58.546875 37.703125 60.890625 \r\nQ 34.125 64.65625 28.90625 64.65625 \r\nQ 24.703125 64.65625 21.53125 62.3125 \r\nQ 17.390625 59.28125 14.984375 53.46875 \r\nQ 12.59375 47.65625 12.5 36.921875 \r\nQ 15.671875 41.75 20.265625 44.09375 \r\nQ 24.859375 46.4375 29.890625 46.4375 \r\nQ 38.671875 46.4375 44.84375 39.96875 \r\nQ 51.03125 33.5 51.03125 23.25 \r\nQ 51.03125 16.5 48.125 10.71875 \r\nQ 45.21875 4.9375 40.140625 1.859375 \r\nQ 35.0625 -1.21875 28.609375 -1.21875 \r\nQ 17.625 -1.21875 10.6875 6.859375 \r\nQ 3.765625 14.9375 3.765625 33.5 \r\nQ 3.765625 54.25 11.421875 63.671875 \r\nQ 18.109375 71.875 29.4375 71.875 \r\nQ 37.890625 71.875 43.28125 67.140625 \r\nQ 48.6875 62.40625 49.75 54.046875 \r\nz\r\nM 13.875 23.1875 \r\nQ 13.875 18.65625 15.796875 14.5 \r\nQ 17.71875 10.359375 21.1875 8.171875 \r\nQ 24.65625 6 28.46875 6 \r\nQ 34.03125 6 38.03125 10.484375 \r\nQ 42.046875 14.984375 42.046875 22.703125 \r\nQ 42.046875 30.125 38.078125 34.390625 \r\nQ 34.125 38.671875 28.125 38.671875 \r\nQ 22.171875 38.671875 18.015625 34.390625 \r\nQ 13.875 30.125 13.875 23.1875 \r\nz\r\n\" id=\"ArialMT-54\"/>\r\n       </defs>\r\n       <use xlink:href=\"#ArialMT-52\"/>\r\n       <use x=\"55.615234\" xlink:href=\"#ArialMT-51\"/>\r\n       <use x=\"111.230469\" xlink:href=\"#ArialMT-50\"/>\r\n       <use x=\"166.845703\" xlink:href=\"#ArialMT-48\"/>\r\n       <use x=\"222.460938\" xlink:href=\"#ArialMT-54\"/>\r\n      </g>\r\n     </g>\r\n    </g>\r\n    <g id=\"xtick_9\">\r\n     <g id=\"text_9\">\r\n      <!-- 43207 -->\r\n      <g style=\"fill:#262626;\" transform=\"translate(352.966953 568.173594)scale(0.11 -0.11)\">\r\n       <defs>\r\n        <path d=\"M 4.734375 62.203125 \r\nL 4.734375 70.65625 \r\nL 51.078125 70.65625 \r\nL 51.078125 63.8125 \r\nQ 44.234375 56.546875 37.515625 44.484375 \r\nQ 30.8125 32.421875 27.15625 19.671875 \r\nQ 24.515625 10.6875 23.78125 0 \r\nL 14.75 0 \r\nQ 14.890625 8.453125 18.0625 20.40625 \r\nQ 21.234375 32.375 27.171875 43.484375 \r\nQ 33.109375 54.59375 39.796875 62.203125 \r\nz\r\n\" id=\"ArialMT-55\"/>\r\n       </defs>\r\n       <use xlink:href=\"#ArialMT-52\"/>\r\n       <use x=\"55.615234\" xlink:href=\"#ArialMT-51\"/>\r\n       <use x=\"111.230469\" xlink:href=\"#ArialMT-50\"/>\r\n       <use x=\"166.845703\" xlink:href=\"#ArialMT-48\"/>\r\n       <use x=\"222.460938\" xlink:href=\"#ArialMT-55\"/>\r\n      </g>\r\n     </g>\r\n    </g>\r\n    <g id=\"xtick_10\">\r\n     <g id=\"text_10\">\r\n      <!-- 43209 -->\r\n      <g style=\"fill:#262626;\" transform=\"translate(388.966953 568.173594)scale(0.11 -0.11)\">\r\n       <defs>\r\n        <path d=\"M 5.46875 16.546875 \r\nL 13.921875 17.328125 \r\nQ 14.984375 11.375 18.015625 8.6875 \r\nQ 21.046875 6 25.78125 6 \r\nQ 29.828125 6 32.875 7.859375 \r\nQ 35.9375 9.71875 37.890625 12.8125 \r\nQ 39.84375 15.921875 41.15625 21.1875 \r\nQ 42.484375 26.46875 42.484375 31.9375 \r\nQ 42.484375 32.515625 42.4375 33.6875 \r\nQ 39.796875 29.5 35.234375 26.875 \r\nQ 30.671875 24.265625 25.34375 24.265625 \r\nQ 16.453125 24.265625 10.296875 30.703125 \r\nQ 4.15625 37.15625 4.15625 47.703125 \r\nQ 4.15625 58.59375 10.578125 65.234375 \r\nQ 17 71.875 26.65625 71.875 \r\nQ 33.640625 71.875 39.421875 68.109375 \r\nQ 45.21875 64.359375 48.21875 57.390625 \r\nQ 51.21875 50.4375 51.21875 37.25 \r\nQ 51.21875 23.53125 48.234375 15.40625 \r\nQ 45.265625 7.28125 39.375 3.03125 \r\nQ 33.5 -1.21875 25.59375 -1.21875 \r\nQ 17.1875 -1.21875 11.859375 3.4375 \r\nQ 6.546875 8.109375 5.46875 16.546875 \r\nz\r\nM 41.453125 48.140625 \r\nQ 41.453125 55.71875 37.421875 60.15625 \r\nQ 33.40625 64.59375 27.734375 64.59375 \r\nQ 21.875 64.59375 17.53125 59.8125 \r\nQ 13.1875 55.03125 13.1875 47.40625 \r\nQ 13.1875 40.578125 17.3125 36.296875 \r\nQ 21.4375 32.03125 27.484375 32.03125 \r\nQ 33.59375 32.03125 37.515625 36.296875 \r\nQ 41.453125 40.578125 41.453125 48.140625 \r\nz\r\n\" id=\"ArialMT-57\"/>\r\n       </defs>\r\n       <use xlink:href=\"#ArialMT-52\"/>\r\n       <use x=\"55.615234\" xlink:href=\"#ArialMT-51\"/>\r\n       <use x=\"111.230469\" xlink:href=\"#ArialMT-50\"/>\r\n       <use x=\"166.845703\" xlink:href=\"#ArialMT-48\"/>\r\n       <use x=\"222.460938\" xlink:href=\"#ArialMT-57\"/>\r\n      </g>\r\n     </g>\r\n    </g>\r\n    <g id=\"xtick_11\">\r\n     <g id=\"text_11\">\r\n      <!-- 43210 -->\r\n      <g style=\"fill:#262626;\" transform=\"translate(424.966953 568.173594)scale(0.11 -0.11)\">\r\n       <use xlink:href=\"#ArialMT-52\"/>\r\n       <use x=\"55.615234\" xlink:href=\"#ArialMT-51\"/>\r\n       <use x=\"111.230469\" xlink:href=\"#ArialMT-50\"/>\r\n       <use x=\"166.845703\" xlink:href=\"#ArialMT-49\"/>\r\n       <use x=\"222.460938\" xlink:href=\"#ArialMT-48\"/>\r\n      </g>\r\n     </g>\r\n    </g>\r\n    <g id=\"xtick_12\">\r\n     <g id=\"text_12\">\r\n      <!-- 43211 -->\r\n      <g style=\"fill:#262626;\" transform=\"translate(461.372578 568.173594)scale(0.11 -0.11)\">\r\n       <use xlink:href=\"#ArialMT-52\"/>\r\n       <use x=\"55.615234\" xlink:href=\"#ArialMT-51\"/>\r\n       <use x=\"111.230469\" xlink:href=\"#ArialMT-50\"/>\r\n       <use x=\"166.845703\" xlink:href=\"#ArialMT-49\"/>\r\n       <use x=\"215.085938\" xlink:href=\"#ArialMT-49\"/>\r\n      </g>\r\n     </g>\r\n    </g>\r\n    <g id=\"xtick_13\">\r\n     <g id=\"text_13\">\r\n      <!-- 43212 -->\r\n      <g style=\"fill:#262626;\" transform=\"translate(496.966953 568.173594)scale(0.11 -0.11)\">\r\n       <use xlink:href=\"#ArialMT-52\"/>\r\n       <use x=\"55.615234\" xlink:href=\"#ArialMT-51\"/>\r\n       <use x=\"111.230469\" xlink:href=\"#ArialMT-50\"/>\r\n       <use x=\"166.845703\" xlink:href=\"#ArialMT-49\"/>\r\n       <use x=\"222.460938\" xlink:href=\"#ArialMT-50\"/>\r\n      </g>\r\n     </g>\r\n    </g>\r\n    <g id=\"xtick_14\">\r\n     <g id=\"text_14\">\r\n      <!-- 43213 -->\r\n      <g style=\"fill:#262626;\" transform=\"translate(532.966953 568.173594)scale(0.11 -0.11)\">\r\n       <use xlink:href=\"#ArialMT-52\"/>\r\n       <use x=\"55.615234\" xlink:href=\"#ArialMT-51\"/>\r\n       <use x=\"111.230469\" xlink:href=\"#ArialMT-50\"/>\r\n       <use x=\"166.845703\" xlink:href=\"#ArialMT-49\"/>\r\n       <use x=\"222.460938\" xlink:href=\"#ArialMT-51\"/>\r\n      </g>\r\n     </g>\r\n    </g>\r\n    <g id=\"xtick_15\">\r\n     <g id=\"text_15\">\r\n      <!-- 43214 -->\r\n      <g style=\"fill:#262626;\" transform=\"translate(568.966953 568.173594)scale(0.11 -0.11)\">\r\n       <use xlink:href=\"#ArialMT-52\"/>\r\n       <use x=\"55.615234\" xlink:href=\"#ArialMT-51\"/>\r\n       <use x=\"111.230469\" xlink:href=\"#ArialMT-50\"/>\r\n       <use x=\"166.845703\" xlink:href=\"#ArialMT-49\"/>\r\n       <use x=\"222.460938\" xlink:href=\"#ArialMT-52\"/>\r\n      </g>\r\n     </g>\r\n    </g>\r\n    <g id=\"xtick_16\">\r\n     <g id=\"text_16\">\r\n      <!-- 43215 -->\r\n      <g style=\"fill:#262626;\" transform=\"translate(604.966953 568.173594)scale(0.11 -0.11)\">\r\n       <use xlink:href=\"#ArialMT-52\"/>\r\n       <use x=\"55.615234\" xlink:href=\"#ArialMT-51\"/>\r\n       <use x=\"111.230469\" xlink:href=\"#ArialMT-50\"/>\r\n       <use x=\"166.845703\" xlink:href=\"#ArialMT-49\"/>\r\n       <use x=\"222.460938\" xlink:href=\"#ArialMT-53\"/>\r\n      </g>\r\n     </g>\r\n    </g>\r\n    <g id=\"xtick_17\">\r\n     <g id=\"text_17\">\r\n      <!-- 43217 -->\r\n      <g style=\"fill:#262626;\" transform=\"translate(640.966953 568.173594)scale(0.11 -0.11)\">\r\n       <use xlink:href=\"#ArialMT-52\"/>\r\n       <use x=\"55.615234\" xlink:href=\"#ArialMT-51\"/>\r\n       <use x=\"111.230469\" xlink:href=\"#ArialMT-50\"/>\r\n       <use x=\"166.845703\" xlink:href=\"#ArialMT-49\"/>\r\n       <use x=\"222.460938\" xlink:href=\"#ArialMT-55\"/>\r\n      </g>\r\n     </g>\r\n    </g>\r\n    <g id=\"xtick_18\">\r\n     <g id=\"text_18\">\r\n      <!-- 43219 -->\r\n      <g style=\"fill:#262626;\" transform=\"translate(676.966953 568.173594)scale(0.11 -0.11)\">\r\n       <use xlink:href=\"#ArialMT-52\"/>\r\n       <use x=\"55.615234\" xlink:href=\"#ArialMT-51\"/>\r\n       <use x=\"111.230469\" xlink:href=\"#ArialMT-50\"/>\r\n       <use x=\"166.845703\" xlink:href=\"#ArialMT-49\"/>\r\n       <use x=\"222.460938\" xlink:href=\"#ArialMT-57\"/>\r\n      </g>\r\n     </g>\r\n    </g>\r\n    <g id=\"xtick_19\">\r\n     <g id=\"text_19\">\r\n      <!-- 43220 -->\r\n      <g style=\"fill:#262626;\" transform=\"translate(712.966953 568.173594)scale(0.11 -0.11)\">\r\n       <use xlink:href=\"#ArialMT-52\"/>\r\n       <use x=\"55.615234\" xlink:href=\"#ArialMT-51\"/>\r\n       <use x=\"111.230469\" xlink:href=\"#ArialMT-50\"/>\r\n       <use x=\"166.845703\" xlink:href=\"#ArialMT-50\"/>\r\n       <use x=\"222.460938\" xlink:href=\"#ArialMT-48\"/>\r\n      </g>\r\n     </g>\r\n    </g>\r\n    <g id=\"xtick_20\">\r\n     <g id=\"text_20\">\r\n      <!-- 43221 -->\r\n      <g style=\"fill:#262626;\" transform=\"translate(748.966953 568.173594)scale(0.11 -0.11)\">\r\n       <use xlink:href=\"#ArialMT-52\"/>\r\n       <use x=\"55.615234\" xlink:href=\"#ArialMT-51\"/>\r\n       <use x=\"111.230469\" xlink:href=\"#ArialMT-50\"/>\r\n       <use x=\"166.845703\" xlink:href=\"#ArialMT-50\"/>\r\n       <use x=\"222.460938\" xlink:href=\"#ArialMT-49\"/>\r\n      </g>\r\n     </g>\r\n    </g>\r\n    <g id=\"xtick_21\">\r\n     <g id=\"text_21\">\r\n      <!-- 43222 -->\r\n      <g style=\"fill:#262626;\" transform=\"translate(784.966953 568.173594)scale(0.11 -0.11)\">\r\n       <use xlink:href=\"#ArialMT-52\"/>\r\n       <use x=\"55.615234\" xlink:href=\"#ArialMT-51\"/>\r\n       <use x=\"111.230469\" xlink:href=\"#ArialMT-50\"/>\r\n       <use x=\"166.845703\" xlink:href=\"#ArialMT-50\"/>\r\n       <use x=\"222.460938\" xlink:href=\"#ArialMT-50\"/>\r\n      </g>\r\n     </g>\r\n    </g>\r\n    <g id=\"xtick_22\">\r\n     <g id=\"text_22\">\r\n      <!-- 43223 -->\r\n      <g style=\"fill:#262626;\" transform=\"translate(820.966953 568.173594)scale(0.11 -0.11)\">\r\n       <use xlink:href=\"#ArialMT-52\"/>\r\n       <use x=\"55.615234\" xlink:href=\"#ArialMT-51\"/>\r\n       <use x=\"111.230469\" xlink:href=\"#ArialMT-50\"/>\r\n       <use x=\"166.845703\" xlink:href=\"#ArialMT-50\"/>\r\n       <use x=\"222.460938\" xlink:href=\"#ArialMT-51\"/>\r\n      </g>\r\n     </g>\r\n    </g>\r\n    <g id=\"xtick_23\">\r\n     <g id=\"text_23\">\r\n      <!-- 43224 -->\r\n      <g style=\"fill:#262626;\" transform=\"translate(856.966953 568.173594)scale(0.11 -0.11)\">\r\n       <use xlink:href=\"#ArialMT-52\"/>\r\n       <use x=\"55.615234\" xlink:href=\"#ArialMT-51\"/>\r\n       <use x=\"111.230469\" xlink:href=\"#ArialMT-50\"/>\r\n       <use x=\"166.845703\" xlink:href=\"#ArialMT-50\"/>\r\n       <use x=\"222.460938\" xlink:href=\"#ArialMT-52\"/>\r\n      </g>\r\n     </g>\r\n    </g>\r\n    <g id=\"xtick_24\">\r\n     <g id=\"text_24\">\r\n      <!-- 43227 -->\r\n      <g style=\"fill:#262626;\" transform=\"translate(892.966953 568.173594)scale(0.11 -0.11)\">\r\n       <use xlink:href=\"#ArialMT-52\"/>\r\n       <use x=\"55.615234\" xlink:href=\"#ArialMT-51\"/>\r\n       <use x=\"111.230469\" xlink:href=\"#ArialMT-50\"/>\r\n       <use x=\"166.845703\" xlink:href=\"#ArialMT-50\"/>\r\n       <use x=\"222.460938\" xlink:href=\"#ArialMT-55\"/>\r\n      </g>\r\n     </g>\r\n    </g>\r\n    <g id=\"xtick_25\">\r\n     <g id=\"text_25\">\r\n      <!-- 43228 -->\r\n      <g style=\"fill:#262626;\" transform=\"translate(928.966953 568.173594)scale(0.11 -0.11)\">\r\n       <use xlink:href=\"#ArialMT-52\"/>\r\n       <use x=\"55.615234\" xlink:href=\"#ArialMT-51\"/>\r\n       <use x=\"111.230469\" xlink:href=\"#ArialMT-50\"/>\r\n       <use x=\"166.845703\" xlink:href=\"#ArialMT-50\"/>\r\n       <use x=\"222.460938\" xlink:href=\"#ArialMT-56\"/>\r\n      </g>\r\n     </g>\r\n    </g>\r\n    <g id=\"xtick_26\">\r\n     <g id=\"text_26\">\r\n      <!-- 43229 -->\r\n      <g style=\"fill:#262626;\" transform=\"translate(964.966953 568.173594)scale(0.11 -0.11)\">\r\n       <use xlink:href=\"#ArialMT-52\"/>\r\n       <use x=\"55.615234\" xlink:href=\"#ArialMT-51\"/>\r\n       <use x=\"111.230469\" xlink:href=\"#ArialMT-50\"/>\r\n       <use x=\"166.845703\" xlink:href=\"#ArialMT-50\"/>\r\n       <use x=\"222.460938\" xlink:href=\"#ArialMT-57\"/>\r\n      </g>\r\n     </g>\r\n    </g>\r\n    <g id=\"xtick_27\">\r\n     <g id=\"text_27\">\r\n      <!-- 43230 -->\r\n      <g style=\"fill:#262626;\" transform=\"translate(1000.966953 568.173594)scale(0.11 -0.11)\">\r\n       <use xlink:href=\"#ArialMT-52\"/>\r\n       <use x=\"55.615234\" xlink:href=\"#ArialMT-51\"/>\r\n       <use x=\"111.230469\" xlink:href=\"#ArialMT-50\"/>\r\n       <use x=\"166.845703\" xlink:href=\"#ArialMT-51\"/>\r\n       <use x=\"222.460938\" xlink:href=\"#ArialMT-48\"/>\r\n      </g>\r\n     </g>\r\n    </g>\r\n    <g id=\"xtick_28\">\r\n     <g id=\"text_28\">\r\n      <!-- 43231 -->\r\n      <g style=\"fill:#262626;\" transform=\"translate(1036.966953 568.173594)scale(0.11 -0.11)\">\r\n       <use xlink:href=\"#ArialMT-52\"/>\r\n       <use x=\"55.615234\" xlink:href=\"#ArialMT-51\"/>\r\n       <use x=\"111.230469\" xlink:href=\"#ArialMT-50\"/>\r\n       <use x=\"166.845703\" xlink:href=\"#ArialMT-51\"/>\r\n       <use x=\"222.460938\" xlink:href=\"#ArialMT-49\"/>\r\n      </g>\r\n     </g>\r\n    </g>\r\n    <g id=\"xtick_29\">\r\n     <g id=\"text_29\">\r\n      <!-- 43232 -->\r\n      <g style=\"fill:#262626;\" transform=\"translate(1072.966953 568.173594)scale(0.11 -0.11)\">\r\n       <use xlink:href=\"#ArialMT-52\"/>\r\n       <use x=\"55.615234\" xlink:href=\"#ArialMT-51\"/>\r\n       <use x=\"111.230469\" xlink:href=\"#ArialMT-50\"/>\r\n       <use x=\"166.845703\" xlink:href=\"#ArialMT-51\"/>\r\n       <use x=\"222.460938\" xlink:href=\"#ArialMT-50\"/>\r\n      </g>\r\n     </g>\r\n    </g>\r\n    <g id=\"xtick_30\">\r\n     <g id=\"text_30\">\r\n      <!-- 43235 -->\r\n      <g style=\"fill:#262626;\" transform=\"translate(1108.966953 568.173594)scale(0.11 -0.11)\">\r\n       <use xlink:href=\"#ArialMT-52\"/>\r\n       <use x=\"55.615234\" xlink:href=\"#ArialMT-51\"/>\r\n       <use x=\"111.230469\" xlink:href=\"#ArialMT-50\"/>\r\n       <use x=\"166.845703\" xlink:href=\"#ArialMT-51\"/>\r\n       <use x=\"222.460938\" xlink:href=\"#ArialMT-53\"/>\r\n      </g>\r\n     </g>\r\n    </g>\r\n    <g id=\"xtick_31\">\r\n     <g id=\"text_31\">\r\n      <!-- 43240 -->\r\n      <g style=\"fill:#262626;\" transform=\"translate(1144.966953 568.173594)scale(0.11 -0.11)\">\r\n       <use xlink:href=\"#ArialMT-52\"/>\r\n       <use x=\"55.615234\" xlink:href=\"#ArialMT-51\"/>\r\n       <use x=\"111.230469\" xlink:href=\"#ArialMT-50\"/>\r\n       <use x=\"166.845703\" xlink:href=\"#ArialMT-52\"/>\r\n       <use x=\"222.460938\" xlink:href=\"#ArialMT-48\"/>\r\n      </g>\r\n     </g>\r\n    </g>\r\n    <g id=\"text_32\">\r\n     <!-- ZipCode -->\r\n     <g style=\"fill:#262626;\" transform=\"translate(597.582344 583.095469)scale(0.12 -0.12)\">\r\n      <defs>\r\n       <path d=\"M 2 0 \r\nL 2 8.796875 \r\nL 38.671875 54.640625 \r\nQ 42.578125 59.515625 46.09375 63.140625 \r\nL 6.15625 63.140625 \r\nL 6.15625 71.578125 \r\nL 57.421875 71.578125 \r\nL 57.421875 63.140625 \r\nL 17.234375 13.484375 \r\nL 12.890625 8.453125 \r\nL 58.59375 8.453125 \r\nL 58.59375 0 \r\nz\r\n\" id=\"ArialMT-90\"/>\r\n       <path d=\"M 6.640625 61.46875 \r\nL 6.640625 71.578125 \r\nL 15.4375 71.578125 \r\nL 15.4375 61.46875 \r\nz\r\nM 6.640625 0 \r\nL 6.640625 51.859375 \r\nL 15.4375 51.859375 \r\nL 15.4375 0 \r\nz\r\n\" id=\"ArialMT-105\"/>\r\n       <path d=\"M 6.59375 -19.875 \r\nL 6.59375 51.859375 \r\nL 14.59375 51.859375 \r\nL 14.59375 45.125 \r\nQ 17.4375 49.078125 21 51.046875 \r\nQ 24.5625 53.03125 29.640625 53.03125 \r\nQ 36.28125 53.03125 41.359375 49.609375 \r\nQ 46.4375 46.1875 49.015625 39.953125 \r\nQ 51.609375 33.734375 51.609375 26.3125 \r\nQ 51.609375 18.359375 48.75 11.984375 \r\nQ 45.90625 5.609375 40.453125 2.21875 \r\nQ 35.015625 -1.171875 29 -1.171875 \r\nQ 24.609375 -1.171875 21.109375 0.6875 \r\nQ 17.625 2.546875 15.375 5.375 \r\nL 15.375 -19.875 \r\nz\r\nM 14.546875 25.640625 \r\nQ 14.546875 15.625 18.59375 10.84375 \r\nQ 22.65625 6.0625 28.421875 6.0625 \r\nQ 34.28125 6.0625 38.453125 11.015625 \r\nQ 42.625 15.96875 42.625 26.375 \r\nQ 42.625 36.28125 38.546875 41.203125 \r\nQ 34.46875 46.140625 28.8125 46.140625 \r\nQ 23.1875 46.140625 18.859375 40.890625 \r\nQ 14.546875 35.640625 14.546875 25.640625 \r\nz\r\n\" id=\"ArialMT-112\"/>\r\n       <path d=\"M 58.796875 25.09375 \r\nL 68.265625 22.703125 \r\nQ 65.28125 11.03125 57.546875 4.90625 \r\nQ 49.8125 -1.21875 38.625 -1.21875 \r\nQ 27.046875 -1.21875 19.796875 3.484375 \r\nQ 12.546875 8.203125 8.765625 17.140625 \r\nQ 4.984375 26.078125 4.984375 36.328125 \r\nQ 4.984375 47.515625 9.25 55.828125 \r\nQ 13.53125 64.15625 21.40625 68.46875 \r\nQ 29.296875 72.796875 38.765625 72.796875 \r\nQ 49.515625 72.796875 56.828125 67.328125 \r\nQ 64.15625 61.859375 67.046875 51.953125 \r\nL 57.71875 49.75 \r\nQ 55.21875 57.5625 50.484375 61.125 \r\nQ 45.75 64.703125 38.578125 64.703125 \r\nQ 30.328125 64.703125 24.78125 60.734375 \r\nQ 19.234375 56.78125 16.984375 50.109375 \r\nQ 14.75 43.453125 14.75 36.375 \r\nQ 14.75 27.25 17.40625 20.4375 \r\nQ 20.0625 13.625 25.671875 10.25 \r\nQ 31.296875 6.890625 37.84375 6.890625 \r\nQ 45.796875 6.890625 51.3125 11.46875 \r\nQ 56.84375 16.0625 58.796875 25.09375 \r\nz\r\n\" id=\"ArialMT-67\"/>\r\n       <path d=\"M 3.328125 25.921875 \r\nQ 3.328125 40.328125 11.328125 47.265625 \r\nQ 18.015625 53.03125 27.640625 53.03125 \r\nQ 38.328125 53.03125 45.109375 46.015625 \r\nQ 51.90625 39.015625 51.90625 26.65625 \r\nQ 51.90625 16.65625 48.90625 10.90625 \r\nQ 45.90625 5.171875 40.15625 2 \r\nQ 34.421875 -1.171875 27.640625 -1.171875 \r\nQ 16.75 -1.171875 10.03125 5.8125 \r\nQ 3.328125 12.796875 3.328125 25.921875 \r\nz\r\nM 12.359375 25.921875 \r\nQ 12.359375 15.96875 16.703125 11.015625 \r\nQ 21.046875 6.0625 27.640625 6.0625 \r\nQ 34.1875 6.0625 38.53125 11.03125 \r\nQ 42.875 16.015625 42.875 26.21875 \r\nQ 42.875 35.84375 38.5 40.796875 \r\nQ 34.125 45.75 27.640625 45.75 \r\nQ 21.046875 45.75 16.703125 40.8125 \r\nQ 12.359375 35.890625 12.359375 25.921875 \r\nz\r\n\" id=\"ArialMT-111\"/>\r\n       <path d=\"M 40.234375 0 \r\nL 40.234375 6.546875 \r\nQ 35.296875 -1.171875 25.734375 -1.171875 \r\nQ 19.53125 -1.171875 14.328125 2.25 \r\nQ 9.125 5.671875 6.265625 11.796875 \r\nQ 3.421875 17.921875 3.421875 25.875 \r\nQ 3.421875 33.640625 6 39.96875 \r\nQ 8.59375 46.296875 13.765625 49.65625 \r\nQ 18.953125 53.03125 25.34375 53.03125 \r\nQ 30.03125 53.03125 33.6875 51.046875 \r\nQ 37.359375 49.078125 39.65625 45.90625 \r\nL 39.65625 71.578125 \r\nL 48.390625 71.578125 \r\nL 48.390625 0 \r\nz\r\nM 12.453125 25.875 \r\nQ 12.453125 15.921875 16.640625 10.984375 \r\nQ 20.84375 6.0625 26.5625 6.0625 \r\nQ 32.328125 6.0625 36.34375 10.765625 \r\nQ 40.375 15.484375 40.375 25.140625 \r\nQ 40.375 35.796875 36.265625 40.765625 \r\nQ 32.171875 45.75 26.171875 45.75 \r\nQ 20.3125 45.75 16.375 40.96875 \r\nQ 12.453125 36.1875 12.453125 25.875 \r\nz\r\n\" id=\"ArialMT-100\"/>\r\n       <path d=\"M 42.09375 16.703125 \r\nL 51.171875 15.578125 \r\nQ 49.03125 7.625 43.21875 3.21875 \r\nQ 37.40625 -1.171875 28.375 -1.171875 \r\nQ 17 -1.171875 10.328125 5.828125 \r\nQ 3.65625 12.84375 3.65625 25.484375 \r\nQ 3.65625 38.578125 10.390625 45.796875 \r\nQ 17.140625 53.03125 27.875 53.03125 \r\nQ 38.28125 53.03125 44.875 45.953125 \r\nQ 51.46875 38.875 51.46875 26.03125 \r\nQ 51.46875 25.25 51.421875 23.6875 \r\nL 12.75 23.6875 \r\nQ 13.234375 15.140625 17.578125 10.59375 \r\nQ 21.921875 6.0625 28.421875 6.0625 \r\nQ 33.25 6.0625 36.671875 8.59375 \r\nQ 40.09375 11.140625 42.09375 16.703125 \r\nz\r\nM 13.234375 30.90625 \r\nL 42.1875 30.90625 \r\nQ 41.609375 37.453125 38.875 40.71875 \r\nQ 34.671875 45.796875 27.984375 45.796875 \r\nQ 21.921875 45.796875 17.796875 41.75 \r\nQ 13.671875 37.703125 13.234375 30.90625 \r\nz\r\n\" id=\"ArialMT-101\"/>\r\n      </defs>\r\n      <use xlink:href=\"#ArialMT-90\"/>\r\n      <use x=\"61.083984\" xlink:href=\"#ArialMT-105\"/>\r\n      <use x=\"83.300781\" xlink:href=\"#ArialMT-112\"/>\r\n      <use x=\"138.916016\" xlink:href=\"#ArialMT-67\"/>\r\n      <use x=\"211.132812\" xlink:href=\"#ArialMT-111\"/>\r\n      <use x=\"266.748047\" xlink:href=\"#ArialMT-100\"/>\r\n      <use x=\"322.363281\" xlink:href=\"#ArialMT-101\"/>\r\n     </g>\r\n    </g>\r\n   </g>\r\n   <g id=\"matplotlib.axis_2\">\r\n    <g id=\"ytick_1\">\r\n     <g id=\"line2d_1\">\r\n      <path clip-path=\"url(#p3981836b77)\" d=\"M 62.259531 550.8 \r\nL 1178.259531 550.8 \r\n\" style=\"fill:none;stroke:#ffffff;stroke-linecap:round;\"/>\r\n     </g>\r\n     <g id=\"text_33\">\r\n      <!-- 0 -->\r\n      <g style=\"fill:#262626;\" transform=\"translate(46.6425 554.736797)scale(0.11 -0.11)\">\r\n       <use xlink:href=\"#ArialMT-48\"/>\r\n      </g>\r\n     </g>\r\n    </g>\r\n    <g id=\"ytick_2\">\r\n     <g id=\"line2d_2\">\r\n      <path clip-path=\"url(#p3981836b77)\" d=\"M 62.259531 469.480214 \r\nL 1178.259531 469.480214 \r\n\" style=\"fill:none;stroke:#ffffff;stroke-linecap:round;\"/>\r\n     </g>\r\n     <g id=\"text_34\">\r\n      <!-- 5000 -->\r\n      <g style=\"fill:#262626;\" transform=\"translate(28.291406 473.417011)scale(0.11 -0.11)\">\r\n       <use xlink:href=\"#ArialMT-53\"/>\r\n       <use x=\"55.615234\" xlink:href=\"#ArialMT-48\"/>\r\n       <use x=\"111.230469\" xlink:href=\"#ArialMT-48\"/>\r\n       <use x=\"166.845703\" xlink:href=\"#ArialMT-48\"/>\r\n      </g>\r\n     </g>\r\n    </g>\r\n    <g id=\"ytick_3\">\r\n     <g id=\"line2d_3\">\r\n      <path clip-path=\"url(#p3981836b77)\" d=\"M 62.259531 388.160428 \r\nL 1178.259531 388.160428 \r\n\" style=\"fill:none;stroke:#ffffff;stroke-linecap:round;\"/>\r\n     </g>\r\n     <g id=\"text_35\">\r\n      <!-- 10000 -->\r\n      <g style=\"fill:#262626;\" transform=\"translate(22.174375 392.097225)scale(0.11 -0.11)\">\r\n       <use xlink:href=\"#ArialMT-49\"/>\r\n       <use x=\"55.615234\" xlink:href=\"#ArialMT-48\"/>\r\n       <use x=\"111.230469\" xlink:href=\"#ArialMT-48\"/>\r\n       <use x=\"166.845703\" xlink:href=\"#ArialMT-48\"/>\r\n       <use x=\"222.460938\" xlink:href=\"#ArialMT-48\"/>\r\n      </g>\r\n     </g>\r\n    </g>\r\n    <g id=\"ytick_4\">\r\n     <g id=\"line2d_4\">\r\n      <path clip-path=\"url(#p3981836b77)\" d=\"M 62.259531 306.840642 \r\nL 1178.259531 306.840642 \r\n\" style=\"fill:none;stroke:#ffffff;stroke-linecap:round;\"/>\r\n     </g>\r\n     <g id=\"text_36\">\r\n      <!-- 15000 -->\r\n      <g style=\"fill:#262626;\" transform=\"translate(22.174375 310.777439)scale(0.11 -0.11)\">\r\n       <use xlink:href=\"#ArialMT-49\"/>\r\n       <use x=\"55.615234\" xlink:href=\"#ArialMT-53\"/>\r\n       <use x=\"111.230469\" xlink:href=\"#ArialMT-48\"/>\r\n       <use x=\"166.845703\" xlink:href=\"#ArialMT-48\"/>\r\n       <use x=\"222.460938\" xlink:href=\"#ArialMT-48\"/>\r\n      </g>\r\n     </g>\r\n    </g>\r\n    <g id=\"ytick_5\">\r\n     <g id=\"line2d_5\">\r\n      <path clip-path=\"url(#p3981836b77)\" d=\"M 62.259531 225.520856 \r\nL 1178.259531 225.520856 \r\n\" style=\"fill:none;stroke:#ffffff;stroke-linecap:round;\"/>\r\n     </g>\r\n     <g id=\"text_37\">\r\n      <!-- 20000 -->\r\n      <g style=\"fill:#262626;\" transform=\"translate(22.174375 229.457653)scale(0.11 -0.11)\">\r\n       <use xlink:href=\"#ArialMT-50\"/>\r\n       <use x=\"55.615234\" xlink:href=\"#ArialMT-48\"/>\r\n       <use x=\"111.230469\" xlink:href=\"#ArialMT-48\"/>\r\n       <use x=\"166.845703\" xlink:href=\"#ArialMT-48\"/>\r\n       <use x=\"222.460938\" xlink:href=\"#ArialMT-48\"/>\r\n      </g>\r\n     </g>\r\n    </g>\r\n    <g id=\"ytick_6\">\r\n     <g id=\"line2d_6\">\r\n      <path clip-path=\"url(#p3981836b77)\" d=\"M 62.259531 144.20107 \r\nL 1178.259531 144.20107 \r\n\" style=\"fill:none;stroke:#ffffff;stroke-linecap:round;\"/>\r\n     </g>\r\n     <g id=\"text_38\">\r\n      <!-- 25000 -->\r\n      <g style=\"fill:#262626;\" transform=\"translate(22.174375 148.137867)scale(0.11 -0.11)\">\r\n       <use xlink:href=\"#ArialMT-50\"/>\r\n       <use x=\"55.615234\" xlink:href=\"#ArialMT-53\"/>\r\n       <use x=\"111.230469\" xlink:href=\"#ArialMT-48\"/>\r\n       <use x=\"166.845703\" xlink:href=\"#ArialMT-48\"/>\r\n       <use x=\"222.460938\" xlink:href=\"#ArialMT-48\"/>\r\n      </g>\r\n     </g>\r\n    </g>\r\n    <g id=\"ytick_7\">\r\n     <g id=\"line2d_7\">\r\n      <path clip-path=\"url(#p3981836b77)\" d=\"M 62.259531 62.881284 \r\nL 1178.259531 62.881284 \r\n\" style=\"fill:none;stroke:#ffffff;stroke-linecap:round;\"/>\r\n     </g>\r\n     <g id=\"text_39\">\r\n      <!-- 30000 -->\r\n      <g style=\"fill:#262626;\" transform=\"translate(22.174375 66.818081)scale(0.11 -0.11)\">\r\n       <use xlink:href=\"#ArialMT-51\"/>\r\n       <use x=\"55.615234\" xlink:href=\"#ArialMT-48\"/>\r\n       <use x=\"111.230469\" xlink:href=\"#ArialMT-48\"/>\r\n       <use x=\"166.845703\" xlink:href=\"#ArialMT-48\"/>\r\n       <use x=\"222.460938\" xlink:href=\"#ArialMT-48\"/>\r\n      </g>\r\n     </g>\r\n    </g>\r\n    <g id=\"text_40\">\r\n     <!-- population -->\r\n     <g style=\"fill:#262626;\" transform=\"translate(15.789375 306.689062)rotate(-90)scale(0.12 -0.12)\">\r\n      <defs>\r\n       <path d=\"M 40.578125 0 \r\nL 40.578125 7.625 \r\nQ 34.515625 -1.171875 24.125 -1.171875 \r\nQ 19.53125 -1.171875 15.546875 0.578125 \r\nQ 11.578125 2.34375 9.640625 5 \r\nQ 7.71875 7.671875 6.9375 11.53125 \r\nQ 6.390625 14.109375 6.390625 19.734375 \r\nL 6.390625 51.859375 \r\nL 15.1875 51.859375 \r\nL 15.1875 23.09375 \r\nQ 15.1875 16.21875 15.71875 13.8125 \r\nQ 16.546875 10.359375 19.234375 8.375 \r\nQ 21.921875 6.390625 25.875 6.390625 \r\nQ 29.828125 6.390625 33.296875 8.421875 \r\nQ 36.765625 10.453125 38.203125 13.9375 \r\nQ 39.65625 17.4375 39.65625 24.078125 \r\nL 39.65625 51.859375 \r\nL 48.4375 51.859375 \r\nL 48.4375 0 \r\nz\r\n\" id=\"ArialMT-117\"/>\r\n       <path d=\"M 6.390625 0 \r\nL 6.390625 71.578125 \r\nL 15.1875 71.578125 \r\nL 15.1875 0 \r\nz\r\n\" id=\"ArialMT-108\"/>\r\n       <path d=\"M 40.4375 6.390625 \r\nQ 35.546875 2.25 31.03125 0.53125 \r\nQ 26.515625 -1.171875 21.34375 -1.171875 \r\nQ 12.796875 -1.171875 8.203125 3 \r\nQ 3.609375 7.171875 3.609375 13.671875 \r\nQ 3.609375 17.484375 5.34375 20.625 \r\nQ 7.078125 23.78125 9.890625 25.6875 \r\nQ 12.703125 27.59375 16.21875 28.5625 \r\nQ 18.796875 29.25 24.03125 29.890625 \r\nQ 34.671875 31.15625 39.703125 32.90625 \r\nQ 39.75 34.71875 39.75 35.203125 \r\nQ 39.75 40.578125 37.25 42.78125 \r\nQ 33.890625 45.75 27.25 45.75 \r\nQ 21.046875 45.75 18.09375 43.578125 \r\nQ 15.140625 41.40625 13.71875 35.890625 \r\nL 5.125 37.0625 \r\nQ 6.296875 42.578125 8.984375 45.96875 \r\nQ 11.671875 49.359375 16.75 51.1875 \r\nQ 21.828125 53.03125 28.515625 53.03125 \r\nQ 35.15625 53.03125 39.296875 51.46875 \r\nQ 43.453125 49.90625 45.40625 47.53125 \r\nQ 47.359375 45.171875 48.140625 41.546875 \r\nQ 48.578125 39.3125 48.578125 33.453125 \r\nL 48.578125 21.734375 \r\nQ 48.578125 9.46875 49.140625 6.21875 \r\nQ 49.703125 2.984375 51.375 0 \r\nL 42.1875 0 \r\nQ 40.828125 2.734375 40.4375 6.390625 \r\nz\r\nM 39.703125 26.03125 \r\nQ 34.90625 24.078125 25.34375 22.703125 \r\nQ 19.921875 21.921875 17.671875 20.9375 \r\nQ 15.4375 19.96875 14.203125 18.09375 \r\nQ 12.984375 16.21875 12.984375 13.921875 \r\nQ 12.984375 10.40625 15.640625 8.0625 \r\nQ 18.3125 5.71875 23.4375 5.71875 \r\nQ 28.515625 5.71875 32.46875 7.9375 \r\nQ 36.421875 10.15625 38.28125 14.015625 \r\nQ 39.703125 17 39.703125 22.796875 \r\nz\r\n\" id=\"ArialMT-97\"/>\r\n       <path d=\"M 25.78125 7.859375 \r\nL 27.046875 0.09375 \r\nQ 23.34375 -0.6875 20.40625 -0.6875 \r\nQ 15.625 -0.6875 12.984375 0.828125 \r\nQ 10.359375 2.34375 9.28125 4.8125 \r\nQ 8.203125 7.28125 8.203125 15.1875 \r\nL 8.203125 45.015625 \r\nL 1.765625 45.015625 \r\nL 1.765625 51.859375 \r\nL 8.203125 51.859375 \r\nL 8.203125 64.703125 \r\nL 16.9375 69.96875 \r\nL 16.9375 51.859375 \r\nL 25.78125 51.859375 \r\nL 25.78125 45.015625 \r\nL 16.9375 45.015625 \r\nL 16.9375 14.703125 \r\nQ 16.9375 10.9375 17.40625 9.859375 \r\nQ 17.875 8.796875 18.921875 8.15625 \r\nQ 19.96875 7.515625 21.921875 7.515625 \r\nQ 23.390625 7.515625 25.78125 7.859375 \r\nz\r\n\" id=\"ArialMT-116\"/>\r\n       <path d=\"M 6.59375 0 \r\nL 6.59375 51.859375 \r\nL 14.5 51.859375 \r\nL 14.5 44.484375 \r\nQ 20.21875 53.03125 31 53.03125 \r\nQ 35.6875 53.03125 39.625 51.34375 \r\nQ 43.5625 49.65625 45.515625 46.921875 \r\nQ 47.46875 44.1875 48.25 40.4375 \r\nQ 48.734375 37.984375 48.734375 31.890625 \r\nL 48.734375 0 \r\nL 39.9375 0 \r\nL 39.9375 31.546875 \r\nQ 39.9375 36.921875 38.90625 39.578125 \r\nQ 37.890625 42.234375 35.28125 43.8125 \r\nQ 32.671875 45.40625 29.15625 45.40625 \r\nQ 23.53125 45.40625 19.453125 41.84375 \r\nQ 15.375 38.28125 15.375 28.328125 \r\nL 15.375 0 \r\nz\r\n\" id=\"ArialMT-110\"/>\r\n      </defs>\r\n      <use xlink:href=\"#ArialMT-112\"/>\r\n      <use x=\"55.615234\" xlink:href=\"#ArialMT-111\"/>\r\n      <use x=\"111.230469\" xlink:href=\"#ArialMT-112\"/>\r\n      <use x=\"166.845703\" xlink:href=\"#ArialMT-117\"/>\r\n      <use x=\"222.460938\" xlink:href=\"#ArialMT-108\"/>\r\n      <use x=\"244.677734\" xlink:href=\"#ArialMT-97\"/>\r\n      <use x=\"300.292969\" xlink:href=\"#ArialMT-116\"/>\r\n      <use x=\"328.076172\" xlink:href=\"#ArialMT-105\"/>\r\n      <use x=\"350.292969\" xlink:href=\"#ArialMT-111\"/>\r\n      <use x=\"405.908203\" xlink:href=\"#ArialMT-110\"/>\r\n     </g>\r\n    </g>\r\n   </g>\r\n   <g id=\"patch_3\">\r\n    <path clip-path=\"url(#p3981836b77)\" d=\"M 65.859531 550.8 \r\nL 80.259531 550.8 \r\nL 80.259531 79.730744 \r\nL 65.859531 79.730744 \r\nz\r\n\" style=\"fill:#cb6d67;stroke:#ffffff;stroke-linejoin:miter;\"/>\r\n   </g>\r\n   <g id=\"patch_4\">\r\n    <path clip-path=\"url(#p3981836b77)\" d=\"M 101.859531 550.8 \r\nL 116.259531 550.8 \r\nL 116.259531 379.540531 \r\nL 101.859531 379.540531 \r\nz\r\n\" style=\"fill:#cb6d67;stroke:#ffffff;stroke-linejoin:miter;\"/>\r\n   </g>\r\n   <g id=\"patch_5\">\r\n    <path clip-path=\"url(#p3981836b77)\" d=\"M 137.859531 550.8 \r\nL 152.259531 550.8 \r\nL 152.259531 160.18854 \r\nL 137.859531 160.18854 \r\nz\r\n\" style=\"fill:#cb6d67;stroke:#ffffff;stroke-linejoin:miter;\"/>\r\n   </g>\r\n   <g id=\"patch_6\">\r\n    <path clip-path=\"url(#p3981836b77)\" d=\"M 173.859531 550.8 \r\nL 188.259531 550.8 \r\nL 188.259531 371.880207 \r\nL 173.859531 371.880207 \r\nz\r\n\" style=\"fill:#cb6d67;stroke:#ffffff;stroke-linejoin:miter;\"/>\r\n   </g>\r\n   <g id=\"patch_7\">\r\n    <path clip-path=\"url(#p3981836b77)\" d=\"M 209.859531 550.8 \r\nL 224.259531 550.8 \r\nL 224.259531 476.424924 \r\nL 209.859531 476.424924 \r\nz\r\n\" style=\"fill:#cb6d67;stroke:#ffffff;stroke-linejoin:miter;\"/>\r\n   </g>\r\n   <g id=\"patch_8\">\r\n    <path clip-path=\"url(#p3981836b77)\" d=\"M 245.859531 550.8 \r\nL 260.259531 550.8 \r\nL 260.259531 197.644433 \r\nL 245.859531 197.644433 \r\nz\r\n\" style=\"fill:#cb6d67;stroke:#ffffff;stroke-linejoin:miter;\"/>\r\n   </g>\r\n   <g id=\"patch_9\">\r\n    <path clip-path=\"url(#p3981836b77)\" d=\"M 281.859531 550.8 \r\nL 296.259531 550.8 \r\nL 296.259531 445.686045 \r\nL 281.859531 445.686045 \r\nz\r\n\" style=\"fill:#cb6d67;stroke:#ffffff;stroke-linejoin:miter;\"/>\r\n   </g>\r\n   <g id=\"patch_10\">\r\n    <path clip-path=\"url(#p3981836b77)\" d=\"M 317.859531 550.8 \r\nL 332.259531 550.8 \r\nL 332.259531 361.129731 \r\nL 317.859531 361.129731 \r\nz\r\n\" style=\"fill:#cb6d67;stroke:#ffffff;stroke-linejoin:miter;\"/>\r\n   </g>\r\n   <g id=\"patch_11\">\r\n    <path clip-path=\"url(#p3981836b77)\" d=\"M 353.859531 550.8 \r\nL 368.259531 550.8 \r\nL 368.259531 185.413937 \r\nL 353.859531 185.413937 \r\nz\r\n\" style=\"fill:#cb6d67;stroke:#ffffff;stroke-linejoin:miter;\"/>\r\n   </g>\r\n   <g id=\"patch_12\">\r\n    <path clip-path=\"url(#p3981836b77)\" d=\"M 389.859531 550.8 \r\nL 404.259531 550.8 \r\nL 404.259531 355.957793 \r\nL 389.859531 355.957793 \r\nz\r\n\" style=\"fill:#cb6d67;stroke:#ffffff;stroke-linejoin:miter;\"/>\r\n   </g>\r\n   <g id=\"patch_13\">\r\n    <path clip-path=\"url(#p3981836b77)\" d=\"M 425.859531 550.8 \r\nL 440.259531 550.8 \r\nL 440.259531 546.424996 \r\nL 425.859531 546.424996 \r\nz\r\n\" style=\"fill:#cb6d67;stroke:#ffffff;stroke-linejoin:miter;\"/>\r\n   </g>\r\n   <g id=\"patch_14\">\r\n    <path clip-path=\"url(#p3981836b77)\" d=\"M 461.859531 550.8 \r\nL 476.259531 550.8 \r\nL 476.259531 383.866743 \r\nL 461.859531 383.866743 \r\nz\r\n\" style=\"fill:#cb6d67;stroke:#ffffff;stroke-linejoin:miter;\"/>\r\n   </g>\r\n   <g id=\"patch_15\">\r\n    <path clip-path=\"url(#p3981836b77)\" d=\"M 497.859531 550.8 \r\nL 512.259531 550.8 \r\nL 512.259531 380.630216 \r\nL 497.859531 380.630216 \r\nz\r\n\" style=\"fill:#cb6d67;stroke:#ffffff;stroke-linejoin:miter;\"/>\r\n   </g>\r\n   <g id=\"patch_16\">\r\n    <path clip-path=\"url(#p3981836b77)\" d=\"M 533.859531 550.8 \r\nL 548.259531 550.8 \r\nL 548.259531 313.541392 \r\nL 533.859531 313.541392 \r\nz\r\n\" style=\"fill:#cb6d67;stroke:#ffffff;stroke-linejoin:miter;\"/>\r\n   </g>\r\n   <g id=\"patch_17\">\r\n    <path clip-path=\"url(#p3981836b77)\" d=\"M 569.859531 550.8 \r\nL 584.259531 550.8 \r\nL 584.259531 352.851377 \r\nL 569.859531 352.851377 \r\nz\r\n\" style=\"fill:#cb6d67;stroke:#ffffff;stroke-linejoin:miter;\"/>\r\n   </g>\r\n   <g id=\"patch_18\">\r\n    <path clip-path=\"url(#p3981836b77)\" d=\"M 605.859531 550.8 \r\nL 620.259531 550.8 \r\nL 620.259531 407.433217 \r\nL 605.859531 407.433217 \r\nz\r\n\" style=\"fill:#cb6d67;stroke:#ffffff;stroke-linejoin:miter;\"/>\r\n   </g>\r\n   <g id=\"patch_19\">\r\n    <path clip-path=\"url(#p3981836b77)\" d=\"M 641.859531 550.8 \r\nL 656.259531 550.8 \r\nL 656.259531 527.08715 \r\nL 641.859531 527.08715 \r\nz\r\n\" style=\"fill:#cb6d67;stroke:#ffffff;stroke-linejoin:miter;\"/>\r\n   </g>\r\n   <g id=\"patch_20\">\r\n    <path clip-path=\"url(#p3981836b77)\" d=\"M 677.859531 550.8 \r\nL 692.259531 550.8 \r\nL 692.259531 355.45361 \r\nL 677.859531 355.45361 \r\nz\r\n\" style=\"fill:#cb6d67;stroke:#ffffff;stroke-linejoin:miter;\"/>\r\n   </g>\r\n   <g id=\"patch_21\">\r\n    <path clip-path=\"url(#p3981836b77)\" d=\"M 713.859531 550.8 \r\nL 728.259531 550.8 \r\nL 728.259531 344.117632 \r\nL 713.859531 344.117632 \r\nz\r\n\" style=\"fill:#cb6d67;stroke:#ffffff;stroke-linejoin:miter;\"/>\r\n   </g>\r\n   <g id=\"patch_22\">\r\n    <path clip-path=\"url(#p3981836b77)\" d=\"M 749.859531 550.8 \r\nL 764.259531 550.8 \r\nL 764.259531 298.171953 \r\nL 749.859531 298.171953 \r\nz\r\n\" style=\"fill:#cb6d67;stroke:#ffffff;stroke-linejoin:miter;\"/>\r\n   </g>\r\n   <g id=\"patch_23\">\r\n    <path clip-path=\"url(#p3981836b77)\" d=\"M 785.859531 550.8 \r\nL 800.259531 550.8 \r\nL 800.259531 510.806929 \r\nL 785.859531 510.806929 \r\nz\r\n\" style=\"fill:#cb6d67;stroke:#ffffff;stroke-linejoin:miter;\"/>\r\n   </g>\r\n   <g id=\"patch_24\">\r\n    <path clip-path=\"url(#p3981836b77)\" d=\"M 821.859531 550.8 \r\nL 836.259531 550.8 \r\nL 836.259531 313.801616 \r\nL 821.859531 313.801616 \r\nz\r\n\" style=\"fill:#cb6d67;stroke:#ffffff;stroke-linejoin:miter;\"/>\r\n   </g>\r\n   <g id=\"patch_25\">\r\n    <path clip-path=\"url(#p3981836b77)\" d=\"M 857.859531 550.8 \r\nL 872.259531 550.8 \r\nL 872.259531 256.715126 \r\nL 857.859531 256.715126 \r\nz\r\n\" style=\"fill:#cb6d67;stroke:#ffffff;stroke-linejoin:miter;\"/>\r\n   </g>\r\n   <g id=\"patch_26\">\r\n    <path clip-path=\"url(#p3981836b77)\" d=\"M 893.859531 550.8 \r\nL 908.259531 550.8 \r\nL 908.259531 398.553097 \r\nL 893.859531 398.553097 \r\nz\r\n\" style=\"fill:#cb6d67;stroke:#ffffff;stroke-linejoin:miter;\"/>\r\n   </g>\r\n   <g id=\"patch_27\">\r\n    <path clip-path=\"url(#p3981836b77)\" d=\"M 929.859531 550.8 \r\nL 944.259531 550.8 \r\nL 944.259531 113.429663 \r\nL 929.859531 113.429663 \r\nz\r\n\" style=\"fill:#cb6d67;stroke:#ffffff;stroke-linejoin:miter;\"/>\r\n   </g>\r\n   <g id=\"patch_28\">\r\n    <path clip-path=\"url(#p3981836b77)\" d=\"M 965.859531 550.8 \r\nL 980.259531 550.8 \r\nL 980.259531 212.834969 \r\nL 965.859531 212.834969 \r\nz\r\n\" style=\"fill:#cb6d67;stroke:#ffffff;stroke-linejoin:miter;\"/>\r\n   </g>\r\n   <g id=\"patch_29\">\r\n    <path clip-path=\"url(#p3981836b77)\" d=\"M 1001.859531 550.8 \r\nL 1016.259531 550.8 \r\nL 1016.259531 146.835831 \r\nL 1001.859531 146.835831 \r\nz\r\n\" style=\"fill:#cb6d67;stroke:#ffffff;stroke-linejoin:miter;\"/>\r\n   </g>\r\n   <g id=\"patch_30\">\r\n    <path clip-path=\"url(#p3981836b77)\" d=\"M 1037.859531 550.8 \r\nL 1052.259531 550.8 \r\nL 1052.259531 401.008954 \r\nL 1037.859531 401.008954 \r\nz\r\n\" style=\"fill:#cb6d67;stroke:#ffffff;stroke-linejoin:miter;\"/>\r\n   </g>\r\n   <g id=\"patch_31\">\r\n    <path clip-path=\"url(#p3981836b77)\" d=\"M 1073.859531 550.8 \r\nL 1088.259531 550.8 \r\nL 1088.259531 223.064998 \r\nL 1073.859531 223.064998 \r\nz\r\n\" style=\"fill:#cb6d67;stroke:#ffffff;stroke-linejoin:miter;\"/>\r\n   </g>\r\n   <g id=\"patch_32\">\r\n    <path clip-path=\"url(#p3981836b77)\" d=\"M 1109.859531 550.8 \r\nL 1124.259531 550.8 \r\nL 1124.259531 224.577546 \r\nL 1109.859531 224.577546 \r\nz\r\n\" style=\"fill:#cb6d67;stroke:#ffffff;stroke-linejoin:miter;\"/>\r\n   </g>\r\n   <g id=\"patch_33\">\r\n    <path clip-path=\"url(#p3981836b77)\" d=\"M 1145.859531 550.8 \r\nL 1160.259531 550.8 \r\nL 1160.259531 505.163336 \r\nL 1145.859531 505.163336 \r\nz\r\n\" style=\"fill:#cb6d67;stroke:#ffffff;stroke-linejoin:miter;\"/>\r\n   </g>\r\n   <g id=\"patch_34\">\r\n    <path clip-path=\"url(#p3981836b77)\" d=\"M 80.259531 550.8 \r\nL 94.659531 550.8 \r\nL 94.659531 33.085714 \r\nL 80.259531 33.085714 \r\nz\r\n\" style=\"fill:#67c5cb;stroke:#ffffff;stroke-linejoin:miter;\"/>\r\n   </g>\r\n   <g id=\"patch_35\">\r\n    <path clip-path=\"url(#p3981836b77)\" d=\"M 116.259531 550.8 \r\nL 130.659531 550.8 \r\nL 130.659531 360.788188 \r\nL 116.259531 360.788188 \r\nz\r\n\" style=\"fill:#67c5cb;stroke:#ffffff;stroke-linejoin:miter;\"/>\r\n   </g>\r\n   <g id=\"patch_36\">\r\n    <path clip-path=\"url(#p3981836b77)\" d=\"M 152.259531 550.8 \r\nL 166.659531 550.8 \r\nL 166.659531 253.738822 \r\nL 152.259531 253.738822 \r\nz\r\n\" style=\"fill:#67c5cb;stroke:#ffffff;stroke-linejoin:miter;\"/>\r\n   </g>\r\n   <g id=\"patch_37\">\r\n    <path clip-path=\"url(#p3981836b77)\" d=\"M 188.259531 550.8 \r\nL 202.659531 550.8 \r\nL 202.659531 395.902072 \r\nL 188.259531 395.902072 \r\nz\r\n\" style=\"fill:#67c5cb;stroke:#ffffff;stroke-linejoin:miter;\"/>\r\n   </g>\r\n   <g id=\"patch_38\">\r\n    <path clip-path=\"url(#p3981836b77)\" d=\"M 224.259531 550.8 \r\nL 238.659531 550.8 \r\nL 238.659531 470.32594 \r\nL 224.259531 470.32594 \r\nz\r\n\" style=\"fill:#67c5cb;stroke:#ffffff;stroke-linejoin:miter;\"/>\r\n   </g>\r\n   <g id=\"patch_39\">\r\n    <path clip-path=\"url(#p3981836b77)\" d=\"M 260.259531 550.8 \r\nL 274.659531 550.8 \r\nL 274.659531 184.031501 \r\nL 260.259531 184.031501 \r\nz\r\n\" style=\"fill:#67c5cb;stroke:#ffffff;stroke-linejoin:miter;\"/>\r\n   </g>\r\n   <g id=\"patch_40\">\r\n    <path clip-path=\"url(#p3981836b77)\" d=\"M 296.259531 550.8 \r\nL 310.659531 550.8 \r\nL 310.659531 451.671181 \r\nL 296.259531 451.671181 \r\nz\r\n\" style=\"fill:#67c5cb;stroke:#ffffff;stroke-linejoin:miter;\"/>\r\n   </g>\r\n   <g id=\"patch_41\">\r\n    <path clip-path=\"url(#p3981836b77)\" d=\"M 332.259531 550.8 \r\nL 346.659531 550.8 \r\nL 346.659531 357.909468 \r\nL 332.259531 357.909468 \r\nz\r\n\" style=\"fill:#67c5cb;stroke:#ffffff;stroke-linejoin:miter;\"/>\r\n   </g>\r\n   <g id=\"patch_42\">\r\n    <path clip-path=\"url(#p3981836b77)\" d=\"M 368.259531 550.8 \r\nL 382.659531 550.8 \r\nL 382.659531 163.408803 \r\nL 368.259531 163.408803 \r\nz\r\n\" style=\"fill:#67c5cb;stroke:#ffffff;stroke-linejoin:miter;\"/>\r\n   </g>\r\n   <g id=\"patch_43\">\r\n    <path clip-path=\"url(#p3981836b77)\" d=\"M 404.259531 550.8 \r\nL 418.659531 550.8 \r\nL 418.659531 326.877837 \r\nL 404.259531 326.877837 \r\nz\r\n\" style=\"fill:#67c5cb;stroke:#ffffff;stroke-linejoin:miter;\"/>\r\n   </g>\r\n   <g id=\"patch_44\">\r\n    <path clip-path=\"url(#p3981836b77)\" d=\"M 440.259531 550.8 \r\nL 454.659531 550.8 \r\nL 454.659531 546.620163 \r\nL 440.259531 546.620163 \r\nz\r\n\" style=\"fill:#67c5cb;stroke:#ffffff;stroke-linejoin:miter;\"/>\r\n   </g>\r\n   <g id=\"patch_45\">\r\n    <path clip-path=\"url(#p3981836b77)\" d=\"M 476.259531 550.8 \r\nL 490.659531 550.8 \r\nL 490.659531 362.593487 \r\nL 476.259531 362.593487 \r\nz\r\n\" style=\"fill:#67c5cb;stroke:#ffffff;stroke-linejoin:miter;\"/>\r\n   </g>\r\n   <g id=\"patch_46\">\r\n    <path clip-path=\"url(#p3981836b77)\" d=\"M 512.259531 550.8 \r\nL 526.659531 550.8 \r\nL 526.659531 376.255211 \r\nL 512.259531 376.255211 \r\nz\r\n\" style=\"fill:#67c5cb;stroke:#ffffff;stroke-linejoin:miter;\"/>\r\n   </g>\r\n   <g id=\"patch_47\">\r\n    <path clip-path=\"url(#p3981836b77)\" d=\"M 548.259531 550.8 \r\nL 562.659531 550.8 \r\nL 562.659531 285.860137 \r\nL 548.259531 285.860137 \r\nz\r\n\" style=\"fill:#67c5cb;stroke:#ffffff;stroke-linejoin:miter;\"/>\r\n   </g>\r\n   <g id=\"patch_48\">\r\n    <path clip-path=\"url(#p3981836b77)\" d=\"M 584.259531 550.8 \r\nL 598.659531 550.8 \r\nL 598.659531 333.188253 \r\nL 584.259531 333.188253 \r\nz\r\n\" style=\"fill:#67c5cb;stroke:#ffffff;stroke-linejoin:miter;\"/>\r\n   </g>\r\n   <g id=\"patch_49\">\r\n    <path clip-path=\"url(#p3981836b77)\" d=\"M 620.259531 550.8 \r\nL 634.659531 550.8 \r\nL 634.659531 437.993193 \r\nL 620.259531 437.993193 \r\nz\r\n\" style=\"fill:#67c5cb;stroke:#ffffff;stroke-linejoin:miter;\"/>\r\n   </g>\r\n   <g id=\"patch_50\">\r\n    <path clip-path=\"url(#p3981836b77)\" d=\"M 656.259531 550.8 \r\nL 670.659531 550.8 \r\nL 670.659531 523.980735 \r\nL 656.259531 523.980735 \r\nz\r\n\" style=\"fill:#67c5cb;stroke:#ffffff;stroke-linejoin:miter;\"/>\r\n   </g>\r\n   <g id=\"patch_51\">\r\n    <path clip-path=\"url(#p3981836b77)\" d=\"M 692.259531 550.8 \r\nL 706.659531 550.8 \r\nL 706.659531 319.721696 \r\nL 692.259531 319.721696 \r\nz\r\n\" style=\"fill:#67c5cb;stroke:#ffffff;stroke-linejoin:miter;\"/>\r\n   </g>\r\n   <g id=\"patch_52\">\r\n    <path clip-path=\"url(#p3981836b77)\" d=\"M 728.259531 550.8 \r\nL 742.659531 550.8 \r\nL 742.659531 334.456841 \r\nL 728.259531 334.456841 \r\nz\r\n\" style=\"fill:#67c5cb;stroke:#ffffff;stroke-linejoin:miter;\"/>\r\n   </g>\r\n   <g id=\"patch_53\">\r\n    <path clip-path=\"url(#p3981836b77)\" d=\"M 764.259531 550.8 \r\nL 778.659531 550.8 \r\nL 778.659531 279.354554 \r\nL 764.259531 279.354554 \r\nz\r\n\" style=\"fill:#67c5cb;stroke:#ffffff;stroke-linejoin:miter;\"/>\r\n   </g>\r\n   <g id=\"patch_54\">\r\n    <path clip-path=\"url(#p3981836b77)\" d=\"M 800.259531 550.8 \r\nL 814.659531 550.8 \r\nL 814.659531 511.717711 \r\nL 800.259531 511.717711 \r\nz\r\n\" style=\"fill:#67c5cb;stroke:#ffffff;stroke-linejoin:miter;\"/>\r\n   </g>\r\n   <g id=\"patch_55\">\r\n    <path clip-path=\"url(#p3981836b77)\" d=\"M 836.259531 550.8 \r\nL 850.659531 550.8 \r\nL 850.659531 315.671971 \r\nL 836.259531 315.671971 \r\nz\r\n\" style=\"fill:#67c5cb;stroke:#ffffff;stroke-linejoin:miter;\"/>\r\n   </g>\r\n   <g id=\"patch_56\">\r\n    <path clip-path=\"url(#p3981836b77)\" d=\"M 872.259531 550.8 \r\nL 886.659531 550.8 \r\nL 886.659531 243.362417 \r\nL 872.259531 243.362417 \r\nz\r\n\" style=\"fill:#67c5cb;stroke:#ffffff;stroke-linejoin:miter;\"/>\r\n   </g>\r\n   <g id=\"patch_57\">\r\n    <path clip-path=\"url(#p3981836b77)\" d=\"M 908.259531 550.8 \r\nL 922.659531 550.8 \r\nL 922.659531 372.986156 \r\nL 908.259531 372.986156 \r\nz\r\n\" style=\"fill:#67c5cb;stroke:#ffffff;stroke-linejoin:miter;\"/>\r\n   </g>\r\n   <g id=\"patch_58\">\r\n    <path clip-path=\"url(#p3981836b77)\" d=\"M 944.259531 550.8 \r\nL 958.659531 550.8 \r\nL 958.659531 93.994234 \r\nL 944.259531 93.994234 \r\nz\r\n\" style=\"fill:#67c5cb;stroke:#ffffff;stroke-linejoin:miter;\"/>\r\n   </g>\r\n   <g id=\"patch_59\">\r\n    <path clip-path=\"url(#p3981836b77)\" d=\"M 980.259531 550.8 \r\nL 994.659531 550.8 \r\nL 994.659531 188.17881 \r\nL 980.259531 188.17881 \r\nz\r\n\" style=\"fill:#67c5cb;stroke:#ffffff;stroke-linejoin:miter;\"/>\r\n   </g>\r\n   <g id=\"patch_60\">\r\n    <path clip-path=\"url(#p3981836b77)\" d=\"M 1016.259531 550.8 \r\nL 1030.659531 550.8 \r\nL 1030.659531 109.542577 \r\nL 1016.259531 109.542577 \r\nz\r\n\" style=\"fill:#67c5cb;stroke:#ffffff;stroke-linejoin:miter;\"/>\r\n   </g>\r\n   <g id=\"patch_61\">\r\n    <path clip-path=\"url(#p3981836b77)\" d=\"M 1052.259531 550.8 \r\nL 1066.659531 550.8 \r\nL 1066.659531 384.679941 \r\nL 1052.259531 384.679941 \r\nz\r\n\" style=\"fill:#67c5cb;stroke:#ffffff;stroke-linejoin:miter;\"/>\r\n   </g>\r\n   <g id=\"patch_62\">\r\n    <path clip-path=\"url(#p3981836b77)\" d=\"M 1088.259531 550.8 \r\nL 1102.659531 550.8 \r\nL 1102.659531 176.907888 \r\nL 1088.259531 176.907888 \r\nz\r\n\" style=\"fill:#67c5cb;stroke:#ffffff;stroke-linejoin:miter;\"/>\r\n   </g>\r\n   <g id=\"patch_63\">\r\n    <path clip-path=\"url(#p3981836b77)\" d=\"M 1124.259531 550.8 \r\nL 1138.659531 550.8 \r\nL 1138.659531 202.556148 \r\nL 1124.259531 202.556148 \r\nz\r\n\" style=\"fill:#67c5cb;stroke:#ffffff;stroke-linejoin:miter;\"/>\r\n   </g>\r\n   <g id=\"patch_64\">\r\n    <path clip-path=\"url(#p3981836b77)\" d=\"M 1160.259531 550.8 \r\nL 1174.659531 550.8 \r\nL 1174.659531 500.902179 \r\nL 1160.259531 500.902179 \r\nz\r\n\" style=\"fill:#67c5cb;stroke:#ffffff;stroke-linejoin:miter;\"/>\r\n   </g>\r\n   <g id=\"line2d_8\">\r\n    <path clip-path=\"url(#p3981836b77)\" style=\"fill:none;stroke:#424242;stroke-linecap:round;stroke-width:2.7;\"/>\r\n   </g>\r\n   <g id=\"line2d_9\">\r\n    <path clip-path=\"url(#p3981836b77)\" style=\"fill:none;stroke:#424242;stroke-linecap:round;stroke-width:2.7;\"/>\r\n   </g>\r\n   <g id=\"line2d_10\">\r\n    <path clip-path=\"url(#p3981836b77)\" style=\"fill:none;stroke:#424242;stroke-linecap:round;stroke-width:2.7;\"/>\r\n   </g>\r\n   <g id=\"line2d_11\">\r\n    <path clip-path=\"url(#p3981836b77)\" style=\"fill:none;stroke:#424242;stroke-linecap:round;stroke-width:2.7;\"/>\r\n   </g>\r\n   <g id=\"line2d_12\">\r\n    <path clip-path=\"url(#p3981836b77)\" style=\"fill:none;stroke:#424242;stroke-linecap:round;stroke-width:2.7;\"/>\r\n   </g>\r\n   <g id=\"line2d_13\">\r\n    <path clip-path=\"url(#p3981836b77)\" style=\"fill:none;stroke:#424242;stroke-linecap:round;stroke-width:2.7;\"/>\r\n   </g>\r\n   <g id=\"line2d_14\">\r\n    <path clip-path=\"url(#p3981836b77)\" style=\"fill:none;stroke:#424242;stroke-linecap:round;stroke-width:2.7;\"/>\r\n   </g>\r\n   <g id=\"line2d_15\">\r\n    <path clip-path=\"url(#p3981836b77)\" style=\"fill:none;stroke:#424242;stroke-linecap:round;stroke-width:2.7;\"/>\r\n   </g>\r\n   <g id=\"line2d_16\">\r\n    <path clip-path=\"url(#p3981836b77)\" style=\"fill:none;stroke:#424242;stroke-linecap:round;stroke-width:2.7;\"/>\r\n   </g>\r\n   <g id=\"line2d_17\">\r\n    <path clip-path=\"url(#p3981836b77)\" style=\"fill:none;stroke:#424242;stroke-linecap:round;stroke-width:2.7;\"/>\r\n   </g>\r\n   <g id=\"line2d_18\">\r\n    <path clip-path=\"url(#p3981836b77)\" style=\"fill:none;stroke:#424242;stroke-linecap:round;stroke-width:2.7;\"/>\r\n   </g>\r\n   <g id=\"line2d_19\">\r\n    <path clip-path=\"url(#p3981836b77)\" style=\"fill:none;stroke:#424242;stroke-linecap:round;stroke-width:2.7;\"/>\r\n   </g>\r\n   <g id=\"line2d_20\">\r\n    <path clip-path=\"url(#p3981836b77)\" style=\"fill:none;stroke:#424242;stroke-linecap:round;stroke-width:2.7;\"/>\r\n   </g>\r\n   <g id=\"line2d_21\">\r\n    <path clip-path=\"url(#p3981836b77)\" style=\"fill:none;stroke:#424242;stroke-linecap:round;stroke-width:2.7;\"/>\r\n   </g>\r\n   <g id=\"line2d_22\">\r\n    <path clip-path=\"url(#p3981836b77)\" style=\"fill:none;stroke:#424242;stroke-linecap:round;stroke-width:2.7;\"/>\r\n   </g>\r\n   <g id=\"line2d_23\">\r\n    <path clip-path=\"url(#p3981836b77)\" style=\"fill:none;stroke:#424242;stroke-linecap:round;stroke-width:2.7;\"/>\r\n   </g>\r\n   <g id=\"line2d_24\">\r\n    <path clip-path=\"url(#p3981836b77)\" style=\"fill:none;stroke:#424242;stroke-linecap:round;stroke-width:2.7;\"/>\r\n   </g>\r\n   <g id=\"line2d_25\">\r\n    <path clip-path=\"url(#p3981836b77)\" style=\"fill:none;stroke:#424242;stroke-linecap:round;stroke-width:2.7;\"/>\r\n   </g>\r\n   <g id=\"line2d_26\">\r\n    <path clip-path=\"url(#p3981836b77)\" style=\"fill:none;stroke:#424242;stroke-linecap:round;stroke-width:2.7;\"/>\r\n   </g>\r\n   <g id=\"line2d_27\">\r\n    <path clip-path=\"url(#p3981836b77)\" style=\"fill:none;stroke:#424242;stroke-linecap:round;stroke-width:2.7;\"/>\r\n   </g>\r\n   <g id=\"line2d_28\">\r\n    <path clip-path=\"url(#p3981836b77)\" style=\"fill:none;stroke:#424242;stroke-linecap:round;stroke-width:2.7;\"/>\r\n   </g>\r\n   <g id=\"line2d_29\">\r\n    <path clip-path=\"url(#p3981836b77)\" style=\"fill:none;stroke:#424242;stroke-linecap:round;stroke-width:2.7;\"/>\r\n   </g>\r\n   <g id=\"line2d_30\">\r\n    <path clip-path=\"url(#p3981836b77)\" style=\"fill:none;stroke:#424242;stroke-linecap:round;stroke-width:2.7;\"/>\r\n   </g>\r\n   <g id=\"line2d_31\">\r\n    <path clip-path=\"url(#p3981836b77)\" style=\"fill:none;stroke:#424242;stroke-linecap:round;stroke-width:2.7;\"/>\r\n   </g>\r\n   <g id=\"line2d_32\">\r\n    <path clip-path=\"url(#p3981836b77)\" style=\"fill:none;stroke:#424242;stroke-linecap:round;stroke-width:2.7;\"/>\r\n   </g>\r\n   <g id=\"line2d_33\">\r\n    <path clip-path=\"url(#p3981836b77)\" style=\"fill:none;stroke:#424242;stroke-linecap:round;stroke-width:2.7;\"/>\r\n   </g>\r\n   <g id=\"line2d_34\">\r\n    <path clip-path=\"url(#p3981836b77)\" style=\"fill:none;stroke:#424242;stroke-linecap:round;stroke-width:2.7;\"/>\r\n   </g>\r\n   <g id=\"line2d_35\">\r\n    <path clip-path=\"url(#p3981836b77)\" style=\"fill:none;stroke:#424242;stroke-linecap:round;stroke-width:2.7;\"/>\r\n   </g>\r\n   <g id=\"line2d_36\">\r\n    <path clip-path=\"url(#p3981836b77)\" style=\"fill:none;stroke:#424242;stroke-linecap:round;stroke-width:2.7;\"/>\r\n   </g>\r\n   <g id=\"line2d_37\">\r\n    <path clip-path=\"url(#p3981836b77)\" style=\"fill:none;stroke:#424242;stroke-linecap:round;stroke-width:2.7;\"/>\r\n   </g>\r\n   <g id=\"line2d_38\">\r\n    <path clip-path=\"url(#p3981836b77)\" style=\"fill:none;stroke:#424242;stroke-linecap:round;stroke-width:2.7;\"/>\r\n   </g>\r\n   <g id=\"line2d_39\">\r\n    <path clip-path=\"url(#p3981836b77)\" style=\"fill:none;stroke:#424242;stroke-linecap:round;stroke-width:2.7;\"/>\r\n   </g>\r\n   <g id=\"line2d_40\">\r\n    <path clip-path=\"url(#p3981836b77)\" style=\"fill:none;stroke:#424242;stroke-linecap:round;stroke-width:2.7;\"/>\r\n   </g>\r\n   <g id=\"line2d_41\">\r\n    <path clip-path=\"url(#p3981836b77)\" style=\"fill:none;stroke:#424242;stroke-linecap:round;stroke-width:2.7;\"/>\r\n   </g>\r\n   <g id=\"line2d_42\">\r\n    <path clip-path=\"url(#p3981836b77)\" style=\"fill:none;stroke:#424242;stroke-linecap:round;stroke-width:2.7;\"/>\r\n   </g>\r\n   <g id=\"line2d_43\">\r\n    <path clip-path=\"url(#p3981836b77)\" style=\"fill:none;stroke:#424242;stroke-linecap:round;stroke-width:2.7;\"/>\r\n   </g>\r\n   <g id=\"line2d_44\">\r\n    <path clip-path=\"url(#p3981836b77)\" style=\"fill:none;stroke:#424242;stroke-linecap:round;stroke-width:2.7;\"/>\r\n   </g>\r\n   <g id=\"line2d_45\">\r\n    <path clip-path=\"url(#p3981836b77)\" style=\"fill:none;stroke:#424242;stroke-linecap:round;stroke-width:2.7;\"/>\r\n   </g>\r\n   <g id=\"line2d_46\">\r\n    <path clip-path=\"url(#p3981836b77)\" style=\"fill:none;stroke:#424242;stroke-linecap:round;stroke-width:2.7;\"/>\r\n   </g>\r\n   <g id=\"line2d_47\">\r\n    <path clip-path=\"url(#p3981836b77)\" style=\"fill:none;stroke:#424242;stroke-linecap:round;stroke-width:2.7;\"/>\r\n   </g>\r\n   <g id=\"line2d_48\">\r\n    <path clip-path=\"url(#p3981836b77)\" style=\"fill:none;stroke:#424242;stroke-linecap:round;stroke-width:2.7;\"/>\r\n   </g>\r\n   <g id=\"line2d_49\">\r\n    <path clip-path=\"url(#p3981836b77)\" style=\"fill:none;stroke:#424242;stroke-linecap:round;stroke-width:2.7;\"/>\r\n   </g>\r\n   <g id=\"line2d_50\">\r\n    <path clip-path=\"url(#p3981836b77)\" style=\"fill:none;stroke:#424242;stroke-linecap:round;stroke-width:2.7;\"/>\r\n   </g>\r\n   <g id=\"line2d_51\">\r\n    <path clip-path=\"url(#p3981836b77)\" style=\"fill:none;stroke:#424242;stroke-linecap:round;stroke-width:2.7;\"/>\r\n   </g>\r\n   <g id=\"line2d_52\">\r\n    <path clip-path=\"url(#p3981836b77)\" style=\"fill:none;stroke:#424242;stroke-linecap:round;stroke-width:2.7;\"/>\r\n   </g>\r\n   <g id=\"line2d_53\">\r\n    <path clip-path=\"url(#p3981836b77)\" style=\"fill:none;stroke:#424242;stroke-linecap:round;stroke-width:2.7;\"/>\r\n   </g>\r\n   <g id=\"line2d_54\">\r\n    <path clip-path=\"url(#p3981836b77)\" style=\"fill:none;stroke:#424242;stroke-linecap:round;stroke-width:2.7;\"/>\r\n   </g>\r\n   <g id=\"line2d_55\">\r\n    <path clip-path=\"url(#p3981836b77)\" style=\"fill:none;stroke:#424242;stroke-linecap:round;stroke-width:2.7;\"/>\r\n   </g>\r\n   <g id=\"line2d_56\">\r\n    <path clip-path=\"url(#p3981836b77)\" style=\"fill:none;stroke:#424242;stroke-linecap:round;stroke-width:2.7;\"/>\r\n   </g>\r\n   <g id=\"line2d_57\">\r\n    <path clip-path=\"url(#p3981836b77)\" style=\"fill:none;stroke:#424242;stroke-linecap:round;stroke-width:2.7;\"/>\r\n   </g>\r\n   <g id=\"line2d_58\">\r\n    <path clip-path=\"url(#p3981836b77)\" style=\"fill:none;stroke:#424242;stroke-linecap:round;stroke-width:2.7;\"/>\r\n   </g>\r\n   <g id=\"line2d_59\">\r\n    <path clip-path=\"url(#p3981836b77)\" style=\"fill:none;stroke:#424242;stroke-linecap:round;stroke-width:2.7;\"/>\r\n   </g>\r\n   <g id=\"line2d_60\">\r\n    <path clip-path=\"url(#p3981836b77)\" style=\"fill:none;stroke:#424242;stroke-linecap:round;stroke-width:2.7;\"/>\r\n   </g>\r\n   <g id=\"line2d_61\">\r\n    <path clip-path=\"url(#p3981836b77)\" style=\"fill:none;stroke:#424242;stroke-linecap:round;stroke-width:2.7;\"/>\r\n   </g>\r\n   <g id=\"line2d_62\">\r\n    <path clip-path=\"url(#p3981836b77)\" style=\"fill:none;stroke:#424242;stroke-linecap:round;stroke-width:2.7;\"/>\r\n   </g>\r\n   <g id=\"line2d_63\">\r\n    <path clip-path=\"url(#p3981836b77)\" style=\"fill:none;stroke:#424242;stroke-linecap:round;stroke-width:2.7;\"/>\r\n   </g>\r\n   <g id=\"line2d_64\">\r\n    <path clip-path=\"url(#p3981836b77)\" style=\"fill:none;stroke:#424242;stroke-linecap:round;stroke-width:2.7;\"/>\r\n   </g>\r\n   <g id=\"line2d_65\">\r\n    <path clip-path=\"url(#p3981836b77)\" style=\"fill:none;stroke:#424242;stroke-linecap:round;stroke-width:2.7;\"/>\r\n   </g>\r\n   <g id=\"line2d_66\">\r\n    <path clip-path=\"url(#p3981836b77)\" style=\"fill:none;stroke:#424242;stroke-linecap:round;stroke-width:2.7;\"/>\r\n   </g>\r\n   <g id=\"line2d_67\">\r\n    <path clip-path=\"url(#p3981836b77)\" style=\"fill:none;stroke:#424242;stroke-linecap:round;stroke-width:2.7;\"/>\r\n   </g>\r\n   <g id=\"line2d_68\">\r\n    <path clip-path=\"url(#p3981836b77)\" style=\"fill:none;stroke:#424242;stroke-linecap:round;stroke-width:2.7;\"/>\r\n   </g>\r\n   <g id=\"line2d_69\">\r\n    <path clip-path=\"url(#p3981836b77)\" style=\"fill:none;stroke:#424242;stroke-linecap:round;stroke-width:2.7;\"/>\r\n   </g>\r\n   <g id=\"patch_65\">\r\n    <path d=\"M 62.259531 550.8 \r\nL 62.259531 7.2 \r\n\" style=\"fill:none;stroke:#ffffff;stroke-linecap:square;stroke-linejoin:miter;stroke-width:1.25;\"/>\r\n   </g>\r\n   <g id=\"patch_66\">\r\n    <path d=\"M 1178.259531 550.8 \r\nL 1178.259531 7.2 \r\n\" style=\"fill:none;stroke:#ffffff;stroke-linecap:square;stroke-linejoin:miter;stroke-width:1.25;\"/>\r\n   </g>\r\n   <g id=\"patch_67\">\r\n    <path d=\"M 62.259531 550.8 \r\nL 1178.259531 550.8 \r\n\" style=\"fill:none;stroke:#ffffff;stroke-linecap:square;stroke-linejoin:miter;stroke-width:1.25;\"/>\r\n   </g>\r\n   <g id=\"patch_68\">\r\n    <path d=\"M 62.259531 7.2 \r\nL 1178.259531 7.2 \r\n\" style=\"fill:none;stroke:#ffffff;stroke-linecap:square;stroke-linejoin:miter;stroke-width:1.25;\"/>\r\n   </g>\r\n   <g id=\"legend_1\">\r\n    <g id=\"patch_69\">\r\n     <path d=\"M 1098.683125 63.594063 \r\nL 1170.559531 63.594063 \r\nQ 1172.759531 63.594063 1172.759531 61.394063 \r\nL 1172.759531 14.9 \r\nQ 1172.759531 12.7 1170.559531 12.7 \r\nL 1098.683125 12.7 \r\nQ 1096.483125 12.7 1096.483125 14.9 \r\nL 1096.483125 61.394063 \r\nQ 1096.483125 63.594063 1098.683125 63.594063 \r\nz\r\n\" style=\"fill:#eaeaf2;opacity:0.8;stroke:#cccccc;stroke-linejoin:miter;\"/>\r\n    </g>\r\n    <g id=\"text_41\">\r\n     <!-- Sex -->\r\n     <g style=\"fill:#262626;\" transform=\"translate(1124.282578 25.689375)scale(0.12 -0.12)\">\r\n      <defs>\r\n       <path d=\"M 4.5 23 \r\nL 13.421875 23.78125 \r\nQ 14.0625 18.40625 16.375 14.96875 \r\nQ 18.703125 11.53125 23.578125 9.40625 \r\nQ 28.46875 7.28125 34.578125 7.28125 \r\nQ 39.984375 7.28125 44.140625 8.890625 \r\nQ 48.296875 10.5 50.3125 13.296875 \r\nQ 52.34375 16.109375 52.34375 19.4375 \r\nQ 52.34375 22.796875 50.390625 25.3125 \r\nQ 48.4375 27.828125 43.953125 29.546875 \r\nQ 41.0625 30.671875 31.203125 33.03125 \r\nQ 21.34375 35.40625 17.390625 37.5 \r\nQ 12.25 40.1875 9.734375 44.15625 \r\nQ 7.234375 48.140625 7.234375 53.078125 \r\nQ 7.234375 58.5 10.296875 63.203125 \r\nQ 13.375 67.921875 19.28125 70.359375 \r\nQ 25.203125 72.796875 32.421875 72.796875 \r\nQ 40.375 72.796875 46.453125 70.234375 \r\nQ 52.546875 67.671875 55.8125 62.6875 \r\nQ 59.078125 57.71875 59.328125 51.421875 \r\nL 50.25 50.734375 \r\nQ 49.515625 57.515625 45.28125 60.984375 \r\nQ 41.0625 64.453125 32.8125 64.453125 \r\nQ 24.21875 64.453125 20.28125 61.296875 \r\nQ 16.359375 58.15625 16.359375 53.71875 \r\nQ 16.359375 49.859375 19.140625 47.359375 \r\nQ 21.875 44.875 33.421875 42.265625 \r\nQ 44.96875 39.65625 49.265625 37.703125 \r\nQ 55.515625 34.8125 58.484375 30.390625 \r\nQ 61.46875 25.984375 61.46875 20.21875 \r\nQ 61.46875 14.5 58.203125 9.4375 \r\nQ 54.9375 4.390625 48.796875 1.578125 \r\nQ 42.671875 -1.21875 35.015625 -1.21875 \r\nQ 25.296875 -1.21875 18.71875 1.609375 \r\nQ 12.15625 4.4375 8.421875 10.125 \r\nQ 4.6875 15.828125 4.5 23 \r\nz\r\n\" id=\"ArialMT-83\"/>\r\n       <path d=\"M 0.734375 0 \r\nL 19.671875 26.953125 \r\nL 2.15625 51.859375 \r\nL 13.140625 51.859375 \r\nL 21.09375 39.703125 \r\nQ 23.34375 36.234375 24.703125 33.890625 \r\nQ 26.859375 37.109375 28.65625 39.59375 \r\nL 37.40625 51.859375 \r\nL 47.90625 51.859375 \r\nL 29.984375 27.4375 \r\nL 49.265625 0 \r\nL 38.484375 0 \r\nL 27.828125 16.109375 \r\nL 25 20.453125 \r\nL 11.375 0 \r\nz\r\n\" id=\"ArialMT-120\"/>\r\n      </defs>\r\n      <use xlink:href=\"#ArialMT-83\"/>\r\n      <use x=\"66.699219\" xlink:href=\"#ArialMT-101\"/>\r\n      <use x=\"122.314453\" xlink:href=\"#ArialMT-120\"/>\r\n     </g>\r\n    </g>\r\n    <g id=\"patch_70\">\r\n     <path d=\"M 1100.883125 41.447969 \r\nL 1122.883125 41.447969 \r\nL 1122.883125 33.747969 \r\nL 1100.883125 33.747969 \r\nz\r\n\" style=\"fill:#cb6d67;stroke:#ffffff;stroke-linejoin:miter;\"/>\r\n    </g>\r\n    <g id=\"text_42\">\r\n     <!-- Male -->\r\n     <g style=\"fill:#262626;\" transform=\"translate(1131.683125 41.447969)scale(0.11 -0.11)\">\r\n      <defs>\r\n       <path d=\"M 7.421875 0 \r\nL 7.421875 71.578125 \r\nL 21.6875 71.578125 \r\nL 38.625 20.90625 \r\nQ 40.96875 13.8125 42.046875 10.296875 \r\nQ 43.265625 14.203125 45.84375 21.78125 \r\nL 62.984375 71.578125 \r\nL 75.734375 71.578125 \r\nL 75.734375 0 \r\nL 66.609375 0 \r\nL 66.609375 59.90625 \r\nL 45.796875 0 \r\nL 37.25 0 \r\nL 16.546875 60.9375 \r\nL 16.546875 0 \r\nz\r\n\" id=\"ArialMT-77\"/>\r\n      </defs>\r\n      <use xlink:href=\"#ArialMT-77\"/>\r\n      <use x=\"83.300781\" xlink:href=\"#ArialMT-97\"/>\r\n      <use x=\"138.916016\" xlink:href=\"#ArialMT-108\"/>\r\n      <use x=\"161.132812\" xlink:href=\"#ArialMT-101\"/>\r\n     </g>\r\n    </g>\r\n    <g id=\"patch_71\">\r\n     <path d=\"M 1100.883125 57.007813 \r\nL 1122.883125 57.007813 \r\nL 1122.883125 49.307813 \r\nL 1100.883125 49.307813 \r\nz\r\n\" style=\"fill:#67c5cb;stroke:#ffffff;stroke-linejoin:miter;\"/>\r\n    </g>\r\n    <g id=\"text_43\">\r\n     <!-- Female -->\r\n     <g style=\"fill:#262626;\" transform=\"translate(1131.683125 57.007813)scale(0.11 -0.11)\">\r\n      <defs>\r\n       <path d=\"M 8.203125 0 \r\nL 8.203125 71.578125 \r\nL 56.5 71.578125 \r\nL 56.5 63.140625 \r\nL 17.671875 63.140625 \r\nL 17.671875 40.96875 \r\nL 51.265625 40.96875 \r\nL 51.265625 32.515625 \r\nL 17.671875 32.515625 \r\nL 17.671875 0 \r\nz\r\n\" id=\"ArialMT-70\"/>\r\n       <path d=\"M 6.59375 0 \r\nL 6.59375 51.859375 \r\nL 14.453125 51.859375 \r\nL 14.453125 44.578125 \r\nQ 16.890625 48.390625 20.9375 50.703125 \r\nQ 25 53.03125 30.171875 53.03125 \r\nQ 35.9375 53.03125 39.625 50.640625 \r\nQ 43.3125 48.25 44.828125 43.953125 \r\nQ 50.984375 53.03125 60.84375 53.03125 \r\nQ 68.5625 53.03125 72.703125 48.75 \r\nQ 76.859375 44.484375 76.859375 35.59375 \r\nL 76.859375 0 \r\nL 68.109375 0 \r\nL 68.109375 32.671875 \r\nQ 68.109375 37.9375 67.25 40.25 \r\nQ 66.40625 42.578125 64.15625 43.984375 \r\nQ 61.921875 45.40625 58.890625 45.40625 \r\nQ 53.421875 45.40625 49.796875 41.765625 \r\nQ 46.1875 38.140625 46.1875 30.125 \r\nL 46.1875 0 \r\nL 37.40625 0 \r\nL 37.40625 33.6875 \r\nQ 37.40625 39.546875 35.25 42.46875 \r\nQ 33.109375 45.40625 28.21875 45.40625 \r\nQ 24.515625 45.40625 21.359375 43.453125 \r\nQ 18.21875 41.5 16.796875 37.734375 \r\nQ 15.375 33.984375 15.375 26.90625 \r\nL 15.375 0 \r\nz\r\n\" id=\"ArialMT-109\"/>\r\n      </defs>\r\n      <use xlink:href=\"#ArialMT-70\"/>\r\n      <use x=\"61.083984\" xlink:href=\"#ArialMT-101\"/>\r\n      <use x=\"116.699219\" xlink:href=\"#ArialMT-109\"/>\r\n      <use x=\"200\" xlink:href=\"#ArialMT-97\"/>\r\n      <use x=\"255.615234\" xlink:href=\"#ArialMT-108\"/>\r\n      <use x=\"277.832031\" xlink:href=\"#ArialMT-101\"/>\r\n     </g>\r\n    </g>\r\n   </g>\r\n  </g>\r\n </g>\r\n <defs>\r\n  <clipPath id=\"p3981836b77\">\r\n   <rect height=\"543.6\" width=\"1116\" x=\"62.259531\" y=\"7.2\"/>\r\n  </clipPath>\r\n </defs>\r\n</svg>\r\n",
      "image/png": "[encoded data removed]"
     },
     "metadata": {}
    }
   ],
   "source": [
    "fig,ax = plt.subplots(figsize=(20,10))\n",
    "sns.barplot(x='ZipCode',y='population',hue='Sex',data=sqldf(\"select ZipCode, MalePopulation as population, 'Male' as Sex from zip_info_df union select ZipCode,FemalePopulation,'Female' from zip_info_df;\"),palette='hls',ax= ax)\n"
   ]
  },
  {
   "source": [
    "***\n",
    "#  Part 5: Clustering Algorithms \n",
    "***"
   ],
   "cell_type": "markdown",
   "metadata": {}
  },
  {
   "source": [
    "### Weight the observations"
   ],
   "cell_type": "markdown",
   "metadata": {}
  },
  {
   "source": [
    "sql to combine dataframes"
   ],
   "cell_type": "markdown",
   "metadata": {}
  },
  {
   "cell_type": "code",
   "execution_count": 95,
   "metadata": {},
   "outputs": [
    {
     "output_type": "stream",
     "name": "stdout",
     "text": [
      "31\n"
     ]
    },
    {
     "output_type": "execute_result",
     "data": {
      "text/plain": [
       "    ZipCode   Latitude  Longitude  Elevation  CurrentPopulation  \\\n",
       "0     43081  40.106049 -82.898116        873            72592.0   \n",
       "1     43085  40.100474 -83.013908        905            23912.0   \n",
       "2     43201  39.995575 -82.999464        784            47470.0   \n",
       "3     43202  40.020272 -83.017128        724            21715.0   \n",
       "4     43203  39.971834 -82.966754        821            11536.0   \n",
       "5     43204  39.961402 -83.084510        819            46933.0   \n",
       "6     43205  39.957900 -82.962282        793            13324.0   \n",
       "7     43206  39.942351 -82.979703        772            26246.0   \n",
       "8     43207  39.890750 -82.956005        760            49684.0   \n",
       "9     43209  39.953726 -82.931776        785            25499.0   \n",
       "10    43210  40.004678 -83.027790        742               39.0   \n",
       "11    43211  40.007744 -82.965964        847            23968.0   \n",
       "12    43212  39.985613 -83.044498        793            27868.0   \n",
       "13    43213  39.971940 -82.863748        803            34514.0   \n",
       "14    43214  40.053144 -83.021024        812            28180.0   \n",
       "15    43215  39.968660 -83.025654        718            21896.0   \n",
       "16    43217  39.816625 -82.935179        735             3476.0   \n",
       "17    43219  40.013098 -82.923632        825            28524.0   \n",
       "18    43220  40.048746 -83.072030        878            28760.0   \n",
       "19    43221  40.029787 -83.081768        838            34958.0   \n",
       "20    43222  39.960474 -83.036488        714             5020.0   \n",
       "21    43223  39.922874 -83.046764        760            29213.0   \n",
       "22    43224  40.041778 -82.963237        883            40806.0   \n",
       "23    43227  39.944182 -82.884778        771            21971.0   \n",
       "24    43228  39.955048 -83.134338        914            63830.0   \n",
       "25    43229  40.083674 -82.976084        909            46381.0   \n",
       "26    43230  40.034462 -82.867520        835            60018.0   \n",
       "27    43231  40.084490 -82.937660        849            21252.0   \n",
       "28    43232  39.922525 -82.876370        757            47391.0   \n",
       "29    43235  40.103272 -83.053976        857            49529.0   \n",
       "30    43240  40.146034 -82.980006        924            12313.0   \n",
       "\n",
       "    HouseholdsperZIPCode  AverageHouseValue  AvgIncomePerHousehold  \\\n",
       "0                  22754             197800                  81813   \n",
       "1                   9768             247500                  83524   \n",
       "2                  14697             240700                  31891   \n",
       "3                   9952             208300                  53331   \n",
       "4                   3533              89400                  28072   \n",
       "5                  16783             103500                  46013   \n",
       "6                   5322             136000                  36032   \n",
       "7                   9888             150200                  52029   \n",
       "8                  17579              87500                  43839   \n",
       "9                  11478             244300                  59464   \n",
       "10                   328                  0                  17179   \n",
       "11                  8225              54200                  26257   \n",
       "12                 10004             335700                  65199   \n",
       "13                 13587             109000                  39950   \n",
       "14                 12258             245500                  70885   \n",
       "15                  7731             272400                  61332   \n",
       "16                   786              28900                  40634   \n",
       "17                 10860              95300                  36813   \n",
       "18                 11696             305500                  69571   \n",
       "19                 13395             275100                  93878   \n",
       "20                  1602              64300                  24967   \n",
       "21                  9349              74600                  35975   \n",
       "22                 16100              87600                  37160   \n",
       "23                  8730              79300                  37376   \n",
       "24                 20705             121500                  46677   \n",
       "25                 19795             127100                  44053   \n",
       "26                 21275             183300                  77377   \n",
       "27                  7874             139400                  49295   \n",
       "28                 17183              97200                  39806   \n",
       "29                 17030             229600                  76250   \n",
       "30                  1588             193900                  71705   \n",
       "\n",
       "    PersonsPerHousehold  WhitePopulation  ...  NumberofBusinesses  \\\n",
       "0                  2.39          51907.0  ...                1318   \n",
       "1                  2.36          19952.0  ...                 977   \n",
       "2                  2.24          32602.0  ...                 630   \n",
       "3                  2.03          17383.0  ...                 275   \n",
       "4                  2.25           1362.0  ...                 110   \n",
       "5                  2.50          34594.0  ...                 595   \n",
       "6                  2.18           3311.0  ...                 267   \n",
       "7                  2.19          12463.0  ...                 421   \n",
       "8                  2.53          32380.0  ...                 781   \n",
       "9                  2.24          18303.0  ...                 490   \n",
       "10                 2.15            421.0  ...                  62   \n",
       "11                 2.63           6446.0  ...                 200   \n",
       "12                 1.84          19440.0  ...                 919   \n",
       "13                 2.23          17456.0  ...                 915   \n",
       "14                 1.98          23565.0  ...                 831   \n",
       "15                 1.46          11988.0  ...                2619   \n",
       "16                 3.31           2532.0  ...                  42   \n",
       "17                 2.41           5269.0  ...                1235   \n",
       "18                 2.13          22031.0  ...                 847   \n",
       "19                 2.33          29958.0  ...                 668   \n",
       "20                 2.80           3762.0  ...                 174   \n",
       "21                 2.64          21808.0  ...                 379   \n",
       "22                 2.40          19413.0  ...                 411   \n",
       "23                 2.44           6288.0  ...                 190   \n",
       "24                 2.44          39629.0  ...                1301   \n",
       "25                 2.33          22403.0  ...                1127   \n",
       "26                 2.38          41697.0  ...                1225   \n",
       "27                 2.47          11216.0  ...                 529   \n",
       "28                 2.44          17762.0  ...                 564   \n",
       "29                 2.23          35109.0  ...                1125   \n",
       "30                 2.18           4580.0  ...                 615   \n",
       "\n",
       "    #ofEmployees  ZipCode  Population  CaseCountCumulative  CaseCount30  \\\n",
       "0        31284.0    43081     61572.0               3618.0        998.0   \n",
       "1        17203.0    43085     26216.0               1403.0        391.0   \n",
       "2        11881.0    43201     33455.0               3875.0        395.0   \n",
       "3         5203.0    43202     21141.0               1067.0        261.0   \n",
       "4         1407.0    43203      8368.0                522.0        120.0   \n",
       "5        10440.0    43204     42463.0               2409.0        667.0   \n",
       "6        15849.0    43205     12725.0                711.0        176.0   \n",
       "7         6894.0    43206     22677.0               1227.0        331.0   \n",
       "8        19416.0    43207     47265.0               2704.0        747.0   \n",
       "9         6587.0    43209     28516.0               1385.0        376.0   \n",
       "10         600.0    43210     12530.0               1338.0         26.0   \n",
       "11        3323.0    43211     23453.0               1075.0        221.0   \n",
       "12       21731.0    43212     21350.0               1483.0        447.0   \n",
       "13       19089.0    43213     33551.0               2183.0        545.0   \n",
       "14       22332.0    43214     26229.0               1343.0        352.0   \n",
       "15       91824.0    43215     14440.0               1671.0        416.0   \n",
       "16        1773.0    43217      2440.0                117.0         50.0   \n",
       "17       49050.0    43219     30526.0               2264.0        420.0   \n",
       "18       11631.0    43220     26549.0               1491.0        455.0   \n",
       "19        7037.0    43221     32913.0               1634.0        484.0   \n",
       "20        8565.0    43222      4529.0                275.0         53.0   \n",
       "21        7979.0    43223     25963.0               1896.0        446.0   \n",
       "22        4512.0    43224     44678.0               2786.0        654.0   \n",
       "23        2726.0    43227     24296.0               1548.0        364.0   \n",
       "24       40608.0    43228     54362.0               3871.0        958.0   \n",
       "25       22613.0    43229     53693.0               4163.0        871.0   \n",
       "26       23875.0    43230     58167.0               3476.0        923.0   \n",
       "27       10850.0    43231     21828.0               1778.0        407.0   \n",
       "28       10274.0    43232     45352.0               2804.0        676.0   \n",
       "29       23171.0    43235     42673.0               2558.0        732.0   \n",
       "30       42701.0    43240      4295.0                362.0        120.0   \n",
       "\n",
       "    CaseCount14  CaseCountPer100KCumulative  CaseCountPer100K30  \\\n",
       "0         374.0                      5876.0              1620.9   \n",
       "1         140.0                      5351.7              1491.5   \n",
       "2         131.0                     11582.7              1180.7   \n",
       "3          90.0                      5047.1              1234.6   \n",
       "4          29.0                      6238.0              1434.0   \n",
       "5         218.0                      5673.2              1570.8   \n",
       "6          72.0                      5587.4              1383.1   \n",
       "7         101.0                      5410.8              1459.6   \n",
       "8         255.0                      5720.9              1580.5   \n",
       "9         136.0                      4856.9              1318.6   \n",
       "10          6.0                     10678.4               207.5   \n",
       "11         72.0                      4583.6               942.3   \n",
       "12        163.0                      6946.1              2093.7   \n",
       "13        156.0                      6506.5              1624.4   \n",
       "14        122.0                      5120.3              1342.0   \n",
       "15        139.0                     11572.0              2880.9   \n",
       "16         24.0                      4795.1              2049.2   \n",
       "17        137.0                      7416.6              1375.9   \n",
       "18        152.0                      5616.0              1713.8   \n",
       "19        184.0                      4964.6              1470.5   \n",
       "20         17.0                      6072.0              1170.2   \n",
       "21        155.0                      7302.7              1717.8   \n",
       "22        218.0                      6235.7              1463.8   \n",
       "23        120.0                      6371.4              1498.2   \n",
       "24        353.0                      7120.8              1762.3   \n",
       "25        271.0                      7753.3              1622.2   \n",
       "26        334.0                      5975.9              1586.8   \n",
       "27        149.0                      8145.5              1864.6   \n",
       "28        243.0                      6182.7              1490.6   \n",
       "29        284.0                      5994.4              1715.4   \n",
       "30         35.0                      8428.4              2793.9   \n",
       "\n",
       "    CaseCountPer100K14  \n",
       "0                607.4  \n",
       "1                534.0  \n",
       "2                391.6  \n",
       "3                425.7  \n",
       "4                346.6  \n",
       "5                513.4  \n",
       "6                565.8  \n",
       "7                445.4  \n",
       "8                539.5  \n",
       "9                476.9  \n",
       "10                47.9  \n",
       "11               307.0  \n",
       "12               763.5  \n",
       "13               465.0  \n",
       "14               465.1  \n",
       "15               962.6  \n",
       "16               983.6  \n",
       "17               448.8  \n",
       "18               572.5  \n",
       "19               559.0  \n",
       "20               375.4  \n",
       "21               597.0  \n",
       "22               487.9  \n",
       "23               493.9  \n",
       "24               649.4  \n",
       "25               504.7  \n",
       "26               574.2  \n",
       "27               682.6  \n",
       "28               535.8  \n",
       "29               665.5  \n",
       "30               814.9  \n",
       "\n",
       "[31 rows x 29 columns]"
      ],
      "text/html": "<div>\n<style scoped>\n    .dataframe tbody tr th:only-of-type {\n        vertical-align: middle;\n    }\n\n    .dataframe tbody tr th {\n        vertical-align: top;\n    }\n\n    .dataframe thead th {\n        text-align: right;\n    }\n</style>\n<table border=\"1\" class=\"dataframe\">\n  <thead>\n    <tr style=\"text-align: right;\">\n      <th></th>\n      <th>ZipCode</th>\n      <th>Latitude</th>\n      <th>Longitude</th>\n      <th>Elevation</th>\n      <th>CurrentPopulation</th>\n      <th>HouseholdsperZIPCode</th>\n      <th>AverageHouseValue</th>\n      <th>AvgIncomePerHousehold</th>\n      <th>PersonsPerHousehold</th>\n      <th>WhitePopulation</th>\n      <th>...</th>\n      <th>NumberofBusinesses</th>\n      <th>#ofEmployees</th>\n      <th>ZipCode</th>\n      <th>Population</th>\n      <th>CaseCountCumulative</th>\n      <th>CaseCount30</th>\n      <th>CaseCount14</th>\n      <th>CaseCountPer100KCumulative</th>\n      <th>CaseCountPer100K30</th>\n      <th>CaseCountPer100K14</th>\n    </tr>\n  </thead>\n  <tbody>\n    <tr>\n      <th>0</th>\n      <td>43081</td>\n      <td>40.106049</td>\n      <td>-82.898116</td>\n      <td>873</td>\n      <td>72592.0</td>\n      <td>22754</td>\n      <td>197800</td>\n      <td>81813</td>\n      <td>2.39</td>\n      <td>51907.0</td>\n      <td>...</td>\n      <td>1318</td>\n      <td>31284.0</td>\n      <td>43081</td>\n      <td>61572.0</td>\n      <td>3618.0</td>\n      <td>998.0</td>\n      <td>374.0</td>\n      <td>5876.0</td>\n      <td>1620.9</td>\n      <td>607.4</td>\n    </tr>\n    <tr>\n      <th>1</th>\n      <td>43085</td>\n      <td>40.100474</td>\n      <td>-83.013908</td>\n      <td>905</td>\n      <td>23912.0</td>\n      <td>9768</td>\n      <td>247500</td>\n      <td>83524</td>\n      <td>2.36</td>\n      <td>19952.0</td>\n      <td>...</td>\n      <td>977</td>\n      <td>17203.0</td>\n      <td>43085</td>\n      <td>26216.0</td>\n      <td>1403.0</td>\n      <td>391.0</td>\n      <td>140.0</td>\n      <td>5351.7</td>\n      <td>1491.5</td>\n      <td>534.0</td>\n    </tr>\n    <tr>\n      <th>2</th>\n      <td>43201</td>\n      <td>39.995575</td>\n      <td>-82.999464</td>\n      <td>784</td>\n      <td>47470.0</td>\n      <td>14697</td>\n      <td>240700</td>\n      <td>31891</td>\n      <td>2.24</td>\n      <td>32602.0</td>\n      <td>...</td>\n      <td>630</td>\n      <td>11881.0</td>\n      <td>43201</td>\n      <td>33455.0</td>\n      <td>3875.0</td>\n      <td>395.0</td>\n      <td>131.0</td>\n      <td>11582.7</td>\n      <td>1180.7</td>\n      <td>391.6</td>\n    </tr>\n    <tr>\n      <th>3</th>\n      <td>43202</td>\n      <td>40.020272</td>\n      <td>-83.017128</td>\n      <td>724</td>\n      <td>21715.0</td>\n      <td>9952</td>\n      <td>208300</td>\n      <td>53331</td>\n      <td>2.03</td>\n      <td>17383.0</td>\n      <td>...</td>\n      <td>275</td>\n      <td>5203.0</td>\n      <td>43202</td>\n      <td>21141.0</td>\n      <td>1067.0</td>\n      <td>261.0</td>\n      <td>90.0</td>\n      <td>5047.1</td>\n      <td>1234.6</td>\n      <td>425.7</td>\n    </tr>\n    <tr>\n      <th>4</th>\n      <td>43203</td>\n      <td>39.971834</td>\n      <td>-82.966754</td>\n      <td>821</td>\n      <td>11536.0</td>\n      <td>3533</td>\n      <td>89400</td>\n      <td>28072</td>\n      <td>2.25</td>\n      <td>1362.0</td>\n      <td>...</td>\n      <td>110</td>\n      <td>1407.0</td>\n      <td>43203</td>\n      <td>8368.0</td>\n      <td>522.0</td>\n      <td>120.0</td>\n      <td>29.0</td>\n      <td>6238.0</td>\n      <td>1434.0</td>\n      <td>346.6</td>\n    </tr>\n    <tr>\n      <th>5</th>\n      <td>43204</td>\n      <td>39.961402</td>\n      <td>-83.084510</td>\n      <td>819</td>\n      <td>46933.0</td>\n      <td>16783</td>\n      <td>103500</td>\n      <td>46013</td>\n      <td>2.50</td>\n      <td>34594.0</td>\n      <td>...</td>\n      <td>595</td>\n      <td>10440.0</td>\n      <td>43204</td>\n      <td>42463.0</td>\n      <td>2409.0</td>\n      <td>667.0</td>\n      <td>218.0</td>\n      <td>5673.2</td>\n      <td>1570.8</td>\n      <td>513.4</td>\n    </tr>\n    <tr>\n      <th>6</th>\n      <td>43205</td>\n      <td>39.957900</td>\n      <td>-82.962282</td>\n      <td>793</td>\n      <td>13324.0</td>\n      <td>5322</td>\n      <td>136000</td>\n      <td>36032</td>\n      <td>2.18</td>\n      <td>3311.0</td>\n      <td>...</td>\n      <td>267</td>\n      <td>15849.0</td>\n      <td>43205</td>\n      <td>12725.0</td>\n      <td>711.0</td>\n      <td>176.0</td>\n      <td>72.0</td>\n      <td>5587.4</td>\n      <td>1383.1</td>\n      <td>565.8</td>\n    </tr>\n    <tr>\n      <th>7</th>\n      <td>43206</td>\n      <td>39.942351</td>\n      <td>-82.979703</td>\n      <td>772</td>\n      <td>26246.0</td>\n      <td>9888</td>\n      <td>150200</td>\n      <td>52029</td>\n      <td>2.19</td>\n      <td>12463.0</td>\n      <td>...</td>\n      <td>421</td>\n      <td>6894.0</td>\n      <td>43206</td>\n      <td>22677.0</td>\n      <td>1227.0</td>\n      <td>331.0</td>\n      <td>101.0</td>\n      <td>5410.8</td>\n      <td>1459.6</td>\n      <td>445.4</td>\n    </tr>\n    <tr>\n      <th>8</th>\n      <td>43207</td>\n      <td>39.890750</td>\n      <td>-82.956005</td>\n      <td>760</td>\n      <td>49684.0</td>\n      <td>17579</td>\n      <td>87500</td>\n      <td>43839</td>\n      <td>2.53</td>\n      <td>32380.0</td>\n      <td>...</td>\n      <td>781</td>\n      <td>19416.0</td>\n      <td>43207</td>\n      <td>47265.0</td>\n      <td>2704.0</td>\n      <td>747.0</td>\n      <td>255.0</td>\n      <td>5720.9</td>\n      <td>1580.5</td>\n      <td>539.5</td>\n    </tr>\n    <tr>\n      <th>9</th>\n      <td>43209</td>\n      <td>39.953726</td>\n      <td>-82.931776</td>\n      <td>785</td>\n      <td>25499.0</td>\n      <td>11478</td>\n      <td>244300</td>\n      <td>59464</td>\n      <td>2.24</td>\n      <td>18303.0</td>\n      <td>...</td>\n      <td>490</td>\n      <td>6587.0</td>\n      <td>43209</td>\n      <td>28516.0</td>\n      <td>1385.0</td>\n      <td>376.0</td>\n      <td>136.0</td>\n      <td>4856.9</td>\n      <td>1318.6</td>\n      <td>476.9</td>\n    </tr>\n    <tr>\n      <th>10</th>\n      <td>43210</td>\n      <td>40.004678</td>\n      <td>-83.027790</td>\n      <td>742</td>\n      <td>39.0</td>\n      <td>328</td>\n      <td>0</td>\n      <td>17179</td>\n      <td>2.15</td>\n      <td>421.0</td>\n      <td>...</td>\n      <td>62</td>\n      <td>600.0</td>\n      <td>43210</td>\n      <td>12530.0</td>\n      <td>1338.0</td>\n      <td>26.0</td>\n      <td>6.0</td>\n      <td>10678.4</td>\n      <td>207.5</td>\n      <td>47.9</td>\n    </tr>\n    <tr>\n      <th>11</th>\n      <td>43211</td>\n      <td>40.007744</td>\n      <td>-82.965964</td>\n      <td>847</td>\n      <td>23968.0</td>\n      <td>8225</td>\n      <td>54200</td>\n      <td>26257</td>\n      <td>2.63</td>\n      <td>6446.0</td>\n      <td>...</td>\n      <td>200</td>\n      <td>3323.0</td>\n      <td>43211</td>\n      <td>23453.0</td>\n      <td>1075.0</td>\n      <td>221.0</td>\n      <td>72.0</td>\n      <td>4583.6</td>\n      <td>942.3</td>\n      <td>307.0</td>\n    </tr>\n    <tr>\n      <th>12</th>\n      <td>43212</td>\n      <td>39.985613</td>\n      <td>-83.044498</td>\n      <td>793</td>\n      <td>27868.0</td>\n      <td>10004</td>\n      <td>335700</td>\n      <td>65199</td>\n      <td>1.84</td>\n      <td>19440.0</td>\n      <td>...</td>\n      <td>919</td>\n      <td>21731.0</td>\n      <td>43212</td>\n      <td>21350.0</td>\n      <td>1483.0</td>\n      <td>447.0</td>\n      <td>163.0</td>\n      <td>6946.1</td>\n      <td>2093.7</td>\n      <td>763.5</td>\n    </tr>\n    <tr>\n      <th>13</th>\n      <td>43213</td>\n      <td>39.971940</td>\n      <td>-82.863748</td>\n      <td>803</td>\n      <td>34514.0</td>\n      <td>13587</td>\n      <td>109000</td>\n      <td>39950</td>\n      <td>2.23</td>\n      <td>17456.0</td>\n      <td>...</td>\n      <td>915</td>\n      <td>19089.0</td>\n      <td>43213</td>\n      <td>33551.0</td>\n      <td>2183.0</td>\n      <td>545.0</td>\n      <td>156.0</td>\n      <td>6506.5</td>\n      <td>1624.4</td>\n      <td>465.0</td>\n    </tr>\n    <tr>\n      <th>14</th>\n      <td>43214</td>\n      <td>40.053144</td>\n      <td>-83.021024</td>\n      <td>812</td>\n      <td>28180.0</td>\n      <td>12258</td>\n      <td>245500</td>\n      <td>70885</td>\n      <td>1.98</td>\n      <td>23565.0</td>\n      <td>...</td>\n      <td>831</td>\n      <td>22332.0</td>\n      <td>43214</td>\n      <td>26229.0</td>\n      <td>1343.0</td>\n      <td>352.0</td>\n      <td>122.0</td>\n      <td>5120.3</td>\n      <td>1342.0</td>\n      <td>465.1</td>\n    </tr>\n    <tr>\n      <th>15</th>\n      <td>43215</td>\n      <td>39.968660</td>\n      <td>-83.025654</td>\n      <td>718</td>\n      <td>21896.0</td>\n      <td>7731</td>\n      <td>272400</td>\n      <td>61332</td>\n      <td>1.46</td>\n      <td>11988.0</td>\n      <td>...</td>\n      <td>2619</td>\n      <td>91824.0</td>\n      <td>43215</td>\n      <td>14440.0</td>\n      <td>1671.0</td>\n      <td>416.0</td>\n      <td>139.0</td>\n      <td>11572.0</td>\n      <td>2880.9</td>\n      <td>962.6</td>\n    </tr>\n    <tr>\n      <th>16</th>\n      <td>43217</td>\n      <td>39.816625</td>\n      <td>-82.935179</td>\n      <td>735</td>\n      <td>3476.0</td>\n      <td>786</td>\n      <td>28900</td>\n      <td>40634</td>\n      <td>3.31</td>\n      <td>2532.0</td>\n      <td>...</td>\n      <td>42</td>\n      <td>1773.0</td>\n      <td>43217</td>\n      <td>2440.0</td>\n      <td>117.0</td>\n      <td>50.0</td>\n      <td>24.0</td>\n      <td>4795.1</td>\n      <td>2049.2</td>\n      <td>983.6</td>\n    </tr>\n    <tr>\n      <th>17</th>\n      <td>43219</td>\n      <td>40.013098</td>\n      <td>-82.923632</td>\n      <td>825</td>\n      <td>28524.0</td>\n      <td>10860</td>\n      <td>95300</td>\n      <td>36813</td>\n      <td>2.41</td>\n      <td>5269.0</td>\n      <td>...</td>\n      <td>1235</td>\n      <td>49050.0</td>\n      <td>43219</td>\n      <td>30526.0</td>\n      <td>2264.0</td>\n      <td>420.0</td>\n      <td>137.0</td>\n      <td>7416.6</td>\n      <td>1375.9</td>\n      <td>448.8</td>\n    </tr>\n    <tr>\n      <th>18</th>\n      <td>43220</td>\n      <td>40.048746</td>\n      <td>-83.072030</td>\n      <td>878</td>\n      <td>28760.0</td>\n      <td>11696</td>\n      <td>305500</td>\n      <td>69571</td>\n      <td>2.13</td>\n      <td>22031.0</td>\n      <td>...</td>\n      <td>847</td>\n      <td>11631.0</td>\n      <td>43220</td>\n      <td>26549.0</td>\n      <td>1491.0</td>\n      <td>455.0</td>\n      <td>152.0</td>\n      <td>5616.0</td>\n      <td>1713.8</td>\n      <td>572.5</td>\n    </tr>\n    <tr>\n      <th>19</th>\n      <td>43221</td>\n      <td>40.029787</td>\n      <td>-83.081768</td>\n      <td>838</td>\n      <td>34958.0</td>\n      <td>13395</td>\n      <td>275100</td>\n      <td>93878</td>\n      <td>2.33</td>\n      <td>29958.0</td>\n      <td>...</td>\n      <td>668</td>\n      <td>7037.0</td>\n      <td>43221</td>\n      <td>32913.0</td>\n      <td>1634.0</td>\n      <td>484.0</td>\n      <td>184.0</td>\n      <td>4964.6</td>\n      <td>1470.5</td>\n      <td>559.0</td>\n    </tr>\n    <tr>\n      <th>20</th>\n      <td>43222</td>\n      <td>39.960474</td>\n      <td>-83.036488</td>\n      <td>714</td>\n      <td>5020.0</td>\n      <td>1602</td>\n      <td>64300</td>\n      <td>24967</td>\n      <td>2.80</td>\n      <td>3762.0</td>\n      <td>...</td>\n      <td>174</td>\n      <td>8565.0</td>\n      <td>43222</td>\n      <td>4529.0</td>\n      <td>275.0</td>\n      <td>53.0</td>\n      <td>17.0</td>\n      <td>6072.0</td>\n      <td>1170.2</td>\n      <td>375.4</td>\n    </tr>\n    <tr>\n      <th>21</th>\n      <td>43223</td>\n      <td>39.922874</td>\n      <td>-83.046764</td>\n      <td>760</td>\n      <td>29213.0</td>\n      <td>9349</td>\n      <td>74600</td>\n      <td>35975</td>\n      <td>2.64</td>\n      <td>21808.0</td>\n      <td>...</td>\n      <td>379</td>\n      <td>7979.0</td>\n      <td>43223</td>\n      <td>25963.0</td>\n      <td>1896.0</td>\n      <td>446.0</td>\n      <td>155.0</td>\n      <td>7302.7</td>\n      <td>1717.8</td>\n      <td>597.0</td>\n    </tr>\n    <tr>\n      <th>22</th>\n      <td>43224</td>\n      <td>40.041778</td>\n      <td>-82.963237</td>\n      <td>883</td>\n      <td>40806.0</td>\n      <td>16100</td>\n      <td>87600</td>\n      <td>37160</td>\n      <td>2.40</td>\n      <td>19413.0</td>\n      <td>...</td>\n      <td>411</td>\n      <td>4512.0</td>\n      <td>43224</td>\n      <td>44678.0</td>\n      <td>2786.0</td>\n      <td>654.0</td>\n      <td>218.0</td>\n      <td>6235.7</td>\n      <td>1463.8</td>\n      <td>487.9</td>\n    </tr>\n    <tr>\n      <th>23</th>\n      <td>43227</td>\n      <td>39.944182</td>\n      <td>-82.884778</td>\n      <td>771</td>\n      <td>21971.0</td>\n      <td>8730</td>\n      <td>79300</td>\n      <td>37376</td>\n      <td>2.44</td>\n      <td>6288.0</td>\n      <td>...</td>\n      <td>190</td>\n      <td>2726.0</td>\n      <td>43227</td>\n      <td>24296.0</td>\n      <td>1548.0</td>\n      <td>364.0</td>\n      <td>120.0</td>\n      <td>6371.4</td>\n      <td>1498.2</td>\n      <td>493.9</td>\n    </tr>\n    <tr>\n      <th>24</th>\n      <td>43228</td>\n      <td>39.955048</td>\n      <td>-83.134338</td>\n      <td>914</td>\n      <td>63830.0</td>\n      <td>20705</td>\n      <td>121500</td>\n      <td>46677</td>\n      <td>2.44</td>\n      <td>39629.0</td>\n      <td>...</td>\n      <td>1301</td>\n      <td>40608.0</td>\n      <td>43228</td>\n      <td>54362.0</td>\n      <td>3871.0</td>\n      <td>958.0</td>\n      <td>353.0</td>\n      <td>7120.8</td>\n      <td>1762.3</td>\n      <td>649.4</td>\n    </tr>\n    <tr>\n      <th>25</th>\n      <td>43229</td>\n      <td>40.083674</td>\n      <td>-82.976084</td>\n      <td>909</td>\n      <td>46381.0</td>\n      <td>19795</td>\n      <td>127100</td>\n      <td>44053</td>\n      <td>2.33</td>\n      <td>22403.0</td>\n      <td>...</td>\n      <td>1127</td>\n      <td>22613.0</td>\n      <td>43229</td>\n      <td>53693.0</td>\n      <td>4163.0</td>\n      <td>871.0</td>\n      <td>271.0</td>\n      <td>7753.3</td>\n      <td>1622.2</td>\n      <td>504.7</td>\n    </tr>\n    <tr>\n      <th>26</th>\n      <td>43230</td>\n      <td>40.034462</td>\n      <td>-82.867520</td>\n      <td>835</td>\n      <td>60018.0</td>\n      <td>21275</td>\n      <td>183300</td>\n      <td>77377</td>\n      <td>2.38</td>\n      <td>41697.0</td>\n      <td>...</td>\n      <td>1225</td>\n      <td>23875.0</td>\n      <td>43230</td>\n      <td>58167.0</td>\n      <td>3476.0</td>\n      <td>923.0</td>\n      <td>334.0</td>\n      <td>5975.9</td>\n      <td>1586.8</td>\n      <td>574.2</td>\n    </tr>\n    <tr>\n      <th>27</th>\n      <td>43231</td>\n      <td>40.084490</td>\n      <td>-82.937660</td>\n      <td>849</td>\n      <td>21252.0</td>\n      <td>7874</td>\n      <td>139400</td>\n      <td>49295</td>\n      <td>2.47</td>\n      <td>11216.0</td>\n      <td>...</td>\n      <td>529</td>\n      <td>10850.0</td>\n      <td>43231</td>\n      <td>21828.0</td>\n      <td>1778.0</td>\n      <td>407.0</td>\n      <td>149.0</td>\n      <td>8145.5</td>\n      <td>1864.6</td>\n      <td>682.6</td>\n    </tr>\n    <tr>\n      <th>28</th>\n      <td>43232</td>\n      <td>39.922525</td>\n      <td>-82.876370</td>\n      <td>757</td>\n      <td>47391.0</td>\n      <td>17183</td>\n      <td>97200</td>\n      <td>39806</td>\n      <td>2.44</td>\n      <td>17762.0</td>\n      <td>...</td>\n      <td>564</td>\n      <td>10274.0</td>\n      <td>43232</td>\n      <td>45352.0</td>\n      <td>2804.0</td>\n      <td>676.0</td>\n      <td>243.0</td>\n      <td>6182.7</td>\n      <td>1490.6</td>\n      <td>535.8</td>\n    </tr>\n    <tr>\n      <th>29</th>\n      <td>43235</td>\n      <td>40.103272</td>\n      <td>-83.053976</td>\n      <td>857</td>\n      <td>49529.0</td>\n      <td>17030</td>\n      <td>229600</td>\n      <td>76250</td>\n      <td>2.23</td>\n      <td>35109.0</td>\n      <td>...</td>\n      <td>1125</td>\n      <td>23171.0</td>\n      <td>43235</td>\n      <td>42673.0</td>\n      <td>2558.0</td>\n      <td>732.0</td>\n      <td>284.0</td>\n      <td>5994.4</td>\n      <td>1715.4</td>\n      <td>665.5</td>\n    </tr>\n    <tr>\n      <th>30</th>\n      <td>43240</td>\n      <td>40.146034</td>\n      <td>-82.980006</td>\n      <td>924</td>\n      <td>12313.0</td>\n      <td>1588</td>\n      <td>193900</td>\n      <td>71705</td>\n      <td>2.18</td>\n      <td>4580.0</td>\n      <td>...</td>\n      <td>615</td>\n      <td>42701.0</td>\n      <td>43240</td>\n      <td>4295.0</td>\n      <td>362.0</td>\n      <td>120.0</td>\n      <td>35.0</td>\n      <td>8428.4</td>\n      <td>2793.9</td>\n      <td>814.9</td>\n    </tr>\n  </tbody>\n</table>\n<p>31 rows × 29 columns</p>\n</div>"
     },
     "metadata": {},
     "execution_count": 95
    }
   ],
   "source": [
    "grand_zip_df = sqldf(\"SELECT zip_info_df.*, zip_cases_df.* from zip_info_df INNER JOIN zip_cases_df on zip_cases_df.ZipCode = zip_info_df.ZipCode;\")"
   ]
  },
  {
   "source": [
    "***\n",
    "#  NOT USED\n",
    "***"
   ],
   "cell_type": "markdown",
   "metadata": {}
  },
  {
   "cell_type": "code",
   "execution_count": 37,
   "metadata": {},
   "outputs": [
    {
     "output_type": "stream",
     "name": "stdout",
     "text": [
      "   sepallengthcm  sepalwidthcm  petallengthcm  petalwidthcm species\n0            5.1           3.5            1.4           0.2  setosa\n1            4.9           3.0            1.4           0.2  setosa\n2            4.7           3.2            1.3           0.2  setosa\n3            4.6           3.1            1.5           0.2  setosa\n4            5.0           3.6            1.4           0.2  setosa\n5            5.4           3.9            1.7           0.4  setosa\n6            4.6           3.4            1.4           0.3  setosa\n7            5.0           3.4            1.5           0.2  setosa\n8            4.4           2.9            1.4           0.2  setosa\n9            4.9           3.1            1.5           0.1  setosa\n<class 'pandas.core.frame.DataFrame'>\nid             object\nname           object\naddress        object\nlat           float64\nlng           float64\npostalCode     object\ncc             object\ncity           object\nstate          object\ncountry        object\ndtype: object\n"
     ]
    }
   ],
   "source": [
    "from sklearn.datasets import load_iris\n",
    "iris = load_iris()\n",
    "iris_df = pd.DataFrame(iris.data, columns=iris.feature_names)\n",
    "iris_df['species'] = pd.Categorical.from_codes(iris.target, iris.target_names)\n",
    "iris_df.columns = [re.sub(\"[() ]\", \"\", col) for col in iris_df.columns]\n",
    "print(sqldf(\"SELECT * FROM iris_df LIMIT 10;\", locals()))\n",
    "print(type(sqldf(\"SELECT * FROM zip_cases_df LIMIT 10;\", locals())))\n",
    "print(hp_df.dtypes)"
   ]
  },
  {
   "cell_type": "code",
   "execution_count": 14,
   "metadata": {},
   "outputs": [
    {
     "output_type": "stream",
     "name": "stdout",
     "text": [
      "https://public.tableau.com/views/COVID-19OutbreakSummary_15918845768300/COVID19Summaryp3?:embed=y&:showAppBanner=false&:showShareOptions=true&:display_count=no&:showVizHome=no\n"
     ]
    },
    {
     "output_type": "error",
     "ename": "KeyError",
     "evalue": "'presModelMap'",
     "traceback": [
      "\u001b[1;31m---------------------------------------------------------------------------\u001b[0m",
      "\u001b[1;31mKeyError\u001b[0m                                  Traceback (most recent call last)",
      "\u001b[1;32m<ipython-input-14-b80a61a26bc2>\u001b[0m in \u001b[0;36m<module>\u001b[1;34m\u001b[0m\n\u001b[0;32m     26\u001b[0m \u001b[0mdata\u001b[0m \u001b[1;33m=\u001b[0m \u001b[0mjson\u001b[0m\u001b[1;33m.\u001b[0m\u001b[0mloads\u001b[0m\u001b[1;33m(\u001b[0m\u001b[0mdataReg\u001b[0m\u001b[1;33m.\u001b[0m\u001b[0mgroup\u001b[0m\u001b[1;33m(\u001b[0m\u001b[1;36m2\u001b[0m\u001b[1;33m)\u001b[0m\u001b[1;33m)\u001b[0m\u001b[1;33m\u001b[0m\u001b[1;33m\u001b[0m\u001b[0m\n\u001b[0;32m     27\u001b[0m \u001b[1;31m#print(info)\u001b[0m\u001b[1;33m\u001b[0m\u001b[1;33m\u001b[0m\u001b[1;33m\u001b[0m\u001b[0m\n\u001b[1;32m---> 28\u001b[1;33m \u001b[0mprint\u001b[0m\u001b[1;33m(\u001b[0m\u001b[0mdata\u001b[0m\u001b[1;33m[\u001b[0m\u001b[1;34m\"secondaryInfo\"\u001b[0m\u001b[1;33m]\u001b[0m\u001b[1;33m[\u001b[0m\u001b[1;34m\"presModelMap\"\u001b[0m\u001b[1;33m]\u001b[0m\u001b[1;33m[\u001b[0m\u001b[1;34m\"dataDictionary\"\u001b[0m\u001b[1;33m]\u001b[0m\u001b[1;33m[\u001b[0m\u001b[1;34m\"presModelHolder\"\u001b[0m\u001b[1;33m]\u001b[0m\u001b[1;33m[\u001b[0m\u001b[1;34m\"genDataDictionaryPresModel\"\u001b[0m\u001b[1;33m]\u001b[0m\u001b[1;33m[\u001b[0m\u001b[1;34m\"dataSegments\"\u001b[0m\u001b[1;33m]\u001b[0m\u001b[1;33m[\u001b[0m\u001b[1;34m\"0\"\u001b[0m\u001b[1;33m]\u001b[0m\u001b[1;33m[\u001b[0m\u001b[1;34m\"dataColumns\"\u001b[0m\u001b[1;33m]\u001b[0m\u001b[1;33m)\u001b[0m\u001b[1;33m\u001b[0m\u001b[1;33m\u001b[0m\u001b[0m\n\u001b[0m\u001b[0;32m     29\u001b[0m \u001b[1;31m#<_sre.SRE_Match object; span=(0, 109884), match='72955;{\"sheetName\":\"DASH: Patients v discharges\",>\u001b[0m\u001b[1;33m\u001b[0m\u001b[1;33m\u001b[0m\u001b[1;33m\u001b[0m\u001b[0m\n",
      "\u001b[1;31mKeyError\u001b[0m: 'presModelMap'"
     ]
    }
   ],
   "source": [
    "import requests\n",
    "from bs4 import BeautifulSoup\n",
    "import json\n",
    "import re\n",
    "#TODO figure out how to webscrape COVID-19 data from graph\n",
    "r = requests.get(\n",
    "    f\"https://public.tableau.com/views/COVID-19OutbreakSummary_15918845768300/COVID19Summaryp3\",\n",
    "     params= {\n",
    "        \":embed\":\"y\",\n",
    "        \":showAppBanner\":\"false\",\n",
    "        \":showShareOptions\":\"true\",\n",
    "        \":display_count\":\"no\",\n",
    "    }\n",
    ")\n",
    "print(r.url)\n",
    "soup = BeautifulSoup(r.text, \"html.parser\")\n",
    "\n",
    "tableauData = json.loads(soup.find(\"textarea\",{\"id\": \"tsConfigContainer\"}).text)\n",
    "\n",
    "dataUrl = f'https://public.tableau.com{tableauData[\"vizql_root\"]}/bootstrapSession/sessions/{tableauData[\"sessionid\"]}'\n",
    "r = requests.post(dataUrl, data= {\n",
    "    \"sheet_id\": tableauData[\"sheetId\"],\n",
    "})\n",
    "dataReg = re.search('\\d+;({.*})\\d+;({.*})', r.text, re.MULTILINE)\n",
    "info = json.loads(dataReg.group(1))\n",
    "data = json.loads(dataReg.group(2))\n",
    "#print(info)\n",
    "print(data[\"secondaryInfo\"][\"presModelMap\"][\"dataDictionary\"][\"presModelHolder\"][\"genDataDictionaryPresModel\"][\"dataSegments\"][\"0\"][\"dataColumns\"])\n",
    "#<_sre.SRE_Match object; span=(0, 109884), match='72955;{\"sheetName\":\"DASH: Patients v discharges\",>"
   ]
  },
  {
   "cell_type": "markdown",
   "metadata": {},
   "source": [
    "# Awesome Selenium Webscraping Action"
   ]
  },
  {
   "cell_type": "code",
   "execution_count": 23,
   "metadata": {},
   "outputs": [],
   "source": [
    "from selenium import webdriver \n",
    "import time\n",
    "# import Action chains  \n",
    "from selenium.webdriver.common.action_chains import ActionChains \n",
    "driver = webdriver.Firefox()\n",
    "\n",
    "# Navigate to url\n",
    "driver.get(\"https://public.tableau.com/views/COVID-19OutbreakSummary_15918845768300/COVID19Summaryp3?%3Adisplay_count=y&%3Aorigin=viz_share_link&%3AshowVizHome=no\")\n",
    "\n",
    "# Store 'google search' button web element\n",
    "time.sleep(20)\n",
    "mapfre = driver.find_element_by_xpath(\"//*[@id=\\\"tabZoneId106\\\"]/div/div/div/div\")#//*[@id=\\\"view8239885986803340325_964909730081303188\\\"]/div[1]/div[2]\")\n",
    "#Set x and y offset positions of element\n",
    "xOffset = 0 \n",
    "yOffset = 0\n",
    "ActionChains(driver).move_to_element(mapfre).perform()\n",
    "ActionChains(driver).move_by_offset(xOffset,yOffset).perform()\n",
    "time.sleep(12)\n",
    "with open('temp_covid_zip.txt', 'w', encoding='utf-8') as f:\n",
    "    f.write(str(driver.page_source))"
   ]
  },
  {
   "cell_type": "code",
   "execution_count": 10,
   "metadata": {
    "tags": []
   },
   "outputs": [
    {
     "output_type": "stream",
     "name": "stdout",
     "text": "43224\n868 - 1289\n"
    }
   ],
   "source": [
    "#this script works for extracting zip and cases range\n",
    "temp = ''\n",
    "with open('temp_covid_zip.txt', 'r') as fin:\n",
    "    temp = fin.read()\n",
    "from bs4 import BeautifulSoup\n",
    "soup = BeautifulSoup(temp, 'html.parser')\n",
    "table = soup.find_all('div')[len(soup.find_all('div'))-3].table #grabs the table which stores the data\n",
    "print(table.find_all('tr')[0].find_all('td')[2].string)\n",
    "print(table.find_all('tr')[1].find_all('td')[2].string)"
   ]
  },
  {
   "cell_type": "code",
   "execution_count": 12,
   "metadata": {},
   "outputs": [
    {
     "output_type": "error",
     "ename": "InvalidSessionIdException",
     "evalue": "Message: Tried to run command without establishing a connection\n",
     "traceback": [
      "\u001b[1;31m---------------------------------------------------------------------------\u001b[0m",
      "\u001b[1;31mInvalidSessionIdException\u001b[0m                 Traceback (most recent call last)",
      "\u001b[1;32m&lt;ipython-input-12-e8ac65fe1a27&gt;\u001b[0m in \u001b[0;36m&lt;module&gt;\u001b[1;34m\u001b[0m\n\u001b[0;32m      1\u001b[0m \u001b[1;31m#Use for Y: -39 to start off with to go from 43211 to 43224\u001b[0m\u001b[1;33m\u001b[0m\u001b[1;33m\u001b[0m\u001b[1;33m\u001b[0m\u001b[0m\n\u001b[0;32m      2\u001b[0m \u001b[1;31m# Navigate to url\u001b[0m\u001b[1;33m\u001b[0m\u001b[1;33m\u001b[0m\u001b[1;33m\u001b[0m\u001b[0m\n\u001b[1;32m----&gt; 3\u001b[1;33m \u001b[0mdriver\u001b[0m\u001b[1;33m.\u001b[0m\u001b[0mget\u001b[0m\u001b[1;33m(\u001b[0m\u001b[1;34m&quot;https://public.tableau.com/views/COVID-19OutbreakSummary_15918845768300/COVID19Summaryp3?%3Adisplay_count=y&amp;%3Aorigin=viz_share_link&amp;%3AshowVizHome=no&quot;\u001b[0m\u001b[1;33m)\u001b[0m\u001b[1;33m\u001b[0m\u001b[1;33m\u001b[0m\u001b[0m\n\u001b[0m\u001b[0;32m      4\u001b[0m \u001b[1;33m\u001b[0m\u001b[0m\n\u001b[0;32m      5\u001b[0m \u001b[1;31m# Store &#39;google search&#39; button web element\u001b[0m\u001b[1;33m\u001b[0m\u001b[1;33m\u001b[0m\u001b[1;33m\u001b[0m\u001b[0m\n",
      "\u001b[1;32m~\\AppData\\Local\\Programs\\Python\\Python38-32\\lib\\site-packages\\selenium\\webdriver\\remote\\webdriver.py\u001b[0m in \u001b[0;36mget\u001b[1;34m(self, url)\u001b[0m\n\u001b[0;32m    331\u001b[0m         \u001b[0mLoads\u001b[0m \u001b[0ma\u001b[0m \u001b[0mweb\u001b[0m \u001b[0mpage\u001b[0m \u001b[1;32min\u001b[0m \u001b[0mthe\u001b[0m \u001b[0mcurrent\u001b[0m \u001b[0mbrowser\u001b[0m \u001b[0msession\u001b[0m\u001b[1;33m.\u001b[0m\u001b[1;33m\u001b[0m\u001b[1;33m\u001b[0m\u001b[0m\n\u001b[0;32m    332\u001b[0m         &quot;&quot;&quot;\n\u001b[1;32m--&gt; 333\u001b[1;33m         \u001b[0mself\u001b[0m\u001b[1;33m.\u001b[0m\u001b[0mexecute\u001b[0m\u001b[1;33m(\u001b[0m\u001b[0mCommand\u001b[0m\u001b[1;33m.\u001b[0m\u001b[0mGET\u001b[0m\u001b[1;33m,\u001b[0m \u001b[1;33m{\u001b[0m\u001b[1;34m&#39;url&#39;\u001b[0m\u001b[1;33m:\u001b[0m \u001b[0murl\u001b[0m\u001b[1;33m}\u001b[0m\u001b[1;33m)\u001b[0m\u001b[1;33m\u001b[0m\u001b[1;33m\u001b[0m\u001b[0m\n\u001b[0m\u001b[0;32m    334\u001b[0m \u001b[1;33m\u001b[0m\u001b[0m\n\u001b[0;32m    335\u001b[0m     \u001b[1;33m@\u001b[0m\u001b[0mproperty\u001b[0m\u001b[1;33m\u001b[0m\u001b[1;33m\u001b[0m\u001b[0m\n",
      "\u001b[1;32m~\\AppData\\Local\\Programs\\Python\\Python38-32\\lib\\site-packages\\selenium\\webdriver\\remote\\webdriver.py\u001b[0m in \u001b[0;36mexecute\u001b[1;34m(self, driver_command, params)\u001b[0m\n\u001b[0;32m    319\u001b[0m         \u001b[0mresponse\u001b[0m \u001b[1;33m=\u001b[0m \u001b[0mself\u001b[0m\u001b[1;33m.\u001b[0m\u001b[0mcommand_executor\u001b[0m\u001b[1;33m.\u001b[0m\u001b[0mexecute\u001b[0m\u001b[1;33m(\u001b[0m\u001b[0mdriver_command\u001b[0m\u001b[1;33m,\u001b[0m \u001b[0mparams\u001b[0m\u001b[1;33m)\u001b[0m\u001b[1;33m\u001b[0m\u001b[1;33m\u001b[0m\u001b[0m\n\u001b[0;32m    320\u001b[0m         \u001b[1;32mif\u001b[0m \u001b[0mresponse\u001b[0m\u001b[1;33m:\u001b[0m\u001b[1;33m\u001b[0m\u001b[1;33m\u001b[0m\u001b[0m\n\u001b[1;32m--&gt; 321\u001b[1;33m             \u001b[0mself\u001b[0m\u001b[1;33m.\u001b[0m\u001b[0merror_handler\u001b[0m\u001b[1;33m.\u001b[0m\u001b[0mcheck_response\u001b[0m\u001b[1;33m(\u001b[0m\u001b[0mresponse\u001b[0m\u001b[1;33m)\u001b[0m\u001b[1;33m\u001b[0m\u001b[1;33m\u001b[0m\u001b[0m\n\u001b[0m\u001b[0;32m    322\u001b[0m             response[&#39;value&#39;] = self._unwrap_value(\n\u001b[0;32m    323\u001b[0m                 response.get(&#39;value&#39;, None))\n",
      "\u001b[1;32m~\\AppData\\Local\\Programs\\Python\\Python38-32\\lib\\site-packages\\selenium\\webdriver\\remote\\errorhandler.py\u001b[0m in \u001b[0;36mcheck_response\u001b[1;34m(self, response)\u001b[0m\n\u001b[0;32m    240\u001b[0m                 \u001b[0malert_text\u001b[0m \u001b[1;33m=\u001b[0m \u001b[0mvalue\u001b[0m\u001b[1;33m[\u001b[0m\u001b[1;34m&#39;alert&#39;\u001b[0m\u001b[1;33m]\u001b[0m\u001b[1;33m.\u001b[0m\u001b[0mget\u001b[0m\u001b[1;33m(\u001b[0m\u001b[1;34m&#39;text&#39;\u001b[0m\u001b[1;33m)\u001b[0m\u001b[1;33m\u001b[0m\u001b[1;33m\u001b[0m\u001b[0m\n\u001b[0;32m    241\u001b[0m             \u001b[1;32mraise\u001b[0m \u001b[0mexception_class\u001b[0m\u001b[1;33m(\u001b[0m\u001b[0mmessage\u001b[0m\u001b[1;33m,\u001b[0m \u001b[0mscreen\u001b[0m\u001b[1;33m,\u001b[0m \u001b[0mstacktrace\u001b[0m\u001b[1;33m,\u001b[0m \u001b[0malert_text\u001b[0m\u001b[1;33m)\u001b[0m\u001b[1;33m\u001b[0m\u001b[1;33m\u001b[0m\u001b[0m\n\u001b[1;32m--&gt; 242\u001b[1;33m         \u001b[1;32mraise\u001b[0m \u001b[0mexception_class\u001b[0m\u001b[1;33m(\u001b[0m\u001b[0mmessage\u001b[0m\u001b[1;33m,\u001b[0m \u001b[0mscreen\u001b[0m\u001b[1;33m,\u001b[0m \u001b[0mstacktrace\u001b[0m\u001b[1;33m)\u001b[0m\u001b[1;33m\u001b[0m\u001b[1;33m\u001b[0m\u001b[0m\n\u001b[0m\u001b[0;32m    243\u001b[0m \u001b[1;33m\u001b[0m\u001b[0m\n\u001b[0;32m    244\u001b[0m     \u001b[1;32mdef\u001b[0m \u001b[0m_value_or_default\u001b[0m\u001b[1;33m(\u001b[0m\u001b[0mself\u001b[0m\u001b[1;33m,\u001b[0m \u001b[0mobj\u001b[0m\u001b[1;33m,\u001b[0m \u001b[0mkey\u001b[0m\u001b[1;33m,\u001b[0m \u001b[0mdefault\u001b[0m\u001b[1;33m)\u001b[0m\u001b[1;33m:\u001b[0m\u001b[1;33m\u001b[0m\u001b[1;33m\u001b[0m\u001b[0m\n",
      "\u001b[1;31mInvalidSessionIdException\u001b[0m: Message: Tried to run command without establishing a connection\n"
     ]
    }
   ],
   "source": [
    "#Use for Y: -39 to start off with to go from 43211 to 43224\n",
    "# Navigate to url\n",
    "driver.get(\"https://public.tableau.com/views/COVID-19OutbreakSummary_15918845768300/COVID19Summaryp3?%3Adisplay_count=y&%3Aorigin=viz_share_link&%3AshowVizHome=no\")\n",
    "\n",
    "# Store 'google search' button web element\n",
    "time.sleep(20)\n",
    "mapfre = driver.find_element_by_xpath(\"//*[@id=\\\"tabZoneId106\\\"]/div/div/div/div\")#//*[@id=\\\"view8239885986803340325_964909730081303188\\\"]/div[1]/div[2]\")\n",
    "#Set x and y offset positions of element\n",
    "xOffset = 0 \n",
    "yOffset = -39\n",
    "ActionChains(driver).move_to_element(mapfre).perform()\n",
    "ActionChains(driver).move_by_offset(xOffset,yOffset).perform()\n",
    "time.sleep(12)\n",
    "with open('temp_covid_zip.txt', 'w', encoding='utf-8') as f:\n",
    "    f.write(str(driver.page_source))"
   ]
  },
  {
   "cell_type": "code",
   "execution_count": 9,
   "metadata": {
    "tags": []
   },
   "outputs": [
    {
     "output_type": "stream",
     "name": "stdout",
     "text": "43224\n868 - 1289\n"
    }
   ],
   "source": [
    "#this script works for extracting zip and cases range\n",
    "# -39 is a success\n",
    "temp = ''\n",
    "with open('temp_covid_zip.txt', 'r') as fin:\n",
    "    temp = fin.read()\n",
    "from bs4 import BeautifulSoup\n",
    "soup = BeautifulSoup(temp, 'html.parser')\n",
    "table = soup.find_all('div')[len(soup.find_all('div'))-3].table #grabs the table which stores the data\n",
    "print(table.find_all('tr')[0].find_all('td')[2].string)\n",
    "print(table.find_all('tr')[1].find_all('td')[2].string)"
   ]
  },
  {
   "cell_type": "code",
   "execution_count": null,
   "metadata": {},
   "outputs": [],
   "source": [
    "# @TODO: Calculate Difference between 43211 and 43224 latitude and create a scale factor"
   ]
  }
 ],
 "metadata": {
  "kernelspec": {
   "name": "python3",
   "display_name": "Python 3.8.5 32-bit",
   "metadata": {
    "interpreter": {
     "hash": "0acb2cb27714ac67f55a8af7176a3d676c30cfd371720344473d3954e39fd2e8"
    }
   }
  },
  "language_info": {
   "codemirror_mode": {
    "name": "ipython",
    "version": 3
   },
   "file_extension": ".py",
   "mimetype": "text/x-python",
   "name": "python",
   "nbconvert_exporter": "python",
   "pygments_lexer": "ipython3",
   "version": "3.8.5-final"
  }
 },
 "nbformat": 4,
 "nbformat_minor": 4
}