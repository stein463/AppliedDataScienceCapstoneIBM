{
 "cells": [
  {
   "source": [
    "***\n",
    "#  Part 1: Data Retrieval\n",
    "***"
   ],
   "cell_type": "markdown",
   "metadata": {}
  },
  {
   "cell_type": "markdown",
   "metadata": {},
   "source": [
    "# Gather relevant data "
   ]
  },
  {
   "cell_type": "markdown",
   "metadata": {},
   "source": [
    "## Webscrape demographic data "
   ]
  },
  {
   "cell_type": "markdown",
   "metadata": {},
   "source": [
    "Import Relevant packages"
   ]
  },
  {
   "cell_type": "code",
   "execution_count": 1,
   "metadata": {},
   "outputs": [],
   "source": [
    "import pandas as pd\n",
    "import numpy as np\n",
    "import requests\n",
    "import urllib.request\n",
    "import time\n",
    "from bs4 import BeautifulSoup"
   ]
  },
  {
   "cell_type": "markdown",
   "metadata": {},
   "source": [
    "Checks to confirm page exists"
   ]
  },
  {
   "cell_type": "code",
   "execution_count": 28,
   "metadata": {
    "tags": []
   },
   "outputs": [
    {
     "output_type": "stream",
     "name": "stdout",
     "text": [
      "<Response [200]>\n"
     ]
    }
   ],
   "source": [
    "url = 'https://www.zip-codes.com{}'\n",
    "columbus_branch ='/city/oh-columbus.asp'\n",
    "# reinforces integrity of the data collection\n",
    "accessed = False\n",
    "while accessed == False:\n",
    "    try:\n",
    "        response = requests.get(url.format(columbus_branch))\n",
    "        print(response)\n",
    "        accessed = True\n",
    "    except:\n",
    "        accesssed = False"
   ]
  },
  {
   "cell_type": "markdown",
   "metadata": {},
   "source": [
    "Gathers relevant data on the page"
   ]
  },
  {
   "cell_type": "code",
   "execution_count": 3,
   "metadata": {
    "tags": []
   },
   "outputs": [
    {
     "output_type": "stream",
     "name": "stdout",
     "text": [
      "<table border=\"0\" cellpadding=\"0\" cellspacing=\"0\" class=\"statTable\" id=\"tblZIP\" width=\"99%\">\n<tr><td class=\"label\"><strong>ZIP Code</strong></td><td><strong>Type</strong></td><td><strong>County</strong></td><td><strong>Population</strong></td><td><strong>Area Code(s)</strong></td></tr>\n<tr><td><a href=\"/zip-code/43081/zip-code-43081.asp\" style=\"text-decoration:underline;\" title=\"ZIP Code 43081, WESTERVILLE, OH\">ZIP Code 43081</a></td><td>Standard</td><td><a href=\"/county/oh-franklin.asp\">Franklin</a></td><td>55,991</td><td><a href=\"/area-code/area-code-614.asp\" title=\"Area Code 614\">614</a></td></tr><tr><td><a href=\"/zip-code/43085/zip-code-43085.asp\" style=\"text-decoration:underline;\" title=\"ZIP Code 43085, COLUMBUS, OH\">ZIP Code 43085</a></td><td>Standard</td><td><a href=\"/county/oh-franklin.asp\">Franklin</a></td><td>23,258</td><td><a href=\"/area-code/area-code-614.asp\" title=\"Area Code 614\">614</a> / <a href=\"/area-code/area-code-380.asp\" title=\"Area Code 380\">380</a> / <a href=\"/area-code/area-code-740.asp\" title=\"Area Code 740\">740</a></td></tr><tr><td><a href=\"/zip-code/43201/zip-code-43201.asp\" style=\"text-decoration:underline;\" title=\"ZIP Code 43201, COLUMBUS, OH\">ZIP Code 43201</a></td><td>Standard</td><td><a href=\"/county/oh-franklin.asp\">Franklin</a></td><td>35,495</td><td><a href=\"/area-code/area-code-614.asp\" title=\"Area Code 614\">614</a></td></tr><tr><td><a href=\"/zip-code/43202/zip-code-43202.asp\" style=\"text-decoration:underline;\" title=\"ZIP Code 43202, COLUMBUS, OH\">ZIP Code 43202</a></td><td>Standard</td><td><a href=\"/county/oh-franklin.asp\">Franklin</a></td><td>20,251</td><td><a href=\"/area-code/area-code-614.asp\" title=\"Area Code 614\">614</a></td></tr><tr><td><a href=\"/zip-code/43203/zip-code-43203.asp\" style=\"text-decoration:underline;\" title=\"ZIP Code 43203, COLUMBUS, OH\">ZIP Code 43203</a></td><td>Standard</td><td><a href=\"/county/oh-franklin.asp\">Franklin</a></td><td>8,108</td><td><a href=\"/area-code/area-code-614.asp\" title=\"Area Code 614\">614</a> / <a href=\"/area-code/area-code-380.asp\" title=\"Area Code 380\">380</a></td></tr><tr><td><a href=\"/zip-code/43204/zip-code-43204.asp\" style=\"text-decoration:underline;\" title=\"ZIP Code 43204, COLUMBUS, OH\">ZIP Code 43204</a></td><td>Standard</td><td><a href=\"/county/oh-franklin.asp\">Franklin</a></td><td>42,104</td><td><a href=\"/area-code/area-code-614.asp\" title=\"Area Code 614\">614</a></td></tr><tr><td><a href=\"/zip-code/43205/zip-code-43205.asp\" style=\"text-decoration:underline;\" title=\"ZIP Code 43205, COLUMBUS, OH\">ZIP Code 43205</a></td><td>Standard</td><td><a href=\"/county/oh-franklin.asp\">Franklin</a></td><td>12,272</td><td><a href=\"/area-code/area-code-614.asp\" title=\"Area Code 614\">614</a> / <a href=\"/area-code/area-code-380.asp\" title=\"Area Code 380\">380</a></td></tr><tr><td><a href=\"/zip-code/43206/zip-code-43206.asp\" style=\"text-decoration:underline;\" title=\"ZIP Code 43206, COLUMBUS, OH\">ZIP Code 43206</a></td><td>Standard</td><td><a href=\"/county/oh-franklin.asp\">Franklin</a></td><td>21,864</td><td><a href=\"/area-code/area-code-614.asp\" title=\"Area Code 614\">614</a></td></tr><tr><td><a href=\"/zip-code/43207/zip-code-43207.asp\" style=\"text-decoration:underline;\" title=\"ZIP Code 43207, COLUMBUS, OH\">ZIP Code 43207</a></td><td>Standard</td><td><a href=\"/county/oh-franklin.asp\">Franklin</a></td><td>45,144</td><td><a href=\"/area-code/area-code-614.asp\" title=\"Area Code 614\">614</a></td></tr><tr><td><a href=\"/zip-code/43209/zip-code-43209.asp\" style=\"text-decoration:underline;\" title=\"ZIP Code 43209, COLUMBUS, OH\">ZIP Code 43209</a></td><td>Standard</td><td><a href=\"/county/oh-franklin.asp\">Franklin</a></td><td>27,228</td><td><a href=\"/area-code/area-code-614.asp\" title=\"Area Code 614\">614</a></td></tr><tr><td><a href=\"/zip-code/43210/zip-code-43210.asp\" style=\"text-decoration:underline;\" title=\"ZIP Code 43210, COLUMBUS, OH\">ZIP Code 43210</a></td><td>Standard</td><td><a href=\"/county/oh-franklin.asp\">Franklin</a></td><td>9,432</td><td><a href=\"/area-code/area-code-614.asp\" title=\"Area Code 614\">614</a></td></tr><tr><td><a href=\"/zip-code/43211/zip-code-43211.asp\" style=\"text-decoration:underline;\" title=\"ZIP Code 43211, COLUMBUS, OH\">ZIP Code 43211</a></td><td>Standard</td><td><a href=\"/county/oh-franklin.asp\">Franklin</a></td><td>21,600</td><td><a href=\"/area-code/area-code-614.asp\" title=\"Area Code 614\">614</a></td></tr><tr><td><a href=\"/zip-code/43212/zip-code-43212.asp\" style=\"text-decoration:underline;\" title=\"ZIP Code 43212, COLUMBUS, OH\">ZIP Code 43212</a></td><td>Standard</td><td><a href=\"/county/oh-franklin.asp\">Franklin</a></td><td>18,551</td><td><a href=\"/area-code/area-code-614.asp\" title=\"Area Code 614\">614</a></td></tr><tr><td><a href=\"/zip-code/43213/zip-code-43213.asp\" style=\"text-decoration:underline;\" title=\"ZIP Code 43213, COLUMBUS, OH\">ZIP Code 43213</a></td><td>Standard</td><td><a href=\"/county/oh-franklin.asp\">Franklin</a></td><td>30,444</td><td><a href=\"/area-code/area-code-614.asp\" title=\"Area Code 614\">614</a></td></tr><tr><td><a href=\"/zip-code/43214/zip-code-43214.asp\" style=\"text-decoration:underline;\" title=\"ZIP Code 43214, COLUMBUS, OH\">ZIP Code 43214</a></td><td>Standard</td><td><a href=\"/county/oh-franklin.asp\">Franklin</a></td><td>24,650</td><td><a href=\"/area-code/area-code-614.asp\" title=\"Area Code 614\">614</a></td></tr><tr><td><a href=\"/zip-code/43215/zip-code-43215.asp\" style=\"text-decoration:underline;\" title=\"ZIP Code 43215, COLUMBUS, OH\">ZIP Code 43215</a></td><td>Standard</td><td><a href=\"/county/oh-franklin.asp\">Franklin</a></td><td>12,790</td><td><a href=\"/area-code/area-code-614.asp\" title=\"Area Code 614\">614</a> / <a href=\"/area-code/area-code-380.asp\" title=\"Area Code 380\">380</a></td></tr><tr><td><a href=\"/zip-code/43216/zip-code-43216.asp\" style=\"text-decoration:underline;\" title=\"ZIP Code 43216, COLUMBUS, OH\">ZIP Code 43216</a></td><td>P.O. Box</td><td><a href=\"/county/oh-franklin.asp\">Franklin</a></td><td>0</td><td><a href=\"/area-code/area-code-614.asp\" title=\"Area Code 614\">614</a> / <a href=\"/area-code/area-code-380.asp\" title=\"Area Code 380\">380</a></td></tr><tr><td><a href=\"/zip-code/43217/zip-code-43217.asp\" style=\"text-decoration:underline;\" title=\"ZIP Code 43217, COLUMBUS, OH\">ZIP Code 43217</a></td><td>Standard</td><td><a href=\"/county/oh-franklin.asp\">Franklin</a></td><td>2,602</td><td><a href=\"/area-code/area-code-614.asp\" title=\"Area Code 614\">614</a></td></tr><tr><td><a href=\"/zip-code/43218/zip-code-43218.asp\" style=\"text-decoration:underline;\" title=\"ZIP Code 43218, COLUMBUS, OH\">ZIP Code 43218</a></td><td>P.O. Box</td><td><a href=\"/county/oh-franklin.asp\">Franklin</a></td><td>0</td><td><a href=\"/area-code/area-code-614.asp\" title=\"Area Code 614\">614</a> / <a href=\"/area-code/area-code-380.asp\" title=\"Area Code 380\">380</a></td></tr><tr><td><a href=\"/zip-code/43219/zip-code-43219.asp\" style=\"text-decoration:underline;\" title=\"ZIP Code 43219, COLUMBUS, OH\">ZIP Code 43219</a></td><td>Standard</td><td><a href=\"/county/oh-franklin.asp\">Franklin</a></td><td>27,123</td><td><a href=\"/area-code/area-code-614.asp\" title=\"Area Code 614\">614</a></td></tr><tr><td><a href=\"/zip-code/43220/zip-code-43220.asp\" style=\"text-decoration:underline;\" title=\"ZIP Code 43220, COLUMBUS, OH\">ZIP Code 43220</a></td><td>Standard</td><td><a href=\"/county/oh-franklin.asp\">Franklin</a></td><td>24,989</td><td><a href=\"/area-code/area-code-614.asp\" title=\"Area Code 614\">614</a></td></tr><tr><td><a href=\"/zip-code/43221/zip-code-43221.asp\" style=\"text-decoration:underline;\" title=\"ZIP Code 43221, COLUMBUS, OH\">ZIP Code 43221</a></td><td>Standard</td><td><a href=\"/county/oh-franklin.asp\">Franklin</a></td><td>31,265</td><td><a href=\"/area-code/area-code-614.asp\" title=\"Area Code 614\">614</a></td></tr><tr><td><a href=\"/zip-code/43222/zip-code-43222.asp\" style=\"text-decoration:underline;\" title=\"ZIP Code 43222, COLUMBUS, OH\">ZIP Code 43222</a></td><td>Standard</td><td><a href=\"/county/oh-franklin.asp\">Franklin</a></td><td>4,617</td><td><a href=\"/area-code/area-code-614.asp\" title=\"Area Code 614\">614</a> / <a href=\"/area-code/area-code-380.asp\" title=\"Area Code 380\">380</a></td></tr><tr><td><a href=\"/zip-code/43223/zip-code-43223.asp\" style=\"text-decoration:underline;\" title=\"ZIP Code 43223, COLUMBUS, OH\">ZIP Code 43223</a></td><td>Standard</td><td><a href=\"/county/oh-franklin.asp\">Franklin</a></td><td>27,366</td><td><a href=\"/area-code/area-code-614.asp\" title=\"Area Code 614\">614</a></td></tr><tr><td><a href=\"/zip-code/43224/zip-code-43224.asp\" style=\"text-decoration:underline;\" title=\"ZIP Code 43224, COLUMBUS, OH\">ZIP Code 43224</a></td><td>Standard</td><td><a href=\"/county/oh-franklin.asp\">Franklin</a></td><td>38,699</td><td><a href=\"/area-code/area-code-614.asp\" title=\"Area Code 614\">614</a></td></tr><tr><td><a href=\"/zip-code/43226/zip-code-43226.asp\" style=\"text-decoration:underline;\" title=\"ZIP Code 43226, COLUMBUS, OH\">ZIP Code 43226</a></td><td>P.O. Box</td><td><a href=\"/county/oh-franklin.asp\">Franklin</a></td><td>0</td><td><a href=\"/area-code/area-code-614.asp\" title=\"Area Code 614\">614</a> / <a href=\"/area-code/area-code-380.asp\" title=\"Area Code 380\">380</a></td></tr><tr><td><a href=\"/zip-code/43227/zip-code-43227.asp\" style=\"text-decoration:underline;\" title=\"ZIP Code 43227, COLUMBUS, OH\">ZIP Code 43227</a></td><td>Standard</td><td><a href=\"/county/oh-franklin.asp\">Franklin</a></td><td>21,340</td><td><a href=\"/area-code/area-code-614.asp\" title=\"Area Code 614\">614</a></td></tr><tr><td><a href=\"/zip-code/43228/zip-code-43228.asp\" style=\"text-decoration:underline;\" title=\"ZIP Code 43228, COLUMBUS, OH\">ZIP Code 43228</a></td><td>Standard</td><td><a href=\"/county/oh-franklin.asp\">Franklin</a></td><td>50,737</td><td><a href=\"/area-code/area-code-614.asp\" title=\"Area Code 614\">614</a></td></tr><tr><td><a href=\"/zip-code/43229/zip-code-43229.asp\" style=\"text-decoration:underline;\" title=\"ZIP Code 43229, COLUMBUS, OH\">ZIP Code 43229</a></td><td>Standard</td><td><a href=\"/county/oh-franklin.asp\">Franklin</a></td><td>46,347</td><td><a href=\"/area-code/area-code-614.asp\" title=\"Area Code 614\">614</a> / <a href=\"/area-code/area-code-740.asp\" title=\"Area Code 740\">740</a></td></tr><tr><td><a href=\"/zip-code/43230/zip-code-43230.asp\" style=\"text-decoration:underline;\" title=\"ZIP Code 43230, COLUMBUS, OH\">ZIP Code 43230</a></td><td>Standard</td><td><a href=\"/county/oh-franklin.asp\">Franklin</a></td><td>51,161</td><td><a href=\"/area-code/area-code-614.asp\" title=\"Area Code 614\">614</a></td></tr><tr><td><a href=\"/zip-code/43231/zip-code-43231.asp\" style=\"text-decoration:underline;\" title=\"ZIP Code 43231, COLUMBUS, OH\">ZIP Code 43231</a></td><td>Standard</td><td><a href=\"/county/oh-franklin.asp\">Franklin</a></td><td>19,685</td><td><a href=\"/area-code/area-code-614.asp\" title=\"Area Code 614\">614</a></td></tr><tr><td><a href=\"/zip-code/43232/zip-code-43232.asp\" style=\"text-decoration:underline;\" title=\"ZIP Code 43232, COLUMBUS, OH\">ZIP Code 43232</a></td><td>Standard</td><td><a href=\"/county/oh-franklin.asp\">Franklin</a></td><td>42,201</td><td><a href=\"/area-code/area-code-614.asp\" title=\"Area Code 614\">614</a></td></tr><tr><td><a href=\"/zip-code/43234/zip-code-43234.asp\" style=\"text-decoration:underline;\" title=\"ZIP Code 43234, COLUMBUS, OH\">ZIP Code 43234</a></td><td>P.O. Box</td><td><a href=\"/county/oh-franklin.asp\">Franklin</a></td><td>0</td><td><a href=\"/area-code/area-code-614.asp\" title=\"Area Code 614\">614</a> / <a href=\"/area-code/area-code-380.asp\" title=\"Area Code 380\">380</a></td></tr><tr><td><a href=\"/zip-code/43235/zip-code-43235.asp\" style=\"text-decoration:underline;\" title=\"ZIP Code 43235, COLUMBUS, OH\">ZIP Code 43235</a></td><td>Standard</td><td><a href=\"/county/oh-franklin.asp\">Franklin</a></td><td>38,493</td><td><a href=\"/area-code/area-code-614.asp\" title=\"Area Code 614\">614</a></td></tr><tr><td><a href=\"/zip-code/43236/zip-code-43236.asp\" style=\"text-decoration:underline;\" title=\"ZIP Code 43236, COLUMBUS, OH\">ZIP Code 43236</a></td><td>P.O. Box</td><td><a href=\"/county/oh-franklin.asp\">Franklin</a></td><td>0</td><td><a href=\"/area-code/area-code-614.asp\" title=\"Area Code 614\">614</a> / <a href=\"/area-code/area-code-380.asp\" title=\"Area Code 380\">380</a></td></tr><tr><td><a href=\"/zip-code/43240/zip-code-43240.asp\" style=\"text-decoration:underline;\" title=\"ZIP Code 43240, COLUMBUS, OH\">ZIP Code 43240</a></td><td>Standard</td><td><a href=\"/county/oh-delaware.asp\">Delaware</a></td><td>3,469</td><td><a href=\"/area-code/area-code-614.asp\" title=\"Area Code 614\">614</a> / <a href=\"/area-code/area-code-740.asp\" title=\"Area Code 740\">740</a></td></tr><tr><td><a href=\"/zip-code/43251/zip-code-43251.asp\" style=\"text-decoration:underline;\" title=\"ZIP Code 43251, COLUMBUS, OH\">ZIP Code 43251</a></td><td>Unique</td><td><a href=\"/county/oh-franklin.asp\">Franklin</a></td><td>0</td><td><a href=\"/area-code/area-code-614.asp\" title=\"Area Code 614\">614</a> / <a href=\"/area-code/area-code-380.asp\" title=\"Area Code 380\">380</a></td></tr><tr><td><a href=\"/zip-code/43260/zip-code-43260.asp\" style=\"text-decoration:underline;\" title=\"ZIP Code 43260, COLUMBUS, OH\">ZIP Code 43260</a></td><td>Unique</td><td><a href=\"/county/oh-franklin.asp\">Franklin</a></td><td>0</td><td><a href=\"/area-code/area-code-614.asp\" title=\"Area Code 614\">614</a> / <a href=\"/area-code/area-code-380.asp\" title=\"Area Code 380\">380</a></td></tr><tr><td><a href=\"/zip-code/43266/zip-code-43266.asp\" style=\"text-decoration:underline;\" title=\"ZIP Code 43266, COLUMBUS, OH\">ZIP Code 43266</a></td><td>Unique</td><td><a href=\"/county/oh-franklin.asp\">Franklin</a></td><td>0</td><td><a href=\"/area-code/area-code-614.asp\" title=\"Area Code 614\">614</a> / <a href=\"/area-code/area-code-380.asp\" title=\"Area Code 380\">380</a></td></tr><tr><td><a href=\"/zip-code/43268/zip-code-43268.asp\" style=\"text-decoration:underline;\" title=\"ZIP Code 43268, COLUMBUS, OH\">ZIP Code 43268</a></td><td>Unique</td><td><a href=\"/county/oh-franklin.asp\">Franklin</a></td><td>0</td><td><a href=\"/area-code/area-code-614.asp\" title=\"Area Code 614\">614</a> / <a href=\"/area-code/area-code-380.asp\" title=\"Area Code 380\">380</a></td></tr><tr><td><a href=\"/zip-code/43270/zip-code-43270.asp\" style=\"text-decoration:underline;\" title=\"ZIP Code 43270, COLUMBUS, OH\">ZIP Code 43270</a></td><td>Unique</td><td><a href=\"/county/oh-franklin.asp\">Franklin</a></td><td>0</td><td><a href=\"/area-code/area-code-614.asp\" title=\"Area Code 614\">614</a> / <a href=\"/area-code/area-code-380.asp\" title=\"Area Code 380\">380</a></td></tr><tr><td><a href=\"/zip-code/43271/zip-code-43271.asp\" style=\"text-decoration:underline;\" title=\"ZIP Code 43271, COLUMBUS, OH\">ZIP Code 43271</a></td><td>Unique</td><td><a href=\"/county/oh-franklin.asp\">Franklin</a></td><td>0</td><td><a href=\"/area-code/area-code-614.asp\" title=\"Area Code 614\">614</a> / <a href=\"/area-code/area-code-380.asp\" title=\"Area Code 380\">380</a></td></tr><tr><td><a href=\"/zip-code/43272/zip-code-43272.asp\" style=\"text-decoration:underline;\" title=\"ZIP Code 43272, COLUMBUS, OH\">ZIP Code 43272</a></td><td>Unique</td><td><a href=\"/county/oh-franklin.asp\">Franklin</a></td><td>0</td><td><a href=\"/area-code/area-code-614.asp\" title=\"Area Code 614\">614</a> / <a href=\"/area-code/area-code-380.asp\" title=\"Area Code 380\">380</a></td></tr><tr><td><a href=\"/zip-code/43279/zip-code-43279.asp\" style=\"text-decoration:underline;\" title=\"ZIP Code 43279, COLUMBUS, OH\">ZIP Code 43279</a></td><td>Unique</td><td><a href=\"/county/oh-franklin.asp\">Franklin</a></td><td>0</td><td><a href=\"/area-code/area-code-614.asp\" title=\"Area Code 614\">614</a> / <a href=\"/area-code/area-code-380.asp\" title=\"Area Code 380\">380</a></td></tr><tr><td><a href=\"/zip-code/43287/zip-code-43287.asp\" style=\"text-decoration:underline;\" title=\"ZIP Code 43287, COLUMBUS, OH\">ZIP Code 43287</a></td><td>Unique</td><td><a href=\"/county/oh-franklin.asp\">Franklin</a></td><td>0</td><td><a href=\"/area-code/area-code-614.asp\" title=\"Area Code 614\">614</a> / <a href=\"/area-code/area-code-380.asp\" title=\"Area Code 380\">380</a></td></tr><tr><td><a href=\"/zip-code/43291/zip-code-43291.asp\" style=\"text-decoration:underline;\" title=\"ZIP Code 43291, COLUMBUS, OH\">ZIP Code 43291</a></td><td>Unique</td><td><a href=\"/county/oh-franklin.asp\">Franklin</a></td><td>0</td><td><a href=\"/area-code/area-code-614.asp\" title=\"Area Code 614\">614</a> / <a href=\"/area-code/area-code-380.asp\" title=\"Area Code 380\">380</a></td></tr></table>\n"
     ]
    }
   ],
   "source": [
    "if response.status_code == 200:\n",
    "    soup = BeautifulSoup(response.text, 'html.parser')\n",
    "    tbl = soup.table.tr.find_all('td')[1].find_all('table')[1]\n",
    "    print(tbl)"
   ]
  },
  {
   "cell_type": "markdown",
   "metadata": {},
   "source": [
    "function to help web scrape zip code information"
   ]
  },
  {
   "cell_type": "code",
   "execution_count": 4,
   "metadata": {},
   "outputs": [],
   "source": [
    "# @TODO: Fix zip info extraction method.\n",
    "# utilize when using the table the [0-4] table \n",
    "# BeautifulSoup(response.text, 'html.parser').table.tr.find_all('td')[1].find_all('table')\n",
    "def zip_info(response):\n",
    "    page = BeautifulSoup(response.text, 'html.parser').find_all(\"table\", class_=\"statTable\")\n",
    "    #print(page)\n",
    "    dict = {}\n",
    "    for table in page:\n",
    "        for row in table.find_all('tr'):\n",
    "            dict[row.find_all('td')[0].string] = row.find_all('td')[1].string        \n",
    "    return dict"
   ]
  },
  {
   "cell_type": "markdown",
   "metadata": {},
   "source": [
    "Parses through and gathers data"
   ]
  },
  {
   "cell_type": "code",
   "execution_count": 5,
   "metadata": {
    "tags": []
   },
   "outputs": [
    {
     "output_type": "stream",
     "name": "stdout",
     "text": [
      "43081\n",
      "43085\n",
      "43201\n",
      "43202\n",
      "43203\n",
      "43204\n",
      "43205\n",
      "43206\n",
      "43207\n",
      "43209\n",
      "43210\n",
      "43211\n",
      "43212\n",
      "43213\n",
      "43214\n",
      "43215\n",
      "43217\n",
      "43219\n",
      "43220\n",
      "43221\n",
      "43222\n",
      "43223\n",
      "43224\n",
      "43227\n",
      "43228\n",
      "43229\n",
      "43230\n",
      "43231\n",
      "43232\n",
      "43235\n",
      "43240\n",
      "31\n",
      "   # Business Mailboxes: # Residential Mailboxes: # of Employees:  \\\n",
      "0                  1,380                   27,944          28,811   \n",
      "1                  1,086                   10,611          18,013   \n",
      "2                    798                   17,785           9,974   \n",
      "3                    398                   10,554           5,133   \n",
      "4                    213                    4,364           1,198   \n",
      "5                    842                   17,851           9,930   \n",
      "6                    461                    5,971          15,488   \n",
      "7                    489                   11,139           6,408   \n",
      "8                  1,162                   19,150          18,937   \n",
      "9                    530                   12,036           6,965   \n",
      "10                   266                      325          10,769   \n",
      "11                   449                    9,008           3,287   \n",
      "12                 1,022                   13,256          19,020   \n",
      "13                 1,286                   15,263          18,820   \n",
      "14                 1,074                   13,733          21,545   \n",
      "15                 2,747                   12,172          74,570   \n",
      "16                    66                      880           1,485   \n",
      "17                 1,559                   12,239          50,742   \n",
      "18                   915                   12,974          11,175   \n",
      "19                   594                   14,569           6,828   \n",
      "20                   239                    1,699           8,135   \n",
      "21                   627                   10,430           7,522   \n",
      "22                   635                   17,796           4,721   \n",
      "23                   332                    9,462           2,866   \n",
      "24                 1,603                   24,138          37,475   \n",
      "25                 1,560                   21,416          24,330   \n",
      "26                 1,381                   24,821          23,504   \n",
      "27                   682                    8,720          10,996   \n",
      "28                   943                   18,958          10,050   \n",
      "29                 1,072                   20,616          21,507   \n",
      "30                   651                    3,338          25,220   \n",
      "\n",
      "   113th Congressional District: 113th Congressional Land Area:  \\\n",
      "0                          03|12              228|2271.91 sq mi   \n",
      "1                          03|12              228|2271.91 sq mi   \n",
      "2                       03|12|15      228|2271.91|4738.93 sq mi   \n",
      "3                          03|12              228|2271.91 sq mi   \n",
      "4                             03                      228 sq mi   \n",
      "5                          03|15              228|4738.93 sq mi   \n",
      "6                             03                      228 sq mi   \n",
      "7                          03|15              228|4738.93 sq mi   \n",
      "8                          03|15              228|4738.93 sq mi   \n",
      "9                             03                      228 sq mi   \n",
      "10                         03|15              228|4738.93 sq mi   \n",
      "11                            03                      228 sq mi   \n",
      "12                         03|15              228|4738.93 sq mi   \n",
      "13                            03                      228 sq mi   \n",
      "14                         03|12              228|2271.91 sq mi   \n",
      "15                         03|15              228|4738.93 sq mi   \n",
      "16                      03|12|15      228|2271.91|4738.93 sq mi   \n",
      "17                         03|12              228|2271.91 sq mi   \n",
      "18                         12|15          2271.91|4738.93 sq mi   \n",
      "19                      03|12|15      228|2271.91|4738.93 sq mi   \n",
      "20                         03|15              228|4738.93 sq mi   \n",
      "21                         03|15              228|4738.93 sq mi   \n",
      "22                            03                      228 sq mi   \n",
      "23                            03                      228 sq mi   \n",
      "24                         03|15              228|4738.93 sq mi   \n",
      "25                         03|12              228|2271.91 sq mi   \n",
      "26                         03|12              228|2271.91 sq mi   \n",
      "27                            03                      228 sq mi   \n",
      "28                            03                      228 sq mi   \n",
      "29                      03|12|15      228|2271.91|4738.93 sq mi   \n",
      "30                         03|12              228|2271.91 sq mi   \n",
      "\n",
      "   1st Quarter Payroll: 2010 Population:   65+: American Indian Population:  \\\n",
      "0          $396,493,000           55,991  7,780                         440   \n",
      "1          $214,132,000           23,258  3,350                         137   \n",
      "2          $110,918,000           35,495    655                         282   \n",
      "3           $58,630,000           20,251    895                         206   \n",
      "4            $8,800,000            8,108    700                         138   \n",
      "5          $120,868,000           42,104  3,980                         662   \n",
      "6          $247,412,000           12,272    950                         201   \n",
      "7           $77,100,000           21,864  2,030                         309   \n",
      "8          $206,110,000           45,144  5,720                         648   \n",
      "9           $55,635,000           27,228  3,565                         226   \n",
      "10         $158,937,000            9,432      0                          29   \n",
      "11          $31,961,000           21,600  1,935                         337   \n",
      "12         $223,888,000           18,551  1,645                         138   \n",
      "13         $194,587,000           30,444  4,380                         447   \n",
      "14         $277,646,000           24,650  3,805                         161   \n",
      "15       $1,658,727,000           12,790  1,045                         134   \n",
      "16          $20,114,000            2,602     85                          25   \n",
      "17         $904,668,000           27,123  2,905                         371   \n",
      "18         $121,584,000           24,989  3,645                         140   \n",
      "19          $66,813,000           31,265  3,930                         178   \n",
      "20          $96,119,000            4,617    400                          77   \n",
      "21          $70,602,000           27,366  2,485                         370   \n",
      "22          $30,233,000           38,699  3,645                         447   \n",
      "23          $25,158,000           21,340  2,680                         259   \n",
      "24         $440,252,000           50,737  4,810                         568   \n",
      "25         $224,121,000           46,347  4,610                         496   \n",
      "26         $293,109,000           51,161  6,430                         446   \n",
      "27         $113,936,000           19,685  1,765                         191   \n",
      "28          $80,619,000           42,201  4,145                         518   \n",
      "29         $236,796,000           38,493  5,255                         210   \n",
      "30         $556,702,000            3,469    405                          20   \n",
      "\n",
      "   Annual Payroll:  ...     State:            Time Zone: Total Beneficiaries:  \\\n",
      "0   $1,492,455,000  ...  OH [Ohio]  Eastern (GMT -05:00)                9,445   \n",
      "1     $880,065,000  ...  OH [Ohio]  Eastern (GMT -05:00)                4,185   \n",
      "2     $441,162,000  ...  OH [Ohio]  Eastern (GMT -05:00)                1,205   \n",
      "3     $243,004,000  ...  OH [Ohio]  Eastern (GMT -05:00)                1,150   \n",
      "4      $38,071,000  ...  OH [Ohio]  Eastern (GMT -05:00)                1,145   \n",
      "5     $487,286,000  ...  OH [Ohio]  Eastern (GMT -05:00)                6,390   \n",
      "6     $933,749,000  ...  OH [Ohio]  Eastern (GMT -05:00)                1,675   \n",
      "7     $274,858,000  ...  OH [Ohio]  Eastern (GMT -05:00)                3,755   \n",
      "8     $844,809,000  ...  OH [Ohio]  Eastern (GMT -05:00)                9,140   \n",
      "9     $230,119,000  ...  OH [Ohio]  Eastern (GMT -05:00)                4,430   \n",
      "10    $654,512,000  ...  OH [Ohio]  Eastern (GMT -05:00)                    0   \n",
      "11    $132,663,000  ...  OH [Ohio]  Eastern (GMT -05:00)                3,670   \n",
      "12    $888,761,000  ...  OH [Ohio]  Eastern (GMT -05:00)                1,945   \n",
      "13    $772,845,000  ...  OH [Ohio]  Eastern (GMT -05:00)                6,235   \n",
      "14  $1,122,554,000  ...  OH [Ohio]  Eastern (GMT -05:00)                4,465   \n",
      "15  $5,734,149,000  ...  OH [Ohio]  Eastern (GMT -05:00)                1,555   \n",
      "16     $77,661,000  ...  OH [Ohio]  Eastern (GMT -05:00)                  190   \n",
      "17  $3,154,584,000  ...  OH [Ohio]  Eastern (GMT -05:00)                4,295   \n",
      "18    $505,409,000  ...  OH [Ohio]  Eastern (GMT -05:00)                4,170   \n",
      "19    $277,075,000  ...  OH [Ohio]  Eastern (GMT -05:00)                4,540   \n",
      "20    $409,236,000  ...  OH [Ohio]  Eastern (GMT -05:00)                  795   \n",
      "21    $314,838,000  ...  OH [Ohio]  Eastern (GMT -05:00)                4,790   \n",
      "22    $131,310,000  ...  OH [Ohio]  Eastern (GMT -05:00)                5,765   \n",
      "23    $102,651,000  ...  OH [Ohio]  Eastern (GMT -05:00)                4,340   \n",
      "24  $1,703,340,000  ...  OH [Ohio]  Eastern (GMT -05:00)                7,285   \n",
      "25    $927,738,000  ...  OH [Ohio]  Eastern (GMT -05:00)                6,580   \n",
      "26  $1,138,008,000  ...  OH [Ohio]  Eastern (GMT -05:00)                8,110   \n",
      "27    $455,675,000  ...  OH [Ohio]  Eastern (GMT -05:00)                2,585   \n",
      "28    $337,561,000  ...  OH [Ohio]  Eastern (GMT -05:00)                6,790   \n",
      "29    $942,105,000  ...  OH [Ohio]  Eastern (GMT -05:00)                6,125   \n",
      "30  $1,696,669,000  ...  OH [Ohio]  Eastern (GMT -05:00)                  490   \n",
      "\n",
      "   Total Delivery Receptacles:  Water Area: White Population:  \\\n",
      "0                       29,290  1.131 sq mi            47,805   \n",
      "1                       12,215  0.084 sq mi            20,891   \n",
      "2                       18,824      0 sq mi            27,369   \n",
      "3                       12,292  0.059 sq mi            17,151   \n",
      "4                        4,769      0 sq mi             1,160   \n",
      "5                       19,337  0.316 sq mi            32,905   \n",
      "6                        9,074   0.02 sq mi             3,235   \n",
      "7                       11,904  0.001 sq mi            11,584   \n",
      "8                       20,841  0.971 sq mi            31,582   \n",
      "9                       15,342  0.091 sq mi            19,355   \n",
      "10                       1,906  0.072 sq mi             7,554   \n",
      "11                       9,743  0.014 sq mi             6,376   \n",
      "12                      14,789  0.064 sq mi            17,015   \n",
      "13                      18,786  0.092 sq mi            17,210   \n",
      "14                      18,755  0.082 sq mi            22,734   \n",
      "15                      15,026  0.565 sq mi             9,735   \n",
      "16                         936      0 sq mi             2,121   \n",
      "17                      13,323  0.127 sq mi             5,450   \n",
      "18                      17,497  0.142 sq mi            21,167   \n",
      "19                      18,882  0.344 sq mi            29,068   \n",
      "20                       3,880  0.055 sq mi             3,573   \n",
      "21                      11,199  0.803 sq mi            20,559   \n",
      "22                      20,113  0.042 sq mi            20,313   \n",
      "23                      10,122  0.009 sq mi             6,612   \n",
      "24                      27,090  0.179 sq mi            36,572   \n",
      "25                      33,961   0.06 sq mi            24,104   \n",
      "26                      32,581  0.337 sq mi            41,049   \n",
      "27                      16,423  0.047 sq mi            11,367   \n",
      "28                      22,862  0.207 sq mi            17,375   \n",
      "29                      21,567  0.249 sq mi            32,588   \n",
      "30                       3,592  0.003 sq mi             2,705   \n",
      "\n",
      "   Widow(er)s and Parents: Zip Code:       City Alias(es) To Avoid Using:  \n",
      "0                      600     43081  2018                            NaN  \n",
      "1                      240     43085  2018                            NaN  \n",
      "2                       50     43201  2018                            NaN  \n",
      "3                       60     43202  2018                            NaN  \n",
      "4                       75     43203  2018                            NaN  \n",
      "5                      435     43204  2018                            NaN  \n",
      "6                       85     43205  2018                            NaN  \n",
      "7                      200     43206  2018                            NaN  \n",
      "8                      785     43207  2018                            NaN  \n",
      "9                      270     43209  2018                            NaN  \n",
      "10                       0     43210  2018                            NaN  \n",
      "11                     270     43211  2018                            NaN  \n",
      "12                     125     43212  2018                            NaN  \n",
      "13                     450     43213  2018                            NaN  \n",
      "14                     310     43214  2018                            NaN  \n",
      "15                      95     43215  2018                            NaN  \n",
      "16                      15     43217  2018    Rickenbacker Air Force Base  \n",
      "17                     290     43219  2018                            NaN  \n",
      "18                     270     43220  2018                            NaN  \n",
      "19                     280     43221  2018                            NaN  \n",
      "20                      65     43222  2018                            NaN  \n",
      "21                     355     43223  2018                            NaN  \n",
      "22                     340     43224  2018                            NaN  \n",
      "23                     245     43227  2018                            NaN  \n",
      "24                     500     43228  2018                            NaN  \n",
      "25                     440     43229  2018                            NaN  \n",
      "26                     555     43230  2018                            NaN  \n",
      "27                     155     43231  2018                            NaN  \n",
      "28                     395     43232  2018                            NaN  \n",
      "29                     410     43235  2018                            NaN  \n",
      "30                      25     43240  2018                            NaN  \n",
      "\n",
      "[31 rows x 75 columns]\n"
     ]
    }
   ],
   "source": [
    "i=0\n",
    "zip_info_df = pd.DataFrame()\n",
    "zip_url = '/zip-code/{}/zip-code-{}.asp'\n",
    "for row in tbl.find_all('tr'):\n",
    "    #checks for header\n",
    "    if row.find_all('td')[0].string != 'ZIP Code':\n",
    "        if row.find_all('td')[1].string == 'Standard':\n",
    "            zip_code = row.find_all('td')[0].string.strip(\" ZIPCode\")\n",
    "            print(zip_code)\n",
    "            #coded just to make sure that we can access the website\n",
    "            accessed = False\n",
    "            while accessed == False:\n",
    "                try:\n",
    "                    zip_response = requests.get(url.format(zip_url.format(zip_code,zip_code)))\n",
    "                    accessed = True\n",
    "                    i+=1\n",
    "                    zip_dict = zip_info(zip_response)\n",
    "                    zip_info_df = zip_info_df.append(zip_dict, ignore_index=True)\n",
    "                except:\n",
    "                    accessed = False\n",
    "print(i)\n",
    "print(zip_info_df)\n",
    "# reads in all zip code responses"
   ]
  },
  {
   "cell_type": "code",
   "execution_count": 26,
   "metadata": {},
   "outputs": [
    {
     "output_type": "stream",
     "name": "stdout",
     "text": [
      "# Business Mailboxes:             object\n# Residential Mailboxes:          object\n# of Employees:                   object\n113th Congressional District:     object\n113th Congressional Land Area:    object\n                                   ...  \nWhite Population:                 object\nWidow(er)s and Parents:           object\nZip Code:                         object\n                                  object\nCity Alias(es) To Avoid Using:    object\nLength: 75, dtype: object\n"
     ]
    }
   ],
   "source": [
    "zip_info_df.columns\n",
    "zip_info_df = zip_info_df.infer_objects()"
   ]
  },
  {
   "cell_type": "markdown",
   "metadata": {},
   "source": [
    "## Location data for Hospitals and Pharmacies"
   ]
  },
  {
   "cell_type": "markdown",
   "metadata": {},
   "source": [
    "Get relevant packages"
   ]
  },
  {
   "cell_type": "code",
   "execution_count": 7,
   "metadata": {
    "tags": []
   },
   "outputs": [
    {
     "output_type": "stream",
     "name": "stdout",
     "text": [
      "Folium installed\nLibraries imported.\n"
     ]
    }
   ],
   "source": [
    "import requests # library to handle requests\n",
    "import pandas as pd # library for data analsysis\n",
    "import numpy as np # library to handle data in a vectorized manner\n",
    "import random # library for random number generation\n",
    "\n",
    "# !conda install -c conda-forge geopy --yes \n",
    "from geopy.geocoders import Nominatim # module to convert an address into latitude and longitude values\n",
    "\n",
    "# libraries for displaying images\n",
    "from IPython.display import Image \n",
    "from IPython.core.display import HTML \n",
    "    \n",
    "# tranforming json file into a pandas dataframe library\n",
    "from pandas.io.json import json_normalize\n",
    "\n",
    "# !conda install -c conda-forge folium=0.5.0 --yes\n",
    "import folium # plotting library\n",
    "\n",
    "print('Folium installed')\n",
    "print('Libraries imported.')"
   ]
  },
  {
   "cell_type": "markdown",
   "metadata": {},
   "source": [
    "Credentials for foursquare_API"
   ]
  },
  {
   "cell_type": "code",
   "execution_count": 8,
   "metadata": {
    "tags": []
   },
   "outputs": [
    {
     "output_type": "stream",
     "name": "stdout",
     "text": [
      "Your credentails:\nCLIENT_ID: 3PRTA5P0AY2A12Z51Z1UHCZH124K5AYLU4PGQHQ0BMCV5FWD\nCLIENT_SECRET:JOQYBGLRRR0QNOYE43VOVALU1DFGK4TGSR23SS3J53X2G4JW\n"
     ]
    }
   ],
   "source": [
    "# @hidden_cell\n",
    "CLIENT_ID = '3PRTA5P0AY2A12Z51Z1UHCZH124K5AYLU4PGQHQ0BMCV5FWD' # your Foursquare ID\n",
    "CLIENT_SECRET = 'JOQYBGLRRR0QNOYE43VOVALU1DFGK4TGSR23SS3J53X2G4JW' # your Foursquare Secret\n",
    "VERSION = '20180604'\n",
    "LIMIT = 60\n",
    "print('Your credentails:')\n",
    "print('CLIENT_ID: ' + CLIENT_ID)\n",
    "print('CLIENT_SECRET:' + CLIENT_SECRET)"
   ]
  },
  {
   "cell_type": "markdown",
   "metadata": {},
   "source": [
    "Information for using foursquare API "
   ]
  },
  {
   "cell_type": "code",
   "execution_count": 9,
   "metadata": {},
   "outputs": [
    {
     "output_type": "execute_result",
     "data": {
      "text/plain": [
       "Index(['# Business Mailboxes:', '# Residential Mailboxes:', '# of Employees:',\n",
       "       '113th Congressional District:', '113th Congressional Land Area:',\n",
       "       '1st Quarter Payroll:', '2010 Population:', '65+:',\n",
       "       'American Indian Population:', 'Annual Payroll:', 'Area Code:',\n",
       "       'Asian Population:', 'Average House Value:',\n",
       "       'Avg. Income Per Household:', 'Black Population:',\n",
       "       'CBSA Division Name:', 'CBSA Division Population:', 'CBSA Division:',\n",
       "       'CBSA Name:', 'CBSA Population:', 'CBSA Type:', 'CBSA:', 'Children:',\n",
       "       'City Alias(es):', 'City State Key:', 'City Type:', 'City:',\n",
       "       'Classification:', 'Counties:', 'County FIPS:', 'Current Population:',\n",
       "       'Disabled Workers:', 'Division:', 'Elevation:', 'Female Median Age:',\n",
       "       'Female Population:', 'Hawaiian Population:', 'Hispanic Population:',\n",
       "       'Households per ZIP Code:', 'Intro Date:', 'Land Area:', 'Latitude:',\n",
       "       'Longitude:', 'MSA Name:', 'MSA:', 'Male Median Age:',\n",
       "       'Male Population:', 'Median Age:', 'Monthly Benefits - All:',\n",
       "       'Monthly Benefits - Retired Workers:', 'Monthly Benefits - Widow(ers):',\n",
       "       'Multi County:', 'Multi Family Delivery Units:',\n",
       "       'Number of Businesses:', 'Observes Day Light Savings:',\n",
       "       'Other Population:', 'PMSA Name:', 'PMSA:', 'Persons Per Household:',\n",
       "       'Preferred Last Line Key:', 'Region:', 'Retired Workers:',\n",
       "       'Single Family Delivery Units:', 'Spouses:', 'State FIPS:', 'State:',\n",
       "       'Time Zone:', 'Total Beneficiaries:', 'Total Delivery Receptacles:',\n",
       "       'Water Area:', 'White Population:', 'Widow(er)s and Parents:',\n",
       "       'Zip Code:', ' ', 'City Alias(es) To Avoid Using:'],\n",
       "      dtype='object')"
      ]
     },
     "metadata": {},
     "execution_count": 9
    }
   ],
   "source": [
    "zip_info_df.columns"
   ]
  },
  {
   "cell_type": "code",
   "execution_count": 10,
   "metadata": {},
   "outputs": [],
   "source": [
    "CAT_IDs = {'Hospital':'4bf58dd8d48988d196941735', 'Pharmacy': '4bf58dd8d48988d10f951735'}\n",
    "geo_coords = zip_info_df[['Latitude:','Longitude:']]\n",
    "radius = 10000 #about 6.2 miles"
   ]
  },
  {
   "cell_type": "markdown",
   "metadata": {},
   "source": [
    "Create parameters that are not hidden"
   ]
  },
  {
   "cell_type": "code",
   "execution_count": 11,
   "metadata": {},
   "outputs": [
    {
     "output_type": "execute_result",
     "data": {
      "text/plain": [
       "'https://api.foursquare.com/v2/venues/search?client_id={}&client_secret={}&ll={},{}&categoryId={}&v={}&radius={}&limit={}'"
      ]
     },
     "metadata": {},
     "execution_count": 11
    }
   ],
   "source": [
    "url = 'https://api.foursquare.com/v2/venues/search?client_id={}&client_secret={}&ll={},{}&categoryId={}&v={}&radius={}&limit={}'\n",
    "url"
   ]
  },
  {
   "cell_type": "markdown",
   "metadata": {},
   "source": [
    "Grabs data for all hospitals and pharmacies"
   ]
  },
  {
   "cell_type": "code",
   "execution_count": 12,
   "metadata": {},
   "outputs": [
    {
     "output_type": "execute_result",
     "data": {
      "text/plain": [
       "                            id  \\\n",
       "0     4ed664e22fb6cc941132ed13   \n",
       "1     4e806be17ee6677f0a2549a7   \n",
       "2     550875f2498ed14f1962062f   \n",
       "3     4c3763da1e06d13ae6d7753e   \n",
       "4     501d17b8e4b09fbdec1c12c9   \n",
       "...                        ...   \n",
       "2906  4d266c70068e8cfabaa5b04c   \n",
       "2907  4c7e4fa8d598a093d551c562   \n",
       "2908  4d2c7a8c342d6dcb7ecb1fcb   \n",
       "2909  4b0acb4af964a520f02723e3   \n",
       "2910  4b4564fcf964a520ee0b26e3   \n",
       "\n",
       "                                                   name  \\\n",
       "0                            The Village At Westerville   \n",
       "1                  Child Development and Autism Centers   \n",
       "2     Ohio State Outpatient Rehabilitation Gahanna YMCA   \n",
       "3                                 Lifetime Pet Wellness   \n",
       "4                                   H12B HEM/ONC At NCH   \n",
       "...                                                 ...   \n",
       "2906                                 Complete Nutrition   \n",
       "2907                               County Line Pharmacy   \n",
       "2908                                   Take Care Clinic   \n",
       "2909                                 Discount Drug Mart   \n",
       "2910                                 Discount Drug Mart   \n",
       "\n",
       "                                             categories    referralId  \\\n",
       "0     [{'id': '5032891291d4c4b30a586d68', 'name': 'A...  v-1608655452   \n",
       "1     [{'id': '4bf58dd8d48988d177941735', 'name': 'D...  v-1608655452   \n",
       "2     [{'id': '4bf58dd8d48988d196941735', 'name': 'H...  v-1608655452   \n",
       "3     [{'id': '4bf58dd8d48988d196941735', 'name': 'H...  v-1608655452   \n",
       "4     [{'id': '4bf58dd8d48988d196941735', 'name': 'H...  v-1608655452   \n",
       "...                                                 ...           ...   \n",
       "2906  [{'id': '4bf58dd8d48988d10f951735', 'name': 'P...  v-1608655477   \n",
       "2907  [{'id': '4bf58dd8d48988d10f951735', 'name': 'P...  v-1608655477   \n",
       "2908  [{'id': '4bf58dd8d48988d10f951735', 'name': 'P...  v-1608655477   \n",
       "2909  [{'id': '4bf58dd8d48988d10f951735', 'name': 'P...  v-1608655477   \n",
       "2910  [{'id': '4bf58dd8d48988d10f951735', 'name': 'P...  v-1608655477   \n",
       "\n",
       "      hasPerk            location.address  location.lat  location.lng  \\\n",
       "0       False      215 Huber Village Blvd     40.102667    -82.916989   \n",
       "1       False            187 W Schrock Rd     40.109578    -82.931797   \n",
       "2       False                 551 Ymca Pl     40.048370    -82.857063   \n",
       "3       False              454 Lazelle Rd     40.136307    -82.995064   \n",
       "4       False                         NaN     40.110148    -83.036035   \n",
       "...       ...                         ...           ...           ...   \n",
       "2906    False           1249 Polaris Pkwy     40.141109    -82.986519   \n",
       "2907    False          484 County Line Rd     40.137418    -82.945199   \n",
       "2908    False  2150 E Dublin Granville Rd     40.087143    -82.959427   \n",
       "2909    False           9965 Sawmill Pkwy     40.153864    -83.091781   \n",
       "2910    False         8951 S Old State Rd     40.151819    -82.996391   \n",
       "\n",
       "                                location.labeledLatLngs  location.distance  \\\n",
       "0     [{'label': 'display', 'lat': 40.102667, 'lng':...               1650   \n",
       "1     [{'label': 'display', 'lat': 40.10957847827210...               2894   \n",
       "2     [{'label': 'display', 'lat': 40.04837036132812...               7311   \n",
       "3     [{'label': 'display', 'lat': 40.136307, 'lng':...               8913   \n",
       "4     [{'label': 'display', 'lat': 40.11014760015202...              11751   \n",
       "...                                                 ...                ...   \n",
       "2906  [{'label': 'entrance', 'lat': 40.141544, 'lng'...                779   \n",
       "2907  [{'label': 'display', 'lat': 40.137418, 'lng':...               3113   \n",
       "2908  [{'label': 'display', 'lat': 40.08714294433594...               6785   \n",
       "2909  [{'label': 'display', 'lat': 40.15386429962785...               9550   \n",
       "2910  [{'label': 'display', 'lat': 40.15181943831064...               1535   \n",
       "\n",
       "     location.postalCode location.cc location.city location.state  \\\n",
       "0                  43081          US   Westerville             OH   \n",
       "1                  43081          US   Westerville             OH   \n",
       "2                  43230          US       Gahanna             OH   \n",
       "3                  43240          US      Columbus             OH   \n",
       "4                  43223          US      Columbus             OH   \n",
       "...                  ...         ...           ...            ...   \n",
       "2906               43240          US      Columbus             OH   \n",
       "2907               43081          US   Westerville             OH   \n",
       "2908               43229          US      Columbus             OH   \n",
       "2909               43065          US        Powell             OH   \n",
       "2910               43035          US  Lewis Center             OH   \n",
       "\n",
       "     location.country                          location.formattedAddress  \\\n",
       "0       United States  [215 Huber Village Blvd, Westerville, OH 43081...   \n",
       "1       United States  [187 W Schrock Rd, Westerville, OH 43081, Unit...   \n",
       "2       United States    [551 Ymca Pl, Gahanna, OH 43230, United States]   \n",
       "3       United States  [454 Lazelle Rd (Sancus), Columbus, OH 43240, ...   \n",
       "4       United States                [Columbus, OH 43223, United States]   \n",
       "...               ...                                                ...   \n",
       "2906    United States  [1249 Polaris Pkwy, Columbus, OH 43240, United...   \n",
       "2907    United States  [484 County Line Rd (Cleveland Ave), Westervil...   \n",
       "2908    United States  [2150 E Dublin Granville Rd, Columbus, OH 4322...   \n",
       "2909    United States  [9965 Sawmill Pkwy, Powell, OH 43065, United S...   \n",
       "2910    United States  [8951 S Old State Rd, Lewis Center, OH 43035, ...   \n",
       "\n",
       "     venuePage.id location.crossStreet location.neighborhood  \n",
       "0             NaN                  NaN                   NaN  \n",
       "1             NaN                  NaN                   NaN  \n",
       "2       122931242                  NaN                   NaN  \n",
       "3        68773130               Sancus                   NaN  \n",
       "4             NaN                  NaN                   NaN  \n",
       "...           ...                  ...                   ...  \n",
       "2906          NaN                  NaN                   NaN  \n",
       "2907          NaN        Cleveland Ave                   NaN  \n",
       "2908          NaN                  NaN                   NaN  \n",
       "2909          NaN                  NaN                   NaN  \n",
       "2910          NaN                  NaN                   NaN  \n",
       "\n",
       "[2911 rows x 19 columns]"
      ],
      "text/html": "<div>\n<style scoped>\n    .dataframe tbody tr th:only-of-type {\n        vertical-align: middle;\n    }\n\n    .dataframe tbody tr th {\n        vertical-align: top;\n    }\n\n    .dataframe thead th {\n        text-align: right;\n    }\n</style>\n<table border=\"1\" class=\"dataframe\">\n  <thead>\n    <tr style=\"text-align: right;\">\n      <th></th>\n      <th>id</th>\n      <th>name</th>\n      <th>categories</th>\n      <th>referralId</th>\n      <th>hasPerk</th>\n      <th>location.address</th>\n      <th>location.lat</th>\n      <th>location.lng</th>\n      <th>location.labeledLatLngs</th>\n      <th>location.distance</th>\n      <th>location.postalCode</th>\n      <th>location.cc</th>\n      <th>location.city</th>\n      <th>location.state</th>\n      <th>location.country</th>\n      <th>location.formattedAddress</th>\n      <th>venuePage.id</th>\n      <th>location.crossStreet</th>\n      <th>location.neighborhood</th>\n    </tr>\n  </thead>\n  <tbody>\n    <tr>\n      <th>0</th>\n      <td>4ed664e22fb6cc941132ed13</td>\n      <td>The Village At Westerville</td>\n      <td>[{'id': '5032891291d4c4b30a586d68', 'name': 'A...</td>\n      <td>v-1608655452</td>\n      <td>False</td>\n      <td>215 Huber Village Blvd</td>\n      <td>40.102667</td>\n      <td>-82.916989</td>\n      <td>[{'label': 'display', 'lat': 40.102667, 'lng':...</td>\n      <td>1650</td>\n      <td>43081</td>\n      <td>US</td>\n      <td>Westerville</td>\n      <td>OH</td>\n      <td>United States</td>\n      <td>[215 Huber Village Blvd, Westerville, OH 43081...</td>\n      <td>NaN</td>\n      <td>NaN</td>\n      <td>NaN</td>\n    </tr>\n    <tr>\n      <th>1</th>\n      <td>4e806be17ee6677f0a2549a7</td>\n      <td>Child Development and Autism Centers</td>\n      <td>[{'id': '4bf58dd8d48988d177941735', 'name': 'D...</td>\n      <td>v-1608655452</td>\n      <td>False</td>\n      <td>187 W Schrock Rd</td>\n      <td>40.109578</td>\n      <td>-82.931797</td>\n      <td>[{'label': 'display', 'lat': 40.10957847827210...</td>\n      <td>2894</td>\n      <td>43081</td>\n      <td>US</td>\n      <td>Westerville</td>\n      <td>OH</td>\n      <td>United States</td>\n      <td>[187 W Schrock Rd, Westerville, OH 43081, Unit...</td>\n      <td>NaN</td>\n      <td>NaN</td>\n      <td>NaN</td>\n    </tr>\n    <tr>\n      <th>2</th>\n      <td>550875f2498ed14f1962062f</td>\n      <td>Ohio State Outpatient Rehabilitation Gahanna YMCA</td>\n      <td>[{'id': '4bf58dd8d48988d196941735', 'name': 'H...</td>\n      <td>v-1608655452</td>\n      <td>False</td>\n      <td>551 Ymca Pl</td>\n      <td>40.048370</td>\n      <td>-82.857063</td>\n      <td>[{'label': 'display', 'lat': 40.04837036132812...</td>\n      <td>7311</td>\n      <td>43230</td>\n      <td>US</td>\n      <td>Gahanna</td>\n      <td>OH</td>\n      <td>United States</td>\n      <td>[551 Ymca Pl, Gahanna, OH 43230, United States]</td>\n      <td>122931242</td>\n      <td>NaN</td>\n      <td>NaN</td>\n    </tr>\n    <tr>\n      <th>3</th>\n      <td>4c3763da1e06d13ae6d7753e</td>\n      <td>Lifetime Pet Wellness</td>\n      <td>[{'id': '4bf58dd8d48988d196941735', 'name': 'H...</td>\n      <td>v-1608655452</td>\n      <td>False</td>\n      <td>454 Lazelle Rd</td>\n      <td>40.136307</td>\n      <td>-82.995064</td>\n      <td>[{'label': 'display', 'lat': 40.136307, 'lng':...</td>\n      <td>8913</td>\n      <td>43240</td>\n      <td>US</td>\n      <td>Columbus</td>\n      <td>OH</td>\n      <td>United States</td>\n      <td>[454 Lazelle Rd (Sancus), Columbus, OH 43240, ...</td>\n      <td>68773130</td>\n      <td>Sancus</td>\n      <td>NaN</td>\n    </tr>\n    <tr>\n      <th>4</th>\n      <td>501d17b8e4b09fbdec1c12c9</td>\n      <td>H12B HEM/ONC At NCH</td>\n      <td>[{'id': '4bf58dd8d48988d196941735', 'name': 'H...</td>\n      <td>v-1608655452</td>\n      <td>False</td>\n      <td>NaN</td>\n      <td>40.110148</td>\n      <td>-83.036035</td>\n      <td>[{'label': 'display', 'lat': 40.11014760015202...</td>\n      <td>11751</td>\n      <td>43223</td>\n      <td>US</td>\n      <td>Columbus</td>\n      <td>OH</td>\n      <td>United States</td>\n      <td>[Columbus, OH 43223, United States]</td>\n      <td>NaN</td>\n      <td>NaN</td>\n      <td>NaN</td>\n    </tr>\n    <tr>\n      <th>...</th>\n      <td>...</td>\n      <td>...</td>\n      <td>...</td>\n      <td>...</td>\n      <td>...</td>\n      <td>...</td>\n      <td>...</td>\n      <td>...</td>\n      <td>...</td>\n      <td>...</td>\n      <td>...</td>\n      <td>...</td>\n      <td>...</td>\n      <td>...</td>\n      <td>...</td>\n      <td>...</td>\n      <td>...</td>\n      <td>...</td>\n      <td>...</td>\n    </tr>\n    <tr>\n      <th>2906</th>\n      <td>4d266c70068e8cfabaa5b04c</td>\n      <td>Complete Nutrition</td>\n      <td>[{'id': '4bf58dd8d48988d10f951735', 'name': 'P...</td>\n      <td>v-1608655477</td>\n      <td>False</td>\n      <td>1249 Polaris Pkwy</td>\n      <td>40.141109</td>\n      <td>-82.986519</td>\n      <td>[{'label': 'entrance', 'lat': 40.141544, 'lng'...</td>\n      <td>779</td>\n      <td>43240</td>\n      <td>US</td>\n      <td>Columbus</td>\n      <td>OH</td>\n      <td>United States</td>\n      <td>[1249 Polaris Pkwy, Columbus, OH 43240, United...</td>\n      <td>NaN</td>\n      <td>NaN</td>\n      <td>NaN</td>\n    </tr>\n    <tr>\n      <th>2907</th>\n      <td>4c7e4fa8d598a093d551c562</td>\n      <td>County Line Pharmacy</td>\n      <td>[{'id': '4bf58dd8d48988d10f951735', 'name': 'P...</td>\n      <td>v-1608655477</td>\n      <td>False</td>\n      <td>484 County Line Rd</td>\n      <td>40.137418</td>\n      <td>-82.945199</td>\n      <td>[{'label': 'display', 'lat': 40.137418, 'lng':...</td>\n      <td>3113</td>\n      <td>43081</td>\n      <td>US</td>\n      <td>Westerville</td>\n      <td>OH</td>\n      <td>United States</td>\n      <td>[484 County Line Rd (Cleveland Ave), Westervil...</td>\n      <td>NaN</td>\n      <td>Cleveland Ave</td>\n      <td>NaN</td>\n    </tr>\n    <tr>\n      <th>2908</th>\n      <td>4d2c7a8c342d6dcb7ecb1fcb</td>\n      <td>Take Care Clinic</td>\n      <td>[{'id': '4bf58dd8d48988d10f951735', 'name': 'P...</td>\n      <td>v-1608655477</td>\n      <td>False</td>\n      <td>2150 E Dublin Granville Rd</td>\n      <td>40.087143</td>\n      <td>-82.959427</td>\n      <td>[{'label': 'display', 'lat': 40.08714294433594...</td>\n      <td>6785</td>\n      <td>43229</td>\n      <td>US</td>\n      <td>Columbus</td>\n      <td>OH</td>\n      <td>United States</td>\n      <td>[2150 E Dublin Granville Rd, Columbus, OH 4322...</td>\n      <td>NaN</td>\n      <td>NaN</td>\n      <td>NaN</td>\n    </tr>\n    <tr>\n      <th>2909</th>\n      <td>4b0acb4af964a520f02723e3</td>\n      <td>Discount Drug Mart</td>\n      <td>[{'id': '4bf58dd8d48988d10f951735', 'name': 'P...</td>\n      <td>v-1608655477</td>\n      <td>False</td>\n      <td>9965 Sawmill Pkwy</td>\n      <td>40.153864</td>\n      <td>-83.091781</td>\n      <td>[{'label': 'display', 'lat': 40.15386429962785...</td>\n      <td>9550</td>\n      <td>43065</td>\n      <td>US</td>\n      <td>Powell</td>\n      <td>OH</td>\n      <td>United States</td>\n      <td>[9965 Sawmill Pkwy, Powell, OH 43065, United S...</td>\n      <td>NaN</td>\n      <td>NaN</td>\n      <td>NaN</td>\n    </tr>\n    <tr>\n      <th>2910</th>\n      <td>4b4564fcf964a520ee0b26e3</td>\n      <td>Discount Drug Mart</td>\n      <td>[{'id': '4bf58dd8d48988d10f951735', 'name': 'P...</td>\n      <td>v-1608655477</td>\n      <td>False</td>\n      <td>8951 S Old State Rd</td>\n      <td>40.151819</td>\n      <td>-82.996391</td>\n      <td>[{'label': 'display', 'lat': 40.15181943831064...</td>\n      <td>1535</td>\n      <td>43035</td>\n      <td>US</td>\n      <td>Lewis Center</td>\n      <td>OH</td>\n      <td>United States</td>\n      <td>[8951 S Old State Rd, Lewis Center, OH 43035, ...</td>\n      <td>NaN</td>\n      <td>NaN</td>\n      <td>NaN</td>\n    </tr>\n  </tbody>\n</table>\n<p>2911 rows × 19 columns</p>\n</div>"
     },
     "metadata": {},
     "execution_count": 12
    }
   ],
   "source": [
    "i=0\n",
    "# Hospital and Pharmacy Data Frame\n",
    "hp_df = pd.DataFrame()\n",
    "while i<len(geo_coords): \n",
    "    lat = geo_coords.iloc[i]['Latitude:']\n",
    "    long = geo_coords.iloc[i]['Longitude:']\n",
    "    #hospitals\n",
    "    temp_url = url.format(CLIENT_ID, CLIENT_SECRET, lat, long, CAT_IDs['Hospital'], VERSION, radius, LIMIT)\n",
    "    results = requests.get(temp_url).json()\n",
    "    hps = results['response']['venues']\n",
    "    hp_df=hp_df.append(json_normalize(hps), ignore_index=True)\n",
    "    #pharmacies\n",
    "    temp_url = url.format(CLIENT_ID, CLIENT_SECRET, lat, long, CAT_IDs['Pharmacy'], VERSION, radius, LIMIT)\n",
    "    results = requests.get(temp_url).json()\n",
    "    hps = results['response']['venues']\n",
    "    hp_df=hp_df.append(json_normalize(hps), ignore_index=True)\n",
    "    i+=1\n",
    "hp_df"
   ]
  },
  {
   "cell_type": "markdown",
   "metadata": {},
   "source": [
    "Filters to get unique Pharmacy and Hospital Locations"
   ]
  },
  {
   "cell_type": "code",
   "execution_count": 13,
   "metadata": {},
   "outputs": [
    {
     "output_type": "execute_result",
     "data": {
      "text/plain": [
       "                            id  \\\n",
       "0     4ed664e22fb6cc941132ed13   \n",
       "1     4e806be17ee6677f0a2549a7   \n",
       "2     550875f2498ed14f1962062f   \n",
       "3     4c3763da1e06d13ae6d7753e   \n",
       "4     501d17b8e4b09fbdec1c12c9   \n",
       "...                        ...   \n",
       "2875  57c9941b498e9431de05a6ef   \n",
       "2876  4ce9719f948f224baa45f65d   \n",
       "2902  5da621ea5e3116000881a97c   \n",
       "2903  5163a42de4b095f6f027b6cc   \n",
       "2907  4c7e4fa8d598a093d551c562   \n",
       "\n",
       "                                                   name  \\\n",
       "0                            The Village At Westerville   \n",
       "1                  Child Development and Autism Centers   \n",
       "2     Ohio State Outpatient Rehabilitation Gahanna YMCA   \n",
       "3                                 Lifetime Pet Wellness   \n",
       "4                                   H12B HEM/ONC At NCH   \n",
       "...                                                 ...   \n",
       "2875              TWC Pharmacy and Wellness Centers LLC   \n",
       "2876                                       CVS pharmacy   \n",
       "2902                             CVS Pharmacy at Target   \n",
       "2903                             Estra's Vitamin Shoppe   \n",
       "2907                               County Line Pharmacy   \n",
       "\n",
       "                                             categories    referralId  \\\n",
       "0     [{'id': '5032891291d4c4b30a586d68', 'name': 'A...  v-1608655452   \n",
       "1     [{'id': '4bf58dd8d48988d177941735', 'name': 'D...  v-1608655452   \n",
       "2     [{'id': '4bf58dd8d48988d196941735', 'name': 'H...  v-1608655452   \n",
       "3     [{'id': '4bf58dd8d48988d196941735', 'name': 'H...  v-1608655452   \n",
       "4     [{'id': '4bf58dd8d48988d196941735', 'name': 'H...  v-1608655452   \n",
       "...                                                 ...           ...   \n",
       "2875  [{'id': '4bf58dd8d48988d10f951735', 'name': 'P...  v-1608655477   \n",
       "2876  [{'id': '4bf58dd8d48988d10f951735', 'name': 'P...  v-1608655477   \n",
       "2902  [{'id': '4bf58dd8d48988d10f951735', 'name': 'P...  v-1608655477   \n",
       "2903  [{'id': '4bf58dd8d48988d10f951735', 'name': 'P...  v-1608655477   \n",
       "2907  [{'id': '4bf58dd8d48988d10f951735', 'name': 'P...  v-1608655477   \n",
       "\n",
       "      hasPerk        location.address  location.lat  location.lng  \\\n",
       "0       False  215 Huber Village Blvd     40.102667    -82.916989   \n",
       "1       False        187 W Schrock Rd     40.109578    -82.931797   \n",
       "2       False             551 Ymca Pl     40.048370    -82.857063   \n",
       "3       False          454 Lazelle Rd     40.136307    -82.995064   \n",
       "4       False                     NaN     40.110148    -83.036035   \n",
       "...       ...                     ...           ...           ...   \n",
       "2875    False        1980 Maxwell Ave     40.163943    -82.991883   \n",
       "2876    False                     NaN     40.144873    -83.017583   \n",
       "2902    False        10560 Sawmill Rd     40.143360    -83.089943   \n",
       "2903    False                     NaN     40.113375    -83.068552   \n",
       "2907    False      484 County Line Rd     40.137418    -82.945199   \n",
       "\n",
       "                                location.labeledLatLngs  location.distance  \\\n",
       "0     [{'label': 'display', 'lat': 40.102667, 'lng':...               1650   \n",
       "1     [{'label': 'display', 'lat': 40.10957847827210...               2894   \n",
       "2     [{'label': 'display', 'lat': 40.04837036132812...               7311   \n",
       "3     [{'label': 'display', 'lat': 40.136307, 'lng':...               8913   \n",
       "4     [{'label': 'display', 'lat': 40.11014760015202...              11751   \n",
       "...                                                 ...                ...   \n",
       "2875  [{'label': 'display', 'lat': 40.163943, 'lng':...               2235   \n",
       "2876  [{'label': 'display', 'lat': 40.14487314769656...               3200   \n",
       "2902  [{'label': 'display', 'lat': 40.14336013793945...               9359   \n",
       "2903  [{'label': 'display', 'lat': 40.11337511494923...               8367   \n",
       "2907  [{'label': 'display', 'lat': 40.137418, 'lng':...               3113   \n",
       "\n",
       "     location.postalCode location.cc location.city location.state  \\\n",
       "0                  43081          US   Westerville             OH   \n",
       "1                  43081          US   Westerville             OH   \n",
       "2                  43230          US       Gahanna             OH   \n",
       "3                  43240          US      Columbus             OH   \n",
       "4                  43223          US      Columbus             OH   \n",
       "...                  ...         ...           ...            ...   \n",
       "2875               43035          US  Lewis Center             OH   \n",
       "2876               43035          US  Lewis Center             OH   \n",
       "2902               43065          US        Powell             OH   \n",
       "2903                 NaN          US      Columbus             OH   \n",
       "2907               43081          US   Westerville             OH   \n",
       "\n",
       "     location.country                          location.formattedAddress  \\\n",
       "0       United States  [215 Huber Village Blvd, Westerville, OH 43081...   \n",
       "1       United States  [187 W Schrock Rd, Westerville, OH 43081, Unit...   \n",
       "2       United States    [551 Ymca Pl, Gahanna, OH 43230, United States]   \n",
       "3       United States  [454 Lazelle Rd (Sancus), Columbus, OH 43240, ...   \n",
       "4       United States                [Columbus, OH 43223, United States]   \n",
       "...               ...                                                ...   \n",
       "2875    United States  [1980 Maxwell Ave, Lewis Center, OH 43035, Uni...   \n",
       "2876    United States            [Lewis Center, OH 43035, United States]   \n",
       "2902    United States  [10560 Sawmill Rd, Powell, OH 43065, United St...   \n",
       "2903    United States                      [Columbus, OH, United States]   \n",
       "2907    United States  [484 County Line Rd (Cleveland Ave), Westervil...   \n",
       "\n",
       "     venuePage.id location.crossStreet location.neighborhood  \n",
       "0             NaN                  NaN                   NaN  \n",
       "1             NaN                  NaN                   NaN  \n",
       "2       122931242                  NaN                   NaN  \n",
       "3        68773130               Sancus                   NaN  \n",
       "4             NaN                  NaN                   NaN  \n",
       "...           ...                  ...                   ...  \n",
       "2875          NaN                  NaN                   NaN  \n",
       "2876          NaN                  NaN                   NaN  \n",
       "2902          NaN                  NaN                   NaN  \n",
       "2903          NaN                  NaN                   NaN  \n",
       "2907          NaN        Cleveland Ave                   NaN  \n",
       "\n",
       "[379 rows x 19 columns]"
      ],
      "text/html": "<div>\n<style scoped>\n    .dataframe tbody tr th:only-of-type {\n        vertical-align: middle;\n    }\n\n    .dataframe tbody tr th {\n        vertical-align: top;\n    }\n\n    .dataframe thead th {\n        text-align: right;\n    }\n</style>\n<table border=\"1\" class=\"dataframe\">\n  <thead>\n    <tr style=\"text-align: right;\">\n      <th></th>\n      <th>id</th>\n      <th>name</th>\n      <th>categories</th>\n      <th>referralId</th>\n      <th>hasPerk</th>\n      <th>location.address</th>\n      <th>location.lat</th>\n      <th>location.lng</th>\n      <th>location.labeledLatLngs</th>\n      <th>location.distance</th>\n      <th>location.postalCode</th>\n      <th>location.cc</th>\n      <th>location.city</th>\n      <th>location.state</th>\n      <th>location.country</th>\n      <th>location.formattedAddress</th>\n      <th>venuePage.id</th>\n      <th>location.crossStreet</th>\n      <th>location.neighborhood</th>\n    </tr>\n  </thead>\n  <tbody>\n    <tr>\n      <th>0</th>\n      <td>4ed664e22fb6cc941132ed13</td>\n      <td>The Village At Westerville</td>\n      <td>[{'id': '5032891291d4c4b30a586d68', 'name': 'A...</td>\n      <td>v-1608655452</td>\n      <td>False</td>\n      <td>215 Huber Village Blvd</td>\n      <td>40.102667</td>\n      <td>-82.916989</td>\n      <td>[{'label': 'display', 'lat': 40.102667, 'lng':...</td>\n      <td>1650</td>\n      <td>43081</td>\n      <td>US</td>\n      <td>Westerville</td>\n      <td>OH</td>\n      <td>United States</td>\n      <td>[215 Huber Village Blvd, Westerville, OH 43081...</td>\n      <td>NaN</td>\n      <td>NaN</td>\n      <td>NaN</td>\n    </tr>\n    <tr>\n      <th>1</th>\n      <td>4e806be17ee6677f0a2549a7</td>\n      <td>Child Development and Autism Centers</td>\n      <td>[{'id': '4bf58dd8d48988d177941735', 'name': 'D...</td>\n      <td>v-1608655452</td>\n      <td>False</td>\n      <td>187 W Schrock Rd</td>\n      <td>40.109578</td>\n      <td>-82.931797</td>\n      <td>[{'label': 'display', 'lat': 40.10957847827210...</td>\n      <td>2894</td>\n      <td>43081</td>\n      <td>US</td>\n      <td>Westerville</td>\n      <td>OH</td>\n      <td>United States</td>\n      <td>[187 W Schrock Rd, Westerville, OH 43081, Unit...</td>\n      <td>NaN</td>\n      <td>NaN</td>\n      <td>NaN</td>\n    </tr>\n    <tr>\n      <th>2</th>\n      <td>550875f2498ed14f1962062f</td>\n      <td>Ohio State Outpatient Rehabilitation Gahanna YMCA</td>\n      <td>[{'id': '4bf58dd8d48988d196941735', 'name': 'H...</td>\n      <td>v-1608655452</td>\n      <td>False</td>\n      <td>551 Ymca Pl</td>\n      <td>40.048370</td>\n      <td>-82.857063</td>\n      <td>[{'label': 'display', 'lat': 40.04837036132812...</td>\n      <td>7311</td>\n      <td>43230</td>\n      <td>US</td>\n      <td>Gahanna</td>\n      <td>OH</td>\n      <td>United States</td>\n      <td>[551 Ymca Pl, Gahanna, OH 43230, United States]</td>\n      <td>122931242</td>\n      <td>NaN</td>\n      <td>NaN</td>\n    </tr>\n    <tr>\n      <th>3</th>\n      <td>4c3763da1e06d13ae6d7753e</td>\n      <td>Lifetime Pet Wellness</td>\n      <td>[{'id': '4bf58dd8d48988d196941735', 'name': 'H...</td>\n      <td>v-1608655452</td>\n      <td>False</td>\n      <td>454 Lazelle Rd</td>\n      <td>40.136307</td>\n      <td>-82.995064</td>\n      <td>[{'label': 'display', 'lat': 40.136307, 'lng':...</td>\n      <td>8913</td>\n      <td>43240</td>\n      <td>US</td>\n      <td>Columbus</td>\n      <td>OH</td>\n      <td>United States</td>\n      <td>[454 Lazelle Rd (Sancus), Columbus, OH 43240, ...</td>\n      <td>68773130</td>\n      <td>Sancus</td>\n      <td>NaN</td>\n    </tr>\n    <tr>\n      <th>4</th>\n      <td>501d17b8e4b09fbdec1c12c9</td>\n      <td>H12B HEM/ONC At NCH</td>\n      <td>[{'id': '4bf58dd8d48988d196941735', 'name': 'H...</td>\n      <td>v-1608655452</td>\n      <td>False</td>\n      <td>NaN</td>\n      <td>40.110148</td>\n      <td>-83.036035</td>\n      <td>[{'label': 'display', 'lat': 40.11014760015202...</td>\n      <td>11751</td>\n      <td>43223</td>\n      <td>US</td>\n      <td>Columbus</td>\n      <td>OH</td>\n      <td>United States</td>\n      <td>[Columbus, OH 43223, United States]</td>\n      <td>NaN</td>\n      <td>NaN</td>\n      <td>NaN</td>\n    </tr>\n    <tr>\n      <th>...</th>\n      <td>...</td>\n      <td>...</td>\n      <td>...</td>\n      <td>...</td>\n      <td>...</td>\n      <td>...</td>\n      <td>...</td>\n      <td>...</td>\n      <td>...</td>\n      <td>...</td>\n      <td>...</td>\n      <td>...</td>\n      <td>...</td>\n      <td>...</td>\n      <td>...</td>\n      <td>...</td>\n      <td>...</td>\n      <td>...</td>\n      <td>...</td>\n    </tr>\n    <tr>\n      <th>2875</th>\n      <td>57c9941b498e9431de05a6ef</td>\n      <td>TWC Pharmacy and Wellness Centers LLC</td>\n      <td>[{'id': '4bf58dd8d48988d10f951735', 'name': 'P...</td>\n      <td>v-1608655477</td>\n      <td>False</td>\n      <td>1980 Maxwell Ave</td>\n      <td>40.163943</td>\n      <td>-82.991883</td>\n      <td>[{'label': 'display', 'lat': 40.163943, 'lng':...</td>\n      <td>2235</td>\n      <td>43035</td>\n      <td>US</td>\n      <td>Lewis Center</td>\n      <td>OH</td>\n      <td>United States</td>\n      <td>[1980 Maxwell Ave, Lewis Center, OH 43035, Uni...</td>\n      <td>NaN</td>\n      <td>NaN</td>\n      <td>NaN</td>\n    </tr>\n    <tr>\n      <th>2876</th>\n      <td>4ce9719f948f224baa45f65d</td>\n      <td>CVS pharmacy</td>\n      <td>[{'id': '4bf58dd8d48988d10f951735', 'name': 'P...</td>\n      <td>v-1608655477</td>\n      <td>False</td>\n      <td>NaN</td>\n      <td>40.144873</td>\n      <td>-83.017583</td>\n      <td>[{'label': 'display', 'lat': 40.14487314769656...</td>\n      <td>3200</td>\n      <td>43035</td>\n      <td>US</td>\n      <td>Lewis Center</td>\n      <td>OH</td>\n      <td>United States</td>\n      <td>[Lewis Center, OH 43035, United States]</td>\n      <td>NaN</td>\n      <td>NaN</td>\n      <td>NaN</td>\n    </tr>\n    <tr>\n      <th>2902</th>\n      <td>5da621ea5e3116000881a97c</td>\n      <td>CVS Pharmacy at Target</td>\n      <td>[{'id': '4bf58dd8d48988d10f951735', 'name': 'P...</td>\n      <td>v-1608655477</td>\n      <td>False</td>\n      <td>10560 Sawmill Rd</td>\n      <td>40.143360</td>\n      <td>-83.089943</td>\n      <td>[{'label': 'display', 'lat': 40.14336013793945...</td>\n      <td>9359</td>\n      <td>43065</td>\n      <td>US</td>\n      <td>Powell</td>\n      <td>OH</td>\n      <td>United States</td>\n      <td>[10560 Sawmill Rd, Powell, OH 43065, United St...</td>\n      <td>NaN</td>\n      <td>NaN</td>\n      <td>NaN</td>\n    </tr>\n    <tr>\n      <th>2903</th>\n      <td>5163a42de4b095f6f027b6cc</td>\n      <td>Estra's Vitamin Shoppe</td>\n      <td>[{'id': '4bf58dd8d48988d10f951735', 'name': 'P...</td>\n      <td>v-1608655477</td>\n      <td>False</td>\n      <td>NaN</td>\n      <td>40.113375</td>\n      <td>-83.068552</td>\n      <td>[{'label': 'display', 'lat': 40.11337511494923...</td>\n      <td>8367</td>\n      <td>NaN</td>\n      <td>US</td>\n      <td>Columbus</td>\n      <td>OH</td>\n      <td>United States</td>\n      <td>[Columbus, OH, United States]</td>\n      <td>NaN</td>\n      <td>NaN</td>\n      <td>NaN</td>\n    </tr>\n    <tr>\n      <th>2907</th>\n      <td>4c7e4fa8d598a093d551c562</td>\n      <td>County Line Pharmacy</td>\n      <td>[{'id': '4bf58dd8d48988d10f951735', 'name': 'P...</td>\n      <td>v-1608655477</td>\n      <td>False</td>\n      <td>484 County Line Rd</td>\n      <td>40.137418</td>\n      <td>-82.945199</td>\n      <td>[{'label': 'display', 'lat': 40.137418, 'lng':...</td>\n      <td>3113</td>\n      <td>43081</td>\n      <td>US</td>\n      <td>Westerville</td>\n      <td>OH</td>\n      <td>United States</td>\n      <td>[484 County Line Rd (Cleveland Ave), Westervil...</td>\n      <td>NaN</td>\n      <td>Cleveland Ave</td>\n      <td>NaN</td>\n    </tr>\n  </tbody>\n</table>\n<p>379 rows × 19 columns</p>\n</div>"
     },
     "metadata": {},
     "execution_count": 13
    }
   ],
   "source": [
    "hp_df=hp_df.drop_duplicates(['id'])\n",
    "hp_df"
   ]
  },
  {
   "cell_type": "markdown",
   "metadata": {},
   "source": [
    "## COVID-19 Testing Locations"
   ]
  },
  {
   "cell_type": "markdown",
   "metadata": {},
   "source": [
    "Install package"
   ]
  },
  {
   "cell_type": "code",
   "execution_count": 14,
   "metadata": {},
   "outputs": [],
   "source": [
    "import PyPDF2\n",
    "# source of pdf scraping https://www.youtube.com/watch?v=UmPe07a3bWs"
   ]
  },
  {
   "cell_type": "markdown",
   "metadata": {},
   "source": [
    "Scrapes pdf itself"
   ]
  },
  {
   "cell_type": "code",
   "execution_count": 15,
   "metadata": {},
   "outputs": [
    {
     "output_type": "stream",
     "name": "stdout",
     "text": [
      "['COVID-19 Community Testing', 'No one will be turned away for inability to pay. Questions? Call Columbus Public Health at 614-645-1519.', '˜˚˛˝˙ˆˇ˘ˆ', '˜', '˜', 'Information compiled by ', 'Columbus Public Health; ', 'updated 10/6/2020', 'Columbus Public Health', ' (testing provided ', 'by Mount Carmel, OhioHealth and The Ohio ', 'State University Wexner Medical Center)', '614-645-1519', 'www.columbus.gov/coronavirus', '1. Ohio Expo Center & State Fair Celeste Center ', '717 E. 17th Ave., Columbus', 'Mon.-Fri. Œ 9 a.m.-4 p.m.', 'Heart of Ohio Family Health ', '614-235-5555', 'https://heartofohiofamilyhealth.org', '2. Capital Park Family Health Center ', '2365 Innis Rd., Columbus', 'Mon., Tue., Wed., Fri. Œ 8 a.m.-5 p.m.', 'Thu., Œ 8 a.m.-7:30 p.m.', '3. Whitehall Family Health Center ', '882 S. Hamilton Rd., Whitehall', 'Mon., Wed., Thu., Fri. Œ 8 a.m.-5 p.m.', 'Tue. Œ 8 a.m.-7:30 p.m.', 'Lower Lights Christian Health Center ', '614-274-1455', 'https://llchc.org/covid19', '4. Lower Lights at Mount Carmel West ', '777 W. State St., Columbus', 'Fri. Œ 9 a.m.-5 p.m.', 'PrimaryOne Health614-859-1895 ', 'www.primaryonehealth.org/covid19testing ', '5. PrimaryOne Health at the Health and ', 'Wellness Center  ', '2300 W. Broad St., Columbus', 'Mon., Wed., Fri. Œ 9 a.m.-1 p.m. ', '6. PrimaryOne Health at the John R. Maloney ', 'Health and Wellness Center ', '1905 Parsons Ave., Columbus', 'Mon., Wed., Fri. Œ 9 a.m.-1 p.m. ', '7. PrimaryOne Health ', '3433 Agler Rd., Columbus', 'Mon., Wed., Fri. Œ 9 a.m.-1 p.m.  ', '8. PrimaryOne Health at St. Stephens ', 'Community House', '1500 E. 17th Ave., Columbus', 'Mon., Wed., Fri. Œ 9 a.m.-1 p.m.  ', 'Equitas Health', '614-340-6700 ', 'https://equitashealth.com', '9. Equitas Health King-Lincoln Medical Center ', '750 E. Long St., Columbus', 'Telehealth Screening: Mon.-Fri. Œ 9 a.m.-1 p.m.', 'Testing: Mon.-Fri. Œ 11 a.m.-3 p.m.', 'Southeast Healthcare', ' 614-360-0160', '10. 86 N. Front St., Columbus', 'Mon., Wed., Fri. Œ 1-4 p.m', '---------------------------------------------------------------------------If you already have a primary care provider, contact them ', 'about getting tested for COVID-19. ', 'Preregistration and appointment is required for testing. Call testing organization to schedule. ', '']\n"
     ]
    }
   ],
   "source": [
    "import io\n",
    "\n",
    "import requests\n",
    "from PyPDF2 import PdfFileReader\n",
    "\n",
    "url = 'https://www.columbus.gov/uploadedFiles/Columbus/Departments/Public_Health/All_Programs/Emergency_Preparedness/Coronavirus/LocalTesting_FQHCs_7.16.2020.pdf'\n",
    "\n",
    "r = requests.get(url)\n",
    "f = io.BytesIO(r.content)\n",
    "\n",
    "reader = PdfFileReader(f)\n",
    "contents = reader.getPage(0).extractText().split('\\n')\n",
    "print(contents)"
   ]
  },
  {
   "cell_type": "markdown",
   "metadata": {},
   "source": [
    "Filters to grab address"
   ]
  },
  {
   "cell_type": "code",
   "execution_count": 16,
   "metadata": {},
   "outputs": [
    {
     "output_type": "stream",
     "name": "stdout",
     "text": [
      "['717 E. 17th Ave., Columbus', '2365 Innis Rd., Columbus', '882 S. Hamilton Rd., Whitehall', '777 W. State St., Columbus', '2300 W. Broad St., Columbus', '1905 Parsons Ave., Columbus', '3433 Agler Rd., Columbus', '1500 E. 17th Ave., Columbus', '750 E. Long St., Columbus', ' 86 N. Front St., Columbus']\n"
     ]
    }
   ],
   "source": [
    "import re\n",
    "\n",
    "address_extract ='\\d+[ ](?:[A-Za-z0-9.-]+[ ]?)+(?:Avenue|Lane|Road|Boulevard|Drive|Street|Ave|Dr|Rd|Blvd|Ln|St)\\.?'\n",
    "p = re.compile(address_extract)\n",
    "testingLocations = [ content for content in contents if p.match(content)]\n",
    "p2 = re.compile('\\d+\\.')\n",
    "covid_test_providers = [ content for content in contents if p2.match(content)]\n",
    "testingLocations = testingLocations+[re.sub(\"\\d+\\.\",\"\",test) for test in covid_test_providers if re.search(address_extract,test)]\n",
    "print(testingLocations)"
   ]
  },
  {
   "source": [
    "# Get Cases by ZIP"
   ],
   "cell_type": "markdown",
   "metadata": {}
  },
  {
   "cell_type": "markdown",
   "metadata": {},
   "source": [
    "## COVID-19 Numbers"
   ]
  },
  {
   "cell_type": "code",
   "execution_count": 17,
   "metadata": {},
   "outputs": [
    {
     "output_type": "execute_result",
     "data": {
      "text/plain": [
       "  Zip Code  Population Case Count - Cumulative Case Count - Last 30 Days   \\\n",
       "0     43001      2,810                     135                         50   \n",
       "1     43002      3,744                     NaN                        NaN   \n",
       "2     43003      3,005                     112                         62   \n",
       "3     43004     26,139                   2,002                        605   \n",
       "4     43005        201                       7                          5   \n",
       "\n",
       "  Case Count - Last 14 Days  Case Count Per 100K - Cumulative  \\\n",
       "0                         14                         4,804.30   \n",
       "1                        NaN                              NaN   \n",
       "2                         22                         3,727.10   \n",
       "3                        228                         7,659.10   \n",
       "4                        NaN                         3,482.60   \n",
       "\n",
       "  Case Count Per 100K - Last 30 Days Case Count Per 100K - Last 14 Days  \n",
       "0                           1,779.40                              498.2  \n",
       "1                                NaN                                NaN  \n",
       "2                           2,063.20                              732.1  \n",
       "3                           2,314.50                              872.3  \n",
       "4                           2,487.60                                NaN  "
      ],
      "text/html": "<div>\n<style scoped>\n    .dataframe tbody tr th:only-of-type {\n        vertical-align: middle;\n    }\n\n    .dataframe tbody tr th {\n        vertical-align: top;\n    }\n\n    .dataframe thead th {\n        text-align: right;\n    }\n</style>\n<table border=\"1\" class=\"dataframe\">\n  <thead>\n    <tr style=\"text-align: right;\">\n      <th></th>\n      <th>Zip Code</th>\n      <th>Population</th>\n      <th>Case Count - Cumulative</th>\n      <th>Case Count - Last 30 Days</th>\n      <th>Case Count - Last 14 Days</th>\n      <th>Case Count Per 100K - Cumulative</th>\n      <th>Case Count Per 100K - Last 30 Days</th>\n      <th>Case Count Per 100K - Last 14 Days</th>\n    </tr>\n  </thead>\n  <tbody>\n    <tr>\n      <th>0</th>\n      <td>43001</td>\n      <td>2,810</td>\n      <td>135</td>\n      <td>50</td>\n      <td>14</td>\n      <td>4,804.30</td>\n      <td>1,779.40</td>\n      <td>498.2</td>\n    </tr>\n    <tr>\n      <th>1</th>\n      <td>43002</td>\n      <td>3,744</td>\n      <td>NaN</td>\n      <td>NaN</td>\n      <td>NaN</td>\n      <td>NaN</td>\n      <td>NaN</td>\n      <td>NaN</td>\n    </tr>\n    <tr>\n      <th>2</th>\n      <td>43003</td>\n      <td>3,005</td>\n      <td>112</td>\n      <td>62</td>\n      <td>22</td>\n      <td>3,727.10</td>\n      <td>2,063.20</td>\n      <td>732.1</td>\n    </tr>\n    <tr>\n      <th>3</th>\n      <td>43004</td>\n      <td>26,139</td>\n      <td>2,002</td>\n      <td>605</td>\n      <td>228</td>\n      <td>7,659.10</td>\n      <td>2,314.50</td>\n      <td>872.3</td>\n    </tr>\n    <tr>\n      <th>4</th>\n      <td>43005</td>\n      <td>201</td>\n      <td>7</td>\n      <td>5</td>\n      <td>NaN</td>\n      <td>3,482.60</td>\n      <td>2,487.60</td>\n      <td>NaN</td>\n    </tr>\n  </tbody>\n</table>\n</div>"
     },
     "metadata": {},
     "execution_count": 17
    }
   ],
   "source": [
    "zip_cases_df =  pd.read_csv(\"https://coronavirus.ohio.gov/static/dashboards/COVIDSummaryDataZIP.csv\")\n",
    "zip_cases_df.head()"
   ]
  },
  {
   "source": [
    "***\n",
    "#  Filtering and Modifying of data\n",
    "The Dataframes are:\n",
    "- zip_cases_df: Cases in Zip codes \n",
    "- testingLocations: Locations of current testing sites\n",
    "- hp_df: Hospital and Pharmacy Location\n",
    "- zip_info_df: Demographic Information by Zip code\n",
    "\n",
    "***"
   ],
   "cell_type": "markdown",
   "metadata": {}
  },
  {
   "source": [
    "@TODO: Filter zip_info_df and choose which factors are most relevant to our analysis."
   ],
   "cell_type": "markdown",
   "metadata": {}
  },
  {
   "source": [
    "zip_info_df.columns"
   ],
   "cell_type": "code",
   "metadata": {},
   "execution_count": 29,
   "outputs": [
    {
     "output_type": "execute_result",
     "data": {
      "text/plain": [
       "Index(['# Business Mailboxes:', '# Residential Mailboxes:', '# of Employees:',\n",
       "       '113th Congressional District:', '113th Congressional Land Area:',\n",
       "       '1st Quarter Payroll:', '2010 Population:', '65+:',\n",
       "       'American Indian Population:', 'Annual Payroll:', 'Area Code:',\n",
       "       'Asian Population:', 'Average House Value:',\n",
       "       'Avg. Income Per Household:', 'Black Population:',\n",
       "       'CBSA Division Name:', 'CBSA Division Population:', 'CBSA Division:',\n",
       "       'CBSA Name:', 'CBSA Population:', 'CBSA Type:', 'CBSA:', 'Children:',\n",
       "       'City Alias(es):', 'City State Key:', 'City Type:', 'City:',\n",
       "       'Classification:', 'Counties:', 'County FIPS:', 'Current Population:',\n",
       "       'Disabled Workers:', 'Division:', 'Elevation:', 'Female Median Age:',\n",
       "       'Female Population:', 'Hawaiian Population:', 'Hispanic Population:',\n",
       "       'Households per ZIP Code:', 'Intro Date:', 'Land Area:', 'Latitude:',\n",
       "       'Longitude:', 'MSA Name:', 'MSA:', 'Male Median Age:',\n",
       "       'Male Population:', 'Median Age:', 'Monthly Benefits - All:',\n",
       "       'Monthly Benefits - Retired Workers:', 'Monthly Benefits - Widow(ers):',\n",
       "       'Multi County:', 'Multi Family Delivery Units:',\n",
       "       'Number of Businesses:', 'Observes Day Light Savings:',\n",
       "       'Other Population:', 'PMSA Name:', 'PMSA:', 'Persons Per Household:',\n",
       "       'Preferred Last Line Key:', 'Region:', 'Retired Workers:',\n",
       "       'Single Family Delivery Units:', 'Spouses:', 'State FIPS:', 'State:',\n",
       "       'Time Zone:', 'Total Beneficiaries:', 'Total Delivery Receptacles:',\n",
       "       'Water Area:', 'White Population:', 'Widow(er)s and Parents:',\n",
       "       'Zip Code:', ' ', 'City Alias(es) To Avoid Using:'],\n",
       "      dtype='object')"
      ]
     },
     "metadata": {},
     "execution_count": 29
    }
   ]
  },
  {
   "source": [
    "***\n",
    "#  NOT USED\n",
    "***"
   ],
   "cell_type": "markdown",
   "metadata": {}
  },
  {
   "cell_type": "code",
   "execution_count": 14,
   "metadata": {},
   "outputs": [
    {
     "output_type": "stream",
     "name": "stdout",
     "text": [
      "https://public.tableau.com/views/COVID-19OutbreakSummary_15918845768300/COVID19Summaryp3?:embed=y&:showAppBanner=false&:showShareOptions=true&:display_count=no&:showVizHome=no\n"
     ]
    },
    {
     "output_type": "error",
     "ename": "KeyError",
     "evalue": "'presModelMap'",
     "traceback": [
      "\u001b[1;31m---------------------------------------------------------------------------\u001b[0m",
      "\u001b[1;31mKeyError\u001b[0m                                  Traceback (most recent call last)",
      "\u001b[1;32m<ipython-input-14-b80a61a26bc2>\u001b[0m in \u001b[0;36m<module>\u001b[1;34m\u001b[0m\n\u001b[0;32m     26\u001b[0m \u001b[0mdata\u001b[0m \u001b[1;33m=\u001b[0m \u001b[0mjson\u001b[0m\u001b[1;33m.\u001b[0m\u001b[0mloads\u001b[0m\u001b[1;33m(\u001b[0m\u001b[0mdataReg\u001b[0m\u001b[1;33m.\u001b[0m\u001b[0mgroup\u001b[0m\u001b[1;33m(\u001b[0m\u001b[1;36m2\u001b[0m\u001b[1;33m)\u001b[0m\u001b[1;33m)\u001b[0m\u001b[1;33m\u001b[0m\u001b[1;33m\u001b[0m\u001b[0m\n\u001b[0;32m     27\u001b[0m \u001b[1;31m#print(info)\u001b[0m\u001b[1;33m\u001b[0m\u001b[1;33m\u001b[0m\u001b[1;33m\u001b[0m\u001b[0m\n\u001b[1;32m---> 28\u001b[1;33m \u001b[0mprint\u001b[0m\u001b[1;33m(\u001b[0m\u001b[0mdata\u001b[0m\u001b[1;33m[\u001b[0m\u001b[1;34m\"secondaryInfo\"\u001b[0m\u001b[1;33m]\u001b[0m\u001b[1;33m[\u001b[0m\u001b[1;34m\"presModelMap\"\u001b[0m\u001b[1;33m]\u001b[0m\u001b[1;33m[\u001b[0m\u001b[1;34m\"dataDictionary\"\u001b[0m\u001b[1;33m]\u001b[0m\u001b[1;33m[\u001b[0m\u001b[1;34m\"presModelHolder\"\u001b[0m\u001b[1;33m]\u001b[0m\u001b[1;33m[\u001b[0m\u001b[1;34m\"genDataDictionaryPresModel\"\u001b[0m\u001b[1;33m]\u001b[0m\u001b[1;33m[\u001b[0m\u001b[1;34m\"dataSegments\"\u001b[0m\u001b[1;33m]\u001b[0m\u001b[1;33m[\u001b[0m\u001b[1;34m\"0\"\u001b[0m\u001b[1;33m]\u001b[0m\u001b[1;33m[\u001b[0m\u001b[1;34m\"dataColumns\"\u001b[0m\u001b[1;33m]\u001b[0m\u001b[1;33m)\u001b[0m\u001b[1;33m\u001b[0m\u001b[1;33m\u001b[0m\u001b[0m\n\u001b[0m\u001b[0;32m     29\u001b[0m \u001b[1;31m#<_sre.SRE_Match object; span=(0, 109884), match='72955;{\"sheetName\":\"DASH: Patients v discharges\",>\u001b[0m\u001b[1;33m\u001b[0m\u001b[1;33m\u001b[0m\u001b[1;33m\u001b[0m\u001b[0m\n",
      "\u001b[1;31mKeyError\u001b[0m: 'presModelMap'"
     ]
    }
   ],
   "source": [
    "import requests\n",
    "from bs4 import BeautifulSoup\n",
    "import json\n",
    "import re\n",
    "#TODO figure out how to webscrape COVID-19 data from graph\n",
    "r = requests.get(\n",
    "    f\"https://public.tableau.com/views/COVID-19OutbreakSummary_15918845768300/COVID19Summaryp3\",\n",
    "     params= {\n",
    "        \":embed\":\"y\",\n",
    "        \":showAppBanner\":\"false\",\n",
    "        \":showShareOptions\":\"true\",\n",
    "        \":display_count\":\"no\",\n",
    "    }\n",
    ")\n",
    "print(r.url)\n",
    "soup = BeautifulSoup(r.text, \"html.parser\")\n",
    "\n",
    "tableauData = json.loads(soup.find(\"textarea\",{\"id\": \"tsConfigContainer\"}).text)\n",
    "\n",
    "dataUrl = f'https://public.tableau.com{tableauData[\"vizql_root\"]}/bootstrapSession/sessions/{tableauData[\"sessionid\"]}'\n",
    "r = requests.post(dataUrl, data= {\n",
    "    \"sheet_id\": tableauData[\"sheetId\"],\n",
    "})\n",
    "dataReg = re.search('\\d+;({.*})\\d+;({.*})', r.text, re.MULTILINE)\n",
    "info = json.loads(dataReg.group(1))\n",
    "data = json.loads(dataReg.group(2))\n",
    "#print(info)\n",
    "print(data[\"secondaryInfo\"][\"presModelMap\"][\"dataDictionary\"][\"presModelHolder\"][\"genDataDictionaryPresModel\"][\"dataSegments\"][\"0\"][\"dataColumns\"])\n",
    "#<_sre.SRE_Match object; span=(0, 109884), match='72955;{\"sheetName\":\"DASH: Patients v discharges\",>"
   ]
  },
  {
   "cell_type": "markdown",
   "metadata": {},
   "source": [
    "# Awesome Selenium Webscraping Action"
   ]
  },
  {
   "cell_type": "code",
   "execution_count": 23,
   "metadata": {},
   "outputs": [],
   "source": [
    "from selenium import webdriver \n",
    "import time\n",
    "# import Action chains  \n",
    "from selenium.webdriver.common.action_chains import ActionChains \n",
    "driver = webdriver.Firefox()\n",
    "\n",
    "# Navigate to url\n",
    "driver.get(\"https://public.tableau.com/views/COVID-19OutbreakSummary_15918845768300/COVID19Summaryp3?%3Adisplay_count=y&%3Aorigin=viz_share_link&%3AshowVizHome=no\")\n",
    "\n",
    "# Store 'google search' button web element\n",
    "time.sleep(20)\n",
    "mapfre = driver.find_element_by_xpath(\"//*[@id=\\\"tabZoneId106\\\"]/div/div/div/div\")#//*[@id=\\\"view8239885986803340325_964909730081303188\\\"]/div[1]/div[2]\")\n",
    "#Set x and y offset positions of element\n",
    "xOffset = 0 \n",
    "yOffset = 0\n",
    "ActionChains(driver).move_to_element(mapfre).perform()\n",
    "ActionChains(driver).move_by_offset(xOffset,yOffset).perform()\n",
    "time.sleep(12)\n",
    "with open('temp_covid_zip.txt', 'w', encoding='utf-8') as f:\n",
    "    f.write(str(driver.page_source))"
   ]
  },
  {
   "cell_type": "code",
   "execution_count": 10,
   "metadata": {
    "tags": []
   },
   "outputs": [
    {
     "output_type": "stream",
     "name": "stdout",
     "text": "43224\n868 - 1289\n"
    }
   ],
   "source": [
    "#this script works for extracting zip and cases range\n",
    "temp = ''\n",
    "with open('temp_covid_zip.txt', 'r') as fin:\n",
    "    temp = fin.read()\n",
    "from bs4 import BeautifulSoup\n",
    "soup = BeautifulSoup(temp, 'html.parser')\n",
    "table = soup.find_all('div')[len(soup.find_all('div'))-3].table #grabs the table which stores the data\n",
    "print(table.find_all('tr')[0].find_all('td')[2].string)\n",
    "print(table.find_all('tr')[1].find_all('td')[2].string)"
   ]
  },
  {
   "cell_type": "code",
   "execution_count": 12,
   "metadata": {},
   "outputs": [
    {
     "output_type": "error",
     "ename": "InvalidSessionIdException",
     "evalue": "Message: Tried to run command without establishing a connection\n",
     "traceback": [
      "\u001b[1;31m---------------------------------------------------------------------------\u001b[0m",
      "\u001b[1;31mInvalidSessionIdException\u001b[0m                 Traceback (most recent call last)",
      "\u001b[1;32m&lt;ipython-input-12-e8ac65fe1a27&gt;\u001b[0m in \u001b[0;36m&lt;module&gt;\u001b[1;34m\u001b[0m\n\u001b[0;32m      1\u001b[0m \u001b[1;31m#Use for Y: -39 to start off with to go from 43211 to 43224\u001b[0m\u001b[1;33m\u001b[0m\u001b[1;33m\u001b[0m\u001b[1;33m\u001b[0m\u001b[0m\n\u001b[0;32m      2\u001b[0m \u001b[1;31m# Navigate to url\u001b[0m\u001b[1;33m\u001b[0m\u001b[1;33m\u001b[0m\u001b[1;33m\u001b[0m\u001b[0m\n\u001b[1;32m----&gt; 3\u001b[1;33m \u001b[0mdriver\u001b[0m\u001b[1;33m.\u001b[0m\u001b[0mget\u001b[0m\u001b[1;33m(\u001b[0m\u001b[1;34m&quot;https://public.tableau.com/views/COVID-19OutbreakSummary_15918845768300/COVID19Summaryp3?%3Adisplay_count=y&amp;%3Aorigin=viz_share_link&amp;%3AshowVizHome=no&quot;\u001b[0m\u001b[1;33m)\u001b[0m\u001b[1;33m\u001b[0m\u001b[1;33m\u001b[0m\u001b[0m\n\u001b[0m\u001b[0;32m      4\u001b[0m \u001b[1;33m\u001b[0m\u001b[0m\n\u001b[0;32m      5\u001b[0m \u001b[1;31m# Store &#39;google search&#39; button web element\u001b[0m\u001b[1;33m\u001b[0m\u001b[1;33m\u001b[0m\u001b[1;33m\u001b[0m\u001b[0m\n",
      "\u001b[1;32m~\\AppData\\Local\\Programs\\Python\\Python38-32\\lib\\site-packages\\selenium\\webdriver\\remote\\webdriver.py\u001b[0m in \u001b[0;36mget\u001b[1;34m(self, url)\u001b[0m\n\u001b[0;32m    331\u001b[0m         \u001b[0mLoads\u001b[0m \u001b[0ma\u001b[0m \u001b[0mweb\u001b[0m \u001b[0mpage\u001b[0m \u001b[1;32min\u001b[0m \u001b[0mthe\u001b[0m \u001b[0mcurrent\u001b[0m \u001b[0mbrowser\u001b[0m \u001b[0msession\u001b[0m\u001b[1;33m.\u001b[0m\u001b[1;33m\u001b[0m\u001b[1;33m\u001b[0m\u001b[0m\n\u001b[0;32m    332\u001b[0m         &quot;&quot;&quot;\n\u001b[1;32m--&gt; 333\u001b[1;33m         \u001b[0mself\u001b[0m\u001b[1;33m.\u001b[0m\u001b[0mexecute\u001b[0m\u001b[1;33m(\u001b[0m\u001b[0mCommand\u001b[0m\u001b[1;33m.\u001b[0m\u001b[0mGET\u001b[0m\u001b[1;33m,\u001b[0m \u001b[1;33m{\u001b[0m\u001b[1;34m&#39;url&#39;\u001b[0m\u001b[1;33m:\u001b[0m \u001b[0murl\u001b[0m\u001b[1;33m}\u001b[0m\u001b[1;33m)\u001b[0m\u001b[1;33m\u001b[0m\u001b[1;33m\u001b[0m\u001b[0m\n\u001b[0m\u001b[0;32m    334\u001b[0m \u001b[1;33m\u001b[0m\u001b[0m\n\u001b[0;32m    335\u001b[0m     \u001b[1;33m@\u001b[0m\u001b[0mproperty\u001b[0m\u001b[1;33m\u001b[0m\u001b[1;33m\u001b[0m\u001b[0m\n",
      "\u001b[1;32m~\\AppData\\Local\\Programs\\Python\\Python38-32\\lib\\site-packages\\selenium\\webdriver\\remote\\webdriver.py\u001b[0m in \u001b[0;36mexecute\u001b[1;34m(self, driver_command, params)\u001b[0m\n\u001b[0;32m    319\u001b[0m         \u001b[0mresponse\u001b[0m \u001b[1;33m=\u001b[0m \u001b[0mself\u001b[0m\u001b[1;33m.\u001b[0m\u001b[0mcommand_executor\u001b[0m\u001b[1;33m.\u001b[0m\u001b[0mexecute\u001b[0m\u001b[1;33m(\u001b[0m\u001b[0mdriver_command\u001b[0m\u001b[1;33m,\u001b[0m \u001b[0mparams\u001b[0m\u001b[1;33m)\u001b[0m\u001b[1;33m\u001b[0m\u001b[1;33m\u001b[0m\u001b[0m\n\u001b[0;32m    320\u001b[0m         \u001b[1;32mif\u001b[0m \u001b[0mresponse\u001b[0m\u001b[1;33m:\u001b[0m\u001b[1;33m\u001b[0m\u001b[1;33m\u001b[0m\u001b[0m\n\u001b[1;32m--&gt; 321\u001b[1;33m             \u001b[0mself\u001b[0m\u001b[1;33m.\u001b[0m\u001b[0merror_handler\u001b[0m\u001b[1;33m.\u001b[0m\u001b[0mcheck_response\u001b[0m\u001b[1;33m(\u001b[0m\u001b[0mresponse\u001b[0m\u001b[1;33m)\u001b[0m\u001b[1;33m\u001b[0m\u001b[1;33m\u001b[0m\u001b[0m\n\u001b[0m\u001b[0;32m    322\u001b[0m             response[&#39;value&#39;] = self._unwrap_value(\n\u001b[0;32m    323\u001b[0m                 response.get(&#39;value&#39;, None))\n",
      "\u001b[1;32m~\\AppData\\Local\\Programs\\Python\\Python38-32\\lib\\site-packages\\selenium\\webdriver\\remote\\errorhandler.py\u001b[0m in \u001b[0;36mcheck_response\u001b[1;34m(self, response)\u001b[0m\n\u001b[0;32m    240\u001b[0m                 \u001b[0malert_text\u001b[0m \u001b[1;33m=\u001b[0m \u001b[0mvalue\u001b[0m\u001b[1;33m[\u001b[0m\u001b[1;34m&#39;alert&#39;\u001b[0m\u001b[1;33m]\u001b[0m\u001b[1;33m.\u001b[0m\u001b[0mget\u001b[0m\u001b[1;33m(\u001b[0m\u001b[1;34m&#39;text&#39;\u001b[0m\u001b[1;33m)\u001b[0m\u001b[1;33m\u001b[0m\u001b[1;33m\u001b[0m\u001b[0m\n\u001b[0;32m    241\u001b[0m             \u001b[1;32mraise\u001b[0m \u001b[0mexception_class\u001b[0m\u001b[1;33m(\u001b[0m\u001b[0mmessage\u001b[0m\u001b[1;33m,\u001b[0m \u001b[0mscreen\u001b[0m\u001b[1;33m,\u001b[0m \u001b[0mstacktrace\u001b[0m\u001b[1;33m,\u001b[0m \u001b[0malert_text\u001b[0m\u001b[1;33m)\u001b[0m\u001b[1;33m\u001b[0m\u001b[1;33m\u001b[0m\u001b[0m\n\u001b[1;32m--&gt; 242\u001b[1;33m         \u001b[1;32mraise\u001b[0m \u001b[0mexception_class\u001b[0m\u001b[1;33m(\u001b[0m\u001b[0mmessage\u001b[0m\u001b[1;33m,\u001b[0m \u001b[0mscreen\u001b[0m\u001b[1;33m,\u001b[0m \u001b[0mstacktrace\u001b[0m\u001b[1;33m)\u001b[0m\u001b[1;33m\u001b[0m\u001b[1;33m\u001b[0m\u001b[0m\n\u001b[0m\u001b[0;32m    243\u001b[0m \u001b[1;33m\u001b[0m\u001b[0m\n\u001b[0;32m    244\u001b[0m     \u001b[1;32mdef\u001b[0m \u001b[0m_value_or_default\u001b[0m\u001b[1;33m(\u001b[0m\u001b[0mself\u001b[0m\u001b[1;33m,\u001b[0m \u001b[0mobj\u001b[0m\u001b[1;33m,\u001b[0m \u001b[0mkey\u001b[0m\u001b[1;33m,\u001b[0m \u001b[0mdefault\u001b[0m\u001b[1;33m)\u001b[0m\u001b[1;33m:\u001b[0m\u001b[1;33m\u001b[0m\u001b[1;33m\u001b[0m\u001b[0m\n",
      "\u001b[1;31mInvalidSessionIdException\u001b[0m: Message: Tried to run command without establishing a connection\n"
     ]
    }
   ],
   "source": [
    "#Use for Y: -39 to start off with to go from 43211 to 43224\n",
    "# Navigate to url\n",
    "driver.get(\"https://public.tableau.com/views/COVID-19OutbreakSummary_15918845768300/COVID19Summaryp3?%3Adisplay_count=y&%3Aorigin=viz_share_link&%3AshowVizHome=no\")\n",
    "\n",
    "# Store 'google search' button web element\n",
    "time.sleep(20)\n",
    "mapfre = driver.find_element_by_xpath(\"//*[@id=\\\"tabZoneId106\\\"]/div/div/div/div\")#//*[@id=\\\"view8239885986803340325_964909730081303188\\\"]/div[1]/div[2]\")\n",
    "#Set x and y offset positions of element\n",
    "xOffset = 0 \n",
    "yOffset = -39\n",
    "ActionChains(driver).move_to_element(mapfre).perform()\n",
    "ActionChains(driver).move_by_offset(xOffset,yOffset).perform()\n",
    "time.sleep(12)\n",
    "with open('temp_covid_zip.txt', 'w', encoding='utf-8') as f:\n",
    "    f.write(str(driver.page_source))"
   ]
  },
  {
   "cell_type": "code",
   "execution_count": 9,
   "metadata": {
    "tags": []
   },
   "outputs": [
    {
     "output_type": "stream",
     "name": "stdout",
     "text": "43224\n868 - 1289\n"
    }
   ],
   "source": [
    "#this script works for extracting zip and cases range\n",
    "# -39 is a success\n",
    "temp = ''\n",
    "with open('temp_covid_zip.txt', 'r') as fin:\n",
    "    temp = fin.read()\n",
    "from bs4 import BeautifulSoup\n",
    "soup = BeautifulSoup(temp, 'html.parser')\n",
    "table = soup.find_all('div')[len(soup.find_all('div'))-3].table #grabs the table which stores the data\n",
    "print(table.find_all('tr')[0].find_all('td')[2].string)\n",
    "print(table.find_all('tr')[1].find_all('td')[2].string)"
   ]
  },
  {
   "cell_type": "code",
   "execution_count": null,
   "metadata": {},
   "outputs": [],
   "source": [
    "# @TODO: Calculate Difference between 43211 and 43224 latitude and create a scale factor"
   ]
  }
 ],
 "metadata": {
  "kernelspec": {
   "name": "python3",
   "display_name": "Python 3.8.5 32-bit",
   "metadata": {
    "interpreter": {
     "hash": "0acb2cb27714ac67f55a8af7176a3d676c30cfd371720344473d3954e39fd2e8"
    }
   }
  },
  "language_info": {
   "codemirror_mode": {
    "name": "ipython",
    "version": 3
   },
   "file_extension": ".py",
   "mimetype": "text/x-python",
   "name": "python",
   "nbconvert_exporter": "python",
   "pygments_lexer": "ipython3",
   "version": "3.8.5-final"
  }
 },
 "nbformat": 4,
 "nbformat_minor": 4
}