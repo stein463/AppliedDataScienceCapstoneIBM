{
 "cells": [
  {
   "cell_type": "markdown",
   "metadata": {},
   "source": [
    "# Gather relevant data "
   ]
  },
  {
   "cell_type": "markdown",
   "metadata": {},
   "source": [
    "## Webscrape demographic data "
   ]
  },
  {
   "cell_type": "markdown",
   "metadata": {},
   "source": [
    "Import Relevant packages"
   ]
  },
  {
   "cell_type": "code",
   "execution_count": 1,
   "metadata": {},
   "outputs": [],
   "source": [
    "import pandas as pd\n",
    "import numpy as np\n",
    "import requests\n",
    "import urllib.request\n",
    "import time\n",
    "from bs4 import BeautifulSoup"
   ]
  },
  {
   "cell_type": "markdown",
   "metadata": {},
   "source": [
    "Checks to confirm page exists"
   ]
  },
  {
   "cell_type": "code",
   "execution_count": 2,
   "metadata": {
    "tags": []
   },
   "outputs": [
    {
     "name": "stdout",
     "output_type": "stream",
     "text": [
      "<Response [200]>\n"
     ]
    }
   ],
   "source": [
    "url = 'https://www.zip-codes.com{}'\n",
    "columbus_branch ='/city/oh-columbus.asp'\n",
    "# reinforces integrity of the data collection\n",
    "accessed = False\n",
    "while accessed == False:\n",
    "    try:\n",
    "        response = requests.get(url.format(columbus_branch))\n",
    "        print(response)\n",
    "        accessed = True\n",
    "    except:\n",
    "        accesssed = False"
   ]
  },
  {
   "cell_type": "markdown",
   "metadata": {},
   "source": [
    "Gathers relevant data on the page"
   ]
  },
  {
   "cell_type": "code",
   "execution_count": 3,
   "metadata": {
    "tags": []
   },
   "outputs": [
    {
     "name": "stdout",
     "output_type": "stream",
     "text": [
      "<table border=\"0\" cellpadding=\"0\" cellspacing=\"0\" class=\"statTable\" id=\"tblZIP\" width=\"99%\">\n",
      "<tr><td class=\"label\"><strong>ZIP Code</strong></td><td><strong>Type</strong></td><td><strong>County</strong></td><td><strong>Population</strong></td><td><strong>Area Code(s)</strong></td></tr>\n",
      "<tr><td><a href=\"/zip-code/43081/zip-code-43081.asp\" style=\"text-decoration:underline;\" title=\"ZIP Code 43081, WESTERVILLE, OH\">ZIP Code 43081</a></td><td>Standard</td><td><a href=\"/county/oh-franklin.asp\">Franklin</a></td><td>55,991</td><td><a href=\"/area-code/area-code-614.asp\" title=\"Area Code 614\">614</a></td></tr><tr><td><a href=\"/zip-code/43085/zip-code-43085.asp\" style=\"text-decoration:underline;\" title=\"ZIP Code 43085, COLUMBUS, OH\">ZIP Code 43085</a></td><td>Standard</td><td><a href=\"/county/oh-franklin.asp\">Franklin</a></td><td>23,258</td><td><a href=\"/area-code/area-code-614.asp\" title=\"Area Code 614\">614</a> / <a href=\"/area-code/area-code-380.asp\" title=\"Area Code 380\">380</a> / <a href=\"/area-code/area-code-740.asp\" title=\"Area Code 740\">740</a></td></tr><tr><td><a href=\"/zip-code/43201/zip-code-43201.asp\" style=\"text-decoration:underline;\" title=\"ZIP Code 43201, COLUMBUS, OH\">ZIP Code 43201</a></td><td>Standard</td><td><a href=\"/county/oh-franklin.asp\">Franklin</a></td><td>35,495</td><td><a href=\"/area-code/area-code-614.asp\" title=\"Area Code 614\">614</a></td></tr><tr><td><a href=\"/zip-code/43202/zip-code-43202.asp\" style=\"text-decoration:underline;\" title=\"ZIP Code 43202, COLUMBUS, OH\">ZIP Code 43202</a></td><td>Standard</td><td><a href=\"/county/oh-franklin.asp\">Franklin</a></td><td>20,251</td><td><a href=\"/area-code/area-code-614.asp\" title=\"Area Code 614\">614</a></td></tr><tr><td><a href=\"/zip-code/43203/zip-code-43203.asp\" style=\"text-decoration:underline;\" title=\"ZIP Code 43203, COLUMBUS, OH\">ZIP Code 43203</a></td><td>Standard</td><td><a href=\"/county/oh-franklin.asp\">Franklin</a></td><td>8,108</td><td><a href=\"/area-code/area-code-614.asp\" title=\"Area Code 614\">614</a> / <a href=\"/area-code/area-code-380.asp\" title=\"Area Code 380\">380</a></td></tr><tr><td><a href=\"/zip-code/43204/zip-code-43204.asp\" style=\"text-decoration:underline;\" title=\"ZIP Code 43204, COLUMBUS, OH\">ZIP Code 43204</a></td><td>Standard</td><td><a href=\"/county/oh-franklin.asp\">Franklin</a></td><td>42,104</td><td><a href=\"/area-code/area-code-614.asp\" title=\"Area Code 614\">614</a></td></tr><tr><td><a href=\"/zip-code/43205/zip-code-43205.asp\" style=\"text-decoration:underline;\" title=\"ZIP Code 43205, COLUMBUS, OH\">ZIP Code 43205</a></td><td>Standard</td><td><a href=\"/county/oh-franklin.asp\">Franklin</a></td><td>12,272</td><td><a href=\"/area-code/area-code-614.asp\" title=\"Area Code 614\">614</a> / <a href=\"/area-code/area-code-380.asp\" title=\"Area Code 380\">380</a></td></tr><tr><td><a href=\"/zip-code/43206/zip-code-43206.asp\" style=\"text-decoration:underline;\" title=\"ZIP Code 43206, COLUMBUS, OH\">ZIP Code 43206</a></td><td>Standard</td><td><a href=\"/county/oh-franklin.asp\">Franklin</a></td><td>21,864</td><td><a href=\"/area-code/area-code-614.asp\" title=\"Area Code 614\">614</a></td></tr><tr><td><a href=\"/zip-code/43207/zip-code-43207.asp\" style=\"text-decoration:underline;\" title=\"ZIP Code 43207, COLUMBUS, OH\">ZIP Code 43207</a></td><td>Standard</td><td><a href=\"/county/oh-franklin.asp\">Franklin</a></td><td>45,144</td><td><a href=\"/area-code/area-code-614.asp\" title=\"Area Code 614\">614</a></td></tr><tr><td><a href=\"/zip-code/43209/zip-code-43209.asp\" style=\"text-decoration:underline;\" title=\"ZIP Code 43209, COLUMBUS, OH\">ZIP Code 43209</a></td><td>Standard</td><td><a href=\"/county/oh-franklin.asp\">Franklin</a></td><td>27,228</td><td><a href=\"/area-code/area-code-614.asp\" title=\"Area Code 614\">614</a></td></tr><tr><td><a href=\"/zip-code/43210/zip-code-43210.asp\" style=\"text-decoration:underline;\" title=\"ZIP Code 43210, COLUMBUS, OH\">ZIP Code 43210</a></td><td>Standard</td><td><a href=\"/county/oh-franklin.asp\">Franklin</a></td><td>9,432</td><td><a href=\"/area-code/area-code-614.asp\" title=\"Area Code 614\">614</a></td></tr><tr><td><a href=\"/zip-code/43211/zip-code-43211.asp\" style=\"text-decoration:underline;\" title=\"ZIP Code 43211, COLUMBUS, OH\">ZIP Code 43211</a></td><td>Standard</td><td><a href=\"/county/oh-franklin.asp\">Franklin</a></td><td>21,600</td><td><a href=\"/area-code/area-code-614.asp\" title=\"Area Code 614\">614</a></td></tr><tr><td><a href=\"/zip-code/43212/zip-code-43212.asp\" style=\"text-decoration:underline;\" title=\"ZIP Code 43212, COLUMBUS, OH\">ZIP Code 43212</a></td><td>Standard</td><td><a href=\"/county/oh-franklin.asp\">Franklin</a></td><td>18,551</td><td><a href=\"/area-code/area-code-614.asp\" title=\"Area Code 614\">614</a></td></tr><tr><td><a href=\"/zip-code/43213/zip-code-43213.asp\" style=\"text-decoration:underline;\" title=\"ZIP Code 43213, COLUMBUS, OH\">ZIP Code 43213</a></td><td>Standard</td><td><a href=\"/county/oh-franklin.asp\">Franklin</a></td><td>30,444</td><td><a href=\"/area-code/area-code-614.asp\" title=\"Area Code 614\">614</a></td></tr><tr><td><a href=\"/zip-code/43214/zip-code-43214.asp\" style=\"text-decoration:underline;\" title=\"ZIP Code 43214, COLUMBUS, OH\">ZIP Code 43214</a></td><td>Standard</td><td><a href=\"/county/oh-franklin.asp\">Franklin</a></td><td>24,650</td><td><a href=\"/area-code/area-code-614.asp\" title=\"Area Code 614\">614</a></td></tr><tr><td><a href=\"/zip-code/43215/zip-code-43215.asp\" style=\"text-decoration:underline;\" title=\"ZIP Code 43215, COLUMBUS, OH\">ZIP Code 43215</a></td><td>Standard</td><td><a href=\"/county/oh-franklin.asp\">Franklin</a></td><td>12,790</td><td><a href=\"/area-code/area-code-614.asp\" title=\"Area Code 614\">614</a> / <a href=\"/area-code/area-code-380.asp\" title=\"Area Code 380\">380</a></td></tr><tr><td><a href=\"/zip-code/43216/zip-code-43216.asp\" style=\"text-decoration:underline;\" title=\"ZIP Code 43216, COLUMBUS, OH\">ZIP Code 43216</a></td><td>P.O. Box</td><td><a href=\"/county/oh-franklin.asp\">Franklin</a></td><td>0</td><td><a href=\"/area-code/area-code-614.asp\" title=\"Area Code 614\">614</a> / <a href=\"/area-code/area-code-380.asp\" title=\"Area Code 380\">380</a></td></tr><tr><td><a href=\"/zip-code/43217/zip-code-43217.asp\" style=\"text-decoration:underline;\" title=\"ZIP Code 43217, COLUMBUS, OH\">ZIP Code 43217</a></td><td>Standard</td><td><a href=\"/county/oh-franklin.asp\">Franklin</a></td><td>2,602</td><td><a href=\"/area-code/area-code-614.asp\" title=\"Area Code 614\">614</a></td></tr><tr><td><a href=\"/zip-code/43218/zip-code-43218.asp\" style=\"text-decoration:underline;\" title=\"ZIP Code 43218, COLUMBUS, OH\">ZIP Code 43218</a></td><td>P.O. Box</td><td><a href=\"/county/oh-franklin.asp\">Franklin</a></td><td>0</td><td><a href=\"/area-code/area-code-614.asp\" title=\"Area Code 614\">614</a> / <a href=\"/area-code/area-code-380.asp\" title=\"Area Code 380\">380</a></td></tr><tr><td><a href=\"/zip-code/43219/zip-code-43219.asp\" style=\"text-decoration:underline;\" title=\"ZIP Code 43219, COLUMBUS, OH\">ZIP Code 43219</a></td><td>Standard</td><td><a href=\"/county/oh-franklin.asp\">Franklin</a></td><td>27,123</td><td><a href=\"/area-code/area-code-614.asp\" title=\"Area Code 614\">614</a></td></tr><tr><td><a href=\"/zip-code/43220/zip-code-43220.asp\" style=\"text-decoration:underline;\" title=\"ZIP Code 43220, COLUMBUS, OH\">ZIP Code 43220</a></td><td>Standard</td><td><a href=\"/county/oh-franklin.asp\">Franklin</a></td><td>24,989</td><td><a href=\"/area-code/area-code-614.asp\" title=\"Area Code 614\">614</a></td></tr><tr><td><a href=\"/zip-code/43221/zip-code-43221.asp\" style=\"text-decoration:underline;\" title=\"ZIP Code 43221, COLUMBUS, OH\">ZIP Code 43221</a></td><td>Standard</td><td><a href=\"/county/oh-franklin.asp\">Franklin</a></td><td>31,265</td><td><a href=\"/area-code/area-code-614.asp\" title=\"Area Code 614\">614</a></td></tr><tr><td><a href=\"/zip-code/43222/zip-code-43222.asp\" style=\"text-decoration:underline;\" title=\"ZIP Code 43222, COLUMBUS, OH\">ZIP Code 43222</a></td><td>Standard</td><td><a href=\"/county/oh-franklin.asp\">Franklin</a></td><td>4,617</td><td><a href=\"/area-code/area-code-614.asp\" title=\"Area Code 614\">614</a> / <a href=\"/area-code/area-code-380.asp\" title=\"Area Code 380\">380</a></td></tr><tr><td><a href=\"/zip-code/43223/zip-code-43223.asp\" style=\"text-decoration:underline;\" title=\"ZIP Code 43223, COLUMBUS, OH\">ZIP Code 43223</a></td><td>Standard</td><td><a href=\"/county/oh-franklin.asp\">Franklin</a></td><td>27,366</td><td><a href=\"/area-code/area-code-614.asp\" title=\"Area Code 614\">614</a></td></tr><tr><td><a href=\"/zip-code/43224/zip-code-43224.asp\" style=\"text-decoration:underline;\" title=\"ZIP Code 43224, COLUMBUS, OH\">ZIP Code 43224</a></td><td>Standard</td><td><a href=\"/county/oh-franklin.asp\">Franklin</a></td><td>38,699</td><td><a href=\"/area-code/area-code-614.asp\" title=\"Area Code 614\">614</a></td></tr><tr><td><a href=\"/zip-code/43226/zip-code-43226.asp\" style=\"text-decoration:underline;\" title=\"ZIP Code 43226, COLUMBUS, OH\">ZIP Code 43226</a></td><td>P.O. Box</td><td><a href=\"/county/oh-franklin.asp\">Franklin</a></td><td>0</td><td><a href=\"/area-code/area-code-614.asp\" title=\"Area Code 614\">614</a> / <a href=\"/area-code/area-code-380.asp\" title=\"Area Code 380\">380</a></td></tr><tr><td><a href=\"/zip-code/43227/zip-code-43227.asp\" style=\"text-decoration:underline;\" title=\"ZIP Code 43227, COLUMBUS, OH\">ZIP Code 43227</a></td><td>Standard</td><td><a href=\"/county/oh-franklin.asp\">Franklin</a></td><td>21,340</td><td><a href=\"/area-code/area-code-614.asp\" title=\"Area Code 614\">614</a></td></tr><tr><td><a href=\"/zip-code/43228/zip-code-43228.asp\" style=\"text-decoration:underline;\" title=\"ZIP Code 43228, COLUMBUS, OH\">ZIP Code 43228</a></td><td>Standard</td><td><a href=\"/county/oh-franklin.asp\">Franklin</a></td><td>50,737</td><td><a href=\"/area-code/area-code-614.asp\" title=\"Area Code 614\">614</a></td></tr><tr><td><a href=\"/zip-code/43229/zip-code-43229.asp\" style=\"text-decoration:underline;\" title=\"ZIP Code 43229, COLUMBUS, OH\">ZIP Code 43229</a></td><td>Standard</td><td><a href=\"/county/oh-franklin.asp\">Franklin</a></td><td>46,347</td><td><a href=\"/area-code/area-code-614.asp\" title=\"Area Code 614\">614</a> / <a href=\"/area-code/area-code-740.asp\" title=\"Area Code 740\">740</a></td></tr><tr><td><a href=\"/zip-code/43230/zip-code-43230.asp\" style=\"text-decoration:underline;\" title=\"ZIP Code 43230, COLUMBUS, OH\">ZIP Code 43230</a></td><td>Standard</td><td><a href=\"/county/oh-franklin.asp\">Franklin</a></td><td>51,161</td><td><a href=\"/area-code/area-code-614.asp\" title=\"Area Code 614\">614</a></td></tr><tr><td><a href=\"/zip-code/43231/zip-code-43231.asp\" style=\"text-decoration:underline;\" title=\"ZIP Code 43231, COLUMBUS, OH\">ZIP Code 43231</a></td><td>Standard</td><td><a href=\"/county/oh-franklin.asp\">Franklin</a></td><td>19,685</td><td><a href=\"/area-code/area-code-614.asp\" title=\"Area Code 614\">614</a></td></tr><tr><td><a href=\"/zip-code/43232/zip-code-43232.asp\" style=\"text-decoration:underline;\" title=\"ZIP Code 43232, COLUMBUS, OH\">ZIP Code 43232</a></td><td>Standard</td><td><a href=\"/county/oh-franklin.asp\">Franklin</a></td><td>42,201</td><td><a href=\"/area-code/area-code-614.asp\" title=\"Area Code 614\">614</a></td></tr><tr><td><a href=\"/zip-code/43234/zip-code-43234.asp\" style=\"text-decoration:underline;\" title=\"ZIP Code 43234, COLUMBUS, OH\">ZIP Code 43234</a></td><td>P.O. Box</td><td><a href=\"/county/oh-franklin.asp\">Franklin</a></td><td>0</td><td><a href=\"/area-code/area-code-614.asp\" title=\"Area Code 614\">614</a> / <a href=\"/area-code/area-code-380.asp\" title=\"Area Code 380\">380</a></td></tr><tr><td><a href=\"/zip-code/43235/zip-code-43235.asp\" style=\"text-decoration:underline;\" title=\"ZIP Code 43235, COLUMBUS, OH\">ZIP Code 43235</a></td><td>Standard</td><td><a href=\"/county/oh-franklin.asp\">Franklin</a></td><td>38,493</td><td><a href=\"/area-code/area-code-614.asp\" title=\"Area Code 614\">614</a></td></tr><tr><td><a href=\"/zip-code/43236/zip-code-43236.asp\" style=\"text-decoration:underline;\" title=\"ZIP Code 43236, COLUMBUS, OH\">ZIP Code 43236</a></td><td>P.O. Box</td><td><a href=\"/county/oh-franklin.asp\">Franklin</a></td><td>0</td><td><a href=\"/area-code/area-code-614.asp\" title=\"Area Code 614\">614</a> / <a href=\"/area-code/area-code-380.asp\" title=\"Area Code 380\">380</a></td></tr><tr><td><a href=\"/zip-code/43240/zip-code-43240.asp\" style=\"text-decoration:underline;\" title=\"ZIP Code 43240, COLUMBUS, OH\">ZIP Code 43240</a></td><td>Standard</td><td><a href=\"/county/oh-delaware.asp\">Delaware</a></td><td>3,469</td><td><a href=\"/area-code/area-code-614.asp\" title=\"Area Code 614\">614</a> / <a href=\"/area-code/area-code-740.asp\" title=\"Area Code 740\">740</a></td></tr><tr><td><a href=\"/zip-code/43251/zip-code-43251.asp\" style=\"text-decoration:underline;\" title=\"ZIP Code 43251, COLUMBUS, OH\">ZIP Code 43251</a></td><td>Unique</td><td><a href=\"/county/oh-franklin.asp\">Franklin</a></td><td>0</td><td><a href=\"/area-code/area-code-614.asp\" title=\"Area Code 614\">614</a> / <a href=\"/area-code/area-code-380.asp\" title=\"Area Code 380\">380</a></td></tr><tr><td><a href=\"/zip-code/43260/zip-code-43260.asp\" style=\"text-decoration:underline;\" title=\"ZIP Code 43260, COLUMBUS, OH\">ZIP Code 43260</a></td><td>Unique</td><td><a href=\"/county/oh-franklin.asp\">Franklin</a></td><td>0</td><td><a href=\"/area-code/area-code-614.asp\" title=\"Area Code 614\">614</a> / <a href=\"/area-code/area-code-380.asp\" title=\"Area Code 380\">380</a></td></tr><tr><td><a href=\"/zip-code/43266/zip-code-43266.asp\" style=\"text-decoration:underline;\" title=\"ZIP Code 43266, COLUMBUS, OH\">ZIP Code 43266</a></td><td>Unique</td><td><a href=\"/county/oh-franklin.asp\">Franklin</a></td><td>0</td><td><a href=\"/area-code/area-code-614.asp\" title=\"Area Code 614\">614</a> / <a href=\"/area-code/area-code-380.asp\" title=\"Area Code 380\">380</a></td></tr><tr><td><a href=\"/zip-code/43268/zip-code-43268.asp\" style=\"text-decoration:underline;\" title=\"ZIP Code 43268, COLUMBUS, OH\">ZIP Code 43268</a></td><td>Unique</td><td><a href=\"/county/oh-franklin.asp\">Franklin</a></td><td>0</td><td><a href=\"/area-code/area-code-614.asp\" title=\"Area Code 614\">614</a> / <a href=\"/area-code/area-code-380.asp\" title=\"Area Code 380\">380</a></td></tr><tr><td><a href=\"/zip-code/43270/zip-code-43270.asp\" style=\"text-decoration:underline;\" title=\"ZIP Code 43270, COLUMBUS, OH\">ZIP Code 43270</a></td><td>Unique</td><td><a href=\"/county/oh-franklin.asp\">Franklin</a></td><td>0</td><td><a href=\"/area-code/area-code-614.asp\" title=\"Area Code 614\">614</a> / <a href=\"/area-code/area-code-380.asp\" title=\"Area Code 380\">380</a></td></tr><tr><td><a href=\"/zip-code/43271/zip-code-43271.asp\" style=\"text-decoration:underline;\" title=\"ZIP Code 43271, COLUMBUS, OH\">ZIP Code 43271</a></td><td>Unique</td><td><a href=\"/county/oh-franklin.asp\">Franklin</a></td><td>0</td><td><a href=\"/area-code/area-code-614.asp\" title=\"Area Code 614\">614</a> / <a href=\"/area-code/area-code-380.asp\" title=\"Area Code 380\">380</a></td></tr><tr><td><a href=\"/zip-code/43272/zip-code-43272.asp\" style=\"text-decoration:underline;\" title=\"ZIP Code 43272, COLUMBUS, OH\">ZIP Code 43272</a></td><td>Unique</td><td><a href=\"/county/oh-franklin.asp\">Franklin</a></td><td>0</td><td><a href=\"/area-code/area-code-614.asp\" title=\"Area Code 614\">614</a> / <a href=\"/area-code/area-code-380.asp\" title=\"Area Code 380\">380</a></td></tr><tr><td><a href=\"/zip-code/43279/zip-code-43279.asp\" style=\"text-decoration:underline;\" title=\"ZIP Code 43279, COLUMBUS, OH\">ZIP Code 43279</a></td><td>Unique</td><td><a href=\"/county/oh-franklin.asp\">Franklin</a></td><td>0</td><td><a href=\"/area-code/area-code-614.asp\" title=\"Area Code 614\">614</a> / <a href=\"/area-code/area-code-380.asp\" title=\"Area Code 380\">380</a></td></tr><tr><td><a href=\"/zip-code/43287/zip-code-43287.asp\" style=\"text-decoration:underline;\" title=\"ZIP Code 43287, COLUMBUS, OH\">ZIP Code 43287</a></td><td>Unique</td><td><a href=\"/county/oh-franklin.asp\">Franklin</a></td><td>0</td><td><a href=\"/area-code/area-code-614.asp\" title=\"Area Code 614\">614</a> / <a href=\"/area-code/area-code-380.asp\" title=\"Area Code 380\">380</a></td></tr><tr><td><a href=\"/zip-code/43291/zip-code-43291.asp\" style=\"text-decoration:underline;\" title=\"ZIP Code 43291, COLUMBUS, OH\">ZIP Code 43291</a></td><td>Unique</td><td><a href=\"/county/oh-franklin.asp\">Franklin</a></td><td>0</td><td><a href=\"/area-code/area-code-614.asp\" title=\"Area Code 614\">614</a> / <a href=\"/area-code/area-code-380.asp\" title=\"Area Code 380\">380</a></td></tr></table>\n"
     ]
    }
   ],
   "source": [
    "if response.status_code == 200:\n",
    "    soup = BeautifulSoup(response.text, 'html.parser')\n",
    "    tbl = soup.table.tr.find_all('td')[1].find_all('table')[1]\n",
    "    print(tbl)"
   ]
  },
  {
   "cell_type": "markdown",
   "metadata": {},
   "source": [
    "function to help web scrape zip code information"
   ]
  },
  {
   "cell_type": "code",
   "execution_count": 7,
   "metadata": {},
   "outputs": [],
   "source": [
    "# @TODO: Fix zip info extraction method.\n",
    "# utilize when using the table the [0-4] table \n",
    "# BeautifulSoup(response.text, 'html.parser').table.tr.find_all('td')[1].find_all('table')\n",
    "def zip_info(response):\n",
    "    page = BeautifulSoup(response.text, 'html.parser').find_all(\"table\", class_=\"statTable\")\n",
    "    #print(page)\n",
    "    dict = {}\n",
    "    for table in page:\n",
    "        for row in table.find_all('tr'):\n",
    "            dict[row.find_all('td')[0].string] = row.find_all('td')[1].string        \n",
    "    return dict"
   ]
  },
  {
   "cell_type": "markdown",
   "metadata": {},
   "source": [
    "Parses through and gathers data"
   ]
  },
  {
   "cell_type": "code",
   "execution_count": 8,
   "metadata": {
    "tags": []
   },
   "outputs": [
    {
     "name": "stdout",
     "output_type": "stream",
     "text": [
      "43081\n",
      "43085\n",
      "43201\n",
      "43202\n",
      "43203\n",
      "43204\n",
      "43205\n",
      "43206\n",
      "43207\n",
      "43209\n",
      "43210\n",
      "43211\n",
      "43212\n",
      "43213\n",
      "43214\n",
      "43215\n",
      "43217\n",
      "43219\n",
      "43220\n",
      "43221\n",
      "43222\n",
      "43223\n",
      "43224\n",
      "43227\n",
      "43228\n",
      "43229\n",
      "43230\n",
      "43231\n",
      "43232\n",
      "43235\n",
      "43240\n",
      "31\n",
      "   # Business Mailboxes: # Residential Mailboxes: # of Employees:  \\\n",
      "0                  1,389                   27,735          28,811   \n",
      "1                  1,083                   10,616          18,013   \n",
      "2                    798                   17,908           9,974   \n",
      "3                    396                   10,553           5,133   \n",
      "4                    213                    4,353           1,198   \n",
      "5                    844                   17,802           9,930   \n",
      "6                    460                    5,945          15,488   \n",
      "7                    488                   11,052           6,408   \n",
      "8                  1,162                   19,069          18,937   \n",
      "9                    530                   12,032           6,965   \n",
      "10                   266                      325          10,769   \n",
      "11                   449                    9,001           3,287   \n",
      "12                 1,028                   13,247          19,020   \n",
      "13                 1,284                   15,238          18,820   \n",
      "14                 1,072                   13,730          21,545   \n",
      "15                 2,770                   12,245          74,570   \n",
      "16                    65                      883           1,485   \n",
      "17                 1,556                   12,222          50,742   \n",
      "18                   912                   12,981          11,175   \n",
      "19                   604                   14,567           6,828   \n",
      "20                   236                    1,688           8,135   \n",
      "21                   625                   10,426           7,522   \n",
      "22                   636                   17,802           4,721   \n",
      "23                   334                    9,720           2,866   \n",
      "24                 1,608                   24,001          37,475   \n",
      "25                 1,558                   21,400          24,330   \n",
      "26                 1,341                   24,856          23,504   \n",
      "27                   675                    8,714          10,996   \n",
      "28                   944                   18,889          10,050   \n",
      "29                 1,072                   20,621          21,507   \n",
      "30                   648                    3,346          25,220   \n",
      "\n",
      "   113th Congressional District: 113th Congressional Land Area:  \\\n",
      "0                          03|12              228|2271.91 sq mi   \n",
      "1                          03|12              228|2271.91 sq mi   \n",
      "2                       03|12|15      228|2271.91|4738.93 sq mi   \n",
      "3                          03|12              228|2271.91 sq mi   \n",
      "4                             03                      228 sq mi   \n",
      "5                          03|15              228|4738.93 sq mi   \n",
      "6                             03                      228 sq mi   \n",
      "7                          03|15              228|4738.93 sq mi   \n",
      "8                          03|15              228|4738.93 sq mi   \n",
      "9                             03                      228 sq mi   \n",
      "10                         03|15              228|4738.93 sq mi   \n",
      "11                            03                      228 sq mi   \n",
      "12                         03|15              228|4738.93 sq mi   \n",
      "13                            03                      228 sq mi   \n",
      "14                         03|12              228|2271.91 sq mi   \n",
      "15                         03|15              228|4738.93 sq mi   \n",
      "16                      03|12|15      228|2271.91|4738.93 sq mi   \n",
      "17                         03|12              228|2271.91 sq mi   \n",
      "18                         12|15          2271.91|4738.93 sq mi   \n",
      "19                      03|12|15      228|2271.91|4738.93 sq mi   \n",
      "20                         03|15              228|4738.93 sq mi   \n",
      "21                         03|15              228|4738.93 sq mi   \n",
      "22                            03                      228 sq mi   \n",
      "23                            03                      228 sq mi   \n",
      "24                         03|15              228|4738.93 sq mi   \n",
      "25                         03|12              228|2271.91 sq mi   \n",
      "26                         03|12              228|2271.91 sq mi   \n",
      "27                            03                      228 sq mi   \n",
      "28                            03                      228 sq mi   \n",
      "29                      03|12|15      228|2271.91|4738.93 sq mi   \n",
      "30                         03|12              228|2271.91 sq mi   \n",
      "\n",
      "   1st Quarter Payroll: 2010 Population:   65+: American Indian Population:  \\\n",
      "0          $396,493,000           55,991  7,780                         440   \n",
      "1          $214,132,000           23,258  3,350                         137   \n",
      "2          $110,918,000           35,495    655                         282   \n",
      "3           $58,630,000           20,251    895                         206   \n",
      "4            $8,800,000            8,108    700                         138   \n",
      "5          $120,868,000           42,104  3,980                         662   \n",
      "6          $247,412,000           12,272    950                         201   \n",
      "7           $77,100,000           21,864  2,030                         309   \n",
      "8          $206,110,000           45,144  5,720                         648   \n",
      "9           $55,635,000           27,228  3,565                         226   \n",
      "10         $158,937,000            9,432      0                          29   \n",
      "11          $31,961,000           21,600  1,935                         337   \n",
      "12         $223,888,000           18,551  1,645                         138   \n",
      "13         $194,587,000           30,444  4,380                         447   \n",
      "14         $277,646,000           24,650  3,805                         161   \n",
      "15       $1,658,727,000           12,790  1,045                         134   \n",
      "16          $20,114,000            2,602     85                          25   \n",
      "17         $904,668,000           27,123  2,905                         371   \n",
      "18         $121,584,000           24,989  3,645                         140   \n",
      "19          $66,813,000           31,265  3,930                         178   \n",
      "20          $96,119,000            4,617    400                          77   \n",
      "21          $70,602,000           27,366  2,485                         370   \n",
      "22          $30,233,000           38,699  3,645                         447   \n",
      "23          $25,158,000           21,340  2,680                         259   \n",
      "24         $440,252,000           50,737  4,810                         568   \n",
      "25         $224,121,000           46,347  4,610                         496   \n",
      "26         $293,109,000           51,161  6,430                         446   \n",
      "27         $113,936,000           19,685  1,765                         191   \n",
      "28          $80,619,000           42,201  4,145                         518   \n",
      "29         $236,796,000           38,493  5,255                         210   \n",
      "30         $556,702,000            3,469    405                          20   \n",
      "\n",
      "   Annual Payroll:  ...     State:            Time Zone: Total Beneficiaries:  \\\n",
      "0   $1,492,455,000  ...  OH [Ohio]  Eastern (GMT -05:00)                9,445   \n",
      "1     $880,065,000  ...  OH [Ohio]  Eastern (GMT -05:00)                4,185   \n",
      "2     $441,162,000  ...  OH [Ohio]  Eastern (GMT -05:00)                1,205   \n",
      "3     $243,004,000  ...  OH [Ohio]  Eastern (GMT -05:00)                1,150   \n",
      "4      $38,071,000  ...  OH [Ohio]  Eastern (GMT -05:00)                1,145   \n",
      "5     $487,286,000  ...  OH [Ohio]  Eastern (GMT -05:00)                6,390   \n",
      "6     $933,749,000  ...  OH [Ohio]  Eastern (GMT -05:00)                1,675   \n",
      "7     $274,858,000  ...  OH [Ohio]  Eastern (GMT -05:00)                3,755   \n",
      "8     $844,809,000  ...  OH [Ohio]  Eastern (GMT -05:00)                9,140   \n",
      "9     $230,119,000  ...  OH [Ohio]  Eastern (GMT -05:00)                4,430   \n",
      "10    $654,512,000  ...  OH [Ohio]  Eastern (GMT -05:00)                    0   \n",
      "11    $132,663,000  ...  OH [Ohio]  Eastern (GMT -05:00)                3,670   \n",
      "12    $888,761,000  ...  OH [Ohio]  Eastern (GMT -05:00)                1,945   \n",
      "13    $772,845,000  ...  OH [Ohio]  Eastern (GMT -05:00)                6,235   \n",
      "14  $1,122,554,000  ...  OH [Ohio]  Eastern (GMT -05:00)                4,465   \n",
      "15  $5,734,149,000  ...  OH [Ohio]  Eastern (GMT -05:00)                1,555   \n",
      "16     $77,661,000  ...  OH [Ohio]  Eastern (GMT -05:00)                  190   \n",
      "17  $3,154,584,000  ...  OH [Ohio]  Eastern (GMT -05:00)                4,295   \n",
      "18    $505,409,000  ...  OH [Ohio]  Eastern (GMT -05:00)                4,170   \n",
      "19    $277,075,000  ...  OH [Ohio]  Eastern (GMT -05:00)                4,540   \n",
      "20    $409,236,000  ...  OH [Ohio]  Eastern (GMT -05:00)                  795   \n",
      "21    $314,838,000  ...  OH [Ohio]  Eastern (GMT -05:00)                4,790   \n",
      "22    $131,310,000  ...  OH [Ohio]  Eastern (GMT -05:00)                5,765   \n",
      "23    $102,651,000  ...  OH [Ohio]  Eastern (GMT -05:00)                4,340   \n",
      "24  $1,703,340,000  ...  OH [Ohio]  Eastern (GMT -05:00)                7,285   \n",
      "25    $927,738,000  ...  OH [Ohio]  Eastern (GMT -05:00)                6,580   \n",
      "26  $1,138,008,000  ...  OH [Ohio]  Eastern (GMT -05:00)                8,110   \n",
      "27    $455,675,000  ...  OH [Ohio]  Eastern (GMT -05:00)                2,585   \n",
      "28    $337,561,000  ...  OH [Ohio]  Eastern (GMT -05:00)                6,790   \n",
      "29    $942,105,000  ...  OH [Ohio]  Eastern (GMT -05:00)                6,125   \n",
      "30  $1,696,669,000  ...  OH [Ohio]  Eastern (GMT -05:00)                  490   \n",
      "\n",
      "   Total Delivery Receptacles:  Water Area: White Population:  \\\n",
      "0                       29,087  1.131 sq mi            47,805   \n",
      "1                       12,227  0.084 sq mi            20,891   \n",
      "2                       18,945      0 sq mi            27,369   \n",
      "3                       12,305  0.059 sq mi            17,151   \n",
      "4                        4,767      0 sq mi             1,160   \n",
      "5                       19,293  0.316 sq mi            32,905   \n",
      "6                        9,024   0.02 sq mi             3,235   \n",
      "7                       11,846  0.001 sq mi            11,584   \n",
      "8                       20,752  0.971 sq mi            31,582   \n",
      "9                       15,296  0.091 sq mi            19,355   \n",
      "10                       1,907  0.072 sq mi             7,554   \n",
      "11                       9,739  0.014 sq mi             6,376   \n",
      "12                      14,781  0.064 sq mi            17,015   \n",
      "13                      18,766  0.092 sq mi            17,210   \n",
      "14                      18,745  0.082 sq mi            22,734   \n",
      "15                      15,132  0.565 sq mi             9,735   \n",
      "16                         938      0 sq mi             2,121   \n",
      "17                      13,303  0.127 sq mi             5,450   \n",
      "18                      17,513  0.142 sq mi            21,167   \n",
      "19                      18,890  0.344 sq mi            29,068   \n",
      "20                       3,866  0.055 sq mi             3,573   \n",
      "21                      11,203  0.803 sq mi            20,559   \n",
      "22                      20,135  0.042 sq mi            20,313   \n",
      "23                      10,401  0.009 sq mi             6,612   \n",
      "24                      26,985  0.179 sq mi            36,572   \n",
      "25                      33,802   0.06 sq mi            24,104   \n",
      "26                      32,585  0.337 sq mi            41,049   \n",
      "27                      16,460  0.047 sq mi            11,367   \n",
      "28                      22,817  0.207 sq mi            17,375   \n",
      "29                      21,572  0.249 sq mi            32,588   \n",
      "30                       3,599  0.003 sq mi             2,705   \n",
      "\n",
      "   Widow(er)s and Parents: Zip Code:       City Alias(es) To Avoid Using:  \n",
      "0                      600     43081  2018                            NaN  \n",
      "1                      240     43085  2018                            NaN  \n",
      "2                       50     43201  2018                            NaN  \n",
      "3                       60     43202  2018                            NaN  \n",
      "4                       75     43203  2018                            NaN  \n",
      "5                      435     43204  2018                            NaN  \n",
      "6                       85     43205  2018                            NaN  \n",
      "7                      200     43206  2018                            NaN  \n",
      "8                      785     43207  2018                            NaN  \n",
      "9                      270     43209  2018                            NaN  \n",
      "10                       0     43210  2018                            NaN  \n",
      "11                     270     43211  2018                            NaN  \n",
      "12                     125     43212  2018                            NaN  \n",
      "13                     450     43213  2018                            NaN  \n",
      "14                     310     43214  2018                            NaN  \n",
      "15                      95     43215  2018                            NaN  \n",
      "16                      15     43217  2018    Rickenbacker Air Force Base  \n",
      "17                     290     43219  2018                            NaN  \n",
      "18                     270     43220  2018                            NaN  \n",
      "19                     280     43221  2018                            NaN  \n",
      "20                      65     43222  2018                            NaN  \n",
      "21                     355     43223  2018                            NaN  \n",
      "22                     340     43224  2018                            NaN  \n",
      "23                     245     43227  2018                            NaN  \n",
      "24                     500     43228  2018                            NaN  \n",
      "25                     440     43229  2018                            NaN  \n",
      "26                     555     43230  2018                            NaN  \n",
      "27                     155     43231  2018                            NaN  \n",
      "28                     395     43232  2018                            NaN  \n",
      "29                     410     43235  2018                            NaN  \n",
      "30                      25     43240  2018                            NaN  \n",
      "\n",
      "[31 rows x 75 columns]\n"
     ]
    }
   ],
   "source": [
    "i=0\n",
    "zip_info_df = pd.DataFrame()\n",
    "zip_url = '/zip-code/{}/zip-code-{}.asp'\n",
    "for row in tbl.find_all('tr'):\n",
    "    #checks for header\n",
    "    if row.find_all('td')[0].string != 'ZIP Code':\n",
    "        if row.find_all('td')[1].string == 'Standard':\n",
    "            zip_code = row.find_all('td')[0].string.strip(\" ZIPCode\")\n",
    "            print(zip_code)\n",
    "            #coded just to make sure that we can access the website\n",
    "            accessed = False\n",
    "            while accessed == False:\n",
    "                try:\n",
    "                    zip_response = requests.get(url.format(zip_url.format(zip_code,zip_code)))\n",
    "                    accessed = True\n",
    "                    i+=1\n",
    "                    zip_dict = zip_info(zip_response)\n",
    "                    zip_info_df = zip_info_df.append(zip_dict, ignore_index=True)\n",
    "                except:\n",
    "                    accessed = False\n",
    "print(i)\n",
    "print(zip_info_df)\n",
    "# reads in all zip code responses"
   ]
  },
  {
   "cell_type": "code",
   "execution_count": 16,
   "metadata": {},
   "outputs": [
    {
     "data": {
      "text/plain": [
       "Index(['# Business Mailboxes:', '# Residential Mailboxes:', '# of Employees:',\n",
       "       '113th Congressional District:', '113th Congressional Land Area:',\n",
       "       '1st Quarter Payroll:', '2010 Population:', '65+:',\n",
       "       'American Indian Population:', 'Annual Payroll:', 'Area Code:',\n",
       "       'Asian Population:', 'Average House Value:',\n",
       "       'Avg. Income Per Household:', 'Black Population:',\n",
       "       'CBSA Division Name:', 'CBSA Division Population:', 'CBSA Division:',\n",
       "       'CBSA Name:', 'CBSA Population:', 'CBSA Type:', 'CBSA:', 'Children:',\n",
       "       'City Alias(es):', 'City State Key:', 'City Type:', 'City:',\n",
       "       'Classification:', 'Counties:', 'County FIPS:', 'Current Population:',\n",
       "       'Disabled Workers:', 'Division:', 'Elevation:', 'Female Median Age:',\n",
       "       'Female Population:', 'Hawaiian Population:', 'Hispanic Population:',\n",
       "       'Households per ZIP Code:', 'Intro Date:', 'Land Area:', 'Latitude:',\n",
       "       'Longitude:', 'MSA Name:', 'MSA:', 'Male Median Age:',\n",
       "       'Male Population:', 'Median Age:', 'Monthly Benefits - All:',\n",
       "       'Monthly Benefits - Retired Workers:', 'Monthly Benefits - Widow(ers):',\n",
       "       'Multi County:', 'Multi Family Delivery Units:',\n",
       "       'Number of Businesses:', 'Observes Day Light Savings:',\n",
       "       'Other Population:', 'PMSA Name:', 'PMSA:', 'Persons Per Household:',\n",
       "       'Preferred Last Line Key:', 'Region:', 'Retired Workers:',\n",
       "       'Single Family Delivery Units:', 'Spouses:', 'State FIPS:', 'State:',\n",
       "       'Time Zone:', 'Total Beneficiaries:', 'Total Delivery Receptacles:',\n",
       "       'Water Area:', 'White Population:', 'Widow(er)s and Parents:',\n",
       "       'Zip Code:', ' ', 'City Alias(es) To Avoid Using:'],\n",
       "      dtype='object')"
      ]
     },
     "execution_count": 16,
     "metadata": {},
     "output_type": "execute_result"
    }
   ],
   "source": [
    "zip_info_df.dtypes\n",
    "zip_info_df.columns"
   ]
  },
  {
   "cell_type": "markdown",
   "metadata": {},
   "source": [
    "## Location data for Hospitals and Pharmacies"
   ]
  },
  {
   "cell_type": "markdown",
   "metadata": {},
   "source": [
    "Get relevant packages"
   ]
  },
  {
   "cell_type": "code",
   "execution_count": 12,
   "metadata": {
    "tags": []
   },
   "outputs": [
    {
     "name": "stdout",
     "output_type": "stream",
     "text": [
      "Folium installed\n",
      "Libraries imported.\n"
     ]
    }
   ],
   "source": [
    "import requests # library to handle requests\n",
    "import pandas as pd # library for data analsysis\n",
    "import numpy as np # library to handle data in a vectorized manner\n",
    "import random # library for random number generation\n",
    "\n",
    "# !conda install -c conda-forge geopy --yes \n",
    "from geopy.geocoders import Nominatim # module to convert an address into latitude and longitude values\n",
    "\n",
    "# libraries for displaying images\n",
    "from IPython.display import Image \n",
    "from IPython.core.display import HTML \n",
    "    \n",
    "# tranforming json file into a pandas dataframe library\n",
    "from pandas.io.json import json_normalize\n",
    "\n",
    "# !conda install -c conda-forge folium=0.5.0 --yes\n",
    "import folium # plotting library\n",
    "\n",
    "print('Folium installed')\n",
    "print('Libraries imported.')"
   ]
  },
  {
   "cell_type": "markdown",
   "metadata": {},
   "source": [
    "Credentials for foursquare_API"
   ]
  },
  {
   "cell_type": "code",
   "execution_count": 17,
   "metadata": {
    "tags": []
   },
   "outputs": [
    {
     "name": "stdout",
     "output_type": "stream",
     "text": [
      "Your credentails:\n",
      "CLIENT_ID: 3PRTA5P0AY2A12Z51Z1UHCZH124K5AYLU4PGQHQ0BMCV5FWD\n",
      "CLIENT_SECRET:JOQYBGLRRR0QNOYE43VOVALU1DFGK4TGSR23SS3J53X2G4JW\n"
     ]
    }
   ],
   "source": [
    "# @hidden_cell\n",
    "CLIENT_ID = '3PRTA5P0AY2A12Z51Z1UHCZH124K5AYLU4PGQHQ0BMCV5FWD' # your Foursquare ID\n",
    "CLIENT_SECRET = 'JOQYBGLRRR0QNOYE43VOVALU1DFGK4TGSR23SS3J53X2G4JW' # your Foursquare Secret\n",
    "VERSION = '20180604'\n",
    "LIMIT = 60\n",
    "print('Your credentails:')\n",
    "print('CLIENT_ID: ' + CLIENT_ID)\n",
    "print('CLIENT_SECRET:' + CLIENT_SECRET)"
   ]
  },
  {
   "cell_type": "markdown",
   "metadata": {},
   "source": [
    "Information for using foursquare API "
   ]
  },
  {
   "cell_type": "code",
   "execution_count": 19,
   "metadata": {},
   "outputs": [
    {
     "data": {
      "text/plain": [
       "Index([], dtype='object')"
      ]
     },
     "execution_count": 19,
     "metadata": {},
     "output_type": "execute_result"
    }
   ],
   "source": [
    "zip_info_df.columns"
   ]
  },
  {
   "cell_type": "code",
   "execution_count": 18,
   "metadata": {},
   "outputs": [
    {
     "ename": "KeyError",
     "evalue": "\"None of [Index(['Latitude:', 'Longitude:'], dtype='object')] are in the [columns]\"",
     "output_type": "error",
     "traceback": [
      "\u001b[1;31m---------------------------------------------------------------------------\u001b[0m",
      "\u001b[1;31mKeyError\u001b[0m                                  Traceback (most recent call last)",
      "\u001b[1;32m<ipython-input-18-ae44bf77e847>\u001b[0m in \u001b[0;36m<module>\u001b[1;34m\u001b[0m\n\u001b[0;32m      1\u001b[0m \u001b[0mCAT_IDs\u001b[0m \u001b[1;33m=\u001b[0m \u001b[1;33m{\u001b[0m\u001b[1;34m'Hospital'\u001b[0m\u001b[1;33m:\u001b[0m\u001b[1;34m'4bf58dd8d48988d196941735'\u001b[0m\u001b[1;33m,\u001b[0m \u001b[1;34m'Pharmacy'\u001b[0m\u001b[1;33m:\u001b[0m \u001b[1;34m'4bf58dd8d48988d10f951735'\u001b[0m\u001b[1;33m}\u001b[0m\u001b[1;33m\u001b[0m\u001b[1;33m\u001b[0m\u001b[0m\n\u001b[1;32m----> 2\u001b[1;33m \u001b[0mgeo_coords\u001b[0m \u001b[1;33m=\u001b[0m \u001b[0mzip_info_df\u001b[0m\u001b[1;33m[\u001b[0m\u001b[1;33m[\u001b[0m\u001b[1;34m'Latitude:'\u001b[0m\u001b[1;33m,\u001b[0m\u001b[1;34m'Longitude:'\u001b[0m\u001b[1;33m]\u001b[0m\u001b[1;33m]\u001b[0m\u001b[1;33m\u001b[0m\u001b[1;33m\u001b[0m\u001b[0m\n\u001b[0m\u001b[0;32m      3\u001b[0m \u001b[0mradius\u001b[0m \u001b[1;33m=\u001b[0m \u001b[1;36m10000\u001b[0m \u001b[1;31m#about 6.2 miles\u001b[0m\u001b[1;33m\u001b[0m\u001b[1;33m\u001b[0m\u001b[0m\n",
      "\u001b[1;32m~\\AppData\\Local\\Programs\\Python\\Python38-32\\lib\\site-packages\\pandas\\core\\frame.py\u001b[0m in \u001b[0;36m__getitem__\u001b[1;34m(self, key)\u001b[0m\n\u001b[0;32m   2906\u001b[0m             \u001b[1;32mif\u001b[0m \u001b[0mis_iterator\u001b[0m\u001b[1;33m(\u001b[0m\u001b[0mkey\u001b[0m\u001b[1;33m)\u001b[0m\u001b[1;33m:\u001b[0m\u001b[1;33m\u001b[0m\u001b[1;33m\u001b[0m\u001b[0m\n\u001b[0;32m   2907\u001b[0m                 \u001b[0mkey\u001b[0m \u001b[1;33m=\u001b[0m \u001b[0mlist\u001b[0m\u001b[1;33m(\u001b[0m\u001b[0mkey\u001b[0m\u001b[1;33m)\u001b[0m\u001b[1;33m\u001b[0m\u001b[1;33m\u001b[0m\u001b[0m\n\u001b[1;32m-> 2908\u001b[1;33m             \u001b[0mindexer\u001b[0m \u001b[1;33m=\u001b[0m \u001b[0mself\u001b[0m\u001b[1;33m.\u001b[0m\u001b[0mloc\u001b[0m\u001b[1;33m.\u001b[0m\u001b[0m_get_listlike_indexer\u001b[0m\u001b[1;33m(\u001b[0m\u001b[0mkey\u001b[0m\u001b[1;33m,\u001b[0m \u001b[0maxis\u001b[0m\u001b[1;33m=\u001b[0m\u001b[1;36m1\u001b[0m\u001b[1;33m,\u001b[0m \u001b[0mraise_missing\u001b[0m\u001b[1;33m=\u001b[0m\u001b[1;32mTrue\u001b[0m\u001b[1;33m)\u001b[0m\u001b[1;33m[\u001b[0m\u001b[1;36m1\u001b[0m\u001b[1;33m]\u001b[0m\u001b[1;33m\u001b[0m\u001b[1;33m\u001b[0m\u001b[0m\n\u001b[0m\u001b[0;32m   2909\u001b[0m \u001b[1;33m\u001b[0m\u001b[0m\n\u001b[0;32m   2910\u001b[0m         \u001b[1;31m# take() does not accept boolean indexers\u001b[0m\u001b[1;33m\u001b[0m\u001b[1;33m\u001b[0m\u001b[1;33m\u001b[0m\u001b[0m\n",
      "\u001b[1;32m~\\AppData\\Local\\Programs\\Python\\Python38-32\\lib\\site-packages\\pandas\\core\\indexing.py\u001b[0m in \u001b[0;36m_get_listlike_indexer\u001b[1;34m(self, key, axis, raise_missing)\u001b[0m\n\u001b[0;32m   1252\u001b[0m             \u001b[0mkeyarr\u001b[0m\u001b[1;33m,\u001b[0m \u001b[0mindexer\u001b[0m\u001b[1;33m,\u001b[0m \u001b[0mnew_indexer\u001b[0m \u001b[1;33m=\u001b[0m \u001b[0max\u001b[0m\u001b[1;33m.\u001b[0m\u001b[0m_reindex_non_unique\u001b[0m\u001b[1;33m(\u001b[0m\u001b[0mkeyarr\u001b[0m\u001b[1;33m)\u001b[0m\u001b[1;33m\u001b[0m\u001b[1;33m\u001b[0m\u001b[0m\n\u001b[0;32m   1253\u001b[0m \u001b[1;33m\u001b[0m\u001b[0m\n\u001b[1;32m-> 1254\u001b[1;33m         \u001b[0mself\u001b[0m\u001b[1;33m.\u001b[0m\u001b[0m_validate_read_indexer\u001b[0m\u001b[1;33m(\u001b[0m\u001b[0mkeyarr\u001b[0m\u001b[1;33m,\u001b[0m \u001b[0mindexer\u001b[0m\u001b[1;33m,\u001b[0m \u001b[0maxis\u001b[0m\u001b[1;33m,\u001b[0m \u001b[0mraise_missing\u001b[0m\u001b[1;33m=\u001b[0m\u001b[0mraise_missing\u001b[0m\u001b[1;33m)\u001b[0m\u001b[1;33m\u001b[0m\u001b[1;33m\u001b[0m\u001b[0m\n\u001b[0m\u001b[0;32m   1255\u001b[0m         \u001b[1;32mreturn\u001b[0m \u001b[0mkeyarr\u001b[0m\u001b[1;33m,\u001b[0m \u001b[0mindexer\u001b[0m\u001b[1;33m\u001b[0m\u001b[1;33m\u001b[0m\u001b[0m\n\u001b[0;32m   1256\u001b[0m \u001b[1;33m\u001b[0m\u001b[0m\n",
      "\u001b[1;32m~\\AppData\\Local\\Programs\\Python\\Python38-32\\lib\\site-packages\\pandas\\core\\indexing.py\u001b[0m in \u001b[0;36m_validate_read_indexer\u001b[1;34m(self, key, indexer, axis, raise_missing)\u001b[0m\n\u001b[0;32m   1296\u001b[0m             \u001b[1;32mif\u001b[0m \u001b[0mmissing\u001b[0m \u001b[1;33m==\u001b[0m \u001b[0mlen\u001b[0m\u001b[1;33m(\u001b[0m\u001b[0mindexer\u001b[0m\u001b[1;33m)\u001b[0m\u001b[1;33m:\u001b[0m\u001b[1;33m\u001b[0m\u001b[1;33m\u001b[0m\u001b[0m\n\u001b[0;32m   1297\u001b[0m                 \u001b[0maxis_name\u001b[0m \u001b[1;33m=\u001b[0m \u001b[0mself\u001b[0m\u001b[1;33m.\u001b[0m\u001b[0mobj\u001b[0m\u001b[1;33m.\u001b[0m\u001b[0m_get_axis_name\u001b[0m\u001b[1;33m(\u001b[0m\u001b[0maxis\u001b[0m\u001b[1;33m)\u001b[0m\u001b[1;33m\u001b[0m\u001b[1;33m\u001b[0m\u001b[0m\n\u001b[1;32m-> 1298\u001b[1;33m                 \u001b[1;32mraise\u001b[0m \u001b[0mKeyError\u001b[0m\u001b[1;33m(\u001b[0m\u001b[1;34mf\"None of [{key}] are in the [{axis_name}]\"\u001b[0m\u001b[1;33m)\u001b[0m\u001b[1;33m\u001b[0m\u001b[1;33m\u001b[0m\u001b[0m\n\u001b[0m\u001b[0;32m   1299\u001b[0m \u001b[1;33m\u001b[0m\u001b[0m\n\u001b[0;32m   1300\u001b[0m             \u001b[1;31m# We (temporarily) allow for some missing keys with .loc, except in\u001b[0m\u001b[1;33m\u001b[0m\u001b[1;33m\u001b[0m\u001b[1;33m\u001b[0m\u001b[0m\n",
      "\u001b[1;31mKeyError\u001b[0m: \"None of [Index(['Latitude:', 'Longitude:'], dtype='object')] are in the [columns]\""
     ]
    }
   ],
   "source": [
    "CAT_IDs = {'Hospital':'4bf58dd8d48988d196941735', 'Pharmacy': '4bf58dd8d48988d10f951735'}\n",
    "geo_coords = zip_info_df[['Latitude:','Longitude:']]\n",
    "radius = 10000 #about 6.2 miles"
   ]
  },
  {
   "cell_type": "markdown",
   "metadata": {},
   "source": [
    "Create parameters that are not hidden"
   ]
  },
  {
   "cell_type": "code",
   "execution_count": 20,
   "metadata": {},
   "outputs": [
    {
     "data": {
      "text/plain": [
       "'https://api.foursquare.com/v2/venues/search?client_id={}&client_secret={}&ll={},{}&categoryId={}&v={}&radius={}&limit={}'"
      ]
     },
     "execution_count": 20,
     "metadata": {},
     "output_type": "execute_result"
    }
   ],
   "source": [
    "url = 'https://api.foursquare.com/v2/venues/search?client_id={}&client_secret={}&ll={},{}&categoryId={}&v={}&radius={}&limit={}'\n",
    "url"
   ]
  },
  {
   "cell_type": "markdown",
   "metadata": {},
   "source": [
    "Grabs data for all hospitals and pharmacies"
   ]
  },
  {
   "cell_type": "code",
   "execution_count": 21,
   "metadata": {},
   "outputs": [
    {
     "ename": "NameError",
     "evalue": "name 'geo_coords' is not defined",
     "output_type": "error",
     "traceback": [
      "\u001b[1;31m---------------------------------------------------------------------------\u001b[0m",
      "\u001b[1;31mNameError\u001b[0m                                 Traceback (most recent call last)",
      "\u001b[1;32m<ipython-input-21-c214156c1376>\u001b[0m in \u001b[0;36m<module>\u001b[1;34m\u001b[0m\n\u001b[0;32m      2\u001b[0m \u001b[1;31m# Hospital and Pharmacy Data Frame\u001b[0m\u001b[1;33m\u001b[0m\u001b[1;33m\u001b[0m\u001b[1;33m\u001b[0m\u001b[0m\n\u001b[0;32m      3\u001b[0m \u001b[0mhp_df\u001b[0m \u001b[1;33m=\u001b[0m \u001b[0mpd\u001b[0m\u001b[1;33m.\u001b[0m\u001b[0mDataFrame\u001b[0m\u001b[1;33m(\u001b[0m\u001b[1;33m)\u001b[0m\u001b[1;33m\u001b[0m\u001b[1;33m\u001b[0m\u001b[0m\n\u001b[1;32m----> 4\u001b[1;33m \u001b[1;32mwhile\u001b[0m \u001b[0mi\u001b[0m\u001b[1;33m<\u001b[0m\u001b[0mlen\u001b[0m\u001b[1;33m(\u001b[0m\u001b[0mgeo_coords\u001b[0m\u001b[1;33m)\u001b[0m\u001b[1;33m:\u001b[0m\u001b[1;33m\u001b[0m\u001b[1;33m\u001b[0m\u001b[0m\n\u001b[0m\u001b[0;32m      5\u001b[0m     \u001b[0mlat\u001b[0m \u001b[1;33m=\u001b[0m \u001b[0mgeo_coords\u001b[0m\u001b[1;33m.\u001b[0m\u001b[0miloc\u001b[0m\u001b[1;33m[\u001b[0m\u001b[0mi\u001b[0m\u001b[1;33m]\u001b[0m\u001b[1;33m[\u001b[0m\u001b[1;34m'Latitude:'\u001b[0m\u001b[1;33m]\u001b[0m\u001b[1;33m\u001b[0m\u001b[1;33m\u001b[0m\u001b[0m\n\u001b[0;32m      6\u001b[0m     \u001b[0mlong\u001b[0m \u001b[1;33m=\u001b[0m \u001b[0mgeo_coords\u001b[0m\u001b[1;33m.\u001b[0m\u001b[0miloc\u001b[0m\u001b[1;33m[\u001b[0m\u001b[0mi\u001b[0m\u001b[1;33m]\u001b[0m\u001b[1;33m[\u001b[0m\u001b[1;34m'Longitude:'\u001b[0m\u001b[1;33m]\u001b[0m\u001b[1;33m\u001b[0m\u001b[1;33m\u001b[0m\u001b[0m\n",
      "\u001b[1;31mNameError\u001b[0m: name 'geo_coords' is not defined"
     ]
    }
   ],
   "source": [
    "i=0\n",
    "# Hospital and Pharmacy Data Frame\n",
    "hp_df = pd.DataFrame()\n",
    "while i<len(geo_coords): \n",
    "    lat = geo_coords.iloc[i]['Latitude:']\n",
    "    long = geo_coords.iloc[i]['Longitude:']\n",
    "    #hospitals\n",
    "    temp_url = url.format(CLIENT_ID, CLIENT_SECRET, lat, long, CAT_IDs['Hospital'], VERSION, radius, LIMIT)\n",
    "    results = requests.get(temp_url).json()\n",
    "    hps = results['response']['venues']\n",
    "    hp_df=hp_df.append(json_normalize(hps), ignore_index=True)\n",
    "    #pharmacies\n",
    "    temp_url = url.format(CLIENT_ID, CLIENT_SECRET, lat, long, CAT_IDs['Pharmacy'], VERSION, radius, LIMIT)\n",
    "    results = requests.get(temp_url).json()\n",
    "    hps = results['response']['venues']\n",
    "    hp_df=hp_df.append(json_normalize(hps), ignore_index=True)\n",
    "    i+=1\n",
    "hp_df"
   ]
  },
  {
   "cell_type": "markdown",
   "metadata": {},
   "source": [
    "Filters to get unique Pharmacy and Hospital Locations"
   ]
  },
  {
   "cell_type": "code",
   "execution_count": 14,
   "metadata": {},
   "outputs": [
    {
     "data": {
      "text/html": [
       "<div>\n",
       "<style scoped>\n",
       "    .dataframe tbody tr th:only-of-type {\n",
       "        vertical-align: middle;\n",
       "    }\n",
       "\n",
       "    .dataframe tbody tr th {\n",
       "        vertical-align: top;\n",
       "    }\n",
       "\n",
       "    .dataframe thead th {\n",
       "        text-align: right;\n",
       "    }\n",
       "</style>\n",
       "<table border=\"1\" class=\"dataframe\">\n",
       "  <thead>\n",
       "    <tr style=\"text-align: right;\">\n",
       "      <th></th>\n",
       "      <th>categories</th>\n",
       "      <th>hasPerk</th>\n",
       "      <th>id</th>\n",
       "      <th>location.address</th>\n",
       "      <th>location.cc</th>\n",
       "      <th>location.city</th>\n",
       "      <th>location.country</th>\n",
       "      <th>location.crossStreet</th>\n",
       "      <th>location.distance</th>\n",
       "      <th>location.formattedAddress</th>\n",
       "      <th>location.labeledLatLngs</th>\n",
       "      <th>location.lat</th>\n",
       "      <th>location.lng</th>\n",
       "      <th>location.neighborhood</th>\n",
       "      <th>location.postalCode</th>\n",
       "      <th>location.state</th>\n",
       "      <th>name</th>\n",
       "      <th>referralId</th>\n",
       "      <th>venuePage.id</th>\n",
       "    </tr>\n",
       "  </thead>\n",
       "  <tbody>\n",
       "    <tr>\n",
       "      <td>0</td>\n",
       "      <td>[{'id': '5032891291d4c4b30a586d68', 'name': 'A...</td>\n",
       "      <td>False</td>\n",
       "      <td>4ed664e22fb6cc941132ed13</td>\n",
       "      <td>215 Huber Village Blvd</td>\n",
       "      <td>US</td>\n",
       "      <td>Westerville</td>\n",
       "      <td>United States</td>\n",
       "      <td>NaN</td>\n",
       "      <td>1650</td>\n",
       "      <td>[215 Huber Village Blvd, Westerville, OH 43081...</td>\n",
       "      <td>[{'label': 'display', 'lat': 40.102667, 'lng':...</td>\n",
       "      <td>40.102667</td>\n",
       "      <td>-82.916989</td>\n",
       "      <td>NaN</td>\n",
       "      <td>43081</td>\n",
       "      <td>OH</td>\n",
       "      <td>The Village At Westerville</td>\n",
       "      <td>v-1598119890</td>\n",
       "      <td>NaN</td>\n",
       "    </tr>\n",
       "    <tr>\n",
       "      <td>1</td>\n",
       "      <td>[{'id': '4bf58dd8d48988d196941735', 'name': 'H...</td>\n",
       "      <td>False</td>\n",
       "      <td>4c3763da1e06d13ae6d7753e</td>\n",
       "      <td>454 Lazelle Rd</td>\n",
       "      <td>US</td>\n",
       "      <td>Columbus</td>\n",
       "      <td>United States</td>\n",
       "      <td>Sancus</td>\n",
       "      <td>8913</td>\n",
       "      <td>[454 Lazelle Rd (Sancus), Columbus, OH 43240, ...</td>\n",
       "      <td>[{'label': 'display', 'lat': 40.136307, 'lng':...</td>\n",
       "      <td>40.136307</td>\n",
       "      <td>-82.995064</td>\n",
       "      <td>NaN</td>\n",
       "      <td>43240</td>\n",
       "      <td>OH</td>\n",
       "      <td>Lifetime Pet Wellness</td>\n",
       "      <td>v-1598119890</td>\n",
       "      <td>68773130</td>\n",
       "    </tr>\n",
       "    <tr>\n",
       "      <td>2</td>\n",
       "      <td>[{'id': '4bf58dd8d48988d196941735', 'name': 'H...</td>\n",
       "      <td>False</td>\n",
       "      <td>501d17b8e4b09fbdec1c12c9</td>\n",
       "      <td>NaN</td>\n",
       "      <td>US</td>\n",
       "      <td>Columbus</td>\n",
       "      <td>United States</td>\n",
       "      <td>NaN</td>\n",
       "      <td>11751</td>\n",
       "      <td>[Columbus, OH 43223, United States]</td>\n",
       "      <td>[{'label': 'display', 'lat': 40.11014760015202...</td>\n",
       "      <td>40.110148</td>\n",
       "      <td>-83.036035</td>\n",
       "      <td>NaN</td>\n",
       "      <td>43223</td>\n",
       "      <td>OH</td>\n",
       "      <td>H12B HEM/ONC At NCH</td>\n",
       "      <td>v-1598119890</td>\n",
       "      <td>NaN</td>\n",
       "    </tr>\n",
       "    <tr>\n",
       "      <td>3</td>\n",
       "      <td>[{'id': '4bf58dd8d48988d196941735', 'name': 'H...</td>\n",
       "      <td>False</td>\n",
       "      <td>5dfd0cb4028e6200087814c4</td>\n",
       "      <td>4049 The Strand E</td>\n",
       "      <td>US</td>\n",
       "      <td>Columbus</td>\n",
       "      <td>United States</td>\n",
       "      <td>NaN</td>\n",
       "      <td>6156</td>\n",
       "      <td>[4049 The Strand E, Columbus, OH 43219, United...</td>\n",
       "      <td>[{'label': 'display', 'lat': 40.0523189, 'lng'...</td>\n",
       "      <td>40.052319</td>\n",
       "      <td>-82.915226</td>\n",
       "      <td>NaN</td>\n",
       "      <td>43219</td>\n",
       "      <td>OH</td>\n",
       "      <td>Warby Parker</td>\n",
       "      <td>v-1598119890</td>\n",
       "      <td>566857031</td>\n",
       "    </tr>\n",
       "    <tr>\n",
       "      <td>4</td>\n",
       "      <td>[{'id': '4bf58dd8d48988d196941735', 'name': 'H...</td>\n",
       "      <td>False</td>\n",
       "      <td>4b391ed3f964a520985625e3</td>\n",
       "      <td>500 S Cleveland Ave</td>\n",
       "      <td>US</td>\n",
       "      <td>Westerville</td>\n",
       "      <td>United States</td>\n",
       "      <td>NaN</td>\n",
       "      <td>4270</td>\n",
       "      <td>[500 S Cleveland Ave, Westerville, OH 43081, U...</td>\n",
       "      <td>[{'label': 'display', 'lat': 40.11448386021365...</td>\n",
       "      <td>40.114484</td>\n",
       "      <td>-82.947050</td>\n",
       "      <td>NaN</td>\n",
       "      <td>43081</td>\n",
       "      <td>OH</td>\n",
       "      <td>Mount Carmel St. Ann's Hospital</td>\n",
       "      <td>v-1598119890</td>\n",
       "      <td>NaN</td>\n",
       "    </tr>\n",
       "    <tr>\n",
       "      <td>...</td>\n",
       "      <td>...</td>\n",
       "      <td>...</td>\n",
       "      <td>...</td>\n",
       "      <td>...</td>\n",
       "      <td>...</td>\n",
       "      <td>...</td>\n",
       "      <td>...</td>\n",
       "      <td>...</td>\n",
       "      <td>...</td>\n",
       "      <td>...</td>\n",
       "      <td>...</td>\n",
       "      <td>...</td>\n",
       "      <td>...</td>\n",
       "      <td>...</td>\n",
       "      <td>...</td>\n",
       "      <td>...</td>\n",
       "      <td>...</td>\n",
       "      <td>...</td>\n",
       "      <td>...</td>\n",
       "    </tr>\n",
       "    <tr>\n",
       "      <td>2818</td>\n",
       "      <td>[{'id': '4bf58dd8d48988d10f951735', 'name': 'P...</td>\n",
       "      <td>False</td>\n",
       "      <td>5d9e9ac2d517730008146b28</td>\n",
       "      <td>4004 Presidential Pkwy</td>\n",
       "      <td>US</td>\n",
       "      <td>Powell</td>\n",
       "      <td>United States</td>\n",
       "      <td>NaN</td>\n",
       "      <td>9474</td>\n",
       "      <td>[4004 Presidential Pkwy, Powell, OH 43065, Uni...</td>\n",
       "      <td>[{'label': 'display', 'lat': 40.14919, 'lng': ...</td>\n",
       "      <td>40.149190</td>\n",
       "      <td>-83.091280</td>\n",
       "      <td>NaN</td>\n",
       "      <td>43065</td>\n",
       "      <td>OH</td>\n",
       "      <td>Powell Pharmacy</td>\n",
       "      <td>v-1598119914</td>\n",
       "      <td>NaN</td>\n",
       "    </tr>\n",
       "    <tr>\n",
       "      <td>2819</td>\n",
       "      <td>[{'id': '4bf58dd8d48988d10f951735', 'name': 'P...</td>\n",
       "      <td>False</td>\n",
       "      <td>5824c435cb369f081cee397a</td>\n",
       "      <td>7730 Sawmill Road</td>\n",
       "      <td>US</td>\n",
       "      <td>Dublin</td>\n",
       "      <td>United States</td>\n",
       "      <td>NaN</td>\n",
       "      <td>9512</td>\n",
       "      <td>[7730 Sawmill Road, Dublin, OH 43016, United S...</td>\n",
       "      <td>[{'label': 'display', 'lat': 40.12437938144518...</td>\n",
       "      <td>40.124379</td>\n",
       "      <td>-83.088128</td>\n",
       "      <td>NaN</td>\n",
       "      <td>43016</td>\n",
       "      <td>OH</td>\n",
       "      <td>Walmart Pharmacy</td>\n",
       "      <td>v-1598119914</td>\n",
       "      <td>NaN</td>\n",
       "    </tr>\n",
       "    <tr>\n",
       "      <td>2826</td>\n",
       "      <td>[{'id': '4bf58dd8d48988d10f951735', 'name': 'P...</td>\n",
       "      <td>False</td>\n",
       "      <td>4c6ee2b69c6d6dcb75d7cd7a</td>\n",
       "      <td>1202 County Line Rd</td>\n",
       "      <td>US</td>\n",
       "      <td>Westerville</td>\n",
       "      <td>United States</td>\n",
       "      <td>NaN</td>\n",
       "      <td>8101</td>\n",
       "      <td>[1202 County Line Rd, Westerville, OH 43081, U...</td>\n",
       "      <td>[{'label': 'display', 'lat': 40.13218479219031...</td>\n",
       "      <td>40.132185</td>\n",
       "      <td>-82.886545</td>\n",
       "      <td>NaN</td>\n",
       "      <td>43081</td>\n",
       "      <td>OH</td>\n",
       "      <td>CVS pharmacy</td>\n",
       "      <td>v-1598119914</td>\n",
       "      <td>NaN</td>\n",
       "    </tr>\n",
       "    <tr>\n",
       "      <td>2840</td>\n",
       "      <td>[{'id': '4bf58dd8d48988d10f951735', 'name': 'P...</td>\n",
       "      <td>False</td>\n",
       "      <td>4e3af8321838961aff06a1d0</td>\n",
       "      <td>NaN</td>\n",
       "      <td>US</td>\n",
       "      <td>Lewis Center</td>\n",
       "      <td>United States</td>\n",
       "      <td>NaN</td>\n",
       "      <td>3754</td>\n",
       "      <td>[Lewis Center, OH, United States]</td>\n",
       "      <td>[{'label': 'display', 'lat': 40.16502, 'lng': ...</td>\n",
       "      <td>40.165020</td>\n",
       "      <td>-83.016482</td>\n",
       "      <td>NaN</td>\n",
       "      <td>NaN</td>\n",
       "      <td>OH</td>\n",
       "      <td>Dr. Scholl's Custon Fit Orthotic Center</td>\n",
       "      <td>v-1598119914</td>\n",
       "      <td>NaN</td>\n",
       "    </tr>\n",
       "    <tr>\n",
       "      <td>2842</td>\n",
       "      <td>[{'id': '4bf58dd8d48988d10f951735', 'name': 'P...</td>\n",
       "      <td>False</td>\n",
       "      <td>4e57cc74b9935d203cfe092f</td>\n",
       "      <td>493 Village Park Dr</td>\n",
       "      <td>US</td>\n",
       "      <td>Powell</td>\n",
       "      <td>United States</td>\n",
       "      <td>Seldom Seen Road</td>\n",
       "      <td>9040</td>\n",
       "      <td>[493 Village Park Dr (Seldom Seen Road), Powel...</td>\n",
       "      <td>[{'label': 'display', 'lat': 40.16824899999999...</td>\n",
       "      <td>40.168249</td>\n",
       "      <td>-83.082216</td>\n",
       "      <td>NaN</td>\n",
       "      <td>43065</td>\n",
       "      <td>OH</td>\n",
       "      <td>EyeScience Labs</td>\n",
       "      <td>v-1598119914</td>\n",
       "      <td>58571894</td>\n",
       "    </tr>\n",
       "  </tbody>\n",
       "</table>\n",
       "<p>372 rows × 19 columns</p>\n",
       "</div>"
      ],
      "text/plain": [
       "                                             categories  hasPerk  \\\n",
       "0     [{'id': '5032891291d4c4b30a586d68', 'name': 'A...    False   \n",
       "1     [{'id': '4bf58dd8d48988d196941735', 'name': 'H...    False   \n",
       "2     [{'id': '4bf58dd8d48988d196941735', 'name': 'H...    False   \n",
       "3     [{'id': '4bf58dd8d48988d196941735', 'name': 'H...    False   \n",
       "4     [{'id': '4bf58dd8d48988d196941735', 'name': 'H...    False   \n",
       "...                                                 ...      ...   \n",
       "2818  [{'id': '4bf58dd8d48988d10f951735', 'name': 'P...    False   \n",
       "2819  [{'id': '4bf58dd8d48988d10f951735', 'name': 'P...    False   \n",
       "2826  [{'id': '4bf58dd8d48988d10f951735', 'name': 'P...    False   \n",
       "2840  [{'id': '4bf58dd8d48988d10f951735', 'name': 'P...    False   \n",
       "2842  [{'id': '4bf58dd8d48988d10f951735', 'name': 'P...    False   \n",
       "\n",
       "                            id        location.address location.cc  \\\n",
       "0     4ed664e22fb6cc941132ed13  215 Huber Village Blvd          US   \n",
       "1     4c3763da1e06d13ae6d7753e          454 Lazelle Rd          US   \n",
       "2     501d17b8e4b09fbdec1c12c9                     NaN          US   \n",
       "3     5dfd0cb4028e6200087814c4       4049 The Strand E          US   \n",
       "4     4b391ed3f964a520985625e3     500 S Cleveland Ave          US   \n",
       "...                        ...                     ...         ...   \n",
       "2818  5d9e9ac2d517730008146b28  4004 Presidential Pkwy          US   \n",
       "2819  5824c435cb369f081cee397a       7730 Sawmill Road          US   \n",
       "2826  4c6ee2b69c6d6dcb75d7cd7a     1202 County Line Rd          US   \n",
       "2840  4e3af8321838961aff06a1d0                     NaN          US   \n",
       "2842  4e57cc74b9935d203cfe092f     493 Village Park Dr          US   \n",
       "\n",
       "     location.city location.country location.crossStreet  location.distance  \\\n",
       "0      Westerville    United States                  NaN               1650   \n",
       "1         Columbus    United States               Sancus               8913   \n",
       "2         Columbus    United States                  NaN              11751   \n",
       "3         Columbus    United States                  NaN               6156   \n",
       "4      Westerville    United States                  NaN               4270   \n",
       "...            ...              ...                  ...                ...   \n",
       "2818        Powell    United States                  NaN               9474   \n",
       "2819        Dublin    United States                  NaN               9512   \n",
       "2826   Westerville    United States                  NaN               8101   \n",
       "2840  Lewis Center    United States                  NaN               3754   \n",
       "2842        Powell    United States     Seldom Seen Road               9040   \n",
       "\n",
       "                              location.formattedAddress  \\\n",
       "0     [215 Huber Village Blvd, Westerville, OH 43081...   \n",
       "1     [454 Lazelle Rd (Sancus), Columbus, OH 43240, ...   \n",
       "2                   [Columbus, OH 43223, United States]   \n",
       "3     [4049 The Strand E, Columbus, OH 43219, United...   \n",
       "4     [500 S Cleveland Ave, Westerville, OH 43081, U...   \n",
       "...                                                 ...   \n",
       "2818  [4004 Presidential Pkwy, Powell, OH 43065, Uni...   \n",
       "2819  [7730 Sawmill Road, Dublin, OH 43016, United S...   \n",
       "2826  [1202 County Line Rd, Westerville, OH 43081, U...   \n",
       "2840                  [Lewis Center, OH, United States]   \n",
       "2842  [493 Village Park Dr (Seldom Seen Road), Powel...   \n",
       "\n",
       "                                location.labeledLatLngs  location.lat  \\\n",
       "0     [{'label': 'display', 'lat': 40.102667, 'lng':...     40.102667   \n",
       "1     [{'label': 'display', 'lat': 40.136307, 'lng':...     40.136307   \n",
       "2     [{'label': 'display', 'lat': 40.11014760015202...     40.110148   \n",
       "3     [{'label': 'display', 'lat': 40.0523189, 'lng'...     40.052319   \n",
       "4     [{'label': 'display', 'lat': 40.11448386021365...     40.114484   \n",
       "...                                                 ...           ...   \n",
       "2818  [{'label': 'display', 'lat': 40.14919, 'lng': ...     40.149190   \n",
       "2819  [{'label': 'display', 'lat': 40.12437938144518...     40.124379   \n",
       "2826  [{'label': 'display', 'lat': 40.13218479219031...     40.132185   \n",
       "2840  [{'label': 'display', 'lat': 40.16502, 'lng': ...     40.165020   \n",
       "2842  [{'label': 'display', 'lat': 40.16824899999999...     40.168249   \n",
       "\n",
       "      location.lng location.neighborhood location.postalCode location.state  \\\n",
       "0       -82.916989                   NaN               43081             OH   \n",
       "1       -82.995064                   NaN               43240             OH   \n",
       "2       -83.036035                   NaN               43223             OH   \n",
       "3       -82.915226                   NaN               43219             OH   \n",
       "4       -82.947050                   NaN               43081             OH   \n",
       "...            ...                   ...                 ...            ...   \n",
       "2818    -83.091280                   NaN               43065             OH   \n",
       "2819    -83.088128                   NaN               43016             OH   \n",
       "2826    -82.886545                   NaN               43081             OH   \n",
       "2840    -83.016482                   NaN                 NaN             OH   \n",
       "2842    -83.082216                   NaN               43065             OH   \n",
       "\n",
       "                                         name    referralId venuePage.id  \n",
       "0                  The Village At Westerville  v-1598119890          NaN  \n",
       "1                       Lifetime Pet Wellness  v-1598119890     68773130  \n",
       "2                         H12B HEM/ONC At NCH  v-1598119890          NaN  \n",
       "3                                Warby Parker  v-1598119890    566857031  \n",
       "4             Mount Carmel St. Ann's Hospital  v-1598119890          NaN  \n",
       "...                                       ...           ...          ...  \n",
       "2818                          Powell Pharmacy  v-1598119914          NaN  \n",
       "2819                         Walmart Pharmacy  v-1598119914          NaN  \n",
       "2826                             CVS pharmacy  v-1598119914          NaN  \n",
       "2840  Dr. Scholl's Custon Fit Orthotic Center  v-1598119914          NaN  \n",
       "2842                          EyeScience Labs  v-1598119914     58571894  \n",
       "\n",
       "[372 rows x 19 columns]"
      ]
     },
     "execution_count": 14,
     "metadata": {},
     "output_type": "execute_result"
    }
   ],
   "source": [
    "hp_df=hp_df.drop_duplicates(['id'])\n",
    "hp_df"
   ]
  },
  {
   "cell_type": "markdown",
   "metadata": {},
   "source": [
    "## COVID-19 Numbers"
   ]
  },
  {
   "cell_type": "code",
   "execution_count": 21,
   "metadata": {},
   "outputs": [
    {
     "name": "stdout",
     "output_type": "stream",
     "text": [
      "https://public.tableau.com/views/COVID-19OutbreakSummary_15918845768300/COVID19Summaryp3?:embed=y&:showAppBanner=false&:showShareOptions=true&:display_count=no&:showVizHome=no\n",
      "https://public.tableau.com/vizql/w/COVID-19OutbreakSummary_15918845768300/v/COVID19Summaryp3/bootstrapSession/sessions/9FA0ECDB23A049EFBA7461A60D16D595-0:0\n",
      "{'secondaryInfo': {}}\n"
     ]
    }
   ],
   "source": [
    "import requests\n",
    "from bs4 import BeautifulSoup\n",
    "import json\n",
    "import re\n",
    "#TODO figure out how to webscrape COVID-19 data from graph\n",
    "r = requests.get(\n",
    "    f\"https://public.tableau.com/views/COVID-19OutbreakSummary_15918845768300/COVID19Summaryp3\",\n",
    "     params= {\n",
    "        \":embed\":\"y\",\n",
    "        \":showAppBanner\":\"false\",\n",
    "        \":showShareOptions\":\"true\",\n",
    "        \":display_count\":\"no\",\n",
    "    }\n",
    ")\n",
    "print(r.url)\n",
    "soup = BeautifulSoup(r.text, \"html.parser\")\n",
    "\n",
    "tableauData = json.loads(soup.find(\"textarea\",{\"id\": \"tsConfigContainer\"}).text)\n",
    "\n",
    "dataUrl = f'https://public.tableau.com{tableauData[\"vizql_root\"]}/bootstrapSession/sessions/{tableauData[\"sessionid\"]}'\n",
    "r = requests.post(dataUrl, data= {\n",
    "    \"sheet_id\": tableauData[\"sheetId\"],\n",
    "})\n",
    "dataReg = re.search('\\d+;({.*})\\d+;({.*})', r.text, re.MULTILINE)\n",
    "info = json.loads(dataReg.group(1))\n",
    "data = json.loads(dataReg.group(2))\n",
    "#print(info)\n",
    "print(data[\"secondaryInfo\"][\"presModelMap\"][\"dataDictionary\"][\"presModelHolder\"][\"genDataDictionaryPresModel\"][\"dataSegments\"][\"0\"][\"dataColumns\"])\n",
    "#<_sre.SRE_Match object; span=(0, 109884), match='72955;{\"sheetName\":\"DASH: Patients v discharges\",>"
   ]
  },
  {
   "cell_type": "markdown",
   "metadata": {},
   "source": [
    "## COVID-19 Testing Locations"
   ]
  },
  {
   "cell_type": "markdown",
   "metadata": {},
   "source": [
    "Install package"
   ]
  },
  {
   "cell_type": "code",
   "execution_count": 15,
   "metadata": {},
   "outputs": [],
   "source": [
    "import PyPDF2\n",
    "# source of pdf scraping https://www.youtube.com/watch?v=UmPe07a3bWs"
   ]
  },
  {
   "cell_type": "markdown",
   "metadata": {},
   "source": [
    "Scrapes pdf itself"
   ]
  },
  {
   "cell_type": "code",
   "execution_count": 16,
   "metadata": {},
   "outputs": [
    {
     "name": "stderr",
     "output_type": "stream",
     "text": [
      "PdfReadWarning: Xref table not zero-indexed. ID numbers for objects will be corrected. [pdf.py:1736]\n"
     ]
    },
    {
     "name": "stdout",
     "output_type": "stream",
     "text": [
      "['COVID-19 Community Testing', 'No one will be turned away for inability to pay. Questions? Call Columbus Public Health at 614-645-1519.', '˜˚˛˝˙ˆˇ˘ˆ', '˜', '˜', 'Information compiled by ', 'Columbus Public Health; ', '7/16/2020', 'Columbus Public Health', ' (testing provided ', 'by Mount Carmel, OhioHealth and The Ohio ', 'State University Wexner Medical Center)', '614-645-1519', 'www.columbus.gov/coronavirus', '1. Columbus Public Health', '240 Parsons Ave., Columbus', 'Mon.-Fri. Œ 9 a.m.-4 p.m.', 'Heart of Ohio Family Health ', '614-235-5555', 'https://heartofohiofamilyhealth.org', '2. Capital Park Family Health Center ', '2365 Innis Rd., Columbus', 'Mon., Tue., Wed., Fri. Œ 8 a.m.-5 p.m.', 'Thu., Œ 8 a.m.-7:30 p.m.', '3. Whitehall Family Health Center ', '882 S. Hamilton Rd., Whitehall', 'Mon., Wed., Thu., Fri. Œ 8 a.m.-5 p.m.', 'Tue. Œ 8 a.m.-7:30 p.m.', 'Lower Lights Christian Health Center ', '614-274-1455', 'https://llchc.org/covid19', '4. Lower Lights at Mount Carmel West ', '777 W. State St., Columbus', 'Fri. Œ 9 a.m.-5 p.m.', 'PrimaryOne Health614-859-1895 ', 'www.primaryonehealth.org/covid19testing ', '5. PrimaryOne Health at the Health and ', 'Wellness Center  ', '2300 W. Broad St., Columbus', 'Mon., Wed., Fri. Œ 9 a.m.-1 p.m. ', '6. PrimaryOne Health at the John R. Maloney ', 'Health and Wellness Center ', '1905 Parsons Ave., Columbus', 'Mon., Wed., Fri. Œ 9 a.m.-1 p.m. ', '7. PrimaryOne Health ', '3433 Agler Rd., Columbus', 'Mon., Wed., Fri. Œ 9 a.m.-1 p.m.  ', '8. PrimaryOne Health at St. Stephens ', 'Community House', '1500 E. 17th Ave., Columbus', 'Mon., Wed., Fri. Œ 9 a.m.-1 p.m.  ', 'Equitas Health', '614-340-6700 ', 'https://equitashealth.com', '9. Equitas Health King-Lincoln Medical Center ', '750 E. Long St., Columbus', 'Telehealth Screening: Mon.-Fri. Œ 9 a.m.-1 p.m.', 'Testing: Mon.-Fri. Œ 11 a.m.-3 p.m.', 'Southeast Healthcare', ' 614-360-0160', '10. 86 N. Front St., Columbus', 'Mon., Wed., Fri. Œ 1-4 p.m', '---------------------------------------------------------------------------If you already have a primary care provider, contact them ', 'about getting tested for COVID-19. ', 'Preregistration and appointment is required for testing. Call testing organization to schedule. ', '']\n"
     ]
    }
   ],
   "source": [
    "import io\n",
    "\n",
    "import requests\n",
    "from PyPDF2 import PdfFileReader\n",
    "\n",
    "url = 'https://www.columbus.gov/uploadedFiles/Columbus/Departments/Public_Health/All_Programs/Emergency_Preparedness/Coronavirus/LocalTesting_FQHCs_7.16.2020.pdf'\n",
    "\n",
    "r = requests.get(url)\n",
    "f = io.BytesIO(r.content)\n",
    "\n",
    "reader = PdfFileReader(f)\n",
    "contents = reader.getPage(0).extractText().split('\\n')\n",
    "print(contents)"
   ]
  },
  {
   "cell_type": "markdown",
   "metadata": {},
   "source": [
    "Filters to grab address"
   ]
  },
  {
   "cell_type": "code",
   "execution_count": 36,
   "metadata": {},
   "outputs": [
    {
     "name": "stdout",
     "output_type": "stream",
     "text": [
      "['240 Parsons Ave., Columbus', '2365 Innis Rd., Columbus', '882 S. Hamilton Rd., Whitehall', '777 W. State St., Columbus', '2300 W. Broad St., Columbus', '1905 Parsons Ave., Columbus', '3433 Agler Rd., Columbus', '1500 E. 17th Ave., Columbus', '750 E. Long St., Columbus', ' 86 N. Front St., Columbus']\n"
     ]
    }
   ],
   "source": [
    "import re\n",
    "\n",
    "address_extract ='\\d+[ ](?:[A-Za-z0-9.-]+[ ]?)+(?:Avenue|Lane|Road|Boulevard|Drive|Street|Ave|Dr|Rd|Blvd|Ln|St)\\.?'\n",
    "p = re.compile(address_extract)\n",
    "testingLocations = [ content for content in contents if p.match(content)]\n",
    "p2 = re.compile('\\d+\\.')\n",
    "covid_test_providers = [ content for content in contents if p2.match(content)]\n",
    "testingLocations = testingLocations+[re.sub(\"\\d+\\.\",\"\",test) for test in covid_test_providers if re.search(address_extract,test)]\n",
    "print(testingLocations)"
   ]
  },
  {
   "cell_type": "markdown",
   "metadata": {},
   "source": [
    "# Awesome Selenium Webscraping Action"
   ]
  },
  {
   "cell_type": "code",
   "execution_count": 1,
   "metadata": {},
   "outputs": [],
   "source": [
    "from selenium import webdriver \n",
    "import time\n",
    "# import Action chains  \n",
    "from selenium.webdriver.common.action_chains import ActionChains \n",
    "driver = webdriver.Firefox()\n",
    "\n",
    "# Navigate to url\n",
    "driver.get(\"https://public.tableau.com/views/COVID-19OutbreakSummary_15918845768300/COVID19Summaryp3?%3Adisplay_count=y&%3Aorigin=viz_share_link&%3AshowVizHome=no\")\n",
    "\n",
    "# Store 'google search' button web element\n",
    "time.sleep(20)\n",
    "mapfre = driver.find_element_by_xpath(\"//*[@id=\\\"tabZoneId106\\\"]/div/div/div/div\")#//*[@id=\\\"view8239885986803340325_964909730081303188\\\"]/div[1]/div[2]\")\n",
    "#Set x and y offset positions of element\n",
    "xOffset = 0 \n",
    "yOffset = 0\n",
    "ActionChains(driver).move_to_element(mapfre).perform()\n",
    "ActionChains(driver).move_by_offset(xOffset,yOffset).perform()\n",
    "time.sleep(12)\n",
    "with open('temp_covid_zip.txt', 'w', encoding='utf-8') as f:\n",
    "    f.write(str(driver.page_source))"
   ]
  },
  {
   "cell_type": "code",
   "execution_count": 2,
   "metadata": {},
   "outputs": [
    {
     "name": "stdout",
     "output_type": "stream",
     "text": [
      "43211\n",
      "245 - 472\n"
     ]
    }
   ],
   "source": [
    "#this script works for extracting zip and cases range\n",
    "temp = ''\n",
    "with open('temp_covid_zip.txt', 'r') as fin:\n",
    "    temp = fin.read()\n",
    "from bs4 import BeautifulSoup\n",
    "soup = BeautifulSoup(temp, 'html.parser')\n",
    "table = soup.find_all('div')[len(soup.find_all('div'))-3].table #grabs the table which stores the data\n",
    "print(table.find_all('tr')[0].find_all('td')[2].string)\n",
    "print(table.find_all('tr')[1].find_all('td')[2].string)"
   ]
  },
  {
   "cell_type": "code",
   "execution_count": null,
   "metadata": {},
   "outputs": [],
   "source": [
    "#Use for Y: -39 to start off with to go from 43211 to 43224"
   ]
  }
 ],
 "metadata": {
  "kernelspec": {
   "display_name": "Python 3.8.5 32-bit",
   "language": "python",
   "name": "python_defaultSpec_1600891600227"
  },
  "language_info": {
   "codemirror_mode": {
    "name": "ipython",
    "version": 3
   },
   "file_extension": ".py",
   "mimetype": "text/x-python",
   "name": "python",
   "nbconvert_exporter": "python",
   "pygments_lexer": "ipython3",
   "version": "3.8.5-final"
  }
 },
 "nbformat": 4,
 "nbformat_minor": 4
}